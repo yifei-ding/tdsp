{
 "cells": [
  {
   "cell_type": "code",
   "execution_count": 1,
   "id": "95db4a88",
   "metadata": {},
   "outputs": [],
   "source": [
    "# import required packages\n",
    "import pandas as pd\n",
    "import plotly.express as px\n",
    "import matplotlib.pyplot as plt\n",
    "import numpy as np\n",
    "import seaborn as sns; sns.set(style=\"ticks\", color_codes=True)\n",
    "import geopandas as gpd\n",
    "from geopandas import GeoDataFrame\n",
    "import json"
   ]
  },
  {
   "cell_type": "code",
   "execution_count": 50,
   "id": "038ccc99",
   "metadata": {},
   "outputs": [
    {
     "data": {
      "text/html": [
       "<div>\n",
       "<style scoped>\n",
       "    .dataframe tbody tr th:only-of-type {\n",
       "        vertical-align: middle;\n",
       "    }\n",
       "\n",
       "    .dataframe tbody tr th {\n",
       "        vertical-align: top;\n",
       "    }\n",
       "\n",
       "    .dataframe thead th {\n",
       "        text-align: right;\n",
       "    }\n",
       "</style>\n",
       "<table border=\"1\" class=\"dataframe\">\n",
       "  <thead>\n",
       "    <tr style=\"text-align: right;\">\n",
       "      <th></th>\n",
       "      <th>Unnamed: 0</th>\n",
       "      <th>timestep</th>\n",
       "      <th>lon</th>\n",
       "      <th>lat</th>\n",
       "      <th>timestep.1</th>\n",
       "      <th>type</th>\n",
       "      <th>size</th>\n",
       "    </tr>\n",
       "  </thead>\n",
       "  <tbody>\n",
       "    <tr>\n",
       "      <th>0</th>\n",
       "      <td>0</td>\n",
       "      <td>0.0</td>\n",
       "      <td>-174.000000</td>\n",
       "      <td>38.5</td>\n",
       "      <td>0.0</td>\n",
       "      <td>path1_no_obstacle</td>\n",
       "      <td>5</td>\n",
       "    </tr>\n",
       "    <tr>\n",
       "      <th>1</th>\n",
       "      <td>1</td>\n",
       "      <td>100.0</td>\n",
       "      <td>-175.149425</td>\n",
       "      <td>38.5</td>\n",
       "      <td>100.0</td>\n",
       "      <td>path1_no_obstacle</td>\n",
       "      <td>5</td>\n",
       "    </tr>\n",
       "    <tr>\n",
       "      <th>2</th>\n",
       "      <td>2</td>\n",
       "      <td>200.0</td>\n",
       "      <td>-176.298851</td>\n",
       "      <td>38.5</td>\n",
       "      <td>200.0</td>\n",
       "      <td>path1_no_obstacle</td>\n",
       "      <td>5</td>\n",
       "    </tr>\n",
       "    <tr>\n",
       "      <th>3</th>\n",
       "      <td>3</td>\n",
       "      <td>300.0</td>\n",
       "      <td>-177.448276</td>\n",
       "      <td>38.5</td>\n",
       "      <td>300.0</td>\n",
       "      <td>path1_no_obstacle</td>\n",
       "      <td>5</td>\n",
       "    </tr>\n",
       "    <tr>\n",
       "      <th>4</th>\n",
       "      <td>4</td>\n",
       "      <td>400.0</td>\n",
       "      <td>-178.597701</td>\n",
       "      <td>38.5</td>\n",
       "      <td>400.0</td>\n",
       "      <td>path1_no_obstacle</td>\n",
       "      <td>5</td>\n",
       "    </tr>\n",
       "  </tbody>\n",
       "</table>\n",
       "</div>"
      ],
      "text/plain": [
       "   Unnamed: 0  timestep         lon   lat  timestep.1               type  size\n",
       "0           0       0.0 -174.000000  38.5         0.0  path1_no_obstacle     5\n",
       "1           1     100.0 -175.149425  38.5       100.0  path1_no_obstacle     5\n",
       "2           2     200.0 -176.298851  38.5       200.0  path1_no_obstacle     5\n",
       "3           3     300.0 -177.448276  38.5       300.0  path1_no_obstacle     5\n",
       "4           4     400.0 -178.597701  38.5       400.0  path1_no_obstacle     5"
      ]
     },
     "execution_count": 50,
     "metadata": {},
     "output_type": "execute_result"
    }
   ],
   "source": [
    "px.set_mapbox_access_token(\"pk.eyJ1IjoieWVtaS0yMyIsImEiOiJjbDEzZzl6MWswZWg5M2lzNmx4dGoza2U5In0.meLrG_2lR0ob4ZqA_ZGiPw\")\n",
    "df = pd.read_csv('comparison.csv')\n",
    "df.head()"
   ]
  },
  {
   "cell_type": "code",
   "execution_count": 51,
   "id": "81bedd3f",
   "metadata": {},
   "outputs": [
    {
     "data": {
      "application/vnd.plotly.v1+json": {
       "config": {
        "plotlyServerURL": "https://plot.ly"
       },
       "data": [
        {
         "hovertemplate": "<b>%{hovertext}</b><br><br>type=path1_no_obstacle<br>timestep=0.0<br>size=%{marker.size}<br>lat=%{lat}<br>lon=%{lon}<extra></extra>",
         "hovertext": [
          "path1_no_obstacle"
         ],
         "lat": [
          38.5
         ],
         "legendgroup": "path1_no_obstacle",
         "lon": [
          -174
         ],
         "marker": {
          "color": "#636efa",
          "size": [
           5
          ],
          "sizemode": "area",
          "sizeref": 0.0125
         },
         "mode": "markers",
         "name": "path1_no_obstacle",
         "showlegend": true,
         "subplot": "mapbox",
         "type": "scattermapbox"
        },
        {
         "hovertemplate": "<b>%{hovertext}</b><br><br>type=path1<br>timestep=0.0<br>size=%{marker.size}<br>lat=%{lat}<br>lon=%{lon}<extra></extra>",
         "hovertext": [
          "path1"
         ],
         "lat": [
          38.5
         ],
         "legendgroup": "path1",
         "lon": [
          -174
         ],
         "marker": {
          "color": "#EF553B",
          "size": [
           5
          ],
          "sizemode": "area",
          "sizeref": 0.0125
         },
         "mode": "markers",
         "name": "path1",
         "showlegend": true,
         "subplot": "mapbox",
         "type": "scattermapbox"
        }
       ],
       "frames": [
        {
         "data": [
          {
           "hovertemplate": "<b>%{hovertext}</b><br><br>type=path1_no_obstacle<br>timestep=0.0<br>size=%{marker.size}<br>lat=%{lat}<br>lon=%{lon}<extra></extra>",
           "hovertext": [
            "path1_no_obstacle"
           ],
           "lat": [
            38.5
           ],
           "legendgroup": "path1_no_obstacle",
           "lon": [
            -174
           ],
           "marker": {
            "color": "#636efa",
            "size": [
             5
            ],
            "sizemode": "area",
            "sizeref": 0.0125
           },
           "mode": "markers",
           "name": "path1_no_obstacle",
           "showlegend": true,
           "subplot": "mapbox",
           "type": "scattermapbox"
          },
          {
           "hovertemplate": "<b>%{hovertext}</b><br><br>type=path1<br>timestep=0.0<br>size=%{marker.size}<br>lat=%{lat}<br>lon=%{lon}<extra></extra>",
           "hovertext": [
            "path1"
           ],
           "lat": [
            38.5
           ],
           "legendgroup": "path1",
           "lon": [
            -174
           ],
           "marker": {
            "color": "#EF553B",
            "size": [
             5
            ],
            "sizemode": "area",
            "sizeref": 0.0125
           },
           "mode": "markers",
           "name": "path1",
           "showlegend": true,
           "subplot": "mapbox",
           "type": "scattermapbox"
          }
         ],
         "name": "0.0"
        },
        {
         "data": [
          {
           "hovertemplate": "<b>%{hovertext}</b><br><br>type=path1_no_obstacle<br>timestep=100.0<br>size=%{marker.size}<br>lat=%{lat}<br>lon=%{lon}<extra></extra>",
           "hovertext": [
            "path1_no_obstacle"
           ],
           "lat": [
            38.5
           ],
           "legendgroup": "path1_no_obstacle",
           "lon": [
            -175.1494252873563
           ],
           "marker": {
            "color": "#636efa",
            "size": [
             5
            ],
            "sizemode": "area",
            "sizeref": 0.0125
           },
           "mode": "markers",
           "name": "path1_no_obstacle",
           "showlegend": true,
           "subplot": "mapbox",
           "type": "scattermapbox"
          },
          {
           "hovertemplate": "<b>%{hovertext}</b><br><br>type=path1<br>timestep=100.0<br>size=%{marker.size}<br>lat=%{lat}<br>lon=%{lon}<extra></extra>",
           "hovertext": [
            "path1"
           ],
           "lat": [
            38.5
           ],
           "legendgroup": "path1",
           "lon": [
            -175.1494252873563
           ],
           "marker": {
            "color": "#EF553B",
            "size": [
             5
            ],
            "sizemode": "area",
            "sizeref": 0.0125
           },
           "mode": "markers",
           "name": "path1",
           "showlegend": true,
           "subplot": "mapbox",
           "type": "scattermapbox"
          }
         ],
         "name": "100.0"
        },
        {
         "data": [
          {
           "hovertemplate": "<b>%{hovertext}</b><br><br>type=path1_no_obstacle<br>timestep=200.0<br>size=%{marker.size}<br>lat=%{lat}<br>lon=%{lon}<extra></extra>",
           "hovertext": [
            "path1_no_obstacle"
           ],
           "lat": [
            38.5
           ],
           "legendgroup": "path1_no_obstacle",
           "lon": [
            -176.29885057471265
           ],
           "marker": {
            "color": "#636efa",
            "size": [
             5
            ],
            "sizemode": "area",
            "sizeref": 0.0125
           },
           "mode": "markers",
           "name": "path1_no_obstacle",
           "showlegend": true,
           "subplot": "mapbox",
           "type": "scattermapbox"
          },
          {
           "hovertemplate": "<b>%{hovertext}</b><br><br>type=path1<br>timestep=200.0<br>size=%{marker.size}<br>lat=%{lat}<br>lon=%{lon}<extra></extra>",
           "hovertext": [
            "path1"
           ],
           "lat": [
            38.5
           ],
           "legendgroup": "path1",
           "lon": [
            -176.29885057471265
           ],
           "marker": {
            "color": "#EF553B",
            "size": [
             5
            ],
            "sizemode": "area",
            "sizeref": 0.0125
           },
           "mode": "markers",
           "name": "path1",
           "showlegend": true,
           "subplot": "mapbox",
           "type": "scattermapbox"
          }
         ],
         "name": "200.0"
        },
        {
         "data": [
          {
           "hovertemplate": "<b>%{hovertext}</b><br><br>type=path1_no_obstacle<br>timestep=300.0<br>size=%{marker.size}<br>lat=%{lat}<br>lon=%{lon}<extra></extra>",
           "hovertext": [
            "path1_no_obstacle"
           ],
           "lat": [
            38.5
           ],
           "legendgroup": "path1_no_obstacle",
           "lon": [
            -177.44827586206895
           ],
           "marker": {
            "color": "#636efa",
            "size": [
             5
            ],
            "sizemode": "area",
            "sizeref": 0.0125
           },
           "mode": "markers",
           "name": "path1_no_obstacle",
           "showlegend": true,
           "subplot": "mapbox",
           "type": "scattermapbox"
          },
          {
           "hovertemplate": "<b>%{hovertext}</b><br><br>type=path1<br>timestep=300.0<br>size=%{marker.size}<br>lat=%{lat}<br>lon=%{lon}<extra></extra>",
           "hovertext": [
            "path1"
           ],
           "lat": [
            38.5
           ],
           "legendgroup": "path1",
           "lon": [
            -177.44827586206895
           ],
           "marker": {
            "color": "#EF553B",
            "size": [
             5
            ],
            "sizemode": "area",
            "sizeref": 0.0125
           },
           "mode": "markers",
           "name": "path1",
           "showlegend": true,
           "subplot": "mapbox",
           "type": "scattermapbox"
          }
         ],
         "name": "300.0"
        },
        {
         "data": [
          {
           "hovertemplate": "<b>%{hovertext}</b><br><br>type=path1_no_obstacle<br>timestep=400.0<br>size=%{marker.size}<br>lat=%{lat}<br>lon=%{lon}<extra></extra>",
           "hovertext": [
            "path1_no_obstacle"
           ],
           "lat": [
            38.5
           ],
           "legendgroup": "path1_no_obstacle",
           "lon": [
            -178.5977011494253
           ],
           "marker": {
            "color": "#636efa",
            "size": [
             5
            ],
            "sizemode": "area",
            "sizeref": 0.0125
           },
           "mode": "markers",
           "name": "path1_no_obstacle",
           "showlegend": true,
           "subplot": "mapbox",
           "type": "scattermapbox"
          },
          {
           "hovertemplate": "<b>%{hovertext}</b><br><br>type=path1<br>timestep=400.0<br>size=%{marker.size}<br>lat=%{lat}<br>lon=%{lon}<extra></extra>",
           "hovertext": [
            "path1"
           ],
           "lat": [
            38.5
           ],
           "legendgroup": "path1",
           "lon": [
            -178.5977011494253
           ],
           "marker": {
            "color": "#EF553B",
            "size": [
             5
            ],
            "sizemode": "area",
            "sizeref": 0.0125
           },
           "mode": "markers",
           "name": "path1",
           "showlegend": true,
           "subplot": "mapbox",
           "type": "scattermapbox"
          }
         ],
         "name": "400.0"
        },
        {
         "data": [
          {
           "hovertemplate": "<b>%{hovertext}</b><br><br>type=path1_no_obstacle<br>timestep=500.0<br>size=%{marker.size}<br>lat=%{lat}<br>lon=%{lon}<extra></extra>",
           "hovertext": [
            "path1_no_obstacle"
           ],
           "lat": [
            38.5
           ],
           "legendgroup": "path1_no_obstacle",
           "lon": [
            -179.7471264367816
           ],
           "marker": {
            "color": "#636efa",
            "size": [
             5
            ],
            "sizemode": "area",
            "sizeref": 0.0125
           },
           "mode": "markers",
           "name": "path1_no_obstacle",
           "showlegend": true,
           "subplot": "mapbox",
           "type": "scattermapbox"
          },
          {
           "hovertemplate": "<b>%{hovertext}</b><br><br>type=path1<br>timestep=500.0<br>size=%{marker.size}<br>lat=%{lat}<br>lon=%{lon}<extra></extra>",
           "hovertext": [
            "path1"
           ],
           "lat": [
            38.5
           ],
           "legendgroup": "path1",
           "lon": [
            -179.7471264367816
           ],
           "marker": {
            "color": "#EF553B",
            "size": [
             5
            ],
            "sizemode": "area",
            "sizeref": 0.0125
           },
           "mode": "markers",
           "name": "path1",
           "showlegend": true,
           "subplot": "mapbox",
           "type": "scattermapbox"
          }
         ],
         "name": "500.0"
        },
        {
         "data": [
          {
           "hovertemplate": "<b>%{hovertext}</b><br><br>type=path1_no_obstacle<br>timestep=600.0<br>size=%{marker.size}<br>lat=%{lat}<br>lon=%{lon}<extra></extra>",
           "hovertext": [
            "path1_no_obstacle"
           ],
           "lat": [
            38.5
           ],
           "legendgroup": "path1_no_obstacle",
           "lon": [
            179.10344827586206
           ],
           "marker": {
            "color": "#636efa",
            "size": [
             5
            ],
            "sizemode": "area",
            "sizeref": 0.0125
           },
           "mode": "markers",
           "name": "path1_no_obstacle",
           "showlegend": true,
           "subplot": "mapbox",
           "type": "scattermapbox"
          },
          {
           "hovertemplate": "<b>%{hovertext}</b><br><br>type=path1<br>timestep=600.0<br>size=%{marker.size}<br>lat=%{lat}<br>lon=%{lon}<extra></extra>",
           "hovertext": [
            "path1"
           ],
           "lat": [
            38.5
           ],
           "legendgroup": "path1",
           "lon": [
            179.10344827586206
           ],
           "marker": {
            "color": "#EF553B",
            "size": [
             5
            ],
            "sizemode": "area",
            "sizeref": 0.0125
           },
           "mode": "markers",
           "name": "path1",
           "showlegend": true,
           "subplot": "mapbox",
           "type": "scattermapbox"
          }
         ],
         "name": "600.0"
        },
        {
         "data": [
          {
           "hovertemplate": "<b>%{hovertext}</b><br><br>type=path1_no_obstacle<br>timestep=700.0<br>size=%{marker.size}<br>lat=%{lat}<br>lon=%{lon}<extra></extra>",
           "hovertext": [
            "path1_no_obstacle"
           ],
           "lat": [
            38.5
           ],
           "legendgroup": "path1_no_obstacle",
           "lon": [
            177.95402298850576
           ],
           "marker": {
            "color": "#636efa",
            "size": [
             5
            ],
            "sizemode": "area",
            "sizeref": 0.0125
           },
           "mode": "markers",
           "name": "path1_no_obstacle",
           "showlegend": true,
           "subplot": "mapbox",
           "type": "scattermapbox"
          },
          {
           "hovertemplate": "<b>%{hovertext}</b><br><br>type=path1<br>timestep=700.0<br>size=%{marker.size}<br>lat=%{lat}<br>lon=%{lon}<extra></extra>",
           "hovertext": [
            "path1"
           ],
           "lat": [
            38.47173144876325
           ],
           "legendgroup": "path1",
           "lon": [
            177.97173144876325
           ],
           "marker": {
            "color": "#EF553B",
            "size": [
             5
            ],
            "sizemode": "area",
            "sizeref": 0.0125
           },
           "mode": "markers",
           "name": "path1",
           "showlegend": true,
           "subplot": "mapbox",
           "type": "scattermapbox"
          }
         ],
         "name": "700.0"
        },
        {
         "data": [
          {
           "hovertemplate": "<b>%{hovertext}</b><br><br>type=path1_no_obstacle<br>timestep=800.0<br>size=%{marker.size}<br>lat=%{lat}<br>lon=%{lon}<extra></extra>",
           "hovertext": [
            "path1_no_obstacle"
           ],
           "lat": [
            38.5
           ],
           "legendgroup": "path1_no_obstacle",
           "lon": [
            176.80459770114942
           ],
           "marker": {
            "color": "#636efa",
            "size": [
             5
            ],
            "sizemode": "area",
            "sizeref": 0.0125
           },
           "mode": "markers",
           "name": "path1_no_obstacle",
           "showlegend": true,
           "subplot": "mapbox",
           "type": "scattermapbox"
          },
          {
           "hovertemplate": "<b>%{hovertext}</b><br><br>type=path1<br>timestep=800.0<br>size=%{marker.size}<br>lat=%{lat}<br>lon=%{lon}<extra></extra>",
           "hovertext": [
            "path1"
           ],
           "lat": [
            37.765017667844525
           ],
           "legendgroup": "path1",
           "lon": [
            177.26501766784452
           ],
           "marker": {
            "color": "#EF553B",
            "size": [
             5
            ],
            "sizemode": "area",
            "sizeref": 0.0125
           },
           "mode": "markers",
           "name": "path1",
           "showlegend": true,
           "subplot": "mapbox",
           "type": "scattermapbox"
          }
         ],
         "name": "800.0"
        },
        {
         "data": [
          {
           "hovertemplate": "<b>%{hovertext}</b><br><br>type=path1_no_obstacle<br>timestep=900.0<br>size=%{marker.size}<br>lat=%{lat}<br>lon=%{lon}<extra></extra>",
           "hovertext": [
            "path1_no_obstacle"
           ],
           "lat": [
            38.5
           ],
           "legendgroup": "path1_no_obstacle",
           "lon": [
            175.6551724137931
           ],
           "marker": {
            "color": "#636efa",
            "size": [
             5
            ],
            "sizemode": "area",
            "sizeref": 0.0125
           },
           "mode": "markers",
           "name": "path1_no_obstacle",
           "showlegend": true,
           "subplot": "mapbox",
           "type": "scattermapbox"
          },
          {
           "hovertemplate": "<b>%{hovertext}</b><br><br>type=path1<br>timestep=900.0<br>size=%{marker.size}<br>lat=%{lat}<br>lon=%{lon}<extra></extra>",
           "hovertext": [
            "path1"
           ],
           "lat": [
            37.05830388692579
           ],
           "legendgroup": "path1",
           "lon": [
            176.55830388692578
           ],
           "marker": {
            "color": "#EF553B",
            "size": [
             5
            ],
            "sizemode": "area",
            "sizeref": 0.0125
           },
           "mode": "markers",
           "name": "path1",
           "showlegend": true,
           "subplot": "mapbox",
           "type": "scattermapbox"
          }
         ],
         "name": "900.0"
        },
        {
         "data": [
          {
           "hovertemplate": "<b>%{hovertext}</b><br><br>type=path1_no_obstacle<br>timestep=1000.0<br>size=%{marker.size}<br>lat=%{lat}<br>lon=%{lon}<extra></extra>",
           "hovertext": [
            "path1_no_obstacle"
           ],
           "lat": [
            38.5
           ],
           "legendgroup": "path1_no_obstacle",
           "lon": [
            174.50574712643677
           ],
           "marker": {
            "color": "#636efa",
            "size": [
             5
            ],
            "sizemode": "area",
            "sizeref": 0.0125
           },
           "mode": "markers",
           "name": "path1_no_obstacle",
           "showlegend": true,
           "subplot": "mapbox",
           "type": "scattermapbox"
          },
          {
           "hovertemplate": "<b>%{hovertext}</b><br><br>type=path1<br>timestep=1000.0<br>size=%{marker.size}<br>lat=%{lat}<br>lon=%{lon}<extra></extra>",
           "hovertext": [
            "path1"
           ],
           "lat": [
            36.35314685314685
           ],
           "legendgroup": "path1",
           "lon": [
            175.85314685314685
           ],
           "marker": {
            "color": "#EF553B",
            "size": [
             5
            ],
            "sizemode": "area",
            "sizeref": 0.0125
           },
           "mode": "markers",
           "name": "path1",
           "showlegend": true,
           "subplot": "mapbox",
           "type": "scattermapbox"
          }
         ],
         "name": "1000.0"
        },
        {
         "data": [
          {
           "hovertemplate": "<b>%{hovertext}</b><br><br>type=path1_no_obstacle<br>timestep=1100.0<br>size=%{marker.size}<br>lat=%{lat}<br>lon=%{lon}<extra></extra>",
           "hovertext": [
            "path1_no_obstacle"
           ],
           "lat": [
            38.10424028268551
           ],
           "legendgroup": "path1_no_obstacle",
           "lon": [
            173.6042402826855
           ],
           "marker": {
            "color": "#636efa",
            "size": [
             5
            ],
            "sizemode": "area",
            "sizeref": 0.0125
           },
           "mode": "markers",
           "name": "path1_no_obstacle",
           "showlegend": true,
           "subplot": "mapbox",
           "type": "scattermapbox"
          },
          {
           "hovertemplate": "<b>%{hovertext}</b><br><br>type=path1<br>timestep=1100.0<br>size=%{marker.size}<br>lat=%{lat}<br>lon=%{lon}<extra></extra>",
           "hovertext": [
            "path1"
           ],
           "lat": [
            35.65384615384615
           ],
           "legendgroup": "path1",
           "lon": [
            175.15384615384616
           ],
           "marker": {
            "color": "#EF553B",
            "size": [
             5
            ],
            "sizemode": "area",
            "sizeref": 0.0125
           },
           "mode": "markers",
           "name": "path1",
           "showlegend": true,
           "subplot": "mapbox",
           "type": "scattermapbox"
          }
         ],
         "name": "1100.0"
        },
        {
         "data": [
          {
           "hovertemplate": "<b>%{hovertext}</b><br><br>type=path1_no_obstacle<br>timestep=1200.0<br>size=%{marker.size}<br>lat=%{lat}<br>lon=%{lon}<extra></extra>",
           "hovertext": [
            "path1_no_obstacle"
           ],
           "lat": [
            37.397526501766784
           ],
           "legendgroup": "path1_no_obstacle",
           "lon": [
            172.89752650176678
           ],
           "marker": {
            "color": "#636efa",
            "size": [
             5
            ],
            "sizemode": "area",
            "sizeref": 0.0125
           },
           "mode": "markers",
           "name": "path1_no_obstacle",
           "showlegend": true,
           "subplot": "mapbox",
           "type": "scattermapbox"
          },
          {
           "hovertemplate": "<b>%{hovertext}</b><br><br>type=path1<br>timestep=1200.0<br>size=%{marker.size}<br>lat=%{lat}<br>lon=%{lon}<extra></extra>",
           "hovertext": [
            "path1"
           ],
           "lat": [
            34.95454545454545
           ],
           "legendgroup": "path1",
           "lon": [
            174.45454545454547
           ],
           "marker": {
            "color": "#EF553B",
            "size": [
             5
            ],
            "sizemode": "area",
            "sizeref": 0.0125
           },
           "mode": "markers",
           "name": "path1",
           "showlegend": true,
           "subplot": "mapbox",
           "type": "scattermapbox"
          }
         ],
         "name": "1200.0"
        },
        {
         "data": [
          {
           "hovertemplate": "<b>%{hovertext}</b><br><br>type=path1_no_obstacle<br>timestep=1300.0<br>size=%{marker.size}<br>lat=%{lat}<br>lon=%{lon}<extra></extra>",
           "hovertext": [
            "path1_no_obstacle"
           ],
           "lat": [
            36.69081272084806
           ],
           "legendgroup": "path1_no_obstacle",
           "lon": [
            172.19081272084804
           ],
           "marker": {
            "color": "#636efa",
            "size": [
             5
            ],
            "sizemode": "area",
            "sizeref": 0.0125
           },
           "mode": "markers",
           "name": "path1_no_obstacle",
           "showlegend": true,
           "subplot": "mapbox",
           "type": "scattermapbox"
          },
          {
           "hovertemplate": "<b>%{hovertext}</b><br><br>type=path1<br>timestep=1300.0<br>size=%{marker.size}<br>lat=%{lat}<br>lon=%{lon}<extra></extra>",
           "hovertext": [
            "path1"
           ],
           "lat": [
            34.5
           ],
           "legendgroup": "path1",
           "lon": [
            173.74452554744525
           ],
           "marker": {
            "color": "#EF553B",
            "size": [
             5
            ],
            "sizemode": "area",
            "sizeref": 0.0125
           },
           "mode": "markers",
           "name": "path1",
           "showlegend": true,
           "subplot": "mapbox",
           "type": "scattermapbox"
          }
         ],
         "name": "1300.0"
        },
        {
         "data": [
          {
           "hovertemplate": "<b>%{hovertext}</b><br><br>type=path1_no_obstacle<br>timestep=1400.0<br>size=%{marker.size}<br>lat=%{lat}<br>lon=%{lon}<extra></extra>",
           "hovertext": [
            "path1_no_obstacle"
           ],
           "lat": [
            35.98951048951049
           ],
           "legendgroup": "path1_no_obstacle",
           "lon": [
            171.48951048951048
           ],
           "marker": {
            "color": "#636efa",
            "size": [
             5
            ],
            "sizemode": "area",
            "sizeref": 0.0125
           },
           "mode": "markers",
           "name": "path1_no_obstacle",
           "showlegend": true,
           "subplot": "mapbox",
           "type": "scattermapbox"
          },
          {
           "hovertemplate": "<b>%{hovertext}</b><br><br>type=path1<br>timestep=1400.0<br>size=%{marker.size}<br>lat=%{lat}<br>lon=%{lon}<extra></extra>",
           "hovertext": [
            "path1"
           ],
           "lat": [
            34.5
           ],
           "legendgroup": "path1",
           "lon": [
            173.01459854014598
           ],
           "marker": {
            "color": "#EF553B",
            "size": [
             5
            ],
            "sizemode": "area",
            "sizeref": 0.0125
           },
           "mode": "markers",
           "name": "path1",
           "showlegend": true,
           "subplot": "mapbox",
           "type": "scattermapbox"
          }
         ],
         "name": "1400.0"
        },
        {
         "data": [
          {
           "hovertemplate": "<b>%{hovertext}</b><br><br>type=path1_no_obstacle<br>timestep=1500.0<br>size=%{marker.size}<br>lat=%{lat}<br>lon=%{lon}<extra></extra>",
           "hovertext": [
            "path1_no_obstacle"
           ],
           "lat": [
            35.29020979020979
           ],
           "legendgroup": "path1_no_obstacle",
           "lon": [
            170.7902097902098
           ],
           "marker": {
            "color": "#636efa",
            "size": [
             5
            ],
            "sizemode": "area",
            "sizeref": 0.0125
           },
           "mode": "markers",
           "name": "path1_no_obstacle",
           "showlegend": true,
           "subplot": "mapbox",
           "type": "scattermapbox"
          },
          {
           "hovertemplate": "<b>%{hovertext}</b><br><br>type=path1<br>timestep=1500.0<br>size=%{marker.size}<br>lat=%{lat}<br>lon=%{lon}<extra></extra>",
           "hovertext": [
            "path1"
           ],
           "lat": [
            34.5
           ],
           "legendgroup": "path1",
           "lon": [
            172.28467153284672
           ],
           "marker": {
            "color": "#EF553B",
            "size": [
             5
            ],
            "sizemode": "area",
            "sizeref": 0.0125
           },
           "mode": "markers",
           "name": "path1",
           "showlegend": true,
           "subplot": "mapbox",
           "type": "scattermapbox"
          }
         ],
         "name": "1500.0"
        },
        {
         "data": [
          {
           "hovertemplate": "<b>%{hovertext}</b><br><br>type=path1_no_obstacle<br>timestep=1600.0<br>size=%{marker.size}<br>lat=%{lat}<br>lon=%{lon}<extra></extra>",
           "hovertext": [
            "path1_no_obstacle"
           ],
           "lat": [
            34.59090909090909
           ],
           "legendgroup": "path1_no_obstacle",
           "lon": [
            170.0909090909091
           ],
           "marker": {
            "color": "#636efa",
            "size": [
             5
            ],
            "sizemode": "area",
            "sizeref": 0.0125
           },
           "mode": "markers",
           "name": "path1_no_obstacle",
           "showlegend": true,
           "subplot": "mapbox",
           "type": "scattermapbox"
          },
          {
           "hovertemplate": "<b>%{hovertext}</b><br><br>type=path1<br>timestep=1600.0<br>size=%{marker.size}<br>lat=%{lat}<br>lon=%{lon}<extra></extra>",
           "hovertext": [
            "path1"
           ],
           "lat": [
            34.5
           ],
           "legendgroup": "path1",
           "lon": [
            171.55474452554745
           ],
           "marker": {
            "color": "#EF553B",
            "size": [
             5
            ],
            "sizemode": "area",
            "sizeref": 0.0125
           },
           "mode": "markers",
           "name": "path1",
           "showlegend": true,
           "subplot": "mapbox",
           "type": "scattermapbox"
          }
         ],
         "name": "1600.0"
        },
        {
         "data": [
          {
           "hovertemplate": "<b>%{hovertext}</b><br><br>type=path1_no_obstacle<br>timestep=1700.0<br>size=%{marker.size}<br>lat=%{lat}<br>lon=%{lon}<extra></extra>",
           "hovertext": [
            "path1_no_obstacle"
           ],
           "lat": [
            33.897923875432525
           ],
           "legendgroup": "path1_no_obstacle",
           "lon": [
            169.39792387543253
           ],
           "marker": {
            "color": "#636efa",
            "size": [
             5
            ],
            "sizemode": "area",
            "sizeref": 0.0125
           },
           "mode": "markers",
           "name": "path1_no_obstacle",
           "showlegend": true,
           "subplot": "mapbox",
           "type": "scattermapbox"
          },
          {
           "hovertemplate": "<b>%{hovertext}</b><br><br>type=path1<br>timestep=1700.0<br>size=%{marker.size}<br>lat=%{lat}<br>lon=%{lon}<extra></extra>",
           "hovertext": [
            "path1"
           ],
           "lat": [
            34.5
           ],
           "legendgroup": "path1",
           "lon": [
            170.82481751824818
           ],
           "marker": {
            "color": "#EF553B",
            "size": [
             5
            ],
            "sizemode": "area",
            "sizeref": 0.0125
           },
           "mode": "markers",
           "name": "path1",
           "showlegend": true,
           "subplot": "mapbox",
           "type": "scattermapbox"
          }
         ],
         "name": "1700.0"
        },
        {
         "data": [
          {
           "hovertemplate": "<b>%{hovertext}</b><br><br>type=path1_no_obstacle<br>timestep=1800.0<br>size=%{marker.size}<br>lat=%{lat}<br>lon=%{lon}<extra></extra>",
           "hovertext": [
            "path1_no_obstacle"
           ],
           "lat": [
            33.205882352941174
           ],
           "legendgroup": "path1_no_obstacle",
           "lon": [
            168.7058823529412
           ],
           "marker": {
            "color": "#636efa",
            "size": [
             5
            ],
            "sizemode": "area",
            "sizeref": 0.0125
           },
           "mode": "markers",
           "name": "path1_no_obstacle",
           "showlegend": true,
           "subplot": "mapbox",
           "type": "scattermapbox"
          },
          {
           "hovertemplate": "<b>%{hovertext}</b><br><br>type=path1<br>timestep=1800.0<br>size=%{marker.size}<br>lat=%{lat}<br>lon=%{lon}<extra></extra>",
           "hovertext": [
            "path1"
           ],
           "lat": [
            34.5
           ],
           "legendgroup": "path1",
           "lon": [
            170.09489051094891
           ],
           "marker": {
            "color": "#EF553B",
            "size": [
             5
            ],
            "sizemode": "area",
            "sizeref": 0.0125
           },
           "mode": "markers",
           "name": "path1",
           "showlegend": true,
           "subplot": "mapbox",
           "type": "scattermapbox"
          }
         ],
         "name": "1800.0"
        },
        {
         "data": [
          {
           "hovertemplate": "<b>%{hovertext}</b><br><br>type=path1_no_obstacle<br>timestep=1900.0<br>size=%{marker.size}<br>lat=%{lat}<br>lon=%{lon}<extra></extra>",
           "hovertext": [
            "path1_no_obstacle"
           ],
           "lat": [
            32.51384083044983
           ],
           "legendgroup": "path1_no_obstacle",
           "lon": [
            168.01384083044982
           ],
           "marker": {
            "color": "#636efa",
            "size": [
             5
            ],
            "sizemode": "area",
            "sizeref": 0.0125
           },
           "mode": "markers",
           "name": "path1_no_obstacle",
           "showlegend": true,
           "subplot": "mapbox",
           "type": "scattermapbox"
          },
          {
           "hovertemplate": "<b>%{hovertext}</b><br><br>type=path1<br>timestep=1900.0<br>size=%{marker.size}<br>lat=%{lat}<br>lon=%{lon}<extra></extra>",
           "hovertext": [
            "path1"
           ],
           "lat": [
            34.09907834101382
           ],
           "legendgroup": "path1",
           "lon": [
            169.59907834101384
           ],
           "marker": {
            "color": "#EF553B",
            "size": [
             5
            ],
            "sizemode": "area",
            "sizeref": 0.0125
           },
           "mode": "markers",
           "name": "path1",
           "showlegend": true,
           "subplot": "mapbox",
           "type": "scattermapbox"
          }
         ],
         "name": "1900.0"
        },
        {
         "data": [
          {
           "hovertemplate": "<b>%{hovertext}</b><br><br>type=path1_no_obstacle<br>timestep=2000.0<br>size=%{marker.size}<br>lat=%{lat}<br>lon=%{lon}<extra></extra>",
           "hovertext": [
            "path1_no_obstacle"
           ],
           "lat": [
            31.82876712328768
           ],
           "legendgroup": "path1_no_obstacle",
           "lon": [
            167.32876712328766
           ],
           "marker": {
            "color": "#636efa",
            "size": [
             5
            ],
            "sizemode": "area",
            "sizeref": 0.0125
           },
           "mode": "markers",
           "name": "path1_no_obstacle",
           "showlegend": true,
           "subplot": "mapbox",
           "type": "scattermapbox"
          },
          {
           "hovertemplate": "<b>%{hovertext}</b><br><br>type=path1<br>timestep=2000.0<br>size=%{marker.size}<br>lat=%{lat}<br>lon=%{lon}<extra></extra>",
           "hovertext": [
            "path1"
           ],
           "lat": [
            33.63824884792627
           ],
           "legendgroup": "path1",
           "lon": [
            169.13824884792626
           ],
           "marker": {
            "color": "#EF553B",
            "size": [
             5
            ],
            "sizemode": "area",
            "sizeref": 0.0125
           },
           "mode": "markers",
           "name": "path1",
           "showlegend": true,
           "subplot": "mapbox",
           "type": "scattermapbox"
          }
         ],
         "name": "2000.0"
        },
        {
         "data": [
          {
           "hovertemplate": "<b>%{hovertext}</b><br><br>type=path1_no_obstacle<br>timestep=2100.0<br>size=%{marker.size}<br>lat=%{lat}<br>lon=%{lon}<extra></extra>",
           "hovertext": [
            "path1_no_obstacle"
           ],
           "lat": [
            31.14383561643836
           ],
           "legendgroup": "path1_no_obstacle",
           "lon": [
            166.64383561643837
           ],
           "marker": {
            "color": "#636efa",
            "size": [
             5
            ],
            "sizemode": "area",
            "sizeref": 0.0125
           },
           "mode": "markers",
           "name": "path1_no_obstacle",
           "showlegend": true,
           "subplot": "mapbox",
           "type": "scattermapbox"
          },
          {
           "hovertemplate": "<b>%{hovertext}</b><br><br>type=path1<br>timestep=2100.0<br>size=%{marker.size}<br>lat=%{lat}<br>lon=%{lon}<extra></extra>",
           "hovertext": [
            "path1"
           ],
           "lat": [
            33.17741935483871
           ],
           "legendgroup": "path1",
           "lon": [
            168.67741935483872
           ],
           "marker": {
            "color": "#EF553B",
            "size": [
             5
            ],
            "sizemode": "area",
            "sizeref": 0.0125
           },
           "mode": "markers",
           "name": "path1",
           "showlegend": true,
           "subplot": "mapbox",
           "type": "scattermapbox"
          }
         ],
         "name": "2100.0"
        },
        {
         "data": [
          {
           "hovertemplate": "<b>%{hovertext}</b><br><br>type=path1_no_obstacle<br>timestep=2200.0<br>size=%{marker.size}<br>lat=%{lat}<br>lon=%{lon}<extra></extra>",
           "hovertext": [
            "path1_no_obstacle"
           ],
           "lat": [
            30.459183673469383
           ],
           "legendgroup": "path1_no_obstacle",
           "lon": [
            165.9591836734694
           ],
           "marker": {
            "color": "#636efa",
            "size": [
             5
            ],
            "sizemode": "area",
            "sizeref": 0.0125
           },
           "mode": "markers",
           "name": "path1_no_obstacle",
           "showlegend": true,
           "subplot": "mapbox",
           "type": "scattermapbox"
          },
          {
           "hovertemplate": "<b>%{hovertext}</b><br><br>type=path1<br>timestep=2200.0<br>size=%{marker.size}<br>lat=%{lat}<br>lon=%{lon}<extra></extra>",
           "hovertext": [
            "path1"
           ],
           "lat": [
            32.71658986175115
           ],
           "legendgroup": "path1",
           "lon": [
            168.21658986175115
           ],
           "marker": {
            "color": "#EF553B",
            "size": [
             5
            ],
            "sizemode": "area",
            "sizeref": 0.0125
           },
           "mode": "markers",
           "name": "path1",
           "showlegend": true,
           "subplot": "mapbox",
           "type": "scattermapbox"
          }
         ],
         "name": "2200.0"
        },
        {
         "data": [
          {
           "hovertemplate": "<b>%{hovertext}</b><br><br>type=path1_no_obstacle<br>timestep=2300.0<br>size=%{marker.size}<br>lat=%{lat}<br>lon=%{lon}<extra></extra>",
           "hovertext": [
            "path1_no_obstacle"
           ],
           "lat": [
            29.77891156462585
           ],
           "legendgroup": "path1_no_obstacle",
           "lon": [
            165.27891156462584
           ],
           "marker": {
            "color": "#636efa",
            "size": [
             5
            ],
            "sizemode": "area",
            "sizeref": 0.0125
           },
           "mode": "markers",
           "name": "path1_no_obstacle",
           "showlegend": true,
           "subplot": "mapbox",
           "type": "scattermapbox"
          },
          {
           "hovertemplate": "<b>%{hovertext}</b><br><br>type=path1<br>timestep=2300.0<br>size=%{marker.size}<br>lat=%{lat}<br>lon=%{lon}<extra></extra>",
           "hovertext": [
            "path1"
           ],
           "lat": [
            32.257990867579906
           ],
           "legendgroup": "path1",
           "lon": [
            167.7579908675799
           ],
           "marker": {
            "color": "#EF553B",
            "size": [
             5
            ],
            "sizemode": "area",
            "sizeref": 0.0125
           },
           "mode": "markers",
           "name": "path1",
           "showlegend": true,
           "subplot": "mapbox",
           "type": "scattermapbox"
          }
         ],
         "name": "2300.0"
        },
        {
         "data": [
          {
           "hovertemplate": "<b>%{hovertext}</b><br><br>type=path1_no_obstacle<br>timestep=2400.0<br>size=%{marker.size}<br>lat=%{lat}<br>lon=%{lon}<extra></extra>",
           "hovertext": [
            "path1_no_obstacle"
           ],
           "lat": [
            29.098639455782312
           ],
           "legendgroup": "path1_no_obstacle",
           "lon": [
            164.59863945578232
           ],
           "marker": {
            "color": "#636efa",
            "size": [
             5
            ],
            "sizemode": "area",
            "sizeref": 0.0125
           },
           "mode": "markers",
           "name": "path1_no_obstacle",
           "showlegend": true,
           "subplot": "mapbox",
           "type": "scattermapbox"
          },
          {
           "hovertemplate": "<b>%{hovertext}</b><br><br>type=path1<br>timestep=2400.0<br>size=%{marker.size}<br>lat=%{lat}<br>lon=%{lon}<extra></extra>",
           "hovertext": [
            "path1"
           ],
           "lat": [
            31.801369863013697
           ],
           "legendgroup": "path1",
           "lon": [
            167.3013698630137
           ],
           "marker": {
            "color": "#EF553B",
            "size": [
             5
            ],
            "sizemode": "area",
            "sizeref": 0.0125
           },
           "mode": "markers",
           "name": "path1",
           "showlegend": true,
           "subplot": "mapbox",
           "type": "scattermapbox"
          }
         ],
         "name": "2400.0"
        },
        {
         "data": [
          {
           "hovertemplate": "<b>%{hovertext}</b><br><br>type=path1_no_obstacle<br>timestep=2500.0<br>size=%{marker.size}<br>lat=%{lat}<br>lon=%{lon}<extra></extra>",
           "hovertext": [
            "path1_no_obstacle"
           ],
           "lat": [
            28.41919191919192
           ],
           "legendgroup": "path1_no_obstacle",
           "lon": [
            163.91919191919192
           ],
           "marker": {
            "color": "#636efa",
            "size": [
             5
            ],
            "sizemode": "area",
            "sizeref": 0.0125
           },
           "mode": "markers",
           "name": "path1_no_obstacle",
           "showlegend": true,
           "subplot": "mapbox",
           "type": "scattermapbox"
          },
          {
           "hovertemplate": "<b>%{hovertext}</b><br><br>type=path1<br>timestep=2500.0<br>size=%{marker.size}<br>lat=%{lat}<br>lon=%{lon}<extra></extra>",
           "hovertext": [
            "path1"
           ],
           "lat": [
            31.34474885844749
           ],
           "legendgroup": "path1",
           "lon": [
            166.8447488584475
           ],
           "marker": {
            "color": "#EF553B",
            "size": [
             5
            ],
            "sizemode": "area",
            "sizeref": 0.0125
           },
           "mode": "markers",
           "name": "path1",
           "showlegend": true,
           "subplot": "mapbox",
           "type": "scattermapbox"
          }
         ],
         "name": "2500.0"
        },
        {
         "data": [
          {
           "hovertemplate": "<b>%{hovertext}</b><br><br>type=path1_no_obstacle<br>timestep=2600.0<br>size=%{marker.size}<br>lat=%{lat}<br>lon=%{lon}<extra></extra>",
           "hovertext": [
            "path1_no_obstacle"
           ],
           "lat": [
            27.74579124579125
           ],
           "legendgroup": "path1_no_obstacle",
           "lon": [
            163.24579124579125
           ],
           "marker": {
            "color": "#636efa",
            "size": [
             5
            ],
            "sizemode": "area",
            "sizeref": 0.0125
           },
           "mode": "markers",
           "name": "path1_no_obstacle",
           "showlegend": true,
           "subplot": "mapbox",
           "type": "scattermapbox"
          },
          {
           "hovertemplate": "<b>%{hovertext}</b><br><br>type=path1<br>timestep=2600.0<br>size=%{marker.size}<br>lat=%{lat}<br>lon=%{lon}<extra></extra>",
           "hovertext": [
            "path1"
           ],
           "lat": [
            30.88812785388128
           ],
           "legendgroup": "path1",
           "lon": [
            166.3881278538813
           ],
           "marker": {
            "color": "#EF553B",
            "size": [
             5
            ],
            "sizemode": "area",
            "sizeref": 0.0125
           },
           "mode": "markers",
           "name": "path1",
           "showlegend": true,
           "subplot": "mapbox",
           "type": "scattermapbox"
          }
         ],
         "name": "2600.0"
        },
        {
         "data": [
          {
           "hovertemplate": "<b>%{hovertext}</b><br><br>type=path1_no_obstacle<br>timestep=2700.0<br>size=%{marker.size}<br>lat=%{lat}<br>lon=%{lon}<extra></extra>",
           "hovertext": [
            "path1_no_obstacle"
           ],
           "lat": [
            27.07239057239057
           ],
           "legendgroup": "path1_no_obstacle",
           "lon": [
            162.57239057239056
           ],
           "marker": {
            "color": "#636efa",
            "size": [
             5
            ],
            "sizemode": "area",
            "sizeref": 0.0125
           },
           "mode": "markers",
           "name": "path1_no_obstacle",
           "showlegend": true,
           "subplot": "mapbox",
           "type": "scattermapbox"
          },
          {
           "hovertemplate": "<b>%{hovertext}</b><br><br>type=path1<br>timestep=2700.0<br>size=%{marker.size}<br>lat=%{lat}<br>lon=%{lon}<extra></extra>",
           "hovertext": [
            "path1"
           ],
           "lat": [
            30.43212669683258
           ],
           "legendgroup": "path1",
           "lon": [
            165.93212669683257
           ],
           "marker": {
            "color": "#EF553B",
            "size": [
             5
            ],
            "sizemode": "area",
            "sizeref": 0.0125
           },
           "mode": "markers",
           "name": "path1",
           "showlegend": true,
           "subplot": "mapbox",
           "type": "scattermapbox"
          }
         ],
         "name": "2700.0"
        },
        {
         "data": [
          {
           "hovertemplate": "<b>%{hovertext}</b><br><br>type=path1_no_obstacle<br>timestep=2800.0<br>size=%{marker.size}<br>lat=%{lat}<br>lon=%{lon}<extra></extra>",
           "hovertext": [
            "path1_no_obstacle"
           ],
           "lat": [
            26.399665551839465
           ],
           "legendgroup": "path1_no_obstacle",
           "lon": [
            161.89966555183946
           ],
           "marker": {
            "color": "#636efa",
            "size": [
             5
            ],
            "sizemode": "area",
            "sizeref": 0.0125
           },
           "mode": "markers",
           "name": "path1_no_obstacle",
           "showlegend": true,
           "subplot": "mapbox",
           "type": "scattermapbox"
          },
          {
           "hovertemplate": "<b>%{hovertext}</b><br><br>type=path1<br>timestep=2800.0<br>size=%{marker.size}<br>lat=%{lat}<br>lon=%{lon}<extra></extra>",
           "hovertext": [
            "path1"
           ],
           "lat": [
            29.97963800904977
           ],
           "legendgroup": "path1",
           "lon": [
            165.47963800904978
           ],
           "marker": {
            "color": "#EF553B",
            "size": [
             5
            ],
            "sizemode": "area",
            "sizeref": 0.0125
           },
           "mode": "markers",
           "name": "path1",
           "showlegend": true,
           "subplot": "mapbox",
           "type": "scattermapbox"
          }
         ],
         "name": "2800.0"
        },
        {
         "data": [
          {
           "hovertemplate": "<b>%{hovertext}</b><br><br>type=path1_no_obstacle<br>timestep=2900.0<br>size=%{marker.size}<br>lat=%{lat}<br>lon=%{lon}<extra></extra>",
           "hovertext": [
            "path1_no_obstacle"
           ],
           "lat": [
            25.73076923076923
           ],
           "legendgroup": "path1_no_obstacle",
           "lon": [
            161.23076923076923
           ],
           "marker": {
            "color": "#636efa",
            "size": [
             5
            ],
            "sizemode": "area",
            "sizeref": 0.0125
           },
           "mode": "markers",
           "name": "path1_no_obstacle",
           "showlegend": true,
           "subplot": "mapbox",
           "type": "scattermapbox"
          },
          {
           "hovertemplate": "<b>%{hovertext}</b><br><br>type=path1<br>timestep=2900.0<br>size=%{marker.size}<br>lat=%{lat}<br>lon=%{lon}<extra></extra>",
           "hovertext": [
            "path1"
           ],
           "lat": [
            29.52714932126697
           ],
           "legendgroup": "path1",
           "lon": [
            165.02714932126696
           ],
           "marker": {
            "color": "#EF553B",
            "size": [
             5
            ],
            "sizemode": "area",
            "sizeref": 0.0125
           },
           "mode": "markers",
           "name": "path1",
           "showlegend": true,
           "subplot": "mapbox",
           "type": "scattermapbox"
          }
         ],
         "name": "2900.0"
        },
        {
         "data": [
          {
           "hovertemplate": "<b>%{hovertext}</b><br><br>type=path1_no_obstacle<br>timestep=3000.0<br>size=%{marker.size}<br>lat=%{lat}<br>lon=%{lon}<extra></extra>",
           "hovertext": [
            "path1_no_obstacle"
           ],
           "lat": [
            25.061872909699
           ],
           "legendgroup": "path1_no_obstacle",
           "lon": [
            160.561872909699
           ],
           "marker": {
            "color": "#636efa",
            "size": [
             5
            ],
            "sizemode": "area",
            "sizeref": 0.0125
           },
           "mode": "markers",
           "name": "path1_no_obstacle",
           "showlegend": true,
           "subplot": "mapbox",
           "type": "scattermapbox"
          },
          {
           "hovertemplate": "<b>%{hovertext}</b><br><br>type=path1<br>timestep=3000.0<br>size=%{marker.size}<br>lat=%{lat}<br>lon=%{lon}<extra></extra>",
           "hovertext": [
            "path1"
           ],
           "lat": [
            29.074660633484164
           ],
           "legendgroup": "path1",
           "lon": [
            164.57466063348417
           ],
           "marker": {
            "color": "#EF553B",
            "size": [
             5
            ],
            "sizemode": "area",
            "sizeref": 0.0125
           },
           "mode": "markers",
           "name": "path1",
           "showlegend": true,
           "subplot": "mapbox",
           "type": "scattermapbox"
          }
         ],
         "name": "3000.0"
        },
        {
         "data": [
          {
           "hovertemplate": "<b>%{hovertext}</b><br><br>type=path1_no_obstacle<br>timestep=3100.0<br>size=%{marker.size}<br>lat=%{lat}<br>lon=%{lon}<extra></extra>",
           "hovertext": [
            "path1_no_obstacle"
           ],
           "lat": [
            24.393687707641195
           ],
           "legendgroup": "path1_no_obstacle",
           "lon": [
            159.8936877076412
           ],
           "marker": {
            "color": "#636efa",
            "size": [
             5
            ],
            "sizemode": "area",
            "sizeref": 0.0125
           },
           "mode": "markers",
           "name": "path1_no_obstacle",
           "showlegend": true,
           "subplot": "mapbox",
           "type": "scattermapbox"
          },
          {
           "hovertemplate": "<b>%{hovertext}</b><br><br>type=path1<br>timestep=3100.0<br>size=%{marker.size}<br>lat=%{lat}<br>lon=%{lon}<extra></extra>",
           "hovertext": [
            "path1"
           ],
           "lat": [
            28.62217194570136
           ],
           "legendgroup": "path1",
           "lon": [
            164.12217194570135
           ],
           "marker": {
            "color": "#EF553B",
            "size": [
             5
            ],
            "sizemode": "area",
            "sizeref": 0.0125
           },
           "mode": "markers",
           "name": "path1",
           "showlegend": true,
           "subplot": "mapbox",
           "type": "scattermapbox"
          }
         ],
         "name": "3100.0"
        },
        {
         "data": [
          {
           "hovertemplate": "<b>%{hovertext}</b><br><br>type=path1_no_obstacle<br>timestep=3200.0<br>size=%{marker.size}<br>lat=%{lat}<br>lon=%{lon}<extra></extra>",
           "hovertext": [
            "path1_no_obstacle"
           ],
           "lat": [
            23.729235880398672
           ],
           "legendgroup": "path1_no_obstacle",
           "lon": [
            159.22923588039868
           ],
           "marker": {
            "color": "#636efa",
            "size": [
             5
            ],
            "sizemode": "area",
            "sizeref": 0.0125
           },
           "mode": "markers",
           "name": "path1_no_obstacle",
           "showlegend": true,
           "subplot": "mapbox",
           "type": "scattermapbox"
          },
          {
           "hovertemplate": "<b>%{hovertext}</b><br><br>type=path1<br>timestep=3200.0<br>size=%{marker.size}<br>lat=%{lat}<br>lon=%{lon}<extra></extra>",
           "hovertext": [
            "path1"
           ],
           "lat": [
            28.17191011235955
           ],
           "legendgroup": "path1",
           "lon": [
            163.67191011235954
           ],
           "marker": {
            "color": "#EF553B",
            "size": [
             5
            ],
            "sizemode": "area",
            "sizeref": 0.0125
           },
           "mode": "markers",
           "name": "path1",
           "showlegend": true,
           "subplot": "mapbox",
           "type": "scattermapbox"
          }
         ],
         "name": "3200.0"
        },
        {
         "data": [
          {
           "hovertemplate": "<b>%{hovertext}</b><br><br>type=path1_no_obstacle<br>timestep=3300.0<br>size=%{marker.size}<br>lat=%{lat}<br>lon=%{lon}<extra></extra>",
           "hovertext": [
            "path1_no_obstacle"
           ],
           "lat": [
            23.064784053156146
           ],
           "legendgroup": "path1_no_obstacle",
           "lon": [
            158.56478405315616
           ],
           "marker": {
            "color": "#636efa",
            "size": [
             5
            ],
            "sizemode": "area",
            "sizeref": 0.0125
           },
           "mode": "markers",
           "name": "path1_no_obstacle",
           "showlegend": true,
           "subplot": "mapbox",
           "type": "scattermapbox"
          },
          {
           "hovertemplate": "<b>%{hovertext}</b><br><br>type=path1<br>timestep=3300.0<br>size=%{marker.size}<br>lat=%{lat}<br>lon=%{lon}<extra></extra>",
           "hovertext": [
            "path1"
           ],
           "lat": [
            27.72247191011236
           ],
           "legendgroup": "path1",
           "lon": [
            163.22247191011235
           ],
           "marker": {
            "color": "#EF553B",
            "size": [
             5
            ],
            "sizemode": "area",
            "sizeref": 0.0125
           },
           "mode": "markers",
           "name": "path1",
           "showlegend": true,
           "subplot": "mapbox",
           "type": "scattermapbox"
          }
         ],
         "name": "3300.0"
        },
        {
         "data": [
          {
           "hovertemplate": "<b>%{hovertext}</b><br><br>type=path1_no_obstacle<br>timestep=3400.0<br>size=%{marker.size}<br>lat=%{lat}<br>lon=%{lon}<extra></extra>",
           "hovertext": [
            "path1_no_obstacle"
           ],
           "lat": [
            22.400990099009903
           ],
           "legendgroup": "path1_no_obstacle",
           "lon": [
            157.9009900990099
           ],
           "marker": {
            "color": "#636efa",
            "size": [
             5
            ],
            "sizemode": "area",
            "sizeref": 0.0125
           },
           "mode": "markers",
           "name": "path1_no_obstacle",
           "showlegend": true,
           "subplot": "mapbox",
           "type": "scattermapbox"
          },
          {
           "hovertemplate": "<b>%{hovertext}</b><br><br>type=path1<br>timestep=3400.0<br>size=%{marker.size}<br>lat=%{lat}<br>lon=%{lon}<extra></extra>",
           "hovertext": [
            "path1"
           ],
           "lat": [
            27.273033707865167
           ],
           "legendgroup": "path1",
           "lon": [
            162.77303370786518
           ],
           "marker": {
            "color": "#EF553B",
            "size": [
             5
            ],
            "sizemode": "area",
            "sizeref": 0.0125
           },
           "mode": "markers",
           "name": "path1",
           "showlegend": true,
           "subplot": "mapbox",
           "type": "scattermapbox"
          }
         ],
         "name": "3400.0"
        },
        {
         "data": [
          {
           "hovertemplate": "<b>%{hovertext}</b><br><br>type=path1_no_obstacle<br>timestep=3500.0<br>size=%{marker.size}<br>lat=%{lat}<br>lon=%{lon}<extra></extra>",
           "hovertext": [
            "path1_no_obstacle"
           ],
           "lat": [
            21.74092409240924
           ],
           "legendgroup": "path1_no_obstacle",
           "lon": [
            157.24092409240924
           ],
           "marker": {
            "color": "#636efa",
            "size": [
             5
            ],
            "sizemode": "area",
            "sizeref": 0.0125
           },
           "mode": "markers",
           "name": "path1_no_obstacle",
           "showlegend": true,
           "subplot": "mapbox",
           "type": "scattermapbox"
          },
          {
           "hovertemplate": "<b>%{hovertext}</b><br><br>type=path1<br>timestep=3500.0<br>size=%{marker.size}<br>lat=%{lat}<br>lon=%{lon}<extra></extra>",
           "hovertext": [
            "path1"
           ],
           "lat": [
            26.823595505617977
           ],
           "legendgroup": "path1",
           "lon": [
            162.323595505618
           ],
           "marker": {
            "color": "#EF553B",
            "size": [
             5
            ],
            "sizemode": "area",
            "sizeref": 0.0125
           },
           "mode": "markers",
           "name": "path1",
           "showlegend": true,
           "subplot": "mapbox",
           "type": "scattermapbox"
          }
         ],
         "name": "3500.0"
        },
        {
         "data": [
          {
           "hovertemplate": "<b>%{hovertext}</b><br><br>type=path1_no_obstacle<br>timestep=3600.0<br>size=%{marker.size}<br>lat=%{lat}<br>lon=%{lon}<extra></extra>",
           "hovertext": [
            "path1_no_obstacle"
           ],
           "lat": [
            21.08085808580858
           ],
           "legendgroup": "path1_no_obstacle",
           "lon": [
            156.5808580858086
           ],
           "marker": {
            "color": "#636efa",
            "size": [
             5
            ],
            "sizemode": "area",
            "sizeref": 0.0125
           },
           "mode": "markers",
           "name": "path1_no_obstacle",
           "showlegend": true,
           "subplot": "mapbox",
           "type": "scattermapbox"
          },
          {
           "hovertemplate": "<b>%{hovertext}</b><br><br>type=path1<br>timestep=3600.0<br>size=%{marker.size}<br>lat=%{lat}<br>lon=%{lon}<extra></extra>",
           "hovertext": [
            "path1"
           ],
           "lat": [
            26.375278396436524
           ],
           "legendgroup": "path1",
           "lon": [
            161.87527839643653
           ],
           "marker": {
            "color": "#EF553B",
            "size": [
             5
            ],
            "sizemode": "area",
            "sizeref": 0.0125
           },
           "mode": "markers",
           "name": "path1",
           "showlegend": true,
           "subplot": "mapbox",
           "type": "scattermapbox"
          }
         ],
         "name": "3600.0"
        },
        {
         "data": [
          {
           "hovertemplate": "<b>%{hovertext}</b><br><br>type=path1_no_obstacle<br>timestep=3700.0<br>size=%{marker.size}<br>lat=%{lat}<br>lon=%{lon}<extra></extra>",
           "hovertext": [
            "path1_no_obstacle"
           ],
           "lat": [
            20.42131147540984
           ],
           "legendgroup": "path1_no_obstacle",
           "lon": [
            155.92131147540982
           ],
           "marker": {
            "color": "#636efa",
            "size": [
             5
            ],
            "sizemode": "area",
            "sizeref": 0.0125
           },
           "mode": "markers",
           "name": "path1_no_obstacle",
           "showlegend": true,
           "subplot": "mapbox",
           "type": "scattermapbox"
          },
          {
           "hovertemplate": "<b>%{hovertext}</b><br><br>type=path1<br>timestep=3700.0<br>size=%{marker.size}<br>lat=%{lat}<br>lon=%{lon}<extra></extra>",
           "hovertext": [
            "path1"
           ],
           "lat": [
            25.929844097995545
           ],
           "legendgroup": "path1",
           "lon": [
            161.42984409799556
           ],
           "marker": {
            "color": "#EF553B",
            "size": [
             5
            ],
            "sizemode": "area",
            "sizeref": 0.0125
           },
           "mode": "markers",
           "name": "path1",
           "showlegend": true,
           "subplot": "mapbox",
           "type": "scattermapbox"
          }
         ],
         "name": "3700.0"
        },
        {
         "data": [
          {
           "hovertemplate": "<b>%{hovertext}</b><br><br>type=path1_no_obstacle<br>timestep=3800.0<br>size=%{marker.size}<br>lat=%{lat}<br>lon=%{lon}<extra></extra>",
           "hovertext": [
            "path1_no_obstacle"
           ],
           "lat": [
            19.7655737704918
           ],
           "legendgroup": "path1_no_obstacle",
           "lon": [
            155.2655737704918
           ],
           "marker": {
            "color": "#636efa",
            "size": [
             5
            ],
            "sizemode": "area",
            "sizeref": 0.0125
           },
           "mode": "markers",
           "name": "path1_no_obstacle",
           "showlegend": true,
           "subplot": "mapbox",
           "type": "scattermapbox"
          },
          {
           "hovertemplate": "<b>%{hovertext}</b><br><br>type=path1<br>timestep=3800.0<br>size=%{marker.size}<br>lat=%{lat}<br>lon=%{lon}<extra></extra>",
           "hovertext": [
            "path1"
           ],
           "lat": [
            25.48440979955457
           ],
           "legendgroup": "path1",
           "lon": [
            160.98440979955456
           ],
           "marker": {
            "color": "#EF553B",
            "size": [
             5
            ],
            "sizemode": "area",
            "sizeref": 0.0125
           },
           "mode": "markers",
           "name": "path1",
           "showlegend": true,
           "subplot": "mapbox",
           "type": "scattermapbox"
          }
         ],
         "name": "3800.0"
        },
        {
         "data": [
          {
           "hovertemplate": "<b>%{hovertext}</b><br><br>type=path1_no_obstacle<br>timestep=3900.0<br>size=%{marker.size}<br>lat=%{lat}<br>lon=%{lon}<extra></extra>",
           "hovertext": [
            "path1_no_obstacle"
           ],
           "lat": [
            19.10983606557377
           ],
           "legendgroup": "path1_no_obstacle",
           "lon": [
            154.60983606557377
           ],
           "marker": {
            "color": "#636efa",
            "size": [
             5
            ],
            "sizemode": "area",
            "sizeref": 0.0125
           },
           "mode": "markers",
           "name": "path1_no_obstacle",
           "showlegend": true,
           "subplot": "mapbox",
           "type": "scattermapbox"
          },
          {
           "hovertemplate": "<b>%{hovertext}</b><br><br>type=path1<br>timestep=3900.0<br>size=%{marker.size}<br>lat=%{lat}<br>lon=%{lon}<extra></extra>",
           "hovertext": [
            "path1"
           ],
           "lat": [
            25.038975501113587
           ],
           "legendgroup": "path1",
           "lon": [
            160.53897550111358
           ],
           "marker": {
            "color": "#EF553B",
            "size": [
             5
            ],
            "sizemode": "area",
            "sizeref": 0.0125
           },
           "mode": "markers",
           "name": "path1",
           "showlegend": true,
           "subplot": "mapbox",
           "type": "scattermapbox"
          }
         ],
         "name": "3900.0"
        },
        {
         "data": [
          {
           "hovertemplate": "<b>%{hovertext}</b><br><br>type=path1_no_obstacle<br>timestep=4000.0<br>size=%{marker.size}<br>lat=%{lat}<br>lon=%{lon}<extra></extra>",
           "hovertext": [
            "path1_no_obstacle"
           ],
           "lat": [
            18.45439739413681
           ],
           "legendgroup": "path1_no_obstacle",
           "lon": [
            153.9543973941368
           ],
           "marker": {
            "color": "#636efa",
            "size": [
             5
            ],
            "sizemode": "area",
            "sizeref": 0.0125
           },
           "mode": "markers",
           "name": "path1_no_obstacle",
           "showlegend": true,
           "subplot": "mapbox",
           "type": "scattermapbox"
          },
          {
           "hovertemplate": "<b>%{hovertext}</b><br><br>type=path1<br>timestep=4000.0<br>size=%{marker.size}<br>lat=%{lat}<br>lon=%{lon}<extra></extra>",
           "hovertext": [
            "path1"
           ],
           "lat": [
            24.593541202672604
           ],
           "legendgroup": "path1",
           "lon": [
            160.0935412026726
           ],
           "marker": {
            "color": "#EF553B",
            "size": [
             5
            ],
            "sizemode": "area",
            "sizeref": 0.0125
           },
           "mode": "markers",
           "name": "path1",
           "showlegend": true,
           "subplot": "mapbox",
           "type": "scattermapbox"
          }
         ],
         "name": "4000.0"
        },
        {
         "data": [
          {
           "hovertemplate": "<b>%{hovertext}</b><br><br>type=path1_no_obstacle<br>timestep=4100.0<br>size=%{marker.size}<br>lat=%{lat}<br>lon=%{lon}<extra></extra>",
           "hovertext": [
            "path1_no_obstacle"
           ],
           "lat": [
            17.802931596091206
           ],
           "legendgroup": "path1_no_obstacle",
           "lon": [
            153.3029315960912
           ],
           "marker": {
            "color": "#636efa",
            "size": [
             5
            ],
            "sizemode": "area",
            "sizeref": 0.0125
           },
           "mode": "markers",
           "name": "path1_no_obstacle",
           "showlegend": true,
           "subplot": "mapbox",
           "type": "scattermapbox"
          },
          {
           "hovertemplate": "<b>%{hovertext}</b><br><br>type=path1<br>timestep=4100.0<br>size=%{marker.size}<br>lat=%{lat}<br>lon=%{lon}<extra></extra>",
           "hovertext": [
            "path1"
           ],
           "lat": [
            24.150442477876105
           ],
           "legendgroup": "path1",
           "lon": [
            159.6504424778761
           ],
           "marker": {
            "color": "#EF553B",
            "size": [
             5
            ],
            "sizemode": "area",
            "sizeref": 0.0125
           },
           "mode": "markers",
           "name": "path1",
           "showlegend": true,
           "subplot": "mapbox",
           "type": "scattermapbox"
          }
         ],
         "name": "4100.0"
        },
        {
         "data": [
          {
           "hovertemplate": "<b>%{hovertext}</b><br><br>type=path1_no_obstacle<br>timestep=4200.0<br>size=%{marker.size}<br>lat=%{lat}<br>lon=%{lon}<extra></extra>",
           "hovertext": [
            "path1_no_obstacle"
           ],
           "lat": [
            17.151465798045603
           ],
           "legendgroup": "path1_no_obstacle",
           "lon": [
            152.6514657980456
           ],
           "marker": {
            "color": "#636efa",
            "size": [
             5
            ],
            "sizemode": "area",
            "sizeref": 0.0125
           },
           "mode": "markers",
           "name": "path1_no_obstacle",
           "showlegend": true,
           "subplot": "mapbox",
           "type": "scattermapbox"
          },
          {
           "hovertemplate": "<b>%{hovertext}</b><br><br>type=path1<br>timestep=4200.0<br>size=%{marker.size}<br>lat=%{lat}<br>lon=%{lon}<extra></extra>",
           "hovertext": [
            "path1"
           ],
           "lat": [
            23.70796460176992
           ],
           "legendgroup": "path1",
           "lon": [
            159.2079646017699
           ],
           "marker": {
            "color": "#EF553B",
            "size": [
             5
            ],
            "sizemode": "area",
            "sizeref": 0.0125
           },
           "mode": "markers",
           "name": "path1",
           "showlegend": true,
           "subplot": "mapbox",
           "type": "scattermapbox"
          }
         ],
         "name": "4200.0"
        },
        {
         "data": [
          {
           "hovertemplate": "<b>%{hovertext}</b><br><br>type=path1_no_obstacle<br>timestep=4300.0<br>size=%{marker.size}<br>lat=%{lat}<br>lon=%{lon}<extra></extra>",
           "hovertext": [
            "path1_no_obstacle"
           ],
           "lat": [
            16.5
           ],
           "legendgroup": "path1_no_obstacle",
           "lon": [
            152
           ],
           "marker": {
            "color": "#636efa",
            "size": [
             5
            ],
            "sizemode": "area",
            "sizeref": 0.0125
           },
           "mode": "markers",
           "name": "path1_no_obstacle",
           "showlegend": true,
           "subplot": "mapbox",
           "type": "scattermapbox"
          },
          {
           "hovertemplate": "<b>%{hovertext}</b><br><br>type=path1<br>timestep=4300.0<br>size=%{marker.size}<br>lat=%{lat}<br>lon=%{lon}<extra></extra>",
           "hovertext": [
            "path1"
           ],
           "lat": [
            23.26548672566372
           ],
           "legendgroup": "path1",
           "lon": [
            158.76548672566372
           ],
           "marker": {
            "color": "#EF553B",
            "size": [
             5
            ],
            "sizemode": "area",
            "sizeref": 0.0125
           },
           "mode": "markers",
           "name": "path1",
           "showlegend": true,
           "subplot": "mapbox",
           "type": "scattermapbox"
          }
         ],
         "name": "4300.0"
        },
        {
         "data": [
          {
           "hovertemplate": "<b>%{hovertext}</b><br><br>type=path1_no_obstacle<br>timestep=4400.0<br>size=%{marker.size}<br>lat=%{lat}<br>lon=%{lon}<extra></extra>",
           "hovertext": [
            "path1_no_obstacle"
           ],
           "lat": [
            15.85064935064935
           ],
           "legendgroup": "path1_no_obstacle",
           "lon": [
            151.35064935064935
           ],
           "marker": {
            "color": "#636efa",
            "size": [
             5
            ],
            "sizemode": "area",
            "sizeref": 0.0125
           },
           "mode": "markers",
           "name": "path1_no_obstacle",
           "showlegend": true,
           "subplot": "mapbox",
           "type": "scattermapbox"
          },
          {
           "hovertemplate": "<b>%{hovertext}</b><br><br>type=path1<br>timestep=4400.0<br>size=%{marker.size}<br>lat=%{lat}<br>lon=%{lon}<extra></extra>",
           "hovertext": [
            "path1"
           ],
           "lat": [
            22.82300884955752
           ],
           "legendgroup": "path1",
           "lon": [
            158.3230088495575
           ],
           "marker": {
            "color": "#EF553B",
            "size": [
             5
            ],
            "sizemode": "area",
            "sizeref": 0.0125
           },
           "mode": "markers",
           "name": "path1",
           "showlegend": true,
           "subplot": "mapbox",
           "type": "scattermapbox"
          }
         ],
         "name": "4400.0"
        },
        {
         "data": [
          {
           "hovertemplate": "<b>%{hovertext}</b><br><br>type=path1_no_obstacle<br>timestep=4500.0<br>size=%{marker.size}<br>lat=%{lat}<br>lon=%{lon}<extra></extra>",
           "hovertext": [
            "path1_no_obstacle"
           ],
           "lat": [
            15.2012987012987
           ],
           "legendgroup": "path1_no_obstacle",
           "lon": [
            150.7012987012987
           ],
           "marker": {
            "color": "#636efa",
            "size": [
             5
            ],
            "sizemode": "area",
            "sizeref": 0.0125
           },
           "mode": "markers",
           "name": "path1_no_obstacle",
           "showlegend": true,
           "subplot": "mapbox",
           "type": "scattermapbox"
          },
          {
           "hovertemplate": "<b>%{hovertext}</b><br><br>type=path1<br>timestep=4500.0<br>size=%{marker.size}<br>lat=%{lat}<br>lon=%{lon}<extra></extra>",
           "hovertext": [
            "path1"
           ],
           "lat": [
            22.321782178217823
           ],
           "legendgroup": "path1",
           "lon": [
            157.82178217821783
           ],
           "marker": {
            "color": "#EF553B",
            "size": [
             5
            ],
            "sizemode": "area",
            "sizeref": 0.0125
           },
           "mode": "markers",
           "name": "path1",
           "showlegend": true,
           "subplot": "mapbox",
           "type": "scattermapbox"
          }
         ],
         "name": "4500.0"
        },
        {
         "data": [
          {
           "hovertemplate": "<b>%{hovertext}</b><br><br>type=path1_no_obstacle<br>timestep=4600.0<br>size=%{marker.size}<br>lat=%{lat}<br>lon=%{lon}<extra></extra>",
           "hovertext": [
            "path1_no_obstacle"
           ],
           "lat": [
            14.551948051948052
           ],
           "legendgroup": "path1_no_obstacle",
           "lon": [
            150.05194805194805
           ],
           "marker": {
            "color": "#636efa",
            "size": [
             5
            ],
            "sizemode": "area",
            "sizeref": 0.0125
           },
           "mode": "markers",
           "name": "path1_no_obstacle",
           "showlegend": true,
           "subplot": "mapbox",
           "type": "scattermapbox"
          },
          {
           "hovertemplate": "<b>%{hovertext}</b><br><br>type=path1<br>timestep=4600.0<br>size=%{marker.size}<br>lat=%{lat}<br>lon=%{lon}<extra></extra>",
           "hovertext": [
            "path1"
           ],
           "lat": [
            21.66171617161716
           ],
           "legendgroup": "path1",
           "lon": [
            157.16171617161717
           ],
           "marker": {
            "color": "#EF553B",
            "size": [
             5
            ],
            "sizemode": "area",
            "sizeref": 0.0125
           },
           "mode": "markers",
           "name": "path1",
           "showlegend": true,
           "subplot": "mapbox",
           "type": "scattermapbox"
          }
         ],
         "name": "4600.0"
        },
        {
         "data": [
          {
           "hovertemplate": "<b>%{hovertext}</b><br><br>type=path1_no_obstacle<br>timestep=4700.0<br>size=%{marker.size}<br>lat=%{lat}<br>lon=%{lon}<extra></extra>",
           "hovertext": [
            "path1_no_obstacle"
           ],
           "lat": [
            13.906451612903226
           ],
           "legendgroup": "path1_no_obstacle",
           "lon": [
            149.40645161290325
           ],
           "marker": {
            "color": "#636efa",
            "size": [
             5
            ],
            "sizemode": "area",
            "sizeref": 0.0125
           },
           "mode": "markers",
           "name": "path1_no_obstacle",
           "showlegend": true,
           "subplot": "mapbox",
           "type": "scattermapbox"
          },
          {
           "hovertemplate": "<b>%{hovertext}</b><br><br>type=path1<br>timestep=4700.0<br>size=%{marker.size}<br>lat=%{lat}<br>lon=%{lon}<extra></extra>",
           "hovertext": [
            "path1"
           ],
           "lat": [
            21.001650165016503
           ],
           "legendgroup": "path1",
           "lon": [
            156.5016501650165
           ],
           "marker": {
            "color": "#EF553B",
            "size": [
             5
            ],
            "sizemode": "area",
            "sizeref": 0.0125
           },
           "mode": "markers",
           "name": "path1",
           "showlegend": true,
           "subplot": "mapbox",
           "type": "scattermapbox"
          }
         ],
         "name": "4700.0"
        },
        {
         "data": [
          {
           "hovertemplate": "<b>%{hovertext}</b><br><br>type=path1_no_obstacle<br>timestep=4800.0<br>size=%{marker.size}<br>lat=%{lat}<br>lon=%{lon}<extra></extra>",
           "hovertext": [
            "path1_no_obstacle"
           ],
           "lat": [
            13.261290322580646
           ],
           "legendgroup": "path1_no_obstacle",
           "lon": [
            148.76129032258063
           ],
           "marker": {
            "color": "#636efa",
            "size": [
             5
            ],
            "sizemode": "area",
            "sizeref": 0.0125
           },
           "mode": "markers",
           "name": "path1_no_obstacle",
           "showlegend": true,
           "subplot": "mapbox",
           "type": "scattermapbox"
          },
          {
           "hovertemplate": "<b>%{hovertext}</b><br><br>type=path1<br>timestep=4800.0<br>size=%{marker.size}<br>lat=%{lat}<br>lon=%{lon}<extra></extra>",
           "hovertext": [
            "path1"
           ],
           "lat": [
            20.34262295081967
           ],
           "legendgroup": "path1",
           "lon": [
            155.84262295081967
           ],
           "marker": {
            "color": "#EF553B",
            "size": [
             5
            ],
            "sizemode": "area",
            "sizeref": 0.0125
           },
           "mode": "markers",
           "name": "path1",
           "showlegend": true,
           "subplot": "mapbox",
           "type": "scattermapbox"
          }
         ],
         "name": "4800.0"
        },
        {
         "data": [
          {
           "hovertemplate": "<b>%{hovertext}</b><br><br>type=path1_no_obstacle<br>timestep=4900.0<br>size=%{marker.size}<br>lat=%{lat}<br>lon=%{lon}<extra></extra>",
           "hovertext": [
            "path1_no_obstacle"
           ],
           "lat": [
            12.616129032258064
           ],
           "legendgroup": "path1_no_obstacle",
           "lon": [
            148.11612903225807
           ],
           "marker": {
            "color": "#636efa",
            "size": [
             5
            ],
            "sizemode": "area",
            "sizeref": 0.0125
           },
           "mode": "markers",
           "name": "path1_no_obstacle",
           "showlegend": true,
           "subplot": "mapbox",
           "type": "scattermapbox"
          },
          {
           "hovertemplate": "<b>%{hovertext}</b><br><br>type=path1<br>timestep=4900.0<br>size=%{marker.size}<br>lat=%{lat}<br>lon=%{lon}<extra></extra>",
           "hovertext": [
            "path1"
           ],
           "lat": [
            19.68688524590164
           ],
           "legendgroup": "path1",
           "lon": [
            155.18688524590164
           ],
           "marker": {
            "color": "#EF553B",
            "size": [
             5
            ],
            "sizemode": "area",
            "sizeref": 0.0125
           },
           "mode": "markers",
           "name": "path1",
           "showlegend": true,
           "subplot": "mapbox",
           "type": "scattermapbox"
          }
         ],
         "name": "4900.0"
        },
        {
         "data": [
          {
           "hovertemplate": "<b>%{hovertext}</b><br><br>type=path1_no_obstacle<br>timestep=5000.0<br>size=%{marker.size}<br>lat=%{lat}<br>lon=%{lon}<extra></extra>",
           "hovertext": [
            "path1_no_obstacle"
           ],
           "lat": [
            11.97266881028939
           ],
           "legendgroup": "path1_no_obstacle",
           "lon": [
            147.47266881028938
           ],
           "marker": {
            "color": "#636efa",
            "size": [
             5
            ],
            "sizemode": "area",
            "sizeref": 0.0125
           },
           "mode": "markers",
           "name": "path1_no_obstacle",
           "showlegend": true,
           "subplot": "mapbox",
           "type": "scattermapbox"
          },
          {
           "hovertemplate": "<b>%{hovertext}</b><br><br>type=path1<br>timestep=5000.0<br>size=%{marker.size}<br>lat=%{lat}<br>lon=%{lon}<extra></extra>",
           "hovertext": [
            "path1"
           ],
           "lat": [
            19.031147540983607
           ],
           "legendgroup": "path1",
           "lon": [
            154.5311475409836
           ],
           "marker": {
            "color": "#EF553B",
            "size": [
             5
            ],
            "sizemode": "area",
            "sizeref": 0.0125
           },
           "mode": "markers",
           "name": "path1",
           "showlegend": true,
           "subplot": "mapbox",
           "type": "scattermapbox"
          }
         ],
         "name": "5000.0"
        },
        {
         "data": [
          {
           "hovertemplate": "<b>%{hovertext}</b><br><br>type=path1_no_obstacle<br>timestep=5100.0<br>size=%{marker.size}<br>lat=%{lat}<br>lon=%{lon}<extra></extra>",
           "hovertext": [
            "path1_no_obstacle"
           ],
           "lat": [
            11.329581993569132
           ],
           "legendgroup": "path1_no_obstacle",
           "lon": [
            146.82958199356912
           ],
           "marker": {
            "color": "#636efa",
            "size": [
             5
            ],
            "sizemode": "area",
            "sizeref": 0.0125
           },
           "mode": "markers",
           "name": "path1_no_obstacle",
           "showlegend": true,
           "subplot": "mapbox",
           "type": "scattermapbox"
          },
          {
           "hovertemplate": "<b>%{hovertext}</b><br><br>type=path1<br>timestep=5100.0<br>size=%{marker.size}<br>lat=%{lat}<br>lon=%{lon}<extra></extra>",
           "hovertext": [
            "path1"
           ],
           "lat": [
            18.376221498371336
           ],
           "legendgroup": "path1",
           "lon": [
            153.87622149837134
           ],
           "marker": {
            "color": "#EF553B",
            "size": [
             5
            ],
            "sizemode": "area",
            "sizeref": 0.0125
           },
           "mode": "markers",
           "name": "path1",
           "showlegend": true,
           "subplot": "mapbox",
           "type": "scattermapbox"
          }
         ],
         "name": "5100.0"
        },
        {
         "data": [
          {
           "hovertemplate": "<b>%{hovertext}</b><br><br>type=path1_no_obstacle<br>timestep=5200.0<br>size=%{marker.size}<br>lat=%{lat}<br>lon=%{lon}<extra></extra>",
           "hovertext": [
            "path1_no_obstacle"
           ],
           "lat": [
            10.686495176848874
           ],
           "legendgroup": "path1_no_obstacle",
           "lon": [
            146.1864951768489
           ],
           "marker": {
            "color": "#636efa",
            "size": [
             5
            ],
            "sizemode": "area",
            "sizeref": 0.0125
           },
           "mode": "markers",
           "name": "path1_no_obstacle",
           "showlegend": true,
           "subplot": "mapbox",
           "type": "scattermapbox"
          },
          {
           "hovertemplate": "<b>%{hovertext}</b><br><br>type=path1<br>timestep=5200.0<br>size=%{marker.size}<br>lat=%{lat}<br>lon=%{lon}<extra></extra>",
           "hovertext": [
            "path1"
           ],
           "lat": [
            17.724755700325733
           ],
           "legendgroup": "path1",
           "lon": [
            153.22475570032574
           ],
           "marker": {
            "color": "#EF553B",
            "size": [
             5
            ],
            "sizemode": "area",
            "sizeref": 0.0125
           },
           "mode": "markers",
           "name": "path1",
           "showlegend": true,
           "subplot": "mapbox",
           "type": "scattermapbox"
          }
         ],
         "name": "5200.0"
        },
        {
         "data": [
          {
           "hovertemplate": "<b>%{hovertext}</b><br><br>type=path1_no_obstacle<br>timestep=5300.0<br>size=%{marker.size}<br>lat=%{lat}<br>lon=%{lon}<extra></extra>",
           "hovertext": [
            "path1_no_obstacle"
           ],
           "lat": [
            10.044871794871796
           ],
           "legendgroup": "path1_no_obstacle",
           "lon": [
            145.5448717948718
           ],
           "marker": {
            "color": "#636efa",
            "size": [
             5
            ],
            "sizemode": "area",
            "sizeref": 0.0125
           },
           "mode": "markers",
           "name": "path1_no_obstacle",
           "showlegend": true,
           "subplot": "mapbox",
           "type": "scattermapbox"
          },
          {
           "hovertemplate": "<b>%{hovertext}</b><br><br>type=path1<br>timestep=5300.0<br>size=%{marker.size}<br>lat=%{lat}<br>lon=%{lon}<extra></extra>",
           "hovertext": [
            "path1"
           ],
           "lat": [
            17.07328990228013
           ],
           "legendgroup": "path1",
           "lon": [
            152.57328990228012
           ],
           "marker": {
            "color": "#EF553B",
            "size": [
             5
            ],
            "sizemode": "area",
            "sizeref": 0.0125
           },
           "mode": "markers",
           "name": "path1",
           "showlegend": true,
           "subplot": "mapbox",
           "type": "scattermapbox"
          }
         ],
         "name": "5300.0"
        },
        {
         "data": [
          {
           "hovertemplate": "<b>%{hovertext}</b><br><br>type=path1_no_obstacle<br>timestep=5400.0<br>size=%{marker.size}<br>lat=%{lat}<br>lon=%{lon}<extra></extra>",
           "hovertext": [
            "path1_no_obstacle"
           ],
           "lat": [
            9.403846153846152
           ],
           "legendgroup": "path1_no_obstacle",
           "lon": [
            144.90384615384616
           ],
           "marker": {
            "color": "#636efa",
            "size": [
             5
            ],
            "sizemode": "area",
            "sizeref": 0.0125
           },
           "mode": "markers",
           "name": "path1_no_obstacle",
           "showlegend": true,
           "subplot": "mapbox",
           "type": "scattermapbox"
          },
          {
           "hovertemplate": "<b>%{hovertext}</b><br><br>type=path1<br>timestep=5400.0<br>size=%{marker.size}<br>lat=%{lat}<br>lon=%{lon}<extra></extra>",
           "hovertext": [
            "path1"
           ],
           "lat": [
            16.42207792207792
           ],
           "legendgroup": "path1",
           "lon": [
            151.92207792207793
           ],
           "marker": {
            "color": "#EF553B",
            "size": [
             5
            ],
            "sizemode": "area",
            "sizeref": 0.0125
           },
           "mode": "markers",
           "name": "path1",
           "showlegend": true,
           "subplot": "mapbox",
           "type": "scattermapbox"
          }
         ],
         "name": "5400.0"
        },
        {
         "data": [
          {
           "hovertemplate": "<b>%{hovertext}</b><br><br>type=path1_no_obstacle<br>timestep=5500.0<br>size=%{marker.size}<br>lat=%{lat}<br>lon=%{lon}<extra></extra>",
           "hovertext": [
            "path1_no_obstacle"
           ],
           "lat": [
            8.762820512820513
           ],
           "legendgroup": "path1_no_obstacle",
           "lon": [
            144.26282051282053
           ],
           "marker": {
            "color": "#636efa",
            "size": [
             5
            ],
            "sizemode": "area",
            "sizeref": 0.0125
           },
           "mode": "markers",
           "name": "path1_no_obstacle",
           "showlegend": true,
           "subplot": "mapbox",
           "type": "scattermapbox"
          },
          {
           "hovertemplate": "<b>%{hovertext}</b><br><br>type=path1<br>timestep=5500.0<br>size=%{marker.size}<br>lat=%{lat}<br>lon=%{lon}<extra></extra>",
           "hovertext": [
            "path1"
           ],
           "lat": [
            15.772727272727272
           ],
           "legendgroup": "path1",
           "lon": [
            151.27272727272728
           ],
           "marker": {
            "color": "#EF553B",
            "size": [
             5
            ],
            "sizemode": "area",
            "sizeref": 0.0125
           },
           "mode": "markers",
           "name": "path1",
           "showlegend": true,
           "subplot": "mapbox",
           "type": "scattermapbox"
          }
         ],
         "name": "5500.0"
        },
        {
         "data": [
          {
           "hovertemplate": "<b>%{hovertext}</b><br><br>type=path1_no_obstacle<br>timestep=5600.0<br>size=%{marker.size}<br>lat=%{lat}<br>lon=%{lon}<extra></extra>",
           "hovertext": [
            "path1_no_obstacle"
           ],
           "lat": [
            8.12300319488818
           ],
           "legendgroup": "path1_no_obstacle",
           "lon": [
            143.62300319488818
           ],
           "marker": {
            "color": "#636efa",
            "size": [
             5
            ],
            "sizemode": "area",
            "sizeref": 0.0125
           },
           "mode": "markers",
           "name": "path1_no_obstacle",
           "showlegend": true,
           "subplot": "mapbox",
           "type": "scattermapbox"
          },
          {
           "hovertemplate": "<b>%{hovertext}</b><br><br>type=path1<br>timestep=5600.0<br>size=%{marker.size}<br>lat=%{lat}<br>lon=%{lon}<extra></extra>",
           "hovertext": [
            "path1"
           ],
           "lat": [
            15.123376623376624
           ],
           "legendgroup": "path1",
           "lon": [
            150.62337662337663
           ],
           "marker": {
            "color": "#EF553B",
            "size": [
             5
            ],
            "sizemode": "area",
            "sizeref": 0.0125
           },
           "mode": "markers",
           "name": "path1",
           "showlegend": true,
           "subplot": "mapbox",
           "type": "scattermapbox"
          }
         ],
         "name": "5600.0"
        },
        {
         "data": [
          {
           "hovertemplate": "<b>%{hovertext}</b><br><br>type=path1_no_obstacle<br>timestep=5700.0<br>size=%{marker.size}<br>lat=%{lat}<br>lon=%{lon}<extra></extra>",
           "hovertext": [
            "path1_no_obstacle"
           ],
           "lat": [
            7.484025559105431
           ],
           "legendgroup": "path1_no_obstacle",
           "lon": [
            142.98402555910542
           ],
           "marker": {
            "color": "#636efa",
            "size": [
             5
            ],
            "sizemode": "area",
            "sizeref": 0.0125
           },
           "mode": "markers",
           "name": "path1_no_obstacle",
           "showlegend": true,
           "subplot": "mapbox",
           "type": "scattermapbox"
          },
          {
           "hovertemplate": "<b>%{hovertext}</b><br><br>type=path1<br>timestep=5700.0<br>size=%{marker.size}<br>lat=%{lat}<br>lon=%{lon}<extra></extra>",
           "hovertext": [
            "path1"
           ],
           "lat": [
            14.474193548387095
           ],
           "legendgroup": "path1",
           "lon": [
            149.9741935483871
           ],
           "marker": {
            "color": "#EF553B",
            "size": [
             5
            ],
            "sizemode": "area",
            "sizeref": 0.0125
           },
           "mode": "markers",
           "name": "path1",
           "showlegend": true,
           "subplot": "mapbox",
           "type": "scattermapbox"
          }
         ],
         "name": "5700.0"
        },
        {
         "data": [
          {
           "hovertemplate": "<b>%{hovertext}</b><br><br>type=path1_no_obstacle<br>timestep=5800.0<br>size=%{marker.size}<br>lat=%{lat}<br>lon=%{lon}<extra></extra>",
           "hovertext": [
            "path1_no_obstacle"
           ],
           "lat": [
            6.845047923322683
           ],
           "legendgroup": "path1_no_obstacle",
           "lon": [
            142.34504792332268
           ],
           "marker": {
            "color": "#636efa",
            "size": [
             5
            ],
            "sizemode": "area",
            "sizeref": 0.0125
           },
           "mode": "markers",
           "name": "path1_no_obstacle",
           "showlegend": true,
           "subplot": "mapbox",
           "type": "scattermapbox"
          },
          {
           "hovertemplate": "<b>%{hovertext}</b><br><br>type=path1<br>timestep=5800.0<br>size=%{marker.size}<br>lat=%{lat}<br>lon=%{lon}<extra></extra>",
           "hovertext": [
            "path1"
           ],
           "lat": [
            13.829032258064515
           ],
           "legendgroup": "path1",
           "lon": [
            149.32903225806453
           ],
           "marker": {
            "color": "#EF553B",
            "size": [
             5
            ],
            "sizemode": "area",
            "sizeref": 0.0125
           },
           "mode": "markers",
           "name": "path1",
           "showlegend": true,
           "subplot": "mapbox",
           "type": "scattermapbox"
          }
         ],
         "name": "5800.0"
        },
        {
         "data": [
          {
           "hovertemplate": "<b>%{hovertext}</b><br><br>type=path1_no_obstacle<br>timestep=5900.0<br>size=%{marker.size}<br>lat=%{lat}<br>lon=%{lon}<extra></extra>",
           "hovertext": [
            "path1_no_obstacle"
           ],
           "lat": [
            6.206070287539936
           ],
           "legendgroup": "path1_no_obstacle",
           "lon": [
            141.70607028753994
           ],
           "marker": {
            "color": "#636efa",
            "size": [
             5
            ],
            "sizemode": "area",
            "sizeref": 0.0125
           },
           "mode": "markers",
           "name": "path1_no_obstacle",
           "showlegend": true,
           "subplot": "mapbox",
           "type": "scattermapbox"
          },
          {
           "hovertemplate": "<b>%{hovertext}</b><br><br>type=path1<br>timestep=5900.0<br>size=%{marker.size}<br>lat=%{lat}<br>lon=%{lon}<extra></extra>",
           "hovertext": [
            "path1"
           ],
           "lat": [
            13.183870967741935
           ],
           "legendgroup": "path1",
           "lon": [
            148.68387096774194
           ],
           "marker": {
            "color": "#EF553B",
            "size": [
             5
            ],
            "sizemode": "area",
            "sizeref": 0.0125
           },
           "mode": "markers",
           "name": "path1",
           "showlegend": true,
           "subplot": "mapbox",
           "type": "scattermapbox"
          }
         ],
         "name": "5900.0"
        },
        {
         "data": [
          {
           "hovertemplate": "<b>%{hovertext}</b><br><br>type=path1_no_obstacle<br>timestep=6000.0<br>size=%{marker.size}<br>lat=%{lat}<br>lon=%{lon}<extra></extra>",
           "hovertext": [
            "path1_no_obstacle"
           ],
           "lat": [
            5.567092651757188
           ],
           "legendgroup": "path1_no_obstacle",
           "lon": [
            141.06709265175718
           ],
           "marker": {
            "color": "#636efa",
            "size": [
             5
            ],
            "sizemode": "area",
            "sizeref": 0.0125
           },
           "mode": "markers",
           "name": "path1_no_obstacle",
           "showlegend": true,
           "subplot": "mapbox",
           "type": "scattermapbox"
          },
          {
           "hovertemplate": "<b>%{hovertext}</b><br><br>type=path1<br>timestep=6000.0<br>size=%{marker.size}<br>lat=%{lat}<br>lon=%{lon}<extra></extra>",
           "hovertext": [
            "path1"
           ],
           "lat": [
            12.538709677419355
           ],
           "legendgroup": "path1",
           "lon": [
            148.03870967741935
           ],
           "marker": {
            "color": "#EF553B",
            "size": [
             5
            ],
            "sizemode": "area",
            "sizeref": 0.0125
           },
           "mode": "markers",
           "name": "path1",
           "showlegend": true,
           "subplot": "mapbox",
           "type": "scattermapbox"
          }
         ],
         "name": "6000.0"
        },
        {
         "data": [
          {
           "hovertemplate": "<b>%{hovertext}</b><br><br>type=path1_no_obstacle<br>timestep=6100.0<br>size=%{marker.size}<br>lat=%{lat}<br>lon=%{lon}<extra></extra>",
           "hovertext": [
            "path1_no_obstacle"
           ],
           "lat": [
            4.928115015974441
           ],
           "legendgroup": "path1_no_obstacle",
           "lon": [
            140.42811501597444
           ],
           "marker": {
            "color": "#636efa",
            "size": [
             5
            ],
            "sizemode": "area",
            "sizeref": 0.0125
           },
           "mode": "markers",
           "name": "path1_no_obstacle",
           "showlegend": true,
           "subplot": "mapbox",
           "type": "scattermapbox"
          },
          {
           "hovertemplate": "<b>%{hovertext}</b><br><br>type=path1<br>timestep=6100.0<br>size=%{marker.size}<br>lat=%{lat}<br>lon=%{lon}<extra></extra>",
           "hovertext": [
            "path1"
           ],
           "lat": [
            11.895498392282958
           ],
           "legendgroup": "path1",
           "lon": [
            147.39549839228297
           ],
           "marker": {
            "color": "#EF553B",
            "size": [
             5
            ],
            "sizemode": "area",
            "sizeref": 0.0125
           },
           "mode": "markers",
           "name": "path1",
           "showlegend": true,
           "subplot": "mapbox",
           "type": "scattermapbox"
          }
         ],
         "name": "6100.0"
        },
        {
         "data": [
          {
           "hovertemplate": "<b>%{hovertext}</b><br><br>type=path1_no_obstacle<br>timestep=6200.0<br>size=%{marker.size}<br>lat=%{lat}<br>lon=%{lon}<extra></extra>",
           "hovertext": [
            "path1_no_obstacle"
           ],
           "lat": [
            4.289808917197452
           ],
           "legendgroup": "path1_no_obstacle",
           "lon": [
            139.78980891719746
           ],
           "marker": {
            "color": "#636efa",
            "size": [
             5
            ],
            "sizemode": "area",
            "sizeref": 0.0125
           },
           "mode": "markers",
           "name": "path1_no_obstacle",
           "showlegend": true,
           "subplot": "mapbox",
           "type": "scattermapbox"
          },
          {
           "hovertemplate": "<b>%{hovertext}</b><br><br>type=path1<br>timestep=6200.0<br>size=%{marker.size}<br>lat=%{lat}<br>lon=%{lon}<extra></extra>",
           "hovertext": [
            "path1"
           ],
           "lat": [
            11.2524115755627
           ],
           "legendgroup": "path1",
           "lon": [
            146.7524115755627
           ],
           "marker": {
            "color": "#EF553B",
            "size": [
             5
            ],
            "sizemode": "area",
            "sizeref": 0.0125
           },
           "mode": "markers",
           "name": "path1",
           "showlegend": true,
           "subplot": "mapbox",
           "type": "scattermapbox"
          }
         ],
         "name": "6200.0"
        },
        {
         "data": [
          {
           "hovertemplate": "<b>%{hovertext}</b><br><br>type=path1_no_obstacle<br>timestep=6300.0<br>size=%{marker.size}<br>lat=%{lat}<br>lon=%{lon}<extra></extra>",
           "hovertext": [
            "path1_no_obstacle"
           ],
           "lat": [
            3.652866242038217
           ],
           "legendgroup": "path1_no_obstacle",
           "lon": [
            139.1528662420382
           ],
           "marker": {
            "color": "#636efa",
            "size": [
             5
            ],
            "sizemode": "area",
            "sizeref": 0.0125
           },
           "mode": "markers",
           "name": "path1_no_obstacle",
           "showlegend": true,
           "subplot": "mapbox",
           "type": "scattermapbox"
          },
          {
           "hovertemplate": "<b>%{hovertext}</b><br><br>type=path1<br>timestep=6300.0<br>size=%{marker.size}<br>lat=%{lat}<br>lon=%{lon}<extra></extra>",
           "hovertext": [
            "path1"
           ],
           "lat": [
            10.609324758842444
           ],
           "legendgroup": "path1",
           "lon": [
            146.10932475884243
           ],
           "marker": {
            "color": "#EF553B",
            "size": [
             5
            ],
            "sizemode": "area",
            "sizeref": 0.0125
           },
           "mode": "markers",
           "name": "path1",
           "showlegend": true,
           "subplot": "mapbox",
           "type": "scattermapbox"
          }
         ],
         "name": "6300.0"
        },
        {
         "data": [
          {
           "hovertemplate": "<b>%{hovertext}</b><br><br>type=path1_no_obstacle<br>timestep=6400.0<br>size=%{marker.size}<br>lat=%{lat}<br>lon=%{lon}<extra></extra>",
           "hovertext": [
            "path1_no_obstacle"
           ],
           "lat": [
            3.015923566878981
           ],
           "legendgroup": "path1_no_obstacle",
           "lon": [
            138.51592356687897
           ],
           "marker": {
            "color": "#636efa",
            "size": [
             5
            ],
            "sizemode": "area",
            "sizeref": 0.0125
           },
           "mode": "markers",
           "name": "path1_no_obstacle",
           "showlegend": true,
           "subplot": "mapbox",
           "type": "scattermapbox"
          },
          {
           "hovertemplate": "<b>%{hovertext}</b><br><br>type=path1<br>timestep=6400.0<br>size=%{marker.size}<br>lat=%{lat}<br>lon=%{lon}<extra></extra>",
           "hovertext": [
            "path1"
           ],
           "lat": [
            9.967948717948715
           ],
           "legendgroup": "path1",
           "lon": [
            145.46794871794873
           ],
           "marker": {
            "color": "#EF553B",
            "size": [
             5
            ],
            "sizemode": "area",
            "sizeref": 0.0125
           },
           "mode": "markers",
           "name": "path1",
           "showlegend": true,
           "subplot": "mapbox",
           "type": "scattermapbox"
          }
         ],
         "name": "6400.0"
        },
        {
         "data": [
          {
           "hovertemplate": "<b>%{hovertext}</b><br><br>type=path1_no_obstacle<br>timestep=6500.0<br>size=%{marker.size}<br>lat=%{lat}<br>lon=%{lon}<extra></extra>",
           "hovertext": [
            "path1_no_obstacle"
           ],
           "lat": [
            2.378980891719745
           ],
           "legendgroup": "path1_no_obstacle",
           "lon": [
            137.87898089171975
           ],
           "marker": {
            "color": "#636efa",
            "size": [
             5
            ],
            "sizemode": "area",
            "sizeref": 0.0125
           },
           "mode": "markers",
           "name": "path1_no_obstacle",
           "showlegend": true,
           "subplot": "mapbox",
           "type": "scattermapbox"
          },
          {
           "hovertemplate": "<b>%{hovertext}</b><br><br>type=path1<br>timestep=6500.0<br>size=%{marker.size}<br>lat=%{lat}<br>lon=%{lon}<extra></extra>",
           "hovertext": [
            "path1"
           ],
           "lat": [
            9.326923076923077
           ],
           "legendgroup": "path1",
           "lon": [
            144.82692307692307
           ],
           "marker": {
            "color": "#EF553B",
            "size": [
             5
            ],
            "sizemode": "area",
            "sizeref": 0.0125
           },
           "mode": "markers",
           "name": "path1",
           "showlegend": true,
           "subplot": "mapbox",
           "type": "scattermapbox"
          }
         ],
         "name": "6500.0"
        },
        {
         "data": [
          {
           "hovertemplate": "<b>%{hovertext}</b><br><br>type=path1_no_obstacle<br>timestep=6600.0<br>size=%{marker.size}<br>lat=%{lat}<br>lon=%{lon}<extra></extra>",
           "hovertext": [
            "path1_no_obstacle"
           ],
           "lat": [
            1.7420382165605095
           ],
           "legendgroup": "path1_no_obstacle",
           "lon": [
            137.2420382165605
           ],
           "marker": {
            "color": "#636efa",
            "size": [
             5
            ],
            "sizemode": "area",
            "sizeref": 0.0125
           },
           "mode": "markers",
           "name": "path1_no_obstacle",
           "showlegend": true,
           "subplot": "mapbox",
           "type": "scattermapbox"
          },
          {
           "hovertemplate": "<b>%{hovertext}</b><br><br>type=path1<br>timestep=6600.0<br>size=%{marker.size}<br>lat=%{lat}<br>lon=%{lon}<extra></extra>",
           "hovertext": [
            "path1"
           ],
           "lat": [
            8.685897435897436
           ],
           "legendgroup": "path1",
           "lon": [
            144.18589743589743
           ],
           "marker": {
            "color": "#EF553B",
            "size": [
             5
            ],
            "sizemode": "area",
            "sizeref": 0.0125
           },
           "mode": "markers",
           "name": "path1",
           "showlegend": true,
           "subplot": "mapbox",
           "type": "scattermapbox"
          }
         ],
         "name": "6600.0"
        },
        {
         "data": [
          {
           "hovertemplate": "<b>%{hovertext}</b><br><br>type=path1_no_obstacle<br>timestep=6700.0<br>size=%{marker.size}<br>lat=%{lat}<br>lon=%{lon}<extra></extra>",
           "hovertext": [
            "path1_no_obstacle"
           ],
           "lat": [
            1.1050955414012738
           ],
           "legendgroup": "path1_no_obstacle",
           "lon": [
            136.60509554140128
           ],
           "marker": {
            "color": "#636efa",
            "size": [
             5
            ],
            "sizemode": "area",
            "sizeref": 0.0125
           },
           "mode": "markers",
           "name": "path1_no_obstacle",
           "showlegend": true,
           "subplot": "mapbox",
           "type": "scattermapbox"
          },
          {
           "hovertemplate": "<b>%{hovertext}</b><br><br>type=path1<br>timestep=6700.0<br>size=%{marker.size}<br>lat=%{lat}<br>lon=%{lon}<extra></extra>",
           "hovertext": [
            "path1"
           ],
           "lat": [
            8.04632587859425
           ],
           "legendgroup": "path1",
           "lon": [
            143.54632587859425
           ],
           "marker": {
            "color": "#EF553B",
            "size": [
             5
            ],
            "sizemode": "area",
            "sizeref": 0.0125
           },
           "mode": "markers",
           "name": "path1",
           "showlegend": true,
           "subplot": "mapbox",
           "type": "scattermapbox"
          }
         ],
         "name": "6700.0"
        },
        {
         "data": [
          {
           "hovertemplate": "<b>%{hovertext}</b><br><br>type=path1_no_obstacle<br>timestep=6800.0<br>size=%{marker.size}<br>lat=%{lat}<br>lon=%{lon}<extra></extra>",
           "hovertext": [
            "path1_no_obstacle"
           ],
           "lat": [
            0.4681528662420382
           ],
           "legendgroup": "path1_no_obstacle",
           "lon": [
            135.96815286624204
           ],
           "marker": {
            "color": "#636efa",
            "size": [
             5
            ],
            "sizemode": "area",
            "sizeref": 0.0125
           },
           "mode": "markers",
           "name": "path1_no_obstacle",
           "showlegend": true,
           "subplot": "mapbox",
           "type": "scattermapbox"
          },
          {
           "hovertemplate": "<b>%{hovertext}</b><br><br>type=path1<br>timestep=6800.0<br>size=%{marker.size}<br>lat=%{lat}<br>lon=%{lon}<extra></extra>",
           "hovertext": [
            "path1"
           ],
           "lat": [
            7.407348242811501
           ],
           "legendgroup": "path1",
           "lon": [
            142.9073482428115
           ],
           "marker": {
            "color": "#EF553B",
            "size": [
             5
            ],
            "sizemode": "area",
            "sizeref": 0.0125
           },
           "mode": "markers",
           "name": "path1",
           "showlegend": true,
           "subplot": "mapbox",
           "type": "scattermapbox"
          }
         ],
         "name": "6800.0"
        },
        {
         "data": [
          {
           "hovertemplate": "<b>%{hovertext}</b><br><br>type=path1_no_obstacle<br>timestep=6900.0<br>size=%{marker.size}<br>lat=%{lat}<br>lon=%{lon}<extra></extra>",
           "hovertext": [
            "path1_no_obstacle"
           ],
           "lat": [
            -0.1687898089171975
           ],
           "legendgroup": "path1_no_obstacle",
           "lon": [
            135.3312101910828
           ],
           "marker": {
            "color": "#636efa",
            "size": [
             5
            ],
            "sizemode": "area",
            "sizeref": 0.0125
           },
           "mode": "markers",
           "name": "path1_no_obstacle",
           "showlegend": true,
           "subplot": "mapbox",
           "type": "scattermapbox"
          },
          {
           "hovertemplate": "<b>%{hovertext}</b><br><br>type=path1<br>timestep=6900.0<br>size=%{marker.size}<br>lat=%{lat}<br>lon=%{lon}<extra></extra>",
           "hovertext": [
            "path1"
           ],
           "lat": [
            6.768370607028754
           ],
           "legendgroup": "path1",
           "lon": [
            142.26837060702874
           ],
           "marker": {
            "color": "#EF553B",
            "size": [
             5
            ],
            "sizemode": "area",
            "sizeref": 0.0125
           },
           "mode": "markers",
           "name": "path1",
           "showlegend": true,
           "subplot": "mapbox",
           "type": "scattermapbox"
          }
         ],
         "name": "6900.0"
        },
        {
         "data": [
          {
           "hovertemplate": "<b>%{hovertext}</b><br><br>type=path1_no_obstacle<br>timestep=7000.0<br>size=%{marker.size}<br>lat=%{lat}<br>lon=%{lon}<extra></extra>",
           "hovertext": [
            "path1_no_obstacle"
           ],
           "lat": [
            -0.8057324840764333
           ],
           "legendgroup": "path1_no_obstacle",
           "lon": [
            134.69426751592357
           ],
           "marker": {
            "color": "#636efa",
            "size": [
             5
            ],
            "sizemode": "area",
            "sizeref": 0.0125
           },
           "mode": "markers",
           "name": "path1_no_obstacle",
           "showlegend": true,
           "subplot": "mapbox",
           "type": "scattermapbox"
          },
          {
           "hovertemplate": "<b>%{hovertext}</b><br><br>type=path1<br>timestep=7000.0<br>size=%{marker.size}<br>lat=%{lat}<br>lon=%{lon}<extra></extra>",
           "hovertext": [
            "path1"
           ],
           "lat": [
            6.129392971246007
           ],
           "legendgroup": "path1",
           "lon": [
            141.629392971246
           ],
           "marker": {
            "color": "#EF553B",
            "size": [
             5
            ],
            "sizemode": "area",
            "sizeref": 0.0125
           },
           "mode": "markers",
           "name": "path1",
           "showlegend": true,
           "subplot": "mapbox",
           "type": "scattermapbox"
          }
         ],
         "name": "7000.0"
        },
        {
         "data": [
          {
           "hovertemplate": "<b>%{hovertext}</b><br><br>type=path1_no_obstacle<br>timestep=7100.0<br>size=%{marker.size}<br>lat=%{lat}<br>lon=%{lon}<extra></extra>",
           "hovertext": [
            "path1_no_obstacle"
           ],
           "lat": [
            -1.4426751592356688
           ],
           "legendgroup": "path1_no_obstacle",
           "lon": [
            134.05732484076432
           ],
           "marker": {
            "color": "#636efa",
            "size": [
             5
            ],
            "sizemode": "area",
            "sizeref": 0.0125
           },
           "mode": "markers",
           "name": "path1_no_obstacle",
           "showlegend": true,
           "subplot": "mapbox",
           "type": "scattermapbox"
          },
          {
           "hovertemplate": "<b>%{hovertext}</b><br><br>type=path1<br>timestep=7100.0<br>size=%{marker.size}<br>lat=%{lat}<br>lon=%{lon}<extra></extra>",
           "hovertext": [
            "path1"
           ],
           "lat": [
            5.4904153354632586
           ],
           "legendgroup": "path1",
           "lon": [
            140.99041533546327
           ],
           "marker": {
            "color": "#EF553B",
            "size": [
             5
            ],
            "sizemode": "area",
            "sizeref": 0.0125
           },
           "mode": "markers",
           "name": "path1",
           "showlegend": true,
           "subplot": "mapbox",
           "type": "scattermapbox"
          }
         ],
         "name": "7100.0"
        },
        {
         "data": [
          {
           "hovertemplate": "<b>%{hovertext}</b><br><br>type=path1_no_obstacle<br>timestep=7200.0<br>size=%{marker.size}<br>lat=%{lat}<br>lon=%{lon}<extra></extra>",
           "hovertext": [
            "path1_no_obstacle"
           ],
           "lat": [
            -2.079617834394905
           ],
           "legendgroup": "path1_no_obstacle",
           "lon": [
            133.4203821656051
           ],
           "marker": {
            "color": "#636efa",
            "size": [
             5
            ],
            "sizemode": "area",
            "sizeref": 0.0125
           },
           "mode": "markers",
           "name": "path1_no_obstacle",
           "showlegend": true,
           "subplot": "mapbox",
           "type": "scattermapbox"
          },
          {
           "hovertemplate": "<b>%{hovertext}</b><br><br>type=path1<br>timestep=7200.0<br>size=%{marker.size}<br>lat=%{lat}<br>lon=%{lon}<extra></extra>",
           "hovertext": [
            "path1"
           ],
           "lat": [
            4.851437699680512
           ],
           "legendgroup": "path1",
           "lon": [
            140.3514376996805
           ],
           "marker": {
            "color": "#EF553B",
            "size": [
             5
            ],
            "sizemode": "area",
            "sizeref": 0.0125
           },
           "mode": "markers",
           "name": "path1",
           "showlegend": true,
           "subplot": "mapbox",
           "type": "scattermapbox"
          }
         ],
         "name": "7200.0"
        },
        {
         "data": [
          {
           "hovertemplate": "<b>%{hovertext}</b><br><br>type=path1_no_obstacle<br>timestep=7300.0<br>size=%{marker.size}<br>lat=%{lat}<br>lon=%{lon}<extra></extra>",
           "hovertext": [
            "path1_no_obstacle"
           ],
           "lat": [
            -2.71656050955414
           ],
           "legendgroup": "path1_no_obstacle",
           "lon": [
            132.78343949044586
           ],
           "marker": {
            "color": "#636efa",
            "size": [
             5
            ],
            "sizemode": "area",
            "sizeref": 0.0125
           },
           "mode": "markers",
           "name": "path1_no_obstacle",
           "showlegend": true,
           "subplot": "mapbox",
           "type": "scattermapbox"
          },
          {
           "hovertemplate": "<b>%{hovertext}</b><br><br>type=path1<br>timestep=7300.0<br>size=%{marker.size}<br>lat=%{lat}<br>lon=%{lon}<extra></extra>",
           "hovertext": [
            "path1"
           ],
           "lat": [
            4.213375796178344
           ],
           "legendgroup": "path1",
           "lon": [
            139.71337579617835
           ],
           "marker": {
            "color": "#EF553B",
            "size": [
             5
            ],
            "sizemode": "area",
            "sizeref": 0.0125
           },
           "mode": "markers",
           "name": "path1",
           "showlegend": true,
           "subplot": "mapbox",
           "type": "scattermapbox"
          }
         ],
         "name": "7300.0"
        },
        {
         "data": [
          {
           "hovertemplate": "<b>%{hovertext}</b><br><br>type=path1_no_obstacle<br>timestep=7400.0<br>size=%{marker.size}<br>lat=%{lat}<br>lon=%{lon}<extra></extra>",
           "hovertext": [
            "path1_no_obstacle"
           ],
           "lat": [
            -3.353503184713376
           ],
           "legendgroup": "path1_no_obstacle",
           "lon": [
            132.1464968152866
           ],
           "marker": {
            "color": "#636efa",
            "size": [
             5
            ],
            "sizemode": "area",
            "sizeref": 0.0125
           },
           "mode": "markers",
           "name": "path1_no_obstacle",
           "showlegend": true,
           "subplot": "mapbox",
           "type": "scattermapbox"
          },
          {
           "hovertemplate": "<b>%{hovertext}</b><br><br>type=path1<br>timestep=7400.0<br>size=%{marker.size}<br>lat=%{lat}<br>lon=%{lon}<extra></extra>",
           "hovertext": [
            "path1"
           ],
           "lat": [
            3.5764331210191083
           ],
           "legendgroup": "path1",
           "lon": [
            139.0764331210191
           ],
           "marker": {
            "color": "#EF553B",
            "size": [
             5
            ],
            "sizemode": "area",
            "sizeref": 0.0125
           },
           "mode": "markers",
           "name": "path1",
           "showlegend": true,
           "subplot": "mapbox",
           "type": "scattermapbox"
          }
         ],
         "name": "7400.0"
        },
        {
         "data": [
          {
           "hovertemplate": "<b>%{hovertext}</b><br><br>type=path1_no_obstacle<br>timestep=7500.0<br>size=%{marker.size}<br>lat=%{lat}<br>lon=%{lon}<extra></extra>",
           "hovertext": [
            "path1_no_obstacle"
           ],
           "lat": [
            -3.990445859872612
           ],
           "legendgroup": "path1_no_obstacle",
           "lon": [
            131.5095541401274
           ],
           "marker": {
            "color": "#636efa",
            "size": [
             5
            ],
            "sizemode": "area",
            "sizeref": 0.0125
           },
           "mode": "markers",
           "name": "path1_no_obstacle",
           "showlegend": true,
           "subplot": "mapbox",
           "type": "scattermapbox"
          },
          {
           "hovertemplate": "<b>%{hovertext}</b><br><br>type=path1<br>timestep=7500.0<br>size=%{marker.size}<br>lat=%{lat}<br>lon=%{lon}<extra></extra>",
           "hovertext": [
            "path1"
           ],
           "lat": [
            2.9394904458598727
           ],
           "legendgroup": "path1",
           "lon": [
            138.43949044585986
           ],
           "marker": {
            "color": "#EF553B",
            "size": [
             5
            ],
            "sizemode": "area",
            "sizeref": 0.0125
           },
           "mode": "markers",
           "name": "path1",
           "showlegend": true,
           "subplot": "mapbox",
           "type": "scattermapbox"
          }
         ],
         "name": "7500.0"
        },
        {
         "data": [
          {
           "hovertemplate": "<b>%{hovertext}</b><br><br>type=path1_no_obstacle<br>timestep=7600.0<br>size=%{marker.size}<br>lat=%{lat}<br>lon=%{lon}<extra></extra>",
           "hovertext": [
            "path1_no_obstacle"
           ],
           "lat": [
            -4.627388535031847
           ],
           "legendgroup": "path1_no_obstacle",
           "lon": [
            130.87261146496814
           ],
           "marker": {
            "color": "#636efa",
            "size": [
             5
            ],
            "sizemode": "area",
            "sizeref": 0.0125
           },
           "mode": "markers",
           "name": "path1_no_obstacle",
           "showlegend": true,
           "subplot": "mapbox",
           "type": "scattermapbox"
          },
          {
           "hovertemplate": "<b>%{hovertext}</b><br><br>type=path1<br>timestep=7600.0<br>size=%{marker.size}<br>lat=%{lat}<br>lon=%{lon}<extra></extra>",
           "hovertext": [
            "path1"
           ],
           "lat": [
            2.3025477707006368
           ],
           "legendgroup": "path1",
           "lon": [
            137.80254777070064
           ],
           "marker": {
            "color": "#EF553B",
            "size": [
             5
            ],
            "sizemode": "area",
            "sizeref": 0.0125
           },
           "mode": "markers",
           "name": "path1",
           "showlegend": true,
           "subplot": "mapbox",
           "type": "scattermapbox"
          }
         ],
         "name": "7600.0"
        },
        {
         "data": [
          {
           "hovertemplate": "<b>%{hovertext}</b><br><br>type=path1_no_obstacle<br>timestep=7700.0<br>size=%{marker.size}<br>lat=%{lat}<br>lon=%{lon}<extra></extra>",
           "hovertext": [
            "path1_no_obstacle"
           ],
           "lat": [
            -5.264331210191083
           ],
           "legendgroup": "path1_no_obstacle",
           "lon": [
            130.23566878980893
           ],
           "marker": {
            "color": "#636efa",
            "size": [
             5
            ],
            "sizemode": "area",
            "sizeref": 0.0125
           },
           "mode": "markers",
           "name": "path1_no_obstacle",
           "showlegend": true,
           "subplot": "mapbox",
           "type": "scattermapbox"
          },
          {
           "hovertemplate": "<b>%{hovertext}</b><br><br>type=path1<br>timestep=7700.0<br>size=%{marker.size}<br>lat=%{lat}<br>lon=%{lon}<extra></extra>",
           "hovertext": [
            "path1"
           ],
           "lat": [
            1.6656050955414012
           ],
           "legendgroup": "path1",
           "lon": [
            137.1656050955414
           ],
           "marker": {
            "color": "#EF553B",
            "size": [
             5
            ],
            "sizemode": "area",
            "sizeref": 0.0125
           },
           "mode": "markers",
           "name": "path1",
           "showlegend": true,
           "subplot": "mapbox",
           "type": "scattermapbox"
          }
         ],
         "name": "7700.0"
        },
        {
         "data": [
          {
           "hovertemplate": "<b>%{hovertext}</b><br><br>type=path1_no_obstacle<br>timestep=7800.0<br>size=%{marker.size}<br>lat=%{lat}<br>lon=%{lon}<extra></extra>",
           "hovertext": [
            "path1_no_obstacle"
           ],
           "lat": [
            -5.902555910543131
           ],
           "legendgroup": "path1_no_obstacle",
           "lon": [
            129.59744408945687
           ],
           "marker": {
            "color": "#636efa",
            "size": [
             5
            ],
            "sizemode": "area",
            "sizeref": 0.0125
           },
           "mode": "markers",
           "name": "path1_no_obstacle",
           "showlegend": true,
           "subplot": "mapbox",
           "type": "scattermapbox"
          },
          {
           "hovertemplate": "<b>%{hovertext}</b><br><br>type=path1<br>timestep=7800.0<br>size=%{marker.size}<br>lat=%{lat}<br>lon=%{lon}<extra></extra>",
           "hovertext": [
            "path1"
           ],
           "lat": [
            1.0286624203821657
           ],
           "legendgroup": "path1",
           "lon": [
            136.52866242038218
           ],
           "marker": {
            "color": "#EF553B",
            "size": [
             5
            ],
            "sizemode": "area",
            "sizeref": 0.0125
           },
           "mode": "markers",
           "name": "path1",
           "showlegend": true,
           "subplot": "mapbox",
           "type": "scattermapbox"
          }
         ],
         "name": "7800.0"
        },
        {
         "data": [
          {
           "hovertemplate": "<b>%{hovertext}</b><br><br>type=path1_no_obstacle<br>timestep=7900.0<br>size=%{marker.size}<br>lat=%{lat}<br>lon=%{lon}<extra></extra>",
           "hovertext": [
            "path1_no_obstacle"
           ],
           "lat": [
            -6.541533546325878
           ],
           "legendgroup": "path1_no_obstacle",
           "lon": [
            128.9584664536741
           ],
           "marker": {
            "color": "#636efa",
            "size": [
             5
            ],
            "sizemode": "area",
            "sizeref": 0.0125
           },
           "mode": "markers",
           "name": "path1_no_obstacle",
           "showlegend": true,
           "subplot": "mapbox",
           "type": "scattermapbox"
          },
          {
           "hovertemplate": "<b>%{hovertext}</b><br><br>type=path1<br>timestep=7900.0<br>size=%{marker.size}<br>lat=%{lat}<br>lon=%{lon}<extra></extra>",
           "hovertext": [
            "path1"
           ],
           "lat": [
            0.3917197452229299
           ],
           "legendgroup": "path1",
           "lon": [
            135.89171974522293
           ],
           "marker": {
            "color": "#EF553B",
            "size": [
             5
            ],
            "sizemode": "area",
            "sizeref": 0.0125
           },
           "mode": "markers",
           "name": "path1",
           "showlegend": true,
           "subplot": "mapbox",
           "type": "scattermapbox"
          }
         ],
         "name": "7900.0"
        },
        {
         "data": [
          {
           "hovertemplate": "<b>%{hovertext}</b><br><br>type=path1_no_obstacle<br>timestep=8000.0<br>size=%{marker.size}<br>lat=%{lat}<br>lon=%{lon}<extra></extra>",
           "hovertext": [
            "path1_no_obstacle"
           ],
           "lat": [
            -7.180511182108626
           ],
           "legendgroup": "path1_no_obstacle",
           "lon": [
            128.31948881789137
           ],
           "marker": {
            "color": "#636efa",
            "size": [
             5
            ],
            "sizemode": "area",
            "sizeref": 0.0125
           },
           "mode": "markers",
           "name": "path1_no_obstacle",
           "showlegend": true,
           "subplot": "mapbox",
           "type": "scattermapbox"
          },
          {
           "hovertemplate": "<b>%{hovertext}</b><br><br>type=path1<br>timestep=8000.0<br>size=%{marker.size}<br>lat=%{lat}<br>lon=%{lon}<extra></extra>",
           "hovertext": [
            "path1"
           ],
           "lat": [
            -0.2452229299363058
           ],
           "legendgroup": "path1",
           "lon": [
            135.25477707006368
           ],
           "marker": {
            "color": "#EF553B",
            "size": [
             5
            ],
            "sizemode": "area",
            "sizeref": 0.0125
           },
           "mode": "markers",
           "name": "path1",
           "showlegend": true,
           "subplot": "mapbox",
           "type": "scattermapbox"
          }
         ],
         "name": "8000.0"
        },
        {
         "data": [
          {
           "hovertemplate": "<b>%{hovertext}</b><br><br>type=path1_no_obstacle<br>timestep=8100.0<br>size=%{marker.size}<br>lat=%{lat}<br>lon=%{lon}<extra></extra>",
           "hovertext": [
            "path1_no_obstacle"
           ],
           "lat": [
            -7.82051282051282
           ],
           "legendgroup": "path1_no_obstacle",
           "lon": [
            127.67948717948718
           ],
           "marker": {
            "color": "#636efa",
            "size": [
             5
            ],
            "sizemode": "area",
            "sizeref": 0.0125
           },
           "mode": "markers",
           "name": "path1_no_obstacle",
           "showlegend": true,
           "subplot": "mapbox",
           "type": "scattermapbox"
          },
          {
           "hovertemplate": "<b>%{hovertext}</b><br><br>type=path1<br>timestep=8100.0<br>size=%{marker.size}<br>lat=%{lat}<br>lon=%{lon}<extra></extra>",
           "hovertext": [
            "path1"
           ],
           "lat": [
            -0.8821656050955415
           ],
           "legendgroup": "path1",
           "lon": [
            134.61783439490446
           ],
           "marker": {
            "color": "#EF553B",
            "size": [
             5
            ],
            "sizemode": "area",
            "sizeref": 0.0125
           },
           "mode": "markers",
           "name": "path1",
           "showlegend": true,
           "subplot": "mapbox",
           "type": "scattermapbox"
          }
         ],
         "name": "8100.0"
        },
        {
         "data": [
          {
           "hovertemplate": "<b>%{hovertext}</b><br><br>type=path1_no_obstacle<br>timestep=8200.0<br>size=%{marker.size}<br>lat=%{lat}<br>lon=%{lon}<extra></extra>",
           "hovertext": [
            "path1_no_obstacle"
           ],
           "lat": [
            -8.461538461538462
           ],
           "legendgroup": "path1_no_obstacle",
           "lon": [
            127.03846153846152
           ],
           "marker": {
            "color": "#636efa",
            "size": [
             5
            ],
            "sizemode": "area",
            "sizeref": 0.0125
           },
           "mode": "markers",
           "name": "path1_no_obstacle",
           "showlegend": true,
           "subplot": "mapbox",
           "type": "scattermapbox"
          },
          {
           "hovertemplate": "<b>%{hovertext}</b><br><br>type=path1<br>timestep=8200.0<br>size=%{marker.size}<br>lat=%{lat}<br>lon=%{lon}<extra></extra>",
           "hovertext": [
            "path1"
           ],
           "lat": [
            -1.519108280254777
           ],
           "legendgroup": "path1",
           "lon": [
            133.98089171974522
           ],
           "marker": {
            "color": "#EF553B",
            "size": [
             5
            ],
            "sizemode": "area",
            "sizeref": 0.0125
           },
           "mode": "markers",
           "name": "path1",
           "showlegend": true,
           "subplot": "mapbox",
           "type": "scattermapbox"
          }
         ],
         "name": "8200.0"
        },
        {
         "data": [
          {
           "hovertemplate": "<b>%{hovertext}</b><br><br>type=path1_no_obstacle<br>timestep=8300.0<br>size=%{marker.size}<br>lat=%{lat}<br>lon=%{lon}<extra></extra>",
           "hovertext": [
            "path1_no_obstacle"
           ],
           "lat": [
            -9.102564102564102
           ],
           "legendgroup": "path1_no_obstacle",
           "lon": [
            126.3974358974359
           ],
           "marker": {
            "color": "#636efa",
            "size": [
             5
            ],
            "sizemode": "area",
            "sizeref": 0.0125
           },
           "mode": "markers",
           "name": "path1_no_obstacle",
           "showlegend": true,
           "subplot": "mapbox",
           "type": "scattermapbox"
          },
          {
           "hovertemplate": "<b>%{hovertext}</b><br><br>type=path1<br>timestep=8300.0<br>size=%{marker.size}<br>lat=%{lat}<br>lon=%{lon}<extra></extra>",
           "hovertext": [
            "path1"
           ],
           "lat": [
            -2.156050955414013
           ],
           "legendgroup": "path1",
           "lon": [
            133.343949044586
           ],
           "marker": {
            "color": "#EF553B",
            "size": [
             5
            ],
            "sizemode": "area",
            "sizeref": 0.0125
           },
           "mode": "markers",
           "name": "path1",
           "showlegend": true,
           "subplot": "mapbox",
           "type": "scattermapbox"
          }
         ],
         "name": "8300.0"
        },
        {
         "data": [
          {
           "hovertemplate": "<b>%{hovertext}</b><br><br>type=path1_no_obstacle<br>timestep=8400.0<br>size=%{marker.size}<br>lat=%{lat}<br>lon=%{lon}<extra></extra>",
           "hovertext": [
            "path1_no_obstacle"
           ],
           "lat": [
            -9.744372990353698
           ],
           "legendgroup": "path1_no_obstacle",
           "lon": [
            125.7556270096463
           ],
           "marker": {
            "color": "#636efa",
            "size": [
             5
            ],
            "sizemode": "area",
            "sizeref": 0.0125
           },
           "mode": "markers",
           "name": "path1_no_obstacle",
           "showlegend": true,
           "subplot": "mapbox",
           "type": "scattermapbox"
          },
          {
           "hovertemplate": "<b>%{hovertext}</b><br><br>type=path1<br>timestep=8400.0<br>size=%{marker.size}<br>lat=%{lat}<br>lon=%{lon}<extra></extra>",
           "hovertext": [
            "path1"
           ],
           "lat": [
            -2.792993630573249
           ],
           "legendgroup": "path1",
           "lon": [
            132.70700636942675
           ],
           "marker": {
            "color": "#EF553B",
            "size": [
             5
            ],
            "sizemode": "area",
            "sizeref": 0.0125
           },
           "mode": "markers",
           "name": "path1",
           "showlegend": true,
           "subplot": "mapbox",
           "type": "scattermapbox"
          }
         ],
         "name": "8400.0"
        },
        {
         "data": [
          {
           "hovertemplate": "<b>%{hovertext}</b><br><br>type=path1_no_obstacle<br>timestep=8500.0<br>size=%{marker.size}<br>lat=%{lat}<br>lon=%{lon}<extra></extra>",
           "hovertext": [
            "path1_no_obstacle"
           ],
           "lat": [
            -10.387459807073956
           ],
           "legendgroup": "path1_no_obstacle",
           "lon": [
            125.11254019292603
           ],
           "marker": {
            "color": "#636efa",
            "size": [
             5
            ],
            "sizemode": "area",
            "sizeref": 0.0125
           },
           "mode": "markers",
           "name": "path1_no_obstacle",
           "showlegend": true,
           "subplot": "mapbox",
           "type": "scattermapbox"
          },
          {
           "hovertemplate": "<b>%{hovertext}</b><br><br>type=path1<br>timestep=8500.0<br>size=%{marker.size}<br>lat=%{lat}<br>lon=%{lon}<extra></extra>",
           "hovertext": [
            "path1"
           ],
           "lat": [
            -3.4299363057324843
           ],
           "legendgroup": "path1",
           "lon": [
            132.0700636942675
           ],
           "marker": {
            "color": "#EF553B",
            "size": [
             5
            ],
            "sizemode": "area",
            "sizeref": 0.0125
           },
           "mode": "markers",
           "name": "path1",
           "showlegend": true,
           "subplot": "mapbox",
           "type": "scattermapbox"
          }
         ],
         "name": "8500.0"
        },
        {
         "data": [
          {
           "hovertemplate": "<b>%{hovertext}</b><br><br>type=path1_no_obstacle<br>timestep=8600.0<br>size=%{marker.size}<br>lat=%{lat}<br>lon=%{lon}<extra></extra>",
           "hovertext": [
            "path1_no_obstacle"
           ],
           "lat": [
            -11.030546623794212
           ],
           "legendgroup": "path1_no_obstacle",
           "lon": [
            124.4694533762058
           ],
           "marker": {
            "color": "#636efa",
            "size": [
             5
            ],
            "sizemode": "area",
            "sizeref": 0.0125
           },
           "mode": "markers",
           "name": "path1_no_obstacle",
           "showlegend": true,
           "subplot": "mapbox",
           "type": "scattermapbox"
          },
          {
           "hovertemplate": "<b>%{hovertext}</b><br><br>type=path1<br>timestep=8600.0<br>size=%{marker.size}<br>lat=%{lat}<br>lon=%{lon}<extra></extra>",
           "hovertext": [
            "path1"
           ],
           "lat": [
            -4.06687898089172
           ],
           "legendgroup": "path1",
           "lon": [
            131.43312101910828
           ],
           "marker": {
            "color": "#EF553B",
            "size": [
             5
            ],
            "sizemode": "area",
            "sizeref": 0.0125
           },
           "mode": "markers",
           "name": "path1",
           "showlegend": true,
           "subplot": "mapbox",
           "type": "scattermapbox"
          }
         ],
         "name": "8600.0"
        },
        {
         "data": [
          {
           "hovertemplate": "<b>%{hovertext}</b><br><br>type=path1_no_obstacle<br>timestep=8700.0<br>size=%{marker.size}<br>lat=%{lat}<br>lon=%{lon}<extra></extra>",
           "hovertext": [
            "path1_no_obstacle"
           ],
           "lat": [
            -11.674193548387096
           ],
           "legendgroup": "path1_no_obstacle",
           "lon": [
            123.8258064516129
           ],
           "marker": {
            "color": "#636efa",
            "size": [
             5
            ],
            "sizemode": "area",
            "sizeref": 0.0125
           },
           "mode": "markers",
           "name": "path1_no_obstacle",
           "showlegend": true,
           "subplot": "mapbox",
           "type": "scattermapbox"
          },
          {
           "hovertemplate": "<b>%{hovertext}</b><br><br>type=path1<br>timestep=8700.0<br>size=%{marker.size}<br>lat=%{lat}<br>lon=%{lon}<extra></extra>",
           "hovertext": [
            "path1"
           ],
           "lat": [
            -4.703821656050955
           ],
           "legendgroup": "path1",
           "lon": [
            130.79617834394904
           ],
           "marker": {
            "color": "#EF553B",
            "size": [
             5
            ],
            "sizemode": "area",
            "sizeref": 0.0125
           },
           "mode": "markers",
           "name": "path1",
           "showlegend": true,
           "subplot": "mapbox",
           "type": "scattermapbox"
          }
         ],
         "name": "8700.0"
        },
        {
         "data": [
          {
           "hovertemplate": "<b>%{hovertext}</b><br><br>type=path1_no_obstacle<br>timestep=8800.0<br>size=%{marker.size}<br>lat=%{lat}<br>lon=%{lon}<extra></extra>",
           "hovertext": [
            "path1_no_obstacle"
           ],
           "lat": [
            -12.319354838709678
           ],
           "legendgroup": "path1_no_obstacle",
           "lon": [
            123.18064516129031
           ],
           "marker": {
            "color": "#636efa",
            "size": [
             5
            ],
            "sizemode": "area",
            "sizeref": 0.0125
           },
           "mode": "markers",
           "name": "path1_no_obstacle",
           "showlegend": true,
           "subplot": "mapbox",
           "type": "scattermapbox"
          },
          {
           "hovertemplate": "<b>%{hovertext}</b><br><br>type=path1<br>timestep=8800.0<br>size=%{marker.size}<br>lat=%{lat}<br>lon=%{lon}<extra></extra>",
           "hovertext": [
            "path1"
           ],
           "lat": [
            -5.340764331210191
           ],
           "legendgroup": "path1",
           "lon": [
            130.15923566878982
           ],
           "marker": {
            "color": "#EF553B",
            "size": [
             5
            ],
            "sizemode": "area",
            "sizeref": 0.0125
           },
           "mode": "markers",
           "name": "path1",
           "showlegend": true,
           "subplot": "mapbox",
           "type": "scattermapbox"
          }
         ],
         "name": "8800.0"
        },
        {
         "data": [
          {
           "hovertemplate": "<b>%{hovertext}</b><br><br>type=path1_no_obstacle<br>timestep=8900.0<br>size=%{marker.size}<br>lat=%{lat}<br>lon=%{lon}<extra></extra>",
           "hovertext": [
            "path1_no_obstacle"
           ],
           "lat": [
            -12.964516129032258
           ],
           "legendgroup": "path1_no_obstacle",
           "lon": [
            122.53548387096774
           ],
           "marker": {
            "color": "#636efa",
            "size": [
             5
            ],
            "sizemode": "area",
            "sizeref": 0.0125
           },
           "mode": "markers",
           "name": "path1_no_obstacle",
           "showlegend": true,
           "subplot": "mapbox",
           "type": "scattermapbox"
          },
          {
           "hovertemplate": "<b>%{hovertext}</b><br><br>type=path1<br>timestep=8900.0<br>size=%{marker.size}<br>lat=%{lat}<br>lon=%{lon}<extra></extra>",
           "hovertext": [
            "path1"
           ],
           "lat": [
            -5.979233226837061
           ],
           "legendgroup": "path1",
           "lon": [
            129.52076677316293
           ],
           "marker": {
            "color": "#EF553B",
            "size": [
             5
            ],
            "sizemode": "area",
            "sizeref": 0.0125
           },
           "mode": "markers",
           "name": "path1",
           "showlegend": true,
           "subplot": "mapbox",
           "type": "scattermapbox"
          }
         ],
         "name": "8900.0"
        },
        {
         "data": [
          {
           "hovertemplate": "<b>%{hovertext}</b><br><br>type=path1_no_obstacle<br>timestep=9000.0<br>size=%{marker.size}<br>lat=%{lat}<br>lon=%{lon}<extra></extra>",
           "hovertext": [
            "path1_no_obstacle"
           ],
           "lat": [
            -13.610032362459547
           ],
           "legendgroup": "path1_no_obstacle",
           "lon": [
            121.88996763754044
           ],
           "marker": {
            "color": "#636efa",
            "size": [
             5
            ],
            "sizemode": "area",
            "sizeref": 0.0125
           },
           "mode": "markers",
           "name": "path1_no_obstacle",
           "showlegend": true,
           "subplot": "mapbox",
           "type": "scattermapbox"
          },
          {
           "hovertemplate": "<b>%{hovertext}</b><br><br>type=path1<br>timestep=9000.0<br>size=%{marker.size}<br>lat=%{lat}<br>lon=%{lon}<extra></extra>",
           "hovertext": [
            "path1"
           ],
           "lat": [
            -6.618210862619808
           ],
           "legendgroup": "path1",
           "lon": [
            128.8817891373802
           ],
           "marker": {
            "color": "#EF553B",
            "size": [
             5
            ],
            "sizemode": "area",
            "sizeref": 0.0125
           },
           "mode": "markers",
           "name": "path1",
           "showlegend": true,
           "subplot": "mapbox",
           "type": "scattermapbox"
          }
         ],
         "name": "9000.0"
        },
        {
         "data": [
          {
           "hovertemplate": "<b>%{hovertext}</b><br><br>type=path1_no_obstacle<br>timestep=9100.0<br>size=%{marker.size}<br>lat=%{lat}<br>lon=%{lon}<extra></extra>",
           "hovertext": [
            "path1_no_obstacle"
           ],
           "lat": [
            -14.25728155339806
           ],
           "legendgroup": "path1_no_obstacle",
           "lon": [
            121.24271844660194
           ],
           "marker": {
            "color": "#636efa",
            "size": [
             5
            ],
            "sizemode": "area",
            "sizeref": 0.0125
           },
           "mode": "markers",
           "name": "path1_no_obstacle",
           "showlegend": true,
           "subplot": "mapbox",
           "type": "scattermapbox"
          },
          {
           "hovertemplate": "<b>%{hovertext}</b><br><br>type=path1<br>timestep=9100.0<br>size=%{marker.size}<br>lat=%{lat}<br>lon=%{lon}<extra></extra>",
           "hovertext": [
            "path1"
           ],
           "lat": [
            -7.257188498402556
           ],
           "legendgroup": "path1",
           "lon": [
            128.24281150159743
           ],
           "marker": {
            "color": "#EF553B",
            "size": [
             5
            ],
            "sizemode": "area",
            "sizeref": 0.0125
           },
           "mode": "markers",
           "name": "path1",
           "showlegend": true,
           "subplot": "mapbox",
           "type": "scattermapbox"
          }
         ],
         "name": "9100.0"
        },
        {
         "data": [
          {
           "hovertemplate": "<b>%{hovertext}</b><br><br>type=path1_no_obstacle<br>timestep=9200.0<br>size=%{marker.size}<br>lat=%{lat}<br>lon=%{lon}<extra></extra>",
           "hovertext": [
            "path1_no_obstacle"
           ],
           "lat": [
            -14.904530744336569
           ],
           "legendgroup": "path1_no_obstacle",
           "lon": [
            120.59546925566345
           ],
           "marker": {
            "color": "#636efa",
            "size": [
             5
            ],
            "sizemode": "area",
            "sizeref": 0.0125
           },
           "mode": "markers",
           "name": "path1_no_obstacle",
           "showlegend": true,
           "subplot": "mapbox",
           "type": "scattermapbox"
          },
          {
           "hovertemplate": "<b>%{hovertext}</b><br><br>type=path1<br>timestep=9200.0<br>size=%{marker.size}<br>lat=%{lat}<br>lon=%{lon}<extra></extra>",
           "hovertext": [
            "path1"
           ],
           "lat": [
            -7.897435897435898
           ],
           "legendgroup": "path1",
           "lon": [
            127.6025641025641
           ],
           "marker": {
            "color": "#EF553B",
            "size": [
             5
            ],
            "sizemode": "area",
            "sizeref": 0.0125
           },
           "mode": "markers",
           "name": "path1",
           "showlegend": true,
           "subplot": "mapbox",
           "type": "scattermapbox"
          }
         ],
         "name": "9200.0"
        },
        {
         "data": [
          {
           "hovertemplate": "<b>%{hovertext}</b><br><br>type=path1_no_obstacle<br>timestep=9300.0<br>size=%{marker.size}<br>lat=%{lat}<br>lon=%{lon}<extra></extra>",
           "hovertext": [
            "path1_no_obstacle"
           ],
           "lat": [
            -15.551948051948052
           ],
           "legendgroup": "path1_no_obstacle",
           "lon": [
            119.94805194805195
           ],
           "marker": {
            "color": "#636efa",
            "size": [
             5
            ],
            "sizemode": "area",
            "sizeref": 0.0125
           },
           "mode": "markers",
           "name": "path1_no_obstacle",
           "showlegend": true,
           "subplot": "mapbox",
           "type": "scattermapbox"
          },
          {
           "hovertemplate": "<b>%{hovertext}</b><br><br>type=path1<br>timestep=9300.0<br>size=%{marker.size}<br>lat=%{lat}<br>lon=%{lon}<extra></extra>",
           "hovertext": [
            "path1"
           ],
           "lat": [
            -8.538461538461538
           ],
           "legendgroup": "path1",
           "lon": [
            126.96153846153848
           ],
           "marker": {
            "color": "#EF553B",
            "size": [
             5
            ],
            "sizemode": "area",
            "sizeref": 0.0125
           },
           "mode": "markers",
           "name": "path1",
           "showlegend": true,
           "subplot": "mapbox",
           "type": "scattermapbox"
          }
         ],
         "name": "9300.0"
        },
        {
         "data": [
          {
           "hovertemplate": "<b>%{hovertext}</b><br><br>type=path1_no_obstacle<br>timestep=9400.0<br>size=%{marker.size}<br>lat=%{lat}<br>lon=%{lon}<extra></extra>",
           "hovertext": [
            "path1_no_obstacle"
           ],
           "lat": [
            -16.2012987012987
           ],
           "legendgroup": "path1_no_obstacle",
           "lon": [
            119.2987012987013
           ],
           "marker": {
            "color": "#636efa",
            "size": [
             5
            ],
            "sizemode": "area",
            "sizeref": 0.0125
           },
           "mode": "markers",
           "name": "path1_no_obstacle",
           "showlegend": true,
           "subplot": "mapbox",
           "type": "scattermapbox"
          },
          {
           "hovertemplate": "<b>%{hovertext}</b><br><br>type=path1<br>timestep=9400.0<br>size=%{marker.size}<br>lat=%{lat}<br>lon=%{lon}<extra></extra>",
           "hovertext": [
            "path1"
           ],
           "lat": [
            -9.17948717948718
           ],
           "legendgroup": "path1",
           "lon": [
            126.32051282051282
           ],
           "marker": {
            "color": "#EF553B",
            "size": [
             5
            ],
            "sizemode": "area",
            "sizeref": 0.0125
           },
           "mode": "markers",
           "name": "path1",
           "showlegend": true,
           "subplot": "mapbox",
           "type": "scattermapbox"
          }
         ],
         "name": "9400.0"
        },
        {
         "data": [
          {
           "hovertemplate": "<b>%{hovertext}</b><br><br>type=path1_no_obstacle<br>timestep=9500.0<br>size=%{marker.size}<br>lat=%{lat}<br>lon=%{lon}<extra></extra>",
           "hovertext": [
            "path1_no_obstacle"
           ],
           "lat": [
            -16.850649350649352
           ],
           "legendgroup": "path1_no_obstacle",
           "lon": [
            118.64935064935064
           ],
           "marker": {
            "color": "#636efa",
            "size": [
             5
            ],
            "sizemode": "area",
            "sizeref": 0.0125
           },
           "mode": "markers",
           "name": "path1_no_obstacle",
           "showlegend": true,
           "subplot": "mapbox",
           "type": "scattermapbox"
          },
          {
           "hovertemplate": "<b>%{hovertext}</b><br><br>type=path1<br>timestep=9500.0<br>size=%{marker.size}<br>lat=%{lat}<br>lon=%{lon}<extra></extra>",
           "hovertext": [
            "path1"
           ],
           "lat": [
            -9.821543408360128
           ],
           "legendgroup": "path1",
           "lon": [
            125.67845659163989
           ],
           "marker": {
            "color": "#EF553B",
            "size": [
             5
            ],
            "sizemode": "area",
            "sizeref": 0.0125
           },
           "mode": "markers",
           "name": "path1",
           "showlegend": true,
           "subplot": "mapbox",
           "type": "scattermapbox"
          }
         ],
         "name": "9500.0"
        },
        {
         "data": [
          {
           "hovertemplate": "<b>%{hovertext}</b><br><br>type=path1_no_obstacle<br>timestep=9600.0<br>size=%{marker.size}<br>lat=%{lat}<br>lon=%{lon}<extra></extra>",
           "hovertext": [
            "path1_no_obstacle"
           ],
           "lat": [
            -17.5
           ],
           "legendgroup": "path1_no_obstacle",
           "lon": [
            118
           ],
           "marker": {
            "color": "#636efa",
            "size": [
             5
            ],
            "sizemode": "area",
            "sizeref": 0.0125
           },
           "mode": "markers",
           "name": "path1_no_obstacle",
           "showlegend": true,
           "subplot": "mapbox",
           "type": "scattermapbox"
          },
          {
           "hovertemplate": "<b>%{hovertext}</b><br><br>type=path1<br>timestep=9600.0<br>size=%{marker.size}<br>lat=%{lat}<br>lon=%{lon}<extra></extra>",
           "hovertext": [
            "path1"
           ],
           "lat": [
            -10.464630225080386
           ],
           "legendgroup": "path1",
           "lon": [
            125.03536977491962
           ],
           "marker": {
            "color": "#EF553B",
            "size": [
             5
            ],
            "sizemode": "area",
            "sizeref": 0.0125
           },
           "mode": "markers",
           "name": "path1",
           "showlegend": true,
           "subplot": "mapbox",
           "type": "scattermapbox"
          }
         ],
         "name": "9600.0"
        },
        {
         "data": [
          {
           "hovertemplate": "<b>%{hovertext}</b><br><br>type=path1_no_obstacle<br>timestep=9700.0<br>size=%{marker.size}<br>lat=%{lat}<br>lon=%{lon}<extra></extra>",
           "hovertext": [
            "path1_no_obstacle"
           ],
           "lat": [
            -18.15359477124183
           ],
           "legendgroup": "path1_no_obstacle",
           "lon": [
            117.34640522875816
           ],
           "marker": {
            "color": "#636efa",
            "size": [
             5
            ],
            "sizemode": "area",
            "sizeref": 0.0125
           },
           "mode": "markers",
           "name": "path1_no_obstacle",
           "showlegend": true,
           "subplot": "mapbox",
           "type": "scattermapbox"
          },
          {
           "hovertemplate": "<b>%{hovertext}</b><br><br>type=path1<br>timestep=9700.0<br>size=%{marker.size}<br>lat=%{lat}<br>lon=%{lon}<extra></extra>",
           "hovertext": [
            "path1"
           ],
           "lat": [
            -11.107717041800644
           ],
           "legendgroup": "path1",
           "lon": [
            124.39228295819936
           ],
           "marker": {
            "color": "#EF553B",
            "size": [
             5
            ],
            "sizemode": "area",
            "sizeref": 0.0125
           },
           "mode": "markers",
           "name": "path1",
           "showlegend": true,
           "subplot": "mapbox",
           "type": "scattermapbox"
          }
         ],
         "name": "9700.0"
        },
        {
         "data": [
          {
           "hovertemplate": "<b>%{hovertext}</b><br><br>type=path1_no_obstacle<br>timestep=9800.0<br>size=%{marker.size}<br>lat=%{lat}<br>lon=%{lon}<extra></extra>",
           "hovertext": [
            "path1_no_obstacle"
           ],
           "lat": [
            -18.80718954248366
           ],
           "legendgroup": "path1_no_obstacle",
           "lon": [
            116.69281045751634
           ],
           "marker": {
            "color": "#636efa",
            "size": [
             5
            ],
            "sizemode": "area",
            "sizeref": 0.0125
           },
           "mode": "markers",
           "name": "path1_no_obstacle",
           "showlegend": true,
           "subplot": "mapbox",
           "type": "scattermapbox"
          },
          {
           "hovertemplate": "<b>%{hovertext}</b><br><br>type=path1<br>timestep=9800.0<br>size=%{marker.size}<br>lat=%{lat}<br>lon=%{lon}<extra></extra>",
           "hovertext": [
            "path1"
           ],
           "lat": [
            -11.751612903225809
           ],
           "legendgroup": "path1",
           "lon": [
            123.7483870967742
           ],
           "marker": {
            "color": "#EF553B",
            "size": [
             5
            ],
            "sizemode": "area",
            "sizeref": 0.0125
           },
           "mode": "markers",
           "name": "path1",
           "showlegend": true,
           "subplot": "mapbox",
           "type": "scattermapbox"
          }
         ],
         "name": "9800.0"
        },
        {
         "data": [
          {
           "hovertemplate": "<b>%{hovertext}</b><br><br>type=path1_no_obstacle<br>timestep=9900.0<br>size=%{marker.size}<br>lat=%{lat}<br>lon=%{lon}<extra></extra>",
           "hovertext": [
            "path1_no_obstacle"
           ],
           "lat": [
            -19.46078431372549
           ],
           "legendgroup": "path1_no_obstacle",
           "lon": [
            116.0392156862745
           ],
           "marker": {
            "color": "#636efa",
            "size": [
             5
            ],
            "sizemode": "area",
            "sizeref": 0.0125
           },
           "mode": "markers",
           "name": "path1_no_obstacle",
           "showlegend": true,
           "subplot": "mapbox",
           "type": "scattermapbox"
          },
          {
           "hovertemplate": "<b>%{hovertext}</b><br><br>type=path1<br>timestep=9900.0<br>size=%{marker.size}<br>lat=%{lat}<br>lon=%{lon}<extra></extra>",
           "hovertext": [
            "path1"
           ],
           "lat": [
            -12.396774193548389
           ],
           "legendgroup": "path1",
           "lon": [
            123.10322580645162
           ],
           "marker": {
            "color": "#EF553B",
            "size": [
             5
            ],
            "sizemode": "area",
            "sizeref": 0.0125
           },
           "mode": "markers",
           "name": "path1",
           "showlegend": true,
           "subplot": "mapbox",
           "type": "scattermapbox"
          }
         ],
         "name": "9900.0"
        },
        {
         "data": [
          {
           "hovertemplate": "<b>%{hovertext}</b><br><br>type=path1_no_obstacle<br>timestep=10000.0<br>size=%{marker.size}<br>lat=%{lat}<br>lon=%{lon}<extra></extra>",
           "hovertext": [
            "path1_no_obstacle"
           ],
           "lat": [
            -20.11842105263158
           ],
           "legendgroup": "path1_no_obstacle",
           "lon": [
            115.38157894736842
           ],
           "marker": {
            "color": "#636efa",
            "size": [
             5
            ],
            "sizemode": "area",
            "sizeref": 0.0125
           },
           "mode": "markers",
           "name": "path1_no_obstacle",
           "showlegend": true,
           "subplot": "mapbox",
           "type": "scattermapbox"
          },
          {
           "hovertemplate": "<b>%{hovertext}</b><br><br>type=path1<br>timestep=10000.0<br>size=%{marker.size}<br>lat=%{lat}<br>lon=%{lon}<extra></extra>",
           "hovertext": [
            "path1"
           ],
           "lat": [
            -13.041935483870969
           ],
           "legendgroup": "path1",
           "lon": [
            122.45806451612904
           ],
           "marker": {
            "color": "#EF553B",
            "size": [
             5
            ],
            "sizemode": "area",
            "sizeref": 0.0125
           },
           "mode": "markers",
           "name": "path1",
           "showlegend": true,
           "subplot": "mapbox",
           "type": "scattermapbox"
          }
         ],
         "name": "10000.0"
        },
        {
         "data": [
          {
           "hovertemplate": "<b>%{hovertext}</b><br><br>type=path1_no_obstacle<br>timestep=10100.0<br>size=%{marker.size}<br>lat=%{lat}<br>lon=%{lon}<extra></extra>",
           "hovertext": [
            "path1_no_obstacle"
           ],
           "lat": [
            -20.776315789473685
           ],
           "legendgroup": "path1_no_obstacle",
           "lon": [
            114.72368421052632
           ],
           "marker": {
            "color": "#636efa",
            "size": [
             5
            ],
            "sizemode": "area",
            "sizeref": 0.0125
           },
           "mode": "markers",
           "name": "path1_no_obstacle",
           "showlegend": true,
           "subplot": "mapbox",
           "type": "scattermapbox"
          },
          {
           "hovertemplate": "<b>%{hovertext}</b><br><br>type=path1<br>timestep=10100.0<br>size=%{marker.size}<br>lat=%{lat}<br>lon=%{lon}<extra></extra>",
           "hovertext": [
            "path1"
           ],
           "lat": [
            -13.687702265372168
           ],
           "legendgroup": "path1",
           "lon": [
            121.81229773462783
           ],
           "marker": {
            "color": "#EF553B",
            "size": [
             5
            ],
            "sizemode": "area",
            "sizeref": 0.0125
           },
           "mode": "markers",
           "name": "path1",
           "showlegend": true,
           "subplot": "mapbox",
           "type": "scattermapbox"
          }
         ],
         "name": "10100.0"
        },
        {
         "data": [
          {
           "hovertemplate": "<b>%{hovertext}</b><br><br>type=path1_no_obstacle<br>timestep=10200.0<br>size=%{marker.size}<br>lat=%{lat}<br>lon=%{lon}<extra></extra>",
           "hovertext": [
            "path1_no_obstacle"
           ],
           "lat": [
            -21.434210526315788
           ],
           "legendgroup": "path1_no_obstacle",
           "lon": [
            114.0657894736842
           ],
           "marker": {
            "color": "#636efa",
            "size": [
             5
            ],
            "sizemode": "area",
            "sizeref": 0.0125
           },
           "mode": "markers",
           "name": "path1_no_obstacle",
           "showlegend": true,
           "subplot": "mapbox",
           "type": "scattermapbox"
          },
          {
           "hovertemplate": "<b>%{hovertext}</b><br><br>type=path1<br>timestep=10200.0<br>size=%{marker.size}<br>lat=%{lat}<br>lon=%{lon}<extra></extra>",
           "hovertext": [
            "path1"
           ],
           "lat": [
            -14.33495145631068
           ],
           "legendgroup": "path1",
           "lon": [
            121.16504854368932
           ],
           "marker": {
            "color": "#EF553B",
            "size": [
             5
            ],
            "sizemode": "area",
            "sizeref": 0.0125
           },
           "mode": "markers",
           "name": "path1",
           "showlegend": true,
           "subplot": "mapbox",
           "type": "scattermapbox"
          }
         ],
         "name": "10200.0"
        },
        {
         "data": [
          {
           "hovertemplate": "<b>%{hovertext}</b><br><br>type=path1_no_obstacle<br>timestep=10300.0<br>size=%{marker.size}<br>lat=%{lat}<br>lon=%{lon}<extra></extra>",
           "hovertext": [
            "path1_no_obstacle"
           ],
           "lat": [
            -22.096026490066222
           ],
           "legendgroup": "path1_no_obstacle",
           "lon": [
            113.40397350993378
           ],
           "marker": {
            "color": "#636efa",
            "size": [
             5
            ],
            "sizemode": "area",
            "sizeref": 0.0125
           },
           "mode": "markers",
           "name": "path1_no_obstacle",
           "showlegend": true,
           "subplot": "mapbox",
           "type": "scattermapbox"
          },
          {
           "hovertemplate": "<b>%{hovertext}</b><br><br>type=path1<br>timestep=10300.0<br>size=%{marker.size}<br>lat=%{lat}<br>lon=%{lon}<extra></extra>",
           "hovertext": [
            "path1"
           ],
           "lat": [
            -14.982200647249192
           ],
           "legendgroup": "path1",
           "lon": [
            120.5177993527508
           ],
           "marker": {
            "color": "#EF553B",
            "size": [
             5
            ],
            "sizemode": "area",
            "sizeref": 0.0125
           },
           "mode": "markers",
           "name": "path1",
           "showlegend": true,
           "subplot": "mapbox",
           "type": "scattermapbox"
          }
         ],
         "name": "10300.0"
        },
        {
         "data": [
          {
           "hovertemplate": "<b>%{hovertext}</b><br><br>type=path1_no_obstacle<br>timestep=10400.0<br>size=%{marker.size}<br>lat=%{lat}<br>lon=%{lon}<extra></extra>",
           "hovertext": [
            "path1_no_obstacle"
           ],
           "lat": [
            -22.758278145695364
           ],
           "legendgroup": "path1_no_obstacle",
           "lon": [
            112.74172185430464
           ],
           "marker": {
            "color": "#636efa",
            "size": [
             5
            ],
            "sizemode": "area",
            "sizeref": 0.0125
           },
           "mode": "markers",
           "name": "path1_no_obstacle",
           "showlegend": true,
           "subplot": "mapbox",
           "type": "scattermapbox"
          },
          {
           "hovertemplate": "<b>%{hovertext}</b><br><br>type=path1<br>timestep=10400.0<br>size=%{marker.size}<br>lat=%{lat}<br>lon=%{lon}<extra></extra>",
           "hovertext": [
            "path1"
           ],
           "lat": [
            -15.62987012987013
           ],
           "legendgroup": "path1",
           "lon": [
            119.87012987012989
           ],
           "marker": {
            "color": "#EF553B",
            "size": [
             5
            ],
            "sizemode": "area",
            "sizeref": 0.0125
           },
           "mode": "markers",
           "name": "path1",
           "showlegend": true,
           "subplot": "mapbox",
           "type": "scattermapbox"
          }
         ],
         "name": "10400.0"
        },
        {
         "data": [
          {
           "hovertemplate": "<b>%{hovertext}</b><br><br>type=path1_no_obstacle<br>timestep=10500.0<br>size=%{marker.size}<br>lat=%{lat}<br>lon=%{lon}<extra></extra>",
           "hovertext": [
            "path1_no_obstacle"
           ],
           "lat": [
            -23.420529801324506
           ],
           "legendgroup": "path1_no_obstacle",
           "lon": [
            112.0794701986755
           ],
           "marker": {
            "color": "#636efa",
            "size": [
             5
            ],
            "sizemode": "area",
            "sizeref": 0.0125
           },
           "mode": "markers",
           "name": "path1_no_obstacle",
           "showlegend": true,
           "subplot": "mapbox",
           "type": "scattermapbox"
          },
          {
           "hovertemplate": "<b>%{hovertext}</b><br><br>type=path1<br>timestep=10500.0<br>size=%{marker.size}<br>lat=%{lat}<br>lon=%{lon}<extra></extra>",
           "hovertext": [
            "path1"
           ],
           "lat": [
            -16.27922077922078
           ],
           "legendgroup": "path1",
           "lon": [
            119.22077922077922
           ],
           "marker": {
            "color": "#EF553B",
            "size": [
             5
            ],
            "sizemode": "area",
            "sizeref": 0.0125
           },
           "mode": "markers",
           "name": "path1",
           "showlegend": true,
           "subplot": "mapbox",
           "type": "scattermapbox"
          }
         ],
         "name": "10500.0"
        },
        {
         "data": [
          {
           "hovertemplate": "<b>%{hovertext}</b><br><br>type=path1_no_obstacle<br>timestep=10600.0<br>size=%{marker.size}<br>lat=%{lat}<br>lon=%{lon}<extra></extra>",
           "hovertext": [
            "path1_no_obstacle"
           ],
           "lat": [
            -24.086666666666662
           ],
           "legendgroup": "path1_no_obstacle",
           "lon": [
            111.41333333333333
           ],
           "marker": {
            "color": "#636efa",
            "size": [
             5
            ],
            "sizemode": "area",
            "sizeref": 0.0125
           },
           "mode": "markers",
           "name": "path1_no_obstacle",
           "showlegend": true,
           "subplot": "mapbox",
           "type": "scattermapbox"
          },
          {
           "hovertemplate": "<b>%{hovertext}</b><br><br>type=path1<br>timestep=10600.0<br>size=%{marker.size}<br>lat=%{lat}<br>lon=%{lon}<extra></extra>",
           "hovertext": [
            "path1"
           ],
           "lat": [
            -16.928571428571427
           ],
           "legendgroup": "path1",
           "lon": [
            118.57142857142856
           ],
           "marker": {
            "color": "#EF553B",
            "size": [
             5
            ],
            "sizemode": "area",
            "sizeref": 0.0125
           },
           "mode": "markers",
           "name": "path1",
           "showlegend": true,
           "subplot": "mapbox",
           "type": "scattermapbox"
          }
         ],
         "name": "10600.0"
        },
        {
         "data": [
          {
           "hovertemplate": "<b>%{hovertext}</b><br><br>type=path1_no_obstacle<br>timestep=10700.0<br>size=%{marker.size}<br>lat=%{lat}<br>lon=%{lon}<extra></extra>",
           "hovertext": [
            "path1_no_obstacle"
           ],
           "lat": [
            -24.75333333333333
           ],
           "legendgroup": "path1_no_obstacle",
           "lon": [
            110.74666666666668
           ],
           "marker": {
            "color": "#636efa",
            "size": [
             5
            ],
            "sizemode": "area",
            "sizeref": 0.0125
           },
           "mode": "markers",
           "name": "path1_no_obstacle",
           "showlegend": true,
           "subplot": "mapbox",
           "type": "scattermapbox"
          },
          {
           "hovertemplate": "<b>%{hovertext}</b><br><br>type=path1<br>timestep=10700.0<br>size=%{marker.size}<br>lat=%{lat}<br>lon=%{lon}<extra></extra>",
           "hovertext": [
            "path1"
           ],
           "lat": [
            -17.57843137254902
           ],
           "legendgroup": "path1",
           "lon": [
            117.92156862745098
           ],
           "marker": {
            "color": "#EF553B",
            "size": [
             5
            ],
            "sizemode": "area",
            "sizeref": 0.0125
           },
           "mode": "markers",
           "name": "path1",
           "showlegend": true,
           "subplot": "mapbox",
           "type": "scattermapbox"
          }
         ],
         "name": "10700.0"
        },
        {
         "data": [
          {
           "hovertemplate": "<b>%{hovertext}</b><br><br>type=path1_no_obstacle<br>timestep=10800.0<br>size=%{marker.size}<br>lat=%{lat}<br>lon=%{lon}<extra></extra>",
           "hovertext": [
            "path1_no_obstacle"
           ],
           "lat": [
            -25.42
           ],
           "legendgroup": "path1_no_obstacle",
           "lon": [
            110.08
           ],
           "marker": {
            "color": "#636efa",
            "size": [
             5
            ],
            "sizemode": "area",
            "sizeref": 0.0125
           },
           "mode": "markers",
           "name": "path1_no_obstacle",
           "showlegend": true,
           "subplot": "mapbox",
           "type": "scattermapbox"
          },
          {
           "hovertemplate": "<b>%{hovertext}</b><br><br>type=path1<br>timestep=10800.0<br>size=%{marker.size}<br>lat=%{lat}<br>lon=%{lon}<extra></extra>",
           "hovertext": [
            "path1"
           ],
           "lat": [
            -18.23202614379085
           ],
           "legendgroup": "path1",
           "lon": [
            117.26797385620915
           ],
           "marker": {
            "color": "#EF553B",
            "size": [
             5
            ],
            "sizemode": "area",
            "sizeref": 0.0125
           },
           "mode": "markers",
           "name": "path1",
           "showlegend": true,
           "subplot": "mapbox",
           "type": "scattermapbox"
          }
         ],
         "name": "10800.0"
        },
        {
         "data": [
          {
           "hovertemplate": "<b>%{hovertext}</b><br><br>type=path1_no_obstacle<br>timestep=10900.0<br>size=%{marker.size}<br>lat=%{lat}<br>lon=%{lon}<extra></extra>",
           "hovertext": [
            "path1_no_obstacle"
           ],
           "lat": [
            -26.09060402684564
           ],
           "legendgroup": "path1_no_obstacle",
           "lon": [
            109.40939597315436
           ],
           "marker": {
            "color": "#636efa",
            "size": [
             5
            ],
            "sizemode": "area",
            "sizeref": 0.0125
           },
           "mode": "markers",
           "name": "path1_no_obstacle",
           "showlegend": true,
           "subplot": "mapbox",
           "type": "scattermapbox"
          },
          {
           "hovertemplate": "<b>%{hovertext}</b><br><br>type=path1<br>timestep=10900.0<br>size=%{marker.size}<br>lat=%{lat}<br>lon=%{lon}<extra></extra>",
           "hovertext": [
            "path1"
           ],
           "lat": [
            -18.88562091503268
           ],
           "legendgroup": "path1",
           "lon": [
            116.61437908496733
           ],
           "marker": {
            "color": "#EF553B",
            "size": [
             5
            ],
            "sizemode": "area",
            "sizeref": 0.0125
           },
           "mode": "markers",
           "name": "path1",
           "showlegend": true,
           "subplot": "mapbox",
           "type": "scattermapbox"
          }
         ],
         "name": "10900.0"
        },
        {
         "data": [
          {
           "hovertemplate": "<b>%{hovertext}</b><br><br>type=path1_no_obstacle<br>timestep=11000.0<br>size=%{marker.size}<br>lat=%{lat}<br>lon=%{lon}<extra></extra>",
           "hovertext": [
            "path1_no_obstacle"
           ],
           "lat": [
            -26.761744966442954
           ],
           "legendgroup": "path1_no_obstacle",
           "lon": [
            108.73825503355704
           ],
           "marker": {
            "color": "#636efa",
            "size": [
             5
            ],
            "sizemode": "area",
            "sizeref": 0.0125
           },
           "mode": "markers",
           "name": "path1_no_obstacle",
           "showlegend": true,
           "subplot": "mapbox",
           "type": "scattermapbox"
          },
          {
           "hovertemplate": "<b>%{hovertext}</b><br><br>type=path1<br>timestep=11000.0<br>size=%{marker.size}<br>lat=%{lat}<br>lon=%{lon}<extra></extra>",
           "hovertext": [
            "path1"
           ],
           "lat": [
            -19.539473684210527
           ],
           "legendgroup": "path1",
           "lon": [
            115.96052631578948
           ],
           "marker": {
            "color": "#EF553B",
            "size": [
             5
            ],
            "sizemode": "area",
            "sizeref": 0.0125
           },
           "mode": "markers",
           "name": "path1",
           "showlegend": true,
           "subplot": "mapbox",
           "type": "scattermapbox"
          }
         ],
         "name": "11000.0"
        },
        {
         "data": [
          {
           "hovertemplate": "<b>%{hovertext}</b><br><br>type=path1_no_obstacle<br>timestep=11100.0<br>size=%{marker.size}<br>lat=%{lat}<br>lon=%{lon}<extra></extra>",
           "hovertext": [
            "path1_no_obstacle"
           ],
           "lat": [
            -27.43288590604027
           ],
           "legendgroup": "path1_no_obstacle",
           "lon": [
            108.06711409395972
           ],
           "marker": {
            "color": "#636efa",
            "size": [
             5
            ],
            "sizemode": "area",
            "sizeref": 0.0125
           },
           "mode": "markers",
           "name": "path1_no_obstacle",
           "showlegend": true,
           "subplot": "mapbox",
           "type": "scattermapbox"
          },
          {
           "hovertemplate": "<b>%{hovertext}</b><br><br>type=path1<br>timestep=11100.0<br>size=%{marker.size}<br>lat=%{lat}<br>lon=%{lon}<extra></extra>",
           "hovertext": [
            "path1"
           ],
           "lat": [
            -20.19736842105263
           ],
           "legendgroup": "path1",
           "lon": [
            115.30263157894736
           ],
           "marker": {
            "color": "#EF553B",
            "size": [
             5
            ],
            "sizemode": "area",
            "sizeref": 0.0125
           },
           "mode": "markers",
           "name": "path1",
           "showlegend": true,
           "subplot": "mapbox",
           "type": "scattermapbox"
          }
         ],
         "name": "11100.0"
        },
        {
         "data": [
          {
           "hovertemplate": "<b>%{hovertext}</b><br><br>type=path1_no_obstacle<br>timestep=11200.0<br>size=%{marker.size}<br>lat=%{lat}<br>lon=%{lon}<extra></extra>",
           "hovertext": [
            "path1_no_obstacle"
           ],
           "lat": [
            -28.10810810810811
           ],
           "legendgroup": "path1_no_obstacle",
           "lon": [
            107.39189189189187
           ],
           "marker": {
            "color": "#636efa",
            "size": [
             5
            ],
            "sizemode": "area",
            "sizeref": 0.0125
           },
           "mode": "markers",
           "name": "path1_no_obstacle",
           "showlegend": true,
           "subplot": "mapbox",
           "type": "scattermapbox"
          },
          {
           "hovertemplate": "<b>%{hovertext}</b><br><br>type=path1<br>timestep=11200.0<br>size=%{marker.size}<br>lat=%{lat}<br>lon=%{lon}<extra></extra>",
           "hovertext": [
            "path1"
           ],
           "lat": [
            -20.855263157894736
           ],
           "legendgroup": "path1",
           "lon": [
            114.64473684210526
           ],
           "marker": {
            "color": "#EF553B",
            "size": [
             5
            ],
            "sizemode": "area",
            "sizeref": 0.0125
           },
           "mode": "markers",
           "name": "path1",
           "showlegend": true,
           "subplot": "mapbox",
           "type": "scattermapbox"
          }
         ],
         "name": "11200.0"
        },
        {
         "data": [
          {
           "hovertemplate": "<b>%{hovertext}</b><br><br>type=path1_no_obstacle<br>timestep=11300.0<br>size=%{marker.size}<br>lat=%{lat}<br>lon=%{lon}<extra></extra>",
           "hovertext": [
            "path1_no_obstacle"
           ],
           "lat": [
            -28.783783783783782
           ],
           "legendgroup": "path1_no_obstacle",
           "lon": [
            106.7162162162162
           ],
           "marker": {
            "color": "#636efa",
            "size": [
             5
            ],
            "sizemode": "area",
            "sizeref": 0.0125
           },
           "mode": "markers",
           "name": "path1_no_obstacle",
           "showlegend": true,
           "subplot": "mapbox",
           "type": "scattermapbox"
          },
          {
           "hovertemplate": "<b>%{hovertext}</b><br><br>type=path1<br>timestep=11300.0<br>size=%{marker.size}<br>lat=%{lat}<br>lon=%{lon}<extra></extra>",
           "hovertext": [
            "path1"
           ],
           "lat": [
            -21.513245033112582
           ],
           "legendgroup": "path1",
           "lon": [
            113.98675496688742
           ],
           "marker": {
            "color": "#EF553B",
            "size": [
             5
            ],
            "sizemode": "area",
            "sizeref": 0.0125
           },
           "mode": "markers",
           "name": "path1",
           "showlegend": true,
           "subplot": "mapbox",
           "type": "scattermapbox"
          }
         ],
         "name": "11300.0"
        },
        {
         "data": [
          {
           "hovertemplate": "<b>%{hovertext}</b><br><br>type=path1_no_obstacle<br>timestep=11400.0<br>size=%{marker.size}<br>lat=%{lat}<br>lon=%{lon}<extra></extra>",
           "hovertext": [
            "path1_no_obstacle"
           ],
           "lat": [
            -29.45945945945946
           ],
           "legendgroup": "path1_no_obstacle",
           "lon": [
            106.04054054054056
           ],
           "marker": {
            "color": "#636efa",
            "size": [
             5
            ],
            "sizemode": "area",
            "sizeref": 0.0125
           },
           "mode": "markers",
           "name": "path1_no_obstacle",
           "showlegend": true,
           "subplot": "mapbox",
           "type": "scattermapbox"
          },
          {
           "hovertemplate": "<b>%{hovertext}</b><br><br>type=path1<br>timestep=11400.0<br>size=%{marker.size}<br>lat=%{lat}<br>lon=%{lon}<extra></extra>",
           "hovertext": [
            "path1"
           ],
           "lat": [
            -22.17549668874172
           ],
           "legendgroup": "path1",
           "lon": [
            113.32450331125828
           ],
           "marker": {
            "color": "#EF553B",
            "size": [
             5
            ],
            "sizemode": "area",
            "sizeref": 0.0125
           },
           "mode": "markers",
           "name": "path1",
           "showlegend": true,
           "subplot": "mapbox",
           "type": "scattermapbox"
          }
         ],
         "name": "11400.0"
        },
        {
         "data": [
          {
           "hovertemplate": "<b>%{hovertext}</b><br><br>type=path1_no_obstacle<br>timestep=11500.0<br>size=%{marker.size}<br>lat=%{lat}<br>lon=%{lon}<extra></extra>",
           "hovertext": [
            "path1_no_obstacle"
           ],
           "lat": [
            -30.14163822525597
           ],
           "legendgroup": "path1_no_obstacle",
           "lon": [
            105.35836177474404
           ],
           "marker": {
            "color": "#636efa",
            "size": [
             5
            ],
            "sizemode": "area",
            "sizeref": 0.0125
           },
           "mode": "markers",
           "name": "path1_no_obstacle",
           "showlegend": true,
           "subplot": "mapbox",
           "type": "scattermapbox"
          },
          {
           "hovertemplate": "<b>%{hovertext}</b><br><br>type=path1<br>timestep=11500.0<br>size=%{marker.size}<br>lat=%{lat}<br>lon=%{lon}<extra></extra>",
           "hovertext": [
            "path1"
           ],
           "lat": [
            -22.837748344370866
           ],
           "legendgroup": "path1",
           "lon": [
            112.66225165562912
           ],
           "marker": {
            "color": "#EF553B",
            "size": [
             5
            ],
            "sizemode": "area",
            "sizeref": 0.0125
           },
           "mode": "markers",
           "name": "path1",
           "showlegend": true,
           "subplot": "mapbox",
           "type": "scattermapbox"
          }
         ],
         "name": "11500.0"
        },
        {
         "data": [
          {
           "hovertemplate": "<b>%{hovertext}</b><br><br>type=path1_no_obstacle<br>timestep=11600.0<br>size=%{marker.size}<br>lat=%{lat}<br>lon=%{lon}<extra></extra>",
           "hovertext": [
            "path1_no_obstacle"
           ],
           "lat": [
            -30.824232081911266
           ],
           "legendgroup": "path1_no_obstacle",
           "lon": [
            104.67576791808874
           ],
           "marker": {
            "color": "#636efa",
            "size": [
             5
            ],
            "sizemode": "area",
            "sizeref": 0.0125
           },
           "mode": "markers",
           "name": "path1_no_obstacle",
           "showlegend": true,
           "subplot": "mapbox",
           "type": "scattermapbox"
          },
          {
           "hovertemplate": "<b>%{hovertext}</b><br><br>type=path1<br>timestep=11600.0<br>size=%{marker.size}<br>lat=%{lat}<br>lon=%{lon}<extra></extra>",
           "hovertext": [
            "path1"
           ],
           "lat": [
            -23.5
           ],
           "legendgroup": "path1",
           "lon": [
            112
           ],
           "marker": {
            "color": "#EF553B",
            "size": [
             5
            ],
            "sizemode": "area",
            "sizeref": 0.0125
           },
           "mode": "markers",
           "name": "path1",
           "showlegend": true,
           "subplot": "mapbox",
           "type": "scattermapbox"
          }
         ],
         "name": "11600.0"
        },
        {
         "data": [
          {
           "hovertemplate": "<b>%{hovertext}</b><br><br>type=path1_no_obstacle<br>timestep=11700.0<br>size=%{marker.size}<br>lat=%{lat}<br>lon=%{lon}<extra></extra>",
           "hovertext": [
            "path1_no_obstacle"
           ],
           "lat": [
            -31.50689655172414
           ],
           "legendgroup": "path1_no_obstacle",
           "lon": [
            103.99310344827586
           ],
           "marker": {
            "color": "#636efa",
            "size": [
             5
            ],
            "sizemode": "area",
            "sizeref": 0.0125
           },
           "mode": "markers",
           "name": "path1_no_obstacle",
           "showlegend": true,
           "subplot": "mapbox",
           "type": "scattermapbox"
          },
          {
           "hovertemplate": "<b>%{hovertext}</b><br><br>type=path1<br>timestep=11700.0<br>size=%{marker.size}<br>lat=%{lat}<br>lon=%{lon}<extra></extra>",
           "hovertext": [
            "path1"
           ],
           "lat": [
            -24.166666666666668
           ],
           "legendgroup": "path1",
           "lon": [
            111.33333333333331
           ],
           "marker": {
            "color": "#EF553B",
            "size": [
             5
            ],
            "sizemode": "area",
            "sizeref": 0.0125
           },
           "mode": "markers",
           "name": "path1",
           "showlegend": true,
           "subplot": "mapbox",
           "type": "scattermapbox"
          }
         ],
         "name": "11700.0"
        },
        {
         "data": [
          {
           "hovertemplate": "<b>%{hovertext}</b><br><br>type=path1_no_obstacle<br>timestep=11800.0<br>size=%{marker.size}<br>lat=%{lat}<br>lon=%{lon}<extra></extra>",
           "hovertext": [
            "path1_no_obstacle"
           ],
           "lat": [
            -32.19655172413793
           ],
           "legendgroup": "path1_no_obstacle",
           "lon": [
            103.30344827586208
           ],
           "marker": {
            "color": "#636efa",
            "size": [
             5
            ],
            "sizemode": "area",
            "sizeref": 0.0125
           },
           "mode": "markers",
           "name": "path1_no_obstacle",
           "showlegend": true,
           "subplot": "mapbox",
           "type": "scattermapbox"
          },
          {
           "hovertemplate": "<b>%{hovertext}</b><br><br>type=path1<br>timestep=11800.0<br>size=%{marker.size}<br>lat=%{lat}<br>lon=%{lon}<extra></extra>",
           "hovertext": [
            "path1"
           ],
           "lat": [
            -24.83333333333333
           ],
           "legendgroup": "path1",
           "lon": [
            110.66666666666669
           ],
           "marker": {
            "color": "#EF553B",
            "size": [
             5
            ],
            "sizemode": "area",
            "sizeref": 0.0125
           },
           "mode": "markers",
           "name": "path1",
           "showlegend": true,
           "subplot": "mapbox",
           "type": "scattermapbox"
          }
         ],
         "name": "11800.0"
        },
        {
         "data": [
          {
           "hovertemplate": "<b>%{hovertext}</b><br><br>type=path1_no_obstacle<br>timestep=11900.0<br>size=%{marker.size}<br>lat=%{lat}<br>lon=%{lon}<extra></extra>",
           "hovertext": [
            "path1_no_obstacle"
           ],
           "lat": [
            -32.88620689655173
           ],
           "legendgroup": "path1_no_obstacle",
           "lon": [
            102.61379310344827
           ],
           "marker": {
            "color": "#636efa",
            "size": [
             5
            ],
            "sizemode": "area",
            "sizeref": 0.0125
           },
           "mode": "markers",
           "name": "path1_no_obstacle",
           "showlegend": true,
           "subplot": "mapbox",
           "type": "scattermapbox"
          },
          {
           "hovertemplate": "<b>%{hovertext}</b><br><br>type=path1<br>timestep=11900.0<br>size=%{marker.size}<br>lat=%{lat}<br>lon=%{lon}<extra></extra>",
           "hovertext": [
            "path1"
           ],
           "lat": [
            -25.5
           ],
           "legendgroup": "path1",
           "lon": [
            110
           ],
           "marker": {
            "color": "#EF553B",
            "size": [
             5
            ],
            "sizemode": "area",
            "sizeref": 0.0125
           },
           "mode": "markers",
           "name": "path1",
           "showlegend": true,
           "subplot": "mapbox",
           "type": "scattermapbox"
          }
         ],
         "name": "11900.0"
        },
        {
         "data": [
          {
           "hovertemplate": "<b>%{hovertext}</b><br><br>type=path1_no_obstacle<br>timestep=12000.0<br>size=%{marker.size}<br>lat=%{lat}<br>lon=%{lon}<extra></extra>",
           "hovertext": [
            "path1_no_obstacle"
           ],
           "lat": [
            -33.576388888888886
           ],
           "legendgroup": "path1_no_obstacle",
           "lon": [
            101.92361111111111
           ],
           "marker": {
            "color": "#636efa",
            "size": [
             5
            ],
            "sizemode": "area",
            "sizeref": 0.0125
           },
           "mode": "markers",
           "name": "path1_no_obstacle",
           "showlegend": true,
           "subplot": "mapbox",
           "type": "scattermapbox"
          },
          {
           "hovertemplate": "<b>%{hovertext}</b><br><br>type=path1<br>timestep=12000.0<br>size=%{marker.size}<br>lat=%{lat}<br>lon=%{lon}<extra></extra>",
           "hovertext": [
            "path1"
           ],
           "lat": [
            -26.171140939597315
           ],
           "legendgroup": "path1",
           "lon": [
            109.32885906040268
           ],
           "marker": {
            "color": "#EF553B",
            "size": [
             5
            ],
            "sizemode": "area",
            "sizeref": 0.0125
           },
           "mode": "markers",
           "name": "path1",
           "showlegend": true,
           "subplot": "mapbox",
           "type": "scattermapbox"
          }
         ],
         "name": "12000.0"
        },
        {
         "data": [
          {
           "hovertemplate": "<b>%{hovertext}</b><br><br>type=path1_no_obstacle<br>timestep=12100.0<br>size=%{marker.size}<br>lat=%{lat}<br>lon=%{lon}<extra></extra>",
           "hovertext": [
            "path1_no_obstacle"
           ],
           "lat": [
            -34.270833333333336
           ],
           "legendgroup": "path1_no_obstacle",
           "lon": [
            101.22916666666669
           ],
           "marker": {
            "color": "#636efa",
            "size": [
             5
            ],
            "sizemode": "area",
            "sizeref": 0.0125
           },
           "mode": "markers",
           "name": "path1_no_obstacle",
           "showlegend": true,
           "subplot": "mapbox",
           "type": "scattermapbox"
          },
          {
           "hovertemplate": "<b>%{hovertext}</b><br><br>type=path1<br>timestep=12100.0<br>size=%{marker.size}<br>lat=%{lat}<br>lon=%{lon}<extra></extra>",
           "hovertext": [
            "path1"
           ],
           "lat": [
            -26.84228187919463
           ],
           "legendgroup": "path1",
           "lon": [
            108.65771812080536
           ],
           "marker": {
            "color": "#EF553B",
            "size": [
             5
            ],
            "sizemode": "area",
            "sizeref": 0.0125
           },
           "mode": "markers",
           "name": "path1",
           "showlegend": true,
           "subplot": "mapbox",
           "type": "scattermapbox"
          }
         ],
         "name": "12100.0"
        },
        {
         "data": [
          {
           "hovertemplate": "<b>%{hovertext}</b><br><br>type=path1_no_obstacle<br>timestep=12200.0<br>size=%{marker.size}<br>lat=%{lat}<br>lon=%{lon}<extra></extra>",
           "hovertext": [
            "path1_no_obstacle"
           ],
           "lat": [
            -34.96527777777778
           ],
           "legendgroup": "path1_no_obstacle",
           "lon": [
            100.53472222222224
           ],
           "marker": {
            "color": "#636efa",
            "size": [
             5
            ],
            "sizemode": "area",
            "sizeref": 0.0125
           },
           "mode": "markers",
           "name": "path1_no_obstacle",
           "showlegend": true,
           "subplot": "mapbox",
           "type": "scattermapbox"
          },
          {
           "hovertemplate": "<b>%{hovertext}</b><br><br>type=path1<br>timestep=12200.0<br>size=%{marker.size}<br>lat=%{lat}<br>lon=%{lon}<extra></extra>",
           "hovertext": [
            "path1"
           ],
           "lat": [
            -27.513513513513512
           ],
           "legendgroup": "path1",
           "lon": [
            107.98648648648648
           ],
           "marker": {
            "color": "#EF553B",
            "size": [
             5
            ],
            "sizemode": "area",
            "sizeref": 0.0125
           },
           "mode": "markers",
           "name": "path1",
           "showlegend": true,
           "subplot": "mapbox",
           "type": "scattermapbox"
          }
         ],
         "name": "12200.0"
        },
        {
         "data": [
          {
           "hovertemplate": "<b>%{hovertext}</b><br><br>type=path1_no_obstacle<br>timestep=12300.0<br>size=%{marker.size}<br>lat=%{lat}<br>lon=%{lon}<extra></extra>",
           "hovertext": [
            "path1_no_obstacle"
           ],
           "lat": [
            -35.66140350877193
           ],
           "legendgroup": "path1_no_obstacle",
           "lon": [
            99.83859649122807
           ],
           "marker": {
            "color": "#636efa",
            "size": [
             5
            ],
            "sizemode": "area",
            "sizeref": 0.0125
           },
           "mode": "markers",
           "name": "path1_no_obstacle",
           "showlegend": true,
           "subplot": "mapbox",
           "type": "scattermapbox"
          },
          {
           "hovertemplate": "<b>%{hovertext}</b><br><br>type=path1<br>timestep=12300.0<br>size=%{marker.size}<br>lat=%{lat}<br>lon=%{lon}<extra></extra>",
           "hovertext": [
            "path1"
           ],
           "lat": [
            -28.18918918918919
           ],
           "legendgroup": "path1",
           "lon": [
            107.3108108108108
           ],
           "marker": {
            "color": "#EF553B",
            "size": [
             5
            ],
            "sizemode": "area",
            "sizeref": 0.0125
           },
           "mode": "markers",
           "name": "path1",
           "showlegend": true,
           "subplot": "mapbox",
           "type": "scattermapbox"
          }
         ],
         "name": "12300.0"
        },
        {
         "data": [
          {
           "hovertemplate": "<b>%{hovertext}</b><br><br>type=path1_no_obstacle<br>timestep=12400.0<br>size=%{marker.size}<br>lat=%{lat}<br>lon=%{lon}<extra></extra>",
           "hovertext": [
            "path1_no_obstacle"
           ],
           "lat": [
            -36.36315789473685
           ],
           "legendgroup": "path1_no_obstacle",
           "lon": [
            99.13684210526316
           ],
           "marker": {
            "color": "#636efa",
            "size": [
             5
            ],
            "sizemode": "area",
            "sizeref": 0.0125
           },
           "mode": "markers",
           "name": "path1_no_obstacle",
           "showlegend": true,
           "subplot": "mapbox",
           "type": "scattermapbox"
          },
          {
           "hovertemplate": "<b>%{hovertext}</b><br><br>type=path1<br>timestep=12400.0<br>size=%{marker.size}<br>lat=%{lat}<br>lon=%{lon}<extra></extra>",
           "hovertext": [
            "path1"
           ],
           "lat": [
            -28.864864864864863
           ],
           "legendgroup": "path1",
           "lon": [
            106.63513513513512
           ],
           "marker": {
            "color": "#EF553B",
            "size": [
             5
            ],
            "sizemode": "area",
            "sizeref": 0.0125
           },
           "mode": "markers",
           "name": "path1",
           "showlegend": true,
           "subplot": "mapbox",
           "type": "scattermapbox"
          }
         ],
         "name": "12400.0"
        },
        {
         "data": [
          {
           "hovertemplate": "<b>%{hovertext}</b><br><br>type=path1_no_obstacle<br>timestep=12500.0<br>size=%{marker.size}<br>lat=%{lat}<br>lon=%{lon}<extra></extra>",
           "hovertext": [
            "path1_no_obstacle"
           ],
           "lat": [
            -37.06491228070176
           ],
           "legendgroup": "path1_no_obstacle",
           "lon": [
            98.43508771929824
           ],
           "marker": {
            "color": "#636efa",
            "size": [
             5
            ],
            "sizemode": "area",
            "sizeref": 0.0125
           },
           "mode": "markers",
           "name": "path1_no_obstacle",
           "showlegend": true,
           "subplot": "mapbox",
           "type": "scattermapbox"
          },
          {
           "hovertemplate": "<b>%{hovertext}</b><br><br>type=path1<br>timestep=12500.0<br>size=%{marker.size}<br>lat=%{lat}<br>lon=%{lon}<extra></extra>",
           "hovertext": [
            "path1"
           ],
           "lat": [
            -29.54095563139932
           ],
           "legendgroup": "path1",
           "lon": [
            105.95904436860069
           ],
           "marker": {
            "color": "#EF553B",
            "size": [
             5
            ],
            "sizemode": "area",
            "sizeref": 0.0125
           },
           "mode": "markers",
           "name": "path1",
           "showlegend": true,
           "subplot": "mapbox",
           "type": "scattermapbox"
          }
         ],
         "name": "12500.0"
        },
        {
         "data": [
          {
           "hovertemplate": "<b>%{hovertext}</b><br><br>type=path1_no_obstacle<br>timestep=12600.0<br>size=%{marker.size}<br>lat=%{lat}<br>lon=%{lon}<extra></extra>",
           "hovertext": [
            "path1_no_obstacle"
           ],
           "lat": [
            -37.769503546099294
           ],
           "legendgroup": "path1_no_obstacle",
           "lon": [
            97.73049645390071
           ],
           "marker": {
            "color": "#636efa",
            "size": [
             5
            ],
            "sizemode": "area",
            "sizeref": 0.0125
           },
           "mode": "markers",
           "name": "path1_no_obstacle",
           "showlegend": true,
           "subplot": "mapbox",
           "type": "scattermapbox"
          },
          {
           "hovertemplate": "<b>%{hovertext}</b><br><br>type=path1<br>timestep=12600.0<br>size=%{marker.size}<br>lat=%{lat}<br>lon=%{lon}<extra></extra>",
           "hovertext": [
            "path1"
           ],
           "lat": [
            -30.22354948805461
           ],
           "legendgroup": "path1",
           "lon": [
            105.2764505119454
           ],
           "marker": {
            "color": "#EF553B",
            "size": [
             5
            ],
            "sizemode": "area",
            "sizeref": 0.0125
           },
           "mode": "markers",
           "name": "path1",
           "showlegend": true,
           "subplot": "mapbox",
           "type": "scattermapbox"
          }
         ],
         "name": "12600.0"
        },
        {
         "data": [
          {
           "hovertemplate": "<b>%{hovertext}</b><br><br>type=path1_no_obstacle<br>timestep=12700.0<br>size=%{marker.size}<br>lat=%{lat}<br>lon=%{lon}<extra></extra>",
           "hovertext": [
            "path1_no_obstacle"
           ],
           "lat": [
            -38.47872340425532
           ],
           "legendgroup": "path1_no_obstacle",
           "lon": [
            97.02127659574468
           ],
           "marker": {
            "color": "#636efa",
            "size": [
             5
            ],
            "sizemode": "area",
            "sizeref": 0.0125
           },
           "mode": "markers",
           "name": "path1_no_obstacle",
           "showlegend": true,
           "subplot": "mapbox",
           "type": "scattermapbox"
          },
          {
           "hovertemplate": "<b>%{hovertext}</b><br><br>type=path1<br>timestep=12700.0<br>size=%{marker.size}<br>lat=%{lat}<br>lon=%{lon}<extra></extra>",
           "hovertext": [
            "path1"
           ],
           "lat": [
            -30.906143344709896
           ],
           "legendgroup": "path1",
           "lon": [
            104.5938566552901
           ],
           "marker": {
            "color": "#EF553B",
            "size": [
             5
            ],
            "sizemode": "area",
            "sizeref": 0.0125
           },
           "mode": "markers",
           "name": "path1",
           "showlegend": true,
           "subplot": "mapbox",
           "type": "scattermapbox"
          }
         ],
         "name": "12700.0"
        },
        {
         "data": [
          {
           "hovertemplate": "<b>%{hovertext}</b><br><br>type=path1_no_obstacle<br>timestep=12800.0<br>size=%{marker.size}<br>lat=%{lat}<br>lon=%{lon}<extra></extra>",
           "hovertext": [
            "path1_no_obstacle"
           ],
           "lat": [
            -39.18794326241135
           ],
           "legendgroup": "path1_no_obstacle",
           "lon": [
            96.31205673758863
           ],
           "marker": {
            "color": "#636efa",
            "size": [
             5
            ],
            "sizemode": "area",
            "sizeref": 0.0125
           },
           "mode": "markers",
           "name": "path1_no_obstacle",
           "showlegend": true,
           "subplot": "mapbox",
           "type": "scattermapbox"
          },
          {
           "hovertemplate": "<b>%{hovertext}</b><br><br>type=path1<br>timestep=12800.0<br>size=%{marker.size}<br>lat=%{lat}<br>lon=%{lon}<extra></extra>",
           "hovertext": [
            "path1"
           ],
           "lat": [
            -31.589655172413792
           ],
           "legendgroup": "path1",
           "lon": [
            103.9103448275862
           ],
           "marker": {
            "color": "#EF553B",
            "size": [
             5
            ],
            "sizemode": "area",
            "sizeref": 0.0125
           },
           "mode": "markers",
           "name": "path1",
           "showlegend": true,
           "subplot": "mapbox",
           "type": "scattermapbox"
          }
         ],
         "name": "12800.0"
        },
        {
         "data": [
          {
           "hovertemplate": "<b>%{hovertext}</b><br><br>type=path1_no_obstacle<br>timestep=12900.0<br>size=%{marker.size}<br>lat=%{lat}<br>lon=%{lon}<extra></extra>",
           "hovertext": [
            "path1_no_obstacle"
           ],
           "lat": [
            -39.901433691756274
           ],
           "legendgroup": "path1_no_obstacle",
           "lon": [
            95.59856630824372
           ],
           "marker": {
            "color": "#636efa",
            "size": [
             5
            ],
            "sizemode": "area",
            "sizeref": 0.0125
           },
           "mode": "markers",
           "name": "path1_no_obstacle",
           "showlegend": true,
           "subplot": "mapbox",
           "type": "scattermapbox"
          },
          {
           "hovertemplate": "<b>%{hovertext}</b><br><br>type=path1<br>timestep=12900.0<br>size=%{marker.size}<br>lat=%{lat}<br>lon=%{lon}<extra></extra>",
           "hovertext": [
            "path1"
           ],
           "lat": [
            -32.279310344827586
           ],
           "legendgroup": "path1",
           "lon": [
            103.2206896551724
           ],
           "marker": {
            "color": "#EF553B",
            "size": [
             5
            ],
            "sizemode": "area",
            "sizeref": 0.0125
           },
           "mode": "markers",
           "name": "path1",
           "showlegend": true,
           "subplot": "mapbox",
           "type": "scattermapbox"
          }
         ],
         "name": "12900.0"
        },
        {
         "data": [
          {
           "hovertemplate": "<b>%{hovertext}</b><br><br>type=path1_no_obstacle<br>timestep=13000.0<br>size=%{marker.size}<br>lat=%{lat}<br>lon=%{lon}<extra></extra>",
           "hovertext": [
            "path1_no_obstacle"
           ],
           "lat": [
            -40.61827956989247
           ],
           "legendgroup": "path1_no_obstacle",
           "lon": [
            94.88172043010752
           ],
           "marker": {
            "color": "#636efa",
            "size": [
             5
            ],
            "sizemode": "area",
            "sizeref": 0.0125
           },
           "mode": "markers",
           "name": "path1_no_obstacle",
           "showlegend": true,
           "subplot": "mapbox",
           "type": "scattermapbox"
          },
          {
           "hovertemplate": "<b>%{hovertext}</b><br><br>type=path1<br>timestep=13000.0<br>size=%{marker.size}<br>lat=%{lat}<br>lon=%{lon}<extra></extra>",
           "hovertext": [
            "path1"
           ],
           "lat": [
            -32.96896551724138
           ],
           "legendgroup": "path1",
           "lon": [
            102.53103448275864
           ],
           "marker": {
            "color": "#EF553B",
            "size": [
             5
            ],
            "sizemode": "area",
            "sizeref": 0.0125
           },
           "mode": "markers",
           "name": "path1",
           "showlegend": true,
           "subplot": "mapbox",
           "type": "scattermapbox"
          }
         ],
         "name": "13000.0"
        },
        {
         "data": [
          {
           "hovertemplate": "<b>%{hovertext}</b><br><br>type=path1_no_obstacle<br>timestep=13100.0<br>size=%{marker.size}<br>lat=%{lat}<br>lon=%{lon}<extra></extra>",
           "hovertext": [
            "path1_no_obstacle"
           ],
           "lat": [
            -41.33512544802868
           ],
           "legendgroup": "path1_no_obstacle",
           "lon": [
            94.16487455197132
           ],
           "marker": {
            "color": "#636efa",
            "size": [
             5
            ],
            "sizemode": "area",
            "sizeref": 0.0125
           },
           "mode": "markers",
           "name": "path1_no_obstacle",
           "showlegend": true,
           "subplot": "mapbox",
           "type": "scattermapbox"
          },
          {
           "hovertemplate": "<b>%{hovertext}</b><br><br>type=path1<br>timestep=13100.0<br>size=%{marker.size}<br>lat=%{lat}<br>lon=%{lon}<extra></extra>",
           "hovertext": [
            "path1"
           ],
           "lat": [
            -33.65972222222222
           ],
           "legendgroup": "path1",
           "lon": [
            101.84027777777776
           ],
           "marker": {
            "color": "#EF553B",
            "size": [
             5
            ],
            "sizemode": "area",
            "sizeref": 0.0125
           },
           "mode": "markers",
           "name": "path1",
           "showlegend": true,
           "subplot": "mapbox",
           "type": "scattermapbox"
          }
         ],
         "name": "13100.0"
        },
        {
         "data": [
          {
           "hovertemplate": "<b>%{hovertext}</b><br><br>type=path1_no_obstacle<br>timestep=13200.0<br>size=%{marker.size}<br>lat=%{lat}<br>lon=%{lon}<extra></extra>",
           "hovertext": [
            "path1_no_obstacle"
           ],
           "lat": [
            -42.05797101449275
           ],
           "legendgroup": "path1_no_obstacle",
           "lon": [
            93.44202898550724
           ],
           "marker": {
            "color": "#636efa",
            "size": [
             5
            ],
            "sizemode": "area",
            "sizeref": 0.0125
           },
           "mode": "markers",
           "name": "path1_no_obstacle",
           "showlegend": true,
           "subplot": "mapbox",
           "type": "scattermapbox"
          },
          {
           "hovertemplate": "<b>%{hovertext}</b><br><br>type=path1<br>timestep=13200.0<br>size=%{marker.size}<br>lat=%{lat}<br>lon=%{lon}<extra></extra>",
           "hovertext": [
            "path1"
           ],
           "lat": [
            -34.354166666666664
           ],
           "legendgroup": "path1",
           "lon": [
            101.14583333333331
           ],
           "marker": {
            "color": "#EF553B",
            "size": [
             5
            ],
            "sizemode": "area",
            "sizeref": 0.0125
           },
           "mode": "markers",
           "name": "path1",
           "showlegend": true,
           "subplot": "mapbox",
           "type": "scattermapbox"
          }
         ],
         "name": "13200.0"
        },
        {
         "data": [
          {
           "hovertemplate": "<b>%{hovertext}</b><br><br>type=path1_no_obstacle<br>timestep=13300.0<br>size=%{marker.size}<br>lat=%{lat}<br>lon=%{lon}<extra></extra>",
           "hovertext": [
            "path1_no_obstacle"
           ],
           "lat": [
            -42.78260869565217
           ],
           "legendgroup": "path1_no_obstacle",
           "lon": [
            92.71739130434784
           ],
           "marker": {
            "color": "#636efa",
            "size": [
             5
            ],
            "sizemode": "area",
            "sizeref": 0.0125
           },
           "mode": "markers",
           "name": "path1_no_obstacle",
           "showlegend": true,
           "subplot": "mapbox",
           "type": "scattermapbox"
          },
          {
           "hovertemplate": "<b>%{hovertext}</b><br><br>type=path1<br>timestep=13300.0<br>size=%{marker.size}<br>lat=%{lat}<br>lon=%{lon}<extra></extra>",
           "hovertext": [
            "path1"
           ],
           "lat": [
            -35.048611111111114
           ],
           "legendgroup": "path1",
           "lon": [
            100.45138888888889
           ],
           "marker": {
            "color": "#EF553B",
            "size": [
             5
            ],
            "sizemode": "area",
            "sizeref": 0.0125
           },
           "mode": "markers",
           "name": "path1",
           "showlegend": true,
           "subplot": "mapbox",
           "type": "scattermapbox"
          }
         ],
         "name": "13300.0"
        },
        {
         "data": [
          {
           "hovertemplate": "<b>%{hovertext}</b><br><br>type=path1_no_obstacle<br>timestep=13400.0<br>size=%{marker.size}<br>lat=%{lat}<br>lon=%{lon}<extra></extra>",
           "hovertext": [
            "path1_no_obstacle"
           ],
           "lat": [
            -43.5
           ],
           "legendgroup": "path1_no_obstacle",
           "lon": [
            91.98757763975156
           ],
           "marker": {
            "color": "#636efa",
            "size": [
             5
            ],
            "sizemode": "area",
            "sizeref": 0.0125
           },
           "mode": "markers",
           "name": "path1_no_obstacle",
           "showlegend": true,
           "subplot": "mapbox",
           "type": "scattermapbox"
          },
          {
           "hovertemplate": "<b>%{hovertext}</b><br><br>type=path1<br>timestep=13400.0<br>size=%{marker.size}<br>lat=%{lat}<br>lon=%{lon}<extra></extra>",
           "hovertext": [
            "path1"
           ],
           "lat": [
            -35.74561403508772
           ],
           "legendgroup": "path1",
           "lon": [
            99.75438596491227
           ],
           "marker": {
            "color": "#EF553B",
            "size": [
             5
            ],
            "sizemode": "area",
            "sizeref": 0.0125
           },
           "mode": "markers",
           "name": "path1",
           "showlegend": true,
           "subplot": "mapbox",
           "type": "scattermapbox"
          }
         ],
         "name": "13400.0"
        },
        {
         "data": [
          {
           "hovertemplate": "<b>%{hovertext}</b><br><br>type=path1_no_obstacle<br>timestep=13500.0<br>size=%{marker.size}<br>lat=%{lat}<br>lon=%{lon}<extra></extra>",
           "hovertext": [
            "path1_no_obstacle"
           ],
           "lat": [
            -43.5
           ],
           "legendgroup": "path1_no_obstacle",
           "lon": [
            90.74534161490683
           ],
           "marker": {
            "color": "#636efa",
            "size": [
             5
            ],
            "sizemode": "area",
            "sizeref": 0.0125
           },
           "mode": "markers",
           "name": "path1_no_obstacle",
           "showlegend": true,
           "subplot": "mapbox",
           "type": "scattermapbox"
          },
          {
           "hovertemplate": "<b>%{hovertext}</b><br><br>type=path1<br>timestep=13500.0<br>size=%{marker.size}<br>lat=%{lat}<br>lon=%{lon}<extra></extra>",
           "hovertext": [
            "path1"
           ],
           "lat": [
            -36.44736842105263
           ],
           "legendgroup": "path1",
           "lon": [
            99.05263157894736
           ],
           "marker": {
            "color": "#EF553B",
            "size": [
             5
            ],
            "sizemode": "area",
            "sizeref": 0.0125
           },
           "mode": "markers",
           "name": "path1",
           "showlegend": true,
           "subplot": "mapbox",
           "type": "scattermapbox"
          }
         ],
         "name": "13500.0"
        },
        {
         "data": [
          {
           "hovertemplate": "<b>%{hovertext}</b><br><br>type=path1_no_obstacle<br>timestep=13600.0<br>size=%{marker.size}<br>lat=%{lat}<br>lon=%{lon}<extra></extra>",
           "hovertext": [
            "path1_no_obstacle"
           ],
           "lat": [
            -43.5
           ],
           "legendgroup": "path1_no_obstacle",
           "lon": [
            89.5031055900621
           ],
           "marker": {
            "color": "#636efa",
            "size": [
             5
            ],
            "sizemode": "area",
            "sizeref": 0.0125
           },
           "mode": "markers",
           "name": "path1_no_obstacle",
           "showlegend": true,
           "subplot": "mapbox",
           "type": "scattermapbox"
          },
          {
           "hovertemplate": "<b>%{hovertext}</b><br><br>type=path1<br>timestep=13600.0<br>size=%{marker.size}<br>lat=%{lat}<br>lon=%{lon}<extra></extra>",
           "hovertext": [
            "path1"
           ],
           "lat": [
            -37.14912280701754
           ],
           "legendgroup": "path1",
           "lon": [
            98.35087719298244
           ],
           "marker": {
            "color": "#EF553B",
            "size": [
             5
            ],
            "sizemode": "area",
            "sizeref": 0.0125
           },
           "mode": "markers",
           "name": "path1",
           "showlegend": true,
           "subplot": "mapbox",
           "type": "scattermapbox"
          }
         ],
         "name": "13600.0"
        },
        {
         "data": [
          {
           "hovertemplate": "<b>%{hovertext}</b><br><br>type=path1_no_obstacle<br>timestep=13700.0<br>size=%{marker.size}<br>lat=%{lat}<br>lon=%{lon}<extra></extra>",
           "hovertext": [
            "path1_no_obstacle"
           ],
           "lat": [
            -43.5
           ],
           "legendgroup": "path1_no_obstacle",
           "lon": [
            88.26086956521739
           ],
           "marker": {
            "color": "#636efa",
            "size": [
             5
            ],
            "sizemode": "area",
            "sizeref": 0.0125
           },
           "mode": "markers",
           "name": "path1_no_obstacle",
           "showlegend": true,
           "subplot": "mapbox",
           "type": "scattermapbox"
          },
          {
           "hovertemplate": "<b>%{hovertext}</b><br><br>type=path1<br>timestep=13700.0<br>size=%{marker.size}<br>lat=%{lat}<br>lon=%{lon}<extra></extra>",
           "hovertext": [
            "path1"
           ],
           "lat": [
            -37.854609929078016
           ],
           "legendgroup": "path1",
           "lon": [
            97.645390070922
           ],
           "marker": {
            "color": "#EF553B",
            "size": [
             5
            ],
            "sizemode": "area",
            "sizeref": 0.0125
           },
           "mode": "markers",
           "name": "path1",
           "showlegend": true,
           "subplot": "mapbox",
           "type": "scattermapbox"
          }
         ],
         "name": "13700.0"
        },
        {
         "data": [
          {
           "hovertemplate": "<b>%{hovertext}</b><br><br>type=path1_no_obstacle<br>timestep=13800.0<br>size=%{marker.size}<br>lat=%{lat}<br>lon=%{lon}<extra></extra>",
           "hovertext": [
            "path1_no_obstacle"
           ],
           "lat": [
            -43.5
           ],
           "legendgroup": "path1_no_obstacle",
           "lon": [
            87.01863354037268
           ],
           "marker": {
            "color": "#636efa",
            "size": [
             5
            ],
            "sizemode": "area",
            "sizeref": 0.0125
           },
           "mode": "markers",
           "name": "path1_no_obstacle",
           "showlegend": true,
           "subplot": "mapbox",
           "type": "scattermapbox"
          },
          {
           "hovertemplate": "<b>%{hovertext}</b><br><br>type=path1<br>timestep=13800.0<br>size=%{marker.size}<br>lat=%{lat}<br>lon=%{lon}<extra></extra>",
           "hovertext": [
            "path1"
           ],
           "lat": [
            -38.56382978723404
           ],
           "legendgroup": "path1",
           "lon": [
            96.93617021276596
           ],
           "marker": {
            "color": "#EF553B",
            "size": [
             5
            ],
            "sizemode": "area",
            "sizeref": 0.0125
           },
           "mode": "markers",
           "name": "path1",
           "showlegend": true,
           "subplot": "mapbox",
           "type": "scattermapbox"
          }
         ],
         "name": "13800.0"
        },
        {
         "data": [
          {
           "hovertemplate": "<b>%{hovertext}</b><br><br>type=path1_no_obstacle<br>timestep=13900.0<br>size=%{marker.size}<br>lat=%{lat}<br>lon=%{lon}<extra></extra>",
           "hovertext": [
            "path1_no_obstacle"
           ],
           "lat": [
            -43.5
           ],
           "legendgroup": "path1_no_obstacle",
           "lon": [
            85.77639751552795
           ],
           "marker": {
            "color": "#636efa",
            "size": [
             5
            ],
            "sizemode": "area",
            "sizeref": 0.0125
           },
           "mode": "markers",
           "name": "path1_no_obstacle",
           "showlegend": true,
           "subplot": "mapbox",
           "type": "scattermapbox"
          },
          {
           "hovertemplate": "<b>%{hovertext}</b><br><br>type=path1<br>timestep=13900.0<br>size=%{marker.size}<br>lat=%{lat}<br>lon=%{lon}<extra></extra>",
           "hovertext": [
            "path1"
           ],
           "lat": [
            -39.27304964539008
           ],
           "legendgroup": "path1",
           "lon": [
            96.22695035460993
           ],
           "marker": {
            "color": "#EF553B",
            "size": [
             5
            ],
            "sizemode": "area",
            "sizeref": 0.0125
           },
           "mode": "markers",
           "name": "path1",
           "showlegend": true,
           "subplot": "mapbox",
           "type": "scattermapbox"
          }
         ],
         "name": "13900.0"
        },
        {
         "data": [
          {
           "hovertemplate": "<b>%{hovertext}</b><br><br>type=path1_no_obstacle<br>timestep=14000.0<br>size=%{marker.size}<br>lat=%{lat}<br>lon=%{lon}<extra></extra>",
           "hovertext": [
            "path1_no_obstacle"
           ],
           "lat": [
            -43.5
           ],
           "legendgroup": "path1_no_obstacle",
           "lon": [
            84.53416149068323
           ],
           "marker": {
            "color": "#636efa",
            "size": [
             5
            ],
            "sizemode": "area",
            "sizeref": 0.0125
           },
           "mode": "markers",
           "name": "path1_no_obstacle",
           "showlegend": true,
           "subplot": "mapbox",
           "type": "scattermapbox"
          },
          {
           "hovertemplate": "<b>%{hovertext}</b><br><br>type=path1<br>timestep=14000.0<br>size=%{marker.size}<br>lat=%{lat}<br>lon=%{lon}<extra></extra>",
           "hovertext": [
            "path1"
           ],
           "lat": [
            -39.98745519713262
           ],
           "legendgroup": "path1",
           "lon": [
            95.51254480286738
           ],
           "marker": {
            "color": "#EF553B",
            "size": [
             5
            ],
            "sizemode": "area",
            "sizeref": 0.0125
           },
           "mode": "markers",
           "name": "path1",
           "showlegend": true,
           "subplot": "mapbox",
           "type": "scattermapbox"
          }
         ],
         "name": "14000.0"
        },
        {
         "data": [
          {
           "hovertemplate": "<b>%{hovertext}</b><br><br>type=path1_no_obstacle<br>timestep=14100.0<br>size=%{marker.size}<br>lat=%{lat}<br>lon=%{lon}<extra></extra>",
           "hovertext": [
            "path1_no_obstacle"
           ],
           "lat": [
            -43.5
           ],
           "legendgroup": "path1_no_obstacle",
           "lon": [
            83.2919254658385
           ],
           "marker": {
            "color": "#636efa",
            "size": [
             5
            ],
            "sizemode": "area",
            "sizeref": 0.0125
           },
           "mode": "markers",
           "name": "path1_no_obstacle",
           "showlegend": true,
           "subplot": "mapbox",
           "type": "scattermapbox"
          },
          {
           "hovertemplate": "<b>%{hovertext}</b><br><br>type=path1<br>timestep=14100.0<br>size=%{marker.size}<br>lat=%{lat}<br>lon=%{lon}<extra></extra>",
           "hovertext": [
            "path1"
           ],
           "lat": [
            -40.704301075268816
           ],
           "legendgroup": "path1",
           "lon": [
            94.79569892473118
           ],
           "marker": {
            "color": "#EF553B",
            "size": [
             5
            ],
            "sizemode": "area",
            "sizeref": 0.0125
           },
           "mode": "markers",
           "name": "path1",
           "showlegend": true,
           "subplot": "mapbox",
           "type": "scattermapbox"
          }
         ],
         "name": "14100.0"
        },
        {
         "data": [
          {
           "hovertemplate": "<b>%{hovertext}</b><br><br>type=path1_no_obstacle<br>timestep=14200.0<br>size=%{marker.size}<br>lat=%{lat}<br>lon=%{lon}<extra></extra>",
           "hovertext": [
            "path1_no_obstacle"
           ],
           "lat": [
            -43.5
           ],
           "legendgroup": "path1_no_obstacle",
           "lon": [
            82.04968944099379
           ],
           "marker": {
            "color": "#636efa",
            "size": [
             5
            ],
            "sizemode": "area",
            "sizeref": 0.0125
           },
           "mode": "markers",
           "name": "path1_no_obstacle",
           "showlegend": true,
           "subplot": "mapbox",
           "type": "scattermapbox"
          },
          {
           "hovertemplate": "<b>%{hovertext}</b><br><br>type=path1<br>timestep=14200.0<br>size=%{marker.size}<br>lat=%{lat}<br>lon=%{lon}<extra></extra>",
           "hovertext": [
            "path1"
           ],
           "lat": [
            -41.42114695340502
           ],
           "legendgroup": "path1",
           "lon": [
            94.078853046595
           ],
           "marker": {
            "color": "#EF553B",
            "size": [
             5
            ],
            "sizemode": "area",
            "sizeref": 0.0125
           },
           "mode": "markers",
           "name": "path1",
           "showlegend": true,
           "subplot": "mapbox",
           "type": "scattermapbox"
          }
         ],
         "name": "14200.0"
        },
        {
         "data": [
          {
           "hovertemplate": "<b>%{hovertext}</b><br><br>type=path1_no_obstacle<br>timestep=14300.0<br>size=%{marker.size}<br>lat=%{lat}<br>lon=%{lon}<extra></extra>",
           "hovertext": [
            "path1_no_obstacle"
           ],
           "lat": [
            -43.5
           ],
           "legendgroup": "path1_no_obstacle",
           "lon": [
            80.80745341614907
           ],
           "marker": {
            "color": "#636efa",
            "size": [
             5
            ],
            "sizemode": "area",
            "sizeref": 0.0125
           },
           "mode": "markers",
           "name": "path1_no_obstacle",
           "showlegend": true,
           "subplot": "mapbox",
           "type": "scattermapbox"
          },
          {
           "hovertemplate": "<b>%{hovertext}</b><br><br>type=path1<br>timestep=14300.0<br>size=%{marker.size}<br>lat=%{lat}<br>lon=%{lon}<extra></extra>",
           "hovertext": [
            "path1"
           ],
           "lat": [
            -42.14492753623188
           ],
           "legendgroup": "path1",
           "lon": [
            93.35507246376812
           ],
           "marker": {
            "color": "#EF553B",
            "size": [
             5
            ],
            "sizemode": "area",
            "sizeref": 0.0125
           },
           "mode": "markers",
           "name": "path1",
           "showlegend": true,
           "subplot": "mapbox",
           "type": "scattermapbox"
          }
         ],
         "name": "14300.0"
        },
        {
         "data": [
          {
           "hovertemplate": "<b>%{hovertext}</b><br><br>type=path1_no_obstacle<br>timestep=14400.0<br>size=%{marker.size}<br>lat=%{lat}<br>lon=%{lon}<extra></extra>",
           "hovertext": [
            "path1_no_obstacle"
           ],
           "lat": [
            -43.5
           ],
           "legendgroup": "path1_no_obstacle",
           "lon": [
            79.56521739130434
           ],
           "marker": {
            "color": "#636efa",
            "size": [
             5
            ],
            "sizemode": "area",
            "sizeref": 0.0125
           },
           "mode": "markers",
           "name": "path1_no_obstacle",
           "showlegend": true,
           "subplot": "mapbox",
           "type": "scattermapbox"
          },
          {
           "hovertemplate": "<b>%{hovertext}</b><br><br>type=path1<br>timestep=14400.0<br>size=%{marker.size}<br>lat=%{lat}<br>lon=%{lon}<extra></extra>",
           "hovertext": [
            "path1"
           ],
           "lat": [
            -42.869565217391305
           ],
           "legendgroup": "path1",
           "lon": [
            92.6304347826087
           ],
           "marker": {
            "color": "#EF553B",
            "size": [
             5
            ],
            "sizemode": "area",
            "sizeref": 0.0125
           },
           "mode": "markers",
           "name": "path1",
           "showlegend": true,
           "subplot": "mapbox",
           "type": "scattermapbox"
          }
         ],
         "name": "14400.0"
        },
        {
         "data": [
          {
           "hovertemplate": "<b>%{hovertext}</b><br><br>type=path1_no_obstacle<br>timestep=14500.0<br>size=%{marker.size}<br>lat=%{lat}<br>lon=%{lon}<extra></extra>",
           "hovertext": [
            "path1_no_obstacle"
           ],
           "lat": [
            -43.5
           ],
           "legendgroup": "path1_no_obstacle",
           "lon": [
            78.32298136645963
           ],
           "marker": {
            "color": "#636efa",
            "size": [
             5
            ],
            "sizemode": "area",
            "sizeref": 0.0125
           },
           "mode": "markers",
           "name": "path1_no_obstacle",
           "showlegend": true,
           "subplot": "mapbox",
           "type": "scattermapbox"
          },
          {
           "hovertemplate": "<b>%{hovertext}</b><br><br>type=path1<br>timestep=14500.0<br>size=%{marker.size}<br>lat=%{lat}<br>lon=%{lon}<extra></extra>",
           "hovertext": [
            "path1"
           ],
           "lat": [
            -43.5
           ],
           "legendgroup": "path1",
           "lon": [
            91.8385093167702
           ],
           "marker": {
            "color": "#EF553B",
            "size": [
             5
            ],
            "sizemode": "area",
            "sizeref": 0.0125
           },
           "mode": "markers",
           "name": "path1",
           "showlegend": true,
           "subplot": "mapbox",
           "type": "scattermapbox"
          }
         ],
         "name": "14500.0"
        },
        {
         "data": [
          {
           "hovertemplate": "<b>%{hovertext}</b><br><br>type=path1_no_obstacle<br>timestep=14600.0<br>size=%{marker.size}<br>lat=%{lat}<br>lon=%{lon}<extra></extra>",
           "hovertext": [
            "path1_no_obstacle"
           ],
           "lat": [
            -43.5
           ],
           "legendgroup": "path1_no_obstacle",
           "lon": [
            77.0807453416149
           ],
           "marker": {
            "color": "#636efa",
            "size": [
             5
            ],
            "sizemode": "area",
            "sizeref": 0.0125
           },
           "mode": "markers",
           "name": "path1_no_obstacle",
           "showlegend": true,
           "subplot": "mapbox",
           "type": "scattermapbox"
          },
          {
           "hovertemplate": "<b>%{hovertext}</b><br><br>type=path1<br>timestep=14600.0<br>size=%{marker.size}<br>lat=%{lat}<br>lon=%{lon}<extra></extra>",
           "hovertext": [
            "path1"
           ],
           "lat": [
            -43.5
           ],
           "legendgroup": "path1",
           "lon": [
            90.59627329192548
           ],
           "marker": {
            "color": "#EF553B",
            "size": [
             5
            ],
            "sizemode": "area",
            "sizeref": 0.0125
           },
           "mode": "markers",
           "name": "path1",
           "showlegend": true,
           "subplot": "mapbox",
           "type": "scattermapbox"
          }
         ],
         "name": "14600.0"
        },
        {
         "data": [
          {
           "hovertemplate": "<b>%{hovertext}</b><br><br>type=path1_no_obstacle<br>timestep=14700.0<br>size=%{marker.size}<br>lat=%{lat}<br>lon=%{lon}<extra></extra>",
           "hovertext": [
            "path1_no_obstacle"
           ],
           "lat": [
            -43.5
           ],
           "legendgroup": "path1_no_obstacle",
           "lon": [
            75.83850931677019
           ],
           "marker": {
            "color": "#636efa",
            "size": [
             5
            ],
            "sizemode": "area",
            "sizeref": 0.0125
           },
           "mode": "markers",
           "name": "path1_no_obstacle",
           "showlegend": true,
           "subplot": "mapbox",
           "type": "scattermapbox"
          },
          {
           "hovertemplate": "<b>%{hovertext}</b><br><br>type=path1<br>timestep=14700.0<br>size=%{marker.size}<br>lat=%{lat}<br>lon=%{lon}<extra></extra>",
           "hovertext": [
            "path1"
           ],
           "lat": [
            -43.5
           ],
           "legendgroup": "path1",
           "lon": [
            89.35403726708074
           ],
           "marker": {
            "color": "#EF553B",
            "size": [
             5
            ],
            "sizemode": "area",
            "sizeref": 0.0125
           },
           "mode": "markers",
           "name": "path1",
           "showlegend": true,
           "subplot": "mapbox",
           "type": "scattermapbox"
          }
         ],
         "name": "14700.0"
        },
        {
         "data": [
          {
           "hovertemplate": "<b>%{hovertext}</b><br><br>type=path1_no_obstacle<br>timestep=14800.0<br>size=%{marker.size}<br>lat=%{lat}<br>lon=%{lon}<extra></extra>",
           "hovertext": [
            "path1_no_obstacle"
           ],
           "lat": [
            -43.5
           ],
           "legendgroup": "path1_no_obstacle",
           "lon": [
            74.59627329192547
           ],
           "marker": {
            "color": "#636efa",
            "size": [
             5
            ],
            "sizemode": "area",
            "sizeref": 0.0125
           },
           "mode": "markers",
           "name": "path1_no_obstacle",
           "showlegend": true,
           "subplot": "mapbox",
           "type": "scattermapbox"
          },
          {
           "hovertemplate": "<b>%{hovertext}</b><br><br>type=path1<br>timestep=14800.0<br>size=%{marker.size}<br>lat=%{lat}<br>lon=%{lon}<extra></extra>",
           "hovertext": [
            "path1"
           ],
           "lat": [
            -43.5
           ],
           "legendgroup": "path1",
           "lon": [
            88.11180124223603
           ],
           "marker": {
            "color": "#EF553B",
            "size": [
             5
            ],
            "sizemode": "area",
            "sizeref": 0.0125
           },
           "mode": "markers",
           "name": "path1",
           "showlegend": true,
           "subplot": "mapbox",
           "type": "scattermapbox"
          }
         ],
         "name": "14800.0"
        },
        {
         "data": [
          {
           "hovertemplate": "<b>%{hovertext}</b><br><br>type=path1_no_obstacle<br>timestep=14900.0<br>size=%{marker.size}<br>lat=%{lat}<br>lon=%{lon}<extra></extra>",
           "hovertext": [
            "path1_no_obstacle"
           ],
           "lat": [
            -43.5
           ],
           "legendgroup": "path1_no_obstacle",
           "lon": [
            73.35403726708074
           ],
           "marker": {
            "color": "#636efa",
            "size": [
             5
            ],
            "sizemode": "area",
            "sizeref": 0.0125
           },
           "mode": "markers",
           "name": "path1_no_obstacle",
           "showlegend": true,
           "subplot": "mapbox",
           "type": "scattermapbox"
          },
          {
           "hovertemplate": "<b>%{hovertext}</b><br><br>type=path1<br>timestep=14900.0<br>size=%{marker.size}<br>lat=%{lat}<br>lon=%{lon}<extra></extra>",
           "hovertext": [
            "path1"
           ],
           "lat": [
            -43.5
           ],
           "legendgroup": "path1",
           "lon": [
            86.8695652173913
           ],
           "marker": {
            "color": "#EF553B",
            "size": [
             5
            ],
            "sizemode": "area",
            "sizeref": 0.0125
           },
           "mode": "markers",
           "name": "path1",
           "showlegend": true,
           "subplot": "mapbox",
           "type": "scattermapbox"
          }
         ],
         "name": "14900.0"
        },
        {
         "data": [
          {
           "hovertemplate": "<b>%{hovertext}</b><br><br>type=path1_no_obstacle<br>timestep=15000.0<br>size=%{marker.size}<br>lat=%{lat}<br>lon=%{lon}<extra></extra>",
           "hovertext": [
            "path1_no_obstacle"
           ],
           "lat": [
            -43.5
           ],
           "legendgroup": "path1_no_obstacle",
           "lon": [
            72.11180124223603
           ],
           "marker": {
            "color": "#636efa",
            "size": [
             5
            ],
            "sizemode": "area",
            "sizeref": 0.0125
           },
           "mode": "markers",
           "name": "path1_no_obstacle",
           "showlegend": true,
           "subplot": "mapbox",
           "type": "scattermapbox"
          },
          {
           "hovertemplate": "<b>%{hovertext}</b><br><br>type=path1<br>timestep=15000.0<br>size=%{marker.size}<br>lat=%{lat}<br>lon=%{lon}<extra></extra>",
           "hovertext": [
            "path1"
           ],
           "lat": [
            -43.5
           ],
           "legendgroup": "path1",
           "lon": [
            85.62732919254658
           ],
           "marker": {
            "color": "#EF553B",
            "size": [
             5
            ],
            "sizemode": "area",
            "sizeref": 0.0125
           },
           "mode": "markers",
           "name": "path1",
           "showlegend": true,
           "subplot": "mapbox",
           "type": "scattermapbox"
          }
         ],
         "name": "15000.0"
        },
        {
         "data": [
          {
           "hovertemplate": "<b>%{hovertext}</b><br><br>type=path1_no_obstacle<br>timestep=15100.0<br>size=%{marker.size}<br>lat=%{lat}<br>lon=%{lon}<extra></extra>",
           "hovertext": [
            "path1_no_obstacle"
           ],
           "lat": [
            -43.5
           ],
           "legendgroup": "path1_no_obstacle",
           "lon": [
            70.8695652173913
           ],
           "marker": {
            "color": "#636efa",
            "size": [
             5
            ],
            "sizemode": "area",
            "sizeref": 0.0125
           },
           "mode": "markers",
           "name": "path1_no_obstacle",
           "showlegend": true,
           "subplot": "mapbox",
           "type": "scattermapbox"
          },
          {
           "hovertemplate": "<b>%{hovertext}</b><br><br>type=path1<br>timestep=15100.0<br>size=%{marker.size}<br>lat=%{lat}<br>lon=%{lon}<extra></extra>",
           "hovertext": [
            "path1"
           ],
           "lat": [
            -43.5
           ],
           "legendgroup": "path1",
           "lon": [
            84.38509316770187
           ],
           "marker": {
            "color": "#EF553B",
            "size": [
             5
            ],
            "sizemode": "area",
            "sizeref": 0.0125
           },
           "mode": "markers",
           "name": "path1",
           "showlegend": true,
           "subplot": "mapbox",
           "type": "scattermapbox"
          }
         ],
         "name": "15100.0"
        },
        {
         "data": [
          {
           "hovertemplate": "<b>%{hovertext}</b><br><br>type=path1_no_obstacle<br>timestep=15200.0<br>size=%{marker.size}<br>lat=%{lat}<br>lon=%{lon}<extra></extra>",
           "hovertext": [
            "path1_no_obstacle"
           ],
           "lat": [
            -43.5
           ],
           "legendgroup": "path1_no_obstacle",
           "lon": [
            69.62732919254658
           ],
           "marker": {
            "color": "#636efa",
            "size": [
             5
            ],
            "sizemode": "area",
            "sizeref": 0.0125
           },
           "mode": "markers",
           "name": "path1_no_obstacle",
           "showlegend": true,
           "subplot": "mapbox",
           "type": "scattermapbox"
          },
          {
           "hovertemplate": "<b>%{hovertext}</b><br><br>type=path1<br>timestep=15200.0<br>size=%{marker.size}<br>lat=%{lat}<br>lon=%{lon}<extra></extra>",
           "hovertext": [
            "path1"
           ],
           "lat": [
            -43.5
           ],
           "legendgroup": "path1",
           "lon": [
            83.14285714285714
           ],
           "marker": {
            "color": "#EF553B",
            "size": [
             5
            ],
            "sizemode": "area",
            "sizeref": 0.0125
           },
           "mode": "markers",
           "name": "path1",
           "showlegend": true,
           "subplot": "mapbox",
           "type": "scattermapbox"
          }
         ],
         "name": "15200.0"
        },
        {
         "data": [
          {
           "hovertemplate": "<b>%{hovertext}</b><br><br>type=path1_no_obstacle<br>timestep=15300.0<br>size=%{marker.size}<br>lat=%{lat}<br>lon=%{lon}<extra></extra>",
           "hovertext": [
            "path1_no_obstacle"
           ],
           "lat": [
            -43.5
           ],
           "legendgroup": "path1_no_obstacle",
           "lon": [
            68.38509316770187
           ],
           "marker": {
            "color": "#636efa",
            "size": [
             5
            ],
            "sizemode": "area",
            "sizeref": 0.0125
           },
           "mode": "markers",
           "name": "path1_no_obstacle",
           "showlegend": true,
           "subplot": "mapbox",
           "type": "scattermapbox"
          },
          {
           "hovertemplate": "<b>%{hovertext}</b><br><br>type=path1<br>timestep=15300.0<br>size=%{marker.size}<br>lat=%{lat}<br>lon=%{lon}<extra></extra>",
           "hovertext": [
            "path1"
           ],
           "lat": [
            -43.5
           ],
           "legendgroup": "path1",
           "lon": [
            81.90062111801242
           ],
           "marker": {
            "color": "#EF553B",
            "size": [
             5
            ],
            "sizemode": "area",
            "sizeref": 0.0125
           },
           "mode": "markers",
           "name": "path1",
           "showlegend": true,
           "subplot": "mapbox",
           "type": "scattermapbox"
          }
         ],
         "name": "15300.0"
        },
        {
         "data": [
          {
           "hovertemplate": "<b>%{hovertext}</b><br><br>type=path1_no_obstacle<br>timestep=15400.0<br>size=%{marker.size}<br>lat=%{lat}<br>lon=%{lon}<extra></extra>",
           "hovertext": [
            "path1_no_obstacle"
           ],
           "lat": [
            -43.5
           ],
           "legendgroup": "path1_no_obstacle",
           "lon": [
            67.14285714285714
           ],
           "marker": {
            "color": "#636efa",
            "size": [
             5
            ],
            "sizemode": "area",
            "sizeref": 0.0125
           },
           "mode": "markers",
           "name": "path1_no_obstacle",
           "showlegend": true,
           "subplot": "mapbox",
           "type": "scattermapbox"
          },
          {
           "hovertemplate": "<b>%{hovertext}</b><br><br>type=path1<br>timestep=15400.0<br>size=%{marker.size}<br>lat=%{lat}<br>lon=%{lon}<extra></extra>",
           "hovertext": [
            "path1"
           ],
           "lat": [
            -43.5
           ],
           "legendgroup": "path1",
           "lon": [
            80.65838509316771
           ],
           "marker": {
            "color": "#EF553B",
            "size": [
             5
            ],
            "sizemode": "area",
            "sizeref": 0.0125
           },
           "mode": "markers",
           "name": "path1",
           "showlegend": true,
           "subplot": "mapbox",
           "type": "scattermapbox"
          }
         ],
         "name": "15400.0"
        },
        {
         "data": [
          {
           "hovertemplate": "<b>%{hovertext}</b><br><br>type=path1_no_obstacle<br>timestep=15500.0<br>size=%{marker.size}<br>lat=%{lat}<br>lon=%{lon}<extra></extra>",
           "hovertext": [
            "path1_no_obstacle"
           ],
           "lat": [
            -43.5
           ],
           "legendgroup": "path1_no_obstacle",
           "lon": [
            65.90062111801242
           ],
           "marker": {
            "color": "#636efa",
            "size": [
             5
            ],
            "sizemode": "area",
            "sizeref": 0.0125
           },
           "mode": "markers",
           "name": "path1_no_obstacle",
           "showlegend": true,
           "subplot": "mapbox",
           "type": "scattermapbox"
          },
          {
           "hovertemplate": "<b>%{hovertext}</b><br><br>type=path1<br>timestep=15500.0<br>size=%{marker.size}<br>lat=%{lat}<br>lon=%{lon}<extra></extra>",
           "hovertext": [
            "path1"
           ],
           "lat": [
            -43.5
           ],
           "legendgroup": "path1",
           "lon": [
            79.41614906832298
           ],
           "marker": {
            "color": "#EF553B",
            "size": [
             5
            ],
            "sizemode": "area",
            "sizeref": 0.0125
           },
           "mode": "markers",
           "name": "path1",
           "showlegend": true,
           "subplot": "mapbox",
           "type": "scattermapbox"
          }
         ],
         "name": "15500.0"
        },
        {
         "data": [
          {
           "hovertemplate": "<b>%{hovertext}</b><br><br>type=path1_no_obstacle<br>timestep=15600.0<br>size=%{marker.size}<br>lat=%{lat}<br>lon=%{lon}<extra></extra>",
           "hovertext": [
            "path1_no_obstacle"
           ],
           "lat": [
            -43.5
           ],
           "legendgroup": "path1_no_obstacle",
           "lon": [
            64.65838509316771
           ],
           "marker": {
            "color": "#636efa",
            "size": [
             5
            ],
            "sizemode": "area",
            "sizeref": 0.0125
           },
           "mode": "markers",
           "name": "path1_no_obstacle",
           "showlegend": true,
           "subplot": "mapbox",
           "type": "scattermapbox"
          },
          {
           "hovertemplate": "<b>%{hovertext}</b><br><br>type=path1<br>timestep=15600.0<br>size=%{marker.size}<br>lat=%{lat}<br>lon=%{lon}<extra></extra>",
           "hovertext": [
            "path1"
           ],
           "lat": [
            -43.5
           ],
           "legendgroup": "path1",
           "lon": [
            78.17391304347827
           ],
           "marker": {
            "color": "#EF553B",
            "size": [
             5
            ],
            "sizemode": "area",
            "sizeref": 0.0125
           },
           "mode": "markers",
           "name": "path1",
           "showlegend": true,
           "subplot": "mapbox",
           "type": "scattermapbox"
          }
         ],
         "name": "15600.0"
        },
        {
         "data": [
          {
           "hovertemplate": "<b>%{hovertext}</b><br><br>type=path1_no_obstacle<br>timestep=15700.0<br>size=%{marker.size}<br>lat=%{lat}<br>lon=%{lon}<extra></extra>",
           "hovertext": [
            "path1_no_obstacle"
           ],
           "lat": [
            -43.5
           ],
           "legendgroup": "path1_no_obstacle",
           "lon": [
            63.41614906832298
           ],
           "marker": {
            "color": "#636efa",
            "size": [
             5
            ],
            "sizemode": "area",
            "sizeref": 0.0125
           },
           "mode": "markers",
           "name": "path1_no_obstacle",
           "showlegend": true,
           "subplot": "mapbox",
           "type": "scattermapbox"
          },
          {
           "hovertemplate": "<b>%{hovertext}</b><br><br>type=path1<br>timestep=15700.0<br>size=%{marker.size}<br>lat=%{lat}<br>lon=%{lon}<extra></extra>",
           "hovertext": [
            "path1"
           ],
           "lat": [
            -43.5
           ],
           "legendgroup": "path1",
           "lon": [
            76.93167701863354
           ],
           "marker": {
            "color": "#EF553B",
            "size": [
             5
            ],
            "sizemode": "area",
            "sizeref": 0.0125
           },
           "mode": "markers",
           "name": "path1",
           "showlegend": true,
           "subplot": "mapbox",
           "type": "scattermapbox"
          }
         ],
         "name": "15700.0"
        },
        {
         "data": [
          {
           "hovertemplate": "<b>%{hovertext}</b><br><br>type=path1_no_obstacle<br>timestep=15800.0<br>size=%{marker.size}<br>lat=%{lat}<br>lon=%{lon}<extra></extra>",
           "hovertext": [
            "path1_no_obstacle"
           ],
           "lat": [
            -43.5
           ],
           "legendgroup": "path1_no_obstacle",
           "lon": [
            62.17391304347826
           ],
           "marker": {
            "color": "#636efa",
            "size": [
             5
            ],
            "sizemode": "area",
            "sizeref": 0.0125
           },
           "mode": "markers",
           "name": "path1_no_obstacle",
           "showlegend": true,
           "subplot": "mapbox",
           "type": "scattermapbox"
          },
          {
           "hovertemplate": "<b>%{hovertext}</b><br><br>type=path1<br>timestep=15800.0<br>size=%{marker.size}<br>lat=%{lat}<br>lon=%{lon}<extra></extra>",
           "hovertext": [
            "path1"
           ],
           "lat": [
            -43.5
           ],
           "legendgroup": "path1",
           "lon": [
            75.68944099378882
           ],
           "marker": {
            "color": "#EF553B",
            "size": [
             5
            ],
            "sizemode": "area",
            "sizeref": 0.0125
           },
           "mode": "markers",
           "name": "path1",
           "showlegend": true,
           "subplot": "mapbox",
           "type": "scattermapbox"
          }
         ],
         "name": "15800.0"
        },
        {
         "data": [
          {
           "hovertemplate": "<b>%{hovertext}</b><br><br>type=path1_no_obstacle<br>timestep=15900.0<br>size=%{marker.size}<br>lat=%{lat}<br>lon=%{lon}<extra></extra>",
           "hovertext": [
            "path1_no_obstacle"
           ],
           "lat": [
            -43.5
           ],
           "legendgroup": "path1_no_obstacle",
           "lon": [
            60.93167701863354
           ],
           "marker": {
            "color": "#636efa",
            "size": [
             5
            ],
            "sizemode": "area",
            "sizeref": 0.0125
           },
           "mode": "markers",
           "name": "path1_no_obstacle",
           "showlegend": true,
           "subplot": "mapbox",
           "type": "scattermapbox"
          },
          {
           "hovertemplate": "<b>%{hovertext}</b><br><br>type=path1<br>timestep=15900.0<br>size=%{marker.size}<br>lat=%{lat}<br>lon=%{lon}<extra></extra>",
           "hovertext": [
            "path1"
           ],
           "lat": [
            -43.5
           ],
           "legendgroup": "path1",
           "lon": [
            74.4472049689441
           ],
           "marker": {
            "color": "#EF553B",
            "size": [
             5
            ],
            "sizemode": "area",
            "sizeref": 0.0125
           },
           "mode": "markers",
           "name": "path1",
           "showlegend": true,
           "subplot": "mapbox",
           "type": "scattermapbox"
          }
         ],
         "name": "15900.0"
        },
        {
         "data": [
          {
           "hovertemplate": "<b>%{hovertext}</b><br><br>type=path1_no_obstacle<br>timestep=16000.0<br>size=%{marker.size}<br>lat=%{lat}<br>lon=%{lon}<extra></extra>",
           "hovertext": [
            "path1_no_obstacle"
           ],
           "lat": [
            -43.5
           ],
           "legendgroup": "path1_no_obstacle",
           "lon": [
            59.68944099378882
           ],
           "marker": {
            "color": "#636efa",
            "size": [
             5
            ],
            "sizemode": "area",
            "sizeref": 0.0125
           },
           "mode": "markers",
           "name": "path1_no_obstacle",
           "showlegend": true,
           "subplot": "mapbox",
           "type": "scattermapbox"
          },
          {
           "hovertemplate": "<b>%{hovertext}</b><br><br>type=path1<br>timestep=16000.0<br>size=%{marker.size}<br>lat=%{lat}<br>lon=%{lon}<extra></extra>",
           "hovertext": [
            "path1"
           ],
           "lat": [
            -43.5
           ],
           "legendgroup": "path1",
           "lon": [
            73.20496894409938
           ],
           "marker": {
            "color": "#EF553B",
            "size": [
             5
            ],
            "sizemode": "area",
            "sizeref": 0.0125
           },
           "mode": "markers",
           "name": "path1",
           "showlegend": true,
           "subplot": "mapbox",
           "type": "scattermapbox"
          }
         ],
         "name": "16000.0"
        },
        {
         "data": [
          {
           "hovertemplate": "<b>%{hovertext}</b><br><br>type=path1_no_obstacle<br>timestep=16100.0<br>size=%{marker.size}<br>lat=%{lat}<br>lon=%{lon}<extra></extra>",
           "hovertext": [
            "path1_no_obstacle"
           ],
           "lat": [
            -43.5
           ],
           "legendgroup": "path1_no_obstacle",
           "lon": [
            58.4472049689441
           ],
           "marker": {
            "color": "#636efa",
            "size": [
             5
            ],
            "sizemode": "area",
            "sizeref": 0.0125
           },
           "mode": "markers",
           "name": "path1_no_obstacle",
           "showlegend": true,
           "subplot": "mapbox",
           "type": "scattermapbox"
          },
          {
           "hovertemplate": "<b>%{hovertext}</b><br><br>type=path1<br>timestep=16100.0<br>size=%{marker.size}<br>lat=%{lat}<br>lon=%{lon}<extra></extra>",
           "hovertext": [
            "path1"
           ],
           "lat": [
            -43.5
           ],
           "legendgroup": "path1",
           "lon": [
            71.96273291925466
           ],
           "marker": {
            "color": "#EF553B",
            "size": [
             5
            ],
            "sizemode": "area",
            "sizeref": 0.0125
           },
           "mode": "markers",
           "name": "path1",
           "showlegend": true,
           "subplot": "mapbox",
           "type": "scattermapbox"
          }
         ],
         "name": "16100.0"
        },
        {
         "data": [
          {
           "hovertemplate": "<b>%{hovertext}</b><br><br>type=path1_no_obstacle<br>timestep=16200.0<br>size=%{marker.size}<br>lat=%{lat}<br>lon=%{lon}<extra></extra>",
           "hovertext": [
            "path1_no_obstacle"
           ],
           "lat": [
            -43.5
           ],
           "legendgroup": "path1_no_obstacle",
           "lon": [
            57.20496894409938
           ],
           "marker": {
            "color": "#636efa",
            "size": [
             5
            ],
            "sizemode": "area",
            "sizeref": 0.0125
           },
           "mode": "markers",
           "name": "path1_no_obstacle",
           "showlegend": true,
           "subplot": "mapbox",
           "type": "scattermapbox"
          },
          {
           "hovertemplate": "<b>%{hovertext}</b><br><br>type=path1<br>timestep=16200.0<br>size=%{marker.size}<br>lat=%{lat}<br>lon=%{lon}<extra></extra>",
           "hovertext": [
            "path1"
           ],
           "lat": [
            -43.5
           ],
           "legendgroup": "path1",
           "lon": [
            70.72049689440993
           ],
           "marker": {
            "color": "#EF553B",
            "size": [
             5
            ],
            "sizemode": "area",
            "sizeref": 0.0125
           },
           "mode": "markers",
           "name": "path1",
           "showlegend": true,
           "subplot": "mapbox",
           "type": "scattermapbox"
          }
         ],
         "name": "16200.0"
        },
        {
         "data": [
          {
           "hovertemplate": "<b>%{hovertext}</b><br><br>type=path1_no_obstacle<br>timestep=16300.0<br>size=%{marker.size}<br>lat=%{lat}<br>lon=%{lon}<extra></extra>",
           "hovertext": [
            "path1_no_obstacle"
           ],
           "lat": [
            -43.5
           ],
           "legendgroup": "path1_no_obstacle",
           "lon": [
            55.962732919254655
           ],
           "marker": {
            "color": "#636efa",
            "size": [
             5
            ],
            "sizemode": "area",
            "sizeref": 0.0125
           },
           "mode": "markers",
           "name": "path1_no_obstacle",
           "showlegend": true,
           "subplot": "mapbox",
           "type": "scattermapbox"
          },
          {
           "hovertemplate": "<b>%{hovertext}</b><br><br>type=path1<br>timestep=16300.0<br>size=%{marker.size}<br>lat=%{lat}<br>lon=%{lon}<extra></extra>",
           "hovertext": [
            "path1"
           ],
           "lat": [
            -43.5
           ],
           "legendgroup": "path1",
           "lon": [
            69.47826086956522
           ],
           "marker": {
            "color": "#EF553B",
            "size": [
             5
            ],
            "sizemode": "area",
            "sizeref": 0.0125
           },
           "mode": "markers",
           "name": "path1",
           "showlegend": true,
           "subplot": "mapbox",
           "type": "scattermapbox"
          }
         ],
         "name": "16300.0"
        },
        {
         "data": [
          {
           "hovertemplate": "<b>%{hovertext}</b><br><br>type=path1_no_obstacle<br>timestep=16400.0<br>size=%{marker.size}<br>lat=%{lat}<br>lon=%{lon}<extra></extra>",
           "hovertext": [
            "path1_no_obstacle"
           ],
           "lat": [
            -43.5
           ],
           "legendgroup": "path1_no_obstacle",
           "lon": [
            54.72049689440994
           ],
           "marker": {
            "color": "#636efa",
            "size": [
             5
            ],
            "sizemode": "area",
            "sizeref": 0.0125
           },
           "mode": "markers",
           "name": "path1_no_obstacle",
           "showlegend": true,
           "subplot": "mapbox",
           "type": "scattermapbox"
          },
          {
           "hovertemplate": "<b>%{hovertext}</b><br><br>type=path1<br>timestep=16400.0<br>size=%{marker.size}<br>lat=%{lat}<br>lon=%{lon}<extra></extra>",
           "hovertext": [
            "path1"
           ],
           "lat": [
            -43.5
           ],
           "legendgroup": "path1",
           "lon": [
            68.2360248447205
           ],
           "marker": {
            "color": "#EF553B",
            "size": [
             5
            ],
            "sizemode": "area",
            "sizeref": 0.0125
           },
           "mode": "markers",
           "name": "path1",
           "showlegend": true,
           "subplot": "mapbox",
           "type": "scattermapbox"
          }
         ],
         "name": "16400.0"
        },
        {
         "data": [
          {
           "hovertemplate": "<b>%{hovertext}</b><br><br>type=path1_no_obstacle<br>timestep=16500.0<br>size=%{marker.size}<br>lat=%{lat}<br>lon=%{lon}<extra></extra>",
           "hovertext": [
            "path1_no_obstacle"
           ],
           "lat": [
            -43.5
           ],
           "legendgroup": "path1_no_obstacle",
           "lon": [
            53.47826086956522
           ],
           "marker": {
            "color": "#636efa",
            "size": [
             5
            ],
            "sizemode": "area",
            "sizeref": 0.0125
           },
           "mode": "markers",
           "name": "path1_no_obstacle",
           "showlegend": true,
           "subplot": "mapbox",
           "type": "scattermapbox"
          },
          {
           "hovertemplate": "<b>%{hovertext}</b><br><br>type=path1<br>timestep=16500.0<br>size=%{marker.size}<br>lat=%{lat}<br>lon=%{lon}<extra></extra>",
           "hovertext": [
            "path1"
           ],
           "lat": [
            -43.5
           ],
           "legendgroup": "path1",
           "lon": [
            66.99378881987577
           ],
           "marker": {
            "color": "#EF553B",
            "size": [
             5
            ],
            "sizemode": "area",
            "sizeref": 0.0125
           },
           "mode": "markers",
           "name": "path1",
           "showlegend": true,
           "subplot": "mapbox",
           "type": "scattermapbox"
          }
         ],
         "name": "16500.0"
        },
        {
         "data": [
          {
           "hovertemplate": "<b>%{hovertext}</b><br><br>type=path1_no_obstacle<br>timestep=16600.0<br>size=%{marker.size}<br>lat=%{lat}<br>lon=%{lon}<extra></extra>",
           "hovertext": [
            "path1_no_obstacle"
           ],
           "lat": [
            -43.5
           ],
           "legendgroup": "path1_no_obstacle",
           "lon": [
            52.2360248447205
           ],
           "marker": {
            "color": "#636efa",
            "size": [
             5
            ],
            "sizemode": "area",
            "sizeref": 0.0125
           },
           "mode": "markers",
           "name": "path1_no_obstacle",
           "showlegend": true,
           "subplot": "mapbox",
           "type": "scattermapbox"
          },
          {
           "hovertemplate": "<b>%{hovertext}</b><br><br>type=path1<br>timestep=16600.0<br>size=%{marker.size}<br>lat=%{lat}<br>lon=%{lon}<extra></extra>",
           "hovertext": [
            "path1"
           ],
           "lat": [
            -43.5
           ],
           "legendgroup": "path1",
           "lon": [
            65.75155279503106
           ],
           "marker": {
            "color": "#EF553B",
            "size": [
             5
            ],
            "sizemode": "area",
            "sizeref": 0.0125
           },
           "mode": "markers",
           "name": "path1",
           "showlegend": true,
           "subplot": "mapbox",
           "type": "scattermapbox"
          }
         ],
         "name": "16600.0"
        },
        {
         "data": [
          {
           "hovertemplate": "<b>%{hovertext}</b><br><br>type=path1_no_obstacle<br>timestep=16700.0<br>size=%{marker.size}<br>lat=%{lat}<br>lon=%{lon}<extra></extra>",
           "hovertext": [
            "path1_no_obstacle"
           ],
           "lat": [
            -43.5
           ],
           "legendgroup": "path1_no_obstacle",
           "lon": [
            50.993788819875775
           ],
           "marker": {
            "color": "#636efa",
            "size": [
             5
            ],
            "sizemode": "area",
            "sizeref": 0.0125
           },
           "mode": "markers",
           "name": "path1_no_obstacle",
           "showlegend": true,
           "subplot": "mapbox",
           "type": "scattermapbox"
          },
          {
           "hovertemplate": "<b>%{hovertext}</b><br><br>type=path1<br>timestep=16700.0<br>size=%{marker.size}<br>lat=%{lat}<br>lon=%{lon}<extra></extra>",
           "hovertext": [
            "path1"
           ],
           "lat": [
            -43.5
           ],
           "legendgroup": "path1",
           "lon": [
            64.50931677018633
           ],
           "marker": {
            "color": "#EF553B",
            "size": [
             5
            ],
            "sizemode": "area",
            "sizeref": 0.0125
           },
           "mode": "markers",
           "name": "path1",
           "showlegend": true,
           "subplot": "mapbox",
           "type": "scattermapbox"
          }
         ],
         "name": "16700.0"
        },
        {
         "data": [
          {
           "hovertemplate": "<b>%{hovertext}</b><br><br>type=path1_no_obstacle<br>timestep=16800.0<br>size=%{marker.size}<br>lat=%{lat}<br>lon=%{lon}<extra></extra>",
           "hovertext": [
            "path1_no_obstacle"
           ],
           "lat": [
            -43.5
           ],
           "legendgroup": "path1_no_obstacle",
           "lon": [
            49.75155279503105
           ],
           "marker": {
            "color": "#636efa",
            "size": [
             5
            ],
            "sizemode": "area",
            "sizeref": 0.0125
           },
           "mode": "markers",
           "name": "path1_no_obstacle",
           "showlegend": true,
           "subplot": "mapbox",
           "type": "scattermapbox"
          },
          {
           "hovertemplate": "<b>%{hovertext}</b><br><br>type=path1<br>timestep=16800.0<br>size=%{marker.size}<br>lat=%{lat}<br>lon=%{lon}<extra></extra>",
           "hovertext": [
            "path1"
           ],
           "lat": [
            -43.5
           ],
           "legendgroup": "path1",
           "lon": [
            63.267080745341616
           ],
           "marker": {
            "color": "#EF553B",
            "size": [
             5
            ],
            "sizemode": "area",
            "sizeref": 0.0125
           },
           "mode": "markers",
           "name": "path1",
           "showlegend": true,
           "subplot": "mapbox",
           "type": "scattermapbox"
          }
         ],
         "name": "16800.0"
        },
        {
         "data": [
          {
           "hovertemplate": "<b>%{hovertext}</b><br><br>type=path1_no_obstacle<br>timestep=16900.0<br>size=%{marker.size}<br>lat=%{lat}<br>lon=%{lon}<extra></extra>",
           "hovertext": [
            "path1_no_obstacle"
           ],
           "lat": [
            -43.5
           ],
           "legendgroup": "path1_no_obstacle",
           "lon": [
            48.50931677018634
           ],
           "marker": {
            "color": "#636efa",
            "size": [
             5
            ],
            "sizemode": "area",
            "sizeref": 0.0125
           },
           "mode": "markers",
           "name": "path1_no_obstacle",
           "showlegend": true,
           "subplot": "mapbox",
           "type": "scattermapbox"
          },
          {
           "hovertemplate": "<b>%{hovertext}</b><br><br>type=path1<br>timestep=16900.0<br>size=%{marker.size}<br>lat=%{lat}<br>lon=%{lon}<extra></extra>",
           "hovertext": [
            "path1"
           ],
           "lat": [
            -43.5
           ],
           "legendgroup": "path1",
           "lon": [
            62.024844720496894
           ],
           "marker": {
            "color": "#EF553B",
            "size": [
             5
            ],
            "sizemode": "area",
            "sizeref": 0.0125
           },
           "mode": "markers",
           "name": "path1",
           "showlegend": true,
           "subplot": "mapbox",
           "type": "scattermapbox"
          }
         ],
         "name": "16900.0"
        },
        {
         "data": [
          {
           "hovertemplate": "<b>%{hovertext}</b><br><br>type=path1_no_obstacle<br>timestep=17000.0<br>size=%{marker.size}<br>lat=%{lat}<br>lon=%{lon}<extra></extra>",
           "hovertext": [
            "path1_no_obstacle"
           ],
           "lat": [
            -43.5
           ],
           "legendgroup": "path1_no_obstacle",
           "lon": [
            47.267080745341616
           ],
           "marker": {
            "color": "#636efa",
            "size": [
             5
            ],
            "sizemode": "area",
            "sizeref": 0.0125
           },
           "mode": "markers",
           "name": "path1_no_obstacle",
           "showlegend": true,
           "subplot": "mapbox",
           "type": "scattermapbox"
          },
          {
           "hovertemplate": "<b>%{hovertext}</b><br><br>type=path1<br>timestep=17000.0<br>size=%{marker.size}<br>lat=%{lat}<br>lon=%{lon}<extra></extra>",
           "hovertext": [
            "path1"
           ],
           "lat": [
            -43.5
           ],
           "legendgroup": "path1",
           "lon": [
            60.78260869565217
           ],
           "marker": {
            "color": "#EF553B",
            "size": [
             5
            ],
            "sizemode": "area",
            "sizeref": 0.0125
           },
           "mode": "markers",
           "name": "path1",
           "showlegend": true,
           "subplot": "mapbox",
           "type": "scattermapbox"
          }
         ],
         "name": "17000.0"
        },
        {
         "data": [
          {
           "hovertemplate": "<b>%{hovertext}</b><br><br>type=path1_no_obstacle<br>timestep=17100.0<br>size=%{marker.size}<br>lat=%{lat}<br>lon=%{lon}<extra></extra>",
           "hovertext": [
            "path1_no_obstacle"
           ],
           "lat": [
            -43.5
           ],
           "legendgroup": "path1_no_obstacle",
           "lon": [
            46.024844720496894
           ],
           "marker": {
            "color": "#636efa",
            "size": [
             5
            ],
            "sizemode": "area",
            "sizeref": 0.0125
           },
           "mode": "markers",
           "name": "path1_no_obstacle",
           "showlegend": true,
           "subplot": "mapbox",
           "type": "scattermapbox"
          },
          {
           "hovertemplate": "<b>%{hovertext}</b><br><br>type=path1<br>timestep=17100.0<br>size=%{marker.size}<br>lat=%{lat}<br>lon=%{lon}<extra></extra>",
           "hovertext": [
            "path1"
           ],
           "lat": [
            -43.5
           ],
           "legendgroup": "path1",
           "lon": [
            59.54037267080745
           ],
           "marker": {
            "color": "#EF553B",
            "size": [
             5
            ],
            "sizemode": "area",
            "sizeref": 0.0125
           },
           "mode": "markers",
           "name": "path1",
           "showlegend": true,
           "subplot": "mapbox",
           "type": "scattermapbox"
          }
         ],
         "name": "17100.0"
        },
        {
         "data": [
          {
           "hovertemplate": "<b>%{hovertext}</b><br><br>type=path1_no_obstacle<br>timestep=17200.0<br>size=%{marker.size}<br>lat=%{lat}<br>lon=%{lon}<extra></extra>",
           "hovertext": [
            "path1_no_obstacle"
           ],
           "lat": [
            -43.5
           ],
           "legendgroup": "path1_no_obstacle",
           "lon": [
            44.78260869565217
           ],
           "marker": {
            "color": "#636efa",
            "size": [
             5
            ],
            "sizemode": "area",
            "sizeref": 0.0125
           },
           "mode": "markers",
           "name": "path1_no_obstacle",
           "showlegend": true,
           "subplot": "mapbox",
           "type": "scattermapbox"
          },
          {
           "hovertemplate": "<b>%{hovertext}</b><br><br>type=path1<br>timestep=17200.0<br>size=%{marker.size}<br>lat=%{lat}<br>lon=%{lon}<extra></extra>",
           "hovertext": [
            "path1"
           ],
           "lat": [
            -43.5
           ],
           "legendgroup": "path1",
           "lon": [
            58.298136645962735
           ],
           "marker": {
            "color": "#EF553B",
            "size": [
             5
            ],
            "sizemode": "area",
            "sizeref": 0.0125
           },
           "mode": "markers",
           "name": "path1",
           "showlegend": true,
           "subplot": "mapbox",
           "type": "scattermapbox"
          }
         ],
         "name": "17200.0"
        },
        {
         "data": [
          {
           "hovertemplate": "<b>%{hovertext}</b><br><br>type=path1_no_obstacle<br>timestep=17300.0<br>size=%{marker.size}<br>lat=%{lat}<br>lon=%{lon}<extra></extra>",
           "hovertext": [
            "path1_no_obstacle"
           ],
           "lat": [
            -43.5
           ],
           "legendgroup": "path1_no_obstacle",
           "lon": [
            43.54037267080745
           ],
           "marker": {
            "color": "#636efa",
            "size": [
             5
            ],
            "sizemode": "area",
            "sizeref": 0.0125
           },
           "mode": "markers",
           "name": "path1_no_obstacle",
           "showlegend": true,
           "subplot": "mapbox",
           "type": "scattermapbox"
          },
          {
           "hovertemplate": "<b>%{hovertext}</b><br><br>type=path1<br>timestep=17300.0<br>size=%{marker.size}<br>lat=%{lat}<br>lon=%{lon}<extra></extra>",
           "hovertext": [
            "path1"
           ],
           "lat": [
            -43.5
           ],
           "legendgroup": "path1",
           "lon": [
            57.05590062111801
           ],
           "marker": {
            "color": "#EF553B",
            "size": [
             5
            ],
            "sizemode": "area",
            "sizeref": 0.0125
           },
           "mode": "markers",
           "name": "path1",
           "showlegend": true,
           "subplot": "mapbox",
           "type": "scattermapbox"
          }
         ],
         "name": "17300.0"
        },
        {
         "data": [
          {
           "hovertemplate": "<b>%{hovertext}</b><br><br>type=path1_no_obstacle<br>timestep=17400.0<br>size=%{marker.size}<br>lat=%{lat}<br>lon=%{lon}<extra></extra>",
           "hovertext": [
            "path1_no_obstacle"
           ],
           "lat": [
            -43.5
           ],
           "legendgroup": "path1_no_obstacle",
           "lon": [
            42.298136645962735
           ],
           "marker": {
            "color": "#636efa",
            "size": [
             5
            ],
            "sizemode": "area",
            "sizeref": 0.0125
           },
           "mode": "markers",
           "name": "path1_no_obstacle",
           "showlegend": true,
           "subplot": "mapbox",
           "type": "scattermapbox"
          },
          {
           "hovertemplate": "<b>%{hovertext}</b><br><br>type=path1<br>timestep=17400.0<br>size=%{marker.size}<br>lat=%{lat}<br>lon=%{lon}<extra></extra>",
           "hovertext": [
            "path1"
           ],
           "lat": [
            -43.5
           ],
           "legendgroup": "path1",
           "lon": [
            55.81366459627329
           ],
           "marker": {
            "color": "#EF553B",
            "size": [
             5
            ],
            "sizemode": "area",
            "sizeref": 0.0125
           },
           "mode": "markers",
           "name": "path1",
           "showlegend": true,
           "subplot": "mapbox",
           "type": "scattermapbox"
          }
         ],
         "name": "17400.0"
        },
        {
         "data": [
          {
           "hovertemplate": "<b>%{hovertext}</b><br><br>type=path1_no_obstacle<br>timestep=17500.0<br>size=%{marker.size}<br>lat=%{lat}<br>lon=%{lon}<extra></extra>",
           "hovertext": [
            "path1_no_obstacle"
           ],
           "lat": [
            -43.5
           ],
           "legendgroup": "path1_no_obstacle",
           "lon": [
            41.05590062111801
           ],
           "marker": {
            "color": "#636efa",
            "size": [
             5
            ],
            "sizemode": "area",
            "sizeref": 0.0125
           },
           "mode": "markers",
           "name": "path1_no_obstacle",
           "showlegend": true,
           "subplot": "mapbox",
           "type": "scattermapbox"
          },
          {
           "hovertemplate": "<b>%{hovertext}</b><br><br>type=path1<br>timestep=17500.0<br>size=%{marker.size}<br>lat=%{lat}<br>lon=%{lon}<extra></extra>",
           "hovertext": [
            "path1"
           ],
           "lat": [
            -43.5
           ],
           "legendgroup": "path1",
           "lon": [
            54.57142857142857
           ],
           "marker": {
            "color": "#EF553B",
            "size": [
             5
            ],
            "sizemode": "area",
            "sizeref": 0.0125
           },
           "mode": "markers",
           "name": "path1",
           "showlegend": true,
           "subplot": "mapbox",
           "type": "scattermapbox"
          }
         ],
         "name": "17500.0"
        },
        {
         "data": [
          {
           "hovertemplate": "<b>%{hovertext}</b><br><br>type=path1_no_obstacle<br>timestep=17600.0<br>size=%{marker.size}<br>lat=%{lat}<br>lon=%{lon}<extra></extra>",
           "hovertext": [
            "path1_no_obstacle"
           ],
           "lat": [
            -43.5
           ],
           "legendgroup": "path1_no_obstacle",
           "lon": [
            39.81366459627329
           ],
           "marker": {
            "color": "#636efa",
            "size": [
             5
            ],
            "sizemode": "area",
            "sizeref": 0.0125
           },
           "mode": "markers",
           "name": "path1_no_obstacle",
           "showlegend": true,
           "subplot": "mapbox",
           "type": "scattermapbox"
          },
          {
           "hovertemplate": "<b>%{hovertext}</b><br><br>type=path1<br>timestep=17600.0<br>size=%{marker.size}<br>lat=%{lat}<br>lon=%{lon}<extra></extra>",
           "hovertext": [
            "path1"
           ],
           "lat": [
            -43.5
           ],
           "legendgroup": "path1",
           "lon": [
            53.329192546583855
           ],
           "marker": {
            "color": "#EF553B",
            "size": [
             5
            ],
            "sizemode": "area",
            "sizeref": 0.0125
           },
           "mode": "markers",
           "name": "path1",
           "showlegend": true,
           "subplot": "mapbox",
           "type": "scattermapbox"
          }
         ],
         "name": "17600.0"
        },
        {
         "data": [
          {
           "hovertemplate": "<b>%{hovertext}</b><br><br>type=path1_no_obstacle<br>timestep=17700.0<br>size=%{marker.size}<br>lat=%{lat}<br>lon=%{lon}<extra></extra>",
           "hovertext": [
            "path1_no_obstacle"
           ],
           "lat": [
            -43.5
           ],
           "legendgroup": "path1_no_obstacle",
           "lon": [
            38.57142857142857
           ],
           "marker": {
            "color": "#636efa",
            "size": [
             5
            ],
            "sizemode": "area",
            "sizeref": 0.0125
           },
           "mode": "markers",
           "name": "path1_no_obstacle",
           "showlegend": true,
           "subplot": "mapbox",
           "type": "scattermapbox"
          },
          {
           "hovertemplate": "<b>%{hovertext}</b><br><br>type=path1<br>timestep=17700.0<br>size=%{marker.size}<br>lat=%{lat}<br>lon=%{lon}<extra></extra>",
           "hovertext": [
            "path1"
           ],
           "lat": [
            -43.5
           ],
           "legendgroup": "path1",
           "lon": [
            52.08695652173913
           ],
           "marker": {
            "color": "#EF553B",
            "size": [
             5
            ],
            "sizemode": "area",
            "sizeref": 0.0125
           },
           "mode": "markers",
           "name": "path1",
           "showlegend": true,
           "subplot": "mapbox",
           "type": "scattermapbox"
          }
         ],
         "name": "17700.0"
        },
        {
         "data": [
          {
           "hovertemplate": "<b>%{hovertext}</b><br><br>type=path1_no_obstacle<br>timestep=17800.0<br>size=%{marker.size}<br>lat=%{lat}<br>lon=%{lon}<extra></extra>",
           "hovertext": [
            "path1_no_obstacle"
           ],
           "lat": [
            -43.5
           ],
           "legendgroup": "path1_no_obstacle",
           "lon": [
            37.329192546583855
           ],
           "marker": {
            "color": "#636efa",
            "size": [
             5
            ],
            "sizemode": "area",
            "sizeref": 0.0125
           },
           "mode": "markers",
           "name": "path1_no_obstacle",
           "showlegend": true,
           "subplot": "mapbox",
           "type": "scattermapbox"
          },
          {
           "hovertemplate": "<b>%{hovertext}</b><br><br>type=path1<br>timestep=17800.0<br>size=%{marker.size}<br>lat=%{lat}<br>lon=%{lon}<extra></extra>",
           "hovertext": [
            "path1"
           ],
           "lat": [
            -43.5
           ],
           "legendgroup": "path1",
           "lon": [
            50.84472049689441
           ],
           "marker": {
            "color": "#EF553B",
            "size": [
             5
            ],
            "sizemode": "area",
            "sizeref": 0.0125
           },
           "mode": "markers",
           "name": "path1",
           "showlegend": true,
           "subplot": "mapbox",
           "type": "scattermapbox"
          }
         ],
         "name": "17800.0"
        },
        {
         "data": [
          {
           "hovertemplate": "<b>%{hovertext}</b><br><br>type=path1_no_obstacle<br>timestep=17900.0<br>size=%{marker.size}<br>lat=%{lat}<br>lon=%{lon}<extra></extra>",
           "hovertext": [
            "path1_no_obstacle"
           ],
           "lat": [
            -43.5
           ],
           "legendgroup": "path1_no_obstacle",
           "lon": [
            36.08695652173913
           ],
           "marker": {
            "color": "#636efa",
            "size": [
             5
            ],
            "sizemode": "area",
            "sizeref": 0.0125
           },
           "mode": "markers",
           "name": "path1_no_obstacle",
           "showlegend": true,
           "subplot": "mapbox",
           "type": "scattermapbox"
          },
          {
           "hovertemplate": "<b>%{hovertext}</b><br><br>type=path1<br>timestep=17900.0<br>size=%{marker.size}<br>lat=%{lat}<br>lon=%{lon}<extra></extra>",
           "hovertext": [
            "path1"
           ],
           "lat": [
            -43.5
           ],
           "legendgroup": "path1",
           "lon": [
            49.60248447204969
           ],
           "marker": {
            "color": "#EF553B",
            "size": [
             5
            ],
            "sizemode": "area",
            "sizeref": 0.0125
           },
           "mode": "markers",
           "name": "path1",
           "showlegend": true,
           "subplot": "mapbox",
           "type": "scattermapbox"
          }
         ],
         "name": "17900.0"
        },
        {
         "data": [
          {
           "hovertemplate": "<b>%{hovertext}</b><br><br>type=path1_no_obstacle<br>timestep=18000.0<br>size=%{marker.size}<br>lat=%{lat}<br>lon=%{lon}<extra></extra>",
           "hovertext": [
            "path1_no_obstacle"
           ],
           "lat": [
            -43.5
           ],
           "legendgroup": "path1_no_obstacle",
           "lon": [
            34.84472049689441
           ],
           "marker": {
            "color": "#636efa",
            "size": [
             5
            ],
            "sizemode": "area",
            "sizeref": 0.0125
           },
           "mode": "markers",
           "name": "path1_no_obstacle",
           "showlegend": true,
           "subplot": "mapbox",
           "type": "scattermapbox"
          },
          {
           "hovertemplate": "<b>%{hovertext}</b><br><br>type=path1<br>timestep=18000.0<br>size=%{marker.size}<br>lat=%{lat}<br>lon=%{lon}<extra></extra>",
           "hovertext": [
            "path1"
           ],
           "lat": [
            -43.5
           ],
           "legendgroup": "path1",
           "lon": [
            48.36024844720497
           ],
           "marker": {
            "color": "#EF553B",
            "size": [
             5
            ],
            "sizemode": "area",
            "sizeref": 0.0125
           },
           "mode": "markers",
           "name": "path1",
           "showlegend": true,
           "subplot": "mapbox",
           "type": "scattermapbox"
          }
         ],
         "name": "18000.0"
        },
        {
         "data": [
          {
           "hovertemplate": "<b>%{hovertext}</b><br><br>type=path1_no_obstacle<br>timestep=18100.0<br>size=%{marker.size}<br>lat=%{lat}<br>lon=%{lon}<extra></extra>",
           "hovertext": [
            "path1_no_obstacle"
           ],
           "lat": [
            -43.5
           ],
           "legendgroup": "path1_no_obstacle",
           "lon": [
            33.60248447204969
           ],
           "marker": {
            "color": "#636efa",
            "size": [
             5
            ],
            "sizemode": "area",
            "sizeref": 0.0125
           },
           "mode": "markers",
           "name": "path1_no_obstacle",
           "showlegend": true,
           "subplot": "mapbox",
           "type": "scattermapbox"
          },
          {
           "hovertemplate": "<b>%{hovertext}</b><br><br>type=path1<br>timestep=18100.0<br>size=%{marker.size}<br>lat=%{lat}<br>lon=%{lon}<extra></extra>",
           "hovertext": [
            "path1"
           ],
           "lat": [
            -43.5
           ],
           "legendgroup": "path1",
           "lon": [
            47.11801242236025
           ],
           "marker": {
            "color": "#EF553B",
            "size": [
             5
            ],
            "sizemode": "area",
            "sizeref": 0.0125
           },
           "mode": "markers",
           "name": "path1",
           "showlegend": true,
           "subplot": "mapbox",
           "type": "scattermapbox"
          }
         ],
         "name": "18100.0"
        },
        {
         "data": [
          {
           "hovertemplate": "<b>%{hovertext}</b><br><br>type=path1_no_obstacle<br>timestep=18200.0<br>size=%{marker.size}<br>lat=%{lat}<br>lon=%{lon}<extra></extra>",
           "hovertext": [
            "path1_no_obstacle"
           ],
           "lat": [
            -43.5
           ],
           "legendgroup": "path1_no_obstacle",
           "lon": [
            32.36024844720497
           ],
           "marker": {
            "color": "#636efa",
            "size": [
             5
            ],
            "sizemode": "area",
            "sizeref": 0.0125
           },
           "mode": "markers",
           "name": "path1_no_obstacle",
           "showlegend": true,
           "subplot": "mapbox",
           "type": "scattermapbox"
          },
          {
           "hovertemplate": "<b>%{hovertext}</b><br><br>type=path1<br>timestep=18200.0<br>size=%{marker.size}<br>lat=%{lat}<br>lon=%{lon}<extra></extra>",
           "hovertext": [
            "path1"
           ],
           "lat": [
            -43.5
           ],
           "legendgroup": "path1",
           "lon": [
            45.87577639751553
           ],
           "marker": {
            "color": "#EF553B",
            "size": [
             5
            ],
            "sizemode": "area",
            "sizeref": 0.0125
           },
           "mode": "markers",
           "name": "path1",
           "showlegend": true,
           "subplot": "mapbox",
           "type": "scattermapbox"
          }
         ],
         "name": "18200.0"
        },
        {
         "data": [
          {
           "hovertemplate": "<b>%{hovertext}</b><br><br>type=path1_no_obstacle<br>timestep=18300.0<br>size=%{marker.size}<br>lat=%{lat}<br>lon=%{lon}<extra></extra>",
           "hovertext": [
            "path1_no_obstacle"
           ],
           "lat": [
            -43.5
           ],
           "legendgroup": "path1_no_obstacle",
           "lon": [
            31.11801242236025
           ],
           "marker": {
            "color": "#636efa",
            "size": [
             5
            ],
            "sizemode": "area",
            "sizeref": 0.0125
           },
           "mode": "markers",
           "name": "path1_no_obstacle",
           "showlegend": true,
           "subplot": "mapbox",
           "type": "scattermapbox"
          },
          {
           "hovertemplate": "<b>%{hovertext}</b><br><br>type=path1<br>timestep=18300.0<br>size=%{marker.size}<br>lat=%{lat}<br>lon=%{lon}<extra></extra>",
           "hovertext": [
            "path1"
           ],
           "lat": [
            -43.5
           ],
           "legendgroup": "path1",
           "lon": [
            44.63354037267081
           ],
           "marker": {
            "color": "#EF553B",
            "size": [
             5
            ],
            "sizemode": "area",
            "sizeref": 0.0125
           },
           "mode": "markers",
           "name": "path1",
           "showlegend": true,
           "subplot": "mapbox",
           "type": "scattermapbox"
          }
         ],
         "name": "18300.0"
        },
        {
         "data": [
          {
           "hovertemplate": "<b>%{hovertext}</b><br><br>type=path1_no_obstacle<br>timestep=18400.0<br>size=%{marker.size}<br>lat=%{lat}<br>lon=%{lon}<extra></extra>",
           "hovertext": [
            "path1_no_obstacle"
           ],
           "lat": [
            -43.5
           ],
           "legendgroup": "path1_no_obstacle",
           "lon": [
            29.875776397515526
           ],
           "marker": {
            "color": "#636efa",
            "size": [
             5
            ],
            "sizemode": "area",
            "sizeref": 0.0125
           },
           "mode": "markers",
           "name": "path1_no_obstacle",
           "showlegend": true,
           "subplot": "mapbox",
           "type": "scattermapbox"
          },
          {
           "hovertemplate": "<b>%{hovertext}</b><br><br>type=path1<br>timestep=18400.0<br>size=%{marker.size}<br>lat=%{lat}<br>lon=%{lon}<extra></extra>",
           "hovertext": [
            "path1"
           ],
           "lat": [
            -43.5
           ],
           "legendgroup": "path1",
           "lon": [
            43.391304347826086
           ],
           "marker": {
            "color": "#EF553B",
            "size": [
             5
            ],
            "sizemode": "area",
            "sizeref": 0.0125
           },
           "mode": "markers",
           "name": "path1",
           "showlegend": true,
           "subplot": "mapbox",
           "type": "scattermapbox"
          }
         ],
         "name": "18400.0"
        },
        {
         "data": [
          {
           "hovertemplate": "<b>%{hovertext}</b><br><br>type=path1_no_obstacle<br>timestep=18500.0<br>size=%{marker.size}<br>lat=%{lat}<br>lon=%{lon}<extra></extra>",
           "hovertext": [
            "path1_no_obstacle"
           ],
           "lat": [
            -43.5
           ],
           "legendgroup": "path1_no_obstacle",
           "lon": [
            28.633540372670808
           ],
           "marker": {
            "color": "#636efa",
            "size": [
             5
            ],
            "sizemode": "area",
            "sizeref": 0.0125
           },
           "mode": "markers",
           "name": "path1_no_obstacle",
           "showlegend": true,
           "subplot": "mapbox",
           "type": "scattermapbox"
          },
          {
           "hovertemplate": "<b>%{hovertext}</b><br><br>type=path1<br>timestep=18500.0<br>size=%{marker.size}<br>lat=%{lat}<br>lon=%{lon}<extra></extra>",
           "hovertext": [
            "path1"
           ],
           "lat": [
            -43.5
           ],
           "legendgroup": "path1",
           "lon": [
            42.14906832298136
           ],
           "marker": {
            "color": "#EF553B",
            "size": [
             5
            ],
            "sizemode": "area",
            "sizeref": 0.0125
           },
           "mode": "markers",
           "name": "path1",
           "showlegend": true,
           "subplot": "mapbox",
           "type": "scattermapbox"
          }
         ],
         "name": "18500.0"
        },
        {
         "data": [
          {
           "hovertemplate": "<b>%{hovertext}</b><br><br>type=path1_no_obstacle<br>timestep=18600.0<br>size=%{marker.size}<br>lat=%{lat}<br>lon=%{lon}<extra></extra>",
           "hovertext": [
            "path1_no_obstacle"
           ],
           "lat": [
            -43.5
           ],
           "legendgroup": "path1_no_obstacle",
           "lon": [
            27.39130434782609
           ],
           "marker": {
            "color": "#636efa",
            "size": [
             5
            ],
            "sizemode": "area",
            "sizeref": 0.0125
           },
           "mode": "markers",
           "name": "path1_no_obstacle",
           "showlegend": true,
           "subplot": "mapbox",
           "type": "scattermapbox"
          },
          {
           "hovertemplate": "<b>%{hovertext}</b><br><br>type=path1<br>timestep=18600.0<br>size=%{marker.size}<br>lat=%{lat}<br>lon=%{lon}<extra></extra>",
           "hovertext": [
            "path1"
           ],
           "lat": [
            -43.5
           ],
           "legendgroup": "path1",
           "lon": [
            40.90683229813665
           ],
           "marker": {
            "color": "#EF553B",
            "size": [
             5
            ],
            "sizemode": "area",
            "sizeref": 0.0125
           },
           "mode": "markers",
           "name": "path1",
           "showlegend": true,
           "subplot": "mapbox",
           "type": "scattermapbox"
          }
         ],
         "name": "18600.0"
        },
        {
         "data": [
          {
           "hovertemplate": "<b>%{hovertext}</b><br><br>type=path1_no_obstacle<br>timestep=18700.0<br>size=%{marker.size}<br>lat=%{lat}<br>lon=%{lon}<extra></extra>",
           "hovertext": [
            "path1_no_obstacle"
           ],
           "lat": [
            -43.5
           ],
           "legendgroup": "path1_no_obstacle",
           "lon": [
            26.149068322981368
           ],
           "marker": {
            "color": "#636efa",
            "size": [
             5
            ],
            "sizemode": "area",
            "sizeref": 0.0125
           },
           "mode": "markers",
           "name": "path1_no_obstacle",
           "showlegend": true,
           "subplot": "mapbox",
           "type": "scattermapbox"
          },
          {
           "hovertemplate": "<b>%{hovertext}</b><br><br>type=path1<br>timestep=18700.0<br>size=%{marker.size}<br>lat=%{lat}<br>lon=%{lon}<extra></extra>",
           "hovertext": [
            "path1"
           ],
           "lat": [
            -43.5
           ],
           "legendgroup": "path1",
           "lon": [
            39.66459627329193
           ],
           "marker": {
            "color": "#EF553B",
            "size": [
             5
            ],
            "sizemode": "area",
            "sizeref": 0.0125
           },
           "mode": "markers",
           "name": "path1",
           "showlegend": true,
           "subplot": "mapbox",
           "type": "scattermapbox"
          }
         ],
         "name": "18700.0"
        },
        {
         "data": [
          {
           "hovertemplate": "<b>%{hovertext}</b><br><br>type=path1<br>timestep=18800.0<br>size=%{marker.size}<br>lat=%{lat}<br>lon=%{lon}<extra></extra>",
           "hovertext": [
            "path1"
           ],
           "lat": [
            -43.5
           ],
           "legendgroup": "path1",
           "lon": [
            38.422360248447205
           ],
           "marker": {
            "color": "#EF553B",
            "size": [
             5
            ],
            "sizemode": "area",
            "sizeref": 0.0125
           },
           "mode": "markers",
           "name": "path1",
           "showlegend": true,
           "subplot": "mapbox",
           "type": "scattermapbox"
          }
         ],
         "name": "18800.0"
        },
        {
         "data": [
          {
           "hovertemplate": "<b>%{hovertext}</b><br><br>type=path1<br>timestep=18900.0<br>size=%{marker.size}<br>lat=%{lat}<br>lon=%{lon}<extra></extra>",
           "hovertext": [
            "path1"
           ],
           "lat": [
            -43.5
           ],
           "legendgroup": "path1",
           "lon": [
            37.18012422360248
           ],
           "marker": {
            "color": "#EF553B",
            "size": [
             5
            ],
            "sizemode": "area",
            "sizeref": 0.0125
           },
           "mode": "markers",
           "name": "path1",
           "showlegend": true,
           "subplot": "mapbox",
           "type": "scattermapbox"
          }
         ],
         "name": "18900.0"
        },
        {
         "data": [
          {
           "hovertemplate": "<b>%{hovertext}</b><br><br>type=path1<br>timestep=19000.0<br>size=%{marker.size}<br>lat=%{lat}<br>lon=%{lon}<extra></extra>",
           "hovertext": [
            "path1"
           ],
           "lat": [
            -43.5
           ],
           "legendgroup": "path1",
           "lon": [
            35.93788819875776
           ],
           "marker": {
            "color": "#EF553B",
            "size": [
             5
            ],
            "sizemode": "area",
            "sizeref": 0.0125
           },
           "mode": "markers",
           "name": "path1",
           "showlegend": true,
           "subplot": "mapbox",
           "type": "scattermapbox"
          }
         ],
         "name": "19000.0"
        },
        {
         "data": [
          {
           "hovertemplate": "<b>%{hovertext}</b><br><br>type=path1<br>timestep=19100.0<br>size=%{marker.size}<br>lat=%{lat}<br>lon=%{lon}<extra></extra>",
           "hovertext": [
            "path1"
           ],
           "lat": [
            -43.5
           ],
           "legendgroup": "path1",
           "lon": [
            34.69565217391305
           ],
           "marker": {
            "color": "#EF553B",
            "size": [
             5
            ],
            "sizemode": "area",
            "sizeref": 0.0125
           },
           "mode": "markers",
           "name": "path1",
           "showlegend": true,
           "subplot": "mapbox",
           "type": "scattermapbox"
          }
         ],
         "name": "19100.0"
        },
        {
         "data": [
          {
           "hovertemplate": "<b>%{hovertext}</b><br><br>type=path1<br>timestep=19200.0<br>size=%{marker.size}<br>lat=%{lat}<br>lon=%{lon}<extra></extra>",
           "hovertext": [
            "path1"
           ],
           "lat": [
            -43.5
           ],
           "legendgroup": "path1",
           "lon": [
            33.453416149068325
           ],
           "marker": {
            "color": "#EF553B",
            "size": [
             5
            ],
            "sizemode": "area",
            "sizeref": 0.0125
           },
           "mode": "markers",
           "name": "path1",
           "showlegend": true,
           "subplot": "mapbox",
           "type": "scattermapbox"
          }
         ],
         "name": "19200.0"
        },
        {
         "data": [
          {
           "hovertemplate": "<b>%{hovertext}</b><br><br>type=path1<br>timestep=19300.0<br>size=%{marker.size}<br>lat=%{lat}<br>lon=%{lon}<extra></extra>",
           "hovertext": [
            "path1"
           ],
           "lat": [
            -43.5
           ],
           "legendgroup": "path1",
           "lon": [
            32.2111801242236
           ],
           "marker": {
            "color": "#EF553B",
            "size": [
             5
            ],
            "sizemode": "area",
            "sizeref": 0.0125
           },
           "mode": "markers",
           "name": "path1",
           "showlegend": true,
           "subplot": "mapbox",
           "type": "scattermapbox"
          }
         ],
         "name": "19300.0"
        },
        {
         "data": [
          {
           "hovertemplate": "<b>%{hovertext}</b><br><br>type=path1<br>timestep=19400.0<br>size=%{marker.size}<br>lat=%{lat}<br>lon=%{lon}<extra></extra>",
           "hovertext": [
            "path1"
           ],
           "lat": [
            -43.5
           ],
           "legendgroup": "path1",
           "lon": [
            30.96894409937888
           ],
           "marker": {
            "color": "#EF553B",
            "size": [
             5
            ],
            "sizemode": "area",
            "sizeref": 0.0125
           },
           "mode": "markers",
           "name": "path1",
           "showlegend": true,
           "subplot": "mapbox",
           "type": "scattermapbox"
          }
         ],
         "name": "19400.0"
        },
        {
         "data": [
          {
           "hovertemplate": "<b>%{hovertext}</b><br><br>type=path1<br>timestep=19500.0<br>size=%{marker.size}<br>lat=%{lat}<br>lon=%{lon}<extra></extra>",
           "hovertext": [
            "path1"
           ],
           "lat": [
            -43.5
           ],
           "legendgroup": "path1",
           "lon": [
            29.72670807453416
           ],
           "marker": {
            "color": "#EF553B",
            "size": [
             5
            ],
            "sizemode": "area",
            "sizeref": 0.0125
           },
           "mode": "markers",
           "name": "path1",
           "showlegend": true,
           "subplot": "mapbox",
           "type": "scattermapbox"
          }
         ],
         "name": "19500.0"
        },
        {
         "data": [
          {
           "hovertemplate": "<b>%{hovertext}</b><br><br>type=path1<br>timestep=19600.0<br>size=%{marker.size}<br>lat=%{lat}<br>lon=%{lon}<extra></extra>",
           "hovertext": [
            "path1"
           ],
           "lat": [
            -43.5
           ],
           "legendgroup": "path1",
           "lon": [
            28.48447204968944
           ],
           "marker": {
            "color": "#EF553B",
            "size": [
             5
            ],
            "sizemode": "area",
            "sizeref": 0.0125
           },
           "mode": "markers",
           "name": "path1",
           "showlegend": true,
           "subplot": "mapbox",
           "type": "scattermapbox"
          }
         ],
         "name": "19600.0"
        },
        {
         "data": [
          {
           "hovertemplate": "<b>%{hovertext}</b><br><br>type=path1<br>timestep=19700.0<br>size=%{marker.size}<br>lat=%{lat}<br>lon=%{lon}<extra></extra>",
           "hovertext": [
            "path1"
           ],
           "lat": [
            -43.5
           ],
           "legendgroup": "path1",
           "lon": [
            27.24223602484472
           ],
           "marker": {
            "color": "#EF553B",
            "size": [
             5
            ],
            "sizemode": "area",
            "sizeref": 0.0125
           },
           "mode": "markers",
           "name": "path1",
           "showlegend": true,
           "subplot": "mapbox",
           "type": "scattermapbox"
          }
         ],
         "name": "19700.0"
        },
        {
         "data": [
          {
           "hovertemplate": "<b>%{hovertext}</b><br><br>type=path1<br>timestep=19800.0<br>size=%{marker.size}<br>lat=%{lat}<br>lon=%{lon}<extra></extra>",
           "hovertext": [
            "path1"
           ],
           "lat": [
            -43.5
           ],
           "legendgroup": "path1",
           "lon": [
            26
           ],
           "marker": {
            "color": "#EF553B",
            "size": [
             5
            ],
            "sizemode": "area",
            "sizeref": 0.0125
           },
           "mode": "markers",
           "name": "path1",
           "showlegend": true,
           "subplot": "mapbox",
           "type": "scattermapbox"
          }
         ],
         "name": "19800.0"
        }
       ],
       "layout": {
        "legend": {
         "itemsizing": "constant",
         "title": {
          "text": "type"
         },
         "tracegroupgap": 0
        },
        "mapbox": {
         "accesstoken": "pk.eyJ1IjoieWVtaS0yMyIsImEiOiJjbDEzZzl6MWswZWg5M2lzNmx4dGoza2U5In0.meLrG_2lR0ob4ZqA_ZGiPw",
         "center": {
          "lat": -10.546273093432262,
          "lon": 105.00409155484341
         },
         "domain": {
          "x": [
           0,
           1
          ],
          "y": [
           0,
           1
          ]
         },
         "style": "basic",
         "zoom": 1
        },
        "margin": {
         "t": 60
        },
        "sliders": [
         {
          "active": 0,
          "currentvalue": {
           "prefix": "timestep="
          },
          "len": 0.9,
          "pad": {
           "b": 10,
           "t": 60
          },
          "steps": [
           {
            "args": [
             [
              "0.0"
             ],
             {
              "frame": {
               "duration": 0,
               "redraw": true
              },
              "fromcurrent": true,
              "mode": "immediate",
              "transition": {
               "duration": 0,
               "easing": "linear"
              }
             }
            ],
            "label": "0.0",
            "method": "animate"
           },
           {
            "args": [
             [
              "100.0"
             ],
             {
              "frame": {
               "duration": 0,
               "redraw": true
              },
              "fromcurrent": true,
              "mode": "immediate",
              "transition": {
               "duration": 0,
               "easing": "linear"
              }
             }
            ],
            "label": "100.0",
            "method": "animate"
           },
           {
            "args": [
             [
              "200.0"
             ],
             {
              "frame": {
               "duration": 0,
               "redraw": true
              },
              "fromcurrent": true,
              "mode": "immediate",
              "transition": {
               "duration": 0,
               "easing": "linear"
              }
             }
            ],
            "label": "200.0",
            "method": "animate"
           },
           {
            "args": [
             [
              "300.0"
             ],
             {
              "frame": {
               "duration": 0,
               "redraw": true
              },
              "fromcurrent": true,
              "mode": "immediate",
              "transition": {
               "duration": 0,
               "easing": "linear"
              }
             }
            ],
            "label": "300.0",
            "method": "animate"
           },
           {
            "args": [
             [
              "400.0"
             ],
             {
              "frame": {
               "duration": 0,
               "redraw": true
              },
              "fromcurrent": true,
              "mode": "immediate",
              "transition": {
               "duration": 0,
               "easing": "linear"
              }
             }
            ],
            "label": "400.0",
            "method": "animate"
           },
           {
            "args": [
             [
              "500.0"
             ],
             {
              "frame": {
               "duration": 0,
               "redraw": true
              },
              "fromcurrent": true,
              "mode": "immediate",
              "transition": {
               "duration": 0,
               "easing": "linear"
              }
             }
            ],
            "label": "500.0",
            "method": "animate"
           },
           {
            "args": [
             [
              "600.0"
             ],
             {
              "frame": {
               "duration": 0,
               "redraw": true
              },
              "fromcurrent": true,
              "mode": "immediate",
              "transition": {
               "duration": 0,
               "easing": "linear"
              }
             }
            ],
            "label": "600.0",
            "method": "animate"
           },
           {
            "args": [
             [
              "700.0"
             ],
             {
              "frame": {
               "duration": 0,
               "redraw": true
              },
              "fromcurrent": true,
              "mode": "immediate",
              "transition": {
               "duration": 0,
               "easing": "linear"
              }
             }
            ],
            "label": "700.0",
            "method": "animate"
           },
           {
            "args": [
             [
              "800.0"
             ],
             {
              "frame": {
               "duration": 0,
               "redraw": true
              },
              "fromcurrent": true,
              "mode": "immediate",
              "transition": {
               "duration": 0,
               "easing": "linear"
              }
             }
            ],
            "label": "800.0",
            "method": "animate"
           },
           {
            "args": [
             [
              "900.0"
             ],
             {
              "frame": {
               "duration": 0,
               "redraw": true
              },
              "fromcurrent": true,
              "mode": "immediate",
              "transition": {
               "duration": 0,
               "easing": "linear"
              }
             }
            ],
            "label": "900.0",
            "method": "animate"
           },
           {
            "args": [
             [
              "1000.0"
             ],
             {
              "frame": {
               "duration": 0,
               "redraw": true
              },
              "fromcurrent": true,
              "mode": "immediate",
              "transition": {
               "duration": 0,
               "easing": "linear"
              }
             }
            ],
            "label": "1000.0",
            "method": "animate"
           },
           {
            "args": [
             [
              "1100.0"
             ],
             {
              "frame": {
               "duration": 0,
               "redraw": true
              },
              "fromcurrent": true,
              "mode": "immediate",
              "transition": {
               "duration": 0,
               "easing": "linear"
              }
             }
            ],
            "label": "1100.0",
            "method": "animate"
           },
           {
            "args": [
             [
              "1200.0"
             ],
             {
              "frame": {
               "duration": 0,
               "redraw": true
              },
              "fromcurrent": true,
              "mode": "immediate",
              "transition": {
               "duration": 0,
               "easing": "linear"
              }
             }
            ],
            "label": "1200.0",
            "method": "animate"
           },
           {
            "args": [
             [
              "1300.0"
             ],
             {
              "frame": {
               "duration": 0,
               "redraw": true
              },
              "fromcurrent": true,
              "mode": "immediate",
              "transition": {
               "duration": 0,
               "easing": "linear"
              }
             }
            ],
            "label": "1300.0",
            "method": "animate"
           },
           {
            "args": [
             [
              "1400.0"
             ],
             {
              "frame": {
               "duration": 0,
               "redraw": true
              },
              "fromcurrent": true,
              "mode": "immediate",
              "transition": {
               "duration": 0,
               "easing": "linear"
              }
             }
            ],
            "label": "1400.0",
            "method": "animate"
           },
           {
            "args": [
             [
              "1500.0"
             ],
             {
              "frame": {
               "duration": 0,
               "redraw": true
              },
              "fromcurrent": true,
              "mode": "immediate",
              "transition": {
               "duration": 0,
               "easing": "linear"
              }
             }
            ],
            "label": "1500.0",
            "method": "animate"
           },
           {
            "args": [
             [
              "1600.0"
             ],
             {
              "frame": {
               "duration": 0,
               "redraw": true
              },
              "fromcurrent": true,
              "mode": "immediate",
              "transition": {
               "duration": 0,
               "easing": "linear"
              }
             }
            ],
            "label": "1600.0",
            "method": "animate"
           },
           {
            "args": [
             [
              "1700.0"
             ],
             {
              "frame": {
               "duration": 0,
               "redraw": true
              },
              "fromcurrent": true,
              "mode": "immediate",
              "transition": {
               "duration": 0,
               "easing": "linear"
              }
             }
            ],
            "label": "1700.0",
            "method": "animate"
           },
           {
            "args": [
             [
              "1800.0"
             ],
             {
              "frame": {
               "duration": 0,
               "redraw": true
              },
              "fromcurrent": true,
              "mode": "immediate",
              "transition": {
               "duration": 0,
               "easing": "linear"
              }
             }
            ],
            "label": "1800.0",
            "method": "animate"
           },
           {
            "args": [
             [
              "1900.0"
             ],
             {
              "frame": {
               "duration": 0,
               "redraw": true
              },
              "fromcurrent": true,
              "mode": "immediate",
              "transition": {
               "duration": 0,
               "easing": "linear"
              }
             }
            ],
            "label": "1900.0",
            "method": "animate"
           },
           {
            "args": [
             [
              "2000.0"
             ],
             {
              "frame": {
               "duration": 0,
               "redraw": true
              },
              "fromcurrent": true,
              "mode": "immediate",
              "transition": {
               "duration": 0,
               "easing": "linear"
              }
             }
            ],
            "label": "2000.0",
            "method": "animate"
           },
           {
            "args": [
             [
              "2100.0"
             ],
             {
              "frame": {
               "duration": 0,
               "redraw": true
              },
              "fromcurrent": true,
              "mode": "immediate",
              "transition": {
               "duration": 0,
               "easing": "linear"
              }
             }
            ],
            "label": "2100.0",
            "method": "animate"
           },
           {
            "args": [
             [
              "2200.0"
             ],
             {
              "frame": {
               "duration": 0,
               "redraw": true
              },
              "fromcurrent": true,
              "mode": "immediate",
              "transition": {
               "duration": 0,
               "easing": "linear"
              }
             }
            ],
            "label": "2200.0",
            "method": "animate"
           },
           {
            "args": [
             [
              "2300.0"
             ],
             {
              "frame": {
               "duration": 0,
               "redraw": true
              },
              "fromcurrent": true,
              "mode": "immediate",
              "transition": {
               "duration": 0,
               "easing": "linear"
              }
             }
            ],
            "label": "2300.0",
            "method": "animate"
           },
           {
            "args": [
             [
              "2400.0"
             ],
             {
              "frame": {
               "duration": 0,
               "redraw": true
              },
              "fromcurrent": true,
              "mode": "immediate",
              "transition": {
               "duration": 0,
               "easing": "linear"
              }
             }
            ],
            "label": "2400.0",
            "method": "animate"
           },
           {
            "args": [
             [
              "2500.0"
             ],
             {
              "frame": {
               "duration": 0,
               "redraw": true
              },
              "fromcurrent": true,
              "mode": "immediate",
              "transition": {
               "duration": 0,
               "easing": "linear"
              }
             }
            ],
            "label": "2500.0",
            "method": "animate"
           },
           {
            "args": [
             [
              "2600.0"
             ],
             {
              "frame": {
               "duration": 0,
               "redraw": true
              },
              "fromcurrent": true,
              "mode": "immediate",
              "transition": {
               "duration": 0,
               "easing": "linear"
              }
             }
            ],
            "label": "2600.0",
            "method": "animate"
           },
           {
            "args": [
             [
              "2700.0"
             ],
             {
              "frame": {
               "duration": 0,
               "redraw": true
              },
              "fromcurrent": true,
              "mode": "immediate",
              "transition": {
               "duration": 0,
               "easing": "linear"
              }
             }
            ],
            "label": "2700.0",
            "method": "animate"
           },
           {
            "args": [
             [
              "2800.0"
             ],
             {
              "frame": {
               "duration": 0,
               "redraw": true
              },
              "fromcurrent": true,
              "mode": "immediate",
              "transition": {
               "duration": 0,
               "easing": "linear"
              }
             }
            ],
            "label": "2800.0",
            "method": "animate"
           },
           {
            "args": [
             [
              "2900.0"
             ],
             {
              "frame": {
               "duration": 0,
               "redraw": true
              },
              "fromcurrent": true,
              "mode": "immediate",
              "transition": {
               "duration": 0,
               "easing": "linear"
              }
             }
            ],
            "label": "2900.0",
            "method": "animate"
           },
           {
            "args": [
             [
              "3000.0"
             ],
             {
              "frame": {
               "duration": 0,
               "redraw": true
              },
              "fromcurrent": true,
              "mode": "immediate",
              "transition": {
               "duration": 0,
               "easing": "linear"
              }
             }
            ],
            "label": "3000.0",
            "method": "animate"
           },
           {
            "args": [
             [
              "3100.0"
             ],
             {
              "frame": {
               "duration": 0,
               "redraw": true
              },
              "fromcurrent": true,
              "mode": "immediate",
              "transition": {
               "duration": 0,
               "easing": "linear"
              }
             }
            ],
            "label": "3100.0",
            "method": "animate"
           },
           {
            "args": [
             [
              "3200.0"
             ],
             {
              "frame": {
               "duration": 0,
               "redraw": true
              },
              "fromcurrent": true,
              "mode": "immediate",
              "transition": {
               "duration": 0,
               "easing": "linear"
              }
             }
            ],
            "label": "3200.0",
            "method": "animate"
           },
           {
            "args": [
             [
              "3300.0"
             ],
             {
              "frame": {
               "duration": 0,
               "redraw": true
              },
              "fromcurrent": true,
              "mode": "immediate",
              "transition": {
               "duration": 0,
               "easing": "linear"
              }
             }
            ],
            "label": "3300.0",
            "method": "animate"
           },
           {
            "args": [
             [
              "3400.0"
             ],
             {
              "frame": {
               "duration": 0,
               "redraw": true
              },
              "fromcurrent": true,
              "mode": "immediate",
              "transition": {
               "duration": 0,
               "easing": "linear"
              }
             }
            ],
            "label": "3400.0",
            "method": "animate"
           },
           {
            "args": [
             [
              "3500.0"
             ],
             {
              "frame": {
               "duration": 0,
               "redraw": true
              },
              "fromcurrent": true,
              "mode": "immediate",
              "transition": {
               "duration": 0,
               "easing": "linear"
              }
             }
            ],
            "label": "3500.0",
            "method": "animate"
           },
           {
            "args": [
             [
              "3600.0"
             ],
             {
              "frame": {
               "duration": 0,
               "redraw": true
              },
              "fromcurrent": true,
              "mode": "immediate",
              "transition": {
               "duration": 0,
               "easing": "linear"
              }
             }
            ],
            "label": "3600.0",
            "method": "animate"
           },
           {
            "args": [
             [
              "3700.0"
             ],
             {
              "frame": {
               "duration": 0,
               "redraw": true
              },
              "fromcurrent": true,
              "mode": "immediate",
              "transition": {
               "duration": 0,
               "easing": "linear"
              }
             }
            ],
            "label": "3700.0",
            "method": "animate"
           },
           {
            "args": [
             [
              "3800.0"
             ],
             {
              "frame": {
               "duration": 0,
               "redraw": true
              },
              "fromcurrent": true,
              "mode": "immediate",
              "transition": {
               "duration": 0,
               "easing": "linear"
              }
             }
            ],
            "label": "3800.0",
            "method": "animate"
           },
           {
            "args": [
             [
              "3900.0"
             ],
             {
              "frame": {
               "duration": 0,
               "redraw": true
              },
              "fromcurrent": true,
              "mode": "immediate",
              "transition": {
               "duration": 0,
               "easing": "linear"
              }
             }
            ],
            "label": "3900.0",
            "method": "animate"
           },
           {
            "args": [
             [
              "4000.0"
             ],
             {
              "frame": {
               "duration": 0,
               "redraw": true
              },
              "fromcurrent": true,
              "mode": "immediate",
              "transition": {
               "duration": 0,
               "easing": "linear"
              }
             }
            ],
            "label": "4000.0",
            "method": "animate"
           },
           {
            "args": [
             [
              "4100.0"
             ],
             {
              "frame": {
               "duration": 0,
               "redraw": true
              },
              "fromcurrent": true,
              "mode": "immediate",
              "transition": {
               "duration": 0,
               "easing": "linear"
              }
             }
            ],
            "label": "4100.0",
            "method": "animate"
           },
           {
            "args": [
             [
              "4200.0"
             ],
             {
              "frame": {
               "duration": 0,
               "redraw": true
              },
              "fromcurrent": true,
              "mode": "immediate",
              "transition": {
               "duration": 0,
               "easing": "linear"
              }
             }
            ],
            "label": "4200.0",
            "method": "animate"
           },
           {
            "args": [
             [
              "4300.0"
             ],
             {
              "frame": {
               "duration": 0,
               "redraw": true
              },
              "fromcurrent": true,
              "mode": "immediate",
              "transition": {
               "duration": 0,
               "easing": "linear"
              }
             }
            ],
            "label": "4300.0",
            "method": "animate"
           },
           {
            "args": [
             [
              "4400.0"
             ],
             {
              "frame": {
               "duration": 0,
               "redraw": true
              },
              "fromcurrent": true,
              "mode": "immediate",
              "transition": {
               "duration": 0,
               "easing": "linear"
              }
             }
            ],
            "label": "4400.0",
            "method": "animate"
           },
           {
            "args": [
             [
              "4500.0"
             ],
             {
              "frame": {
               "duration": 0,
               "redraw": true
              },
              "fromcurrent": true,
              "mode": "immediate",
              "transition": {
               "duration": 0,
               "easing": "linear"
              }
             }
            ],
            "label": "4500.0",
            "method": "animate"
           },
           {
            "args": [
             [
              "4600.0"
             ],
             {
              "frame": {
               "duration": 0,
               "redraw": true
              },
              "fromcurrent": true,
              "mode": "immediate",
              "transition": {
               "duration": 0,
               "easing": "linear"
              }
             }
            ],
            "label": "4600.0",
            "method": "animate"
           },
           {
            "args": [
             [
              "4700.0"
             ],
             {
              "frame": {
               "duration": 0,
               "redraw": true
              },
              "fromcurrent": true,
              "mode": "immediate",
              "transition": {
               "duration": 0,
               "easing": "linear"
              }
             }
            ],
            "label": "4700.0",
            "method": "animate"
           },
           {
            "args": [
             [
              "4800.0"
             ],
             {
              "frame": {
               "duration": 0,
               "redraw": true
              },
              "fromcurrent": true,
              "mode": "immediate",
              "transition": {
               "duration": 0,
               "easing": "linear"
              }
             }
            ],
            "label": "4800.0",
            "method": "animate"
           },
           {
            "args": [
             [
              "4900.0"
             ],
             {
              "frame": {
               "duration": 0,
               "redraw": true
              },
              "fromcurrent": true,
              "mode": "immediate",
              "transition": {
               "duration": 0,
               "easing": "linear"
              }
             }
            ],
            "label": "4900.0",
            "method": "animate"
           },
           {
            "args": [
             [
              "5000.0"
             ],
             {
              "frame": {
               "duration": 0,
               "redraw": true
              },
              "fromcurrent": true,
              "mode": "immediate",
              "transition": {
               "duration": 0,
               "easing": "linear"
              }
             }
            ],
            "label": "5000.0",
            "method": "animate"
           },
           {
            "args": [
             [
              "5100.0"
             ],
             {
              "frame": {
               "duration": 0,
               "redraw": true
              },
              "fromcurrent": true,
              "mode": "immediate",
              "transition": {
               "duration": 0,
               "easing": "linear"
              }
             }
            ],
            "label": "5100.0",
            "method": "animate"
           },
           {
            "args": [
             [
              "5200.0"
             ],
             {
              "frame": {
               "duration": 0,
               "redraw": true
              },
              "fromcurrent": true,
              "mode": "immediate",
              "transition": {
               "duration": 0,
               "easing": "linear"
              }
             }
            ],
            "label": "5200.0",
            "method": "animate"
           },
           {
            "args": [
             [
              "5300.0"
             ],
             {
              "frame": {
               "duration": 0,
               "redraw": true
              },
              "fromcurrent": true,
              "mode": "immediate",
              "transition": {
               "duration": 0,
               "easing": "linear"
              }
             }
            ],
            "label": "5300.0",
            "method": "animate"
           },
           {
            "args": [
             [
              "5400.0"
             ],
             {
              "frame": {
               "duration": 0,
               "redraw": true
              },
              "fromcurrent": true,
              "mode": "immediate",
              "transition": {
               "duration": 0,
               "easing": "linear"
              }
             }
            ],
            "label": "5400.0",
            "method": "animate"
           },
           {
            "args": [
             [
              "5500.0"
             ],
             {
              "frame": {
               "duration": 0,
               "redraw": true
              },
              "fromcurrent": true,
              "mode": "immediate",
              "transition": {
               "duration": 0,
               "easing": "linear"
              }
             }
            ],
            "label": "5500.0",
            "method": "animate"
           },
           {
            "args": [
             [
              "5600.0"
             ],
             {
              "frame": {
               "duration": 0,
               "redraw": true
              },
              "fromcurrent": true,
              "mode": "immediate",
              "transition": {
               "duration": 0,
               "easing": "linear"
              }
             }
            ],
            "label": "5600.0",
            "method": "animate"
           },
           {
            "args": [
             [
              "5700.0"
             ],
             {
              "frame": {
               "duration": 0,
               "redraw": true
              },
              "fromcurrent": true,
              "mode": "immediate",
              "transition": {
               "duration": 0,
               "easing": "linear"
              }
             }
            ],
            "label": "5700.0",
            "method": "animate"
           },
           {
            "args": [
             [
              "5800.0"
             ],
             {
              "frame": {
               "duration": 0,
               "redraw": true
              },
              "fromcurrent": true,
              "mode": "immediate",
              "transition": {
               "duration": 0,
               "easing": "linear"
              }
             }
            ],
            "label": "5800.0",
            "method": "animate"
           },
           {
            "args": [
             [
              "5900.0"
             ],
             {
              "frame": {
               "duration": 0,
               "redraw": true
              },
              "fromcurrent": true,
              "mode": "immediate",
              "transition": {
               "duration": 0,
               "easing": "linear"
              }
             }
            ],
            "label": "5900.0",
            "method": "animate"
           },
           {
            "args": [
             [
              "6000.0"
             ],
             {
              "frame": {
               "duration": 0,
               "redraw": true
              },
              "fromcurrent": true,
              "mode": "immediate",
              "transition": {
               "duration": 0,
               "easing": "linear"
              }
             }
            ],
            "label": "6000.0",
            "method": "animate"
           },
           {
            "args": [
             [
              "6100.0"
             ],
             {
              "frame": {
               "duration": 0,
               "redraw": true
              },
              "fromcurrent": true,
              "mode": "immediate",
              "transition": {
               "duration": 0,
               "easing": "linear"
              }
             }
            ],
            "label": "6100.0",
            "method": "animate"
           },
           {
            "args": [
             [
              "6200.0"
             ],
             {
              "frame": {
               "duration": 0,
               "redraw": true
              },
              "fromcurrent": true,
              "mode": "immediate",
              "transition": {
               "duration": 0,
               "easing": "linear"
              }
             }
            ],
            "label": "6200.0",
            "method": "animate"
           },
           {
            "args": [
             [
              "6300.0"
             ],
             {
              "frame": {
               "duration": 0,
               "redraw": true
              },
              "fromcurrent": true,
              "mode": "immediate",
              "transition": {
               "duration": 0,
               "easing": "linear"
              }
             }
            ],
            "label": "6300.0",
            "method": "animate"
           },
           {
            "args": [
             [
              "6400.0"
             ],
             {
              "frame": {
               "duration": 0,
               "redraw": true
              },
              "fromcurrent": true,
              "mode": "immediate",
              "transition": {
               "duration": 0,
               "easing": "linear"
              }
             }
            ],
            "label": "6400.0",
            "method": "animate"
           },
           {
            "args": [
             [
              "6500.0"
             ],
             {
              "frame": {
               "duration": 0,
               "redraw": true
              },
              "fromcurrent": true,
              "mode": "immediate",
              "transition": {
               "duration": 0,
               "easing": "linear"
              }
             }
            ],
            "label": "6500.0",
            "method": "animate"
           },
           {
            "args": [
             [
              "6600.0"
             ],
             {
              "frame": {
               "duration": 0,
               "redraw": true
              },
              "fromcurrent": true,
              "mode": "immediate",
              "transition": {
               "duration": 0,
               "easing": "linear"
              }
             }
            ],
            "label": "6600.0",
            "method": "animate"
           },
           {
            "args": [
             [
              "6700.0"
             ],
             {
              "frame": {
               "duration": 0,
               "redraw": true
              },
              "fromcurrent": true,
              "mode": "immediate",
              "transition": {
               "duration": 0,
               "easing": "linear"
              }
             }
            ],
            "label": "6700.0",
            "method": "animate"
           },
           {
            "args": [
             [
              "6800.0"
             ],
             {
              "frame": {
               "duration": 0,
               "redraw": true
              },
              "fromcurrent": true,
              "mode": "immediate",
              "transition": {
               "duration": 0,
               "easing": "linear"
              }
             }
            ],
            "label": "6800.0",
            "method": "animate"
           },
           {
            "args": [
             [
              "6900.0"
             ],
             {
              "frame": {
               "duration": 0,
               "redraw": true
              },
              "fromcurrent": true,
              "mode": "immediate",
              "transition": {
               "duration": 0,
               "easing": "linear"
              }
             }
            ],
            "label": "6900.0",
            "method": "animate"
           },
           {
            "args": [
             [
              "7000.0"
             ],
             {
              "frame": {
               "duration": 0,
               "redraw": true
              },
              "fromcurrent": true,
              "mode": "immediate",
              "transition": {
               "duration": 0,
               "easing": "linear"
              }
             }
            ],
            "label": "7000.0",
            "method": "animate"
           },
           {
            "args": [
             [
              "7100.0"
             ],
             {
              "frame": {
               "duration": 0,
               "redraw": true
              },
              "fromcurrent": true,
              "mode": "immediate",
              "transition": {
               "duration": 0,
               "easing": "linear"
              }
             }
            ],
            "label": "7100.0",
            "method": "animate"
           },
           {
            "args": [
             [
              "7200.0"
             ],
             {
              "frame": {
               "duration": 0,
               "redraw": true
              },
              "fromcurrent": true,
              "mode": "immediate",
              "transition": {
               "duration": 0,
               "easing": "linear"
              }
             }
            ],
            "label": "7200.0",
            "method": "animate"
           },
           {
            "args": [
             [
              "7300.0"
             ],
             {
              "frame": {
               "duration": 0,
               "redraw": true
              },
              "fromcurrent": true,
              "mode": "immediate",
              "transition": {
               "duration": 0,
               "easing": "linear"
              }
             }
            ],
            "label": "7300.0",
            "method": "animate"
           },
           {
            "args": [
             [
              "7400.0"
             ],
             {
              "frame": {
               "duration": 0,
               "redraw": true
              },
              "fromcurrent": true,
              "mode": "immediate",
              "transition": {
               "duration": 0,
               "easing": "linear"
              }
             }
            ],
            "label": "7400.0",
            "method": "animate"
           },
           {
            "args": [
             [
              "7500.0"
             ],
             {
              "frame": {
               "duration": 0,
               "redraw": true
              },
              "fromcurrent": true,
              "mode": "immediate",
              "transition": {
               "duration": 0,
               "easing": "linear"
              }
             }
            ],
            "label": "7500.0",
            "method": "animate"
           },
           {
            "args": [
             [
              "7600.0"
             ],
             {
              "frame": {
               "duration": 0,
               "redraw": true
              },
              "fromcurrent": true,
              "mode": "immediate",
              "transition": {
               "duration": 0,
               "easing": "linear"
              }
             }
            ],
            "label": "7600.0",
            "method": "animate"
           },
           {
            "args": [
             [
              "7700.0"
             ],
             {
              "frame": {
               "duration": 0,
               "redraw": true
              },
              "fromcurrent": true,
              "mode": "immediate",
              "transition": {
               "duration": 0,
               "easing": "linear"
              }
             }
            ],
            "label": "7700.0",
            "method": "animate"
           },
           {
            "args": [
             [
              "7800.0"
             ],
             {
              "frame": {
               "duration": 0,
               "redraw": true
              },
              "fromcurrent": true,
              "mode": "immediate",
              "transition": {
               "duration": 0,
               "easing": "linear"
              }
             }
            ],
            "label": "7800.0",
            "method": "animate"
           },
           {
            "args": [
             [
              "7900.0"
             ],
             {
              "frame": {
               "duration": 0,
               "redraw": true
              },
              "fromcurrent": true,
              "mode": "immediate",
              "transition": {
               "duration": 0,
               "easing": "linear"
              }
             }
            ],
            "label": "7900.0",
            "method": "animate"
           },
           {
            "args": [
             [
              "8000.0"
             ],
             {
              "frame": {
               "duration": 0,
               "redraw": true
              },
              "fromcurrent": true,
              "mode": "immediate",
              "transition": {
               "duration": 0,
               "easing": "linear"
              }
             }
            ],
            "label": "8000.0",
            "method": "animate"
           },
           {
            "args": [
             [
              "8100.0"
             ],
             {
              "frame": {
               "duration": 0,
               "redraw": true
              },
              "fromcurrent": true,
              "mode": "immediate",
              "transition": {
               "duration": 0,
               "easing": "linear"
              }
             }
            ],
            "label": "8100.0",
            "method": "animate"
           },
           {
            "args": [
             [
              "8200.0"
             ],
             {
              "frame": {
               "duration": 0,
               "redraw": true
              },
              "fromcurrent": true,
              "mode": "immediate",
              "transition": {
               "duration": 0,
               "easing": "linear"
              }
             }
            ],
            "label": "8200.0",
            "method": "animate"
           },
           {
            "args": [
             [
              "8300.0"
             ],
             {
              "frame": {
               "duration": 0,
               "redraw": true
              },
              "fromcurrent": true,
              "mode": "immediate",
              "transition": {
               "duration": 0,
               "easing": "linear"
              }
             }
            ],
            "label": "8300.0",
            "method": "animate"
           },
           {
            "args": [
             [
              "8400.0"
             ],
             {
              "frame": {
               "duration": 0,
               "redraw": true
              },
              "fromcurrent": true,
              "mode": "immediate",
              "transition": {
               "duration": 0,
               "easing": "linear"
              }
             }
            ],
            "label": "8400.0",
            "method": "animate"
           },
           {
            "args": [
             [
              "8500.0"
             ],
             {
              "frame": {
               "duration": 0,
               "redraw": true
              },
              "fromcurrent": true,
              "mode": "immediate",
              "transition": {
               "duration": 0,
               "easing": "linear"
              }
             }
            ],
            "label": "8500.0",
            "method": "animate"
           },
           {
            "args": [
             [
              "8600.0"
             ],
             {
              "frame": {
               "duration": 0,
               "redraw": true
              },
              "fromcurrent": true,
              "mode": "immediate",
              "transition": {
               "duration": 0,
               "easing": "linear"
              }
             }
            ],
            "label": "8600.0",
            "method": "animate"
           },
           {
            "args": [
             [
              "8700.0"
             ],
             {
              "frame": {
               "duration": 0,
               "redraw": true
              },
              "fromcurrent": true,
              "mode": "immediate",
              "transition": {
               "duration": 0,
               "easing": "linear"
              }
             }
            ],
            "label": "8700.0",
            "method": "animate"
           },
           {
            "args": [
             [
              "8800.0"
             ],
             {
              "frame": {
               "duration": 0,
               "redraw": true
              },
              "fromcurrent": true,
              "mode": "immediate",
              "transition": {
               "duration": 0,
               "easing": "linear"
              }
             }
            ],
            "label": "8800.0",
            "method": "animate"
           },
           {
            "args": [
             [
              "8900.0"
             ],
             {
              "frame": {
               "duration": 0,
               "redraw": true
              },
              "fromcurrent": true,
              "mode": "immediate",
              "transition": {
               "duration": 0,
               "easing": "linear"
              }
             }
            ],
            "label": "8900.0",
            "method": "animate"
           },
           {
            "args": [
             [
              "9000.0"
             ],
             {
              "frame": {
               "duration": 0,
               "redraw": true
              },
              "fromcurrent": true,
              "mode": "immediate",
              "transition": {
               "duration": 0,
               "easing": "linear"
              }
             }
            ],
            "label": "9000.0",
            "method": "animate"
           },
           {
            "args": [
             [
              "9100.0"
             ],
             {
              "frame": {
               "duration": 0,
               "redraw": true
              },
              "fromcurrent": true,
              "mode": "immediate",
              "transition": {
               "duration": 0,
               "easing": "linear"
              }
             }
            ],
            "label": "9100.0",
            "method": "animate"
           },
           {
            "args": [
             [
              "9200.0"
             ],
             {
              "frame": {
               "duration": 0,
               "redraw": true
              },
              "fromcurrent": true,
              "mode": "immediate",
              "transition": {
               "duration": 0,
               "easing": "linear"
              }
             }
            ],
            "label": "9200.0",
            "method": "animate"
           },
           {
            "args": [
             [
              "9300.0"
             ],
             {
              "frame": {
               "duration": 0,
               "redraw": true
              },
              "fromcurrent": true,
              "mode": "immediate",
              "transition": {
               "duration": 0,
               "easing": "linear"
              }
             }
            ],
            "label": "9300.0",
            "method": "animate"
           },
           {
            "args": [
             [
              "9400.0"
             ],
             {
              "frame": {
               "duration": 0,
               "redraw": true
              },
              "fromcurrent": true,
              "mode": "immediate",
              "transition": {
               "duration": 0,
               "easing": "linear"
              }
             }
            ],
            "label": "9400.0",
            "method": "animate"
           },
           {
            "args": [
             [
              "9500.0"
             ],
             {
              "frame": {
               "duration": 0,
               "redraw": true
              },
              "fromcurrent": true,
              "mode": "immediate",
              "transition": {
               "duration": 0,
               "easing": "linear"
              }
             }
            ],
            "label": "9500.0",
            "method": "animate"
           },
           {
            "args": [
             [
              "9600.0"
             ],
             {
              "frame": {
               "duration": 0,
               "redraw": true
              },
              "fromcurrent": true,
              "mode": "immediate",
              "transition": {
               "duration": 0,
               "easing": "linear"
              }
             }
            ],
            "label": "9600.0",
            "method": "animate"
           },
           {
            "args": [
             [
              "9700.0"
             ],
             {
              "frame": {
               "duration": 0,
               "redraw": true
              },
              "fromcurrent": true,
              "mode": "immediate",
              "transition": {
               "duration": 0,
               "easing": "linear"
              }
             }
            ],
            "label": "9700.0",
            "method": "animate"
           },
           {
            "args": [
             [
              "9800.0"
             ],
             {
              "frame": {
               "duration": 0,
               "redraw": true
              },
              "fromcurrent": true,
              "mode": "immediate",
              "transition": {
               "duration": 0,
               "easing": "linear"
              }
             }
            ],
            "label": "9800.0",
            "method": "animate"
           },
           {
            "args": [
             [
              "9900.0"
             ],
             {
              "frame": {
               "duration": 0,
               "redraw": true
              },
              "fromcurrent": true,
              "mode": "immediate",
              "transition": {
               "duration": 0,
               "easing": "linear"
              }
             }
            ],
            "label": "9900.0",
            "method": "animate"
           },
           {
            "args": [
             [
              "10000.0"
             ],
             {
              "frame": {
               "duration": 0,
               "redraw": true
              },
              "fromcurrent": true,
              "mode": "immediate",
              "transition": {
               "duration": 0,
               "easing": "linear"
              }
             }
            ],
            "label": "10000.0",
            "method": "animate"
           },
           {
            "args": [
             [
              "10100.0"
             ],
             {
              "frame": {
               "duration": 0,
               "redraw": true
              },
              "fromcurrent": true,
              "mode": "immediate",
              "transition": {
               "duration": 0,
               "easing": "linear"
              }
             }
            ],
            "label": "10100.0",
            "method": "animate"
           },
           {
            "args": [
             [
              "10200.0"
             ],
             {
              "frame": {
               "duration": 0,
               "redraw": true
              },
              "fromcurrent": true,
              "mode": "immediate",
              "transition": {
               "duration": 0,
               "easing": "linear"
              }
             }
            ],
            "label": "10200.0",
            "method": "animate"
           },
           {
            "args": [
             [
              "10300.0"
             ],
             {
              "frame": {
               "duration": 0,
               "redraw": true
              },
              "fromcurrent": true,
              "mode": "immediate",
              "transition": {
               "duration": 0,
               "easing": "linear"
              }
             }
            ],
            "label": "10300.0",
            "method": "animate"
           },
           {
            "args": [
             [
              "10400.0"
             ],
             {
              "frame": {
               "duration": 0,
               "redraw": true
              },
              "fromcurrent": true,
              "mode": "immediate",
              "transition": {
               "duration": 0,
               "easing": "linear"
              }
             }
            ],
            "label": "10400.0",
            "method": "animate"
           },
           {
            "args": [
             [
              "10500.0"
             ],
             {
              "frame": {
               "duration": 0,
               "redraw": true
              },
              "fromcurrent": true,
              "mode": "immediate",
              "transition": {
               "duration": 0,
               "easing": "linear"
              }
             }
            ],
            "label": "10500.0",
            "method": "animate"
           },
           {
            "args": [
             [
              "10600.0"
             ],
             {
              "frame": {
               "duration": 0,
               "redraw": true
              },
              "fromcurrent": true,
              "mode": "immediate",
              "transition": {
               "duration": 0,
               "easing": "linear"
              }
             }
            ],
            "label": "10600.0",
            "method": "animate"
           },
           {
            "args": [
             [
              "10700.0"
             ],
             {
              "frame": {
               "duration": 0,
               "redraw": true
              },
              "fromcurrent": true,
              "mode": "immediate",
              "transition": {
               "duration": 0,
               "easing": "linear"
              }
             }
            ],
            "label": "10700.0",
            "method": "animate"
           },
           {
            "args": [
             [
              "10800.0"
             ],
             {
              "frame": {
               "duration": 0,
               "redraw": true
              },
              "fromcurrent": true,
              "mode": "immediate",
              "transition": {
               "duration": 0,
               "easing": "linear"
              }
             }
            ],
            "label": "10800.0",
            "method": "animate"
           },
           {
            "args": [
             [
              "10900.0"
             ],
             {
              "frame": {
               "duration": 0,
               "redraw": true
              },
              "fromcurrent": true,
              "mode": "immediate",
              "transition": {
               "duration": 0,
               "easing": "linear"
              }
             }
            ],
            "label": "10900.0",
            "method": "animate"
           },
           {
            "args": [
             [
              "11000.0"
             ],
             {
              "frame": {
               "duration": 0,
               "redraw": true
              },
              "fromcurrent": true,
              "mode": "immediate",
              "transition": {
               "duration": 0,
               "easing": "linear"
              }
             }
            ],
            "label": "11000.0",
            "method": "animate"
           },
           {
            "args": [
             [
              "11100.0"
             ],
             {
              "frame": {
               "duration": 0,
               "redraw": true
              },
              "fromcurrent": true,
              "mode": "immediate",
              "transition": {
               "duration": 0,
               "easing": "linear"
              }
             }
            ],
            "label": "11100.0",
            "method": "animate"
           },
           {
            "args": [
             [
              "11200.0"
             ],
             {
              "frame": {
               "duration": 0,
               "redraw": true
              },
              "fromcurrent": true,
              "mode": "immediate",
              "transition": {
               "duration": 0,
               "easing": "linear"
              }
             }
            ],
            "label": "11200.0",
            "method": "animate"
           },
           {
            "args": [
             [
              "11300.0"
             ],
             {
              "frame": {
               "duration": 0,
               "redraw": true
              },
              "fromcurrent": true,
              "mode": "immediate",
              "transition": {
               "duration": 0,
               "easing": "linear"
              }
             }
            ],
            "label": "11300.0",
            "method": "animate"
           },
           {
            "args": [
             [
              "11400.0"
             ],
             {
              "frame": {
               "duration": 0,
               "redraw": true
              },
              "fromcurrent": true,
              "mode": "immediate",
              "transition": {
               "duration": 0,
               "easing": "linear"
              }
             }
            ],
            "label": "11400.0",
            "method": "animate"
           },
           {
            "args": [
             [
              "11500.0"
             ],
             {
              "frame": {
               "duration": 0,
               "redraw": true
              },
              "fromcurrent": true,
              "mode": "immediate",
              "transition": {
               "duration": 0,
               "easing": "linear"
              }
             }
            ],
            "label": "11500.0",
            "method": "animate"
           },
           {
            "args": [
             [
              "11600.0"
             ],
             {
              "frame": {
               "duration": 0,
               "redraw": true
              },
              "fromcurrent": true,
              "mode": "immediate",
              "transition": {
               "duration": 0,
               "easing": "linear"
              }
             }
            ],
            "label": "11600.0",
            "method": "animate"
           },
           {
            "args": [
             [
              "11700.0"
             ],
             {
              "frame": {
               "duration": 0,
               "redraw": true
              },
              "fromcurrent": true,
              "mode": "immediate",
              "transition": {
               "duration": 0,
               "easing": "linear"
              }
             }
            ],
            "label": "11700.0",
            "method": "animate"
           },
           {
            "args": [
             [
              "11800.0"
             ],
             {
              "frame": {
               "duration": 0,
               "redraw": true
              },
              "fromcurrent": true,
              "mode": "immediate",
              "transition": {
               "duration": 0,
               "easing": "linear"
              }
             }
            ],
            "label": "11800.0",
            "method": "animate"
           },
           {
            "args": [
             [
              "11900.0"
             ],
             {
              "frame": {
               "duration": 0,
               "redraw": true
              },
              "fromcurrent": true,
              "mode": "immediate",
              "transition": {
               "duration": 0,
               "easing": "linear"
              }
             }
            ],
            "label": "11900.0",
            "method": "animate"
           },
           {
            "args": [
             [
              "12000.0"
             ],
             {
              "frame": {
               "duration": 0,
               "redraw": true
              },
              "fromcurrent": true,
              "mode": "immediate",
              "transition": {
               "duration": 0,
               "easing": "linear"
              }
             }
            ],
            "label": "12000.0",
            "method": "animate"
           },
           {
            "args": [
             [
              "12100.0"
             ],
             {
              "frame": {
               "duration": 0,
               "redraw": true
              },
              "fromcurrent": true,
              "mode": "immediate",
              "transition": {
               "duration": 0,
               "easing": "linear"
              }
             }
            ],
            "label": "12100.0",
            "method": "animate"
           },
           {
            "args": [
             [
              "12200.0"
             ],
             {
              "frame": {
               "duration": 0,
               "redraw": true
              },
              "fromcurrent": true,
              "mode": "immediate",
              "transition": {
               "duration": 0,
               "easing": "linear"
              }
             }
            ],
            "label": "12200.0",
            "method": "animate"
           },
           {
            "args": [
             [
              "12300.0"
             ],
             {
              "frame": {
               "duration": 0,
               "redraw": true
              },
              "fromcurrent": true,
              "mode": "immediate",
              "transition": {
               "duration": 0,
               "easing": "linear"
              }
             }
            ],
            "label": "12300.0",
            "method": "animate"
           },
           {
            "args": [
             [
              "12400.0"
             ],
             {
              "frame": {
               "duration": 0,
               "redraw": true
              },
              "fromcurrent": true,
              "mode": "immediate",
              "transition": {
               "duration": 0,
               "easing": "linear"
              }
             }
            ],
            "label": "12400.0",
            "method": "animate"
           },
           {
            "args": [
             [
              "12500.0"
             ],
             {
              "frame": {
               "duration": 0,
               "redraw": true
              },
              "fromcurrent": true,
              "mode": "immediate",
              "transition": {
               "duration": 0,
               "easing": "linear"
              }
             }
            ],
            "label": "12500.0",
            "method": "animate"
           },
           {
            "args": [
             [
              "12600.0"
             ],
             {
              "frame": {
               "duration": 0,
               "redraw": true
              },
              "fromcurrent": true,
              "mode": "immediate",
              "transition": {
               "duration": 0,
               "easing": "linear"
              }
             }
            ],
            "label": "12600.0",
            "method": "animate"
           },
           {
            "args": [
             [
              "12700.0"
             ],
             {
              "frame": {
               "duration": 0,
               "redraw": true
              },
              "fromcurrent": true,
              "mode": "immediate",
              "transition": {
               "duration": 0,
               "easing": "linear"
              }
             }
            ],
            "label": "12700.0",
            "method": "animate"
           },
           {
            "args": [
             [
              "12800.0"
             ],
             {
              "frame": {
               "duration": 0,
               "redraw": true
              },
              "fromcurrent": true,
              "mode": "immediate",
              "transition": {
               "duration": 0,
               "easing": "linear"
              }
             }
            ],
            "label": "12800.0",
            "method": "animate"
           },
           {
            "args": [
             [
              "12900.0"
             ],
             {
              "frame": {
               "duration": 0,
               "redraw": true
              },
              "fromcurrent": true,
              "mode": "immediate",
              "transition": {
               "duration": 0,
               "easing": "linear"
              }
             }
            ],
            "label": "12900.0",
            "method": "animate"
           },
           {
            "args": [
             [
              "13000.0"
             ],
             {
              "frame": {
               "duration": 0,
               "redraw": true
              },
              "fromcurrent": true,
              "mode": "immediate",
              "transition": {
               "duration": 0,
               "easing": "linear"
              }
             }
            ],
            "label": "13000.0",
            "method": "animate"
           },
           {
            "args": [
             [
              "13100.0"
             ],
             {
              "frame": {
               "duration": 0,
               "redraw": true
              },
              "fromcurrent": true,
              "mode": "immediate",
              "transition": {
               "duration": 0,
               "easing": "linear"
              }
             }
            ],
            "label": "13100.0",
            "method": "animate"
           },
           {
            "args": [
             [
              "13200.0"
             ],
             {
              "frame": {
               "duration": 0,
               "redraw": true
              },
              "fromcurrent": true,
              "mode": "immediate",
              "transition": {
               "duration": 0,
               "easing": "linear"
              }
             }
            ],
            "label": "13200.0",
            "method": "animate"
           },
           {
            "args": [
             [
              "13300.0"
             ],
             {
              "frame": {
               "duration": 0,
               "redraw": true
              },
              "fromcurrent": true,
              "mode": "immediate",
              "transition": {
               "duration": 0,
               "easing": "linear"
              }
             }
            ],
            "label": "13300.0",
            "method": "animate"
           },
           {
            "args": [
             [
              "13400.0"
             ],
             {
              "frame": {
               "duration": 0,
               "redraw": true
              },
              "fromcurrent": true,
              "mode": "immediate",
              "transition": {
               "duration": 0,
               "easing": "linear"
              }
             }
            ],
            "label": "13400.0",
            "method": "animate"
           },
           {
            "args": [
             [
              "13500.0"
             ],
             {
              "frame": {
               "duration": 0,
               "redraw": true
              },
              "fromcurrent": true,
              "mode": "immediate",
              "transition": {
               "duration": 0,
               "easing": "linear"
              }
             }
            ],
            "label": "13500.0",
            "method": "animate"
           },
           {
            "args": [
             [
              "13600.0"
             ],
             {
              "frame": {
               "duration": 0,
               "redraw": true
              },
              "fromcurrent": true,
              "mode": "immediate",
              "transition": {
               "duration": 0,
               "easing": "linear"
              }
             }
            ],
            "label": "13600.0",
            "method": "animate"
           },
           {
            "args": [
             [
              "13700.0"
             ],
             {
              "frame": {
               "duration": 0,
               "redraw": true
              },
              "fromcurrent": true,
              "mode": "immediate",
              "transition": {
               "duration": 0,
               "easing": "linear"
              }
             }
            ],
            "label": "13700.0",
            "method": "animate"
           },
           {
            "args": [
             [
              "13800.0"
             ],
             {
              "frame": {
               "duration": 0,
               "redraw": true
              },
              "fromcurrent": true,
              "mode": "immediate",
              "transition": {
               "duration": 0,
               "easing": "linear"
              }
             }
            ],
            "label": "13800.0",
            "method": "animate"
           },
           {
            "args": [
             [
              "13900.0"
             ],
             {
              "frame": {
               "duration": 0,
               "redraw": true
              },
              "fromcurrent": true,
              "mode": "immediate",
              "transition": {
               "duration": 0,
               "easing": "linear"
              }
             }
            ],
            "label": "13900.0",
            "method": "animate"
           },
           {
            "args": [
             [
              "14000.0"
             ],
             {
              "frame": {
               "duration": 0,
               "redraw": true
              },
              "fromcurrent": true,
              "mode": "immediate",
              "transition": {
               "duration": 0,
               "easing": "linear"
              }
             }
            ],
            "label": "14000.0",
            "method": "animate"
           },
           {
            "args": [
             [
              "14100.0"
             ],
             {
              "frame": {
               "duration": 0,
               "redraw": true
              },
              "fromcurrent": true,
              "mode": "immediate",
              "transition": {
               "duration": 0,
               "easing": "linear"
              }
             }
            ],
            "label": "14100.0",
            "method": "animate"
           },
           {
            "args": [
             [
              "14200.0"
             ],
             {
              "frame": {
               "duration": 0,
               "redraw": true
              },
              "fromcurrent": true,
              "mode": "immediate",
              "transition": {
               "duration": 0,
               "easing": "linear"
              }
             }
            ],
            "label": "14200.0",
            "method": "animate"
           },
           {
            "args": [
             [
              "14300.0"
             ],
             {
              "frame": {
               "duration": 0,
               "redraw": true
              },
              "fromcurrent": true,
              "mode": "immediate",
              "transition": {
               "duration": 0,
               "easing": "linear"
              }
             }
            ],
            "label": "14300.0",
            "method": "animate"
           },
           {
            "args": [
             [
              "14400.0"
             ],
             {
              "frame": {
               "duration": 0,
               "redraw": true
              },
              "fromcurrent": true,
              "mode": "immediate",
              "transition": {
               "duration": 0,
               "easing": "linear"
              }
             }
            ],
            "label": "14400.0",
            "method": "animate"
           },
           {
            "args": [
             [
              "14500.0"
             ],
             {
              "frame": {
               "duration": 0,
               "redraw": true
              },
              "fromcurrent": true,
              "mode": "immediate",
              "transition": {
               "duration": 0,
               "easing": "linear"
              }
             }
            ],
            "label": "14500.0",
            "method": "animate"
           },
           {
            "args": [
             [
              "14600.0"
             ],
             {
              "frame": {
               "duration": 0,
               "redraw": true
              },
              "fromcurrent": true,
              "mode": "immediate",
              "transition": {
               "duration": 0,
               "easing": "linear"
              }
             }
            ],
            "label": "14600.0",
            "method": "animate"
           },
           {
            "args": [
             [
              "14700.0"
             ],
             {
              "frame": {
               "duration": 0,
               "redraw": true
              },
              "fromcurrent": true,
              "mode": "immediate",
              "transition": {
               "duration": 0,
               "easing": "linear"
              }
             }
            ],
            "label": "14700.0",
            "method": "animate"
           },
           {
            "args": [
             [
              "14800.0"
             ],
             {
              "frame": {
               "duration": 0,
               "redraw": true
              },
              "fromcurrent": true,
              "mode": "immediate",
              "transition": {
               "duration": 0,
               "easing": "linear"
              }
             }
            ],
            "label": "14800.0",
            "method": "animate"
           },
           {
            "args": [
             [
              "14900.0"
             ],
             {
              "frame": {
               "duration": 0,
               "redraw": true
              },
              "fromcurrent": true,
              "mode": "immediate",
              "transition": {
               "duration": 0,
               "easing": "linear"
              }
             }
            ],
            "label": "14900.0",
            "method": "animate"
           },
           {
            "args": [
             [
              "15000.0"
             ],
             {
              "frame": {
               "duration": 0,
               "redraw": true
              },
              "fromcurrent": true,
              "mode": "immediate",
              "transition": {
               "duration": 0,
               "easing": "linear"
              }
             }
            ],
            "label": "15000.0",
            "method": "animate"
           },
           {
            "args": [
             [
              "15100.0"
             ],
             {
              "frame": {
               "duration": 0,
               "redraw": true
              },
              "fromcurrent": true,
              "mode": "immediate",
              "transition": {
               "duration": 0,
               "easing": "linear"
              }
             }
            ],
            "label": "15100.0",
            "method": "animate"
           },
           {
            "args": [
             [
              "15200.0"
             ],
             {
              "frame": {
               "duration": 0,
               "redraw": true
              },
              "fromcurrent": true,
              "mode": "immediate",
              "transition": {
               "duration": 0,
               "easing": "linear"
              }
             }
            ],
            "label": "15200.0",
            "method": "animate"
           },
           {
            "args": [
             [
              "15300.0"
             ],
             {
              "frame": {
               "duration": 0,
               "redraw": true
              },
              "fromcurrent": true,
              "mode": "immediate",
              "transition": {
               "duration": 0,
               "easing": "linear"
              }
             }
            ],
            "label": "15300.0",
            "method": "animate"
           },
           {
            "args": [
             [
              "15400.0"
             ],
             {
              "frame": {
               "duration": 0,
               "redraw": true
              },
              "fromcurrent": true,
              "mode": "immediate",
              "transition": {
               "duration": 0,
               "easing": "linear"
              }
             }
            ],
            "label": "15400.0",
            "method": "animate"
           },
           {
            "args": [
             [
              "15500.0"
             ],
             {
              "frame": {
               "duration": 0,
               "redraw": true
              },
              "fromcurrent": true,
              "mode": "immediate",
              "transition": {
               "duration": 0,
               "easing": "linear"
              }
             }
            ],
            "label": "15500.0",
            "method": "animate"
           },
           {
            "args": [
             [
              "15600.0"
             ],
             {
              "frame": {
               "duration": 0,
               "redraw": true
              },
              "fromcurrent": true,
              "mode": "immediate",
              "transition": {
               "duration": 0,
               "easing": "linear"
              }
             }
            ],
            "label": "15600.0",
            "method": "animate"
           },
           {
            "args": [
             [
              "15700.0"
             ],
             {
              "frame": {
               "duration": 0,
               "redraw": true
              },
              "fromcurrent": true,
              "mode": "immediate",
              "transition": {
               "duration": 0,
               "easing": "linear"
              }
             }
            ],
            "label": "15700.0",
            "method": "animate"
           },
           {
            "args": [
             [
              "15800.0"
             ],
             {
              "frame": {
               "duration": 0,
               "redraw": true
              },
              "fromcurrent": true,
              "mode": "immediate",
              "transition": {
               "duration": 0,
               "easing": "linear"
              }
             }
            ],
            "label": "15800.0",
            "method": "animate"
           },
           {
            "args": [
             [
              "15900.0"
             ],
             {
              "frame": {
               "duration": 0,
               "redraw": true
              },
              "fromcurrent": true,
              "mode": "immediate",
              "transition": {
               "duration": 0,
               "easing": "linear"
              }
             }
            ],
            "label": "15900.0",
            "method": "animate"
           },
           {
            "args": [
             [
              "16000.0"
             ],
             {
              "frame": {
               "duration": 0,
               "redraw": true
              },
              "fromcurrent": true,
              "mode": "immediate",
              "transition": {
               "duration": 0,
               "easing": "linear"
              }
             }
            ],
            "label": "16000.0",
            "method": "animate"
           },
           {
            "args": [
             [
              "16100.0"
             ],
             {
              "frame": {
               "duration": 0,
               "redraw": true
              },
              "fromcurrent": true,
              "mode": "immediate",
              "transition": {
               "duration": 0,
               "easing": "linear"
              }
             }
            ],
            "label": "16100.0",
            "method": "animate"
           },
           {
            "args": [
             [
              "16200.0"
             ],
             {
              "frame": {
               "duration": 0,
               "redraw": true
              },
              "fromcurrent": true,
              "mode": "immediate",
              "transition": {
               "duration": 0,
               "easing": "linear"
              }
             }
            ],
            "label": "16200.0",
            "method": "animate"
           },
           {
            "args": [
             [
              "16300.0"
             ],
             {
              "frame": {
               "duration": 0,
               "redraw": true
              },
              "fromcurrent": true,
              "mode": "immediate",
              "transition": {
               "duration": 0,
               "easing": "linear"
              }
             }
            ],
            "label": "16300.0",
            "method": "animate"
           },
           {
            "args": [
             [
              "16400.0"
             ],
             {
              "frame": {
               "duration": 0,
               "redraw": true
              },
              "fromcurrent": true,
              "mode": "immediate",
              "transition": {
               "duration": 0,
               "easing": "linear"
              }
             }
            ],
            "label": "16400.0",
            "method": "animate"
           },
           {
            "args": [
             [
              "16500.0"
             ],
             {
              "frame": {
               "duration": 0,
               "redraw": true
              },
              "fromcurrent": true,
              "mode": "immediate",
              "transition": {
               "duration": 0,
               "easing": "linear"
              }
             }
            ],
            "label": "16500.0",
            "method": "animate"
           },
           {
            "args": [
             [
              "16600.0"
             ],
             {
              "frame": {
               "duration": 0,
               "redraw": true
              },
              "fromcurrent": true,
              "mode": "immediate",
              "transition": {
               "duration": 0,
               "easing": "linear"
              }
             }
            ],
            "label": "16600.0",
            "method": "animate"
           },
           {
            "args": [
             [
              "16700.0"
             ],
             {
              "frame": {
               "duration": 0,
               "redraw": true
              },
              "fromcurrent": true,
              "mode": "immediate",
              "transition": {
               "duration": 0,
               "easing": "linear"
              }
             }
            ],
            "label": "16700.0",
            "method": "animate"
           },
           {
            "args": [
             [
              "16800.0"
             ],
             {
              "frame": {
               "duration": 0,
               "redraw": true
              },
              "fromcurrent": true,
              "mode": "immediate",
              "transition": {
               "duration": 0,
               "easing": "linear"
              }
             }
            ],
            "label": "16800.0",
            "method": "animate"
           },
           {
            "args": [
             [
              "16900.0"
             ],
             {
              "frame": {
               "duration": 0,
               "redraw": true
              },
              "fromcurrent": true,
              "mode": "immediate",
              "transition": {
               "duration": 0,
               "easing": "linear"
              }
             }
            ],
            "label": "16900.0",
            "method": "animate"
           },
           {
            "args": [
             [
              "17000.0"
             ],
             {
              "frame": {
               "duration": 0,
               "redraw": true
              },
              "fromcurrent": true,
              "mode": "immediate",
              "transition": {
               "duration": 0,
               "easing": "linear"
              }
             }
            ],
            "label": "17000.0",
            "method": "animate"
           },
           {
            "args": [
             [
              "17100.0"
             ],
             {
              "frame": {
               "duration": 0,
               "redraw": true
              },
              "fromcurrent": true,
              "mode": "immediate",
              "transition": {
               "duration": 0,
               "easing": "linear"
              }
             }
            ],
            "label": "17100.0",
            "method": "animate"
           },
           {
            "args": [
             [
              "17200.0"
             ],
             {
              "frame": {
               "duration": 0,
               "redraw": true
              },
              "fromcurrent": true,
              "mode": "immediate",
              "transition": {
               "duration": 0,
               "easing": "linear"
              }
             }
            ],
            "label": "17200.0",
            "method": "animate"
           },
           {
            "args": [
             [
              "17300.0"
             ],
             {
              "frame": {
               "duration": 0,
               "redraw": true
              },
              "fromcurrent": true,
              "mode": "immediate",
              "transition": {
               "duration": 0,
               "easing": "linear"
              }
             }
            ],
            "label": "17300.0",
            "method": "animate"
           },
           {
            "args": [
             [
              "17400.0"
             ],
             {
              "frame": {
               "duration": 0,
               "redraw": true
              },
              "fromcurrent": true,
              "mode": "immediate",
              "transition": {
               "duration": 0,
               "easing": "linear"
              }
             }
            ],
            "label": "17400.0",
            "method": "animate"
           },
           {
            "args": [
             [
              "17500.0"
             ],
             {
              "frame": {
               "duration": 0,
               "redraw": true
              },
              "fromcurrent": true,
              "mode": "immediate",
              "transition": {
               "duration": 0,
               "easing": "linear"
              }
             }
            ],
            "label": "17500.0",
            "method": "animate"
           },
           {
            "args": [
             [
              "17600.0"
             ],
             {
              "frame": {
               "duration": 0,
               "redraw": true
              },
              "fromcurrent": true,
              "mode": "immediate",
              "transition": {
               "duration": 0,
               "easing": "linear"
              }
             }
            ],
            "label": "17600.0",
            "method": "animate"
           },
           {
            "args": [
             [
              "17700.0"
             ],
             {
              "frame": {
               "duration": 0,
               "redraw": true
              },
              "fromcurrent": true,
              "mode": "immediate",
              "transition": {
               "duration": 0,
               "easing": "linear"
              }
             }
            ],
            "label": "17700.0",
            "method": "animate"
           },
           {
            "args": [
             [
              "17800.0"
             ],
             {
              "frame": {
               "duration": 0,
               "redraw": true
              },
              "fromcurrent": true,
              "mode": "immediate",
              "transition": {
               "duration": 0,
               "easing": "linear"
              }
             }
            ],
            "label": "17800.0",
            "method": "animate"
           },
           {
            "args": [
             [
              "17900.0"
             ],
             {
              "frame": {
               "duration": 0,
               "redraw": true
              },
              "fromcurrent": true,
              "mode": "immediate",
              "transition": {
               "duration": 0,
               "easing": "linear"
              }
             }
            ],
            "label": "17900.0",
            "method": "animate"
           },
           {
            "args": [
             [
              "18000.0"
             ],
             {
              "frame": {
               "duration": 0,
               "redraw": true
              },
              "fromcurrent": true,
              "mode": "immediate",
              "transition": {
               "duration": 0,
               "easing": "linear"
              }
             }
            ],
            "label": "18000.0",
            "method": "animate"
           },
           {
            "args": [
             [
              "18100.0"
             ],
             {
              "frame": {
               "duration": 0,
               "redraw": true
              },
              "fromcurrent": true,
              "mode": "immediate",
              "transition": {
               "duration": 0,
               "easing": "linear"
              }
             }
            ],
            "label": "18100.0",
            "method": "animate"
           },
           {
            "args": [
             [
              "18200.0"
             ],
             {
              "frame": {
               "duration": 0,
               "redraw": true
              },
              "fromcurrent": true,
              "mode": "immediate",
              "transition": {
               "duration": 0,
               "easing": "linear"
              }
             }
            ],
            "label": "18200.0",
            "method": "animate"
           },
           {
            "args": [
             [
              "18300.0"
             ],
             {
              "frame": {
               "duration": 0,
               "redraw": true
              },
              "fromcurrent": true,
              "mode": "immediate",
              "transition": {
               "duration": 0,
               "easing": "linear"
              }
             }
            ],
            "label": "18300.0",
            "method": "animate"
           },
           {
            "args": [
             [
              "18400.0"
             ],
             {
              "frame": {
               "duration": 0,
               "redraw": true
              },
              "fromcurrent": true,
              "mode": "immediate",
              "transition": {
               "duration": 0,
               "easing": "linear"
              }
             }
            ],
            "label": "18400.0",
            "method": "animate"
           },
           {
            "args": [
             [
              "18500.0"
             ],
             {
              "frame": {
               "duration": 0,
               "redraw": true
              },
              "fromcurrent": true,
              "mode": "immediate",
              "transition": {
               "duration": 0,
               "easing": "linear"
              }
             }
            ],
            "label": "18500.0",
            "method": "animate"
           },
           {
            "args": [
             [
              "18600.0"
             ],
             {
              "frame": {
               "duration": 0,
               "redraw": true
              },
              "fromcurrent": true,
              "mode": "immediate",
              "transition": {
               "duration": 0,
               "easing": "linear"
              }
             }
            ],
            "label": "18600.0",
            "method": "animate"
           },
           {
            "args": [
             [
              "18700.0"
             ],
             {
              "frame": {
               "duration": 0,
               "redraw": true
              },
              "fromcurrent": true,
              "mode": "immediate",
              "transition": {
               "duration": 0,
               "easing": "linear"
              }
             }
            ],
            "label": "18700.0",
            "method": "animate"
           },
           {
            "args": [
             [
              "18800.0"
             ],
             {
              "frame": {
               "duration": 0,
               "redraw": true
              },
              "fromcurrent": true,
              "mode": "immediate",
              "transition": {
               "duration": 0,
               "easing": "linear"
              }
             }
            ],
            "label": "18800.0",
            "method": "animate"
           },
           {
            "args": [
             [
              "18900.0"
             ],
             {
              "frame": {
               "duration": 0,
               "redraw": true
              },
              "fromcurrent": true,
              "mode": "immediate",
              "transition": {
               "duration": 0,
               "easing": "linear"
              }
             }
            ],
            "label": "18900.0",
            "method": "animate"
           },
           {
            "args": [
             [
              "19000.0"
             ],
             {
              "frame": {
               "duration": 0,
               "redraw": true
              },
              "fromcurrent": true,
              "mode": "immediate",
              "transition": {
               "duration": 0,
               "easing": "linear"
              }
             }
            ],
            "label": "19000.0",
            "method": "animate"
           },
           {
            "args": [
             [
              "19100.0"
             ],
             {
              "frame": {
               "duration": 0,
               "redraw": true
              },
              "fromcurrent": true,
              "mode": "immediate",
              "transition": {
               "duration": 0,
               "easing": "linear"
              }
             }
            ],
            "label": "19100.0",
            "method": "animate"
           },
           {
            "args": [
             [
              "19200.0"
             ],
             {
              "frame": {
               "duration": 0,
               "redraw": true
              },
              "fromcurrent": true,
              "mode": "immediate",
              "transition": {
               "duration": 0,
               "easing": "linear"
              }
             }
            ],
            "label": "19200.0",
            "method": "animate"
           },
           {
            "args": [
             [
              "19300.0"
             ],
             {
              "frame": {
               "duration": 0,
               "redraw": true
              },
              "fromcurrent": true,
              "mode": "immediate",
              "transition": {
               "duration": 0,
               "easing": "linear"
              }
             }
            ],
            "label": "19300.0",
            "method": "animate"
           },
           {
            "args": [
             [
              "19400.0"
             ],
             {
              "frame": {
               "duration": 0,
               "redraw": true
              },
              "fromcurrent": true,
              "mode": "immediate",
              "transition": {
               "duration": 0,
               "easing": "linear"
              }
             }
            ],
            "label": "19400.0",
            "method": "animate"
           },
           {
            "args": [
             [
              "19500.0"
             ],
             {
              "frame": {
               "duration": 0,
               "redraw": true
              },
              "fromcurrent": true,
              "mode": "immediate",
              "transition": {
               "duration": 0,
               "easing": "linear"
              }
             }
            ],
            "label": "19500.0",
            "method": "animate"
           },
           {
            "args": [
             [
              "19600.0"
             ],
             {
              "frame": {
               "duration": 0,
               "redraw": true
              },
              "fromcurrent": true,
              "mode": "immediate",
              "transition": {
               "duration": 0,
               "easing": "linear"
              }
             }
            ],
            "label": "19600.0",
            "method": "animate"
           },
           {
            "args": [
             [
              "19700.0"
             ],
             {
              "frame": {
               "duration": 0,
               "redraw": true
              },
              "fromcurrent": true,
              "mode": "immediate",
              "transition": {
               "duration": 0,
               "easing": "linear"
              }
             }
            ],
            "label": "19700.0",
            "method": "animate"
           },
           {
            "args": [
             [
              "19800.0"
             ],
             {
              "frame": {
               "duration": 0,
               "redraw": true
              },
              "fromcurrent": true,
              "mode": "immediate",
              "transition": {
               "duration": 0,
               "easing": "linear"
              }
             }
            ],
            "label": "19800.0",
            "method": "animate"
           }
          ],
          "x": 0.1,
          "xanchor": "left",
          "y": 0,
          "yanchor": "top"
         }
        ],
        "template": {
         "data": {
          "bar": [
           {
            "error_x": {
             "color": "#2a3f5f"
            },
            "error_y": {
             "color": "#2a3f5f"
            },
            "marker": {
             "line": {
              "color": "#E5ECF6",
              "width": 0.5
             },
             "pattern": {
              "fillmode": "overlay",
              "size": 10,
              "solidity": 0.2
             }
            },
            "type": "bar"
           }
          ],
          "barpolar": [
           {
            "marker": {
             "line": {
              "color": "#E5ECF6",
              "width": 0.5
             },
             "pattern": {
              "fillmode": "overlay",
              "size": 10,
              "solidity": 0.2
             }
            },
            "type": "barpolar"
           }
          ],
          "carpet": [
           {
            "aaxis": {
             "endlinecolor": "#2a3f5f",
             "gridcolor": "white",
             "linecolor": "white",
             "minorgridcolor": "white",
             "startlinecolor": "#2a3f5f"
            },
            "baxis": {
             "endlinecolor": "#2a3f5f",
             "gridcolor": "white",
             "linecolor": "white",
             "minorgridcolor": "white",
             "startlinecolor": "#2a3f5f"
            },
            "type": "carpet"
           }
          ],
          "choropleth": [
           {
            "colorbar": {
             "outlinewidth": 0,
             "ticks": ""
            },
            "type": "choropleth"
           }
          ],
          "contour": [
           {
            "colorbar": {
             "outlinewidth": 0,
             "ticks": ""
            },
            "colorscale": [
             [
              0,
              "#0d0887"
             ],
             [
              0.1111111111111111,
              "#46039f"
             ],
             [
              0.2222222222222222,
              "#7201a8"
             ],
             [
              0.3333333333333333,
              "#9c179e"
             ],
             [
              0.4444444444444444,
              "#bd3786"
             ],
             [
              0.5555555555555556,
              "#d8576b"
             ],
             [
              0.6666666666666666,
              "#ed7953"
             ],
             [
              0.7777777777777778,
              "#fb9f3a"
             ],
             [
              0.8888888888888888,
              "#fdca26"
             ],
             [
              1,
              "#f0f921"
             ]
            ],
            "type": "contour"
           }
          ],
          "contourcarpet": [
           {
            "colorbar": {
             "outlinewidth": 0,
             "ticks": ""
            },
            "type": "contourcarpet"
           }
          ],
          "heatmap": [
           {
            "colorbar": {
             "outlinewidth": 0,
             "ticks": ""
            },
            "colorscale": [
             [
              0,
              "#0d0887"
             ],
             [
              0.1111111111111111,
              "#46039f"
             ],
             [
              0.2222222222222222,
              "#7201a8"
             ],
             [
              0.3333333333333333,
              "#9c179e"
             ],
             [
              0.4444444444444444,
              "#bd3786"
             ],
             [
              0.5555555555555556,
              "#d8576b"
             ],
             [
              0.6666666666666666,
              "#ed7953"
             ],
             [
              0.7777777777777778,
              "#fb9f3a"
             ],
             [
              0.8888888888888888,
              "#fdca26"
             ],
             [
              1,
              "#f0f921"
             ]
            ],
            "type": "heatmap"
           }
          ],
          "heatmapgl": [
           {
            "colorbar": {
             "outlinewidth": 0,
             "ticks": ""
            },
            "colorscale": [
             [
              0,
              "#0d0887"
             ],
             [
              0.1111111111111111,
              "#46039f"
             ],
             [
              0.2222222222222222,
              "#7201a8"
             ],
             [
              0.3333333333333333,
              "#9c179e"
             ],
             [
              0.4444444444444444,
              "#bd3786"
             ],
             [
              0.5555555555555556,
              "#d8576b"
             ],
             [
              0.6666666666666666,
              "#ed7953"
             ],
             [
              0.7777777777777778,
              "#fb9f3a"
             ],
             [
              0.8888888888888888,
              "#fdca26"
             ],
             [
              1,
              "#f0f921"
             ]
            ],
            "type": "heatmapgl"
           }
          ],
          "histogram": [
           {
            "marker": {
             "pattern": {
              "fillmode": "overlay",
              "size": 10,
              "solidity": 0.2
             }
            },
            "type": "histogram"
           }
          ],
          "histogram2d": [
           {
            "colorbar": {
             "outlinewidth": 0,
             "ticks": ""
            },
            "colorscale": [
             [
              0,
              "#0d0887"
             ],
             [
              0.1111111111111111,
              "#46039f"
             ],
             [
              0.2222222222222222,
              "#7201a8"
             ],
             [
              0.3333333333333333,
              "#9c179e"
             ],
             [
              0.4444444444444444,
              "#bd3786"
             ],
             [
              0.5555555555555556,
              "#d8576b"
             ],
             [
              0.6666666666666666,
              "#ed7953"
             ],
             [
              0.7777777777777778,
              "#fb9f3a"
             ],
             [
              0.8888888888888888,
              "#fdca26"
             ],
             [
              1,
              "#f0f921"
             ]
            ],
            "type": "histogram2d"
           }
          ],
          "histogram2dcontour": [
           {
            "colorbar": {
             "outlinewidth": 0,
             "ticks": ""
            },
            "colorscale": [
             [
              0,
              "#0d0887"
             ],
             [
              0.1111111111111111,
              "#46039f"
             ],
             [
              0.2222222222222222,
              "#7201a8"
             ],
             [
              0.3333333333333333,
              "#9c179e"
             ],
             [
              0.4444444444444444,
              "#bd3786"
             ],
             [
              0.5555555555555556,
              "#d8576b"
             ],
             [
              0.6666666666666666,
              "#ed7953"
             ],
             [
              0.7777777777777778,
              "#fb9f3a"
             ],
             [
              0.8888888888888888,
              "#fdca26"
             ],
             [
              1,
              "#f0f921"
             ]
            ],
            "type": "histogram2dcontour"
           }
          ],
          "mesh3d": [
           {
            "colorbar": {
             "outlinewidth": 0,
             "ticks": ""
            },
            "type": "mesh3d"
           }
          ],
          "parcoords": [
           {
            "line": {
             "colorbar": {
              "outlinewidth": 0,
              "ticks": ""
             }
            },
            "type": "parcoords"
           }
          ],
          "pie": [
           {
            "automargin": true,
            "type": "pie"
           }
          ],
          "scatter": [
           {
            "marker": {
             "colorbar": {
              "outlinewidth": 0,
              "ticks": ""
             }
            },
            "type": "scatter"
           }
          ],
          "scatter3d": [
           {
            "line": {
             "colorbar": {
              "outlinewidth": 0,
              "ticks": ""
             }
            },
            "marker": {
             "colorbar": {
              "outlinewidth": 0,
              "ticks": ""
             }
            },
            "type": "scatter3d"
           }
          ],
          "scattercarpet": [
           {
            "marker": {
             "colorbar": {
              "outlinewidth": 0,
              "ticks": ""
             }
            },
            "type": "scattercarpet"
           }
          ],
          "scattergeo": [
           {
            "marker": {
             "colorbar": {
              "outlinewidth": 0,
              "ticks": ""
             }
            },
            "type": "scattergeo"
           }
          ],
          "scattergl": [
           {
            "marker": {
             "colorbar": {
              "outlinewidth": 0,
              "ticks": ""
             }
            },
            "type": "scattergl"
           }
          ],
          "scattermapbox": [
           {
            "marker": {
             "colorbar": {
              "outlinewidth": 0,
              "ticks": ""
             }
            },
            "type": "scattermapbox"
           }
          ],
          "scatterpolar": [
           {
            "marker": {
             "colorbar": {
              "outlinewidth": 0,
              "ticks": ""
             }
            },
            "type": "scatterpolar"
           }
          ],
          "scatterpolargl": [
           {
            "marker": {
             "colorbar": {
              "outlinewidth": 0,
              "ticks": ""
             }
            },
            "type": "scatterpolargl"
           }
          ],
          "scatterternary": [
           {
            "marker": {
             "colorbar": {
              "outlinewidth": 0,
              "ticks": ""
             }
            },
            "type": "scatterternary"
           }
          ],
          "surface": [
           {
            "colorbar": {
             "outlinewidth": 0,
             "ticks": ""
            },
            "colorscale": [
             [
              0,
              "#0d0887"
             ],
             [
              0.1111111111111111,
              "#46039f"
             ],
             [
              0.2222222222222222,
              "#7201a8"
             ],
             [
              0.3333333333333333,
              "#9c179e"
             ],
             [
              0.4444444444444444,
              "#bd3786"
             ],
             [
              0.5555555555555556,
              "#d8576b"
             ],
             [
              0.6666666666666666,
              "#ed7953"
             ],
             [
              0.7777777777777778,
              "#fb9f3a"
             ],
             [
              0.8888888888888888,
              "#fdca26"
             ],
             [
              1,
              "#f0f921"
             ]
            ],
            "type": "surface"
           }
          ],
          "table": [
           {
            "cells": {
             "fill": {
              "color": "#EBF0F8"
             },
             "line": {
              "color": "white"
             }
            },
            "header": {
             "fill": {
              "color": "#C8D4E3"
             },
             "line": {
              "color": "white"
             }
            },
            "type": "table"
           }
          ]
         },
         "layout": {
          "annotationdefaults": {
           "arrowcolor": "#2a3f5f",
           "arrowhead": 0,
           "arrowwidth": 1
          },
          "autotypenumbers": "strict",
          "coloraxis": {
           "colorbar": {
            "outlinewidth": 0,
            "ticks": ""
           }
          },
          "colorscale": {
           "diverging": [
            [
             0,
             "#8e0152"
            ],
            [
             0.1,
             "#c51b7d"
            ],
            [
             0.2,
             "#de77ae"
            ],
            [
             0.3,
             "#f1b6da"
            ],
            [
             0.4,
             "#fde0ef"
            ],
            [
             0.5,
             "#f7f7f7"
            ],
            [
             0.6,
             "#e6f5d0"
            ],
            [
             0.7,
             "#b8e186"
            ],
            [
             0.8,
             "#7fbc41"
            ],
            [
             0.9,
             "#4d9221"
            ],
            [
             1,
             "#276419"
            ]
           ],
           "sequential": [
            [
             0,
             "#0d0887"
            ],
            [
             0.1111111111111111,
             "#46039f"
            ],
            [
             0.2222222222222222,
             "#7201a8"
            ],
            [
             0.3333333333333333,
             "#9c179e"
            ],
            [
             0.4444444444444444,
             "#bd3786"
            ],
            [
             0.5555555555555556,
             "#d8576b"
            ],
            [
             0.6666666666666666,
             "#ed7953"
            ],
            [
             0.7777777777777778,
             "#fb9f3a"
            ],
            [
             0.8888888888888888,
             "#fdca26"
            ],
            [
             1,
             "#f0f921"
            ]
           ],
           "sequentialminus": [
            [
             0,
             "#0d0887"
            ],
            [
             0.1111111111111111,
             "#46039f"
            ],
            [
             0.2222222222222222,
             "#7201a8"
            ],
            [
             0.3333333333333333,
             "#9c179e"
            ],
            [
             0.4444444444444444,
             "#bd3786"
            ],
            [
             0.5555555555555556,
             "#d8576b"
            ],
            [
             0.6666666666666666,
             "#ed7953"
            ],
            [
             0.7777777777777778,
             "#fb9f3a"
            ],
            [
             0.8888888888888888,
             "#fdca26"
            ],
            [
             1,
             "#f0f921"
            ]
           ]
          },
          "colorway": [
           "#636efa",
           "#EF553B",
           "#00cc96",
           "#ab63fa",
           "#FFA15A",
           "#19d3f3",
           "#FF6692",
           "#B6E880",
           "#FF97FF",
           "#FECB52"
          ],
          "font": {
           "color": "#2a3f5f"
          },
          "geo": {
           "bgcolor": "white",
           "lakecolor": "white",
           "landcolor": "#E5ECF6",
           "showlakes": true,
           "showland": true,
           "subunitcolor": "white"
          },
          "hoverlabel": {
           "align": "left"
          },
          "hovermode": "closest",
          "mapbox": {
           "style": "light"
          },
          "paper_bgcolor": "white",
          "plot_bgcolor": "#E5ECF6",
          "polar": {
           "angularaxis": {
            "gridcolor": "white",
            "linecolor": "white",
            "ticks": ""
           },
           "bgcolor": "#E5ECF6",
           "radialaxis": {
            "gridcolor": "white",
            "linecolor": "white",
            "ticks": ""
           }
          },
          "scene": {
           "xaxis": {
            "backgroundcolor": "#E5ECF6",
            "gridcolor": "white",
            "gridwidth": 2,
            "linecolor": "white",
            "showbackground": true,
            "ticks": "",
            "zerolinecolor": "white"
           },
           "yaxis": {
            "backgroundcolor": "#E5ECF6",
            "gridcolor": "white",
            "gridwidth": 2,
            "linecolor": "white",
            "showbackground": true,
            "ticks": "",
            "zerolinecolor": "white"
           },
           "zaxis": {
            "backgroundcolor": "#E5ECF6",
            "gridcolor": "white",
            "gridwidth": 2,
            "linecolor": "white",
            "showbackground": true,
            "ticks": "",
            "zerolinecolor": "white"
           }
          },
          "shapedefaults": {
           "line": {
            "color": "#2a3f5f"
           }
          },
          "ternary": {
           "aaxis": {
            "gridcolor": "white",
            "linecolor": "white",
            "ticks": ""
           },
           "baxis": {
            "gridcolor": "white",
            "linecolor": "white",
            "ticks": ""
           },
           "bgcolor": "#E5ECF6",
           "caxis": {
            "gridcolor": "white",
            "linecolor": "white",
            "ticks": ""
           }
          },
          "title": {
           "x": 0.05
          },
          "xaxis": {
           "automargin": true,
           "gridcolor": "white",
           "linecolor": "white",
           "ticks": "",
           "title": {
            "standoff": 15
           },
           "zerolinecolor": "white",
           "zerolinewidth": 2
          },
          "yaxis": {
           "automargin": true,
           "gridcolor": "white",
           "linecolor": "white",
           "ticks": "",
           "title": {
            "standoff": 15
           },
           "zerolinecolor": "white",
           "zerolinewidth": 2
          }
         }
        },
        "updatemenus": [
         {
          "buttons": [
           {
            "args": [
             null,
             {
              "frame": {
               "duration": 500,
               "redraw": true
              },
              "fromcurrent": true,
              "mode": "immediate",
              "transition": {
               "duration": 500,
               "easing": "linear"
              }
             }
            ],
            "label": "&#9654;",
            "method": "animate"
           },
           {
            "args": [
             [
              null
             ],
             {
              "frame": {
               "duration": 0,
               "redraw": true
              },
              "fromcurrent": true,
              "mode": "immediate",
              "transition": {
               "duration": 0,
               "easing": "linear"
              }
             }
            ],
            "label": "&#9724;",
            "method": "animate"
           }
          ],
          "direction": "left",
          "pad": {
           "r": 10,
           "t": 70
          },
          "showactive": false,
          "type": "buttons",
          "x": 0.1,
          "xanchor": "right",
          "y": 0,
          "yanchor": "top"
         }
        ]
       }
      },
      "text/html": [
       "<div>                            <div id=\"bf9466d8-4eed-40c9-ad20-17cb5ed2f4d6\" class=\"plotly-graph-div\" style=\"height:525px; width:100%;\"></div>            <script type=\"text/javascript\">                require([\"plotly\"], function(Plotly) {                    window.PLOTLYENV=window.PLOTLYENV || {};                                    if (document.getElementById(\"bf9466d8-4eed-40c9-ad20-17cb5ed2f4d6\")) {                    Plotly.newPlot(                        \"bf9466d8-4eed-40c9-ad20-17cb5ed2f4d6\",                        [{\"hovertemplate\":\"<b>%{hovertext}</b><br><br>type=path1_no_obstacle<br>timestep=0.0<br>size=%{marker.size}<br>lat=%{lat}<br>lon=%{lon}<extra></extra>\",\"hovertext\":[\"path1_no_obstacle\"],\"lat\":[38.5],\"legendgroup\":\"path1_no_obstacle\",\"lon\":[-174.0],\"marker\":{\"color\":\"#636efa\",\"size\":[5],\"sizemode\":\"area\",\"sizeref\":0.0125},\"mode\":\"markers\",\"name\":\"path1_no_obstacle\",\"showlegend\":true,\"subplot\":\"mapbox\",\"type\":\"scattermapbox\"},{\"hovertemplate\":\"<b>%{hovertext}</b><br><br>type=path1<br>timestep=0.0<br>size=%{marker.size}<br>lat=%{lat}<br>lon=%{lon}<extra></extra>\",\"hovertext\":[\"path1\"],\"lat\":[38.5],\"legendgroup\":\"path1\",\"lon\":[-174.0],\"marker\":{\"color\":\"#EF553B\",\"size\":[5],\"sizemode\":\"area\",\"sizeref\":0.0125},\"mode\":\"markers\",\"name\":\"path1\",\"showlegend\":true,\"subplot\":\"mapbox\",\"type\":\"scattermapbox\"}],                        {\"template\":{\"data\":{\"bar\":[{\"error_x\":{\"color\":\"#2a3f5f\"},\"error_y\":{\"color\":\"#2a3f5f\"},\"marker\":{\"line\":{\"color\":\"#E5ECF6\",\"width\":0.5},\"pattern\":{\"fillmode\":\"overlay\",\"size\":10,\"solidity\":0.2}},\"type\":\"bar\"}],\"barpolar\":[{\"marker\":{\"line\":{\"color\":\"#E5ECF6\",\"width\":0.5},\"pattern\":{\"fillmode\":\"overlay\",\"size\":10,\"solidity\":0.2}},\"type\":\"barpolar\"}],\"carpet\":[{\"aaxis\":{\"endlinecolor\":\"#2a3f5f\",\"gridcolor\":\"white\",\"linecolor\":\"white\",\"minorgridcolor\":\"white\",\"startlinecolor\":\"#2a3f5f\"},\"baxis\":{\"endlinecolor\":\"#2a3f5f\",\"gridcolor\":\"white\",\"linecolor\":\"white\",\"minorgridcolor\":\"white\",\"startlinecolor\":\"#2a3f5f\"},\"type\":\"carpet\"}],\"choropleth\":[{\"colorbar\":{\"outlinewidth\":0,\"ticks\":\"\"},\"type\":\"choropleth\"}],\"contour\":[{\"colorbar\":{\"outlinewidth\":0,\"ticks\":\"\"},\"colorscale\":[[0.0,\"#0d0887\"],[0.1111111111111111,\"#46039f\"],[0.2222222222222222,\"#7201a8\"],[0.3333333333333333,\"#9c179e\"],[0.4444444444444444,\"#bd3786\"],[0.5555555555555556,\"#d8576b\"],[0.6666666666666666,\"#ed7953\"],[0.7777777777777778,\"#fb9f3a\"],[0.8888888888888888,\"#fdca26\"],[1.0,\"#f0f921\"]],\"type\":\"contour\"}],\"contourcarpet\":[{\"colorbar\":{\"outlinewidth\":0,\"ticks\":\"\"},\"type\":\"contourcarpet\"}],\"heatmap\":[{\"colorbar\":{\"outlinewidth\":0,\"ticks\":\"\"},\"colorscale\":[[0.0,\"#0d0887\"],[0.1111111111111111,\"#46039f\"],[0.2222222222222222,\"#7201a8\"],[0.3333333333333333,\"#9c179e\"],[0.4444444444444444,\"#bd3786\"],[0.5555555555555556,\"#d8576b\"],[0.6666666666666666,\"#ed7953\"],[0.7777777777777778,\"#fb9f3a\"],[0.8888888888888888,\"#fdca26\"],[1.0,\"#f0f921\"]],\"type\":\"heatmap\"}],\"heatmapgl\":[{\"colorbar\":{\"outlinewidth\":0,\"ticks\":\"\"},\"colorscale\":[[0.0,\"#0d0887\"],[0.1111111111111111,\"#46039f\"],[0.2222222222222222,\"#7201a8\"],[0.3333333333333333,\"#9c179e\"],[0.4444444444444444,\"#bd3786\"],[0.5555555555555556,\"#d8576b\"],[0.6666666666666666,\"#ed7953\"],[0.7777777777777778,\"#fb9f3a\"],[0.8888888888888888,\"#fdca26\"],[1.0,\"#f0f921\"]],\"type\":\"heatmapgl\"}],\"histogram\":[{\"marker\":{\"pattern\":{\"fillmode\":\"overlay\",\"size\":10,\"solidity\":0.2}},\"type\":\"histogram\"}],\"histogram2d\":[{\"colorbar\":{\"outlinewidth\":0,\"ticks\":\"\"},\"colorscale\":[[0.0,\"#0d0887\"],[0.1111111111111111,\"#46039f\"],[0.2222222222222222,\"#7201a8\"],[0.3333333333333333,\"#9c179e\"],[0.4444444444444444,\"#bd3786\"],[0.5555555555555556,\"#d8576b\"],[0.6666666666666666,\"#ed7953\"],[0.7777777777777778,\"#fb9f3a\"],[0.8888888888888888,\"#fdca26\"],[1.0,\"#f0f921\"]],\"type\":\"histogram2d\"}],\"histogram2dcontour\":[{\"colorbar\":{\"outlinewidth\":0,\"ticks\":\"\"},\"colorscale\":[[0.0,\"#0d0887\"],[0.1111111111111111,\"#46039f\"],[0.2222222222222222,\"#7201a8\"],[0.3333333333333333,\"#9c179e\"],[0.4444444444444444,\"#bd3786\"],[0.5555555555555556,\"#d8576b\"],[0.6666666666666666,\"#ed7953\"],[0.7777777777777778,\"#fb9f3a\"],[0.8888888888888888,\"#fdca26\"],[1.0,\"#f0f921\"]],\"type\":\"histogram2dcontour\"}],\"mesh3d\":[{\"colorbar\":{\"outlinewidth\":0,\"ticks\":\"\"},\"type\":\"mesh3d\"}],\"parcoords\":[{\"line\":{\"colorbar\":{\"outlinewidth\":0,\"ticks\":\"\"}},\"type\":\"parcoords\"}],\"pie\":[{\"automargin\":true,\"type\":\"pie\"}],\"scatter\":[{\"marker\":{\"colorbar\":{\"outlinewidth\":0,\"ticks\":\"\"}},\"type\":\"scatter\"}],\"scatter3d\":[{\"line\":{\"colorbar\":{\"outlinewidth\":0,\"ticks\":\"\"}},\"marker\":{\"colorbar\":{\"outlinewidth\":0,\"ticks\":\"\"}},\"type\":\"scatter3d\"}],\"scattercarpet\":[{\"marker\":{\"colorbar\":{\"outlinewidth\":0,\"ticks\":\"\"}},\"type\":\"scattercarpet\"}],\"scattergeo\":[{\"marker\":{\"colorbar\":{\"outlinewidth\":0,\"ticks\":\"\"}},\"type\":\"scattergeo\"}],\"scattergl\":[{\"marker\":{\"colorbar\":{\"outlinewidth\":0,\"ticks\":\"\"}},\"type\":\"scattergl\"}],\"scattermapbox\":[{\"marker\":{\"colorbar\":{\"outlinewidth\":0,\"ticks\":\"\"}},\"type\":\"scattermapbox\"}],\"scatterpolar\":[{\"marker\":{\"colorbar\":{\"outlinewidth\":0,\"ticks\":\"\"}},\"type\":\"scatterpolar\"}],\"scatterpolargl\":[{\"marker\":{\"colorbar\":{\"outlinewidth\":0,\"ticks\":\"\"}},\"type\":\"scatterpolargl\"}],\"scatterternary\":[{\"marker\":{\"colorbar\":{\"outlinewidth\":0,\"ticks\":\"\"}},\"type\":\"scatterternary\"}],\"surface\":[{\"colorbar\":{\"outlinewidth\":0,\"ticks\":\"\"},\"colorscale\":[[0.0,\"#0d0887\"],[0.1111111111111111,\"#46039f\"],[0.2222222222222222,\"#7201a8\"],[0.3333333333333333,\"#9c179e\"],[0.4444444444444444,\"#bd3786\"],[0.5555555555555556,\"#d8576b\"],[0.6666666666666666,\"#ed7953\"],[0.7777777777777778,\"#fb9f3a\"],[0.8888888888888888,\"#fdca26\"],[1.0,\"#f0f921\"]],\"type\":\"surface\"}],\"table\":[{\"cells\":{\"fill\":{\"color\":\"#EBF0F8\"},\"line\":{\"color\":\"white\"}},\"header\":{\"fill\":{\"color\":\"#C8D4E3\"},\"line\":{\"color\":\"white\"}},\"type\":\"table\"}]},\"layout\":{\"annotationdefaults\":{\"arrowcolor\":\"#2a3f5f\",\"arrowhead\":0,\"arrowwidth\":1},\"autotypenumbers\":\"strict\",\"coloraxis\":{\"colorbar\":{\"outlinewidth\":0,\"ticks\":\"\"}},\"colorscale\":{\"diverging\":[[0,\"#8e0152\"],[0.1,\"#c51b7d\"],[0.2,\"#de77ae\"],[0.3,\"#f1b6da\"],[0.4,\"#fde0ef\"],[0.5,\"#f7f7f7\"],[0.6,\"#e6f5d0\"],[0.7,\"#b8e186\"],[0.8,\"#7fbc41\"],[0.9,\"#4d9221\"],[1,\"#276419\"]],\"sequential\":[[0.0,\"#0d0887\"],[0.1111111111111111,\"#46039f\"],[0.2222222222222222,\"#7201a8\"],[0.3333333333333333,\"#9c179e\"],[0.4444444444444444,\"#bd3786\"],[0.5555555555555556,\"#d8576b\"],[0.6666666666666666,\"#ed7953\"],[0.7777777777777778,\"#fb9f3a\"],[0.8888888888888888,\"#fdca26\"],[1.0,\"#f0f921\"]],\"sequentialminus\":[[0.0,\"#0d0887\"],[0.1111111111111111,\"#46039f\"],[0.2222222222222222,\"#7201a8\"],[0.3333333333333333,\"#9c179e\"],[0.4444444444444444,\"#bd3786\"],[0.5555555555555556,\"#d8576b\"],[0.6666666666666666,\"#ed7953\"],[0.7777777777777778,\"#fb9f3a\"],[0.8888888888888888,\"#fdca26\"],[1.0,\"#f0f921\"]]},\"colorway\":[\"#636efa\",\"#EF553B\",\"#00cc96\",\"#ab63fa\",\"#FFA15A\",\"#19d3f3\",\"#FF6692\",\"#B6E880\",\"#FF97FF\",\"#FECB52\"],\"font\":{\"color\":\"#2a3f5f\"},\"geo\":{\"bgcolor\":\"white\",\"lakecolor\":\"white\",\"landcolor\":\"#E5ECF6\",\"showlakes\":true,\"showland\":true,\"subunitcolor\":\"white\"},\"hoverlabel\":{\"align\":\"left\"},\"hovermode\":\"closest\",\"mapbox\":{\"style\":\"light\"},\"paper_bgcolor\":\"white\",\"plot_bgcolor\":\"#E5ECF6\",\"polar\":{\"angularaxis\":{\"gridcolor\":\"white\",\"linecolor\":\"white\",\"ticks\":\"\"},\"bgcolor\":\"#E5ECF6\",\"radialaxis\":{\"gridcolor\":\"white\",\"linecolor\":\"white\",\"ticks\":\"\"}},\"scene\":{\"xaxis\":{\"backgroundcolor\":\"#E5ECF6\",\"gridcolor\":\"white\",\"gridwidth\":2,\"linecolor\":\"white\",\"showbackground\":true,\"ticks\":\"\",\"zerolinecolor\":\"white\"},\"yaxis\":{\"backgroundcolor\":\"#E5ECF6\",\"gridcolor\":\"white\",\"gridwidth\":2,\"linecolor\":\"white\",\"showbackground\":true,\"ticks\":\"\",\"zerolinecolor\":\"white\"},\"zaxis\":{\"backgroundcolor\":\"#E5ECF6\",\"gridcolor\":\"white\",\"gridwidth\":2,\"linecolor\":\"white\",\"showbackground\":true,\"ticks\":\"\",\"zerolinecolor\":\"white\"}},\"shapedefaults\":{\"line\":{\"color\":\"#2a3f5f\"}},\"ternary\":{\"aaxis\":{\"gridcolor\":\"white\",\"linecolor\":\"white\",\"ticks\":\"\"},\"baxis\":{\"gridcolor\":\"white\",\"linecolor\":\"white\",\"ticks\":\"\"},\"bgcolor\":\"#E5ECF6\",\"caxis\":{\"gridcolor\":\"white\",\"linecolor\":\"white\",\"ticks\":\"\"}},\"title\":{\"x\":0.05},\"xaxis\":{\"automargin\":true,\"gridcolor\":\"white\",\"linecolor\":\"white\",\"ticks\":\"\",\"title\":{\"standoff\":15},\"zerolinecolor\":\"white\",\"zerolinewidth\":2},\"yaxis\":{\"automargin\":true,\"gridcolor\":\"white\",\"linecolor\":\"white\",\"ticks\":\"\",\"title\":{\"standoff\":15},\"zerolinecolor\":\"white\",\"zerolinewidth\":2}}},\"mapbox\":{\"domain\":{\"x\":[0.0,1.0],\"y\":[0.0,1.0]},\"center\":{\"lat\":-10.546273093432262,\"lon\":105.00409155484341},\"accesstoken\":\"pk.eyJ1IjoieWVtaS0yMyIsImEiOiJjbDEzZzl6MWswZWg5M2lzNmx4dGoza2U5In0.meLrG_2lR0ob4ZqA_ZGiPw\",\"zoom\":1,\"style\":\"basic\"},\"legend\":{\"title\":{\"text\":\"type\"},\"tracegroupgap\":0,\"itemsizing\":\"constant\"},\"margin\":{\"t\":60},\"updatemenus\":[{\"buttons\":[{\"args\":[null,{\"frame\":{\"duration\":500,\"redraw\":true},\"mode\":\"immediate\",\"fromcurrent\":true,\"transition\":{\"duration\":500,\"easing\":\"linear\"}}],\"label\":\"&#9654;\",\"method\":\"animate\"},{\"args\":[[null],{\"frame\":{\"duration\":0,\"redraw\":true},\"mode\":\"immediate\",\"fromcurrent\":true,\"transition\":{\"duration\":0,\"easing\":\"linear\"}}],\"label\":\"&#9724;\",\"method\":\"animate\"}],\"direction\":\"left\",\"pad\":{\"r\":10,\"t\":70},\"showactive\":false,\"type\":\"buttons\",\"x\":0.1,\"xanchor\":\"right\",\"y\":0,\"yanchor\":\"top\"}],\"sliders\":[{\"active\":0,\"currentvalue\":{\"prefix\":\"timestep=\"},\"len\":0.9,\"pad\":{\"b\":10,\"t\":60},\"steps\":[{\"args\":[[\"0.0\"],{\"frame\":{\"duration\":0,\"redraw\":true},\"mode\":\"immediate\",\"fromcurrent\":true,\"transition\":{\"duration\":0,\"easing\":\"linear\"}}],\"label\":\"0.0\",\"method\":\"animate\"},{\"args\":[[\"100.0\"],{\"frame\":{\"duration\":0,\"redraw\":true},\"mode\":\"immediate\",\"fromcurrent\":true,\"transition\":{\"duration\":0,\"easing\":\"linear\"}}],\"label\":\"100.0\",\"method\":\"animate\"},{\"args\":[[\"200.0\"],{\"frame\":{\"duration\":0,\"redraw\":true},\"mode\":\"immediate\",\"fromcurrent\":true,\"transition\":{\"duration\":0,\"easing\":\"linear\"}}],\"label\":\"200.0\",\"method\":\"animate\"},{\"args\":[[\"300.0\"],{\"frame\":{\"duration\":0,\"redraw\":true},\"mode\":\"immediate\",\"fromcurrent\":true,\"transition\":{\"duration\":0,\"easing\":\"linear\"}}],\"label\":\"300.0\",\"method\":\"animate\"},{\"args\":[[\"400.0\"],{\"frame\":{\"duration\":0,\"redraw\":true},\"mode\":\"immediate\",\"fromcurrent\":true,\"transition\":{\"duration\":0,\"easing\":\"linear\"}}],\"label\":\"400.0\",\"method\":\"animate\"},{\"args\":[[\"500.0\"],{\"frame\":{\"duration\":0,\"redraw\":true},\"mode\":\"immediate\",\"fromcurrent\":true,\"transition\":{\"duration\":0,\"easing\":\"linear\"}}],\"label\":\"500.0\",\"method\":\"animate\"},{\"args\":[[\"600.0\"],{\"frame\":{\"duration\":0,\"redraw\":true},\"mode\":\"immediate\",\"fromcurrent\":true,\"transition\":{\"duration\":0,\"easing\":\"linear\"}}],\"label\":\"600.0\",\"method\":\"animate\"},{\"args\":[[\"700.0\"],{\"frame\":{\"duration\":0,\"redraw\":true},\"mode\":\"immediate\",\"fromcurrent\":true,\"transition\":{\"duration\":0,\"easing\":\"linear\"}}],\"label\":\"700.0\",\"method\":\"animate\"},{\"args\":[[\"800.0\"],{\"frame\":{\"duration\":0,\"redraw\":true},\"mode\":\"immediate\",\"fromcurrent\":true,\"transition\":{\"duration\":0,\"easing\":\"linear\"}}],\"label\":\"800.0\",\"method\":\"animate\"},{\"args\":[[\"900.0\"],{\"frame\":{\"duration\":0,\"redraw\":true},\"mode\":\"immediate\",\"fromcurrent\":true,\"transition\":{\"duration\":0,\"easing\":\"linear\"}}],\"label\":\"900.0\",\"method\":\"animate\"},{\"args\":[[\"1000.0\"],{\"frame\":{\"duration\":0,\"redraw\":true},\"mode\":\"immediate\",\"fromcurrent\":true,\"transition\":{\"duration\":0,\"easing\":\"linear\"}}],\"label\":\"1000.0\",\"method\":\"animate\"},{\"args\":[[\"1100.0\"],{\"frame\":{\"duration\":0,\"redraw\":true},\"mode\":\"immediate\",\"fromcurrent\":true,\"transition\":{\"duration\":0,\"easing\":\"linear\"}}],\"label\":\"1100.0\",\"method\":\"animate\"},{\"args\":[[\"1200.0\"],{\"frame\":{\"duration\":0,\"redraw\":true},\"mode\":\"immediate\",\"fromcurrent\":true,\"transition\":{\"duration\":0,\"easing\":\"linear\"}}],\"label\":\"1200.0\",\"method\":\"animate\"},{\"args\":[[\"1300.0\"],{\"frame\":{\"duration\":0,\"redraw\":true},\"mode\":\"immediate\",\"fromcurrent\":true,\"transition\":{\"duration\":0,\"easing\":\"linear\"}}],\"label\":\"1300.0\",\"method\":\"animate\"},{\"args\":[[\"1400.0\"],{\"frame\":{\"duration\":0,\"redraw\":true},\"mode\":\"immediate\",\"fromcurrent\":true,\"transition\":{\"duration\":0,\"easing\":\"linear\"}}],\"label\":\"1400.0\",\"method\":\"animate\"},{\"args\":[[\"1500.0\"],{\"frame\":{\"duration\":0,\"redraw\":true},\"mode\":\"immediate\",\"fromcurrent\":true,\"transition\":{\"duration\":0,\"easing\":\"linear\"}}],\"label\":\"1500.0\",\"method\":\"animate\"},{\"args\":[[\"1600.0\"],{\"frame\":{\"duration\":0,\"redraw\":true},\"mode\":\"immediate\",\"fromcurrent\":true,\"transition\":{\"duration\":0,\"easing\":\"linear\"}}],\"label\":\"1600.0\",\"method\":\"animate\"},{\"args\":[[\"1700.0\"],{\"frame\":{\"duration\":0,\"redraw\":true},\"mode\":\"immediate\",\"fromcurrent\":true,\"transition\":{\"duration\":0,\"easing\":\"linear\"}}],\"label\":\"1700.0\",\"method\":\"animate\"},{\"args\":[[\"1800.0\"],{\"frame\":{\"duration\":0,\"redraw\":true},\"mode\":\"immediate\",\"fromcurrent\":true,\"transition\":{\"duration\":0,\"easing\":\"linear\"}}],\"label\":\"1800.0\",\"method\":\"animate\"},{\"args\":[[\"1900.0\"],{\"frame\":{\"duration\":0,\"redraw\":true},\"mode\":\"immediate\",\"fromcurrent\":true,\"transition\":{\"duration\":0,\"easing\":\"linear\"}}],\"label\":\"1900.0\",\"method\":\"animate\"},{\"args\":[[\"2000.0\"],{\"frame\":{\"duration\":0,\"redraw\":true},\"mode\":\"immediate\",\"fromcurrent\":true,\"transition\":{\"duration\":0,\"easing\":\"linear\"}}],\"label\":\"2000.0\",\"method\":\"animate\"},{\"args\":[[\"2100.0\"],{\"frame\":{\"duration\":0,\"redraw\":true},\"mode\":\"immediate\",\"fromcurrent\":true,\"transition\":{\"duration\":0,\"easing\":\"linear\"}}],\"label\":\"2100.0\",\"method\":\"animate\"},{\"args\":[[\"2200.0\"],{\"frame\":{\"duration\":0,\"redraw\":true},\"mode\":\"immediate\",\"fromcurrent\":true,\"transition\":{\"duration\":0,\"easing\":\"linear\"}}],\"label\":\"2200.0\",\"method\":\"animate\"},{\"args\":[[\"2300.0\"],{\"frame\":{\"duration\":0,\"redraw\":true},\"mode\":\"immediate\",\"fromcurrent\":true,\"transition\":{\"duration\":0,\"easing\":\"linear\"}}],\"label\":\"2300.0\",\"method\":\"animate\"},{\"args\":[[\"2400.0\"],{\"frame\":{\"duration\":0,\"redraw\":true},\"mode\":\"immediate\",\"fromcurrent\":true,\"transition\":{\"duration\":0,\"easing\":\"linear\"}}],\"label\":\"2400.0\",\"method\":\"animate\"},{\"args\":[[\"2500.0\"],{\"frame\":{\"duration\":0,\"redraw\":true},\"mode\":\"immediate\",\"fromcurrent\":true,\"transition\":{\"duration\":0,\"easing\":\"linear\"}}],\"label\":\"2500.0\",\"method\":\"animate\"},{\"args\":[[\"2600.0\"],{\"frame\":{\"duration\":0,\"redraw\":true},\"mode\":\"immediate\",\"fromcurrent\":true,\"transition\":{\"duration\":0,\"easing\":\"linear\"}}],\"label\":\"2600.0\",\"method\":\"animate\"},{\"args\":[[\"2700.0\"],{\"frame\":{\"duration\":0,\"redraw\":true},\"mode\":\"immediate\",\"fromcurrent\":true,\"transition\":{\"duration\":0,\"easing\":\"linear\"}}],\"label\":\"2700.0\",\"method\":\"animate\"},{\"args\":[[\"2800.0\"],{\"frame\":{\"duration\":0,\"redraw\":true},\"mode\":\"immediate\",\"fromcurrent\":true,\"transition\":{\"duration\":0,\"easing\":\"linear\"}}],\"label\":\"2800.0\",\"method\":\"animate\"},{\"args\":[[\"2900.0\"],{\"frame\":{\"duration\":0,\"redraw\":true},\"mode\":\"immediate\",\"fromcurrent\":true,\"transition\":{\"duration\":0,\"easing\":\"linear\"}}],\"label\":\"2900.0\",\"method\":\"animate\"},{\"args\":[[\"3000.0\"],{\"frame\":{\"duration\":0,\"redraw\":true},\"mode\":\"immediate\",\"fromcurrent\":true,\"transition\":{\"duration\":0,\"easing\":\"linear\"}}],\"label\":\"3000.0\",\"method\":\"animate\"},{\"args\":[[\"3100.0\"],{\"frame\":{\"duration\":0,\"redraw\":true},\"mode\":\"immediate\",\"fromcurrent\":true,\"transition\":{\"duration\":0,\"easing\":\"linear\"}}],\"label\":\"3100.0\",\"method\":\"animate\"},{\"args\":[[\"3200.0\"],{\"frame\":{\"duration\":0,\"redraw\":true},\"mode\":\"immediate\",\"fromcurrent\":true,\"transition\":{\"duration\":0,\"easing\":\"linear\"}}],\"label\":\"3200.0\",\"method\":\"animate\"},{\"args\":[[\"3300.0\"],{\"frame\":{\"duration\":0,\"redraw\":true},\"mode\":\"immediate\",\"fromcurrent\":true,\"transition\":{\"duration\":0,\"easing\":\"linear\"}}],\"label\":\"3300.0\",\"method\":\"animate\"},{\"args\":[[\"3400.0\"],{\"frame\":{\"duration\":0,\"redraw\":true},\"mode\":\"immediate\",\"fromcurrent\":true,\"transition\":{\"duration\":0,\"easing\":\"linear\"}}],\"label\":\"3400.0\",\"method\":\"animate\"},{\"args\":[[\"3500.0\"],{\"frame\":{\"duration\":0,\"redraw\":true},\"mode\":\"immediate\",\"fromcurrent\":true,\"transition\":{\"duration\":0,\"easing\":\"linear\"}}],\"label\":\"3500.0\",\"method\":\"animate\"},{\"args\":[[\"3600.0\"],{\"frame\":{\"duration\":0,\"redraw\":true},\"mode\":\"immediate\",\"fromcurrent\":true,\"transition\":{\"duration\":0,\"easing\":\"linear\"}}],\"label\":\"3600.0\",\"method\":\"animate\"},{\"args\":[[\"3700.0\"],{\"frame\":{\"duration\":0,\"redraw\":true},\"mode\":\"immediate\",\"fromcurrent\":true,\"transition\":{\"duration\":0,\"easing\":\"linear\"}}],\"label\":\"3700.0\",\"method\":\"animate\"},{\"args\":[[\"3800.0\"],{\"frame\":{\"duration\":0,\"redraw\":true},\"mode\":\"immediate\",\"fromcurrent\":true,\"transition\":{\"duration\":0,\"easing\":\"linear\"}}],\"label\":\"3800.0\",\"method\":\"animate\"},{\"args\":[[\"3900.0\"],{\"frame\":{\"duration\":0,\"redraw\":true},\"mode\":\"immediate\",\"fromcurrent\":true,\"transition\":{\"duration\":0,\"easing\":\"linear\"}}],\"label\":\"3900.0\",\"method\":\"animate\"},{\"args\":[[\"4000.0\"],{\"frame\":{\"duration\":0,\"redraw\":true},\"mode\":\"immediate\",\"fromcurrent\":true,\"transition\":{\"duration\":0,\"easing\":\"linear\"}}],\"label\":\"4000.0\",\"method\":\"animate\"},{\"args\":[[\"4100.0\"],{\"frame\":{\"duration\":0,\"redraw\":true},\"mode\":\"immediate\",\"fromcurrent\":true,\"transition\":{\"duration\":0,\"easing\":\"linear\"}}],\"label\":\"4100.0\",\"method\":\"animate\"},{\"args\":[[\"4200.0\"],{\"frame\":{\"duration\":0,\"redraw\":true},\"mode\":\"immediate\",\"fromcurrent\":true,\"transition\":{\"duration\":0,\"easing\":\"linear\"}}],\"label\":\"4200.0\",\"method\":\"animate\"},{\"args\":[[\"4300.0\"],{\"frame\":{\"duration\":0,\"redraw\":true},\"mode\":\"immediate\",\"fromcurrent\":true,\"transition\":{\"duration\":0,\"easing\":\"linear\"}}],\"label\":\"4300.0\",\"method\":\"animate\"},{\"args\":[[\"4400.0\"],{\"frame\":{\"duration\":0,\"redraw\":true},\"mode\":\"immediate\",\"fromcurrent\":true,\"transition\":{\"duration\":0,\"easing\":\"linear\"}}],\"label\":\"4400.0\",\"method\":\"animate\"},{\"args\":[[\"4500.0\"],{\"frame\":{\"duration\":0,\"redraw\":true},\"mode\":\"immediate\",\"fromcurrent\":true,\"transition\":{\"duration\":0,\"easing\":\"linear\"}}],\"label\":\"4500.0\",\"method\":\"animate\"},{\"args\":[[\"4600.0\"],{\"frame\":{\"duration\":0,\"redraw\":true},\"mode\":\"immediate\",\"fromcurrent\":true,\"transition\":{\"duration\":0,\"easing\":\"linear\"}}],\"label\":\"4600.0\",\"method\":\"animate\"},{\"args\":[[\"4700.0\"],{\"frame\":{\"duration\":0,\"redraw\":true},\"mode\":\"immediate\",\"fromcurrent\":true,\"transition\":{\"duration\":0,\"easing\":\"linear\"}}],\"label\":\"4700.0\",\"method\":\"animate\"},{\"args\":[[\"4800.0\"],{\"frame\":{\"duration\":0,\"redraw\":true},\"mode\":\"immediate\",\"fromcurrent\":true,\"transition\":{\"duration\":0,\"easing\":\"linear\"}}],\"label\":\"4800.0\",\"method\":\"animate\"},{\"args\":[[\"4900.0\"],{\"frame\":{\"duration\":0,\"redraw\":true},\"mode\":\"immediate\",\"fromcurrent\":true,\"transition\":{\"duration\":0,\"easing\":\"linear\"}}],\"label\":\"4900.0\",\"method\":\"animate\"},{\"args\":[[\"5000.0\"],{\"frame\":{\"duration\":0,\"redraw\":true},\"mode\":\"immediate\",\"fromcurrent\":true,\"transition\":{\"duration\":0,\"easing\":\"linear\"}}],\"label\":\"5000.0\",\"method\":\"animate\"},{\"args\":[[\"5100.0\"],{\"frame\":{\"duration\":0,\"redraw\":true},\"mode\":\"immediate\",\"fromcurrent\":true,\"transition\":{\"duration\":0,\"easing\":\"linear\"}}],\"label\":\"5100.0\",\"method\":\"animate\"},{\"args\":[[\"5200.0\"],{\"frame\":{\"duration\":0,\"redraw\":true},\"mode\":\"immediate\",\"fromcurrent\":true,\"transition\":{\"duration\":0,\"easing\":\"linear\"}}],\"label\":\"5200.0\",\"method\":\"animate\"},{\"args\":[[\"5300.0\"],{\"frame\":{\"duration\":0,\"redraw\":true},\"mode\":\"immediate\",\"fromcurrent\":true,\"transition\":{\"duration\":0,\"easing\":\"linear\"}}],\"label\":\"5300.0\",\"method\":\"animate\"},{\"args\":[[\"5400.0\"],{\"frame\":{\"duration\":0,\"redraw\":true},\"mode\":\"immediate\",\"fromcurrent\":true,\"transition\":{\"duration\":0,\"easing\":\"linear\"}}],\"label\":\"5400.0\",\"method\":\"animate\"},{\"args\":[[\"5500.0\"],{\"frame\":{\"duration\":0,\"redraw\":true},\"mode\":\"immediate\",\"fromcurrent\":true,\"transition\":{\"duration\":0,\"easing\":\"linear\"}}],\"label\":\"5500.0\",\"method\":\"animate\"},{\"args\":[[\"5600.0\"],{\"frame\":{\"duration\":0,\"redraw\":true},\"mode\":\"immediate\",\"fromcurrent\":true,\"transition\":{\"duration\":0,\"easing\":\"linear\"}}],\"label\":\"5600.0\",\"method\":\"animate\"},{\"args\":[[\"5700.0\"],{\"frame\":{\"duration\":0,\"redraw\":true},\"mode\":\"immediate\",\"fromcurrent\":true,\"transition\":{\"duration\":0,\"easing\":\"linear\"}}],\"label\":\"5700.0\",\"method\":\"animate\"},{\"args\":[[\"5800.0\"],{\"frame\":{\"duration\":0,\"redraw\":true},\"mode\":\"immediate\",\"fromcurrent\":true,\"transition\":{\"duration\":0,\"easing\":\"linear\"}}],\"label\":\"5800.0\",\"method\":\"animate\"},{\"args\":[[\"5900.0\"],{\"frame\":{\"duration\":0,\"redraw\":true},\"mode\":\"immediate\",\"fromcurrent\":true,\"transition\":{\"duration\":0,\"easing\":\"linear\"}}],\"label\":\"5900.0\",\"method\":\"animate\"},{\"args\":[[\"6000.0\"],{\"frame\":{\"duration\":0,\"redraw\":true},\"mode\":\"immediate\",\"fromcurrent\":true,\"transition\":{\"duration\":0,\"easing\":\"linear\"}}],\"label\":\"6000.0\",\"method\":\"animate\"},{\"args\":[[\"6100.0\"],{\"frame\":{\"duration\":0,\"redraw\":true},\"mode\":\"immediate\",\"fromcurrent\":true,\"transition\":{\"duration\":0,\"easing\":\"linear\"}}],\"label\":\"6100.0\",\"method\":\"animate\"},{\"args\":[[\"6200.0\"],{\"frame\":{\"duration\":0,\"redraw\":true},\"mode\":\"immediate\",\"fromcurrent\":true,\"transition\":{\"duration\":0,\"easing\":\"linear\"}}],\"label\":\"6200.0\",\"method\":\"animate\"},{\"args\":[[\"6300.0\"],{\"frame\":{\"duration\":0,\"redraw\":true},\"mode\":\"immediate\",\"fromcurrent\":true,\"transition\":{\"duration\":0,\"easing\":\"linear\"}}],\"label\":\"6300.0\",\"method\":\"animate\"},{\"args\":[[\"6400.0\"],{\"frame\":{\"duration\":0,\"redraw\":true},\"mode\":\"immediate\",\"fromcurrent\":true,\"transition\":{\"duration\":0,\"easing\":\"linear\"}}],\"label\":\"6400.0\",\"method\":\"animate\"},{\"args\":[[\"6500.0\"],{\"frame\":{\"duration\":0,\"redraw\":true},\"mode\":\"immediate\",\"fromcurrent\":true,\"transition\":{\"duration\":0,\"easing\":\"linear\"}}],\"label\":\"6500.0\",\"method\":\"animate\"},{\"args\":[[\"6600.0\"],{\"frame\":{\"duration\":0,\"redraw\":true},\"mode\":\"immediate\",\"fromcurrent\":true,\"transition\":{\"duration\":0,\"easing\":\"linear\"}}],\"label\":\"6600.0\",\"method\":\"animate\"},{\"args\":[[\"6700.0\"],{\"frame\":{\"duration\":0,\"redraw\":true},\"mode\":\"immediate\",\"fromcurrent\":true,\"transition\":{\"duration\":0,\"easing\":\"linear\"}}],\"label\":\"6700.0\",\"method\":\"animate\"},{\"args\":[[\"6800.0\"],{\"frame\":{\"duration\":0,\"redraw\":true},\"mode\":\"immediate\",\"fromcurrent\":true,\"transition\":{\"duration\":0,\"easing\":\"linear\"}}],\"label\":\"6800.0\",\"method\":\"animate\"},{\"args\":[[\"6900.0\"],{\"frame\":{\"duration\":0,\"redraw\":true},\"mode\":\"immediate\",\"fromcurrent\":true,\"transition\":{\"duration\":0,\"easing\":\"linear\"}}],\"label\":\"6900.0\",\"method\":\"animate\"},{\"args\":[[\"7000.0\"],{\"frame\":{\"duration\":0,\"redraw\":true},\"mode\":\"immediate\",\"fromcurrent\":true,\"transition\":{\"duration\":0,\"easing\":\"linear\"}}],\"label\":\"7000.0\",\"method\":\"animate\"},{\"args\":[[\"7100.0\"],{\"frame\":{\"duration\":0,\"redraw\":true},\"mode\":\"immediate\",\"fromcurrent\":true,\"transition\":{\"duration\":0,\"easing\":\"linear\"}}],\"label\":\"7100.0\",\"method\":\"animate\"},{\"args\":[[\"7200.0\"],{\"frame\":{\"duration\":0,\"redraw\":true},\"mode\":\"immediate\",\"fromcurrent\":true,\"transition\":{\"duration\":0,\"easing\":\"linear\"}}],\"label\":\"7200.0\",\"method\":\"animate\"},{\"args\":[[\"7300.0\"],{\"frame\":{\"duration\":0,\"redraw\":true},\"mode\":\"immediate\",\"fromcurrent\":true,\"transition\":{\"duration\":0,\"easing\":\"linear\"}}],\"label\":\"7300.0\",\"method\":\"animate\"},{\"args\":[[\"7400.0\"],{\"frame\":{\"duration\":0,\"redraw\":true},\"mode\":\"immediate\",\"fromcurrent\":true,\"transition\":{\"duration\":0,\"easing\":\"linear\"}}],\"label\":\"7400.0\",\"method\":\"animate\"},{\"args\":[[\"7500.0\"],{\"frame\":{\"duration\":0,\"redraw\":true},\"mode\":\"immediate\",\"fromcurrent\":true,\"transition\":{\"duration\":0,\"easing\":\"linear\"}}],\"label\":\"7500.0\",\"method\":\"animate\"},{\"args\":[[\"7600.0\"],{\"frame\":{\"duration\":0,\"redraw\":true},\"mode\":\"immediate\",\"fromcurrent\":true,\"transition\":{\"duration\":0,\"easing\":\"linear\"}}],\"label\":\"7600.0\",\"method\":\"animate\"},{\"args\":[[\"7700.0\"],{\"frame\":{\"duration\":0,\"redraw\":true},\"mode\":\"immediate\",\"fromcurrent\":true,\"transition\":{\"duration\":0,\"easing\":\"linear\"}}],\"label\":\"7700.0\",\"method\":\"animate\"},{\"args\":[[\"7800.0\"],{\"frame\":{\"duration\":0,\"redraw\":true},\"mode\":\"immediate\",\"fromcurrent\":true,\"transition\":{\"duration\":0,\"easing\":\"linear\"}}],\"label\":\"7800.0\",\"method\":\"animate\"},{\"args\":[[\"7900.0\"],{\"frame\":{\"duration\":0,\"redraw\":true},\"mode\":\"immediate\",\"fromcurrent\":true,\"transition\":{\"duration\":0,\"easing\":\"linear\"}}],\"label\":\"7900.0\",\"method\":\"animate\"},{\"args\":[[\"8000.0\"],{\"frame\":{\"duration\":0,\"redraw\":true},\"mode\":\"immediate\",\"fromcurrent\":true,\"transition\":{\"duration\":0,\"easing\":\"linear\"}}],\"label\":\"8000.0\",\"method\":\"animate\"},{\"args\":[[\"8100.0\"],{\"frame\":{\"duration\":0,\"redraw\":true},\"mode\":\"immediate\",\"fromcurrent\":true,\"transition\":{\"duration\":0,\"easing\":\"linear\"}}],\"label\":\"8100.0\",\"method\":\"animate\"},{\"args\":[[\"8200.0\"],{\"frame\":{\"duration\":0,\"redraw\":true},\"mode\":\"immediate\",\"fromcurrent\":true,\"transition\":{\"duration\":0,\"easing\":\"linear\"}}],\"label\":\"8200.0\",\"method\":\"animate\"},{\"args\":[[\"8300.0\"],{\"frame\":{\"duration\":0,\"redraw\":true},\"mode\":\"immediate\",\"fromcurrent\":true,\"transition\":{\"duration\":0,\"easing\":\"linear\"}}],\"label\":\"8300.0\",\"method\":\"animate\"},{\"args\":[[\"8400.0\"],{\"frame\":{\"duration\":0,\"redraw\":true},\"mode\":\"immediate\",\"fromcurrent\":true,\"transition\":{\"duration\":0,\"easing\":\"linear\"}}],\"label\":\"8400.0\",\"method\":\"animate\"},{\"args\":[[\"8500.0\"],{\"frame\":{\"duration\":0,\"redraw\":true},\"mode\":\"immediate\",\"fromcurrent\":true,\"transition\":{\"duration\":0,\"easing\":\"linear\"}}],\"label\":\"8500.0\",\"method\":\"animate\"},{\"args\":[[\"8600.0\"],{\"frame\":{\"duration\":0,\"redraw\":true},\"mode\":\"immediate\",\"fromcurrent\":true,\"transition\":{\"duration\":0,\"easing\":\"linear\"}}],\"label\":\"8600.0\",\"method\":\"animate\"},{\"args\":[[\"8700.0\"],{\"frame\":{\"duration\":0,\"redraw\":true},\"mode\":\"immediate\",\"fromcurrent\":true,\"transition\":{\"duration\":0,\"easing\":\"linear\"}}],\"label\":\"8700.0\",\"method\":\"animate\"},{\"args\":[[\"8800.0\"],{\"frame\":{\"duration\":0,\"redraw\":true},\"mode\":\"immediate\",\"fromcurrent\":true,\"transition\":{\"duration\":0,\"easing\":\"linear\"}}],\"label\":\"8800.0\",\"method\":\"animate\"},{\"args\":[[\"8900.0\"],{\"frame\":{\"duration\":0,\"redraw\":true},\"mode\":\"immediate\",\"fromcurrent\":true,\"transition\":{\"duration\":0,\"easing\":\"linear\"}}],\"label\":\"8900.0\",\"method\":\"animate\"},{\"args\":[[\"9000.0\"],{\"frame\":{\"duration\":0,\"redraw\":true},\"mode\":\"immediate\",\"fromcurrent\":true,\"transition\":{\"duration\":0,\"easing\":\"linear\"}}],\"label\":\"9000.0\",\"method\":\"animate\"},{\"args\":[[\"9100.0\"],{\"frame\":{\"duration\":0,\"redraw\":true},\"mode\":\"immediate\",\"fromcurrent\":true,\"transition\":{\"duration\":0,\"easing\":\"linear\"}}],\"label\":\"9100.0\",\"method\":\"animate\"},{\"args\":[[\"9200.0\"],{\"frame\":{\"duration\":0,\"redraw\":true},\"mode\":\"immediate\",\"fromcurrent\":true,\"transition\":{\"duration\":0,\"easing\":\"linear\"}}],\"label\":\"9200.0\",\"method\":\"animate\"},{\"args\":[[\"9300.0\"],{\"frame\":{\"duration\":0,\"redraw\":true},\"mode\":\"immediate\",\"fromcurrent\":true,\"transition\":{\"duration\":0,\"easing\":\"linear\"}}],\"label\":\"9300.0\",\"method\":\"animate\"},{\"args\":[[\"9400.0\"],{\"frame\":{\"duration\":0,\"redraw\":true},\"mode\":\"immediate\",\"fromcurrent\":true,\"transition\":{\"duration\":0,\"easing\":\"linear\"}}],\"label\":\"9400.0\",\"method\":\"animate\"},{\"args\":[[\"9500.0\"],{\"frame\":{\"duration\":0,\"redraw\":true},\"mode\":\"immediate\",\"fromcurrent\":true,\"transition\":{\"duration\":0,\"easing\":\"linear\"}}],\"label\":\"9500.0\",\"method\":\"animate\"},{\"args\":[[\"9600.0\"],{\"frame\":{\"duration\":0,\"redraw\":true},\"mode\":\"immediate\",\"fromcurrent\":true,\"transition\":{\"duration\":0,\"easing\":\"linear\"}}],\"label\":\"9600.0\",\"method\":\"animate\"},{\"args\":[[\"9700.0\"],{\"frame\":{\"duration\":0,\"redraw\":true},\"mode\":\"immediate\",\"fromcurrent\":true,\"transition\":{\"duration\":0,\"easing\":\"linear\"}}],\"label\":\"9700.0\",\"method\":\"animate\"},{\"args\":[[\"9800.0\"],{\"frame\":{\"duration\":0,\"redraw\":true},\"mode\":\"immediate\",\"fromcurrent\":true,\"transition\":{\"duration\":0,\"easing\":\"linear\"}}],\"label\":\"9800.0\",\"method\":\"animate\"},{\"args\":[[\"9900.0\"],{\"frame\":{\"duration\":0,\"redraw\":true},\"mode\":\"immediate\",\"fromcurrent\":true,\"transition\":{\"duration\":0,\"easing\":\"linear\"}}],\"label\":\"9900.0\",\"method\":\"animate\"},{\"args\":[[\"10000.0\"],{\"frame\":{\"duration\":0,\"redraw\":true},\"mode\":\"immediate\",\"fromcurrent\":true,\"transition\":{\"duration\":0,\"easing\":\"linear\"}}],\"label\":\"10000.0\",\"method\":\"animate\"},{\"args\":[[\"10100.0\"],{\"frame\":{\"duration\":0,\"redraw\":true},\"mode\":\"immediate\",\"fromcurrent\":true,\"transition\":{\"duration\":0,\"easing\":\"linear\"}}],\"label\":\"10100.0\",\"method\":\"animate\"},{\"args\":[[\"10200.0\"],{\"frame\":{\"duration\":0,\"redraw\":true},\"mode\":\"immediate\",\"fromcurrent\":true,\"transition\":{\"duration\":0,\"easing\":\"linear\"}}],\"label\":\"10200.0\",\"method\":\"animate\"},{\"args\":[[\"10300.0\"],{\"frame\":{\"duration\":0,\"redraw\":true},\"mode\":\"immediate\",\"fromcurrent\":true,\"transition\":{\"duration\":0,\"easing\":\"linear\"}}],\"label\":\"10300.0\",\"method\":\"animate\"},{\"args\":[[\"10400.0\"],{\"frame\":{\"duration\":0,\"redraw\":true},\"mode\":\"immediate\",\"fromcurrent\":true,\"transition\":{\"duration\":0,\"easing\":\"linear\"}}],\"label\":\"10400.0\",\"method\":\"animate\"},{\"args\":[[\"10500.0\"],{\"frame\":{\"duration\":0,\"redraw\":true},\"mode\":\"immediate\",\"fromcurrent\":true,\"transition\":{\"duration\":0,\"easing\":\"linear\"}}],\"label\":\"10500.0\",\"method\":\"animate\"},{\"args\":[[\"10600.0\"],{\"frame\":{\"duration\":0,\"redraw\":true},\"mode\":\"immediate\",\"fromcurrent\":true,\"transition\":{\"duration\":0,\"easing\":\"linear\"}}],\"label\":\"10600.0\",\"method\":\"animate\"},{\"args\":[[\"10700.0\"],{\"frame\":{\"duration\":0,\"redraw\":true},\"mode\":\"immediate\",\"fromcurrent\":true,\"transition\":{\"duration\":0,\"easing\":\"linear\"}}],\"label\":\"10700.0\",\"method\":\"animate\"},{\"args\":[[\"10800.0\"],{\"frame\":{\"duration\":0,\"redraw\":true},\"mode\":\"immediate\",\"fromcurrent\":true,\"transition\":{\"duration\":0,\"easing\":\"linear\"}}],\"label\":\"10800.0\",\"method\":\"animate\"},{\"args\":[[\"10900.0\"],{\"frame\":{\"duration\":0,\"redraw\":true},\"mode\":\"immediate\",\"fromcurrent\":true,\"transition\":{\"duration\":0,\"easing\":\"linear\"}}],\"label\":\"10900.0\",\"method\":\"animate\"},{\"args\":[[\"11000.0\"],{\"frame\":{\"duration\":0,\"redraw\":true},\"mode\":\"immediate\",\"fromcurrent\":true,\"transition\":{\"duration\":0,\"easing\":\"linear\"}}],\"label\":\"11000.0\",\"method\":\"animate\"},{\"args\":[[\"11100.0\"],{\"frame\":{\"duration\":0,\"redraw\":true},\"mode\":\"immediate\",\"fromcurrent\":true,\"transition\":{\"duration\":0,\"easing\":\"linear\"}}],\"label\":\"11100.0\",\"method\":\"animate\"},{\"args\":[[\"11200.0\"],{\"frame\":{\"duration\":0,\"redraw\":true},\"mode\":\"immediate\",\"fromcurrent\":true,\"transition\":{\"duration\":0,\"easing\":\"linear\"}}],\"label\":\"11200.0\",\"method\":\"animate\"},{\"args\":[[\"11300.0\"],{\"frame\":{\"duration\":0,\"redraw\":true},\"mode\":\"immediate\",\"fromcurrent\":true,\"transition\":{\"duration\":0,\"easing\":\"linear\"}}],\"label\":\"11300.0\",\"method\":\"animate\"},{\"args\":[[\"11400.0\"],{\"frame\":{\"duration\":0,\"redraw\":true},\"mode\":\"immediate\",\"fromcurrent\":true,\"transition\":{\"duration\":0,\"easing\":\"linear\"}}],\"label\":\"11400.0\",\"method\":\"animate\"},{\"args\":[[\"11500.0\"],{\"frame\":{\"duration\":0,\"redraw\":true},\"mode\":\"immediate\",\"fromcurrent\":true,\"transition\":{\"duration\":0,\"easing\":\"linear\"}}],\"label\":\"11500.0\",\"method\":\"animate\"},{\"args\":[[\"11600.0\"],{\"frame\":{\"duration\":0,\"redraw\":true},\"mode\":\"immediate\",\"fromcurrent\":true,\"transition\":{\"duration\":0,\"easing\":\"linear\"}}],\"label\":\"11600.0\",\"method\":\"animate\"},{\"args\":[[\"11700.0\"],{\"frame\":{\"duration\":0,\"redraw\":true},\"mode\":\"immediate\",\"fromcurrent\":true,\"transition\":{\"duration\":0,\"easing\":\"linear\"}}],\"label\":\"11700.0\",\"method\":\"animate\"},{\"args\":[[\"11800.0\"],{\"frame\":{\"duration\":0,\"redraw\":true},\"mode\":\"immediate\",\"fromcurrent\":true,\"transition\":{\"duration\":0,\"easing\":\"linear\"}}],\"label\":\"11800.0\",\"method\":\"animate\"},{\"args\":[[\"11900.0\"],{\"frame\":{\"duration\":0,\"redraw\":true},\"mode\":\"immediate\",\"fromcurrent\":true,\"transition\":{\"duration\":0,\"easing\":\"linear\"}}],\"label\":\"11900.0\",\"method\":\"animate\"},{\"args\":[[\"12000.0\"],{\"frame\":{\"duration\":0,\"redraw\":true},\"mode\":\"immediate\",\"fromcurrent\":true,\"transition\":{\"duration\":0,\"easing\":\"linear\"}}],\"label\":\"12000.0\",\"method\":\"animate\"},{\"args\":[[\"12100.0\"],{\"frame\":{\"duration\":0,\"redraw\":true},\"mode\":\"immediate\",\"fromcurrent\":true,\"transition\":{\"duration\":0,\"easing\":\"linear\"}}],\"label\":\"12100.0\",\"method\":\"animate\"},{\"args\":[[\"12200.0\"],{\"frame\":{\"duration\":0,\"redraw\":true},\"mode\":\"immediate\",\"fromcurrent\":true,\"transition\":{\"duration\":0,\"easing\":\"linear\"}}],\"label\":\"12200.0\",\"method\":\"animate\"},{\"args\":[[\"12300.0\"],{\"frame\":{\"duration\":0,\"redraw\":true},\"mode\":\"immediate\",\"fromcurrent\":true,\"transition\":{\"duration\":0,\"easing\":\"linear\"}}],\"label\":\"12300.0\",\"method\":\"animate\"},{\"args\":[[\"12400.0\"],{\"frame\":{\"duration\":0,\"redraw\":true},\"mode\":\"immediate\",\"fromcurrent\":true,\"transition\":{\"duration\":0,\"easing\":\"linear\"}}],\"label\":\"12400.0\",\"method\":\"animate\"},{\"args\":[[\"12500.0\"],{\"frame\":{\"duration\":0,\"redraw\":true},\"mode\":\"immediate\",\"fromcurrent\":true,\"transition\":{\"duration\":0,\"easing\":\"linear\"}}],\"label\":\"12500.0\",\"method\":\"animate\"},{\"args\":[[\"12600.0\"],{\"frame\":{\"duration\":0,\"redraw\":true},\"mode\":\"immediate\",\"fromcurrent\":true,\"transition\":{\"duration\":0,\"easing\":\"linear\"}}],\"label\":\"12600.0\",\"method\":\"animate\"},{\"args\":[[\"12700.0\"],{\"frame\":{\"duration\":0,\"redraw\":true},\"mode\":\"immediate\",\"fromcurrent\":true,\"transition\":{\"duration\":0,\"easing\":\"linear\"}}],\"label\":\"12700.0\",\"method\":\"animate\"},{\"args\":[[\"12800.0\"],{\"frame\":{\"duration\":0,\"redraw\":true},\"mode\":\"immediate\",\"fromcurrent\":true,\"transition\":{\"duration\":0,\"easing\":\"linear\"}}],\"label\":\"12800.0\",\"method\":\"animate\"},{\"args\":[[\"12900.0\"],{\"frame\":{\"duration\":0,\"redraw\":true},\"mode\":\"immediate\",\"fromcurrent\":true,\"transition\":{\"duration\":0,\"easing\":\"linear\"}}],\"label\":\"12900.0\",\"method\":\"animate\"},{\"args\":[[\"13000.0\"],{\"frame\":{\"duration\":0,\"redraw\":true},\"mode\":\"immediate\",\"fromcurrent\":true,\"transition\":{\"duration\":0,\"easing\":\"linear\"}}],\"label\":\"13000.0\",\"method\":\"animate\"},{\"args\":[[\"13100.0\"],{\"frame\":{\"duration\":0,\"redraw\":true},\"mode\":\"immediate\",\"fromcurrent\":true,\"transition\":{\"duration\":0,\"easing\":\"linear\"}}],\"label\":\"13100.0\",\"method\":\"animate\"},{\"args\":[[\"13200.0\"],{\"frame\":{\"duration\":0,\"redraw\":true},\"mode\":\"immediate\",\"fromcurrent\":true,\"transition\":{\"duration\":0,\"easing\":\"linear\"}}],\"label\":\"13200.0\",\"method\":\"animate\"},{\"args\":[[\"13300.0\"],{\"frame\":{\"duration\":0,\"redraw\":true},\"mode\":\"immediate\",\"fromcurrent\":true,\"transition\":{\"duration\":0,\"easing\":\"linear\"}}],\"label\":\"13300.0\",\"method\":\"animate\"},{\"args\":[[\"13400.0\"],{\"frame\":{\"duration\":0,\"redraw\":true},\"mode\":\"immediate\",\"fromcurrent\":true,\"transition\":{\"duration\":0,\"easing\":\"linear\"}}],\"label\":\"13400.0\",\"method\":\"animate\"},{\"args\":[[\"13500.0\"],{\"frame\":{\"duration\":0,\"redraw\":true},\"mode\":\"immediate\",\"fromcurrent\":true,\"transition\":{\"duration\":0,\"easing\":\"linear\"}}],\"label\":\"13500.0\",\"method\":\"animate\"},{\"args\":[[\"13600.0\"],{\"frame\":{\"duration\":0,\"redraw\":true},\"mode\":\"immediate\",\"fromcurrent\":true,\"transition\":{\"duration\":0,\"easing\":\"linear\"}}],\"label\":\"13600.0\",\"method\":\"animate\"},{\"args\":[[\"13700.0\"],{\"frame\":{\"duration\":0,\"redraw\":true},\"mode\":\"immediate\",\"fromcurrent\":true,\"transition\":{\"duration\":0,\"easing\":\"linear\"}}],\"label\":\"13700.0\",\"method\":\"animate\"},{\"args\":[[\"13800.0\"],{\"frame\":{\"duration\":0,\"redraw\":true},\"mode\":\"immediate\",\"fromcurrent\":true,\"transition\":{\"duration\":0,\"easing\":\"linear\"}}],\"label\":\"13800.0\",\"method\":\"animate\"},{\"args\":[[\"13900.0\"],{\"frame\":{\"duration\":0,\"redraw\":true},\"mode\":\"immediate\",\"fromcurrent\":true,\"transition\":{\"duration\":0,\"easing\":\"linear\"}}],\"label\":\"13900.0\",\"method\":\"animate\"},{\"args\":[[\"14000.0\"],{\"frame\":{\"duration\":0,\"redraw\":true},\"mode\":\"immediate\",\"fromcurrent\":true,\"transition\":{\"duration\":0,\"easing\":\"linear\"}}],\"label\":\"14000.0\",\"method\":\"animate\"},{\"args\":[[\"14100.0\"],{\"frame\":{\"duration\":0,\"redraw\":true},\"mode\":\"immediate\",\"fromcurrent\":true,\"transition\":{\"duration\":0,\"easing\":\"linear\"}}],\"label\":\"14100.0\",\"method\":\"animate\"},{\"args\":[[\"14200.0\"],{\"frame\":{\"duration\":0,\"redraw\":true},\"mode\":\"immediate\",\"fromcurrent\":true,\"transition\":{\"duration\":0,\"easing\":\"linear\"}}],\"label\":\"14200.0\",\"method\":\"animate\"},{\"args\":[[\"14300.0\"],{\"frame\":{\"duration\":0,\"redraw\":true},\"mode\":\"immediate\",\"fromcurrent\":true,\"transition\":{\"duration\":0,\"easing\":\"linear\"}}],\"label\":\"14300.0\",\"method\":\"animate\"},{\"args\":[[\"14400.0\"],{\"frame\":{\"duration\":0,\"redraw\":true},\"mode\":\"immediate\",\"fromcurrent\":true,\"transition\":{\"duration\":0,\"easing\":\"linear\"}}],\"label\":\"14400.0\",\"method\":\"animate\"},{\"args\":[[\"14500.0\"],{\"frame\":{\"duration\":0,\"redraw\":true},\"mode\":\"immediate\",\"fromcurrent\":true,\"transition\":{\"duration\":0,\"easing\":\"linear\"}}],\"label\":\"14500.0\",\"method\":\"animate\"},{\"args\":[[\"14600.0\"],{\"frame\":{\"duration\":0,\"redraw\":true},\"mode\":\"immediate\",\"fromcurrent\":true,\"transition\":{\"duration\":0,\"easing\":\"linear\"}}],\"label\":\"14600.0\",\"method\":\"animate\"},{\"args\":[[\"14700.0\"],{\"frame\":{\"duration\":0,\"redraw\":true},\"mode\":\"immediate\",\"fromcurrent\":true,\"transition\":{\"duration\":0,\"easing\":\"linear\"}}],\"label\":\"14700.0\",\"method\":\"animate\"},{\"args\":[[\"14800.0\"],{\"frame\":{\"duration\":0,\"redraw\":true},\"mode\":\"immediate\",\"fromcurrent\":true,\"transition\":{\"duration\":0,\"easing\":\"linear\"}}],\"label\":\"14800.0\",\"method\":\"animate\"},{\"args\":[[\"14900.0\"],{\"frame\":{\"duration\":0,\"redraw\":true},\"mode\":\"immediate\",\"fromcurrent\":true,\"transition\":{\"duration\":0,\"easing\":\"linear\"}}],\"label\":\"14900.0\",\"method\":\"animate\"},{\"args\":[[\"15000.0\"],{\"frame\":{\"duration\":0,\"redraw\":true},\"mode\":\"immediate\",\"fromcurrent\":true,\"transition\":{\"duration\":0,\"easing\":\"linear\"}}],\"label\":\"15000.0\",\"method\":\"animate\"},{\"args\":[[\"15100.0\"],{\"frame\":{\"duration\":0,\"redraw\":true},\"mode\":\"immediate\",\"fromcurrent\":true,\"transition\":{\"duration\":0,\"easing\":\"linear\"}}],\"label\":\"15100.0\",\"method\":\"animate\"},{\"args\":[[\"15200.0\"],{\"frame\":{\"duration\":0,\"redraw\":true},\"mode\":\"immediate\",\"fromcurrent\":true,\"transition\":{\"duration\":0,\"easing\":\"linear\"}}],\"label\":\"15200.0\",\"method\":\"animate\"},{\"args\":[[\"15300.0\"],{\"frame\":{\"duration\":0,\"redraw\":true},\"mode\":\"immediate\",\"fromcurrent\":true,\"transition\":{\"duration\":0,\"easing\":\"linear\"}}],\"label\":\"15300.0\",\"method\":\"animate\"},{\"args\":[[\"15400.0\"],{\"frame\":{\"duration\":0,\"redraw\":true},\"mode\":\"immediate\",\"fromcurrent\":true,\"transition\":{\"duration\":0,\"easing\":\"linear\"}}],\"label\":\"15400.0\",\"method\":\"animate\"},{\"args\":[[\"15500.0\"],{\"frame\":{\"duration\":0,\"redraw\":true},\"mode\":\"immediate\",\"fromcurrent\":true,\"transition\":{\"duration\":0,\"easing\":\"linear\"}}],\"label\":\"15500.0\",\"method\":\"animate\"},{\"args\":[[\"15600.0\"],{\"frame\":{\"duration\":0,\"redraw\":true},\"mode\":\"immediate\",\"fromcurrent\":true,\"transition\":{\"duration\":0,\"easing\":\"linear\"}}],\"label\":\"15600.0\",\"method\":\"animate\"},{\"args\":[[\"15700.0\"],{\"frame\":{\"duration\":0,\"redraw\":true},\"mode\":\"immediate\",\"fromcurrent\":true,\"transition\":{\"duration\":0,\"easing\":\"linear\"}}],\"label\":\"15700.0\",\"method\":\"animate\"},{\"args\":[[\"15800.0\"],{\"frame\":{\"duration\":0,\"redraw\":true},\"mode\":\"immediate\",\"fromcurrent\":true,\"transition\":{\"duration\":0,\"easing\":\"linear\"}}],\"label\":\"15800.0\",\"method\":\"animate\"},{\"args\":[[\"15900.0\"],{\"frame\":{\"duration\":0,\"redraw\":true},\"mode\":\"immediate\",\"fromcurrent\":true,\"transition\":{\"duration\":0,\"easing\":\"linear\"}}],\"label\":\"15900.0\",\"method\":\"animate\"},{\"args\":[[\"16000.0\"],{\"frame\":{\"duration\":0,\"redraw\":true},\"mode\":\"immediate\",\"fromcurrent\":true,\"transition\":{\"duration\":0,\"easing\":\"linear\"}}],\"label\":\"16000.0\",\"method\":\"animate\"},{\"args\":[[\"16100.0\"],{\"frame\":{\"duration\":0,\"redraw\":true},\"mode\":\"immediate\",\"fromcurrent\":true,\"transition\":{\"duration\":0,\"easing\":\"linear\"}}],\"label\":\"16100.0\",\"method\":\"animate\"},{\"args\":[[\"16200.0\"],{\"frame\":{\"duration\":0,\"redraw\":true},\"mode\":\"immediate\",\"fromcurrent\":true,\"transition\":{\"duration\":0,\"easing\":\"linear\"}}],\"label\":\"16200.0\",\"method\":\"animate\"},{\"args\":[[\"16300.0\"],{\"frame\":{\"duration\":0,\"redraw\":true},\"mode\":\"immediate\",\"fromcurrent\":true,\"transition\":{\"duration\":0,\"easing\":\"linear\"}}],\"label\":\"16300.0\",\"method\":\"animate\"},{\"args\":[[\"16400.0\"],{\"frame\":{\"duration\":0,\"redraw\":true},\"mode\":\"immediate\",\"fromcurrent\":true,\"transition\":{\"duration\":0,\"easing\":\"linear\"}}],\"label\":\"16400.0\",\"method\":\"animate\"},{\"args\":[[\"16500.0\"],{\"frame\":{\"duration\":0,\"redraw\":true},\"mode\":\"immediate\",\"fromcurrent\":true,\"transition\":{\"duration\":0,\"easing\":\"linear\"}}],\"label\":\"16500.0\",\"method\":\"animate\"},{\"args\":[[\"16600.0\"],{\"frame\":{\"duration\":0,\"redraw\":true},\"mode\":\"immediate\",\"fromcurrent\":true,\"transition\":{\"duration\":0,\"easing\":\"linear\"}}],\"label\":\"16600.0\",\"method\":\"animate\"},{\"args\":[[\"16700.0\"],{\"frame\":{\"duration\":0,\"redraw\":true},\"mode\":\"immediate\",\"fromcurrent\":true,\"transition\":{\"duration\":0,\"easing\":\"linear\"}}],\"label\":\"16700.0\",\"method\":\"animate\"},{\"args\":[[\"16800.0\"],{\"frame\":{\"duration\":0,\"redraw\":true},\"mode\":\"immediate\",\"fromcurrent\":true,\"transition\":{\"duration\":0,\"easing\":\"linear\"}}],\"label\":\"16800.0\",\"method\":\"animate\"},{\"args\":[[\"16900.0\"],{\"frame\":{\"duration\":0,\"redraw\":true},\"mode\":\"immediate\",\"fromcurrent\":true,\"transition\":{\"duration\":0,\"easing\":\"linear\"}}],\"label\":\"16900.0\",\"method\":\"animate\"},{\"args\":[[\"17000.0\"],{\"frame\":{\"duration\":0,\"redraw\":true},\"mode\":\"immediate\",\"fromcurrent\":true,\"transition\":{\"duration\":0,\"easing\":\"linear\"}}],\"label\":\"17000.0\",\"method\":\"animate\"},{\"args\":[[\"17100.0\"],{\"frame\":{\"duration\":0,\"redraw\":true},\"mode\":\"immediate\",\"fromcurrent\":true,\"transition\":{\"duration\":0,\"easing\":\"linear\"}}],\"label\":\"17100.0\",\"method\":\"animate\"},{\"args\":[[\"17200.0\"],{\"frame\":{\"duration\":0,\"redraw\":true},\"mode\":\"immediate\",\"fromcurrent\":true,\"transition\":{\"duration\":0,\"easing\":\"linear\"}}],\"label\":\"17200.0\",\"method\":\"animate\"},{\"args\":[[\"17300.0\"],{\"frame\":{\"duration\":0,\"redraw\":true},\"mode\":\"immediate\",\"fromcurrent\":true,\"transition\":{\"duration\":0,\"easing\":\"linear\"}}],\"label\":\"17300.0\",\"method\":\"animate\"},{\"args\":[[\"17400.0\"],{\"frame\":{\"duration\":0,\"redraw\":true},\"mode\":\"immediate\",\"fromcurrent\":true,\"transition\":{\"duration\":0,\"easing\":\"linear\"}}],\"label\":\"17400.0\",\"method\":\"animate\"},{\"args\":[[\"17500.0\"],{\"frame\":{\"duration\":0,\"redraw\":true},\"mode\":\"immediate\",\"fromcurrent\":true,\"transition\":{\"duration\":0,\"easing\":\"linear\"}}],\"label\":\"17500.0\",\"method\":\"animate\"},{\"args\":[[\"17600.0\"],{\"frame\":{\"duration\":0,\"redraw\":true},\"mode\":\"immediate\",\"fromcurrent\":true,\"transition\":{\"duration\":0,\"easing\":\"linear\"}}],\"label\":\"17600.0\",\"method\":\"animate\"},{\"args\":[[\"17700.0\"],{\"frame\":{\"duration\":0,\"redraw\":true},\"mode\":\"immediate\",\"fromcurrent\":true,\"transition\":{\"duration\":0,\"easing\":\"linear\"}}],\"label\":\"17700.0\",\"method\":\"animate\"},{\"args\":[[\"17800.0\"],{\"frame\":{\"duration\":0,\"redraw\":true},\"mode\":\"immediate\",\"fromcurrent\":true,\"transition\":{\"duration\":0,\"easing\":\"linear\"}}],\"label\":\"17800.0\",\"method\":\"animate\"},{\"args\":[[\"17900.0\"],{\"frame\":{\"duration\":0,\"redraw\":true},\"mode\":\"immediate\",\"fromcurrent\":true,\"transition\":{\"duration\":0,\"easing\":\"linear\"}}],\"label\":\"17900.0\",\"method\":\"animate\"},{\"args\":[[\"18000.0\"],{\"frame\":{\"duration\":0,\"redraw\":true},\"mode\":\"immediate\",\"fromcurrent\":true,\"transition\":{\"duration\":0,\"easing\":\"linear\"}}],\"label\":\"18000.0\",\"method\":\"animate\"},{\"args\":[[\"18100.0\"],{\"frame\":{\"duration\":0,\"redraw\":true},\"mode\":\"immediate\",\"fromcurrent\":true,\"transition\":{\"duration\":0,\"easing\":\"linear\"}}],\"label\":\"18100.0\",\"method\":\"animate\"},{\"args\":[[\"18200.0\"],{\"frame\":{\"duration\":0,\"redraw\":true},\"mode\":\"immediate\",\"fromcurrent\":true,\"transition\":{\"duration\":0,\"easing\":\"linear\"}}],\"label\":\"18200.0\",\"method\":\"animate\"},{\"args\":[[\"18300.0\"],{\"frame\":{\"duration\":0,\"redraw\":true},\"mode\":\"immediate\",\"fromcurrent\":true,\"transition\":{\"duration\":0,\"easing\":\"linear\"}}],\"label\":\"18300.0\",\"method\":\"animate\"},{\"args\":[[\"18400.0\"],{\"frame\":{\"duration\":0,\"redraw\":true},\"mode\":\"immediate\",\"fromcurrent\":true,\"transition\":{\"duration\":0,\"easing\":\"linear\"}}],\"label\":\"18400.0\",\"method\":\"animate\"},{\"args\":[[\"18500.0\"],{\"frame\":{\"duration\":0,\"redraw\":true},\"mode\":\"immediate\",\"fromcurrent\":true,\"transition\":{\"duration\":0,\"easing\":\"linear\"}}],\"label\":\"18500.0\",\"method\":\"animate\"},{\"args\":[[\"18600.0\"],{\"frame\":{\"duration\":0,\"redraw\":true},\"mode\":\"immediate\",\"fromcurrent\":true,\"transition\":{\"duration\":0,\"easing\":\"linear\"}}],\"label\":\"18600.0\",\"method\":\"animate\"},{\"args\":[[\"18700.0\"],{\"frame\":{\"duration\":0,\"redraw\":true},\"mode\":\"immediate\",\"fromcurrent\":true,\"transition\":{\"duration\":0,\"easing\":\"linear\"}}],\"label\":\"18700.0\",\"method\":\"animate\"},{\"args\":[[\"18800.0\"],{\"frame\":{\"duration\":0,\"redraw\":true},\"mode\":\"immediate\",\"fromcurrent\":true,\"transition\":{\"duration\":0,\"easing\":\"linear\"}}],\"label\":\"18800.0\",\"method\":\"animate\"},{\"args\":[[\"18900.0\"],{\"frame\":{\"duration\":0,\"redraw\":true},\"mode\":\"immediate\",\"fromcurrent\":true,\"transition\":{\"duration\":0,\"easing\":\"linear\"}}],\"label\":\"18900.0\",\"method\":\"animate\"},{\"args\":[[\"19000.0\"],{\"frame\":{\"duration\":0,\"redraw\":true},\"mode\":\"immediate\",\"fromcurrent\":true,\"transition\":{\"duration\":0,\"easing\":\"linear\"}}],\"label\":\"19000.0\",\"method\":\"animate\"},{\"args\":[[\"19100.0\"],{\"frame\":{\"duration\":0,\"redraw\":true},\"mode\":\"immediate\",\"fromcurrent\":true,\"transition\":{\"duration\":0,\"easing\":\"linear\"}}],\"label\":\"19100.0\",\"method\":\"animate\"},{\"args\":[[\"19200.0\"],{\"frame\":{\"duration\":0,\"redraw\":true},\"mode\":\"immediate\",\"fromcurrent\":true,\"transition\":{\"duration\":0,\"easing\":\"linear\"}}],\"label\":\"19200.0\",\"method\":\"animate\"},{\"args\":[[\"19300.0\"],{\"frame\":{\"duration\":0,\"redraw\":true},\"mode\":\"immediate\",\"fromcurrent\":true,\"transition\":{\"duration\":0,\"easing\":\"linear\"}}],\"label\":\"19300.0\",\"method\":\"animate\"},{\"args\":[[\"19400.0\"],{\"frame\":{\"duration\":0,\"redraw\":true},\"mode\":\"immediate\",\"fromcurrent\":true,\"transition\":{\"duration\":0,\"easing\":\"linear\"}}],\"label\":\"19400.0\",\"method\":\"animate\"},{\"args\":[[\"19500.0\"],{\"frame\":{\"duration\":0,\"redraw\":true},\"mode\":\"immediate\",\"fromcurrent\":true,\"transition\":{\"duration\":0,\"easing\":\"linear\"}}],\"label\":\"19500.0\",\"method\":\"animate\"},{\"args\":[[\"19600.0\"],{\"frame\":{\"duration\":0,\"redraw\":true},\"mode\":\"immediate\",\"fromcurrent\":true,\"transition\":{\"duration\":0,\"easing\":\"linear\"}}],\"label\":\"19600.0\",\"method\":\"animate\"},{\"args\":[[\"19700.0\"],{\"frame\":{\"duration\":0,\"redraw\":true},\"mode\":\"immediate\",\"fromcurrent\":true,\"transition\":{\"duration\":0,\"easing\":\"linear\"}}],\"label\":\"19700.0\",\"method\":\"animate\"},{\"args\":[[\"19800.0\"],{\"frame\":{\"duration\":0,\"redraw\":true},\"mode\":\"immediate\",\"fromcurrent\":true,\"transition\":{\"duration\":0,\"easing\":\"linear\"}}],\"label\":\"19800.0\",\"method\":\"animate\"}],\"x\":0.1,\"xanchor\":\"left\",\"y\":0,\"yanchor\":\"top\"}]},                        {\"responsive\": true}                    ).then(function(){\n",
       "                            Plotly.addFrames('bf9466d8-4eed-40c9-ad20-17cb5ed2f4d6', [{\"data\":[{\"hovertemplate\":\"<b>%{hovertext}</b><br><br>type=path1_no_obstacle<br>timestep=0.0<br>size=%{marker.size}<br>lat=%{lat}<br>lon=%{lon}<extra></extra>\",\"hovertext\":[\"path1_no_obstacle\"],\"lat\":[38.5],\"legendgroup\":\"path1_no_obstacle\",\"lon\":[-174.0],\"marker\":{\"color\":\"#636efa\",\"size\":[5],\"sizemode\":\"area\",\"sizeref\":0.0125},\"mode\":\"markers\",\"name\":\"path1_no_obstacle\",\"showlegend\":true,\"subplot\":\"mapbox\",\"type\":\"scattermapbox\"},{\"hovertemplate\":\"<b>%{hovertext}</b><br><br>type=path1<br>timestep=0.0<br>size=%{marker.size}<br>lat=%{lat}<br>lon=%{lon}<extra></extra>\",\"hovertext\":[\"path1\"],\"lat\":[38.5],\"legendgroup\":\"path1\",\"lon\":[-174.0],\"marker\":{\"color\":\"#EF553B\",\"size\":[5],\"sizemode\":\"area\",\"sizeref\":0.0125},\"mode\":\"markers\",\"name\":\"path1\",\"showlegend\":true,\"subplot\":\"mapbox\",\"type\":\"scattermapbox\"}],\"name\":\"0.0\"},{\"data\":[{\"hovertemplate\":\"<b>%{hovertext}</b><br><br>type=path1_no_obstacle<br>timestep=100.0<br>size=%{marker.size}<br>lat=%{lat}<br>lon=%{lon}<extra></extra>\",\"hovertext\":[\"path1_no_obstacle\"],\"lat\":[38.5],\"legendgroup\":\"path1_no_obstacle\",\"lon\":[-175.1494252873563],\"marker\":{\"color\":\"#636efa\",\"size\":[5],\"sizemode\":\"area\",\"sizeref\":0.0125},\"mode\":\"markers\",\"name\":\"path1_no_obstacle\",\"showlegend\":true,\"subplot\":\"mapbox\",\"type\":\"scattermapbox\"},{\"hovertemplate\":\"<b>%{hovertext}</b><br><br>type=path1<br>timestep=100.0<br>size=%{marker.size}<br>lat=%{lat}<br>lon=%{lon}<extra></extra>\",\"hovertext\":[\"path1\"],\"lat\":[38.5],\"legendgroup\":\"path1\",\"lon\":[-175.1494252873563],\"marker\":{\"color\":\"#EF553B\",\"size\":[5],\"sizemode\":\"area\",\"sizeref\":0.0125},\"mode\":\"markers\",\"name\":\"path1\",\"showlegend\":true,\"subplot\":\"mapbox\",\"type\":\"scattermapbox\"}],\"name\":\"100.0\"},{\"data\":[{\"hovertemplate\":\"<b>%{hovertext}</b><br><br>type=path1_no_obstacle<br>timestep=200.0<br>size=%{marker.size}<br>lat=%{lat}<br>lon=%{lon}<extra></extra>\",\"hovertext\":[\"path1_no_obstacle\"],\"lat\":[38.5],\"legendgroup\":\"path1_no_obstacle\",\"lon\":[-176.29885057471265],\"marker\":{\"color\":\"#636efa\",\"size\":[5],\"sizemode\":\"area\",\"sizeref\":0.0125},\"mode\":\"markers\",\"name\":\"path1_no_obstacle\",\"showlegend\":true,\"subplot\":\"mapbox\",\"type\":\"scattermapbox\"},{\"hovertemplate\":\"<b>%{hovertext}</b><br><br>type=path1<br>timestep=200.0<br>size=%{marker.size}<br>lat=%{lat}<br>lon=%{lon}<extra></extra>\",\"hovertext\":[\"path1\"],\"lat\":[38.5],\"legendgroup\":\"path1\",\"lon\":[-176.29885057471265],\"marker\":{\"color\":\"#EF553B\",\"size\":[5],\"sizemode\":\"area\",\"sizeref\":0.0125},\"mode\":\"markers\",\"name\":\"path1\",\"showlegend\":true,\"subplot\":\"mapbox\",\"type\":\"scattermapbox\"}],\"name\":\"200.0\"},{\"data\":[{\"hovertemplate\":\"<b>%{hovertext}</b><br><br>type=path1_no_obstacle<br>timestep=300.0<br>size=%{marker.size}<br>lat=%{lat}<br>lon=%{lon}<extra></extra>\",\"hovertext\":[\"path1_no_obstacle\"],\"lat\":[38.5],\"legendgroup\":\"path1_no_obstacle\",\"lon\":[-177.44827586206895],\"marker\":{\"color\":\"#636efa\",\"size\":[5],\"sizemode\":\"area\",\"sizeref\":0.0125},\"mode\":\"markers\",\"name\":\"path1_no_obstacle\",\"showlegend\":true,\"subplot\":\"mapbox\",\"type\":\"scattermapbox\"},{\"hovertemplate\":\"<b>%{hovertext}</b><br><br>type=path1<br>timestep=300.0<br>size=%{marker.size}<br>lat=%{lat}<br>lon=%{lon}<extra></extra>\",\"hovertext\":[\"path1\"],\"lat\":[38.5],\"legendgroup\":\"path1\",\"lon\":[-177.44827586206895],\"marker\":{\"color\":\"#EF553B\",\"size\":[5],\"sizemode\":\"area\",\"sizeref\":0.0125},\"mode\":\"markers\",\"name\":\"path1\",\"showlegend\":true,\"subplot\":\"mapbox\",\"type\":\"scattermapbox\"}],\"name\":\"300.0\"},{\"data\":[{\"hovertemplate\":\"<b>%{hovertext}</b><br><br>type=path1_no_obstacle<br>timestep=400.0<br>size=%{marker.size}<br>lat=%{lat}<br>lon=%{lon}<extra></extra>\",\"hovertext\":[\"path1_no_obstacle\"],\"lat\":[38.5],\"legendgroup\":\"path1_no_obstacle\",\"lon\":[-178.5977011494253],\"marker\":{\"color\":\"#636efa\",\"size\":[5],\"sizemode\":\"area\",\"sizeref\":0.0125},\"mode\":\"markers\",\"name\":\"path1_no_obstacle\",\"showlegend\":true,\"subplot\":\"mapbox\",\"type\":\"scattermapbox\"},{\"hovertemplate\":\"<b>%{hovertext}</b><br><br>type=path1<br>timestep=400.0<br>size=%{marker.size}<br>lat=%{lat}<br>lon=%{lon}<extra></extra>\",\"hovertext\":[\"path1\"],\"lat\":[38.5],\"legendgroup\":\"path1\",\"lon\":[-178.5977011494253],\"marker\":{\"color\":\"#EF553B\",\"size\":[5],\"sizemode\":\"area\",\"sizeref\":0.0125},\"mode\":\"markers\",\"name\":\"path1\",\"showlegend\":true,\"subplot\":\"mapbox\",\"type\":\"scattermapbox\"}],\"name\":\"400.0\"},{\"data\":[{\"hovertemplate\":\"<b>%{hovertext}</b><br><br>type=path1_no_obstacle<br>timestep=500.0<br>size=%{marker.size}<br>lat=%{lat}<br>lon=%{lon}<extra></extra>\",\"hovertext\":[\"path1_no_obstacle\"],\"lat\":[38.5],\"legendgroup\":\"path1_no_obstacle\",\"lon\":[-179.7471264367816],\"marker\":{\"color\":\"#636efa\",\"size\":[5],\"sizemode\":\"area\",\"sizeref\":0.0125},\"mode\":\"markers\",\"name\":\"path1_no_obstacle\",\"showlegend\":true,\"subplot\":\"mapbox\",\"type\":\"scattermapbox\"},{\"hovertemplate\":\"<b>%{hovertext}</b><br><br>type=path1<br>timestep=500.0<br>size=%{marker.size}<br>lat=%{lat}<br>lon=%{lon}<extra></extra>\",\"hovertext\":[\"path1\"],\"lat\":[38.5],\"legendgroup\":\"path1\",\"lon\":[-179.7471264367816],\"marker\":{\"color\":\"#EF553B\",\"size\":[5],\"sizemode\":\"area\",\"sizeref\":0.0125},\"mode\":\"markers\",\"name\":\"path1\",\"showlegend\":true,\"subplot\":\"mapbox\",\"type\":\"scattermapbox\"}],\"name\":\"500.0\"},{\"data\":[{\"hovertemplate\":\"<b>%{hovertext}</b><br><br>type=path1_no_obstacle<br>timestep=600.0<br>size=%{marker.size}<br>lat=%{lat}<br>lon=%{lon}<extra></extra>\",\"hovertext\":[\"path1_no_obstacle\"],\"lat\":[38.5],\"legendgroup\":\"path1_no_obstacle\",\"lon\":[179.10344827586206],\"marker\":{\"color\":\"#636efa\",\"size\":[5],\"sizemode\":\"area\",\"sizeref\":0.0125},\"mode\":\"markers\",\"name\":\"path1_no_obstacle\",\"showlegend\":true,\"subplot\":\"mapbox\",\"type\":\"scattermapbox\"},{\"hovertemplate\":\"<b>%{hovertext}</b><br><br>type=path1<br>timestep=600.0<br>size=%{marker.size}<br>lat=%{lat}<br>lon=%{lon}<extra></extra>\",\"hovertext\":[\"path1\"],\"lat\":[38.5],\"legendgroup\":\"path1\",\"lon\":[179.10344827586206],\"marker\":{\"color\":\"#EF553B\",\"size\":[5],\"sizemode\":\"area\",\"sizeref\":0.0125},\"mode\":\"markers\",\"name\":\"path1\",\"showlegend\":true,\"subplot\":\"mapbox\",\"type\":\"scattermapbox\"}],\"name\":\"600.0\"},{\"data\":[{\"hovertemplate\":\"<b>%{hovertext}</b><br><br>type=path1_no_obstacle<br>timestep=700.0<br>size=%{marker.size}<br>lat=%{lat}<br>lon=%{lon}<extra></extra>\",\"hovertext\":[\"path1_no_obstacle\"],\"lat\":[38.5],\"legendgroup\":\"path1_no_obstacle\",\"lon\":[177.95402298850576],\"marker\":{\"color\":\"#636efa\",\"size\":[5],\"sizemode\":\"area\",\"sizeref\":0.0125},\"mode\":\"markers\",\"name\":\"path1_no_obstacle\",\"showlegend\":true,\"subplot\":\"mapbox\",\"type\":\"scattermapbox\"},{\"hovertemplate\":\"<b>%{hovertext}</b><br><br>type=path1<br>timestep=700.0<br>size=%{marker.size}<br>lat=%{lat}<br>lon=%{lon}<extra></extra>\",\"hovertext\":[\"path1\"],\"lat\":[38.47173144876325],\"legendgroup\":\"path1\",\"lon\":[177.97173144876325],\"marker\":{\"color\":\"#EF553B\",\"size\":[5],\"sizemode\":\"area\",\"sizeref\":0.0125},\"mode\":\"markers\",\"name\":\"path1\",\"showlegend\":true,\"subplot\":\"mapbox\",\"type\":\"scattermapbox\"}],\"name\":\"700.0\"},{\"data\":[{\"hovertemplate\":\"<b>%{hovertext}</b><br><br>type=path1_no_obstacle<br>timestep=800.0<br>size=%{marker.size}<br>lat=%{lat}<br>lon=%{lon}<extra></extra>\",\"hovertext\":[\"path1_no_obstacle\"],\"lat\":[38.5],\"legendgroup\":\"path1_no_obstacle\",\"lon\":[176.80459770114942],\"marker\":{\"color\":\"#636efa\",\"size\":[5],\"sizemode\":\"area\",\"sizeref\":0.0125},\"mode\":\"markers\",\"name\":\"path1_no_obstacle\",\"showlegend\":true,\"subplot\":\"mapbox\",\"type\":\"scattermapbox\"},{\"hovertemplate\":\"<b>%{hovertext}</b><br><br>type=path1<br>timestep=800.0<br>size=%{marker.size}<br>lat=%{lat}<br>lon=%{lon}<extra></extra>\",\"hovertext\":[\"path1\"],\"lat\":[37.765017667844525],\"legendgroup\":\"path1\",\"lon\":[177.26501766784452],\"marker\":{\"color\":\"#EF553B\",\"size\":[5],\"sizemode\":\"area\",\"sizeref\":0.0125},\"mode\":\"markers\",\"name\":\"path1\",\"showlegend\":true,\"subplot\":\"mapbox\",\"type\":\"scattermapbox\"}],\"name\":\"800.0\"},{\"data\":[{\"hovertemplate\":\"<b>%{hovertext}</b><br><br>type=path1_no_obstacle<br>timestep=900.0<br>size=%{marker.size}<br>lat=%{lat}<br>lon=%{lon}<extra></extra>\",\"hovertext\":[\"path1_no_obstacle\"],\"lat\":[38.5],\"legendgroup\":\"path1_no_obstacle\",\"lon\":[175.6551724137931],\"marker\":{\"color\":\"#636efa\",\"size\":[5],\"sizemode\":\"area\",\"sizeref\":0.0125},\"mode\":\"markers\",\"name\":\"path1_no_obstacle\",\"showlegend\":true,\"subplot\":\"mapbox\",\"type\":\"scattermapbox\"},{\"hovertemplate\":\"<b>%{hovertext}</b><br><br>type=path1<br>timestep=900.0<br>size=%{marker.size}<br>lat=%{lat}<br>lon=%{lon}<extra></extra>\",\"hovertext\":[\"path1\"],\"lat\":[37.05830388692579],\"legendgroup\":\"path1\",\"lon\":[176.55830388692578],\"marker\":{\"color\":\"#EF553B\",\"size\":[5],\"sizemode\":\"area\",\"sizeref\":0.0125},\"mode\":\"markers\",\"name\":\"path1\",\"showlegend\":true,\"subplot\":\"mapbox\",\"type\":\"scattermapbox\"}],\"name\":\"900.0\"},{\"data\":[{\"hovertemplate\":\"<b>%{hovertext}</b><br><br>type=path1_no_obstacle<br>timestep=1000.0<br>size=%{marker.size}<br>lat=%{lat}<br>lon=%{lon}<extra></extra>\",\"hovertext\":[\"path1_no_obstacle\"],\"lat\":[38.5],\"legendgroup\":\"path1_no_obstacle\",\"lon\":[174.50574712643677],\"marker\":{\"color\":\"#636efa\",\"size\":[5],\"sizemode\":\"area\",\"sizeref\":0.0125},\"mode\":\"markers\",\"name\":\"path1_no_obstacle\",\"showlegend\":true,\"subplot\":\"mapbox\",\"type\":\"scattermapbox\"},{\"hovertemplate\":\"<b>%{hovertext}</b><br><br>type=path1<br>timestep=1000.0<br>size=%{marker.size}<br>lat=%{lat}<br>lon=%{lon}<extra></extra>\",\"hovertext\":[\"path1\"],\"lat\":[36.35314685314685],\"legendgroup\":\"path1\",\"lon\":[175.85314685314685],\"marker\":{\"color\":\"#EF553B\",\"size\":[5],\"sizemode\":\"area\",\"sizeref\":0.0125},\"mode\":\"markers\",\"name\":\"path1\",\"showlegend\":true,\"subplot\":\"mapbox\",\"type\":\"scattermapbox\"}],\"name\":\"1000.0\"},{\"data\":[{\"hovertemplate\":\"<b>%{hovertext}</b><br><br>type=path1_no_obstacle<br>timestep=1100.0<br>size=%{marker.size}<br>lat=%{lat}<br>lon=%{lon}<extra></extra>\",\"hovertext\":[\"path1_no_obstacle\"],\"lat\":[38.10424028268551],\"legendgroup\":\"path1_no_obstacle\",\"lon\":[173.6042402826855],\"marker\":{\"color\":\"#636efa\",\"size\":[5],\"sizemode\":\"area\",\"sizeref\":0.0125},\"mode\":\"markers\",\"name\":\"path1_no_obstacle\",\"showlegend\":true,\"subplot\":\"mapbox\",\"type\":\"scattermapbox\"},{\"hovertemplate\":\"<b>%{hovertext}</b><br><br>type=path1<br>timestep=1100.0<br>size=%{marker.size}<br>lat=%{lat}<br>lon=%{lon}<extra></extra>\",\"hovertext\":[\"path1\"],\"lat\":[35.65384615384615],\"legendgroup\":\"path1\",\"lon\":[175.15384615384616],\"marker\":{\"color\":\"#EF553B\",\"size\":[5],\"sizemode\":\"area\",\"sizeref\":0.0125},\"mode\":\"markers\",\"name\":\"path1\",\"showlegend\":true,\"subplot\":\"mapbox\",\"type\":\"scattermapbox\"}],\"name\":\"1100.0\"},{\"data\":[{\"hovertemplate\":\"<b>%{hovertext}</b><br><br>type=path1_no_obstacle<br>timestep=1200.0<br>size=%{marker.size}<br>lat=%{lat}<br>lon=%{lon}<extra></extra>\",\"hovertext\":[\"path1_no_obstacle\"],\"lat\":[37.397526501766784],\"legendgroup\":\"path1_no_obstacle\",\"lon\":[172.89752650176678],\"marker\":{\"color\":\"#636efa\",\"size\":[5],\"sizemode\":\"area\",\"sizeref\":0.0125},\"mode\":\"markers\",\"name\":\"path1_no_obstacle\",\"showlegend\":true,\"subplot\":\"mapbox\",\"type\":\"scattermapbox\"},{\"hovertemplate\":\"<b>%{hovertext}</b><br><br>type=path1<br>timestep=1200.0<br>size=%{marker.size}<br>lat=%{lat}<br>lon=%{lon}<extra></extra>\",\"hovertext\":[\"path1\"],\"lat\":[34.95454545454545],\"legendgroup\":\"path1\",\"lon\":[174.45454545454547],\"marker\":{\"color\":\"#EF553B\",\"size\":[5],\"sizemode\":\"area\",\"sizeref\":0.0125},\"mode\":\"markers\",\"name\":\"path1\",\"showlegend\":true,\"subplot\":\"mapbox\",\"type\":\"scattermapbox\"}],\"name\":\"1200.0\"},{\"data\":[{\"hovertemplate\":\"<b>%{hovertext}</b><br><br>type=path1_no_obstacle<br>timestep=1300.0<br>size=%{marker.size}<br>lat=%{lat}<br>lon=%{lon}<extra></extra>\",\"hovertext\":[\"path1_no_obstacle\"],\"lat\":[36.69081272084806],\"legendgroup\":\"path1_no_obstacle\",\"lon\":[172.19081272084804],\"marker\":{\"color\":\"#636efa\",\"size\":[5],\"sizemode\":\"area\",\"sizeref\":0.0125},\"mode\":\"markers\",\"name\":\"path1_no_obstacle\",\"showlegend\":true,\"subplot\":\"mapbox\",\"type\":\"scattermapbox\"},{\"hovertemplate\":\"<b>%{hovertext}</b><br><br>type=path1<br>timestep=1300.0<br>size=%{marker.size}<br>lat=%{lat}<br>lon=%{lon}<extra></extra>\",\"hovertext\":[\"path1\"],\"lat\":[34.5],\"legendgroup\":\"path1\",\"lon\":[173.74452554744525],\"marker\":{\"color\":\"#EF553B\",\"size\":[5],\"sizemode\":\"area\",\"sizeref\":0.0125},\"mode\":\"markers\",\"name\":\"path1\",\"showlegend\":true,\"subplot\":\"mapbox\",\"type\":\"scattermapbox\"}],\"name\":\"1300.0\"},{\"data\":[{\"hovertemplate\":\"<b>%{hovertext}</b><br><br>type=path1_no_obstacle<br>timestep=1400.0<br>size=%{marker.size}<br>lat=%{lat}<br>lon=%{lon}<extra></extra>\",\"hovertext\":[\"path1_no_obstacle\"],\"lat\":[35.98951048951049],\"legendgroup\":\"path1_no_obstacle\",\"lon\":[171.48951048951048],\"marker\":{\"color\":\"#636efa\",\"size\":[5],\"sizemode\":\"area\",\"sizeref\":0.0125},\"mode\":\"markers\",\"name\":\"path1_no_obstacle\",\"showlegend\":true,\"subplot\":\"mapbox\",\"type\":\"scattermapbox\"},{\"hovertemplate\":\"<b>%{hovertext}</b><br><br>type=path1<br>timestep=1400.0<br>size=%{marker.size}<br>lat=%{lat}<br>lon=%{lon}<extra></extra>\",\"hovertext\":[\"path1\"],\"lat\":[34.5],\"legendgroup\":\"path1\",\"lon\":[173.01459854014598],\"marker\":{\"color\":\"#EF553B\",\"size\":[5],\"sizemode\":\"area\",\"sizeref\":0.0125},\"mode\":\"markers\",\"name\":\"path1\",\"showlegend\":true,\"subplot\":\"mapbox\",\"type\":\"scattermapbox\"}],\"name\":\"1400.0\"},{\"data\":[{\"hovertemplate\":\"<b>%{hovertext}</b><br><br>type=path1_no_obstacle<br>timestep=1500.0<br>size=%{marker.size}<br>lat=%{lat}<br>lon=%{lon}<extra></extra>\",\"hovertext\":[\"path1_no_obstacle\"],\"lat\":[35.29020979020979],\"legendgroup\":\"path1_no_obstacle\",\"lon\":[170.7902097902098],\"marker\":{\"color\":\"#636efa\",\"size\":[5],\"sizemode\":\"area\",\"sizeref\":0.0125},\"mode\":\"markers\",\"name\":\"path1_no_obstacle\",\"showlegend\":true,\"subplot\":\"mapbox\",\"type\":\"scattermapbox\"},{\"hovertemplate\":\"<b>%{hovertext}</b><br><br>type=path1<br>timestep=1500.0<br>size=%{marker.size}<br>lat=%{lat}<br>lon=%{lon}<extra></extra>\",\"hovertext\":[\"path1\"],\"lat\":[34.5],\"legendgroup\":\"path1\",\"lon\":[172.28467153284672],\"marker\":{\"color\":\"#EF553B\",\"size\":[5],\"sizemode\":\"area\",\"sizeref\":0.0125},\"mode\":\"markers\",\"name\":\"path1\",\"showlegend\":true,\"subplot\":\"mapbox\",\"type\":\"scattermapbox\"}],\"name\":\"1500.0\"},{\"data\":[{\"hovertemplate\":\"<b>%{hovertext}</b><br><br>type=path1_no_obstacle<br>timestep=1600.0<br>size=%{marker.size}<br>lat=%{lat}<br>lon=%{lon}<extra></extra>\",\"hovertext\":[\"path1_no_obstacle\"],\"lat\":[34.59090909090909],\"legendgroup\":\"path1_no_obstacle\",\"lon\":[170.0909090909091],\"marker\":{\"color\":\"#636efa\",\"size\":[5],\"sizemode\":\"area\",\"sizeref\":0.0125},\"mode\":\"markers\",\"name\":\"path1_no_obstacle\",\"showlegend\":true,\"subplot\":\"mapbox\",\"type\":\"scattermapbox\"},{\"hovertemplate\":\"<b>%{hovertext}</b><br><br>type=path1<br>timestep=1600.0<br>size=%{marker.size}<br>lat=%{lat}<br>lon=%{lon}<extra></extra>\",\"hovertext\":[\"path1\"],\"lat\":[34.5],\"legendgroup\":\"path1\",\"lon\":[171.55474452554745],\"marker\":{\"color\":\"#EF553B\",\"size\":[5],\"sizemode\":\"area\",\"sizeref\":0.0125},\"mode\":\"markers\",\"name\":\"path1\",\"showlegend\":true,\"subplot\":\"mapbox\",\"type\":\"scattermapbox\"}],\"name\":\"1600.0\"},{\"data\":[{\"hovertemplate\":\"<b>%{hovertext}</b><br><br>type=path1_no_obstacle<br>timestep=1700.0<br>size=%{marker.size}<br>lat=%{lat}<br>lon=%{lon}<extra></extra>\",\"hovertext\":[\"path1_no_obstacle\"],\"lat\":[33.897923875432525],\"legendgroup\":\"path1_no_obstacle\",\"lon\":[169.39792387543253],\"marker\":{\"color\":\"#636efa\",\"size\":[5],\"sizemode\":\"area\",\"sizeref\":0.0125},\"mode\":\"markers\",\"name\":\"path1_no_obstacle\",\"showlegend\":true,\"subplot\":\"mapbox\",\"type\":\"scattermapbox\"},{\"hovertemplate\":\"<b>%{hovertext}</b><br><br>type=path1<br>timestep=1700.0<br>size=%{marker.size}<br>lat=%{lat}<br>lon=%{lon}<extra></extra>\",\"hovertext\":[\"path1\"],\"lat\":[34.5],\"legendgroup\":\"path1\",\"lon\":[170.82481751824818],\"marker\":{\"color\":\"#EF553B\",\"size\":[5],\"sizemode\":\"area\",\"sizeref\":0.0125},\"mode\":\"markers\",\"name\":\"path1\",\"showlegend\":true,\"subplot\":\"mapbox\",\"type\":\"scattermapbox\"}],\"name\":\"1700.0\"},{\"data\":[{\"hovertemplate\":\"<b>%{hovertext}</b><br><br>type=path1_no_obstacle<br>timestep=1800.0<br>size=%{marker.size}<br>lat=%{lat}<br>lon=%{lon}<extra></extra>\",\"hovertext\":[\"path1_no_obstacle\"],\"lat\":[33.205882352941174],\"legendgroup\":\"path1_no_obstacle\",\"lon\":[168.7058823529412],\"marker\":{\"color\":\"#636efa\",\"size\":[5],\"sizemode\":\"area\",\"sizeref\":0.0125},\"mode\":\"markers\",\"name\":\"path1_no_obstacle\",\"showlegend\":true,\"subplot\":\"mapbox\",\"type\":\"scattermapbox\"},{\"hovertemplate\":\"<b>%{hovertext}</b><br><br>type=path1<br>timestep=1800.0<br>size=%{marker.size}<br>lat=%{lat}<br>lon=%{lon}<extra></extra>\",\"hovertext\":[\"path1\"],\"lat\":[34.5],\"legendgroup\":\"path1\",\"lon\":[170.09489051094891],\"marker\":{\"color\":\"#EF553B\",\"size\":[5],\"sizemode\":\"area\",\"sizeref\":0.0125},\"mode\":\"markers\",\"name\":\"path1\",\"showlegend\":true,\"subplot\":\"mapbox\",\"type\":\"scattermapbox\"}],\"name\":\"1800.0\"},{\"data\":[{\"hovertemplate\":\"<b>%{hovertext}</b><br><br>type=path1_no_obstacle<br>timestep=1900.0<br>size=%{marker.size}<br>lat=%{lat}<br>lon=%{lon}<extra></extra>\",\"hovertext\":[\"path1_no_obstacle\"],\"lat\":[32.51384083044983],\"legendgroup\":\"path1_no_obstacle\",\"lon\":[168.01384083044982],\"marker\":{\"color\":\"#636efa\",\"size\":[5],\"sizemode\":\"area\",\"sizeref\":0.0125},\"mode\":\"markers\",\"name\":\"path1_no_obstacle\",\"showlegend\":true,\"subplot\":\"mapbox\",\"type\":\"scattermapbox\"},{\"hovertemplate\":\"<b>%{hovertext}</b><br><br>type=path1<br>timestep=1900.0<br>size=%{marker.size}<br>lat=%{lat}<br>lon=%{lon}<extra></extra>\",\"hovertext\":[\"path1\"],\"lat\":[34.09907834101382],\"legendgroup\":\"path1\",\"lon\":[169.59907834101384],\"marker\":{\"color\":\"#EF553B\",\"size\":[5],\"sizemode\":\"area\",\"sizeref\":0.0125},\"mode\":\"markers\",\"name\":\"path1\",\"showlegend\":true,\"subplot\":\"mapbox\",\"type\":\"scattermapbox\"}],\"name\":\"1900.0\"},{\"data\":[{\"hovertemplate\":\"<b>%{hovertext}</b><br><br>type=path1_no_obstacle<br>timestep=2000.0<br>size=%{marker.size}<br>lat=%{lat}<br>lon=%{lon}<extra></extra>\",\"hovertext\":[\"path1_no_obstacle\"],\"lat\":[31.82876712328768],\"legendgroup\":\"path1_no_obstacle\",\"lon\":[167.32876712328766],\"marker\":{\"color\":\"#636efa\",\"size\":[5],\"sizemode\":\"area\",\"sizeref\":0.0125},\"mode\":\"markers\",\"name\":\"path1_no_obstacle\",\"showlegend\":true,\"subplot\":\"mapbox\",\"type\":\"scattermapbox\"},{\"hovertemplate\":\"<b>%{hovertext}</b><br><br>type=path1<br>timestep=2000.0<br>size=%{marker.size}<br>lat=%{lat}<br>lon=%{lon}<extra></extra>\",\"hovertext\":[\"path1\"],\"lat\":[33.63824884792627],\"legendgroup\":\"path1\",\"lon\":[169.13824884792626],\"marker\":{\"color\":\"#EF553B\",\"size\":[5],\"sizemode\":\"area\",\"sizeref\":0.0125},\"mode\":\"markers\",\"name\":\"path1\",\"showlegend\":true,\"subplot\":\"mapbox\",\"type\":\"scattermapbox\"}],\"name\":\"2000.0\"},{\"data\":[{\"hovertemplate\":\"<b>%{hovertext}</b><br><br>type=path1_no_obstacle<br>timestep=2100.0<br>size=%{marker.size}<br>lat=%{lat}<br>lon=%{lon}<extra></extra>\",\"hovertext\":[\"path1_no_obstacle\"],\"lat\":[31.14383561643836],\"legendgroup\":\"path1_no_obstacle\",\"lon\":[166.64383561643837],\"marker\":{\"color\":\"#636efa\",\"size\":[5],\"sizemode\":\"area\",\"sizeref\":0.0125},\"mode\":\"markers\",\"name\":\"path1_no_obstacle\",\"showlegend\":true,\"subplot\":\"mapbox\",\"type\":\"scattermapbox\"},{\"hovertemplate\":\"<b>%{hovertext}</b><br><br>type=path1<br>timestep=2100.0<br>size=%{marker.size}<br>lat=%{lat}<br>lon=%{lon}<extra></extra>\",\"hovertext\":[\"path1\"],\"lat\":[33.17741935483871],\"legendgroup\":\"path1\",\"lon\":[168.67741935483872],\"marker\":{\"color\":\"#EF553B\",\"size\":[5],\"sizemode\":\"area\",\"sizeref\":0.0125},\"mode\":\"markers\",\"name\":\"path1\",\"showlegend\":true,\"subplot\":\"mapbox\",\"type\":\"scattermapbox\"}],\"name\":\"2100.0\"},{\"data\":[{\"hovertemplate\":\"<b>%{hovertext}</b><br><br>type=path1_no_obstacle<br>timestep=2200.0<br>size=%{marker.size}<br>lat=%{lat}<br>lon=%{lon}<extra></extra>\",\"hovertext\":[\"path1_no_obstacle\"],\"lat\":[30.459183673469383],\"legendgroup\":\"path1_no_obstacle\",\"lon\":[165.9591836734694],\"marker\":{\"color\":\"#636efa\",\"size\":[5],\"sizemode\":\"area\",\"sizeref\":0.0125},\"mode\":\"markers\",\"name\":\"path1_no_obstacle\",\"showlegend\":true,\"subplot\":\"mapbox\",\"type\":\"scattermapbox\"},{\"hovertemplate\":\"<b>%{hovertext}</b><br><br>type=path1<br>timestep=2200.0<br>size=%{marker.size}<br>lat=%{lat}<br>lon=%{lon}<extra></extra>\",\"hovertext\":[\"path1\"],\"lat\":[32.71658986175115],\"legendgroup\":\"path1\",\"lon\":[168.21658986175115],\"marker\":{\"color\":\"#EF553B\",\"size\":[5],\"sizemode\":\"area\",\"sizeref\":0.0125},\"mode\":\"markers\",\"name\":\"path1\",\"showlegend\":true,\"subplot\":\"mapbox\",\"type\":\"scattermapbox\"}],\"name\":\"2200.0\"},{\"data\":[{\"hovertemplate\":\"<b>%{hovertext}</b><br><br>type=path1_no_obstacle<br>timestep=2300.0<br>size=%{marker.size}<br>lat=%{lat}<br>lon=%{lon}<extra></extra>\",\"hovertext\":[\"path1_no_obstacle\"],\"lat\":[29.77891156462585],\"legendgroup\":\"path1_no_obstacle\",\"lon\":[165.27891156462584],\"marker\":{\"color\":\"#636efa\",\"size\":[5],\"sizemode\":\"area\",\"sizeref\":0.0125},\"mode\":\"markers\",\"name\":\"path1_no_obstacle\",\"showlegend\":true,\"subplot\":\"mapbox\",\"type\":\"scattermapbox\"},{\"hovertemplate\":\"<b>%{hovertext}</b><br><br>type=path1<br>timestep=2300.0<br>size=%{marker.size}<br>lat=%{lat}<br>lon=%{lon}<extra></extra>\",\"hovertext\":[\"path1\"],\"lat\":[32.257990867579906],\"legendgroup\":\"path1\",\"lon\":[167.7579908675799],\"marker\":{\"color\":\"#EF553B\",\"size\":[5],\"sizemode\":\"area\",\"sizeref\":0.0125},\"mode\":\"markers\",\"name\":\"path1\",\"showlegend\":true,\"subplot\":\"mapbox\",\"type\":\"scattermapbox\"}],\"name\":\"2300.0\"},{\"data\":[{\"hovertemplate\":\"<b>%{hovertext}</b><br><br>type=path1_no_obstacle<br>timestep=2400.0<br>size=%{marker.size}<br>lat=%{lat}<br>lon=%{lon}<extra></extra>\",\"hovertext\":[\"path1_no_obstacle\"],\"lat\":[29.098639455782312],\"legendgroup\":\"path1_no_obstacle\",\"lon\":[164.59863945578232],\"marker\":{\"color\":\"#636efa\",\"size\":[5],\"sizemode\":\"area\",\"sizeref\":0.0125},\"mode\":\"markers\",\"name\":\"path1_no_obstacle\",\"showlegend\":true,\"subplot\":\"mapbox\",\"type\":\"scattermapbox\"},{\"hovertemplate\":\"<b>%{hovertext}</b><br><br>type=path1<br>timestep=2400.0<br>size=%{marker.size}<br>lat=%{lat}<br>lon=%{lon}<extra></extra>\",\"hovertext\":[\"path1\"],\"lat\":[31.801369863013697],\"legendgroup\":\"path1\",\"lon\":[167.3013698630137],\"marker\":{\"color\":\"#EF553B\",\"size\":[5],\"sizemode\":\"area\",\"sizeref\":0.0125},\"mode\":\"markers\",\"name\":\"path1\",\"showlegend\":true,\"subplot\":\"mapbox\",\"type\":\"scattermapbox\"}],\"name\":\"2400.0\"},{\"data\":[{\"hovertemplate\":\"<b>%{hovertext}</b><br><br>type=path1_no_obstacle<br>timestep=2500.0<br>size=%{marker.size}<br>lat=%{lat}<br>lon=%{lon}<extra></extra>\",\"hovertext\":[\"path1_no_obstacle\"],\"lat\":[28.41919191919192],\"legendgroup\":\"path1_no_obstacle\",\"lon\":[163.91919191919192],\"marker\":{\"color\":\"#636efa\",\"size\":[5],\"sizemode\":\"area\",\"sizeref\":0.0125},\"mode\":\"markers\",\"name\":\"path1_no_obstacle\",\"showlegend\":true,\"subplot\":\"mapbox\",\"type\":\"scattermapbox\"},{\"hovertemplate\":\"<b>%{hovertext}</b><br><br>type=path1<br>timestep=2500.0<br>size=%{marker.size}<br>lat=%{lat}<br>lon=%{lon}<extra></extra>\",\"hovertext\":[\"path1\"],\"lat\":[31.34474885844749],\"legendgroup\":\"path1\",\"lon\":[166.8447488584475],\"marker\":{\"color\":\"#EF553B\",\"size\":[5],\"sizemode\":\"area\",\"sizeref\":0.0125},\"mode\":\"markers\",\"name\":\"path1\",\"showlegend\":true,\"subplot\":\"mapbox\",\"type\":\"scattermapbox\"}],\"name\":\"2500.0\"},{\"data\":[{\"hovertemplate\":\"<b>%{hovertext}</b><br><br>type=path1_no_obstacle<br>timestep=2600.0<br>size=%{marker.size}<br>lat=%{lat}<br>lon=%{lon}<extra></extra>\",\"hovertext\":[\"path1_no_obstacle\"],\"lat\":[27.74579124579125],\"legendgroup\":\"path1_no_obstacle\",\"lon\":[163.24579124579125],\"marker\":{\"color\":\"#636efa\",\"size\":[5],\"sizemode\":\"area\",\"sizeref\":0.0125},\"mode\":\"markers\",\"name\":\"path1_no_obstacle\",\"showlegend\":true,\"subplot\":\"mapbox\",\"type\":\"scattermapbox\"},{\"hovertemplate\":\"<b>%{hovertext}</b><br><br>type=path1<br>timestep=2600.0<br>size=%{marker.size}<br>lat=%{lat}<br>lon=%{lon}<extra></extra>\",\"hovertext\":[\"path1\"],\"lat\":[30.88812785388128],\"legendgroup\":\"path1\",\"lon\":[166.3881278538813],\"marker\":{\"color\":\"#EF553B\",\"size\":[5],\"sizemode\":\"area\",\"sizeref\":0.0125},\"mode\":\"markers\",\"name\":\"path1\",\"showlegend\":true,\"subplot\":\"mapbox\",\"type\":\"scattermapbox\"}],\"name\":\"2600.0\"},{\"data\":[{\"hovertemplate\":\"<b>%{hovertext}</b><br><br>type=path1_no_obstacle<br>timestep=2700.0<br>size=%{marker.size}<br>lat=%{lat}<br>lon=%{lon}<extra></extra>\",\"hovertext\":[\"path1_no_obstacle\"],\"lat\":[27.07239057239057],\"legendgroup\":\"path1_no_obstacle\",\"lon\":[162.57239057239056],\"marker\":{\"color\":\"#636efa\",\"size\":[5],\"sizemode\":\"area\",\"sizeref\":0.0125},\"mode\":\"markers\",\"name\":\"path1_no_obstacle\",\"showlegend\":true,\"subplot\":\"mapbox\",\"type\":\"scattermapbox\"},{\"hovertemplate\":\"<b>%{hovertext}</b><br><br>type=path1<br>timestep=2700.0<br>size=%{marker.size}<br>lat=%{lat}<br>lon=%{lon}<extra></extra>\",\"hovertext\":[\"path1\"],\"lat\":[30.43212669683258],\"legendgroup\":\"path1\",\"lon\":[165.93212669683257],\"marker\":{\"color\":\"#EF553B\",\"size\":[5],\"sizemode\":\"area\",\"sizeref\":0.0125},\"mode\":\"markers\",\"name\":\"path1\",\"showlegend\":true,\"subplot\":\"mapbox\",\"type\":\"scattermapbox\"}],\"name\":\"2700.0\"},{\"data\":[{\"hovertemplate\":\"<b>%{hovertext}</b><br><br>type=path1_no_obstacle<br>timestep=2800.0<br>size=%{marker.size}<br>lat=%{lat}<br>lon=%{lon}<extra></extra>\",\"hovertext\":[\"path1_no_obstacle\"],\"lat\":[26.399665551839465],\"legendgroup\":\"path1_no_obstacle\",\"lon\":[161.89966555183946],\"marker\":{\"color\":\"#636efa\",\"size\":[5],\"sizemode\":\"area\",\"sizeref\":0.0125},\"mode\":\"markers\",\"name\":\"path1_no_obstacle\",\"showlegend\":true,\"subplot\":\"mapbox\",\"type\":\"scattermapbox\"},{\"hovertemplate\":\"<b>%{hovertext}</b><br><br>type=path1<br>timestep=2800.0<br>size=%{marker.size}<br>lat=%{lat}<br>lon=%{lon}<extra></extra>\",\"hovertext\":[\"path1\"],\"lat\":[29.97963800904977],\"legendgroup\":\"path1\",\"lon\":[165.47963800904978],\"marker\":{\"color\":\"#EF553B\",\"size\":[5],\"sizemode\":\"area\",\"sizeref\":0.0125},\"mode\":\"markers\",\"name\":\"path1\",\"showlegend\":true,\"subplot\":\"mapbox\",\"type\":\"scattermapbox\"}],\"name\":\"2800.0\"},{\"data\":[{\"hovertemplate\":\"<b>%{hovertext}</b><br><br>type=path1_no_obstacle<br>timestep=2900.0<br>size=%{marker.size}<br>lat=%{lat}<br>lon=%{lon}<extra></extra>\",\"hovertext\":[\"path1_no_obstacle\"],\"lat\":[25.73076923076923],\"legendgroup\":\"path1_no_obstacle\",\"lon\":[161.23076923076923],\"marker\":{\"color\":\"#636efa\",\"size\":[5],\"sizemode\":\"area\",\"sizeref\":0.0125},\"mode\":\"markers\",\"name\":\"path1_no_obstacle\",\"showlegend\":true,\"subplot\":\"mapbox\",\"type\":\"scattermapbox\"},{\"hovertemplate\":\"<b>%{hovertext}</b><br><br>type=path1<br>timestep=2900.0<br>size=%{marker.size}<br>lat=%{lat}<br>lon=%{lon}<extra></extra>\",\"hovertext\":[\"path1\"],\"lat\":[29.52714932126697],\"legendgroup\":\"path1\",\"lon\":[165.02714932126696],\"marker\":{\"color\":\"#EF553B\",\"size\":[5],\"sizemode\":\"area\",\"sizeref\":0.0125},\"mode\":\"markers\",\"name\":\"path1\",\"showlegend\":true,\"subplot\":\"mapbox\",\"type\":\"scattermapbox\"}],\"name\":\"2900.0\"},{\"data\":[{\"hovertemplate\":\"<b>%{hovertext}</b><br><br>type=path1_no_obstacle<br>timestep=3000.0<br>size=%{marker.size}<br>lat=%{lat}<br>lon=%{lon}<extra></extra>\",\"hovertext\":[\"path1_no_obstacle\"],\"lat\":[25.061872909699],\"legendgroup\":\"path1_no_obstacle\",\"lon\":[160.561872909699],\"marker\":{\"color\":\"#636efa\",\"size\":[5],\"sizemode\":\"area\",\"sizeref\":0.0125},\"mode\":\"markers\",\"name\":\"path1_no_obstacle\",\"showlegend\":true,\"subplot\":\"mapbox\",\"type\":\"scattermapbox\"},{\"hovertemplate\":\"<b>%{hovertext}</b><br><br>type=path1<br>timestep=3000.0<br>size=%{marker.size}<br>lat=%{lat}<br>lon=%{lon}<extra></extra>\",\"hovertext\":[\"path1\"],\"lat\":[29.074660633484164],\"legendgroup\":\"path1\",\"lon\":[164.57466063348417],\"marker\":{\"color\":\"#EF553B\",\"size\":[5],\"sizemode\":\"area\",\"sizeref\":0.0125},\"mode\":\"markers\",\"name\":\"path1\",\"showlegend\":true,\"subplot\":\"mapbox\",\"type\":\"scattermapbox\"}],\"name\":\"3000.0\"},{\"data\":[{\"hovertemplate\":\"<b>%{hovertext}</b><br><br>type=path1_no_obstacle<br>timestep=3100.0<br>size=%{marker.size}<br>lat=%{lat}<br>lon=%{lon}<extra></extra>\",\"hovertext\":[\"path1_no_obstacle\"],\"lat\":[24.393687707641195],\"legendgroup\":\"path1_no_obstacle\",\"lon\":[159.8936877076412],\"marker\":{\"color\":\"#636efa\",\"size\":[5],\"sizemode\":\"area\",\"sizeref\":0.0125},\"mode\":\"markers\",\"name\":\"path1_no_obstacle\",\"showlegend\":true,\"subplot\":\"mapbox\",\"type\":\"scattermapbox\"},{\"hovertemplate\":\"<b>%{hovertext}</b><br><br>type=path1<br>timestep=3100.0<br>size=%{marker.size}<br>lat=%{lat}<br>lon=%{lon}<extra></extra>\",\"hovertext\":[\"path1\"],\"lat\":[28.62217194570136],\"legendgroup\":\"path1\",\"lon\":[164.12217194570135],\"marker\":{\"color\":\"#EF553B\",\"size\":[5],\"sizemode\":\"area\",\"sizeref\":0.0125},\"mode\":\"markers\",\"name\":\"path1\",\"showlegend\":true,\"subplot\":\"mapbox\",\"type\":\"scattermapbox\"}],\"name\":\"3100.0\"},{\"data\":[{\"hovertemplate\":\"<b>%{hovertext}</b><br><br>type=path1_no_obstacle<br>timestep=3200.0<br>size=%{marker.size}<br>lat=%{lat}<br>lon=%{lon}<extra></extra>\",\"hovertext\":[\"path1_no_obstacle\"],\"lat\":[23.729235880398672],\"legendgroup\":\"path1_no_obstacle\",\"lon\":[159.22923588039868],\"marker\":{\"color\":\"#636efa\",\"size\":[5],\"sizemode\":\"area\",\"sizeref\":0.0125},\"mode\":\"markers\",\"name\":\"path1_no_obstacle\",\"showlegend\":true,\"subplot\":\"mapbox\",\"type\":\"scattermapbox\"},{\"hovertemplate\":\"<b>%{hovertext}</b><br><br>type=path1<br>timestep=3200.0<br>size=%{marker.size}<br>lat=%{lat}<br>lon=%{lon}<extra></extra>\",\"hovertext\":[\"path1\"],\"lat\":[28.17191011235955],\"legendgroup\":\"path1\",\"lon\":[163.67191011235954],\"marker\":{\"color\":\"#EF553B\",\"size\":[5],\"sizemode\":\"area\",\"sizeref\":0.0125},\"mode\":\"markers\",\"name\":\"path1\",\"showlegend\":true,\"subplot\":\"mapbox\",\"type\":\"scattermapbox\"}],\"name\":\"3200.0\"},{\"data\":[{\"hovertemplate\":\"<b>%{hovertext}</b><br><br>type=path1_no_obstacle<br>timestep=3300.0<br>size=%{marker.size}<br>lat=%{lat}<br>lon=%{lon}<extra></extra>\",\"hovertext\":[\"path1_no_obstacle\"],\"lat\":[23.064784053156146],\"legendgroup\":\"path1_no_obstacle\",\"lon\":[158.56478405315616],\"marker\":{\"color\":\"#636efa\",\"size\":[5],\"sizemode\":\"area\",\"sizeref\":0.0125},\"mode\":\"markers\",\"name\":\"path1_no_obstacle\",\"showlegend\":true,\"subplot\":\"mapbox\",\"type\":\"scattermapbox\"},{\"hovertemplate\":\"<b>%{hovertext}</b><br><br>type=path1<br>timestep=3300.0<br>size=%{marker.size}<br>lat=%{lat}<br>lon=%{lon}<extra></extra>\",\"hovertext\":[\"path1\"],\"lat\":[27.72247191011236],\"legendgroup\":\"path1\",\"lon\":[163.22247191011235],\"marker\":{\"color\":\"#EF553B\",\"size\":[5],\"sizemode\":\"area\",\"sizeref\":0.0125},\"mode\":\"markers\",\"name\":\"path1\",\"showlegend\":true,\"subplot\":\"mapbox\",\"type\":\"scattermapbox\"}],\"name\":\"3300.0\"},{\"data\":[{\"hovertemplate\":\"<b>%{hovertext}</b><br><br>type=path1_no_obstacle<br>timestep=3400.0<br>size=%{marker.size}<br>lat=%{lat}<br>lon=%{lon}<extra></extra>\",\"hovertext\":[\"path1_no_obstacle\"],\"lat\":[22.400990099009903],\"legendgroup\":\"path1_no_obstacle\",\"lon\":[157.9009900990099],\"marker\":{\"color\":\"#636efa\",\"size\":[5],\"sizemode\":\"area\",\"sizeref\":0.0125},\"mode\":\"markers\",\"name\":\"path1_no_obstacle\",\"showlegend\":true,\"subplot\":\"mapbox\",\"type\":\"scattermapbox\"},{\"hovertemplate\":\"<b>%{hovertext}</b><br><br>type=path1<br>timestep=3400.0<br>size=%{marker.size}<br>lat=%{lat}<br>lon=%{lon}<extra></extra>\",\"hovertext\":[\"path1\"],\"lat\":[27.273033707865167],\"legendgroup\":\"path1\",\"lon\":[162.77303370786518],\"marker\":{\"color\":\"#EF553B\",\"size\":[5],\"sizemode\":\"area\",\"sizeref\":0.0125},\"mode\":\"markers\",\"name\":\"path1\",\"showlegend\":true,\"subplot\":\"mapbox\",\"type\":\"scattermapbox\"}],\"name\":\"3400.0\"},{\"data\":[{\"hovertemplate\":\"<b>%{hovertext}</b><br><br>type=path1_no_obstacle<br>timestep=3500.0<br>size=%{marker.size}<br>lat=%{lat}<br>lon=%{lon}<extra></extra>\",\"hovertext\":[\"path1_no_obstacle\"],\"lat\":[21.74092409240924],\"legendgroup\":\"path1_no_obstacle\",\"lon\":[157.24092409240924],\"marker\":{\"color\":\"#636efa\",\"size\":[5],\"sizemode\":\"area\",\"sizeref\":0.0125},\"mode\":\"markers\",\"name\":\"path1_no_obstacle\",\"showlegend\":true,\"subplot\":\"mapbox\",\"type\":\"scattermapbox\"},{\"hovertemplate\":\"<b>%{hovertext}</b><br><br>type=path1<br>timestep=3500.0<br>size=%{marker.size}<br>lat=%{lat}<br>lon=%{lon}<extra></extra>\",\"hovertext\":[\"path1\"],\"lat\":[26.823595505617977],\"legendgroup\":\"path1\",\"lon\":[162.323595505618],\"marker\":{\"color\":\"#EF553B\",\"size\":[5],\"sizemode\":\"area\",\"sizeref\":0.0125},\"mode\":\"markers\",\"name\":\"path1\",\"showlegend\":true,\"subplot\":\"mapbox\",\"type\":\"scattermapbox\"}],\"name\":\"3500.0\"},{\"data\":[{\"hovertemplate\":\"<b>%{hovertext}</b><br><br>type=path1_no_obstacle<br>timestep=3600.0<br>size=%{marker.size}<br>lat=%{lat}<br>lon=%{lon}<extra></extra>\",\"hovertext\":[\"path1_no_obstacle\"],\"lat\":[21.08085808580858],\"legendgroup\":\"path1_no_obstacle\",\"lon\":[156.5808580858086],\"marker\":{\"color\":\"#636efa\",\"size\":[5],\"sizemode\":\"area\",\"sizeref\":0.0125},\"mode\":\"markers\",\"name\":\"path1_no_obstacle\",\"showlegend\":true,\"subplot\":\"mapbox\",\"type\":\"scattermapbox\"},{\"hovertemplate\":\"<b>%{hovertext}</b><br><br>type=path1<br>timestep=3600.0<br>size=%{marker.size}<br>lat=%{lat}<br>lon=%{lon}<extra></extra>\",\"hovertext\":[\"path1\"],\"lat\":[26.375278396436524],\"legendgroup\":\"path1\",\"lon\":[161.87527839643653],\"marker\":{\"color\":\"#EF553B\",\"size\":[5],\"sizemode\":\"area\",\"sizeref\":0.0125},\"mode\":\"markers\",\"name\":\"path1\",\"showlegend\":true,\"subplot\":\"mapbox\",\"type\":\"scattermapbox\"}],\"name\":\"3600.0\"},{\"data\":[{\"hovertemplate\":\"<b>%{hovertext}</b><br><br>type=path1_no_obstacle<br>timestep=3700.0<br>size=%{marker.size}<br>lat=%{lat}<br>lon=%{lon}<extra></extra>\",\"hovertext\":[\"path1_no_obstacle\"],\"lat\":[20.42131147540984],\"legendgroup\":\"path1_no_obstacle\",\"lon\":[155.92131147540982],\"marker\":{\"color\":\"#636efa\",\"size\":[5],\"sizemode\":\"area\",\"sizeref\":0.0125},\"mode\":\"markers\",\"name\":\"path1_no_obstacle\",\"showlegend\":true,\"subplot\":\"mapbox\",\"type\":\"scattermapbox\"},{\"hovertemplate\":\"<b>%{hovertext}</b><br><br>type=path1<br>timestep=3700.0<br>size=%{marker.size}<br>lat=%{lat}<br>lon=%{lon}<extra></extra>\",\"hovertext\":[\"path1\"],\"lat\":[25.929844097995545],\"legendgroup\":\"path1\",\"lon\":[161.42984409799556],\"marker\":{\"color\":\"#EF553B\",\"size\":[5],\"sizemode\":\"area\",\"sizeref\":0.0125},\"mode\":\"markers\",\"name\":\"path1\",\"showlegend\":true,\"subplot\":\"mapbox\",\"type\":\"scattermapbox\"}],\"name\":\"3700.0\"},{\"data\":[{\"hovertemplate\":\"<b>%{hovertext}</b><br><br>type=path1_no_obstacle<br>timestep=3800.0<br>size=%{marker.size}<br>lat=%{lat}<br>lon=%{lon}<extra></extra>\",\"hovertext\":[\"path1_no_obstacle\"],\"lat\":[19.7655737704918],\"legendgroup\":\"path1_no_obstacle\",\"lon\":[155.2655737704918],\"marker\":{\"color\":\"#636efa\",\"size\":[5],\"sizemode\":\"area\",\"sizeref\":0.0125},\"mode\":\"markers\",\"name\":\"path1_no_obstacle\",\"showlegend\":true,\"subplot\":\"mapbox\",\"type\":\"scattermapbox\"},{\"hovertemplate\":\"<b>%{hovertext}</b><br><br>type=path1<br>timestep=3800.0<br>size=%{marker.size}<br>lat=%{lat}<br>lon=%{lon}<extra></extra>\",\"hovertext\":[\"path1\"],\"lat\":[25.48440979955457],\"legendgroup\":\"path1\",\"lon\":[160.98440979955456],\"marker\":{\"color\":\"#EF553B\",\"size\":[5],\"sizemode\":\"area\",\"sizeref\":0.0125},\"mode\":\"markers\",\"name\":\"path1\",\"showlegend\":true,\"subplot\":\"mapbox\",\"type\":\"scattermapbox\"}],\"name\":\"3800.0\"},{\"data\":[{\"hovertemplate\":\"<b>%{hovertext}</b><br><br>type=path1_no_obstacle<br>timestep=3900.0<br>size=%{marker.size}<br>lat=%{lat}<br>lon=%{lon}<extra></extra>\",\"hovertext\":[\"path1_no_obstacle\"],\"lat\":[19.10983606557377],\"legendgroup\":\"path1_no_obstacle\",\"lon\":[154.60983606557377],\"marker\":{\"color\":\"#636efa\",\"size\":[5],\"sizemode\":\"area\",\"sizeref\":0.0125},\"mode\":\"markers\",\"name\":\"path1_no_obstacle\",\"showlegend\":true,\"subplot\":\"mapbox\",\"type\":\"scattermapbox\"},{\"hovertemplate\":\"<b>%{hovertext}</b><br><br>type=path1<br>timestep=3900.0<br>size=%{marker.size}<br>lat=%{lat}<br>lon=%{lon}<extra></extra>\",\"hovertext\":[\"path1\"],\"lat\":[25.038975501113587],\"legendgroup\":\"path1\",\"lon\":[160.53897550111358],\"marker\":{\"color\":\"#EF553B\",\"size\":[5],\"sizemode\":\"area\",\"sizeref\":0.0125},\"mode\":\"markers\",\"name\":\"path1\",\"showlegend\":true,\"subplot\":\"mapbox\",\"type\":\"scattermapbox\"}],\"name\":\"3900.0\"},{\"data\":[{\"hovertemplate\":\"<b>%{hovertext}</b><br><br>type=path1_no_obstacle<br>timestep=4000.0<br>size=%{marker.size}<br>lat=%{lat}<br>lon=%{lon}<extra></extra>\",\"hovertext\":[\"path1_no_obstacle\"],\"lat\":[18.45439739413681],\"legendgroup\":\"path1_no_obstacle\",\"lon\":[153.9543973941368],\"marker\":{\"color\":\"#636efa\",\"size\":[5],\"sizemode\":\"area\",\"sizeref\":0.0125},\"mode\":\"markers\",\"name\":\"path1_no_obstacle\",\"showlegend\":true,\"subplot\":\"mapbox\",\"type\":\"scattermapbox\"},{\"hovertemplate\":\"<b>%{hovertext}</b><br><br>type=path1<br>timestep=4000.0<br>size=%{marker.size}<br>lat=%{lat}<br>lon=%{lon}<extra></extra>\",\"hovertext\":[\"path1\"],\"lat\":[24.593541202672604],\"legendgroup\":\"path1\",\"lon\":[160.0935412026726],\"marker\":{\"color\":\"#EF553B\",\"size\":[5],\"sizemode\":\"area\",\"sizeref\":0.0125},\"mode\":\"markers\",\"name\":\"path1\",\"showlegend\":true,\"subplot\":\"mapbox\",\"type\":\"scattermapbox\"}],\"name\":\"4000.0\"},{\"data\":[{\"hovertemplate\":\"<b>%{hovertext}</b><br><br>type=path1_no_obstacle<br>timestep=4100.0<br>size=%{marker.size}<br>lat=%{lat}<br>lon=%{lon}<extra></extra>\",\"hovertext\":[\"path1_no_obstacle\"],\"lat\":[17.802931596091206],\"legendgroup\":\"path1_no_obstacle\",\"lon\":[153.3029315960912],\"marker\":{\"color\":\"#636efa\",\"size\":[5],\"sizemode\":\"area\",\"sizeref\":0.0125},\"mode\":\"markers\",\"name\":\"path1_no_obstacle\",\"showlegend\":true,\"subplot\":\"mapbox\",\"type\":\"scattermapbox\"},{\"hovertemplate\":\"<b>%{hovertext}</b><br><br>type=path1<br>timestep=4100.0<br>size=%{marker.size}<br>lat=%{lat}<br>lon=%{lon}<extra></extra>\",\"hovertext\":[\"path1\"],\"lat\":[24.150442477876105],\"legendgroup\":\"path1\",\"lon\":[159.6504424778761],\"marker\":{\"color\":\"#EF553B\",\"size\":[5],\"sizemode\":\"area\",\"sizeref\":0.0125},\"mode\":\"markers\",\"name\":\"path1\",\"showlegend\":true,\"subplot\":\"mapbox\",\"type\":\"scattermapbox\"}],\"name\":\"4100.0\"},{\"data\":[{\"hovertemplate\":\"<b>%{hovertext}</b><br><br>type=path1_no_obstacle<br>timestep=4200.0<br>size=%{marker.size}<br>lat=%{lat}<br>lon=%{lon}<extra></extra>\",\"hovertext\":[\"path1_no_obstacle\"],\"lat\":[17.151465798045603],\"legendgroup\":\"path1_no_obstacle\",\"lon\":[152.6514657980456],\"marker\":{\"color\":\"#636efa\",\"size\":[5],\"sizemode\":\"area\",\"sizeref\":0.0125},\"mode\":\"markers\",\"name\":\"path1_no_obstacle\",\"showlegend\":true,\"subplot\":\"mapbox\",\"type\":\"scattermapbox\"},{\"hovertemplate\":\"<b>%{hovertext}</b><br><br>type=path1<br>timestep=4200.0<br>size=%{marker.size}<br>lat=%{lat}<br>lon=%{lon}<extra></extra>\",\"hovertext\":[\"path1\"],\"lat\":[23.70796460176992],\"legendgroup\":\"path1\",\"lon\":[159.2079646017699],\"marker\":{\"color\":\"#EF553B\",\"size\":[5],\"sizemode\":\"area\",\"sizeref\":0.0125},\"mode\":\"markers\",\"name\":\"path1\",\"showlegend\":true,\"subplot\":\"mapbox\",\"type\":\"scattermapbox\"}],\"name\":\"4200.0\"},{\"data\":[{\"hovertemplate\":\"<b>%{hovertext}</b><br><br>type=path1_no_obstacle<br>timestep=4300.0<br>size=%{marker.size}<br>lat=%{lat}<br>lon=%{lon}<extra></extra>\",\"hovertext\":[\"path1_no_obstacle\"],\"lat\":[16.5],\"legendgroup\":\"path1_no_obstacle\",\"lon\":[152.0],\"marker\":{\"color\":\"#636efa\",\"size\":[5],\"sizemode\":\"area\",\"sizeref\":0.0125},\"mode\":\"markers\",\"name\":\"path1_no_obstacle\",\"showlegend\":true,\"subplot\":\"mapbox\",\"type\":\"scattermapbox\"},{\"hovertemplate\":\"<b>%{hovertext}</b><br><br>type=path1<br>timestep=4300.0<br>size=%{marker.size}<br>lat=%{lat}<br>lon=%{lon}<extra></extra>\",\"hovertext\":[\"path1\"],\"lat\":[23.26548672566372],\"legendgroup\":\"path1\",\"lon\":[158.76548672566372],\"marker\":{\"color\":\"#EF553B\",\"size\":[5],\"sizemode\":\"area\",\"sizeref\":0.0125},\"mode\":\"markers\",\"name\":\"path1\",\"showlegend\":true,\"subplot\":\"mapbox\",\"type\":\"scattermapbox\"}],\"name\":\"4300.0\"},{\"data\":[{\"hovertemplate\":\"<b>%{hovertext}</b><br><br>type=path1_no_obstacle<br>timestep=4400.0<br>size=%{marker.size}<br>lat=%{lat}<br>lon=%{lon}<extra></extra>\",\"hovertext\":[\"path1_no_obstacle\"],\"lat\":[15.85064935064935],\"legendgroup\":\"path1_no_obstacle\",\"lon\":[151.35064935064935],\"marker\":{\"color\":\"#636efa\",\"size\":[5],\"sizemode\":\"area\",\"sizeref\":0.0125},\"mode\":\"markers\",\"name\":\"path1_no_obstacle\",\"showlegend\":true,\"subplot\":\"mapbox\",\"type\":\"scattermapbox\"},{\"hovertemplate\":\"<b>%{hovertext}</b><br><br>type=path1<br>timestep=4400.0<br>size=%{marker.size}<br>lat=%{lat}<br>lon=%{lon}<extra></extra>\",\"hovertext\":[\"path1\"],\"lat\":[22.82300884955752],\"legendgroup\":\"path1\",\"lon\":[158.3230088495575],\"marker\":{\"color\":\"#EF553B\",\"size\":[5],\"sizemode\":\"area\",\"sizeref\":0.0125},\"mode\":\"markers\",\"name\":\"path1\",\"showlegend\":true,\"subplot\":\"mapbox\",\"type\":\"scattermapbox\"}],\"name\":\"4400.0\"},{\"data\":[{\"hovertemplate\":\"<b>%{hovertext}</b><br><br>type=path1_no_obstacle<br>timestep=4500.0<br>size=%{marker.size}<br>lat=%{lat}<br>lon=%{lon}<extra></extra>\",\"hovertext\":[\"path1_no_obstacle\"],\"lat\":[15.2012987012987],\"legendgroup\":\"path1_no_obstacle\",\"lon\":[150.7012987012987],\"marker\":{\"color\":\"#636efa\",\"size\":[5],\"sizemode\":\"area\",\"sizeref\":0.0125},\"mode\":\"markers\",\"name\":\"path1_no_obstacle\",\"showlegend\":true,\"subplot\":\"mapbox\",\"type\":\"scattermapbox\"},{\"hovertemplate\":\"<b>%{hovertext}</b><br><br>type=path1<br>timestep=4500.0<br>size=%{marker.size}<br>lat=%{lat}<br>lon=%{lon}<extra></extra>\",\"hovertext\":[\"path1\"],\"lat\":[22.321782178217823],\"legendgroup\":\"path1\",\"lon\":[157.82178217821783],\"marker\":{\"color\":\"#EF553B\",\"size\":[5],\"sizemode\":\"area\",\"sizeref\":0.0125},\"mode\":\"markers\",\"name\":\"path1\",\"showlegend\":true,\"subplot\":\"mapbox\",\"type\":\"scattermapbox\"}],\"name\":\"4500.0\"},{\"data\":[{\"hovertemplate\":\"<b>%{hovertext}</b><br><br>type=path1_no_obstacle<br>timestep=4600.0<br>size=%{marker.size}<br>lat=%{lat}<br>lon=%{lon}<extra></extra>\",\"hovertext\":[\"path1_no_obstacle\"],\"lat\":[14.551948051948052],\"legendgroup\":\"path1_no_obstacle\",\"lon\":[150.05194805194805],\"marker\":{\"color\":\"#636efa\",\"size\":[5],\"sizemode\":\"area\",\"sizeref\":0.0125},\"mode\":\"markers\",\"name\":\"path1_no_obstacle\",\"showlegend\":true,\"subplot\":\"mapbox\",\"type\":\"scattermapbox\"},{\"hovertemplate\":\"<b>%{hovertext}</b><br><br>type=path1<br>timestep=4600.0<br>size=%{marker.size}<br>lat=%{lat}<br>lon=%{lon}<extra></extra>\",\"hovertext\":[\"path1\"],\"lat\":[21.66171617161716],\"legendgroup\":\"path1\",\"lon\":[157.16171617161717],\"marker\":{\"color\":\"#EF553B\",\"size\":[5],\"sizemode\":\"area\",\"sizeref\":0.0125},\"mode\":\"markers\",\"name\":\"path1\",\"showlegend\":true,\"subplot\":\"mapbox\",\"type\":\"scattermapbox\"}],\"name\":\"4600.0\"},{\"data\":[{\"hovertemplate\":\"<b>%{hovertext}</b><br><br>type=path1_no_obstacle<br>timestep=4700.0<br>size=%{marker.size}<br>lat=%{lat}<br>lon=%{lon}<extra></extra>\",\"hovertext\":[\"path1_no_obstacle\"],\"lat\":[13.906451612903226],\"legendgroup\":\"path1_no_obstacle\",\"lon\":[149.40645161290325],\"marker\":{\"color\":\"#636efa\",\"size\":[5],\"sizemode\":\"area\",\"sizeref\":0.0125},\"mode\":\"markers\",\"name\":\"path1_no_obstacle\",\"showlegend\":true,\"subplot\":\"mapbox\",\"type\":\"scattermapbox\"},{\"hovertemplate\":\"<b>%{hovertext}</b><br><br>type=path1<br>timestep=4700.0<br>size=%{marker.size}<br>lat=%{lat}<br>lon=%{lon}<extra></extra>\",\"hovertext\":[\"path1\"],\"lat\":[21.001650165016503],\"legendgroup\":\"path1\",\"lon\":[156.5016501650165],\"marker\":{\"color\":\"#EF553B\",\"size\":[5],\"sizemode\":\"area\",\"sizeref\":0.0125},\"mode\":\"markers\",\"name\":\"path1\",\"showlegend\":true,\"subplot\":\"mapbox\",\"type\":\"scattermapbox\"}],\"name\":\"4700.0\"},{\"data\":[{\"hovertemplate\":\"<b>%{hovertext}</b><br><br>type=path1_no_obstacle<br>timestep=4800.0<br>size=%{marker.size}<br>lat=%{lat}<br>lon=%{lon}<extra></extra>\",\"hovertext\":[\"path1_no_obstacle\"],\"lat\":[13.261290322580646],\"legendgroup\":\"path1_no_obstacle\",\"lon\":[148.76129032258063],\"marker\":{\"color\":\"#636efa\",\"size\":[5],\"sizemode\":\"area\",\"sizeref\":0.0125},\"mode\":\"markers\",\"name\":\"path1_no_obstacle\",\"showlegend\":true,\"subplot\":\"mapbox\",\"type\":\"scattermapbox\"},{\"hovertemplate\":\"<b>%{hovertext}</b><br><br>type=path1<br>timestep=4800.0<br>size=%{marker.size}<br>lat=%{lat}<br>lon=%{lon}<extra></extra>\",\"hovertext\":[\"path1\"],\"lat\":[20.34262295081967],\"legendgroup\":\"path1\",\"lon\":[155.84262295081967],\"marker\":{\"color\":\"#EF553B\",\"size\":[5],\"sizemode\":\"area\",\"sizeref\":0.0125},\"mode\":\"markers\",\"name\":\"path1\",\"showlegend\":true,\"subplot\":\"mapbox\",\"type\":\"scattermapbox\"}],\"name\":\"4800.0\"},{\"data\":[{\"hovertemplate\":\"<b>%{hovertext}</b><br><br>type=path1_no_obstacle<br>timestep=4900.0<br>size=%{marker.size}<br>lat=%{lat}<br>lon=%{lon}<extra></extra>\",\"hovertext\":[\"path1_no_obstacle\"],\"lat\":[12.616129032258064],\"legendgroup\":\"path1_no_obstacle\",\"lon\":[148.11612903225807],\"marker\":{\"color\":\"#636efa\",\"size\":[5],\"sizemode\":\"area\",\"sizeref\":0.0125},\"mode\":\"markers\",\"name\":\"path1_no_obstacle\",\"showlegend\":true,\"subplot\":\"mapbox\",\"type\":\"scattermapbox\"},{\"hovertemplate\":\"<b>%{hovertext}</b><br><br>type=path1<br>timestep=4900.0<br>size=%{marker.size}<br>lat=%{lat}<br>lon=%{lon}<extra></extra>\",\"hovertext\":[\"path1\"],\"lat\":[19.68688524590164],\"legendgroup\":\"path1\",\"lon\":[155.18688524590164],\"marker\":{\"color\":\"#EF553B\",\"size\":[5],\"sizemode\":\"area\",\"sizeref\":0.0125},\"mode\":\"markers\",\"name\":\"path1\",\"showlegend\":true,\"subplot\":\"mapbox\",\"type\":\"scattermapbox\"}],\"name\":\"4900.0\"},{\"data\":[{\"hovertemplate\":\"<b>%{hovertext}</b><br><br>type=path1_no_obstacle<br>timestep=5000.0<br>size=%{marker.size}<br>lat=%{lat}<br>lon=%{lon}<extra></extra>\",\"hovertext\":[\"path1_no_obstacle\"],\"lat\":[11.97266881028939],\"legendgroup\":\"path1_no_obstacle\",\"lon\":[147.47266881028938],\"marker\":{\"color\":\"#636efa\",\"size\":[5],\"sizemode\":\"area\",\"sizeref\":0.0125},\"mode\":\"markers\",\"name\":\"path1_no_obstacle\",\"showlegend\":true,\"subplot\":\"mapbox\",\"type\":\"scattermapbox\"},{\"hovertemplate\":\"<b>%{hovertext}</b><br><br>type=path1<br>timestep=5000.0<br>size=%{marker.size}<br>lat=%{lat}<br>lon=%{lon}<extra></extra>\",\"hovertext\":[\"path1\"],\"lat\":[19.031147540983607],\"legendgroup\":\"path1\",\"lon\":[154.5311475409836],\"marker\":{\"color\":\"#EF553B\",\"size\":[5],\"sizemode\":\"area\",\"sizeref\":0.0125},\"mode\":\"markers\",\"name\":\"path1\",\"showlegend\":true,\"subplot\":\"mapbox\",\"type\":\"scattermapbox\"}],\"name\":\"5000.0\"},{\"data\":[{\"hovertemplate\":\"<b>%{hovertext}</b><br><br>type=path1_no_obstacle<br>timestep=5100.0<br>size=%{marker.size}<br>lat=%{lat}<br>lon=%{lon}<extra></extra>\",\"hovertext\":[\"path1_no_obstacle\"],\"lat\":[11.329581993569132],\"legendgroup\":\"path1_no_obstacle\",\"lon\":[146.82958199356912],\"marker\":{\"color\":\"#636efa\",\"size\":[5],\"sizemode\":\"area\",\"sizeref\":0.0125},\"mode\":\"markers\",\"name\":\"path1_no_obstacle\",\"showlegend\":true,\"subplot\":\"mapbox\",\"type\":\"scattermapbox\"},{\"hovertemplate\":\"<b>%{hovertext}</b><br><br>type=path1<br>timestep=5100.0<br>size=%{marker.size}<br>lat=%{lat}<br>lon=%{lon}<extra></extra>\",\"hovertext\":[\"path1\"],\"lat\":[18.376221498371336],\"legendgroup\":\"path1\",\"lon\":[153.87622149837134],\"marker\":{\"color\":\"#EF553B\",\"size\":[5],\"sizemode\":\"area\",\"sizeref\":0.0125},\"mode\":\"markers\",\"name\":\"path1\",\"showlegend\":true,\"subplot\":\"mapbox\",\"type\":\"scattermapbox\"}],\"name\":\"5100.0\"},{\"data\":[{\"hovertemplate\":\"<b>%{hovertext}</b><br><br>type=path1_no_obstacle<br>timestep=5200.0<br>size=%{marker.size}<br>lat=%{lat}<br>lon=%{lon}<extra></extra>\",\"hovertext\":[\"path1_no_obstacle\"],\"lat\":[10.686495176848874],\"legendgroup\":\"path1_no_obstacle\",\"lon\":[146.1864951768489],\"marker\":{\"color\":\"#636efa\",\"size\":[5],\"sizemode\":\"area\",\"sizeref\":0.0125},\"mode\":\"markers\",\"name\":\"path1_no_obstacle\",\"showlegend\":true,\"subplot\":\"mapbox\",\"type\":\"scattermapbox\"},{\"hovertemplate\":\"<b>%{hovertext}</b><br><br>type=path1<br>timestep=5200.0<br>size=%{marker.size}<br>lat=%{lat}<br>lon=%{lon}<extra></extra>\",\"hovertext\":[\"path1\"],\"lat\":[17.724755700325733],\"legendgroup\":\"path1\",\"lon\":[153.22475570032574],\"marker\":{\"color\":\"#EF553B\",\"size\":[5],\"sizemode\":\"area\",\"sizeref\":0.0125},\"mode\":\"markers\",\"name\":\"path1\",\"showlegend\":true,\"subplot\":\"mapbox\",\"type\":\"scattermapbox\"}],\"name\":\"5200.0\"},{\"data\":[{\"hovertemplate\":\"<b>%{hovertext}</b><br><br>type=path1_no_obstacle<br>timestep=5300.0<br>size=%{marker.size}<br>lat=%{lat}<br>lon=%{lon}<extra></extra>\",\"hovertext\":[\"path1_no_obstacle\"],\"lat\":[10.044871794871796],\"legendgroup\":\"path1_no_obstacle\",\"lon\":[145.5448717948718],\"marker\":{\"color\":\"#636efa\",\"size\":[5],\"sizemode\":\"area\",\"sizeref\":0.0125},\"mode\":\"markers\",\"name\":\"path1_no_obstacle\",\"showlegend\":true,\"subplot\":\"mapbox\",\"type\":\"scattermapbox\"},{\"hovertemplate\":\"<b>%{hovertext}</b><br><br>type=path1<br>timestep=5300.0<br>size=%{marker.size}<br>lat=%{lat}<br>lon=%{lon}<extra></extra>\",\"hovertext\":[\"path1\"],\"lat\":[17.07328990228013],\"legendgroup\":\"path1\",\"lon\":[152.57328990228012],\"marker\":{\"color\":\"#EF553B\",\"size\":[5],\"sizemode\":\"area\",\"sizeref\":0.0125},\"mode\":\"markers\",\"name\":\"path1\",\"showlegend\":true,\"subplot\":\"mapbox\",\"type\":\"scattermapbox\"}],\"name\":\"5300.0\"},{\"data\":[{\"hovertemplate\":\"<b>%{hovertext}</b><br><br>type=path1_no_obstacle<br>timestep=5400.0<br>size=%{marker.size}<br>lat=%{lat}<br>lon=%{lon}<extra></extra>\",\"hovertext\":[\"path1_no_obstacle\"],\"lat\":[9.403846153846152],\"legendgroup\":\"path1_no_obstacle\",\"lon\":[144.90384615384616],\"marker\":{\"color\":\"#636efa\",\"size\":[5],\"sizemode\":\"area\",\"sizeref\":0.0125},\"mode\":\"markers\",\"name\":\"path1_no_obstacle\",\"showlegend\":true,\"subplot\":\"mapbox\",\"type\":\"scattermapbox\"},{\"hovertemplate\":\"<b>%{hovertext}</b><br><br>type=path1<br>timestep=5400.0<br>size=%{marker.size}<br>lat=%{lat}<br>lon=%{lon}<extra></extra>\",\"hovertext\":[\"path1\"],\"lat\":[16.42207792207792],\"legendgroup\":\"path1\",\"lon\":[151.92207792207793],\"marker\":{\"color\":\"#EF553B\",\"size\":[5],\"sizemode\":\"area\",\"sizeref\":0.0125},\"mode\":\"markers\",\"name\":\"path1\",\"showlegend\":true,\"subplot\":\"mapbox\",\"type\":\"scattermapbox\"}],\"name\":\"5400.0\"},{\"data\":[{\"hovertemplate\":\"<b>%{hovertext}</b><br><br>type=path1_no_obstacle<br>timestep=5500.0<br>size=%{marker.size}<br>lat=%{lat}<br>lon=%{lon}<extra></extra>\",\"hovertext\":[\"path1_no_obstacle\"],\"lat\":[8.762820512820513],\"legendgroup\":\"path1_no_obstacle\",\"lon\":[144.26282051282053],\"marker\":{\"color\":\"#636efa\",\"size\":[5],\"sizemode\":\"area\",\"sizeref\":0.0125},\"mode\":\"markers\",\"name\":\"path1_no_obstacle\",\"showlegend\":true,\"subplot\":\"mapbox\",\"type\":\"scattermapbox\"},{\"hovertemplate\":\"<b>%{hovertext}</b><br><br>type=path1<br>timestep=5500.0<br>size=%{marker.size}<br>lat=%{lat}<br>lon=%{lon}<extra></extra>\",\"hovertext\":[\"path1\"],\"lat\":[15.772727272727272],\"legendgroup\":\"path1\",\"lon\":[151.27272727272728],\"marker\":{\"color\":\"#EF553B\",\"size\":[5],\"sizemode\":\"area\",\"sizeref\":0.0125},\"mode\":\"markers\",\"name\":\"path1\",\"showlegend\":true,\"subplot\":\"mapbox\",\"type\":\"scattermapbox\"}],\"name\":\"5500.0\"},{\"data\":[{\"hovertemplate\":\"<b>%{hovertext}</b><br><br>type=path1_no_obstacle<br>timestep=5600.0<br>size=%{marker.size}<br>lat=%{lat}<br>lon=%{lon}<extra></extra>\",\"hovertext\":[\"path1_no_obstacle\"],\"lat\":[8.12300319488818],\"legendgroup\":\"path1_no_obstacle\",\"lon\":[143.62300319488818],\"marker\":{\"color\":\"#636efa\",\"size\":[5],\"sizemode\":\"area\",\"sizeref\":0.0125},\"mode\":\"markers\",\"name\":\"path1_no_obstacle\",\"showlegend\":true,\"subplot\":\"mapbox\",\"type\":\"scattermapbox\"},{\"hovertemplate\":\"<b>%{hovertext}</b><br><br>type=path1<br>timestep=5600.0<br>size=%{marker.size}<br>lat=%{lat}<br>lon=%{lon}<extra></extra>\",\"hovertext\":[\"path1\"],\"lat\":[15.123376623376624],\"legendgroup\":\"path1\",\"lon\":[150.62337662337663],\"marker\":{\"color\":\"#EF553B\",\"size\":[5],\"sizemode\":\"area\",\"sizeref\":0.0125},\"mode\":\"markers\",\"name\":\"path1\",\"showlegend\":true,\"subplot\":\"mapbox\",\"type\":\"scattermapbox\"}],\"name\":\"5600.0\"},{\"data\":[{\"hovertemplate\":\"<b>%{hovertext}</b><br><br>type=path1_no_obstacle<br>timestep=5700.0<br>size=%{marker.size}<br>lat=%{lat}<br>lon=%{lon}<extra></extra>\",\"hovertext\":[\"path1_no_obstacle\"],\"lat\":[7.484025559105431],\"legendgroup\":\"path1_no_obstacle\",\"lon\":[142.98402555910542],\"marker\":{\"color\":\"#636efa\",\"size\":[5],\"sizemode\":\"area\",\"sizeref\":0.0125},\"mode\":\"markers\",\"name\":\"path1_no_obstacle\",\"showlegend\":true,\"subplot\":\"mapbox\",\"type\":\"scattermapbox\"},{\"hovertemplate\":\"<b>%{hovertext}</b><br><br>type=path1<br>timestep=5700.0<br>size=%{marker.size}<br>lat=%{lat}<br>lon=%{lon}<extra></extra>\",\"hovertext\":[\"path1\"],\"lat\":[14.474193548387095],\"legendgroup\":\"path1\",\"lon\":[149.9741935483871],\"marker\":{\"color\":\"#EF553B\",\"size\":[5],\"sizemode\":\"area\",\"sizeref\":0.0125},\"mode\":\"markers\",\"name\":\"path1\",\"showlegend\":true,\"subplot\":\"mapbox\",\"type\":\"scattermapbox\"}],\"name\":\"5700.0\"},{\"data\":[{\"hovertemplate\":\"<b>%{hovertext}</b><br><br>type=path1_no_obstacle<br>timestep=5800.0<br>size=%{marker.size}<br>lat=%{lat}<br>lon=%{lon}<extra></extra>\",\"hovertext\":[\"path1_no_obstacle\"],\"lat\":[6.845047923322683],\"legendgroup\":\"path1_no_obstacle\",\"lon\":[142.34504792332268],\"marker\":{\"color\":\"#636efa\",\"size\":[5],\"sizemode\":\"area\",\"sizeref\":0.0125},\"mode\":\"markers\",\"name\":\"path1_no_obstacle\",\"showlegend\":true,\"subplot\":\"mapbox\",\"type\":\"scattermapbox\"},{\"hovertemplate\":\"<b>%{hovertext}</b><br><br>type=path1<br>timestep=5800.0<br>size=%{marker.size}<br>lat=%{lat}<br>lon=%{lon}<extra></extra>\",\"hovertext\":[\"path1\"],\"lat\":[13.829032258064515],\"legendgroup\":\"path1\",\"lon\":[149.32903225806453],\"marker\":{\"color\":\"#EF553B\",\"size\":[5],\"sizemode\":\"area\",\"sizeref\":0.0125},\"mode\":\"markers\",\"name\":\"path1\",\"showlegend\":true,\"subplot\":\"mapbox\",\"type\":\"scattermapbox\"}],\"name\":\"5800.0\"},{\"data\":[{\"hovertemplate\":\"<b>%{hovertext}</b><br><br>type=path1_no_obstacle<br>timestep=5900.0<br>size=%{marker.size}<br>lat=%{lat}<br>lon=%{lon}<extra></extra>\",\"hovertext\":[\"path1_no_obstacle\"],\"lat\":[6.206070287539936],\"legendgroup\":\"path1_no_obstacle\",\"lon\":[141.70607028753994],\"marker\":{\"color\":\"#636efa\",\"size\":[5],\"sizemode\":\"area\",\"sizeref\":0.0125},\"mode\":\"markers\",\"name\":\"path1_no_obstacle\",\"showlegend\":true,\"subplot\":\"mapbox\",\"type\":\"scattermapbox\"},{\"hovertemplate\":\"<b>%{hovertext}</b><br><br>type=path1<br>timestep=5900.0<br>size=%{marker.size}<br>lat=%{lat}<br>lon=%{lon}<extra></extra>\",\"hovertext\":[\"path1\"],\"lat\":[13.183870967741935],\"legendgroup\":\"path1\",\"lon\":[148.68387096774194],\"marker\":{\"color\":\"#EF553B\",\"size\":[5],\"sizemode\":\"area\",\"sizeref\":0.0125},\"mode\":\"markers\",\"name\":\"path1\",\"showlegend\":true,\"subplot\":\"mapbox\",\"type\":\"scattermapbox\"}],\"name\":\"5900.0\"},{\"data\":[{\"hovertemplate\":\"<b>%{hovertext}</b><br><br>type=path1_no_obstacle<br>timestep=6000.0<br>size=%{marker.size}<br>lat=%{lat}<br>lon=%{lon}<extra></extra>\",\"hovertext\":[\"path1_no_obstacle\"],\"lat\":[5.567092651757188],\"legendgroup\":\"path1_no_obstacle\",\"lon\":[141.06709265175718],\"marker\":{\"color\":\"#636efa\",\"size\":[5],\"sizemode\":\"area\",\"sizeref\":0.0125},\"mode\":\"markers\",\"name\":\"path1_no_obstacle\",\"showlegend\":true,\"subplot\":\"mapbox\",\"type\":\"scattermapbox\"},{\"hovertemplate\":\"<b>%{hovertext}</b><br><br>type=path1<br>timestep=6000.0<br>size=%{marker.size}<br>lat=%{lat}<br>lon=%{lon}<extra></extra>\",\"hovertext\":[\"path1\"],\"lat\":[12.538709677419355],\"legendgroup\":\"path1\",\"lon\":[148.03870967741935],\"marker\":{\"color\":\"#EF553B\",\"size\":[5],\"sizemode\":\"area\",\"sizeref\":0.0125},\"mode\":\"markers\",\"name\":\"path1\",\"showlegend\":true,\"subplot\":\"mapbox\",\"type\":\"scattermapbox\"}],\"name\":\"6000.0\"},{\"data\":[{\"hovertemplate\":\"<b>%{hovertext}</b><br><br>type=path1_no_obstacle<br>timestep=6100.0<br>size=%{marker.size}<br>lat=%{lat}<br>lon=%{lon}<extra></extra>\",\"hovertext\":[\"path1_no_obstacle\"],\"lat\":[4.928115015974441],\"legendgroup\":\"path1_no_obstacle\",\"lon\":[140.42811501597444],\"marker\":{\"color\":\"#636efa\",\"size\":[5],\"sizemode\":\"area\",\"sizeref\":0.0125},\"mode\":\"markers\",\"name\":\"path1_no_obstacle\",\"showlegend\":true,\"subplot\":\"mapbox\",\"type\":\"scattermapbox\"},{\"hovertemplate\":\"<b>%{hovertext}</b><br><br>type=path1<br>timestep=6100.0<br>size=%{marker.size}<br>lat=%{lat}<br>lon=%{lon}<extra></extra>\",\"hovertext\":[\"path1\"],\"lat\":[11.895498392282958],\"legendgroup\":\"path1\",\"lon\":[147.39549839228297],\"marker\":{\"color\":\"#EF553B\",\"size\":[5],\"sizemode\":\"area\",\"sizeref\":0.0125},\"mode\":\"markers\",\"name\":\"path1\",\"showlegend\":true,\"subplot\":\"mapbox\",\"type\":\"scattermapbox\"}],\"name\":\"6100.0\"},{\"data\":[{\"hovertemplate\":\"<b>%{hovertext}</b><br><br>type=path1_no_obstacle<br>timestep=6200.0<br>size=%{marker.size}<br>lat=%{lat}<br>lon=%{lon}<extra></extra>\",\"hovertext\":[\"path1_no_obstacle\"],\"lat\":[4.289808917197452],\"legendgroup\":\"path1_no_obstacle\",\"lon\":[139.78980891719746],\"marker\":{\"color\":\"#636efa\",\"size\":[5],\"sizemode\":\"area\",\"sizeref\":0.0125},\"mode\":\"markers\",\"name\":\"path1_no_obstacle\",\"showlegend\":true,\"subplot\":\"mapbox\",\"type\":\"scattermapbox\"},{\"hovertemplate\":\"<b>%{hovertext}</b><br><br>type=path1<br>timestep=6200.0<br>size=%{marker.size}<br>lat=%{lat}<br>lon=%{lon}<extra></extra>\",\"hovertext\":[\"path1\"],\"lat\":[11.2524115755627],\"legendgroup\":\"path1\",\"lon\":[146.7524115755627],\"marker\":{\"color\":\"#EF553B\",\"size\":[5],\"sizemode\":\"area\",\"sizeref\":0.0125},\"mode\":\"markers\",\"name\":\"path1\",\"showlegend\":true,\"subplot\":\"mapbox\",\"type\":\"scattermapbox\"}],\"name\":\"6200.0\"},{\"data\":[{\"hovertemplate\":\"<b>%{hovertext}</b><br><br>type=path1_no_obstacle<br>timestep=6300.0<br>size=%{marker.size}<br>lat=%{lat}<br>lon=%{lon}<extra></extra>\",\"hovertext\":[\"path1_no_obstacle\"],\"lat\":[3.652866242038217],\"legendgroup\":\"path1_no_obstacle\",\"lon\":[139.1528662420382],\"marker\":{\"color\":\"#636efa\",\"size\":[5],\"sizemode\":\"area\",\"sizeref\":0.0125},\"mode\":\"markers\",\"name\":\"path1_no_obstacle\",\"showlegend\":true,\"subplot\":\"mapbox\",\"type\":\"scattermapbox\"},{\"hovertemplate\":\"<b>%{hovertext}</b><br><br>type=path1<br>timestep=6300.0<br>size=%{marker.size}<br>lat=%{lat}<br>lon=%{lon}<extra></extra>\",\"hovertext\":[\"path1\"],\"lat\":[10.609324758842444],\"legendgroup\":\"path1\",\"lon\":[146.10932475884243],\"marker\":{\"color\":\"#EF553B\",\"size\":[5],\"sizemode\":\"area\",\"sizeref\":0.0125},\"mode\":\"markers\",\"name\":\"path1\",\"showlegend\":true,\"subplot\":\"mapbox\",\"type\":\"scattermapbox\"}],\"name\":\"6300.0\"},{\"data\":[{\"hovertemplate\":\"<b>%{hovertext}</b><br><br>type=path1_no_obstacle<br>timestep=6400.0<br>size=%{marker.size}<br>lat=%{lat}<br>lon=%{lon}<extra></extra>\",\"hovertext\":[\"path1_no_obstacle\"],\"lat\":[3.015923566878981],\"legendgroup\":\"path1_no_obstacle\",\"lon\":[138.51592356687897],\"marker\":{\"color\":\"#636efa\",\"size\":[5],\"sizemode\":\"area\",\"sizeref\":0.0125},\"mode\":\"markers\",\"name\":\"path1_no_obstacle\",\"showlegend\":true,\"subplot\":\"mapbox\",\"type\":\"scattermapbox\"},{\"hovertemplate\":\"<b>%{hovertext}</b><br><br>type=path1<br>timestep=6400.0<br>size=%{marker.size}<br>lat=%{lat}<br>lon=%{lon}<extra></extra>\",\"hovertext\":[\"path1\"],\"lat\":[9.967948717948715],\"legendgroup\":\"path1\",\"lon\":[145.46794871794873],\"marker\":{\"color\":\"#EF553B\",\"size\":[5],\"sizemode\":\"area\",\"sizeref\":0.0125},\"mode\":\"markers\",\"name\":\"path1\",\"showlegend\":true,\"subplot\":\"mapbox\",\"type\":\"scattermapbox\"}],\"name\":\"6400.0\"},{\"data\":[{\"hovertemplate\":\"<b>%{hovertext}</b><br><br>type=path1_no_obstacle<br>timestep=6500.0<br>size=%{marker.size}<br>lat=%{lat}<br>lon=%{lon}<extra></extra>\",\"hovertext\":[\"path1_no_obstacle\"],\"lat\":[2.378980891719745],\"legendgroup\":\"path1_no_obstacle\",\"lon\":[137.87898089171975],\"marker\":{\"color\":\"#636efa\",\"size\":[5],\"sizemode\":\"area\",\"sizeref\":0.0125},\"mode\":\"markers\",\"name\":\"path1_no_obstacle\",\"showlegend\":true,\"subplot\":\"mapbox\",\"type\":\"scattermapbox\"},{\"hovertemplate\":\"<b>%{hovertext}</b><br><br>type=path1<br>timestep=6500.0<br>size=%{marker.size}<br>lat=%{lat}<br>lon=%{lon}<extra></extra>\",\"hovertext\":[\"path1\"],\"lat\":[9.326923076923077],\"legendgroup\":\"path1\",\"lon\":[144.82692307692307],\"marker\":{\"color\":\"#EF553B\",\"size\":[5],\"sizemode\":\"area\",\"sizeref\":0.0125},\"mode\":\"markers\",\"name\":\"path1\",\"showlegend\":true,\"subplot\":\"mapbox\",\"type\":\"scattermapbox\"}],\"name\":\"6500.0\"},{\"data\":[{\"hovertemplate\":\"<b>%{hovertext}</b><br><br>type=path1_no_obstacle<br>timestep=6600.0<br>size=%{marker.size}<br>lat=%{lat}<br>lon=%{lon}<extra></extra>\",\"hovertext\":[\"path1_no_obstacle\"],\"lat\":[1.7420382165605095],\"legendgroup\":\"path1_no_obstacle\",\"lon\":[137.2420382165605],\"marker\":{\"color\":\"#636efa\",\"size\":[5],\"sizemode\":\"area\",\"sizeref\":0.0125},\"mode\":\"markers\",\"name\":\"path1_no_obstacle\",\"showlegend\":true,\"subplot\":\"mapbox\",\"type\":\"scattermapbox\"},{\"hovertemplate\":\"<b>%{hovertext}</b><br><br>type=path1<br>timestep=6600.0<br>size=%{marker.size}<br>lat=%{lat}<br>lon=%{lon}<extra></extra>\",\"hovertext\":[\"path1\"],\"lat\":[8.685897435897436],\"legendgroup\":\"path1\",\"lon\":[144.18589743589743],\"marker\":{\"color\":\"#EF553B\",\"size\":[5],\"sizemode\":\"area\",\"sizeref\":0.0125},\"mode\":\"markers\",\"name\":\"path1\",\"showlegend\":true,\"subplot\":\"mapbox\",\"type\":\"scattermapbox\"}],\"name\":\"6600.0\"},{\"data\":[{\"hovertemplate\":\"<b>%{hovertext}</b><br><br>type=path1_no_obstacle<br>timestep=6700.0<br>size=%{marker.size}<br>lat=%{lat}<br>lon=%{lon}<extra></extra>\",\"hovertext\":[\"path1_no_obstacle\"],\"lat\":[1.1050955414012738],\"legendgroup\":\"path1_no_obstacle\",\"lon\":[136.60509554140128],\"marker\":{\"color\":\"#636efa\",\"size\":[5],\"sizemode\":\"area\",\"sizeref\":0.0125},\"mode\":\"markers\",\"name\":\"path1_no_obstacle\",\"showlegend\":true,\"subplot\":\"mapbox\",\"type\":\"scattermapbox\"},{\"hovertemplate\":\"<b>%{hovertext}</b><br><br>type=path1<br>timestep=6700.0<br>size=%{marker.size}<br>lat=%{lat}<br>lon=%{lon}<extra></extra>\",\"hovertext\":[\"path1\"],\"lat\":[8.04632587859425],\"legendgroup\":\"path1\",\"lon\":[143.54632587859425],\"marker\":{\"color\":\"#EF553B\",\"size\":[5],\"sizemode\":\"area\",\"sizeref\":0.0125},\"mode\":\"markers\",\"name\":\"path1\",\"showlegend\":true,\"subplot\":\"mapbox\",\"type\":\"scattermapbox\"}],\"name\":\"6700.0\"},{\"data\":[{\"hovertemplate\":\"<b>%{hovertext}</b><br><br>type=path1_no_obstacle<br>timestep=6800.0<br>size=%{marker.size}<br>lat=%{lat}<br>lon=%{lon}<extra></extra>\",\"hovertext\":[\"path1_no_obstacle\"],\"lat\":[0.4681528662420382],\"legendgroup\":\"path1_no_obstacle\",\"lon\":[135.96815286624204],\"marker\":{\"color\":\"#636efa\",\"size\":[5],\"sizemode\":\"area\",\"sizeref\":0.0125},\"mode\":\"markers\",\"name\":\"path1_no_obstacle\",\"showlegend\":true,\"subplot\":\"mapbox\",\"type\":\"scattermapbox\"},{\"hovertemplate\":\"<b>%{hovertext}</b><br><br>type=path1<br>timestep=6800.0<br>size=%{marker.size}<br>lat=%{lat}<br>lon=%{lon}<extra></extra>\",\"hovertext\":[\"path1\"],\"lat\":[7.407348242811501],\"legendgroup\":\"path1\",\"lon\":[142.9073482428115],\"marker\":{\"color\":\"#EF553B\",\"size\":[5],\"sizemode\":\"area\",\"sizeref\":0.0125},\"mode\":\"markers\",\"name\":\"path1\",\"showlegend\":true,\"subplot\":\"mapbox\",\"type\":\"scattermapbox\"}],\"name\":\"6800.0\"},{\"data\":[{\"hovertemplate\":\"<b>%{hovertext}</b><br><br>type=path1_no_obstacle<br>timestep=6900.0<br>size=%{marker.size}<br>lat=%{lat}<br>lon=%{lon}<extra></extra>\",\"hovertext\":[\"path1_no_obstacle\"],\"lat\":[-0.1687898089171975],\"legendgroup\":\"path1_no_obstacle\",\"lon\":[135.3312101910828],\"marker\":{\"color\":\"#636efa\",\"size\":[5],\"sizemode\":\"area\",\"sizeref\":0.0125},\"mode\":\"markers\",\"name\":\"path1_no_obstacle\",\"showlegend\":true,\"subplot\":\"mapbox\",\"type\":\"scattermapbox\"},{\"hovertemplate\":\"<b>%{hovertext}</b><br><br>type=path1<br>timestep=6900.0<br>size=%{marker.size}<br>lat=%{lat}<br>lon=%{lon}<extra></extra>\",\"hovertext\":[\"path1\"],\"lat\":[6.768370607028754],\"legendgroup\":\"path1\",\"lon\":[142.26837060702874],\"marker\":{\"color\":\"#EF553B\",\"size\":[5],\"sizemode\":\"area\",\"sizeref\":0.0125},\"mode\":\"markers\",\"name\":\"path1\",\"showlegend\":true,\"subplot\":\"mapbox\",\"type\":\"scattermapbox\"}],\"name\":\"6900.0\"},{\"data\":[{\"hovertemplate\":\"<b>%{hovertext}</b><br><br>type=path1_no_obstacle<br>timestep=7000.0<br>size=%{marker.size}<br>lat=%{lat}<br>lon=%{lon}<extra></extra>\",\"hovertext\":[\"path1_no_obstacle\"],\"lat\":[-0.8057324840764333],\"legendgroup\":\"path1_no_obstacle\",\"lon\":[134.69426751592357],\"marker\":{\"color\":\"#636efa\",\"size\":[5],\"sizemode\":\"area\",\"sizeref\":0.0125},\"mode\":\"markers\",\"name\":\"path1_no_obstacle\",\"showlegend\":true,\"subplot\":\"mapbox\",\"type\":\"scattermapbox\"},{\"hovertemplate\":\"<b>%{hovertext}</b><br><br>type=path1<br>timestep=7000.0<br>size=%{marker.size}<br>lat=%{lat}<br>lon=%{lon}<extra></extra>\",\"hovertext\":[\"path1\"],\"lat\":[6.129392971246007],\"legendgroup\":\"path1\",\"lon\":[141.629392971246],\"marker\":{\"color\":\"#EF553B\",\"size\":[5],\"sizemode\":\"area\",\"sizeref\":0.0125},\"mode\":\"markers\",\"name\":\"path1\",\"showlegend\":true,\"subplot\":\"mapbox\",\"type\":\"scattermapbox\"}],\"name\":\"7000.0\"},{\"data\":[{\"hovertemplate\":\"<b>%{hovertext}</b><br><br>type=path1_no_obstacle<br>timestep=7100.0<br>size=%{marker.size}<br>lat=%{lat}<br>lon=%{lon}<extra></extra>\",\"hovertext\":[\"path1_no_obstacle\"],\"lat\":[-1.4426751592356688],\"legendgroup\":\"path1_no_obstacle\",\"lon\":[134.05732484076432],\"marker\":{\"color\":\"#636efa\",\"size\":[5],\"sizemode\":\"area\",\"sizeref\":0.0125},\"mode\":\"markers\",\"name\":\"path1_no_obstacle\",\"showlegend\":true,\"subplot\":\"mapbox\",\"type\":\"scattermapbox\"},{\"hovertemplate\":\"<b>%{hovertext}</b><br><br>type=path1<br>timestep=7100.0<br>size=%{marker.size}<br>lat=%{lat}<br>lon=%{lon}<extra></extra>\",\"hovertext\":[\"path1\"],\"lat\":[5.4904153354632586],\"legendgroup\":\"path1\",\"lon\":[140.99041533546327],\"marker\":{\"color\":\"#EF553B\",\"size\":[5],\"sizemode\":\"area\",\"sizeref\":0.0125},\"mode\":\"markers\",\"name\":\"path1\",\"showlegend\":true,\"subplot\":\"mapbox\",\"type\":\"scattermapbox\"}],\"name\":\"7100.0\"},{\"data\":[{\"hovertemplate\":\"<b>%{hovertext}</b><br><br>type=path1_no_obstacle<br>timestep=7200.0<br>size=%{marker.size}<br>lat=%{lat}<br>lon=%{lon}<extra></extra>\",\"hovertext\":[\"path1_no_obstacle\"],\"lat\":[-2.079617834394905],\"legendgroup\":\"path1_no_obstacle\",\"lon\":[133.4203821656051],\"marker\":{\"color\":\"#636efa\",\"size\":[5],\"sizemode\":\"area\",\"sizeref\":0.0125},\"mode\":\"markers\",\"name\":\"path1_no_obstacle\",\"showlegend\":true,\"subplot\":\"mapbox\",\"type\":\"scattermapbox\"},{\"hovertemplate\":\"<b>%{hovertext}</b><br><br>type=path1<br>timestep=7200.0<br>size=%{marker.size}<br>lat=%{lat}<br>lon=%{lon}<extra></extra>\",\"hovertext\":[\"path1\"],\"lat\":[4.851437699680512],\"legendgroup\":\"path1\",\"lon\":[140.3514376996805],\"marker\":{\"color\":\"#EF553B\",\"size\":[5],\"sizemode\":\"area\",\"sizeref\":0.0125},\"mode\":\"markers\",\"name\":\"path1\",\"showlegend\":true,\"subplot\":\"mapbox\",\"type\":\"scattermapbox\"}],\"name\":\"7200.0\"},{\"data\":[{\"hovertemplate\":\"<b>%{hovertext}</b><br><br>type=path1_no_obstacle<br>timestep=7300.0<br>size=%{marker.size}<br>lat=%{lat}<br>lon=%{lon}<extra></extra>\",\"hovertext\":[\"path1_no_obstacle\"],\"lat\":[-2.71656050955414],\"legendgroup\":\"path1_no_obstacle\",\"lon\":[132.78343949044586],\"marker\":{\"color\":\"#636efa\",\"size\":[5],\"sizemode\":\"area\",\"sizeref\":0.0125},\"mode\":\"markers\",\"name\":\"path1_no_obstacle\",\"showlegend\":true,\"subplot\":\"mapbox\",\"type\":\"scattermapbox\"},{\"hovertemplate\":\"<b>%{hovertext}</b><br><br>type=path1<br>timestep=7300.0<br>size=%{marker.size}<br>lat=%{lat}<br>lon=%{lon}<extra></extra>\",\"hovertext\":[\"path1\"],\"lat\":[4.213375796178344],\"legendgroup\":\"path1\",\"lon\":[139.71337579617835],\"marker\":{\"color\":\"#EF553B\",\"size\":[5],\"sizemode\":\"area\",\"sizeref\":0.0125},\"mode\":\"markers\",\"name\":\"path1\",\"showlegend\":true,\"subplot\":\"mapbox\",\"type\":\"scattermapbox\"}],\"name\":\"7300.0\"},{\"data\":[{\"hovertemplate\":\"<b>%{hovertext}</b><br><br>type=path1_no_obstacle<br>timestep=7400.0<br>size=%{marker.size}<br>lat=%{lat}<br>lon=%{lon}<extra></extra>\",\"hovertext\":[\"path1_no_obstacle\"],\"lat\":[-3.353503184713376],\"legendgroup\":\"path1_no_obstacle\",\"lon\":[132.1464968152866],\"marker\":{\"color\":\"#636efa\",\"size\":[5],\"sizemode\":\"area\",\"sizeref\":0.0125},\"mode\":\"markers\",\"name\":\"path1_no_obstacle\",\"showlegend\":true,\"subplot\":\"mapbox\",\"type\":\"scattermapbox\"},{\"hovertemplate\":\"<b>%{hovertext}</b><br><br>type=path1<br>timestep=7400.0<br>size=%{marker.size}<br>lat=%{lat}<br>lon=%{lon}<extra></extra>\",\"hovertext\":[\"path1\"],\"lat\":[3.5764331210191083],\"legendgroup\":\"path1\",\"lon\":[139.0764331210191],\"marker\":{\"color\":\"#EF553B\",\"size\":[5],\"sizemode\":\"area\",\"sizeref\":0.0125},\"mode\":\"markers\",\"name\":\"path1\",\"showlegend\":true,\"subplot\":\"mapbox\",\"type\":\"scattermapbox\"}],\"name\":\"7400.0\"},{\"data\":[{\"hovertemplate\":\"<b>%{hovertext}</b><br><br>type=path1_no_obstacle<br>timestep=7500.0<br>size=%{marker.size}<br>lat=%{lat}<br>lon=%{lon}<extra></extra>\",\"hovertext\":[\"path1_no_obstacle\"],\"lat\":[-3.990445859872612],\"legendgroup\":\"path1_no_obstacle\",\"lon\":[131.5095541401274],\"marker\":{\"color\":\"#636efa\",\"size\":[5],\"sizemode\":\"area\",\"sizeref\":0.0125},\"mode\":\"markers\",\"name\":\"path1_no_obstacle\",\"showlegend\":true,\"subplot\":\"mapbox\",\"type\":\"scattermapbox\"},{\"hovertemplate\":\"<b>%{hovertext}</b><br><br>type=path1<br>timestep=7500.0<br>size=%{marker.size}<br>lat=%{lat}<br>lon=%{lon}<extra></extra>\",\"hovertext\":[\"path1\"],\"lat\":[2.9394904458598727],\"legendgroup\":\"path1\",\"lon\":[138.43949044585986],\"marker\":{\"color\":\"#EF553B\",\"size\":[5],\"sizemode\":\"area\",\"sizeref\":0.0125},\"mode\":\"markers\",\"name\":\"path1\",\"showlegend\":true,\"subplot\":\"mapbox\",\"type\":\"scattermapbox\"}],\"name\":\"7500.0\"},{\"data\":[{\"hovertemplate\":\"<b>%{hovertext}</b><br><br>type=path1_no_obstacle<br>timestep=7600.0<br>size=%{marker.size}<br>lat=%{lat}<br>lon=%{lon}<extra></extra>\",\"hovertext\":[\"path1_no_obstacle\"],\"lat\":[-4.627388535031847],\"legendgroup\":\"path1_no_obstacle\",\"lon\":[130.87261146496814],\"marker\":{\"color\":\"#636efa\",\"size\":[5],\"sizemode\":\"area\",\"sizeref\":0.0125},\"mode\":\"markers\",\"name\":\"path1_no_obstacle\",\"showlegend\":true,\"subplot\":\"mapbox\",\"type\":\"scattermapbox\"},{\"hovertemplate\":\"<b>%{hovertext}</b><br><br>type=path1<br>timestep=7600.0<br>size=%{marker.size}<br>lat=%{lat}<br>lon=%{lon}<extra></extra>\",\"hovertext\":[\"path1\"],\"lat\":[2.3025477707006368],\"legendgroup\":\"path1\",\"lon\":[137.80254777070064],\"marker\":{\"color\":\"#EF553B\",\"size\":[5],\"sizemode\":\"area\",\"sizeref\":0.0125},\"mode\":\"markers\",\"name\":\"path1\",\"showlegend\":true,\"subplot\":\"mapbox\",\"type\":\"scattermapbox\"}],\"name\":\"7600.0\"},{\"data\":[{\"hovertemplate\":\"<b>%{hovertext}</b><br><br>type=path1_no_obstacle<br>timestep=7700.0<br>size=%{marker.size}<br>lat=%{lat}<br>lon=%{lon}<extra></extra>\",\"hovertext\":[\"path1_no_obstacle\"],\"lat\":[-5.264331210191083],\"legendgroup\":\"path1_no_obstacle\",\"lon\":[130.23566878980893],\"marker\":{\"color\":\"#636efa\",\"size\":[5],\"sizemode\":\"area\",\"sizeref\":0.0125},\"mode\":\"markers\",\"name\":\"path1_no_obstacle\",\"showlegend\":true,\"subplot\":\"mapbox\",\"type\":\"scattermapbox\"},{\"hovertemplate\":\"<b>%{hovertext}</b><br><br>type=path1<br>timestep=7700.0<br>size=%{marker.size}<br>lat=%{lat}<br>lon=%{lon}<extra></extra>\",\"hovertext\":[\"path1\"],\"lat\":[1.6656050955414012],\"legendgroup\":\"path1\",\"lon\":[137.1656050955414],\"marker\":{\"color\":\"#EF553B\",\"size\":[5],\"sizemode\":\"area\",\"sizeref\":0.0125},\"mode\":\"markers\",\"name\":\"path1\",\"showlegend\":true,\"subplot\":\"mapbox\",\"type\":\"scattermapbox\"}],\"name\":\"7700.0\"},{\"data\":[{\"hovertemplate\":\"<b>%{hovertext}</b><br><br>type=path1_no_obstacle<br>timestep=7800.0<br>size=%{marker.size}<br>lat=%{lat}<br>lon=%{lon}<extra></extra>\",\"hovertext\":[\"path1_no_obstacle\"],\"lat\":[-5.902555910543131],\"legendgroup\":\"path1_no_obstacle\",\"lon\":[129.59744408945687],\"marker\":{\"color\":\"#636efa\",\"size\":[5],\"sizemode\":\"area\",\"sizeref\":0.0125},\"mode\":\"markers\",\"name\":\"path1_no_obstacle\",\"showlegend\":true,\"subplot\":\"mapbox\",\"type\":\"scattermapbox\"},{\"hovertemplate\":\"<b>%{hovertext}</b><br><br>type=path1<br>timestep=7800.0<br>size=%{marker.size}<br>lat=%{lat}<br>lon=%{lon}<extra></extra>\",\"hovertext\":[\"path1\"],\"lat\":[1.0286624203821657],\"legendgroup\":\"path1\",\"lon\":[136.52866242038218],\"marker\":{\"color\":\"#EF553B\",\"size\":[5],\"sizemode\":\"area\",\"sizeref\":0.0125},\"mode\":\"markers\",\"name\":\"path1\",\"showlegend\":true,\"subplot\":\"mapbox\",\"type\":\"scattermapbox\"}],\"name\":\"7800.0\"},{\"data\":[{\"hovertemplate\":\"<b>%{hovertext}</b><br><br>type=path1_no_obstacle<br>timestep=7900.0<br>size=%{marker.size}<br>lat=%{lat}<br>lon=%{lon}<extra></extra>\",\"hovertext\":[\"path1_no_obstacle\"],\"lat\":[-6.541533546325878],\"legendgroup\":\"path1_no_obstacle\",\"lon\":[128.9584664536741],\"marker\":{\"color\":\"#636efa\",\"size\":[5],\"sizemode\":\"area\",\"sizeref\":0.0125},\"mode\":\"markers\",\"name\":\"path1_no_obstacle\",\"showlegend\":true,\"subplot\":\"mapbox\",\"type\":\"scattermapbox\"},{\"hovertemplate\":\"<b>%{hovertext}</b><br><br>type=path1<br>timestep=7900.0<br>size=%{marker.size}<br>lat=%{lat}<br>lon=%{lon}<extra></extra>\",\"hovertext\":[\"path1\"],\"lat\":[0.3917197452229299],\"legendgroup\":\"path1\",\"lon\":[135.89171974522293],\"marker\":{\"color\":\"#EF553B\",\"size\":[5],\"sizemode\":\"area\",\"sizeref\":0.0125},\"mode\":\"markers\",\"name\":\"path1\",\"showlegend\":true,\"subplot\":\"mapbox\",\"type\":\"scattermapbox\"}],\"name\":\"7900.0\"},{\"data\":[{\"hovertemplate\":\"<b>%{hovertext}</b><br><br>type=path1_no_obstacle<br>timestep=8000.0<br>size=%{marker.size}<br>lat=%{lat}<br>lon=%{lon}<extra></extra>\",\"hovertext\":[\"path1_no_obstacle\"],\"lat\":[-7.180511182108626],\"legendgroup\":\"path1_no_obstacle\",\"lon\":[128.31948881789137],\"marker\":{\"color\":\"#636efa\",\"size\":[5],\"sizemode\":\"area\",\"sizeref\":0.0125},\"mode\":\"markers\",\"name\":\"path1_no_obstacle\",\"showlegend\":true,\"subplot\":\"mapbox\",\"type\":\"scattermapbox\"},{\"hovertemplate\":\"<b>%{hovertext}</b><br><br>type=path1<br>timestep=8000.0<br>size=%{marker.size}<br>lat=%{lat}<br>lon=%{lon}<extra></extra>\",\"hovertext\":[\"path1\"],\"lat\":[-0.2452229299363058],\"legendgroup\":\"path1\",\"lon\":[135.25477707006368],\"marker\":{\"color\":\"#EF553B\",\"size\":[5],\"sizemode\":\"area\",\"sizeref\":0.0125},\"mode\":\"markers\",\"name\":\"path1\",\"showlegend\":true,\"subplot\":\"mapbox\",\"type\":\"scattermapbox\"}],\"name\":\"8000.0\"},{\"data\":[{\"hovertemplate\":\"<b>%{hovertext}</b><br><br>type=path1_no_obstacle<br>timestep=8100.0<br>size=%{marker.size}<br>lat=%{lat}<br>lon=%{lon}<extra></extra>\",\"hovertext\":[\"path1_no_obstacle\"],\"lat\":[-7.82051282051282],\"legendgroup\":\"path1_no_obstacle\",\"lon\":[127.67948717948718],\"marker\":{\"color\":\"#636efa\",\"size\":[5],\"sizemode\":\"area\",\"sizeref\":0.0125},\"mode\":\"markers\",\"name\":\"path1_no_obstacle\",\"showlegend\":true,\"subplot\":\"mapbox\",\"type\":\"scattermapbox\"},{\"hovertemplate\":\"<b>%{hovertext}</b><br><br>type=path1<br>timestep=8100.0<br>size=%{marker.size}<br>lat=%{lat}<br>lon=%{lon}<extra></extra>\",\"hovertext\":[\"path1\"],\"lat\":[-0.8821656050955415],\"legendgroup\":\"path1\",\"lon\":[134.61783439490446],\"marker\":{\"color\":\"#EF553B\",\"size\":[5],\"sizemode\":\"area\",\"sizeref\":0.0125},\"mode\":\"markers\",\"name\":\"path1\",\"showlegend\":true,\"subplot\":\"mapbox\",\"type\":\"scattermapbox\"}],\"name\":\"8100.0\"},{\"data\":[{\"hovertemplate\":\"<b>%{hovertext}</b><br><br>type=path1_no_obstacle<br>timestep=8200.0<br>size=%{marker.size}<br>lat=%{lat}<br>lon=%{lon}<extra></extra>\",\"hovertext\":[\"path1_no_obstacle\"],\"lat\":[-8.461538461538462],\"legendgroup\":\"path1_no_obstacle\",\"lon\":[127.03846153846152],\"marker\":{\"color\":\"#636efa\",\"size\":[5],\"sizemode\":\"area\",\"sizeref\":0.0125},\"mode\":\"markers\",\"name\":\"path1_no_obstacle\",\"showlegend\":true,\"subplot\":\"mapbox\",\"type\":\"scattermapbox\"},{\"hovertemplate\":\"<b>%{hovertext}</b><br><br>type=path1<br>timestep=8200.0<br>size=%{marker.size}<br>lat=%{lat}<br>lon=%{lon}<extra></extra>\",\"hovertext\":[\"path1\"],\"lat\":[-1.519108280254777],\"legendgroup\":\"path1\",\"lon\":[133.98089171974522],\"marker\":{\"color\":\"#EF553B\",\"size\":[5],\"sizemode\":\"area\",\"sizeref\":0.0125},\"mode\":\"markers\",\"name\":\"path1\",\"showlegend\":true,\"subplot\":\"mapbox\",\"type\":\"scattermapbox\"}],\"name\":\"8200.0\"},{\"data\":[{\"hovertemplate\":\"<b>%{hovertext}</b><br><br>type=path1_no_obstacle<br>timestep=8300.0<br>size=%{marker.size}<br>lat=%{lat}<br>lon=%{lon}<extra></extra>\",\"hovertext\":[\"path1_no_obstacle\"],\"lat\":[-9.102564102564102],\"legendgroup\":\"path1_no_obstacle\",\"lon\":[126.3974358974359],\"marker\":{\"color\":\"#636efa\",\"size\":[5],\"sizemode\":\"area\",\"sizeref\":0.0125},\"mode\":\"markers\",\"name\":\"path1_no_obstacle\",\"showlegend\":true,\"subplot\":\"mapbox\",\"type\":\"scattermapbox\"},{\"hovertemplate\":\"<b>%{hovertext}</b><br><br>type=path1<br>timestep=8300.0<br>size=%{marker.size}<br>lat=%{lat}<br>lon=%{lon}<extra></extra>\",\"hovertext\":[\"path1\"],\"lat\":[-2.156050955414013],\"legendgroup\":\"path1\",\"lon\":[133.343949044586],\"marker\":{\"color\":\"#EF553B\",\"size\":[5],\"sizemode\":\"area\",\"sizeref\":0.0125},\"mode\":\"markers\",\"name\":\"path1\",\"showlegend\":true,\"subplot\":\"mapbox\",\"type\":\"scattermapbox\"}],\"name\":\"8300.0\"},{\"data\":[{\"hovertemplate\":\"<b>%{hovertext}</b><br><br>type=path1_no_obstacle<br>timestep=8400.0<br>size=%{marker.size}<br>lat=%{lat}<br>lon=%{lon}<extra></extra>\",\"hovertext\":[\"path1_no_obstacle\"],\"lat\":[-9.744372990353698],\"legendgroup\":\"path1_no_obstacle\",\"lon\":[125.7556270096463],\"marker\":{\"color\":\"#636efa\",\"size\":[5],\"sizemode\":\"area\",\"sizeref\":0.0125},\"mode\":\"markers\",\"name\":\"path1_no_obstacle\",\"showlegend\":true,\"subplot\":\"mapbox\",\"type\":\"scattermapbox\"},{\"hovertemplate\":\"<b>%{hovertext}</b><br><br>type=path1<br>timestep=8400.0<br>size=%{marker.size}<br>lat=%{lat}<br>lon=%{lon}<extra></extra>\",\"hovertext\":[\"path1\"],\"lat\":[-2.792993630573249],\"legendgroup\":\"path1\",\"lon\":[132.70700636942675],\"marker\":{\"color\":\"#EF553B\",\"size\":[5],\"sizemode\":\"area\",\"sizeref\":0.0125},\"mode\":\"markers\",\"name\":\"path1\",\"showlegend\":true,\"subplot\":\"mapbox\",\"type\":\"scattermapbox\"}],\"name\":\"8400.0\"},{\"data\":[{\"hovertemplate\":\"<b>%{hovertext}</b><br><br>type=path1_no_obstacle<br>timestep=8500.0<br>size=%{marker.size}<br>lat=%{lat}<br>lon=%{lon}<extra></extra>\",\"hovertext\":[\"path1_no_obstacle\"],\"lat\":[-10.387459807073956],\"legendgroup\":\"path1_no_obstacle\",\"lon\":[125.11254019292603],\"marker\":{\"color\":\"#636efa\",\"size\":[5],\"sizemode\":\"area\",\"sizeref\":0.0125},\"mode\":\"markers\",\"name\":\"path1_no_obstacle\",\"showlegend\":true,\"subplot\":\"mapbox\",\"type\":\"scattermapbox\"},{\"hovertemplate\":\"<b>%{hovertext}</b><br><br>type=path1<br>timestep=8500.0<br>size=%{marker.size}<br>lat=%{lat}<br>lon=%{lon}<extra></extra>\",\"hovertext\":[\"path1\"],\"lat\":[-3.4299363057324843],\"legendgroup\":\"path1\",\"lon\":[132.0700636942675],\"marker\":{\"color\":\"#EF553B\",\"size\":[5],\"sizemode\":\"area\",\"sizeref\":0.0125},\"mode\":\"markers\",\"name\":\"path1\",\"showlegend\":true,\"subplot\":\"mapbox\",\"type\":\"scattermapbox\"}],\"name\":\"8500.0\"},{\"data\":[{\"hovertemplate\":\"<b>%{hovertext}</b><br><br>type=path1_no_obstacle<br>timestep=8600.0<br>size=%{marker.size}<br>lat=%{lat}<br>lon=%{lon}<extra></extra>\",\"hovertext\":[\"path1_no_obstacle\"],\"lat\":[-11.030546623794212],\"legendgroup\":\"path1_no_obstacle\",\"lon\":[124.4694533762058],\"marker\":{\"color\":\"#636efa\",\"size\":[5],\"sizemode\":\"area\",\"sizeref\":0.0125},\"mode\":\"markers\",\"name\":\"path1_no_obstacle\",\"showlegend\":true,\"subplot\":\"mapbox\",\"type\":\"scattermapbox\"},{\"hovertemplate\":\"<b>%{hovertext}</b><br><br>type=path1<br>timestep=8600.0<br>size=%{marker.size}<br>lat=%{lat}<br>lon=%{lon}<extra></extra>\",\"hovertext\":[\"path1\"],\"lat\":[-4.06687898089172],\"legendgroup\":\"path1\",\"lon\":[131.43312101910828],\"marker\":{\"color\":\"#EF553B\",\"size\":[5],\"sizemode\":\"area\",\"sizeref\":0.0125},\"mode\":\"markers\",\"name\":\"path1\",\"showlegend\":true,\"subplot\":\"mapbox\",\"type\":\"scattermapbox\"}],\"name\":\"8600.0\"},{\"data\":[{\"hovertemplate\":\"<b>%{hovertext}</b><br><br>type=path1_no_obstacle<br>timestep=8700.0<br>size=%{marker.size}<br>lat=%{lat}<br>lon=%{lon}<extra></extra>\",\"hovertext\":[\"path1_no_obstacle\"],\"lat\":[-11.674193548387096],\"legendgroup\":\"path1_no_obstacle\",\"lon\":[123.8258064516129],\"marker\":{\"color\":\"#636efa\",\"size\":[5],\"sizemode\":\"area\",\"sizeref\":0.0125},\"mode\":\"markers\",\"name\":\"path1_no_obstacle\",\"showlegend\":true,\"subplot\":\"mapbox\",\"type\":\"scattermapbox\"},{\"hovertemplate\":\"<b>%{hovertext}</b><br><br>type=path1<br>timestep=8700.0<br>size=%{marker.size}<br>lat=%{lat}<br>lon=%{lon}<extra></extra>\",\"hovertext\":[\"path1\"],\"lat\":[-4.703821656050955],\"legendgroup\":\"path1\",\"lon\":[130.79617834394904],\"marker\":{\"color\":\"#EF553B\",\"size\":[5],\"sizemode\":\"area\",\"sizeref\":0.0125},\"mode\":\"markers\",\"name\":\"path1\",\"showlegend\":true,\"subplot\":\"mapbox\",\"type\":\"scattermapbox\"}],\"name\":\"8700.0\"},{\"data\":[{\"hovertemplate\":\"<b>%{hovertext}</b><br><br>type=path1_no_obstacle<br>timestep=8800.0<br>size=%{marker.size}<br>lat=%{lat}<br>lon=%{lon}<extra></extra>\",\"hovertext\":[\"path1_no_obstacle\"],\"lat\":[-12.319354838709678],\"legendgroup\":\"path1_no_obstacle\",\"lon\":[123.18064516129031],\"marker\":{\"color\":\"#636efa\",\"size\":[5],\"sizemode\":\"area\",\"sizeref\":0.0125},\"mode\":\"markers\",\"name\":\"path1_no_obstacle\",\"showlegend\":true,\"subplot\":\"mapbox\",\"type\":\"scattermapbox\"},{\"hovertemplate\":\"<b>%{hovertext}</b><br><br>type=path1<br>timestep=8800.0<br>size=%{marker.size}<br>lat=%{lat}<br>lon=%{lon}<extra></extra>\",\"hovertext\":[\"path1\"],\"lat\":[-5.340764331210191],\"legendgroup\":\"path1\",\"lon\":[130.15923566878982],\"marker\":{\"color\":\"#EF553B\",\"size\":[5],\"sizemode\":\"area\",\"sizeref\":0.0125},\"mode\":\"markers\",\"name\":\"path1\",\"showlegend\":true,\"subplot\":\"mapbox\",\"type\":\"scattermapbox\"}],\"name\":\"8800.0\"},{\"data\":[{\"hovertemplate\":\"<b>%{hovertext}</b><br><br>type=path1_no_obstacle<br>timestep=8900.0<br>size=%{marker.size}<br>lat=%{lat}<br>lon=%{lon}<extra></extra>\",\"hovertext\":[\"path1_no_obstacle\"],\"lat\":[-12.964516129032258],\"legendgroup\":\"path1_no_obstacle\",\"lon\":[122.53548387096774],\"marker\":{\"color\":\"#636efa\",\"size\":[5],\"sizemode\":\"area\",\"sizeref\":0.0125},\"mode\":\"markers\",\"name\":\"path1_no_obstacle\",\"showlegend\":true,\"subplot\":\"mapbox\",\"type\":\"scattermapbox\"},{\"hovertemplate\":\"<b>%{hovertext}</b><br><br>type=path1<br>timestep=8900.0<br>size=%{marker.size}<br>lat=%{lat}<br>lon=%{lon}<extra></extra>\",\"hovertext\":[\"path1\"],\"lat\":[-5.979233226837061],\"legendgroup\":\"path1\",\"lon\":[129.52076677316293],\"marker\":{\"color\":\"#EF553B\",\"size\":[5],\"sizemode\":\"area\",\"sizeref\":0.0125},\"mode\":\"markers\",\"name\":\"path1\",\"showlegend\":true,\"subplot\":\"mapbox\",\"type\":\"scattermapbox\"}],\"name\":\"8900.0\"},{\"data\":[{\"hovertemplate\":\"<b>%{hovertext}</b><br><br>type=path1_no_obstacle<br>timestep=9000.0<br>size=%{marker.size}<br>lat=%{lat}<br>lon=%{lon}<extra></extra>\",\"hovertext\":[\"path1_no_obstacle\"],\"lat\":[-13.610032362459547],\"legendgroup\":\"path1_no_obstacle\",\"lon\":[121.88996763754044],\"marker\":{\"color\":\"#636efa\",\"size\":[5],\"sizemode\":\"area\",\"sizeref\":0.0125},\"mode\":\"markers\",\"name\":\"path1_no_obstacle\",\"showlegend\":true,\"subplot\":\"mapbox\",\"type\":\"scattermapbox\"},{\"hovertemplate\":\"<b>%{hovertext}</b><br><br>type=path1<br>timestep=9000.0<br>size=%{marker.size}<br>lat=%{lat}<br>lon=%{lon}<extra></extra>\",\"hovertext\":[\"path1\"],\"lat\":[-6.618210862619808],\"legendgroup\":\"path1\",\"lon\":[128.8817891373802],\"marker\":{\"color\":\"#EF553B\",\"size\":[5],\"sizemode\":\"area\",\"sizeref\":0.0125},\"mode\":\"markers\",\"name\":\"path1\",\"showlegend\":true,\"subplot\":\"mapbox\",\"type\":\"scattermapbox\"}],\"name\":\"9000.0\"},{\"data\":[{\"hovertemplate\":\"<b>%{hovertext}</b><br><br>type=path1_no_obstacle<br>timestep=9100.0<br>size=%{marker.size}<br>lat=%{lat}<br>lon=%{lon}<extra></extra>\",\"hovertext\":[\"path1_no_obstacle\"],\"lat\":[-14.25728155339806],\"legendgroup\":\"path1_no_obstacle\",\"lon\":[121.24271844660194],\"marker\":{\"color\":\"#636efa\",\"size\":[5],\"sizemode\":\"area\",\"sizeref\":0.0125},\"mode\":\"markers\",\"name\":\"path1_no_obstacle\",\"showlegend\":true,\"subplot\":\"mapbox\",\"type\":\"scattermapbox\"},{\"hovertemplate\":\"<b>%{hovertext}</b><br><br>type=path1<br>timestep=9100.0<br>size=%{marker.size}<br>lat=%{lat}<br>lon=%{lon}<extra></extra>\",\"hovertext\":[\"path1\"],\"lat\":[-7.257188498402556],\"legendgroup\":\"path1\",\"lon\":[128.24281150159743],\"marker\":{\"color\":\"#EF553B\",\"size\":[5],\"sizemode\":\"area\",\"sizeref\":0.0125},\"mode\":\"markers\",\"name\":\"path1\",\"showlegend\":true,\"subplot\":\"mapbox\",\"type\":\"scattermapbox\"}],\"name\":\"9100.0\"},{\"data\":[{\"hovertemplate\":\"<b>%{hovertext}</b><br><br>type=path1_no_obstacle<br>timestep=9200.0<br>size=%{marker.size}<br>lat=%{lat}<br>lon=%{lon}<extra></extra>\",\"hovertext\":[\"path1_no_obstacle\"],\"lat\":[-14.904530744336569],\"legendgroup\":\"path1_no_obstacle\",\"lon\":[120.59546925566345],\"marker\":{\"color\":\"#636efa\",\"size\":[5],\"sizemode\":\"area\",\"sizeref\":0.0125},\"mode\":\"markers\",\"name\":\"path1_no_obstacle\",\"showlegend\":true,\"subplot\":\"mapbox\",\"type\":\"scattermapbox\"},{\"hovertemplate\":\"<b>%{hovertext}</b><br><br>type=path1<br>timestep=9200.0<br>size=%{marker.size}<br>lat=%{lat}<br>lon=%{lon}<extra></extra>\",\"hovertext\":[\"path1\"],\"lat\":[-7.897435897435898],\"legendgroup\":\"path1\",\"lon\":[127.6025641025641],\"marker\":{\"color\":\"#EF553B\",\"size\":[5],\"sizemode\":\"area\",\"sizeref\":0.0125},\"mode\":\"markers\",\"name\":\"path1\",\"showlegend\":true,\"subplot\":\"mapbox\",\"type\":\"scattermapbox\"}],\"name\":\"9200.0\"},{\"data\":[{\"hovertemplate\":\"<b>%{hovertext}</b><br><br>type=path1_no_obstacle<br>timestep=9300.0<br>size=%{marker.size}<br>lat=%{lat}<br>lon=%{lon}<extra></extra>\",\"hovertext\":[\"path1_no_obstacle\"],\"lat\":[-15.551948051948052],\"legendgroup\":\"path1_no_obstacle\",\"lon\":[119.94805194805195],\"marker\":{\"color\":\"#636efa\",\"size\":[5],\"sizemode\":\"area\",\"sizeref\":0.0125},\"mode\":\"markers\",\"name\":\"path1_no_obstacle\",\"showlegend\":true,\"subplot\":\"mapbox\",\"type\":\"scattermapbox\"},{\"hovertemplate\":\"<b>%{hovertext}</b><br><br>type=path1<br>timestep=9300.0<br>size=%{marker.size}<br>lat=%{lat}<br>lon=%{lon}<extra></extra>\",\"hovertext\":[\"path1\"],\"lat\":[-8.538461538461538],\"legendgroup\":\"path1\",\"lon\":[126.96153846153848],\"marker\":{\"color\":\"#EF553B\",\"size\":[5],\"sizemode\":\"area\",\"sizeref\":0.0125},\"mode\":\"markers\",\"name\":\"path1\",\"showlegend\":true,\"subplot\":\"mapbox\",\"type\":\"scattermapbox\"}],\"name\":\"9300.0\"},{\"data\":[{\"hovertemplate\":\"<b>%{hovertext}</b><br><br>type=path1_no_obstacle<br>timestep=9400.0<br>size=%{marker.size}<br>lat=%{lat}<br>lon=%{lon}<extra></extra>\",\"hovertext\":[\"path1_no_obstacle\"],\"lat\":[-16.2012987012987],\"legendgroup\":\"path1_no_obstacle\",\"lon\":[119.2987012987013],\"marker\":{\"color\":\"#636efa\",\"size\":[5],\"sizemode\":\"area\",\"sizeref\":0.0125},\"mode\":\"markers\",\"name\":\"path1_no_obstacle\",\"showlegend\":true,\"subplot\":\"mapbox\",\"type\":\"scattermapbox\"},{\"hovertemplate\":\"<b>%{hovertext}</b><br><br>type=path1<br>timestep=9400.0<br>size=%{marker.size}<br>lat=%{lat}<br>lon=%{lon}<extra></extra>\",\"hovertext\":[\"path1\"],\"lat\":[-9.17948717948718],\"legendgroup\":\"path1\",\"lon\":[126.32051282051282],\"marker\":{\"color\":\"#EF553B\",\"size\":[5],\"sizemode\":\"area\",\"sizeref\":0.0125},\"mode\":\"markers\",\"name\":\"path1\",\"showlegend\":true,\"subplot\":\"mapbox\",\"type\":\"scattermapbox\"}],\"name\":\"9400.0\"},{\"data\":[{\"hovertemplate\":\"<b>%{hovertext}</b><br><br>type=path1_no_obstacle<br>timestep=9500.0<br>size=%{marker.size}<br>lat=%{lat}<br>lon=%{lon}<extra></extra>\",\"hovertext\":[\"path1_no_obstacle\"],\"lat\":[-16.850649350649352],\"legendgroup\":\"path1_no_obstacle\",\"lon\":[118.64935064935064],\"marker\":{\"color\":\"#636efa\",\"size\":[5],\"sizemode\":\"area\",\"sizeref\":0.0125},\"mode\":\"markers\",\"name\":\"path1_no_obstacle\",\"showlegend\":true,\"subplot\":\"mapbox\",\"type\":\"scattermapbox\"},{\"hovertemplate\":\"<b>%{hovertext}</b><br><br>type=path1<br>timestep=9500.0<br>size=%{marker.size}<br>lat=%{lat}<br>lon=%{lon}<extra></extra>\",\"hovertext\":[\"path1\"],\"lat\":[-9.821543408360128],\"legendgroup\":\"path1\",\"lon\":[125.67845659163989],\"marker\":{\"color\":\"#EF553B\",\"size\":[5],\"sizemode\":\"area\",\"sizeref\":0.0125},\"mode\":\"markers\",\"name\":\"path1\",\"showlegend\":true,\"subplot\":\"mapbox\",\"type\":\"scattermapbox\"}],\"name\":\"9500.0\"},{\"data\":[{\"hovertemplate\":\"<b>%{hovertext}</b><br><br>type=path1_no_obstacle<br>timestep=9600.0<br>size=%{marker.size}<br>lat=%{lat}<br>lon=%{lon}<extra></extra>\",\"hovertext\":[\"path1_no_obstacle\"],\"lat\":[-17.5],\"legendgroup\":\"path1_no_obstacle\",\"lon\":[118.0],\"marker\":{\"color\":\"#636efa\",\"size\":[5],\"sizemode\":\"area\",\"sizeref\":0.0125},\"mode\":\"markers\",\"name\":\"path1_no_obstacle\",\"showlegend\":true,\"subplot\":\"mapbox\",\"type\":\"scattermapbox\"},{\"hovertemplate\":\"<b>%{hovertext}</b><br><br>type=path1<br>timestep=9600.0<br>size=%{marker.size}<br>lat=%{lat}<br>lon=%{lon}<extra></extra>\",\"hovertext\":[\"path1\"],\"lat\":[-10.464630225080386],\"legendgroup\":\"path1\",\"lon\":[125.03536977491962],\"marker\":{\"color\":\"#EF553B\",\"size\":[5],\"sizemode\":\"area\",\"sizeref\":0.0125},\"mode\":\"markers\",\"name\":\"path1\",\"showlegend\":true,\"subplot\":\"mapbox\",\"type\":\"scattermapbox\"}],\"name\":\"9600.0\"},{\"data\":[{\"hovertemplate\":\"<b>%{hovertext}</b><br><br>type=path1_no_obstacle<br>timestep=9700.0<br>size=%{marker.size}<br>lat=%{lat}<br>lon=%{lon}<extra></extra>\",\"hovertext\":[\"path1_no_obstacle\"],\"lat\":[-18.15359477124183],\"legendgroup\":\"path1_no_obstacle\",\"lon\":[117.34640522875816],\"marker\":{\"color\":\"#636efa\",\"size\":[5],\"sizemode\":\"area\",\"sizeref\":0.0125},\"mode\":\"markers\",\"name\":\"path1_no_obstacle\",\"showlegend\":true,\"subplot\":\"mapbox\",\"type\":\"scattermapbox\"},{\"hovertemplate\":\"<b>%{hovertext}</b><br><br>type=path1<br>timestep=9700.0<br>size=%{marker.size}<br>lat=%{lat}<br>lon=%{lon}<extra></extra>\",\"hovertext\":[\"path1\"],\"lat\":[-11.107717041800644],\"legendgroup\":\"path1\",\"lon\":[124.39228295819936],\"marker\":{\"color\":\"#EF553B\",\"size\":[5],\"sizemode\":\"area\",\"sizeref\":0.0125},\"mode\":\"markers\",\"name\":\"path1\",\"showlegend\":true,\"subplot\":\"mapbox\",\"type\":\"scattermapbox\"}],\"name\":\"9700.0\"},{\"data\":[{\"hovertemplate\":\"<b>%{hovertext}</b><br><br>type=path1_no_obstacle<br>timestep=9800.0<br>size=%{marker.size}<br>lat=%{lat}<br>lon=%{lon}<extra></extra>\",\"hovertext\":[\"path1_no_obstacle\"],\"lat\":[-18.80718954248366],\"legendgroup\":\"path1_no_obstacle\",\"lon\":[116.69281045751634],\"marker\":{\"color\":\"#636efa\",\"size\":[5],\"sizemode\":\"area\",\"sizeref\":0.0125},\"mode\":\"markers\",\"name\":\"path1_no_obstacle\",\"showlegend\":true,\"subplot\":\"mapbox\",\"type\":\"scattermapbox\"},{\"hovertemplate\":\"<b>%{hovertext}</b><br><br>type=path1<br>timestep=9800.0<br>size=%{marker.size}<br>lat=%{lat}<br>lon=%{lon}<extra></extra>\",\"hovertext\":[\"path1\"],\"lat\":[-11.751612903225809],\"legendgroup\":\"path1\",\"lon\":[123.7483870967742],\"marker\":{\"color\":\"#EF553B\",\"size\":[5],\"sizemode\":\"area\",\"sizeref\":0.0125},\"mode\":\"markers\",\"name\":\"path1\",\"showlegend\":true,\"subplot\":\"mapbox\",\"type\":\"scattermapbox\"}],\"name\":\"9800.0\"},{\"data\":[{\"hovertemplate\":\"<b>%{hovertext}</b><br><br>type=path1_no_obstacle<br>timestep=9900.0<br>size=%{marker.size}<br>lat=%{lat}<br>lon=%{lon}<extra></extra>\",\"hovertext\":[\"path1_no_obstacle\"],\"lat\":[-19.46078431372549],\"legendgroup\":\"path1_no_obstacle\",\"lon\":[116.0392156862745],\"marker\":{\"color\":\"#636efa\",\"size\":[5],\"sizemode\":\"area\",\"sizeref\":0.0125},\"mode\":\"markers\",\"name\":\"path1_no_obstacle\",\"showlegend\":true,\"subplot\":\"mapbox\",\"type\":\"scattermapbox\"},{\"hovertemplate\":\"<b>%{hovertext}</b><br><br>type=path1<br>timestep=9900.0<br>size=%{marker.size}<br>lat=%{lat}<br>lon=%{lon}<extra></extra>\",\"hovertext\":[\"path1\"],\"lat\":[-12.396774193548389],\"legendgroup\":\"path1\",\"lon\":[123.10322580645162],\"marker\":{\"color\":\"#EF553B\",\"size\":[5],\"sizemode\":\"area\",\"sizeref\":0.0125},\"mode\":\"markers\",\"name\":\"path1\",\"showlegend\":true,\"subplot\":\"mapbox\",\"type\":\"scattermapbox\"}],\"name\":\"9900.0\"},{\"data\":[{\"hovertemplate\":\"<b>%{hovertext}</b><br><br>type=path1_no_obstacle<br>timestep=10000.0<br>size=%{marker.size}<br>lat=%{lat}<br>lon=%{lon}<extra></extra>\",\"hovertext\":[\"path1_no_obstacle\"],\"lat\":[-20.11842105263158],\"legendgroup\":\"path1_no_obstacle\",\"lon\":[115.38157894736842],\"marker\":{\"color\":\"#636efa\",\"size\":[5],\"sizemode\":\"area\",\"sizeref\":0.0125},\"mode\":\"markers\",\"name\":\"path1_no_obstacle\",\"showlegend\":true,\"subplot\":\"mapbox\",\"type\":\"scattermapbox\"},{\"hovertemplate\":\"<b>%{hovertext}</b><br><br>type=path1<br>timestep=10000.0<br>size=%{marker.size}<br>lat=%{lat}<br>lon=%{lon}<extra></extra>\",\"hovertext\":[\"path1\"],\"lat\":[-13.041935483870969],\"legendgroup\":\"path1\",\"lon\":[122.45806451612904],\"marker\":{\"color\":\"#EF553B\",\"size\":[5],\"sizemode\":\"area\",\"sizeref\":0.0125},\"mode\":\"markers\",\"name\":\"path1\",\"showlegend\":true,\"subplot\":\"mapbox\",\"type\":\"scattermapbox\"}],\"name\":\"10000.0\"},{\"data\":[{\"hovertemplate\":\"<b>%{hovertext}</b><br><br>type=path1_no_obstacle<br>timestep=10100.0<br>size=%{marker.size}<br>lat=%{lat}<br>lon=%{lon}<extra></extra>\",\"hovertext\":[\"path1_no_obstacle\"],\"lat\":[-20.776315789473685],\"legendgroup\":\"path1_no_obstacle\",\"lon\":[114.72368421052632],\"marker\":{\"color\":\"#636efa\",\"size\":[5],\"sizemode\":\"area\",\"sizeref\":0.0125},\"mode\":\"markers\",\"name\":\"path1_no_obstacle\",\"showlegend\":true,\"subplot\":\"mapbox\",\"type\":\"scattermapbox\"},{\"hovertemplate\":\"<b>%{hovertext}</b><br><br>type=path1<br>timestep=10100.0<br>size=%{marker.size}<br>lat=%{lat}<br>lon=%{lon}<extra></extra>\",\"hovertext\":[\"path1\"],\"lat\":[-13.687702265372168],\"legendgroup\":\"path1\",\"lon\":[121.81229773462783],\"marker\":{\"color\":\"#EF553B\",\"size\":[5],\"sizemode\":\"area\",\"sizeref\":0.0125},\"mode\":\"markers\",\"name\":\"path1\",\"showlegend\":true,\"subplot\":\"mapbox\",\"type\":\"scattermapbox\"}],\"name\":\"10100.0\"},{\"data\":[{\"hovertemplate\":\"<b>%{hovertext}</b><br><br>type=path1_no_obstacle<br>timestep=10200.0<br>size=%{marker.size}<br>lat=%{lat}<br>lon=%{lon}<extra></extra>\",\"hovertext\":[\"path1_no_obstacle\"],\"lat\":[-21.434210526315788],\"legendgroup\":\"path1_no_obstacle\",\"lon\":[114.0657894736842],\"marker\":{\"color\":\"#636efa\",\"size\":[5],\"sizemode\":\"area\",\"sizeref\":0.0125},\"mode\":\"markers\",\"name\":\"path1_no_obstacle\",\"showlegend\":true,\"subplot\":\"mapbox\",\"type\":\"scattermapbox\"},{\"hovertemplate\":\"<b>%{hovertext}</b><br><br>type=path1<br>timestep=10200.0<br>size=%{marker.size}<br>lat=%{lat}<br>lon=%{lon}<extra></extra>\",\"hovertext\":[\"path1\"],\"lat\":[-14.33495145631068],\"legendgroup\":\"path1\",\"lon\":[121.16504854368932],\"marker\":{\"color\":\"#EF553B\",\"size\":[5],\"sizemode\":\"area\",\"sizeref\":0.0125},\"mode\":\"markers\",\"name\":\"path1\",\"showlegend\":true,\"subplot\":\"mapbox\",\"type\":\"scattermapbox\"}],\"name\":\"10200.0\"},{\"data\":[{\"hovertemplate\":\"<b>%{hovertext}</b><br><br>type=path1_no_obstacle<br>timestep=10300.0<br>size=%{marker.size}<br>lat=%{lat}<br>lon=%{lon}<extra></extra>\",\"hovertext\":[\"path1_no_obstacle\"],\"lat\":[-22.096026490066222],\"legendgroup\":\"path1_no_obstacle\",\"lon\":[113.40397350993378],\"marker\":{\"color\":\"#636efa\",\"size\":[5],\"sizemode\":\"area\",\"sizeref\":0.0125},\"mode\":\"markers\",\"name\":\"path1_no_obstacle\",\"showlegend\":true,\"subplot\":\"mapbox\",\"type\":\"scattermapbox\"},{\"hovertemplate\":\"<b>%{hovertext}</b><br><br>type=path1<br>timestep=10300.0<br>size=%{marker.size}<br>lat=%{lat}<br>lon=%{lon}<extra></extra>\",\"hovertext\":[\"path1\"],\"lat\":[-14.982200647249192],\"legendgroup\":\"path1\",\"lon\":[120.5177993527508],\"marker\":{\"color\":\"#EF553B\",\"size\":[5],\"sizemode\":\"area\",\"sizeref\":0.0125},\"mode\":\"markers\",\"name\":\"path1\",\"showlegend\":true,\"subplot\":\"mapbox\",\"type\":\"scattermapbox\"}],\"name\":\"10300.0\"},{\"data\":[{\"hovertemplate\":\"<b>%{hovertext}</b><br><br>type=path1_no_obstacle<br>timestep=10400.0<br>size=%{marker.size}<br>lat=%{lat}<br>lon=%{lon}<extra></extra>\",\"hovertext\":[\"path1_no_obstacle\"],\"lat\":[-22.758278145695364],\"legendgroup\":\"path1_no_obstacle\",\"lon\":[112.74172185430464],\"marker\":{\"color\":\"#636efa\",\"size\":[5],\"sizemode\":\"area\",\"sizeref\":0.0125},\"mode\":\"markers\",\"name\":\"path1_no_obstacle\",\"showlegend\":true,\"subplot\":\"mapbox\",\"type\":\"scattermapbox\"},{\"hovertemplate\":\"<b>%{hovertext}</b><br><br>type=path1<br>timestep=10400.0<br>size=%{marker.size}<br>lat=%{lat}<br>lon=%{lon}<extra></extra>\",\"hovertext\":[\"path1\"],\"lat\":[-15.62987012987013],\"legendgroup\":\"path1\",\"lon\":[119.87012987012989],\"marker\":{\"color\":\"#EF553B\",\"size\":[5],\"sizemode\":\"area\",\"sizeref\":0.0125},\"mode\":\"markers\",\"name\":\"path1\",\"showlegend\":true,\"subplot\":\"mapbox\",\"type\":\"scattermapbox\"}],\"name\":\"10400.0\"},{\"data\":[{\"hovertemplate\":\"<b>%{hovertext}</b><br><br>type=path1_no_obstacle<br>timestep=10500.0<br>size=%{marker.size}<br>lat=%{lat}<br>lon=%{lon}<extra></extra>\",\"hovertext\":[\"path1_no_obstacle\"],\"lat\":[-23.420529801324506],\"legendgroup\":\"path1_no_obstacle\",\"lon\":[112.0794701986755],\"marker\":{\"color\":\"#636efa\",\"size\":[5],\"sizemode\":\"area\",\"sizeref\":0.0125},\"mode\":\"markers\",\"name\":\"path1_no_obstacle\",\"showlegend\":true,\"subplot\":\"mapbox\",\"type\":\"scattermapbox\"},{\"hovertemplate\":\"<b>%{hovertext}</b><br><br>type=path1<br>timestep=10500.0<br>size=%{marker.size}<br>lat=%{lat}<br>lon=%{lon}<extra></extra>\",\"hovertext\":[\"path1\"],\"lat\":[-16.27922077922078],\"legendgroup\":\"path1\",\"lon\":[119.22077922077922],\"marker\":{\"color\":\"#EF553B\",\"size\":[5],\"sizemode\":\"area\",\"sizeref\":0.0125},\"mode\":\"markers\",\"name\":\"path1\",\"showlegend\":true,\"subplot\":\"mapbox\",\"type\":\"scattermapbox\"}],\"name\":\"10500.0\"},{\"data\":[{\"hovertemplate\":\"<b>%{hovertext}</b><br><br>type=path1_no_obstacle<br>timestep=10600.0<br>size=%{marker.size}<br>lat=%{lat}<br>lon=%{lon}<extra></extra>\",\"hovertext\":[\"path1_no_obstacle\"],\"lat\":[-24.086666666666662],\"legendgroup\":\"path1_no_obstacle\",\"lon\":[111.41333333333333],\"marker\":{\"color\":\"#636efa\",\"size\":[5],\"sizemode\":\"area\",\"sizeref\":0.0125},\"mode\":\"markers\",\"name\":\"path1_no_obstacle\",\"showlegend\":true,\"subplot\":\"mapbox\",\"type\":\"scattermapbox\"},{\"hovertemplate\":\"<b>%{hovertext}</b><br><br>type=path1<br>timestep=10600.0<br>size=%{marker.size}<br>lat=%{lat}<br>lon=%{lon}<extra></extra>\",\"hovertext\":[\"path1\"],\"lat\":[-16.928571428571427],\"legendgroup\":\"path1\",\"lon\":[118.57142857142856],\"marker\":{\"color\":\"#EF553B\",\"size\":[5],\"sizemode\":\"area\",\"sizeref\":0.0125},\"mode\":\"markers\",\"name\":\"path1\",\"showlegend\":true,\"subplot\":\"mapbox\",\"type\":\"scattermapbox\"}],\"name\":\"10600.0\"},{\"data\":[{\"hovertemplate\":\"<b>%{hovertext}</b><br><br>type=path1_no_obstacle<br>timestep=10700.0<br>size=%{marker.size}<br>lat=%{lat}<br>lon=%{lon}<extra></extra>\",\"hovertext\":[\"path1_no_obstacle\"],\"lat\":[-24.75333333333333],\"legendgroup\":\"path1_no_obstacle\",\"lon\":[110.74666666666668],\"marker\":{\"color\":\"#636efa\",\"size\":[5],\"sizemode\":\"area\",\"sizeref\":0.0125},\"mode\":\"markers\",\"name\":\"path1_no_obstacle\",\"showlegend\":true,\"subplot\":\"mapbox\",\"type\":\"scattermapbox\"},{\"hovertemplate\":\"<b>%{hovertext}</b><br><br>type=path1<br>timestep=10700.0<br>size=%{marker.size}<br>lat=%{lat}<br>lon=%{lon}<extra></extra>\",\"hovertext\":[\"path1\"],\"lat\":[-17.57843137254902],\"legendgroup\":\"path1\",\"lon\":[117.92156862745098],\"marker\":{\"color\":\"#EF553B\",\"size\":[5],\"sizemode\":\"area\",\"sizeref\":0.0125},\"mode\":\"markers\",\"name\":\"path1\",\"showlegend\":true,\"subplot\":\"mapbox\",\"type\":\"scattermapbox\"}],\"name\":\"10700.0\"},{\"data\":[{\"hovertemplate\":\"<b>%{hovertext}</b><br><br>type=path1_no_obstacle<br>timestep=10800.0<br>size=%{marker.size}<br>lat=%{lat}<br>lon=%{lon}<extra></extra>\",\"hovertext\":[\"path1_no_obstacle\"],\"lat\":[-25.42],\"legendgroup\":\"path1_no_obstacle\",\"lon\":[110.08],\"marker\":{\"color\":\"#636efa\",\"size\":[5],\"sizemode\":\"area\",\"sizeref\":0.0125},\"mode\":\"markers\",\"name\":\"path1_no_obstacle\",\"showlegend\":true,\"subplot\":\"mapbox\",\"type\":\"scattermapbox\"},{\"hovertemplate\":\"<b>%{hovertext}</b><br><br>type=path1<br>timestep=10800.0<br>size=%{marker.size}<br>lat=%{lat}<br>lon=%{lon}<extra></extra>\",\"hovertext\":[\"path1\"],\"lat\":[-18.23202614379085],\"legendgroup\":\"path1\",\"lon\":[117.26797385620915],\"marker\":{\"color\":\"#EF553B\",\"size\":[5],\"sizemode\":\"area\",\"sizeref\":0.0125},\"mode\":\"markers\",\"name\":\"path1\",\"showlegend\":true,\"subplot\":\"mapbox\",\"type\":\"scattermapbox\"}],\"name\":\"10800.0\"},{\"data\":[{\"hovertemplate\":\"<b>%{hovertext}</b><br><br>type=path1_no_obstacle<br>timestep=10900.0<br>size=%{marker.size}<br>lat=%{lat}<br>lon=%{lon}<extra></extra>\",\"hovertext\":[\"path1_no_obstacle\"],\"lat\":[-26.09060402684564],\"legendgroup\":\"path1_no_obstacle\",\"lon\":[109.40939597315436],\"marker\":{\"color\":\"#636efa\",\"size\":[5],\"sizemode\":\"area\",\"sizeref\":0.0125},\"mode\":\"markers\",\"name\":\"path1_no_obstacle\",\"showlegend\":true,\"subplot\":\"mapbox\",\"type\":\"scattermapbox\"},{\"hovertemplate\":\"<b>%{hovertext}</b><br><br>type=path1<br>timestep=10900.0<br>size=%{marker.size}<br>lat=%{lat}<br>lon=%{lon}<extra></extra>\",\"hovertext\":[\"path1\"],\"lat\":[-18.88562091503268],\"legendgroup\":\"path1\",\"lon\":[116.61437908496733],\"marker\":{\"color\":\"#EF553B\",\"size\":[5],\"sizemode\":\"area\",\"sizeref\":0.0125},\"mode\":\"markers\",\"name\":\"path1\",\"showlegend\":true,\"subplot\":\"mapbox\",\"type\":\"scattermapbox\"}],\"name\":\"10900.0\"},{\"data\":[{\"hovertemplate\":\"<b>%{hovertext}</b><br><br>type=path1_no_obstacle<br>timestep=11000.0<br>size=%{marker.size}<br>lat=%{lat}<br>lon=%{lon}<extra></extra>\",\"hovertext\":[\"path1_no_obstacle\"],\"lat\":[-26.761744966442954],\"legendgroup\":\"path1_no_obstacle\",\"lon\":[108.73825503355704],\"marker\":{\"color\":\"#636efa\",\"size\":[5],\"sizemode\":\"area\",\"sizeref\":0.0125},\"mode\":\"markers\",\"name\":\"path1_no_obstacle\",\"showlegend\":true,\"subplot\":\"mapbox\",\"type\":\"scattermapbox\"},{\"hovertemplate\":\"<b>%{hovertext}</b><br><br>type=path1<br>timestep=11000.0<br>size=%{marker.size}<br>lat=%{lat}<br>lon=%{lon}<extra></extra>\",\"hovertext\":[\"path1\"],\"lat\":[-19.539473684210527],\"legendgroup\":\"path1\",\"lon\":[115.96052631578948],\"marker\":{\"color\":\"#EF553B\",\"size\":[5],\"sizemode\":\"area\",\"sizeref\":0.0125},\"mode\":\"markers\",\"name\":\"path1\",\"showlegend\":true,\"subplot\":\"mapbox\",\"type\":\"scattermapbox\"}],\"name\":\"11000.0\"},{\"data\":[{\"hovertemplate\":\"<b>%{hovertext}</b><br><br>type=path1_no_obstacle<br>timestep=11100.0<br>size=%{marker.size}<br>lat=%{lat}<br>lon=%{lon}<extra></extra>\",\"hovertext\":[\"path1_no_obstacle\"],\"lat\":[-27.43288590604027],\"legendgroup\":\"path1_no_obstacle\",\"lon\":[108.06711409395972],\"marker\":{\"color\":\"#636efa\",\"size\":[5],\"sizemode\":\"area\",\"sizeref\":0.0125},\"mode\":\"markers\",\"name\":\"path1_no_obstacle\",\"showlegend\":true,\"subplot\":\"mapbox\",\"type\":\"scattermapbox\"},{\"hovertemplate\":\"<b>%{hovertext}</b><br><br>type=path1<br>timestep=11100.0<br>size=%{marker.size}<br>lat=%{lat}<br>lon=%{lon}<extra></extra>\",\"hovertext\":[\"path1\"],\"lat\":[-20.19736842105263],\"legendgroup\":\"path1\",\"lon\":[115.30263157894736],\"marker\":{\"color\":\"#EF553B\",\"size\":[5],\"sizemode\":\"area\",\"sizeref\":0.0125},\"mode\":\"markers\",\"name\":\"path1\",\"showlegend\":true,\"subplot\":\"mapbox\",\"type\":\"scattermapbox\"}],\"name\":\"11100.0\"},{\"data\":[{\"hovertemplate\":\"<b>%{hovertext}</b><br><br>type=path1_no_obstacle<br>timestep=11200.0<br>size=%{marker.size}<br>lat=%{lat}<br>lon=%{lon}<extra></extra>\",\"hovertext\":[\"path1_no_obstacle\"],\"lat\":[-28.10810810810811],\"legendgroup\":\"path1_no_obstacle\",\"lon\":[107.39189189189187],\"marker\":{\"color\":\"#636efa\",\"size\":[5],\"sizemode\":\"area\",\"sizeref\":0.0125},\"mode\":\"markers\",\"name\":\"path1_no_obstacle\",\"showlegend\":true,\"subplot\":\"mapbox\",\"type\":\"scattermapbox\"},{\"hovertemplate\":\"<b>%{hovertext}</b><br><br>type=path1<br>timestep=11200.0<br>size=%{marker.size}<br>lat=%{lat}<br>lon=%{lon}<extra></extra>\",\"hovertext\":[\"path1\"],\"lat\":[-20.855263157894736],\"legendgroup\":\"path1\",\"lon\":[114.64473684210526],\"marker\":{\"color\":\"#EF553B\",\"size\":[5],\"sizemode\":\"area\",\"sizeref\":0.0125},\"mode\":\"markers\",\"name\":\"path1\",\"showlegend\":true,\"subplot\":\"mapbox\",\"type\":\"scattermapbox\"}],\"name\":\"11200.0\"},{\"data\":[{\"hovertemplate\":\"<b>%{hovertext}</b><br><br>type=path1_no_obstacle<br>timestep=11300.0<br>size=%{marker.size}<br>lat=%{lat}<br>lon=%{lon}<extra></extra>\",\"hovertext\":[\"path1_no_obstacle\"],\"lat\":[-28.783783783783782],\"legendgroup\":\"path1_no_obstacle\",\"lon\":[106.7162162162162],\"marker\":{\"color\":\"#636efa\",\"size\":[5],\"sizemode\":\"area\",\"sizeref\":0.0125},\"mode\":\"markers\",\"name\":\"path1_no_obstacle\",\"showlegend\":true,\"subplot\":\"mapbox\",\"type\":\"scattermapbox\"},{\"hovertemplate\":\"<b>%{hovertext}</b><br><br>type=path1<br>timestep=11300.0<br>size=%{marker.size}<br>lat=%{lat}<br>lon=%{lon}<extra></extra>\",\"hovertext\":[\"path1\"],\"lat\":[-21.513245033112582],\"legendgroup\":\"path1\",\"lon\":[113.98675496688742],\"marker\":{\"color\":\"#EF553B\",\"size\":[5],\"sizemode\":\"area\",\"sizeref\":0.0125},\"mode\":\"markers\",\"name\":\"path1\",\"showlegend\":true,\"subplot\":\"mapbox\",\"type\":\"scattermapbox\"}],\"name\":\"11300.0\"},{\"data\":[{\"hovertemplate\":\"<b>%{hovertext}</b><br><br>type=path1_no_obstacle<br>timestep=11400.0<br>size=%{marker.size}<br>lat=%{lat}<br>lon=%{lon}<extra></extra>\",\"hovertext\":[\"path1_no_obstacle\"],\"lat\":[-29.45945945945946],\"legendgroup\":\"path1_no_obstacle\",\"lon\":[106.04054054054056],\"marker\":{\"color\":\"#636efa\",\"size\":[5],\"sizemode\":\"area\",\"sizeref\":0.0125},\"mode\":\"markers\",\"name\":\"path1_no_obstacle\",\"showlegend\":true,\"subplot\":\"mapbox\",\"type\":\"scattermapbox\"},{\"hovertemplate\":\"<b>%{hovertext}</b><br><br>type=path1<br>timestep=11400.0<br>size=%{marker.size}<br>lat=%{lat}<br>lon=%{lon}<extra></extra>\",\"hovertext\":[\"path1\"],\"lat\":[-22.17549668874172],\"legendgroup\":\"path1\",\"lon\":[113.32450331125828],\"marker\":{\"color\":\"#EF553B\",\"size\":[5],\"sizemode\":\"area\",\"sizeref\":0.0125},\"mode\":\"markers\",\"name\":\"path1\",\"showlegend\":true,\"subplot\":\"mapbox\",\"type\":\"scattermapbox\"}],\"name\":\"11400.0\"},{\"data\":[{\"hovertemplate\":\"<b>%{hovertext}</b><br><br>type=path1_no_obstacle<br>timestep=11500.0<br>size=%{marker.size}<br>lat=%{lat}<br>lon=%{lon}<extra></extra>\",\"hovertext\":[\"path1_no_obstacle\"],\"lat\":[-30.14163822525597],\"legendgroup\":\"path1_no_obstacle\",\"lon\":[105.35836177474404],\"marker\":{\"color\":\"#636efa\",\"size\":[5],\"sizemode\":\"area\",\"sizeref\":0.0125},\"mode\":\"markers\",\"name\":\"path1_no_obstacle\",\"showlegend\":true,\"subplot\":\"mapbox\",\"type\":\"scattermapbox\"},{\"hovertemplate\":\"<b>%{hovertext}</b><br><br>type=path1<br>timestep=11500.0<br>size=%{marker.size}<br>lat=%{lat}<br>lon=%{lon}<extra></extra>\",\"hovertext\":[\"path1\"],\"lat\":[-22.837748344370866],\"legendgroup\":\"path1\",\"lon\":[112.66225165562912],\"marker\":{\"color\":\"#EF553B\",\"size\":[5],\"sizemode\":\"area\",\"sizeref\":0.0125},\"mode\":\"markers\",\"name\":\"path1\",\"showlegend\":true,\"subplot\":\"mapbox\",\"type\":\"scattermapbox\"}],\"name\":\"11500.0\"},{\"data\":[{\"hovertemplate\":\"<b>%{hovertext}</b><br><br>type=path1_no_obstacle<br>timestep=11600.0<br>size=%{marker.size}<br>lat=%{lat}<br>lon=%{lon}<extra></extra>\",\"hovertext\":[\"path1_no_obstacle\"],\"lat\":[-30.824232081911266],\"legendgroup\":\"path1_no_obstacle\",\"lon\":[104.67576791808874],\"marker\":{\"color\":\"#636efa\",\"size\":[5],\"sizemode\":\"area\",\"sizeref\":0.0125},\"mode\":\"markers\",\"name\":\"path1_no_obstacle\",\"showlegend\":true,\"subplot\":\"mapbox\",\"type\":\"scattermapbox\"},{\"hovertemplate\":\"<b>%{hovertext}</b><br><br>type=path1<br>timestep=11600.0<br>size=%{marker.size}<br>lat=%{lat}<br>lon=%{lon}<extra></extra>\",\"hovertext\":[\"path1\"],\"lat\":[-23.5],\"legendgroup\":\"path1\",\"lon\":[112.0],\"marker\":{\"color\":\"#EF553B\",\"size\":[5],\"sizemode\":\"area\",\"sizeref\":0.0125},\"mode\":\"markers\",\"name\":\"path1\",\"showlegend\":true,\"subplot\":\"mapbox\",\"type\":\"scattermapbox\"}],\"name\":\"11600.0\"},{\"data\":[{\"hovertemplate\":\"<b>%{hovertext}</b><br><br>type=path1_no_obstacle<br>timestep=11700.0<br>size=%{marker.size}<br>lat=%{lat}<br>lon=%{lon}<extra></extra>\",\"hovertext\":[\"path1_no_obstacle\"],\"lat\":[-31.50689655172414],\"legendgroup\":\"path1_no_obstacle\",\"lon\":[103.99310344827586],\"marker\":{\"color\":\"#636efa\",\"size\":[5],\"sizemode\":\"area\",\"sizeref\":0.0125},\"mode\":\"markers\",\"name\":\"path1_no_obstacle\",\"showlegend\":true,\"subplot\":\"mapbox\",\"type\":\"scattermapbox\"},{\"hovertemplate\":\"<b>%{hovertext}</b><br><br>type=path1<br>timestep=11700.0<br>size=%{marker.size}<br>lat=%{lat}<br>lon=%{lon}<extra></extra>\",\"hovertext\":[\"path1\"],\"lat\":[-24.166666666666668],\"legendgroup\":\"path1\",\"lon\":[111.33333333333331],\"marker\":{\"color\":\"#EF553B\",\"size\":[5],\"sizemode\":\"area\",\"sizeref\":0.0125},\"mode\":\"markers\",\"name\":\"path1\",\"showlegend\":true,\"subplot\":\"mapbox\",\"type\":\"scattermapbox\"}],\"name\":\"11700.0\"},{\"data\":[{\"hovertemplate\":\"<b>%{hovertext}</b><br><br>type=path1_no_obstacle<br>timestep=11800.0<br>size=%{marker.size}<br>lat=%{lat}<br>lon=%{lon}<extra></extra>\",\"hovertext\":[\"path1_no_obstacle\"],\"lat\":[-32.19655172413793],\"legendgroup\":\"path1_no_obstacle\",\"lon\":[103.30344827586208],\"marker\":{\"color\":\"#636efa\",\"size\":[5],\"sizemode\":\"area\",\"sizeref\":0.0125},\"mode\":\"markers\",\"name\":\"path1_no_obstacle\",\"showlegend\":true,\"subplot\":\"mapbox\",\"type\":\"scattermapbox\"},{\"hovertemplate\":\"<b>%{hovertext}</b><br><br>type=path1<br>timestep=11800.0<br>size=%{marker.size}<br>lat=%{lat}<br>lon=%{lon}<extra></extra>\",\"hovertext\":[\"path1\"],\"lat\":[-24.83333333333333],\"legendgroup\":\"path1\",\"lon\":[110.66666666666669],\"marker\":{\"color\":\"#EF553B\",\"size\":[5],\"sizemode\":\"area\",\"sizeref\":0.0125},\"mode\":\"markers\",\"name\":\"path1\",\"showlegend\":true,\"subplot\":\"mapbox\",\"type\":\"scattermapbox\"}],\"name\":\"11800.0\"},{\"data\":[{\"hovertemplate\":\"<b>%{hovertext}</b><br><br>type=path1_no_obstacle<br>timestep=11900.0<br>size=%{marker.size}<br>lat=%{lat}<br>lon=%{lon}<extra></extra>\",\"hovertext\":[\"path1_no_obstacle\"],\"lat\":[-32.88620689655173],\"legendgroup\":\"path1_no_obstacle\",\"lon\":[102.61379310344827],\"marker\":{\"color\":\"#636efa\",\"size\":[5],\"sizemode\":\"area\",\"sizeref\":0.0125},\"mode\":\"markers\",\"name\":\"path1_no_obstacle\",\"showlegend\":true,\"subplot\":\"mapbox\",\"type\":\"scattermapbox\"},{\"hovertemplate\":\"<b>%{hovertext}</b><br><br>type=path1<br>timestep=11900.0<br>size=%{marker.size}<br>lat=%{lat}<br>lon=%{lon}<extra></extra>\",\"hovertext\":[\"path1\"],\"lat\":[-25.5],\"legendgroup\":\"path1\",\"lon\":[110.0],\"marker\":{\"color\":\"#EF553B\",\"size\":[5],\"sizemode\":\"area\",\"sizeref\":0.0125},\"mode\":\"markers\",\"name\":\"path1\",\"showlegend\":true,\"subplot\":\"mapbox\",\"type\":\"scattermapbox\"}],\"name\":\"11900.0\"},{\"data\":[{\"hovertemplate\":\"<b>%{hovertext}</b><br><br>type=path1_no_obstacle<br>timestep=12000.0<br>size=%{marker.size}<br>lat=%{lat}<br>lon=%{lon}<extra></extra>\",\"hovertext\":[\"path1_no_obstacle\"],\"lat\":[-33.576388888888886],\"legendgroup\":\"path1_no_obstacle\",\"lon\":[101.92361111111111],\"marker\":{\"color\":\"#636efa\",\"size\":[5],\"sizemode\":\"area\",\"sizeref\":0.0125},\"mode\":\"markers\",\"name\":\"path1_no_obstacle\",\"showlegend\":true,\"subplot\":\"mapbox\",\"type\":\"scattermapbox\"},{\"hovertemplate\":\"<b>%{hovertext}</b><br><br>type=path1<br>timestep=12000.0<br>size=%{marker.size}<br>lat=%{lat}<br>lon=%{lon}<extra></extra>\",\"hovertext\":[\"path1\"],\"lat\":[-26.171140939597315],\"legendgroup\":\"path1\",\"lon\":[109.32885906040268],\"marker\":{\"color\":\"#EF553B\",\"size\":[5],\"sizemode\":\"area\",\"sizeref\":0.0125},\"mode\":\"markers\",\"name\":\"path1\",\"showlegend\":true,\"subplot\":\"mapbox\",\"type\":\"scattermapbox\"}],\"name\":\"12000.0\"},{\"data\":[{\"hovertemplate\":\"<b>%{hovertext}</b><br><br>type=path1_no_obstacle<br>timestep=12100.0<br>size=%{marker.size}<br>lat=%{lat}<br>lon=%{lon}<extra></extra>\",\"hovertext\":[\"path1_no_obstacle\"],\"lat\":[-34.270833333333336],\"legendgroup\":\"path1_no_obstacle\",\"lon\":[101.22916666666669],\"marker\":{\"color\":\"#636efa\",\"size\":[5],\"sizemode\":\"area\",\"sizeref\":0.0125},\"mode\":\"markers\",\"name\":\"path1_no_obstacle\",\"showlegend\":true,\"subplot\":\"mapbox\",\"type\":\"scattermapbox\"},{\"hovertemplate\":\"<b>%{hovertext}</b><br><br>type=path1<br>timestep=12100.0<br>size=%{marker.size}<br>lat=%{lat}<br>lon=%{lon}<extra></extra>\",\"hovertext\":[\"path1\"],\"lat\":[-26.84228187919463],\"legendgroup\":\"path1\",\"lon\":[108.65771812080536],\"marker\":{\"color\":\"#EF553B\",\"size\":[5],\"sizemode\":\"area\",\"sizeref\":0.0125},\"mode\":\"markers\",\"name\":\"path1\",\"showlegend\":true,\"subplot\":\"mapbox\",\"type\":\"scattermapbox\"}],\"name\":\"12100.0\"},{\"data\":[{\"hovertemplate\":\"<b>%{hovertext}</b><br><br>type=path1_no_obstacle<br>timestep=12200.0<br>size=%{marker.size}<br>lat=%{lat}<br>lon=%{lon}<extra></extra>\",\"hovertext\":[\"path1_no_obstacle\"],\"lat\":[-34.96527777777778],\"legendgroup\":\"path1_no_obstacle\",\"lon\":[100.53472222222224],\"marker\":{\"color\":\"#636efa\",\"size\":[5],\"sizemode\":\"area\",\"sizeref\":0.0125},\"mode\":\"markers\",\"name\":\"path1_no_obstacle\",\"showlegend\":true,\"subplot\":\"mapbox\",\"type\":\"scattermapbox\"},{\"hovertemplate\":\"<b>%{hovertext}</b><br><br>type=path1<br>timestep=12200.0<br>size=%{marker.size}<br>lat=%{lat}<br>lon=%{lon}<extra></extra>\",\"hovertext\":[\"path1\"],\"lat\":[-27.513513513513512],\"legendgroup\":\"path1\",\"lon\":[107.98648648648648],\"marker\":{\"color\":\"#EF553B\",\"size\":[5],\"sizemode\":\"area\",\"sizeref\":0.0125},\"mode\":\"markers\",\"name\":\"path1\",\"showlegend\":true,\"subplot\":\"mapbox\",\"type\":\"scattermapbox\"}],\"name\":\"12200.0\"},{\"data\":[{\"hovertemplate\":\"<b>%{hovertext}</b><br><br>type=path1_no_obstacle<br>timestep=12300.0<br>size=%{marker.size}<br>lat=%{lat}<br>lon=%{lon}<extra></extra>\",\"hovertext\":[\"path1_no_obstacle\"],\"lat\":[-35.66140350877193],\"legendgroup\":\"path1_no_obstacle\",\"lon\":[99.83859649122807],\"marker\":{\"color\":\"#636efa\",\"size\":[5],\"sizemode\":\"area\",\"sizeref\":0.0125},\"mode\":\"markers\",\"name\":\"path1_no_obstacle\",\"showlegend\":true,\"subplot\":\"mapbox\",\"type\":\"scattermapbox\"},{\"hovertemplate\":\"<b>%{hovertext}</b><br><br>type=path1<br>timestep=12300.0<br>size=%{marker.size}<br>lat=%{lat}<br>lon=%{lon}<extra></extra>\",\"hovertext\":[\"path1\"],\"lat\":[-28.18918918918919],\"legendgroup\":\"path1\",\"lon\":[107.3108108108108],\"marker\":{\"color\":\"#EF553B\",\"size\":[5],\"sizemode\":\"area\",\"sizeref\":0.0125},\"mode\":\"markers\",\"name\":\"path1\",\"showlegend\":true,\"subplot\":\"mapbox\",\"type\":\"scattermapbox\"}],\"name\":\"12300.0\"},{\"data\":[{\"hovertemplate\":\"<b>%{hovertext}</b><br><br>type=path1_no_obstacle<br>timestep=12400.0<br>size=%{marker.size}<br>lat=%{lat}<br>lon=%{lon}<extra></extra>\",\"hovertext\":[\"path1_no_obstacle\"],\"lat\":[-36.36315789473685],\"legendgroup\":\"path1_no_obstacle\",\"lon\":[99.13684210526316],\"marker\":{\"color\":\"#636efa\",\"size\":[5],\"sizemode\":\"area\",\"sizeref\":0.0125},\"mode\":\"markers\",\"name\":\"path1_no_obstacle\",\"showlegend\":true,\"subplot\":\"mapbox\",\"type\":\"scattermapbox\"},{\"hovertemplate\":\"<b>%{hovertext}</b><br><br>type=path1<br>timestep=12400.0<br>size=%{marker.size}<br>lat=%{lat}<br>lon=%{lon}<extra></extra>\",\"hovertext\":[\"path1\"],\"lat\":[-28.864864864864863],\"legendgroup\":\"path1\",\"lon\":[106.63513513513512],\"marker\":{\"color\":\"#EF553B\",\"size\":[5],\"sizemode\":\"area\",\"sizeref\":0.0125},\"mode\":\"markers\",\"name\":\"path1\",\"showlegend\":true,\"subplot\":\"mapbox\",\"type\":\"scattermapbox\"}],\"name\":\"12400.0\"},{\"data\":[{\"hovertemplate\":\"<b>%{hovertext}</b><br><br>type=path1_no_obstacle<br>timestep=12500.0<br>size=%{marker.size}<br>lat=%{lat}<br>lon=%{lon}<extra></extra>\",\"hovertext\":[\"path1_no_obstacle\"],\"lat\":[-37.06491228070176],\"legendgroup\":\"path1_no_obstacle\",\"lon\":[98.43508771929824],\"marker\":{\"color\":\"#636efa\",\"size\":[5],\"sizemode\":\"area\",\"sizeref\":0.0125},\"mode\":\"markers\",\"name\":\"path1_no_obstacle\",\"showlegend\":true,\"subplot\":\"mapbox\",\"type\":\"scattermapbox\"},{\"hovertemplate\":\"<b>%{hovertext}</b><br><br>type=path1<br>timestep=12500.0<br>size=%{marker.size}<br>lat=%{lat}<br>lon=%{lon}<extra></extra>\",\"hovertext\":[\"path1\"],\"lat\":[-29.54095563139932],\"legendgroup\":\"path1\",\"lon\":[105.95904436860069],\"marker\":{\"color\":\"#EF553B\",\"size\":[5],\"sizemode\":\"area\",\"sizeref\":0.0125},\"mode\":\"markers\",\"name\":\"path1\",\"showlegend\":true,\"subplot\":\"mapbox\",\"type\":\"scattermapbox\"}],\"name\":\"12500.0\"},{\"data\":[{\"hovertemplate\":\"<b>%{hovertext}</b><br><br>type=path1_no_obstacle<br>timestep=12600.0<br>size=%{marker.size}<br>lat=%{lat}<br>lon=%{lon}<extra></extra>\",\"hovertext\":[\"path1_no_obstacle\"],\"lat\":[-37.769503546099294],\"legendgroup\":\"path1_no_obstacle\",\"lon\":[97.73049645390071],\"marker\":{\"color\":\"#636efa\",\"size\":[5],\"sizemode\":\"area\",\"sizeref\":0.0125},\"mode\":\"markers\",\"name\":\"path1_no_obstacle\",\"showlegend\":true,\"subplot\":\"mapbox\",\"type\":\"scattermapbox\"},{\"hovertemplate\":\"<b>%{hovertext}</b><br><br>type=path1<br>timestep=12600.0<br>size=%{marker.size}<br>lat=%{lat}<br>lon=%{lon}<extra></extra>\",\"hovertext\":[\"path1\"],\"lat\":[-30.22354948805461],\"legendgroup\":\"path1\",\"lon\":[105.2764505119454],\"marker\":{\"color\":\"#EF553B\",\"size\":[5],\"sizemode\":\"area\",\"sizeref\":0.0125},\"mode\":\"markers\",\"name\":\"path1\",\"showlegend\":true,\"subplot\":\"mapbox\",\"type\":\"scattermapbox\"}],\"name\":\"12600.0\"},{\"data\":[{\"hovertemplate\":\"<b>%{hovertext}</b><br><br>type=path1_no_obstacle<br>timestep=12700.0<br>size=%{marker.size}<br>lat=%{lat}<br>lon=%{lon}<extra></extra>\",\"hovertext\":[\"path1_no_obstacle\"],\"lat\":[-38.47872340425532],\"legendgroup\":\"path1_no_obstacle\",\"lon\":[97.02127659574468],\"marker\":{\"color\":\"#636efa\",\"size\":[5],\"sizemode\":\"area\",\"sizeref\":0.0125},\"mode\":\"markers\",\"name\":\"path1_no_obstacle\",\"showlegend\":true,\"subplot\":\"mapbox\",\"type\":\"scattermapbox\"},{\"hovertemplate\":\"<b>%{hovertext}</b><br><br>type=path1<br>timestep=12700.0<br>size=%{marker.size}<br>lat=%{lat}<br>lon=%{lon}<extra></extra>\",\"hovertext\":[\"path1\"],\"lat\":[-30.906143344709896],\"legendgroup\":\"path1\",\"lon\":[104.5938566552901],\"marker\":{\"color\":\"#EF553B\",\"size\":[5],\"sizemode\":\"area\",\"sizeref\":0.0125},\"mode\":\"markers\",\"name\":\"path1\",\"showlegend\":true,\"subplot\":\"mapbox\",\"type\":\"scattermapbox\"}],\"name\":\"12700.0\"},{\"data\":[{\"hovertemplate\":\"<b>%{hovertext}</b><br><br>type=path1_no_obstacle<br>timestep=12800.0<br>size=%{marker.size}<br>lat=%{lat}<br>lon=%{lon}<extra></extra>\",\"hovertext\":[\"path1_no_obstacle\"],\"lat\":[-39.18794326241135],\"legendgroup\":\"path1_no_obstacle\",\"lon\":[96.31205673758863],\"marker\":{\"color\":\"#636efa\",\"size\":[5],\"sizemode\":\"area\",\"sizeref\":0.0125},\"mode\":\"markers\",\"name\":\"path1_no_obstacle\",\"showlegend\":true,\"subplot\":\"mapbox\",\"type\":\"scattermapbox\"},{\"hovertemplate\":\"<b>%{hovertext}</b><br><br>type=path1<br>timestep=12800.0<br>size=%{marker.size}<br>lat=%{lat}<br>lon=%{lon}<extra></extra>\",\"hovertext\":[\"path1\"],\"lat\":[-31.589655172413792],\"legendgroup\":\"path1\",\"lon\":[103.9103448275862],\"marker\":{\"color\":\"#EF553B\",\"size\":[5],\"sizemode\":\"area\",\"sizeref\":0.0125},\"mode\":\"markers\",\"name\":\"path1\",\"showlegend\":true,\"subplot\":\"mapbox\",\"type\":\"scattermapbox\"}],\"name\":\"12800.0\"},{\"data\":[{\"hovertemplate\":\"<b>%{hovertext}</b><br><br>type=path1_no_obstacle<br>timestep=12900.0<br>size=%{marker.size}<br>lat=%{lat}<br>lon=%{lon}<extra></extra>\",\"hovertext\":[\"path1_no_obstacle\"],\"lat\":[-39.901433691756274],\"legendgroup\":\"path1_no_obstacle\",\"lon\":[95.59856630824372],\"marker\":{\"color\":\"#636efa\",\"size\":[5],\"sizemode\":\"area\",\"sizeref\":0.0125},\"mode\":\"markers\",\"name\":\"path1_no_obstacle\",\"showlegend\":true,\"subplot\":\"mapbox\",\"type\":\"scattermapbox\"},{\"hovertemplate\":\"<b>%{hovertext}</b><br><br>type=path1<br>timestep=12900.0<br>size=%{marker.size}<br>lat=%{lat}<br>lon=%{lon}<extra></extra>\",\"hovertext\":[\"path1\"],\"lat\":[-32.279310344827586],\"legendgroup\":\"path1\",\"lon\":[103.2206896551724],\"marker\":{\"color\":\"#EF553B\",\"size\":[5],\"sizemode\":\"area\",\"sizeref\":0.0125},\"mode\":\"markers\",\"name\":\"path1\",\"showlegend\":true,\"subplot\":\"mapbox\",\"type\":\"scattermapbox\"}],\"name\":\"12900.0\"},{\"data\":[{\"hovertemplate\":\"<b>%{hovertext}</b><br><br>type=path1_no_obstacle<br>timestep=13000.0<br>size=%{marker.size}<br>lat=%{lat}<br>lon=%{lon}<extra></extra>\",\"hovertext\":[\"path1_no_obstacle\"],\"lat\":[-40.61827956989247],\"legendgroup\":\"path1_no_obstacle\",\"lon\":[94.88172043010752],\"marker\":{\"color\":\"#636efa\",\"size\":[5],\"sizemode\":\"area\",\"sizeref\":0.0125},\"mode\":\"markers\",\"name\":\"path1_no_obstacle\",\"showlegend\":true,\"subplot\":\"mapbox\",\"type\":\"scattermapbox\"},{\"hovertemplate\":\"<b>%{hovertext}</b><br><br>type=path1<br>timestep=13000.0<br>size=%{marker.size}<br>lat=%{lat}<br>lon=%{lon}<extra></extra>\",\"hovertext\":[\"path1\"],\"lat\":[-32.96896551724138],\"legendgroup\":\"path1\",\"lon\":[102.53103448275864],\"marker\":{\"color\":\"#EF553B\",\"size\":[5],\"sizemode\":\"area\",\"sizeref\":0.0125},\"mode\":\"markers\",\"name\":\"path1\",\"showlegend\":true,\"subplot\":\"mapbox\",\"type\":\"scattermapbox\"}],\"name\":\"13000.0\"},{\"data\":[{\"hovertemplate\":\"<b>%{hovertext}</b><br><br>type=path1_no_obstacle<br>timestep=13100.0<br>size=%{marker.size}<br>lat=%{lat}<br>lon=%{lon}<extra></extra>\",\"hovertext\":[\"path1_no_obstacle\"],\"lat\":[-41.33512544802868],\"legendgroup\":\"path1_no_obstacle\",\"lon\":[94.16487455197132],\"marker\":{\"color\":\"#636efa\",\"size\":[5],\"sizemode\":\"area\",\"sizeref\":0.0125},\"mode\":\"markers\",\"name\":\"path1_no_obstacle\",\"showlegend\":true,\"subplot\":\"mapbox\",\"type\":\"scattermapbox\"},{\"hovertemplate\":\"<b>%{hovertext}</b><br><br>type=path1<br>timestep=13100.0<br>size=%{marker.size}<br>lat=%{lat}<br>lon=%{lon}<extra></extra>\",\"hovertext\":[\"path1\"],\"lat\":[-33.65972222222222],\"legendgroup\":\"path1\",\"lon\":[101.84027777777776],\"marker\":{\"color\":\"#EF553B\",\"size\":[5],\"sizemode\":\"area\",\"sizeref\":0.0125},\"mode\":\"markers\",\"name\":\"path1\",\"showlegend\":true,\"subplot\":\"mapbox\",\"type\":\"scattermapbox\"}],\"name\":\"13100.0\"},{\"data\":[{\"hovertemplate\":\"<b>%{hovertext}</b><br><br>type=path1_no_obstacle<br>timestep=13200.0<br>size=%{marker.size}<br>lat=%{lat}<br>lon=%{lon}<extra></extra>\",\"hovertext\":[\"path1_no_obstacle\"],\"lat\":[-42.05797101449275],\"legendgroup\":\"path1_no_obstacle\",\"lon\":[93.44202898550724],\"marker\":{\"color\":\"#636efa\",\"size\":[5],\"sizemode\":\"area\",\"sizeref\":0.0125},\"mode\":\"markers\",\"name\":\"path1_no_obstacle\",\"showlegend\":true,\"subplot\":\"mapbox\",\"type\":\"scattermapbox\"},{\"hovertemplate\":\"<b>%{hovertext}</b><br><br>type=path1<br>timestep=13200.0<br>size=%{marker.size}<br>lat=%{lat}<br>lon=%{lon}<extra></extra>\",\"hovertext\":[\"path1\"],\"lat\":[-34.354166666666664],\"legendgroup\":\"path1\",\"lon\":[101.14583333333331],\"marker\":{\"color\":\"#EF553B\",\"size\":[5],\"sizemode\":\"area\",\"sizeref\":0.0125},\"mode\":\"markers\",\"name\":\"path1\",\"showlegend\":true,\"subplot\":\"mapbox\",\"type\":\"scattermapbox\"}],\"name\":\"13200.0\"},{\"data\":[{\"hovertemplate\":\"<b>%{hovertext}</b><br><br>type=path1_no_obstacle<br>timestep=13300.0<br>size=%{marker.size}<br>lat=%{lat}<br>lon=%{lon}<extra></extra>\",\"hovertext\":[\"path1_no_obstacle\"],\"lat\":[-42.78260869565217],\"legendgroup\":\"path1_no_obstacle\",\"lon\":[92.71739130434784],\"marker\":{\"color\":\"#636efa\",\"size\":[5],\"sizemode\":\"area\",\"sizeref\":0.0125},\"mode\":\"markers\",\"name\":\"path1_no_obstacle\",\"showlegend\":true,\"subplot\":\"mapbox\",\"type\":\"scattermapbox\"},{\"hovertemplate\":\"<b>%{hovertext}</b><br><br>type=path1<br>timestep=13300.0<br>size=%{marker.size}<br>lat=%{lat}<br>lon=%{lon}<extra></extra>\",\"hovertext\":[\"path1\"],\"lat\":[-35.048611111111114],\"legendgroup\":\"path1\",\"lon\":[100.45138888888889],\"marker\":{\"color\":\"#EF553B\",\"size\":[5],\"sizemode\":\"area\",\"sizeref\":0.0125},\"mode\":\"markers\",\"name\":\"path1\",\"showlegend\":true,\"subplot\":\"mapbox\",\"type\":\"scattermapbox\"}],\"name\":\"13300.0\"},{\"data\":[{\"hovertemplate\":\"<b>%{hovertext}</b><br><br>type=path1_no_obstacle<br>timestep=13400.0<br>size=%{marker.size}<br>lat=%{lat}<br>lon=%{lon}<extra></extra>\",\"hovertext\":[\"path1_no_obstacle\"],\"lat\":[-43.5],\"legendgroup\":\"path1_no_obstacle\",\"lon\":[91.98757763975156],\"marker\":{\"color\":\"#636efa\",\"size\":[5],\"sizemode\":\"area\",\"sizeref\":0.0125},\"mode\":\"markers\",\"name\":\"path1_no_obstacle\",\"showlegend\":true,\"subplot\":\"mapbox\",\"type\":\"scattermapbox\"},{\"hovertemplate\":\"<b>%{hovertext}</b><br><br>type=path1<br>timestep=13400.0<br>size=%{marker.size}<br>lat=%{lat}<br>lon=%{lon}<extra></extra>\",\"hovertext\":[\"path1\"],\"lat\":[-35.74561403508772],\"legendgroup\":\"path1\",\"lon\":[99.75438596491227],\"marker\":{\"color\":\"#EF553B\",\"size\":[5],\"sizemode\":\"area\",\"sizeref\":0.0125},\"mode\":\"markers\",\"name\":\"path1\",\"showlegend\":true,\"subplot\":\"mapbox\",\"type\":\"scattermapbox\"}],\"name\":\"13400.0\"},{\"data\":[{\"hovertemplate\":\"<b>%{hovertext}</b><br><br>type=path1_no_obstacle<br>timestep=13500.0<br>size=%{marker.size}<br>lat=%{lat}<br>lon=%{lon}<extra></extra>\",\"hovertext\":[\"path1_no_obstacle\"],\"lat\":[-43.5],\"legendgroup\":\"path1_no_obstacle\",\"lon\":[90.74534161490683],\"marker\":{\"color\":\"#636efa\",\"size\":[5],\"sizemode\":\"area\",\"sizeref\":0.0125},\"mode\":\"markers\",\"name\":\"path1_no_obstacle\",\"showlegend\":true,\"subplot\":\"mapbox\",\"type\":\"scattermapbox\"},{\"hovertemplate\":\"<b>%{hovertext}</b><br><br>type=path1<br>timestep=13500.0<br>size=%{marker.size}<br>lat=%{lat}<br>lon=%{lon}<extra></extra>\",\"hovertext\":[\"path1\"],\"lat\":[-36.44736842105263],\"legendgroup\":\"path1\",\"lon\":[99.05263157894736],\"marker\":{\"color\":\"#EF553B\",\"size\":[5],\"sizemode\":\"area\",\"sizeref\":0.0125},\"mode\":\"markers\",\"name\":\"path1\",\"showlegend\":true,\"subplot\":\"mapbox\",\"type\":\"scattermapbox\"}],\"name\":\"13500.0\"},{\"data\":[{\"hovertemplate\":\"<b>%{hovertext}</b><br><br>type=path1_no_obstacle<br>timestep=13600.0<br>size=%{marker.size}<br>lat=%{lat}<br>lon=%{lon}<extra></extra>\",\"hovertext\":[\"path1_no_obstacle\"],\"lat\":[-43.5],\"legendgroup\":\"path1_no_obstacle\",\"lon\":[89.5031055900621],\"marker\":{\"color\":\"#636efa\",\"size\":[5],\"sizemode\":\"area\",\"sizeref\":0.0125},\"mode\":\"markers\",\"name\":\"path1_no_obstacle\",\"showlegend\":true,\"subplot\":\"mapbox\",\"type\":\"scattermapbox\"},{\"hovertemplate\":\"<b>%{hovertext}</b><br><br>type=path1<br>timestep=13600.0<br>size=%{marker.size}<br>lat=%{lat}<br>lon=%{lon}<extra></extra>\",\"hovertext\":[\"path1\"],\"lat\":[-37.14912280701754],\"legendgroup\":\"path1\",\"lon\":[98.35087719298244],\"marker\":{\"color\":\"#EF553B\",\"size\":[5],\"sizemode\":\"area\",\"sizeref\":0.0125},\"mode\":\"markers\",\"name\":\"path1\",\"showlegend\":true,\"subplot\":\"mapbox\",\"type\":\"scattermapbox\"}],\"name\":\"13600.0\"},{\"data\":[{\"hovertemplate\":\"<b>%{hovertext}</b><br><br>type=path1_no_obstacle<br>timestep=13700.0<br>size=%{marker.size}<br>lat=%{lat}<br>lon=%{lon}<extra></extra>\",\"hovertext\":[\"path1_no_obstacle\"],\"lat\":[-43.5],\"legendgroup\":\"path1_no_obstacle\",\"lon\":[88.26086956521739],\"marker\":{\"color\":\"#636efa\",\"size\":[5],\"sizemode\":\"area\",\"sizeref\":0.0125},\"mode\":\"markers\",\"name\":\"path1_no_obstacle\",\"showlegend\":true,\"subplot\":\"mapbox\",\"type\":\"scattermapbox\"},{\"hovertemplate\":\"<b>%{hovertext}</b><br><br>type=path1<br>timestep=13700.0<br>size=%{marker.size}<br>lat=%{lat}<br>lon=%{lon}<extra></extra>\",\"hovertext\":[\"path1\"],\"lat\":[-37.854609929078016],\"legendgroup\":\"path1\",\"lon\":[97.645390070922],\"marker\":{\"color\":\"#EF553B\",\"size\":[5],\"sizemode\":\"area\",\"sizeref\":0.0125},\"mode\":\"markers\",\"name\":\"path1\",\"showlegend\":true,\"subplot\":\"mapbox\",\"type\":\"scattermapbox\"}],\"name\":\"13700.0\"},{\"data\":[{\"hovertemplate\":\"<b>%{hovertext}</b><br><br>type=path1_no_obstacle<br>timestep=13800.0<br>size=%{marker.size}<br>lat=%{lat}<br>lon=%{lon}<extra></extra>\",\"hovertext\":[\"path1_no_obstacle\"],\"lat\":[-43.5],\"legendgroup\":\"path1_no_obstacle\",\"lon\":[87.01863354037268],\"marker\":{\"color\":\"#636efa\",\"size\":[5],\"sizemode\":\"area\",\"sizeref\":0.0125},\"mode\":\"markers\",\"name\":\"path1_no_obstacle\",\"showlegend\":true,\"subplot\":\"mapbox\",\"type\":\"scattermapbox\"},{\"hovertemplate\":\"<b>%{hovertext}</b><br><br>type=path1<br>timestep=13800.0<br>size=%{marker.size}<br>lat=%{lat}<br>lon=%{lon}<extra></extra>\",\"hovertext\":[\"path1\"],\"lat\":[-38.56382978723404],\"legendgroup\":\"path1\",\"lon\":[96.93617021276596],\"marker\":{\"color\":\"#EF553B\",\"size\":[5],\"sizemode\":\"area\",\"sizeref\":0.0125},\"mode\":\"markers\",\"name\":\"path1\",\"showlegend\":true,\"subplot\":\"mapbox\",\"type\":\"scattermapbox\"}],\"name\":\"13800.0\"},{\"data\":[{\"hovertemplate\":\"<b>%{hovertext}</b><br><br>type=path1_no_obstacle<br>timestep=13900.0<br>size=%{marker.size}<br>lat=%{lat}<br>lon=%{lon}<extra></extra>\",\"hovertext\":[\"path1_no_obstacle\"],\"lat\":[-43.5],\"legendgroup\":\"path1_no_obstacle\",\"lon\":[85.77639751552795],\"marker\":{\"color\":\"#636efa\",\"size\":[5],\"sizemode\":\"area\",\"sizeref\":0.0125},\"mode\":\"markers\",\"name\":\"path1_no_obstacle\",\"showlegend\":true,\"subplot\":\"mapbox\",\"type\":\"scattermapbox\"},{\"hovertemplate\":\"<b>%{hovertext}</b><br><br>type=path1<br>timestep=13900.0<br>size=%{marker.size}<br>lat=%{lat}<br>lon=%{lon}<extra></extra>\",\"hovertext\":[\"path1\"],\"lat\":[-39.27304964539008],\"legendgroup\":\"path1\",\"lon\":[96.22695035460993],\"marker\":{\"color\":\"#EF553B\",\"size\":[5],\"sizemode\":\"area\",\"sizeref\":0.0125},\"mode\":\"markers\",\"name\":\"path1\",\"showlegend\":true,\"subplot\":\"mapbox\",\"type\":\"scattermapbox\"}],\"name\":\"13900.0\"},{\"data\":[{\"hovertemplate\":\"<b>%{hovertext}</b><br><br>type=path1_no_obstacle<br>timestep=14000.0<br>size=%{marker.size}<br>lat=%{lat}<br>lon=%{lon}<extra></extra>\",\"hovertext\":[\"path1_no_obstacle\"],\"lat\":[-43.5],\"legendgroup\":\"path1_no_obstacle\",\"lon\":[84.53416149068323],\"marker\":{\"color\":\"#636efa\",\"size\":[5],\"sizemode\":\"area\",\"sizeref\":0.0125},\"mode\":\"markers\",\"name\":\"path1_no_obstacle\",\"showlegend\":true,\"subplot\":\"mapbox\",\"type\":\"scattermapbox\"},{\"hovertemplate\":\"<b>%{hovertext}</b><br><br>type=path1<br>timestep=14000.0<br>size=%{marker.size}<br>lat=%{lat}<br>lon=%{lon}<extra></extra>\",\"hovertext\":[\"path1\"],\"lat\":[-39.98745519713262],\"legendgroup\":\"path1\",\"lon\":[95.51254480286738],\"marker\":{\"color\":\"#EF553B\",\"size\":[5],\"sizemode\":\"area\",\"sizeref\":0.0125},\"mode\":\"markers\",\"name\":\"path1\",\"showlegend\":true,\"subplot\":\"mapbox\",\"type\":\"scattermapbox\"}],\"name\":\"14000.0\"},{\"data\":[{\"hovertemplate\":\"<b>%{hovertext}</b><br><br>type=path1_no_obstacle<br>timestep=14100.0<br>size=%{marker.size}<br>lat=%{lat}<br>lon=%{lon}<extra></extra>\",\"hovertext\":[\"path1_no_obstacle\"],\"lat\":[-43.5],\"legendgroup\":\"path1_no_obstacle\",\"lon\":[83.2919254658385],\"marker\":{\"color\":\"#636efa\",\"size\":[5],\"sizemode\":\"area\",\"sizeref\":0.0125},\"mode\":\"markers\",\"name\":\"path1_no_obstacle\",\"showlegend\":true,\"subplot\":\"mapbox\",\"type\":\"scattermapbox\"},{\"hovertemplate\":\"<b>%{hovertext}</b><br><br>type=path1<br>timestep=14100.0<br>size=%{marker.size}<br>lat=%{lat}<br>lon=%{lon}<extra></extra>\",\"hovertext\":[\"path1\"],\"lat\":[-40.704301075268816],\"legendgroup\":\"path1\",\"lon\":[94.79569892473118],\"marker\":{\"color\":\"#EF553B\",\"size\":[5],\"sizemode\":\"area\",\"sizeref\":0.0125},\"mode\":\"markers\",\"name\":\"path1\",\"showlegend\":true,\"subplot\":\"mapbox\",\"type\":\"scattermapbox\"}],\"name\":\"14100.0\"},{\"data\":[{\"hovertemplate\":\"<b>%{hovertext}</b><br><br>type=path1_no_obstacle<br>timestep=14200.0<br>size=%{marker.size}<br>lat=%{lat}<br>lon=%{lon}<extra></extra>\",\"hovertext\":[\"path1_no_obstacle\"],\"lat\":[-43.5],\"legendgroup\":\"path1_no_obstacle\",\"lon\":[82.04968944099379],\"marker\":{\"color\":\"#636efa\",\"size\":[5],\"sizemode\":\"area\",\"sizeref\":0.0125},\"mode\":\"markers\",\"name\":\"path1_no_obstacle\",\"showlegend\":true,\"subplot\":\"mapbox\",\"type\":\"scattermapbox\"},{\"hovertemplate\":\"<b>%{hovertext}</b><br><br>type=path1<br>timestep=14200.0<br>size=%{marker.size}<br>lat=%{lat}<br>lon=%{lon}<extra></extra>\",\"hovertext\":[\"path1\"],\"lat\":[-41.42114695340502],\"legendgroup\":\"path1\",\"lon\":[94.078853046595],\"marker\":{\"color\":\"#EF553B\",\"size\":[5],\"sizemode\":\"area\",\"sizeref\":0.0125},\"mode\":\"markers\",\"name\":\"path1\",\"showlegend\":true,\"subplot\":\"mapbox\",\"type\":\"scattermapbox\"}],\"name\":\"14200.0\"},{\"data\":[{\"hovertemplate\":\"<b>%{hovertext}</b><br><br>type=path1_no_obstacle<br>timestep=14300.0<br>size=%{marker.size}<br>lat=%{lat}<br>lon=%{lon}<extra></extra>\",\"hovertext\":[\"path1_no_obstacle\"],\"lat\":[-43.5],\"legendgroup\":\"path1_no_obstacle\",\"lon\":[80.80745341614907],\"marker\":{\"color\":\"#636efa\",\"size\":[5],\"sizemode\":\"area\",\"sizeref\":0.0125},\"mode\":\"markers\",\"name\":\"path1_no_obstacle\",\"showlegend\":true,\"subplot\":\"mapbox\",\"type\":\"scattermapbox\"},{\"hovertemplate\":\"<b>%{hovertext}</b><br><br>type=path1<br>timestep=14300.0<br>size=%{marker.size}<br>lat=%{lat}<br>lon=%{lon}<extra></extra>\",\"hovertext\":[\"path1\"],\"lat\":[-42.14492753623188],\"legendgroup\":\"path1\",\"lon\":[93.35507246376812],\"marker\":{\"color\":\"#EF553B\",\"size\":[5],\"sizemode\":\"area\",\"sizeref\":0.0125},\"mode\":\"markers\",\"name\":\"path1\",\"showlegend\":true,\"subplot\":\"mapbox\",\"type\":\"scattermapbox\"}],\"name\":\"14300.0\"},{\"data\":[{\"hovertemplate\":\"<b>%{hovertext}</b><br><br>type=path1_no_obstacle<br>timestep=14400.0<br>size=%{marker.size}<br>lat=%{lat}<br>lon=%{lon}<extra></extra>\",\"hovertext\":[\"path1_no_obstacle\"],\"lat\":[-43.5],\"legendgroup\":\"path1_no_obstacle\",\"lon\":[79.56521739130434],\"marker\":{\"color\":\"#636efa\",\"size\":[5],\"sizemode\":\"area\",\"sizeref\":0.0125},\"mode\":\"markers\",\"name\":\"path1_no_obstacle\",\"showlegend\":true,\"subplot\":\"mapbox\",\"type\":\"scattermapbox\"},{\"hovertemplate\":\"<b>%{hovertext}</b><br><br>type=path1<br>timestep=14400.0<br>size=%{marker.size}<br>lat=%{lat}<br>lon=%{lon}<extra></extra>\",\"hovertext\":[\"path1\"],\"lat\":[-42.869565217391305],\"legendgroup\":\"path1\",\"lon\":[92.6304347826087],\"marker\":{\"color\":\"#EF553B\",\"size\":[5],\"sizemode\":\"area\",\"sizeref\":0.0125},\"mode\":\"markers\",\"name\":\"path1\",\"showlegend\":true,\"subplot\":\"mapbox\",\"type\":\"scattermapbox\"}],\"name\":\"14400.0\"},{\"data\":[{\"hovertemplate\":\"<b>%{hovertext}</b><br><br>type=path1_no_obstacle<br>timestep=14500.0<br>size=%{marker.size}<br>lat=%{lat}<br>lon=%{lon}<extra></extra>\",\"hovertext\":[\"path1_no_obstacle\"],\"lat\":[-43.5],\"legendgroup\":\"path1_no_obstacle\",\"lon\":[78.32298136645963],\"marker\":{\"color\":\"#636efa\",\"size\":[5],\"sizemode\":\"area\",\"sizeref\":0.0125},\"mode\":\"markers\",\"name\":\"path1_no_obstacle\",\"showlegend\":true,\"subplot\":\"mapbox\",\"type\":\"scattermapbox\"},{\"hovertemplate\":\"<b>%{hovertext}</b><br><br>type=path1<br>timestep=14500.0<br>size=%{marker.size}<br>lat=%{lat}<br>lon=%{lon}<extra></extra>\",\"hovertext\":[\"path1\"],\"lat\":[-43.5],\"legendgroup\":\"path1\",\"lon\":[91.8385093167702],\"marker\":{\"color\":\"#EF553B\",\"size\":[5],\"sizemode\":\"area\",\"sizeref\":0.0125},\"mode\":\"markers\",\"name\":\"path1\",\"showlegend\":true,\"subplot\":\"mapbox\",\"type\":\"scattermapbox\"}],\"name\":\"14500.0\"},{\"data\":[{\"hovertemplate\":\"<b>%{hovertext}</b><br><br>type=path1_no_obstacle<br>timestep=14600.0<br>size=%{marker.size}<br>lat=%{lat}<br>lon=%{lon}<extra></extra>\",\"hovertext\":[\"path1_no_obstacle\"],\"lat\":[-43.5],\"legendgroup\":\"path1_no_obstacle\",\"lon\":[77.0807453416149],\"marker\":{\"color\":\"#636efa\",\"size\":[5],\"sizemode\":\"area\",\"sizeref\":0.0125},\"mode\":\"markers\",\"name\":\"path1_no_obstacle\",\"showlegend\":true,\"subplot\":\"mapbox\",\"type\":\"scattermapbox\"},{\"hovertemplate\":\"<b>%{hovertext}</b><br><br>type=path1<br>timestep=14600.0<br>size=%{marker.size}<br>lat=%{lat}<br>lon=%{lon}<extra></extra>\",\"hovertext\":[\"path1\"],\"lat\":[-43.5],\"legendgroup\":\"path1\",\"lon\":[90.59627329192548],\"marker\":{\"color\":\"#EF553B\",\"size\":[5],\"sizemode\":\"area\",\"sizeref\":0.0125},\"mode\":\"markers\",\"name\":\"path1\",\"showlegend\":true,\"subplot\":\"mapbox\",\"type\":\"scattermapbox\"}],\"name\":\"14600.0\"},{\"data\":[{\"hovertemplate\":\"<b>%{hovertext}</b><br><br>type=path1_no_obstacle<br>timestep=14700.0<br>size=%{marker.size}<br>lat=%{lat}<br>lon=%{lon}<extra></extra>\",\"hovertext\":[\"path1_no_obstacle\"],\"lat\":[-43.5],\"legendgroup\":\"path1_no_obstacle\",\"lon\":[75.83850931677019],\"marker\":{\"color\":\"#636efa\",\"size\":[5],\"sizemode\":\"area\",\"sizeref\":0.0125},\"mode\":\"markers\",\"name\":\"path1_no_obstacle\",\"showlegend\":true,\"subplot\":\"mapbox\",\"type\":\"scattermapbox\"},{\"hovertemplate\":\"<b>%{hovertext}</b><br><br>type=path1<br>timestep=14700.0<br>size=%{marker.size}<br>lat=%{lat}<br>lon=%{lon}<extra></extra>\",\"hovertext\":[\"path1\"],\"lat\":[-43.5],\"legendgroup\":\"path1\",\"lon\":[89.35403726708074],\"marker\":{\"color\":\"#EF553B\",\"size\":[5],\"sizemode\":\"area\",\"sizeref\":0.0125},\"mode\":\"markers\",\"name\":\"path1\",\"showlegend\":true,\"subplot\":\"mapbox\",\"type\":\"scattermapbox\"}],\"name\":\"14700.0\"},{\"data\":[{\"hovertemplate\":\"<b>%{hovertext}</b><br><br>type=path1_no_obstacle<br>timestep=14800.0<br>size=%{marker.size}<br>lat=%{lat}<br>lon=%{lon}<extra></extra>\",\"hovertext\":[\"path1_no_obstacle\"],\"lat\":[-43.5],\"legendgroup\":\"path1_no_obstacle\",\"lon\":[74.59627329192547],\"marker\":{\"color\":\"#636efa\",\"size\":[5],\"sizemode\":\"area\",\"sizeref\":0.0125},\"mode\":\"markers\",\"name\":\"path1_no_obstacle\",\"showlegend\":true,\"subplot\":\"mapbox\",\"type\":\"scattermapbox\"},{\"hovertemplate\":\"<b>%{hovertext}</b><br><br>type=path1<br>timestep=14800.0<br>size=%{marker.size}<br>lat=%{lat}<br>lon=%{lon}<extra></extra>\",\"hovertext\":[\"path1\"],\"lat\":[-43.5],\"legendgroup\":\"path1\",\"lon\":[88.11180124223603],\"marker\":{\"color\":\"#EF553B\",\"size\":[5],\"sizemode\":\"area\",\"sizeref\":0.0125},\"mode\":\"markers\",\"name\":\"path1\",\"showlegend\":true,\"subplot\":\"mapbox\",\"type\":\"scattermapbox\"}],\"name\":\"14800.0\"},{\"data\":[{\"hovertemplate\":\"<b>%{hovertext}</b><br><br>type=path1_no_obstacle<br>timestep=14900.0<br>size=%{marker.size}<br>lat=%{lat}<br>lon=%{lon}<extra></extra>\",\"hovertext\":[\"path1_no_obstacle\"],\"lat\":[-43.5],\"legendgroup\":\"path1_no_obstacle\",\"lon\":[73.35403726708074],\"marker\":{\"color\":\"#636efa\",\"size\":[5],\"sizemode\":\"area\",\"sizeref\":0.0125},\"mode\":\"markers\",\"name\":\"path1_no_obstacle\",\"showlegend\":true,\"subplot\":\"mapbox\",\"type\":\"scattermapbox\"},{\"hovertemplate\":\"<b>%{hovertext}</b><br><br>type=path1<br>timestep=14900.0<br>size=%{marker.size}<br>lat=%{lat}<br>lon=%{lon}<extra></extra>\",\"hovertext\":[\"path1\"],\"lat\":[-43.5],\"legendgroup\":\"path1\",\"lon\":[86.8695652173913],\"marker\":{\"color\":\"#EF553B\",\"size\":[5],\"sizemode\":\"area\",\"sizeref\":0.0125},\"mode\":\"markers\",\"name\":\"path1\",\"showlegend\":true,\"subplot\":\"mapbox\",\"type\":\"scattermapbox\"}],\"name\":\"14900.0\"},{\"data\":[{\"hovertemplate\":\"<b>%{hovertext}</b><br><br>type=path1_no_obstacle<br>timestep=15000.0<br>size=%{marker.size}<br>lat=%{lat}<br>lon=%{lon}<extra></extra>\",\"hovertext\":[\"path1_no_obstacle\"],\"lat\":[-43.5],\"legendgroup\":\"path1_no_obstacle\",\"lon\":[72.11180124223603],\"marker\":{\"color\":\"#636efa\",\"size\":[5],\"sizemode\":\"area\",\"sizeref\":0.0125},\"mode\":\"markers\",\"name\":\"path1_no_obstacle\",\"showlegend\":true,\"subplot\":\"mapbox\",\"type\":\"scattermapbox\"},{\"hovertemplate\":\"<b>%{hovertext}</b><br><br>type=path1<br>timestep=15000.0<br>size=%{marker.size}<br>lat=%{lat}<br>lon=%{lon}<extra></extra>\",\"hovertext\":[\"path1\"],\"lat\":[-43.5],\"legendgroup\":\"path1\",\"lon\":[85.62732919254658],\"marker\":{\"color\":\"#EF553B\",\"size\":[5],\"sizemode\":\"area\",\"sizeref\":0.0125},\"mode\":\"markers\",\"name\":\"path1\",\"showlegend\":true,\"subplot\":\"mapbox\",\"type\":\"scattermapbox\"}],\"name\":\"15000.0\"},{\"data\":[{\"hovertemplate\":\"<b>%{hovertext}</b><br><br>type=path1_no_obstacle<br>timestep=15100.0<br>size=%{marker.size}<br>lat=%{lat}<br>lon=%{lon}<extra></extra>\",\"hovertext\":[\"path1_no_obstacle\"],\"lat\":[-43.5],\"legendgroup\":\"path1_no_obstacle\",\"lon\":[70.8695652173913],\"marker\":{\"color\":\"#636efa\",\"size\":[5],\"sizemode\":\"area\",\"sizeref\":0.0125},\"mode\":\"markers\",\"name\":\"path1_no_obstacle\",\"showlegend\":true,\"subplot\":\"mapbox\",\"type\":\"scattermapbox\"},{\"hovertemplate\":\"<b>%{hovertext}</b><br><br>type=path1<br>timestep=15100.0<br>size=%{marker.size}<br>lat=%{lat}<br>lon=%{lon}<extra></extra>\",\"hovertext\":[\"path1\"],\"lat\":[-43.5],\"legendgroup\":\"path1\",\"lon\":[84.38509316770187],\"marker\":{\"color\":\"#EF553B\",\"size\":[5],\"sizemode\":\"area\",\"sizeref\":0.0125},\"mode\":\"markers\",\"name\":\"path1\",\"showlegend\":true,\"subplot\":\"mapbox\",\"type\":\"scattermapbox\"}],\"name\":\"15100.0\"},{\"data\":[{\"hovertemplate\":\"<b>%{hovertext}</b><br><br>type=path1_no_obstacle<br>timestep=15200.0<br>size=%{marker.size}<br>lat=%{lat}<br>lon=%{lon}<extra></extra>\",\"hovertext\":[\"path1_no_obstacle\"],\"lat\":[-43.5],\"legendgroup\":\"path1_no_obstacle\",\"lon\":[69.62732919254658],\"marker\":{\"color\":\"#636efa\",\"size\":[5],\"sizemode\":\"area\",\"sizeref\":0.0125},\"mode\":\"markers\",\"name\":\"path1_no_obstacle\",\"showlegend\":true,\"subplot\":\"mapbox\",\"type\":\"scattermapbox\"},{\"hovertemplate\":\"<b>%{hovertext}</b><br><br>type=path1<br>timestep=15200.0<br>size=%{marker.size}<br>lat=%{lat}<br>lon=%{lon}<extra></extra>\",\"hovertext\":[\"path1\"],\"lat\":[-43.5],\"legendgroup\":\"path1\",\"lon\":[83.14285714285714],\"marker\":{\"color\":\"#EF553B\",\"size\":[5],\"sizemode\":\"area\",\"sizeref\":0.0125},\"mode\":\"markers\",\"name\":\"path1\",\"showlegend\":true,\"subplot\":\"mapbox\",\"type\":\"scattermapbox\"}],\"name\":\"15200.0\"},{\"data\":[{\"hovertemplate\":\"<b>%{hovertext}</b><br><br>type=path1_no_obstacle<br>timestep=15300.0<br>size=%{marker.size}<br>lat=%{lat}<br>lon=%{lon}<extra></extra>\",\"hovertext\":[\"path1_no_obstacle\"],\"lat\":[-43.5],\"legendgroup\":\"path1_no_obstacle\",\"lon\":[68.38509316770187],\"marker\":{\"color\":\"#636efa\",\"size\":[5],\"sizemode\":\"area\",\"sizeref\":0.0125},\"mode\":\"markers\",\"name\":\"path1_no_obstacle\",\"showlegend\":true,\"subplot\":\"mapbox\",\"type\":\"scattermapbox\"},{\"hovertemplate\":\"<b>%{hovertext}</b><br><br>type=path1<br>timestep=15300.0<br>size=%{marker.size}<br>lat=%{lat}<br>lon=%{lon}<extra></extra>\",\"hovertext\":[\"path1\"],\"lat\":[-43.5],\"legendgroup\":\"path1\",\"lon\":[81.90062111801242],\"marker\":{\"color\":\"#EF553B\",\"size\":[5],\"sizemode\":\"area\",\"sizeref\":0.0125},\"mode\":\"markers\",\"name\":\"path1\",\"showlegend\":true,\"subplot\":\"mapbox\",\"type\":\"scattermapbox\"}],\"name\":\"15300.0\"},{\"data\":[{\"hovertemplate\":\"<b>%{hovertext}</b><br><br>type=path1_no_obstacle<br>timestep=15400.0<br>size=%{marker.size}<br>lat=%{lat}<br>lon=%{lon}<extra></extra>\",\"hovertext\":[\"path1_no_obstacle\"],\"lat\":[-43.5],\"legendgroup\":\"path1_no_obstacle\",\"lon\":[67.14285714285714],\"marker\":{\"color\":\"#636efa\",\"size\":[5],\"sizemode\":\"area\",\"sizeref\":0.0125},\"mode\":\"markers\",\"name\":\"path1_no_obstacle\",\"showlegend\":true,\"subplot\":\"mapbox\",\"type\":\"scattermapbox\"},{\"hovertemplate\":\"<b>%{hovertext}</b><br><br>type=path1<br>timestep=15400.0<br>size=%{marker.size}<br>lat=%{lat}<br>lon=%{lon}<extra></extra>\",\"hovertext\":[\"path1\"],\"lat\":[-43.5],\"legendgroup\":\"path1\",\"lon\":[80.65838509316771],\"marker\":{\"color\":\"#EF553B\",\"size\":[5],\"sizemode\":\"area\",\"sizeref\":0.0125},\"mode\":\"markers\",\"name\":\"path1\",\"showlegend\":true,\"subplot\":\"mapbox\",\"type\":\"scattermapbox\"}],\"name\":\"15400.0\"},{\"data\":[{\"hovertemplate\":\"<b>%{hovertext}</b><br><br>type=path1_no_obstacle<br>timestep=15500.0<br>size=%{marker.size}<br>lat=%{lat}<br>lon=%{lon}<extra></extra>\",\"hovertext\":[\"path1_no_obstacle\"],\"lat\":[-43.5],\"legendgroup\":\"path1_no_obstacle\",\"lon\":[65.90062111801242],\"marker\":{\"color\":\"#636efa\",\"size\":[5],\"sizemode\":\"area\",\"sizeref\":0.0125},\"mode\":\"markers\",\"name\":\"path1_no_obstacle\",\"showlegend\":true,\"subplot\":\"mapbox\",\"type\":\"scattermapbox\"},{\"hovertemplate\":\"<b>%{hovertext}</b><br><br>type=path1<br>timestep=15500.0<br>size=%{marker.size}<br>lat=%{lat}<br>lon=%{lon}<extra></extra>\",\"hovertext\":[\"path1\"],\"lat\":[-43.5],\"legendgroup\":\"path1\",\"lon\":[79.41614906832298],\"marker\":{\"color\":\"#EF553B\",\"size\":[5],\"sizemode\":\"area\",\"sizeref\":0.0125},\"mode\":\"markers\",\"name\":\"path1\",\"showlegend\":true,\"subplot\":\"mapbox\",\"type\":\"scattermapbox\"}],\"name\":\"15500.0\"},{\"data\":[{\"hovertemplate\":\"<b>%{hovertext}</b><br><br>type=path1_no_obstacle<br>timestep=15600.0<br>size=%{marker.size}<br>lat=%{lat}<br>lon=%{lon}<extra></extra>\",\"hovertext\":[\"path1_no_obstacle\"],\"lat\":[-43.5],\"legendgroup\":\"path1_no_obstacle\",\"lon\":[64.65838509316771],\"marker\":{\"color\":\"#636efa\",\"size\":[5],\"sizemode\":\"area\",\"sizeref\":0.0125},\"mode\":\"markers\",\"name\":\"path1_no_obstacle\",\"showlegend\":true,\"subplot\":\"mapbox\",\"type\":\"scattermapbox\"},{\"hovertemplate\":\"<b>%{hovertext}</b><br><br>type=path1<br>timestep=15600.0<br>size=%{marker.size}<br>lat=%{lat}<br>lon=%{lon}<extra></extra>\",\"hovertext\":[\"path1\"],\"lat\":[-43.5],\"legendgroup\":\"path1\",\"lon\":[78.17391304347827],\"marker\":{\"color\":\"#EF553B\",\"size\":[5],\"sizemode\":\"area\",\"sizeref\":0.0125},\"mode\":\"markers\",\"name\":\"path1\",\"showlegend\":true,\"subplot\":\"mapbox\",\"type\":\"scattermapbox\"}],\"name\":\"15600.0\"},{\"data\":[{\"hovertemplate\":\"<b>%{hovertext}</b><br><br>type=path1_no_obstacle<br>timestep=15700.0<br>size=%{marker.size}<br>lat=%{lat}<br>lon=%{lon}<extra></extra>\",\"hovertext\":[\"path1_no_obstacle\"],\"lat\":[-43.5],\"legendgroup\":\"path1_no_obstacle\",\"lon\":[63.41614906832298],\"marker\":{\"color\":\"#636efa\",\"size\":[5],\"sizemode\":\"area\",\"sizeref\":0.0125},\"mode\":\"markers\",\"name\":\"path1_no_obstacle\",\"showlegend\":true,\"subplot\":\"mapbox\",\"type\":\"scattermapbox\"},{\"hovertemplate\":\"<b>%{hovertext}</b><br><br>type=path1<br>timestep=15700.0<br>size=%{marker.size}<br>lat=%{lat}<br>lon=%{lon}<extra></extra>\",\"hovertext\":[\"path1\"],\"lat\":[-43.5],\"legendgroup\":\"path1\",\"lon\":[76.93167701863354],\"marker\":{\"color\":\"#EF553B\",\"size\":[5],\"sizemode\":\"area\",\"sizeref\":0.0125},\"mode\":\"markers\",\"name\":\"path1\",\"showlegend\":true,\"subplot\":\"mapbox\",\"type\":\"scattermapbox\"}],\"name\":\"15700.0\"},{\"data\":[{\"hovertemplate\":\"<b>%{hovertext}</b><br><br>type=path1_no_obstacle<br>timestep=15800.0<br>size=%{marker.size}<br>lat=%{lat}<br>lon=%{lon}<extra></extra>\",\"hovertext\":[\"path1_no_obstacle\"],\"lat\":[-43.5],\"legendgroup\":\"path1_no_obstacle\",\"lon\":[62.17391304347826],\"marker\":{\"color\":\"#636efa\",\"size\":[5],\"sizemode\":\"area\",\"sizeref\":0.0125},\"mode\":\"markers\",\"name\":\"path1_no_obstacle\",\"showlegend\":true,\"subplot\":\"mapbox\",\"type\":\"scattermapbox\"},{\"hovertemplate\":\"<b>%{hovertext}</b><br><br>type=path1<br>timestep=15800.0<br>size=%{marker.size}<br>lat=%{lat}<br>lon=%{lon}<extra></extra>\",\"hovertext\":[\"path1\"],\"lat\":[-43.5],\"legendgroup\":\"path1\",\"lon\":[75.68944099378882],\"marker\":{\"color\":\"#EF553B\",\"size\":[5],\"sizemode\":\"area\",\"sizeref\":0.0125},\"mode\":\"markers\",\"name\":\"path1\",\"showlegend\":true,\"subplot\":\"mapbox\",\"type\":\"scattermapbox\"}],\"name\":\"15800.0\"},{\"data\":[{\"hovertemplate\":\"<b>%{hovertext}</b><br><br>type=path1_no_obstacle<br>timestep=15900.0<br>size=%{marker.size}<br>lat=%{lat}<br>lon=%{lon}<extra></extra>\",\"hovertext\":[\"path1_no_obstacle\"],\"lat\":[-43.5],\"legendgroup\":\"path1_no_obstacle\",\"lon\":[60.93167701863354],\"marker\":{\"color\":\"#636efa\",\"size\":[5],\"sizemode\":\"area\",\"sizeref\":0.0125},\"mode\":\"markers\",\"name\":\"path1_no_obstacle\",\"showlegend\":true,\"subplot\":\"mapbox\",\"type\":\"scattermapbox\"},{\"hovertemplate\":\"<b>%{hovertext}</b><br><br>type=path1<br>timestep=15900.0<br>size=%{marker.size}<br>lat=%{lat}<br>lon=%{lon}<extra></extra>\",\"hovertext\":[\"path1\"],\"lat\":[-43.5],\"legendgroup\":\"path1\",\"lon\":[74.4472049689441],\"marker\":{\"color\":\"#EF553B\",\"size\":[5],\"sizemode\":\"area\",\"sizeref\":0.0125},\"mode\":\"markers\",\"name\":\"path1\",\"showlegend\":true,\"subplot\":\"mapbox\",\"type\":\"scattermapbox\"}],\"name\":\"15900.0\"},{\"data\":[{\"hovertemplate\":\"<b>%{hovertext}</b><br><br>type=path1_no_obstacle<br>timestep=16000.0<br>size=%{marker.size}<br>lat=%{lat}<br>lon=%{lon}<extra></extra>\",\"hovertext\":[\"path1_no_obstacle\"],\"lat\":[-43.5],\"legendgroup\":\"path1_no_obstacle\",\"lon\":[59.68944099378882],\"marker\":{\"color\":\"#636efa\",\"size\":[5],\"sizemode\":\"area\",\"sizeref\":0.0125},\"mode\":\"markers\",\"name\":\"path1_no_obstacle\",\"showlegend\":true,\"subplot\":\"mapbox\",\"type\":\"scattermapbox\"},{\"hovertemplate\":\"<b>%{hovertext}</b><br><br>type=path1<br>timestep=16000.0<br>size=%{marker.size}<br>lat=%{lat}<br>lon=%{lon}<extra></extra>\",\"hovertext\":[\"path1\"],\"lat\":[-43.5],\"legendgroup\":\"path1\",\"lon\":[73.20496894409938],\"marker\":{\"color\":\"#EF553B\",\"size\":[5],\"sizemode\":\"area\",\"sizeref\":0.0125},\"mode\":\"markers\",\"name\":\"path1\",\"showlegend\":true,\"subplot\":\"mapbox\",\"type\":\"scattermapbox\"}],\"name\":\"16000.0\"},{\"data\":[{\"hovertemplate\":\"<b>%{hovertext}</b><br><br>type=path1_no_obstacle<br>timestep=16100.0<br>size=%{marker.size}<br>lat=%{lat}<br>lon=%{lon}<extra></extra>\",\"hovertext\":[\"path1_no_obstacle\"],\"lat\":[-43.5],\"legendgroup\":\"path1_no_obstacle\",\"lon\":[58.4472049689441],\"marker\":{\"color\":\"#636efa\",\"size\":[5],\"sizemode\":\"area\",\"sizeref\":0.0125},\"mode\":\"markers\",\"name\":\"path1_no_obstacle\",\"showlegend\":true,\"subplot\":\"mapbox\",\"type\":\"scattermapbox\"},{\"hovertemplate\":\"<b>%{hovertext}</b><br><br>type=path1<br>timestep=16100.0<br>size=%{marker.size}<br>lat=%{lat}<br>lon=%{lon}<extra></extra>\",\"hovertext\":[\"path1\"],\"lat\":[-43.5],\"legendgroup\":\"path1\",\"lon\":[71.96273291925466],\"marker\":{\"color\":\"#EF553B\",\"size\":[5],\"sizemode\":\"area\",\"sizeref\":0.0125},\"mode\":\"markers\",\"name\":\"path1\",\"showlegend\":true,\"subplot\":\"mapbox\",\"type\":\"scattermapbox\"}],\"name\":\"16100.0\"},{\"data\":[{\"hovertemplate\":\"<b>%{hovertext}</b><br><br>type=path1_no_obstacle<br>timestep=16200.0<br>size=%{marker.size}<br>lat=%{lat}<br>lon=%{lon}<extra></extra>\",\"hovertext\":[\"path1_no_obstacle\"],\"lat\":[-43.5],\"legendgroup\":\"path1_no_obstacle\",\"lon\":[57.20496894409938],\"marker\":{\"color\":\"#636efa\",\"size\":[5],\"sizemode\":\"area\",\"sizeref\":0.0125},\"mode\":\"markers\",\"name\":\"path1_no_obstacle\",\"showlegend\":true,\"subplot\":\"mapbox\",\"type\":\"scattermapbox\"},{\"hovertemplate\":\"<b>%{hovertext}</b><br><br>type=path1<br>timestep=16200.0<br>size=%{marker.size}<br>lat=%{lat}<br>lon=%{lon}<extra></extra>\",\"hovertext\":[\"path1\"],\"lat\":[-43.5],\"legendgroup\":\"path1\",\"lon\":[70.72049689440993],\"marker\":{\"color\":\"#EF553B\",\"size\":[5],\"sizemode\":\"area\",\"sizeref\":0.0125},\"mode\":\"markers\",\"name\":\"path1\",\"showlegend\":true,\"subplot\":\"mapbox\",\"type\":\"scattermapbox\"}],\"name\":\"16200.0\"},{\"data\":[{\"hovertemplate\":\"<b>%{hovertext}</b><br><br>type=path1_no_obstacle<br>timestep=16300.0<br>size=%{marker.size}<br>lat=%{lat}<br>lon=%{lon}<extra></extra>\",\"hovertext\":[\"path1_no_obstacle\"],\"lat\":[-43.5],\"legendgroup\":\"path1_no_obstacle\",\"lon\":[55.962732919254655],\"marker\":{\"color\":\"#636efa\",\"size\":[5],\"sizemode\":\"area\",\"sizeref\":0.0125},\"mode\":\"markers\",\"name\":\"path1_no_obstacle\",\"showlegend\":true,\"subplot\":\"mapbox\",\"type\":\"scattermapbox\"},{\"hovertemplate\":\"<b>%{hovertext}</b><br><br>type=path1<br>timestep=16300.0<br>size=%{marker.size}<br>lat=%{lat}<br>lon=%{lon}<extra></extra>\",\"hovertext\":[\"path1\"],\"lat\":[-43.5],\"legendgroup\":\"path1\",\"lon\":[69.47826086956522],\"marker\":{\"color\":\"#EF553B\",\"size\":[5],\"sizemode\":\"area\",\"sizeref\":0.0125},\"mode\":\"markers\",\"name\":\"path1\",\"showlegend\":true,\"subplot\":\"mapbox\",\"type\":\"scattermapbox\"}],\"name\":\"16300.0\"},{\"data\":[{\"hovertemplate\":\"<b>%{hovertext}</b><br><br>type=path1_no_obstacle<br>timestep=16400.0<br>size=%{marker.size}<br>lat=%{lat}<br>lon=%{lon}<extra></extra>\",\"hovertext\":[\"path1_no_obstacle\"],\"lat\":[-43.5],\"legendgroup\":\"path1_no_obstacle\",\"lon\":[54.72049689440994],\"marker\":{\"color\":\"#636efa\",\"size\":[5],\"sizemode\":\"area\",\"sizeref\":0.0125},\"mode\":\"markers\",\"name\":\"path1_no_obstacle\",\"showlegend\":true,\"subplot\":\"mapbox\",\"type\":\"scattermapbox\"},{\"hovertemplate\":\"<b>%{hovertext}</b><br><br>type=path1<br>timestep=16400.0<br>size=%{marker.size}<br>lat=%{lat}<br>lon=%{lon}<extra></extra>\",\"hovertext\":[\"path1\"],\"lat\":[-43.5],\"legendgroup\":\"path1\",\"lon\":[68.2360248447205],\"marker\":{\"color\":\"#EF553B\",\"size\":[5],\"sizemode\":\"area\",\"sizeref\":0.0125},\"mode\":\"markers\",\"name\":\"path1\",\"showlegend\":true,\"subplot\":\"mapbox\",\"type\":\"scattermapbox\"}],\"name\":\"16400.0\"},{\"data\":[{\"hovertemplate\":\"<b>%{hovertext}</b><br><br>type=path1_no_obstacle<br>timestep=16500.0<br>size=%{marker.size}<br>lat=%{lat}<br>lon=%{lon}<extra></extra>\",\"hovertext\":[\"path1_no_obstacle\"],\"lat\":[-43.5],\"legendgroup\":\"path1_no_obstacle\",\"lon\":[53.47826086956522],\"marker\":{\"color\":\"#636efa\",\"size\":[5],\"sizemode\":\"area\",\"sizeref\":0.0125},\"mode\":\"markers\",\"name\":\"path1_no_obstacle\",\"showlegend\":true,\"subplot\":\"mapbox\",\"type\":\"scattermapbox\"},{\"hovertemplate\":\"<b>%{hovertext}</b><br><br>type=path1<br>timestep=16500.0<br>size=%{marker.size}<br>lat=%{lat}<br>lon=%{lon}<extra></extra>\",\"hovertext\":[\"path1\"],\"lat\":[-43.5],\"legendgroup\":\"path1\",\"lon\":[66.99378881987577],\"marker\":{\"color\":\"#EF553B\",\"size\":[5],\"sizemode\":\"area\",\"sizeref\":0.0125},\"mode\":\"markers\",\"name\":\"path1\",\"showlegend\":true,\"subplot\":\"mapbox\",\"type\":\"scattermapbox\"}],\"name\":\"16500.0\"},{\"data\":[{\"hovertemplate\":\"<b>%{hovertext}</b><br><br>type=path1_no_obstacle<br>timestep=16600.0<br>size=%{marker.size}<br>lat=%{lat}<br>lon=%{lon}<extra></extra>\",\"hovertext\":[\"path1_no_obstacle\"],\"lat\":[-43.5],\"legendgroup\":\"path1_no_obstacle\",\"lon\":[52.2360248447205],\"marker\":{\"color\":\"#636efa\",\"size\":[5],\"sizemode\":\"area\",\"sizeref\":0.0125},\"mode\":\"markers\",\"name\":\"path1_no_obstacle\",\"showlegend\":true,\"subplot\":\"mapbox\",\"type\":\"scattermapbox\"},{\"hovertemplate\":\"<b>%{hovertext}</b><br><br>type=path1<br>timestep=16600.0<br>size=%{marker.size}<br>lat=%{lat}<br>lon=%{lon}<extra></extra>\",\"hovertext\":[\"path1\"],\"lat\":[-43.5],\"legendgroup\":\"path1\",\"lon\":[65.75155279503106],\"marker\":{\"color\":\"#EF553B\",\"size\":[5],\"sizemode\":\"area\",\"sizeref\":0.0125},\"mode\":\"markers\",\"name\":\"path1\",\"showlegend\":true,\"subplot\":\"mapbox\",\"type\":\"scattermapbox\"}],\"name\":\"16600.0\"},{\"data\":[{\"hovertemplate\":\"<b>%{hovertext}</b><br><br>type=path1_no_obstacle<br>timestep=16700.0<br>size=%{marker.size}<br>lat=%{lat}<br>lon=%{lon}<extra></extra>\",\"hovertext\":[\"path1_no_obstacle\"],\"lat\":[-43.5],\"legendgroup\":\"path1_no_obstacle\",\"lon\":[50.993788819875775],\"marker\":{\"color\":\"#636efa\",\"size\":[5],\"sizemode\":\"area\",\"sizeref\":0.0125},\"mode\":\"markers\",\"name\":\"path1_no_obstacle\",\"showlegend\":true,\"subplot\":\"mapbox\",\"type\":\"scattermapbox\"},{\"hovertemplate\":\"<b>%{hovertext}</b><br><br>type=path1<br>timestep=16700.0<br>size=%{marker.size}<br>lat=%{lat}<br>lon=%{lon}<extra></extra>\",\"hovertext\":[\"path1\"],\"lat\":[-43.5],\"legendgroup\":\"path1\",\"lon\":[64.50931677018633],\"marker\":{\"color\":\"#EF553B\",\"size\":[5],\"sizemode\":\"area\",\"sizeref\":0.0125},\"mode\":\"markers\",\"name\":\"path1\",\"showlegend\":true,\"subplot\":\"mapbox\",\"type\":\"scattermapbox\"}],\"name\":\"16700.0\"},{\"data\":[{\"hovertemplate\":\"<b>%{hovertext}</b><br><br>type=path1_no_obstacle<br>timestep=16800.0<br>size=%{marker.size}<br>lat=%{lat}<br>lon=%{lon}<extra></extra>\",\"hovertext\":[\"path1_no_obstacle\"],\"lat\":[-43.5],\"legendgroup\":\"path1_no_obstacle\",\"lon\":[49.75155279503105],\"marker\":{\"color\":\"#636efa\",\"size\":[5],\"sizemode\":\"area\",\"sizeref\":0.0125},\"mode\":\"markers\",\"name\":\"path1_no_obstacle\",\"showlegend\":true,\"subplot\":\"mapbox\",\"type\":\"scattermapbox\"},{\"hovertemplate\":\"<b>%{hovertext}</b><br><br>type=path1<br>timestep=16800.0<br>size=%{marker.size}<br>lat=%{lat}<br>lon=%{lon}<extra></extra>\",\"hovertext\":[\"path1\"],\"lat\":[-43.5],\"legendgroup\":\"path1\",\"lon\":[63.267080745341616],\"marker\":{\"color\":\"#EF553B\",\"size\":[5],\"sizemode\":\"area\",\"sizeref\":0.0125},\"mode\":\"markers\",\"name\":\"path1\",\"showlegend\":true,\"subplot\":\"mapbox\",\"type\":\"scattermapbox\"}],\"name\":\"16800.0\"},{\"data\":[{\"hovertemplate\":\"<b>%{hovertext}</b><br><br>type=path1_no_obstacle<br>timestep=16900.0<br>size=%{marker.size}<br>lat=%{lat}<br>lon=%{lon}<extra></extra>\",\"hovertext\":[\"path1_no_obstacle\"],\"lat\":[-43.5],\"legendgroup\":\"path1_no_obstacle\",\"lon\":[48.50931677018634],\"marker\":{\"color\":\"#636efa\",\"size\":[5],\"sizemode\":\"area\",\"sizeref\":0.0125},\"mode\":\"markers\",\"name\":\"path1_no_obstacle\",\"showlegend\":true,\"subplot\":\"mapbox\",\"type\":\"scattermapbox\"},{\"hovertemplate\":\"<b>%{hovertext}</b><br><br>type=path1<br>timestep=16900.0<br>size=%{marker.size}<br>lat=%{lat}<br>lon=%{lon}<extra></extra>\",\"hovertext\":[\"path1\"],\"lat\":[-43.5],\"legendgroup\":\"path1\",\"lon\":[62.024844720496894],\"marker\":{\"color\":\"#EF553B\",\"size\":[5],\"sizemode\":\"area\",\"sizeref\":0.0125},\"mode\":\"markers\",\"name\":\"path1\",\"showlegend\":true,\"subplot\":\"mapbox\",\"type\":\"scattermapbox\"}],\"name\":\"16900.0\"},{\"data\":[{\"hovertemplate\":\"<b>%{hovertext}</b><br><br>type=path1_no_obstacle<br>timestep=17000.0<br>size=%{marker.size}<br>lat=%{lat}<br>lon=%{lon}<extra></extra>\",\"hovertext\":[\"path1_no_obstacle\"],\"lat\":[-43.5],\"legendgroup\":\"path1_no_obstacle\",\"lon\":[47.267080745341616],\"marker\":{\"color\":\"#636efa\",\"size\":[5],\"sizemode\":\"area\",\"sizeref\":0.0125},\"mode\":\"markers\",\"name\":\"path1_no_obstacle\",\"showlegend\":true,\"subplot\":\"mapbox\",\"type\":\"scattermapbox\"},{\"hovertemplate\":\"<b>%{hovertext}</b><br><br>type=path1<br>timestep=17000.0<br>size=%{marker.size}<br>lat=%{lat}<br>lon=%{lon}<extra></extra>\",\"hovertext\":[\"path1\"],\"lat\":[-43.5],\"legendgroup\":\"path1\",\"lon\":[60.78260869565217],\"marker\":{\"color\":\"#EF553B\",\"size\":[5],\"sizemode\":\"area\",\"sizeref\":0.0125},\"mode\":\"markers\",\"name\":\"path1\",\"showlegend\":true,\"subplot\":\"mapbox\",\"type\":\"scattermapbox\"}],\"name\":\"17000.0\"},{\"data\":[{\"hovertemplate\":\"<b>%{hovertext}</b><br><br>type=path1_no_obstacle<br>timestep=17100.0<br>size=%{marker.size}<br>lat=%{lat}<br>lon=%{lon}<extra></extra>\",\"hovertext\":[\"path1_no_obstacle\"],\"lat\":[-43.5],\"legendgroup\":\"path1_no_obstacle\",\"lon\":[46.024844720496894],\"marker\":{\"color\":\"#636efa\",\"size\":[5],\"sizemode\":\"area\",\"sizeref\":0.0125},\"mode\":\"markers\",\"name\":\"path1_no_obstacle\",\"showlegend\":true,\"subplot\":\"mapbox\",\"type\":\"scattermapbox\"},{\"hovertemplate\":\"<b>%{hovertext}</b><br><br>type=path1<br>timestep=17100.0<br>size=%{marker.size}<br>lat=%{lat}<br>lon=%{lon}<extra></extra>\",\"hovertext\":[\"path1\"],\"lat\":[-43.5],\"legendgroup\":\"path1\",\"lon\":[59.54037267080745],\"marker\":{\"color\":\"#EF553B\",\"size\":[5],\"sizemode\":\"area\",\"sizeref\":0.0125},\"mode\":\"markers\",\"name\":\"path1\",\"showlegend\":true,\"subplot\":\"mapbox\",\"type\":\"scattermapbox\"}],\"name\":\"17100.0\"},{\"data\":[{\"hovertemplate\":\"<b>%{hovertext}</b><br><br>type=path1_no_obstacle<br>timestep=17200.0<br>size=%{marker.size}<br>lat=%{lat}<br>lon=%{lon}<extra></extra>\",\"hovertext\":[\"path1_no_obstacle\"],\"lat\":[-43.5],\"legendgroup\":\"path1_no_obstacle\",\"lon\":[44.78260869565217],\"marker\":{\"color\":\"#636efa\",\"size\":[5],\"sizemode\":\"area\",\"sizeref\":0.0125},\"mode\":\"markers\",\"name\":\"path1_no_obstacle\",\"showlegend\":true,\"subplot\":\"mapbox\",\"type\":\"scattermapbox\"},{\"hovertemplate\":\"<b>%{hovertext}</b><br><br>type=path1<br>timestep=17200.0<br>size=%{marker.size}<br>lat=%{lat}<br>lon=%{lon}<extra></extra>\",\"hovertext\":[\"path1\"],\"lat\":[-43.5],\"legendgroup\":\"path1\",\"lon\":[58.298136645962735],\"marker\":{\"color\":\"#EF553B\",\"size\":[5],\"sizemode\":\"area\",\"sizeref\":0.0125},\"mode\":\"markers\",\"name\":\"path1\",\"showlegend\":true,\"subplot\":\"mapbox\",\"type\":\"scattermapbox\"}],\"name\":\"17200.0\"},{\"data\":[{\"hovertemplate\":\"<b>%{hovertext}</b><br><br>type=path1_no_obstacle<br>timestep=17300.0<br>size=%{marker.size}<br>lat=%{lat}<br>lon=%{lon}<extra></extra>\",\"hovertext\":[\"path1_no_obstacle\"],\"lat\":[-43.5],\"legendgroup\":\"path1_no_obstacle\",\"lon\":[43.54037267080745],\"marker\":{\"color\":\"#636efa\",\"size\":[5],\"sizemode\":\"area\",\"sizeref\":0.0125},\"mode\":\"markers\",\"name\":\"path1_no_obstacle\",\"showlegend\":true,\"subplot\":\"mapbox\",\"type\":\"scattermapbox\"},{\"hovertemplate\":\"<b>%{hovertext}</b><br><br>type=path1<br>timestep=17300.0<br>size=%{marker.size}<br>lat=%{lat}<br>lon=%{lon}<extra></extra>\",\"hovertext\":[\"path1\"],\"lat\":[-43.5],\"legendgroup\":\"path1\",\"lon\":[57.05590062111801],\"marker\":{\"color\":\"#EF553B\",\"size\":[5],\"sizemode\":\"area\",\"sizeref\":0.0125},\"mode\":\"markers\",\"name\":\"path1\",\"showlegend\":true,\"subplot\":\"mapbox\",\"type\":\"scattermapbox\"}],\"name\":\"17300.0\"},{\"data\":[{\"hovertemplate\":\"<b>%{hovertext}</b><br><br>type=path1_no_obstacle<br>timestep=17400.0<br>size=%{marker.size}<br>lat=%{lat}<br>lon=%{lon}<extra></extra>\",\"hovertext\":[\"path1_no_obstacle\"],\"lat\":[-43.5],\"legendgroup\":\"path1_no_obstacle\",\"lon\":[42.298136645962735],\"marker\":{\"color\":\"#636efa\",\"size\":[5],\"sizemode\":\"area\",\"sizeref\":0.0125},\"mode\":\"markers\",\"name\":\"path1_no_obstacle\",\"showlegend\":true,\"subplot\":\"mapbox\",\"type\":\"scattermapbox\"},{\"hovertemplate\":\"<b>%{hovertext}</b><br><br>type=path1<br>timestep=17400.0<br>size=%{marker.size}<br>lat=%{lat}<br>lon=%{lon}<extra></extra>\",\"hovertext\":[\"path1\"],\"lat\":[-43.5],\"legendgroup\":\"path1\",\"lon\":[55.81366459627329],\"marker\":{\"color\":\"#EF553B\",\"size\":[5],\"sizemode\":\"area\",\"sizeref\":0.0125},\"mode\":\"markers\",\"name\":\"path1\",\"showlegend\":true,\"subplot\":\"mapbox\",\"type\":\"scattermapbox\"}],\"name\":\"17400.0\"},{\"data\":[{\"hovertemplate\":\"<b>%{hovertext}</b><br><br>type=path1_no_obstacle<br>timestep=17500.0<br>size=%{marker.size}<br>lat=%{lat}<br>lon=%{lon}<extra></extra>\",\"hovertext\":[\"path1_no_obstacle\"],\"lat\":[-43.5],\"legendgroup\":\"path1_no_obstacle\",\"lon\":[41.05590062111801],\"marker\":{\"color\":\"#636efa\",\"size\":[5],\"sizemode\":\"area\",\"sizeref\":0.0125},\"mode\":\"markers\",\"name\":\"path1_no_obstacle\",\"showlegend\":true,\"subplot\":\"mapbox\",\"type\":\"scattermapbox\"},{\"hovertemplate\":\"<b>%{hovertext}</b><br><br>type=path1<br>timestep=17500.0<br>size=%{marker.size}<br>lat=%{lat}<br>lon=%{lon}<extra></extra>\",\"hovertext\":[\"path1\"],\"lat\":[-43.5],\"legendgroup\":\"path1\",\"lon\":[54.57142857142857],\"marker\":{\"color\":\"#EF553B\",\"size\":[5],\"sizemode\":\"area\",\"sizeref\":0.0125},\"mode\":\"markers\",\"name\":\"path1\",\"showlegend\":true,\"subplot\":\"mapbox\",\"type\":\"scattermapbox\"}],\"name\":\"17500.0\"},{\"data\":[{\"hovertemplate\":\"<b>%{hovertext}</b><br><br>type=path1_no_obstacle<br>timestep=17600.0<br>size=%{marker.size}<br>lat=%{lat}<br>lon=%{lon}<extra></extra>\",\"hovertext\":[\"path1_no_obstacle\"],\"lat\":[-43.5],\"legendgroup\":\"path1_no_obstacle\",\"lon\":[39.81366459627329],\"marker\":{\"color\":\"#636efa\",\"size\":[5],\"sizemode\":\"area\",\"sizeref\":0.0125},\"mode\":\"markers\",\"name\":\"path1_no_obstacle\",\"showlegend\":true,\"subplot\":\"mapbox\",\"type\":\"scattermapbox\"},{\"hovertemplate\":\"<b>%{hovertext}</b><br><br>type=path1<br>timestep=17600.0<br>size=%{marker.size}<br>lat=%{lat}<br>lon=%{lon}<extra></extra>\",\"hovertext\":[\"path1\"],\"lat\":[-43.5],\"legendgroup\":\"path1\",\"lon\":[53.329192546583855],\"marker\":{\"color\":\"#EF553B\",\"size\":[5],\"sizemode\":\"area\",\"sizeref\":0.0125},\"mode\":\"markers\",\"name\":\"path1\",\"showlegend\":true,\"subplot\":\"mapbox\",\"type\":\"scattermapbox\"}],\"name\":\"17600.0\"},{\"data\":[{\"hovertemplate\":\"<b>%{hovertext}</b><br><br>type=path1_no_obstacle<br>timestep=17700.0<br>size=%{marker.size}<br>lat=%{lat}<br>lon=%{lon}<extra></extra>\",\"hovertext\":[\"path1_no_obstacle\"],\"lat\":[-43.5],\"legendgroup\":\"path1_no_obstacle\",\"lon\":[38.57142857142857],\"marker\":{\"color\":\"#636efa\",\"size\":[5],\"sizemode\":\"area\",\"sizeref\":0.0125},\"mode\":\"markers\",\"name\":\"path1_no_obstacle\",\"showlegend\":true,\"subplot\":\"mapbox\",\"type\":\"scattermapbox\"},{\"hovertemplate\":\"<b>%{hovertext}</b><br><br>type=path1<br>timestep=17700.0<br>size=%{marker.size}<br>lat=%{lat}<br>lon=%{lon}<extra></extra>\",\"hovertext\":[\"path1\"],\"lat\":[-43.5],\"legendgroup\":\"path1\",\"lon\":[52.08695652173913],\"marker\":{\"color\":\"#EF553B\",\"size\":[5],\"sizemode\":\"area\",\"sizeref\":0.0125},\"mode\":\"markers\",\"name\":\"path1\",\"showlegend\":true,\"subplot\":\"mapbox\",\"type\":\"scattermapbox\"}],\"name\":\"17700.0\"},{\"data\":[{\"hovertemplate\":\"<b>%{hovertext}</b><br><br>type=path1_no_obstacle<br>timestep=17800.0<br>size=%{marker.size}<br>lat=%{lat}<br>lon=%{lon}<extra></extra>\",\"hovertext\":[\"path1_no_obstacle\"],\"lat\":[-43.5],\"legendgroup\":\"path1_no_obstacle\",\"lon\":[37.329192546583855],\"marker\":{\"color\":\"#636efa\",\"size\":[5],\"sizemode\":\"area\",\"sizeref\":0.0125},\"mode\":\"markers\",\"name\":\"path1_no_obstacle\",\"showlegend\":true,\"subplot\":\"mapbox\",\"type\":\"scattermapbox\"},{\"hovertemplate\":\"<b>%{hovertext}</b><br><br>type=path1<br>timestep=17800.0<br>size=%{marker.size}<br>lat=%{lat}<br>lon=%{lon}<extra></extra>\",\"hovertext\":[\"path1\"],\"lat\":[-43.5],\"legendgroup\":\"path1\",\"lon\":[50.84472049689441],\"marker\":{\"color\":\"#EF553B\",\"size\":[5],\"sizemode\":\"area\",\"sizeref\":0.0125},\"mode\":\"markers\",\"name\":\"path1\",\"showlegend\":true,\"subplot\":\"mapbox\",\"type\":\"scattermapbox\"}],\"name\":\"17800.0\"},{\"data\":[{\"hovertemplate\":\"<b>%{hovertext}</b><br><br>type=path1_no_obstacle<br>timestep=17900.0<br>size=%{marker.size}<br>lat=%{lat}<br>lon=%{lon}<extra></extra>\",\"hovertext\":[\"path1_no_obstacle\"],\"lat\":[-43.5],\"legendgroup\":\"path1_no_obstacle\",\"lon\":[36.08695652173913],\"marker\":{\"color\":\"#636efa\",\"size\":[5],\"sizemode\":\"area\",\"sizeref\":0.0125},\"mode\":\"markers\",\"name\":\"path1_no_obstacle\",\"showlegend\":true,\"subplot\":\"mapbox\",\"type\":\"scattermapbox\"},{\"hovertemplate\":\"<b>%{hovertext}</b><br><br>type=path1<br>timestep=17900.0<br>size=%{marker.size}<br>lat=%{lat}<br>lon=%{lon}<extra></extra>\",\"hovertext\":[\"path1\"],\"lat\":[-43.5],\"legendgroup\":\"path1\",\"lon\":[49.60248447204969],\"marker\":{\"color\":\"#EF553B\",\"size\":[5],\"sizemode\":\"area\",\"sizeref\":0.0125},\"mode\":\"markers\",\"name\":\"path1\",\"showlegend\":true,\"subplot\":\"mapbox\",\"type\":\"scattermapbox\"}],\"name\":\"17900.0\"},{\"data\":[{\"hovertemplate\":\"<b>%{hovertext}</b><br><br>type=path1_no_obstacle<br>timestep=18000.0<br>size=%{marker.size}<br>lat=%{lat}<br>lon=%{lon}<extra></extra>\",\"hovertext\":[\"path1_no_obstacle\"],\"lat\":[-43.5],\"legendgroup\":\"path1_no_obstacle\",\"lon\":[34.84472049689441],\"marker\":{\"color\":\"#636efa\",\"size\":[5],\"sizemode\":\"area\",\"sizeref\":0.0125},\"mode\":\"markers\",\"name\":\"path1_no_obstacle\",\"showlegend\":true,\"subplot\":\"mapbox\",\"type\":\"scattermapbox\"},{\"hovertemplate\":\"<b>%{hovertext}</b><br><br>type=path1<br>timestep=18000.0<br>size=%{marker.size}<br>lat=%{lat}<br>lon=%{lon}<extra></extra>\",\"hovertext\":[\"path1\"],\"lat\":[-43.5],\"legendgroup\":\"path1\",\"lon\":[48.36024844720497],\"marker\":{\"color\":\"#EF553B\",\"size\":[5],\"sizemode\":\"area\",\"sizeref\":0.0125},\"mode\":\"markers\",\"name\":\"path1\",\"showlegend\":true,\"subplot\":\"mapbox\",\"type\":\"scattermapbox\"}],\"name\":\"18000.0\"},{\"data\":[{\"hovertemplate\":\"<b>%{hovertext}</b><br><br>type=path1_no_obstacle<br>timestep=18100.0<br>size=%{marker.size}<br>lat=%{lat}<br>lon=%{lon}<extra></extra>\",\"hovertext\":[\"path1_no_obstacle\"],\"lat\":[-43.5],\"legendgroup\":\"path1_no_obstacle\",\"lon\":[33.60248447204969],\"marker\":{\"color\":\"#636efa\",\"size\":[5],\"sizemode\":\"area\",\"sizeref\":0.0125},\"mode\":\"markers\",\"name\":\"path1_no_obstacle\",\"showlegend\":true,\"subplot\":\"mapbox\",\"type\":\"scattermapbox\"},{\"hovertemplate\":\"<b>%{hovertext}</b><br><br>type=path1<br>timestep=18100.0<br>size=%{marker.size}<br>lat=%{lat}<br>lon=%{lon}<extra></extra>\",\"hovertext\":[\"path1\"],\"lat\":[-43.5],\"legendgroup\":\"path1\",\"lon\":[47.11801242236025],\"marker\":{\"color\":\"#EF553B\",\"size\":[5],\"sizemode\":\"area\",\"sizeref\":0.0125},\"mode\":\"markers\",\"name\":\"path1\",\"showlegend\":true,\"subplot\":\"mapbox\",\"type\":\"scattermapbox\"}],\"name\":\"18100.0\"},{\"data\":[{\"hovertemplate\":\"<b>%{hovertext}</b><br><br>type=path1_no_obstacle<br>timestep=18200.0<br>size=%{marker.size}<br>lat=%{lat}<br>lon=%{lon}<extra></extra>\",\"hovertext\":[\"path1_no_obstacle\"],\"lat\":[-43.5],\"legendgroup\":\"path1_no_obstacle\",\"lon\":[32.36024844720497],\"marker\":{\"color\":\"#636efa\",\"size\":[5],\"sizemode\":\"area\",\"sizeref\":0.0125},\"mode\":\"markers\",\"name\":\"path1_no_obstacle\",\"showlegend\":true,\"subplot\":\"mapbox\",\"type\":\"scattermapbox\"},{\"hovertemplate\":\"<b>%{hovertext}</b><br><br>type=path1<br>timestep=18200.0<br>size=%{marker.size}<br>lat=%{lat}<br>lon=%{lon}<extra></extra>\",\"hovertext\":[\"path1\"],\"lat\":[-43.5],\"legendgroup\":\"path1\",\"lon\":[45.87577639751553],\"marker\":{\"color\":\"#EF553B\",\"size\":[5],\"sizemode\":\"area\",\"sizeref\":0.0125},\"mode\":\"markers\",\"name\":\"path1\",\"showlegend\":true,\"subplot\":\"mapbox\",\"type\":\"scattermapbox\"}],\"name\":\"18200.0\"},{\"data\":[{\"hovertemplate\":\"<b>%{hovertext}</b><br><br>type=path1_no_obstacle<br>timestep=18300.0<br>size=%{marker.size}<br>lat=%{lat}<br>lon=%{lon}<extra></extra>\",\"hovertext\":[\"path1_no_obstacle\"],\"lat\":[-43.5],\"legendgroup\":\"path1_no_obstacle\",\"lon\":[31.11801242236025],\"marker\":{\"color\":\"#636efa\",\"size\":[5],\"sizemode\":\"area\",\"sizeref\":0.0125},\"mode\":\"markers\",\"name\":\"path1_no_obstacle\",\"showlegend\":true,\"subplot\":\"mapbox\",\"type\":\"scattermapbox\"},{\"hovertemplate\":\"<b>%{hovertext}</b><br><br>type=path1<br>timestep=18300.0<br>size=%{marker.size}<br>lat=%{lat}<br>lon=%{lon}<extra></extra>\",\"hovertext\":[\"path1\"],\"lat\":[-43.5],\"legendgroup\":\"path1\",\"lon\":[44.63354037267081],\"marker\":{\"color\":\"#EF553B\",\"size\":[5],\"sizemode\":\"area\",\"sizeref\":0.0125},\"mode\":\"markers\",\"name\":\"path1\",\"showlegend\":true,\"subplot\":\"mapbox\",\"type\":\"scattermapbox\"}],\"name\":\"18300.0\"},{\"data\":[{\"hovertemplate\":\"<b>%{hovertext}</b><br><br>type=path1_no_obstacle<br>timestep=18400.0<br>size=%{marker.size}<br>lat=%{lat}<br>lon=%{lon}<extra></extra>\",\"hovertext\":[\"path1_no_obstacle\"],\"lat\":[-43.5],\"legendgroup\":\"path1_no_obstacle\",\"lon\":[29.875776397515526],\"marker\":{\"color\":\"#636efa\",\"size\":[5],\"sizemode\":\"area\",\"sizeref\":0.0125},\"mode\":\"markers\",\"name\":\"path1_no_obstacle\",\"showlegend\":true,\"subplot\":\"mapbox\",\"type\":\"scattermapbox\"},{\"hovertemplate\":\"<b>%{hovertext}</b><br><br>type=path1<br>timestep=18400.0<br>size=%{marker.size}<br>lat=%{lat}<br>lon=%{lon}<extra></extra>\",\"hovertext\":[\"path1\"],\"lat\":[-43.5],\"legendgroup\":\"path1\",\"lon\":[43.391304347826086],\"marker\":{\"color\":\"#EF553B\",\"size\":[5],\"sizemode\":\"area\",\"sizeref\":0.0125},\"mode\":\"markers\",\"name\":\"path1\",\"showlegend\":true,\"subplot\":\"mapbox\",\"type\":\"scattermapbox\"}],\"name\":\"18400.0\"},{\"data\":[{\"hovertemplate\":\"<b>%{hovertext}</b><br><br>type=path1_no_obstacle<br>timestep=18500.0<br>size=%{marker.size}<br>lat=%{lat}<br>lon=%{lon}<extra></extra>\",\"hovertext\":[\"path1_no_obstacle\"],\"lat\":[-43.5],\"legendgroup\":\"path1_no_obstacle\",\"lon\":[28.633540372670808],\"marker\":{\"color\":\"#636efa\",\"size\":[5],\"sizemode\":\"area\",\"sizeref\":0.0125},\"mode\":\"markers\",\"name\":\"path1_no_obstacle\",\"showlegend\":true,\"subplot\":\"mapbox\",\"type\":\"scattermapbox\"},{\"hovertemplate\":\"<b>%{hovertext}</b><br><br>type=path1<br>timestep=18500.0<br>size=%{marker.size}<br>lat=%{lat}<br>lon=%{lon}<extra></extra>\",\"hovertext\":[\"path1\"],\"lat\":[-43.5],\"legendgroup\":\"path1\",\"lon\":[42.14906832298136],\"marker\":{\"color\":\"#EF553B\",\"size\":[5],\"sizemode\":\"area\",\"sizeref\":0.0125},\"mode\":\"markers\",\"name\":\"path1\",\"showlegend\":true,\"subplot\":\"mapbox\",\"type\":\"scattermapbox\"}],\"name\":\"18500.0\"},{\"data\":[{\"hovertemplate\":\"<b>%{hovertext}</b><br><br>type=path1_no_obstacle<br>timestep=18600.0<br>size=%{marker.size}<br>lat=%{lat}<br>lon=%{lon}<extra></extra>\",\"hovertext\":[\"path1_no_obstacle\"],\"lat\":[-43.5],\"legendgroup\":\"path1_no_obstacle\",\"lon\":[27.39130434782609],\"marker\":{\"color\":\"#636efa\",\"size\":[5],\"sizemode\":\"area\",\"sizeref\":0.0125},\"mode\":\"markers\",\"name\":\"path1_no_obstacle\",\"showlegend\":true,\"subplot\":\"mapbox\",\"type\":\"scattermapbox\"},{\"hovertemplate\":\"<b>%{hovertext}</b><br><br>type=path1<br>timestep=18600.0<br>size=%{marker.size}<br>lat=%{lat}<br>lon=%{lon}<extra></extra>\",\"hovertext\":[\"path1\"],\"lat\":[-43.5],\"legendgroup\":\"path1\",\"lon\":[40.90683229813665],\"marker\":{\"color\":\"#EF553B\",\"size\":[5],\"sizemode\":\"area\",\"sizeref\":0.0125},\"mode\":\"markers\",\"name\":\"path1\",\"showlegend\":true,\"subplot\":\"mapbox\",\"type\":\"scattermapbox\"}],\"name\":\"18600.0\"},{\"data\":[{\"hovertemplate\":\"<b>%{hovertext}</b><br><br>type=path1_no_obstacle<br>timestep=18700.0<br>size=%{marker.size}<br>lat=%{lat}<br>lon=%{lon}<extra></extra>\",\"hovertext\":[\"path1_no_obstacle\"],\"lat\":[-43.5],\"legendgroup\":\"path1_no_obstacle\",\"lon\":[26.149068322981368],\"marker\":{\"color\":\"#636efa\",\"size\":[5],\"sizemode\":\"area\",\"sizeref\":0.0125},\"mode\":\"markers\",\"name\":\"path1_no_obstacle\",\"showlegend\":true,\"subplot\":\"mapbox\",\"type\":\"scattermapbox\"},{\"hovertemplate\":\"<b>%{hovertext}</b><br><br>type=path1<br>timestep=18700.0<br>size=%{marker.size}<br>lat=%{lat}<br>lon=%{lon}<extra></extra>\",\"hovertext\":[\"path1\"],\"lat\":[-43.5],\"legendgroup\":\"path1\",\"lon\":[39.66459627329193],\"marker\":{\"color\":\"#EF553B\",\"size\":[5],\"sizemode\":\"area\",\"sizeref\":0.0125},\"mode\":\"markers\",\"name\":\"path1\",\"showlegend\":true,\"subplot\":\"mapbox\",\"type\":\"scattermapbox\"}],\"name\":\"18700.0\"},{\"data\":[{\"hovertemplate\":\"<b>%{hovertext}</b><br><br>type=path1<br>timestep=18800.0<br>size=%{marker.size}<br>lat=%{lat}<br>lon=%{lon}<extra></extra>\",\"hovertext\":[\"path1\"],\"lat\":[-43.5],\"legendgroup\":\"path1\",\"lon\":[38.422360248447205],\"marker\":{\"color\":\"#EF553B\",\"size\":[5],\"sizemode\":\"area\",\"sizeref\":0.0125},\"mode\":\"markers\",\"name\":\"path1\",\"showlegend\":true,\"subplot\":\"mapbox\",\"type\":\"scattermapbox\"}],\"name\":\"18800.0\"},{\"data\":[{\"hovertemplate\":\"<b>%{hovertext}</b><br><br>type=path1<br>timestep=18900.0<br>size=%{marker.size}<br>lat=%{lat}<br>lon=%{lon}<extra></extra>\",\"hovertext\":[\"path1\"],\"lat\":[-43.5],\"legendgroup\":\"path1\",\"lon\":[37.18012422360248],\"marker\":{\"color\":\"#EF553B\",\"size\":[5],\"sizemode\":\"area\",\"sizeref\":0.0125},\"mode\":\"markers\",\"name\":\"path1\",\"showlegend\":true,\"subplot\":\"mapbox\",\"type\":\"scattermapbox\"}],\"name\":\"18900.0\"},{\"data\":[{\"hovertemplate\":\"<b>%{hovertext}</b><br><br>type=path1<br>timestep=19000.0<br>size=%{marker.size}<br>lat=%{lat}<br>lon=%{lon}<extra></extra>\",\"hovertext\":[\"path1\"],\"lat\":[-43.5],\"legendgroup\":\"path1\",\"lon\":[35.93788819875776],\"marker\":{\"color\":\"#EF553B\",\"size\":[5],\"sizemode\":\"area\",\"sizeref\":0.0125},\"mode\":\"markers\",\"name\":\"path1\",\"showlegend\":true,\"subplot\":\"mapbox\",\"type\":\"scattermapbox\"}],\"name\":\"19000.0\"},{\"data\":[{\"hovertemplate\":\"<b>%{hovertext}</b><br><br>type=path1<br>timestep=19100.0<br>size=%{marker.size}<br>lat=%{lat}<br>lon=%{lon}<extra></extra>\",\"hovertext\":[\"path1\"],\"lat\":[-43.5],\"legendgroup\":\"path1\",\"lon\":[34.69565217391305],\"marker\":{\"color\":\"#EF553B\",\"size\":[5],\"sizemode\":\"area\",\"sizeref\":0.0125},\"mode\":\"markers\",\"name\":\"path1\",\"showlegend\":true,\"subplot\":\"mapbox\",\"type\":\"scattermapbox\"}],\"name\":\"19100.0\"},{\"data\":[{\"hovertemplate\":\"<b>%{hovertext}</b><br><br>type=path1<br>timestep=19200.0<br>size=%{marker.size}<br>lat=%{lat}<br>lon=%{lon}<extra></extra>\",\"hovertext\":[\"path1\"],\"lat\":[-43.5],\"legendgroup\":\"path1\",\"lon\":[33.453416149068325],\"marker\":{\"color\":\"#EF553B\",\"size\":[5],\"sizemode\":\"area\",\"sizeref\":0.0125},\"mode\":\"markers\",\"name\":\"path1\",\"showlegend\":true,\"subplot\":\"mapbox\",\"type\":\"scattermapbox\"}],\"name\":\"19200.0\"},{\"data\":[{\"hovertemplate\":\"<b>%{hovertext}</b><br><br>type=path1<br>timestep=19300.0<br>size=%{marker.size}<br>lat=%{lat}<br>lon=%{lon}<extra></extra>\",\"hovertext\":[\"path1\"],\"lat\":[-43.5],\"legendgroup\":\"path1\",\"lon\":[32.2111801242236],\"marker\":{\"color\":\"#EF553B\",\"size\":[5],\"sizemode\":\"area\",\"sizeref\":0.0125},\"mode\":\"markers\",\"name\":\"path1\",\"showlegend\":true,\"subplot\":\"mapbox\",\"type\":\"scattermapbox\"}],\"name\":\"19300.0\"},{\"data\":[{\"hovertemplate\":\"<b>%{hovertext}</b><br><br>type=path1<br>timestep=19400.0<br>size=%{marker.size}<br>lat=%{lat}<br>lon=%{lon}<extra></extra>\",\"hovertext\":[\"path1\"],\"lat\":[-43.5],\"legendgroup\":\"path1\",\"lon\":[30.96894409937888],\"marker\":{\"color\":\"#EF553B\",\"size\":[5],\"sizemode\":\"area\",\"sizeref\":0.0125},\"mode\":\"markers\",\"name\":\"path1\",\"showlegend\":true,\"subplot\":\"mapbox\",\"type\":\"scattermapbox\"}],\"name\":\"19400.0\"},{\"data\":[{\"hovertemplate\":\"<b>%{hovertext}</b><br><br>type=path1<br>timestep=19500.0<br>size=%{marker.size}<br>lat=%{lat}<br>lon=%{lon}<extra></extra>\",\"hovertext\":[\"path1\"],\"lat\":[-43.5],\"legendgroup\":\"path1\",\"lon\":[29.72670807453416],\"marker\":{\"color\":\"#EF553B\",\"size\":[5],\"sizemode\":\"area\",\"sizeref\":0.0125},\"mode\":\"markers\",\"name\":\"path1\",\"showlegend\":true,\"subplot\":\"mapbox\",\"type\":\"scattermapbox\"}],\"name\":\"19500.0\"},{\"data\":[{\"hovertemplate\":\"<b>%{hovertext}</b><br><br>type=path1<br>timestep=19600.0<br>size=%{marker.size}<br>lat=%{lat}<br>lon=%{lon}<extra></extra>\",\"hovertext\":[\"path1\"],\"lat\":[-43.5],\"legendgroup\":\"path1\",\"lon\":[28.48447204968944],\"marker\":{\"color\":\"#EF553B\",\"size\":[5],\"sizemode\":\"area\",\"sizeref\":0.0125},\"mode\":\"markers\",\"name\":\"path1\",\"showlegend\":true,\"subplot\":\"mapbox\",\"type\":\"scattermapbox\"}],\"name\":\"19600.0\"},{\"data\":[{\"hovertemplate\":\"<b>%{hovertext}</b><br><br>type=path1<br>timestep=19700.0<br>size=%{marker.size}<br>lat=%{lat}<br>lon=%{lon}<extra></extra>\",\"hovertext\":[\"path1\"],\"lat\":[-43.5],\"legendgroup\":\"path1\",\"lon\":[27.24223602484472],\"marker\":{\"color\":\"#EF553B\",\"size\":[5],\"sizemode\":\"area\",\"sizeref\":0.0125},\"mode\":\"markers\",\"name\":\"path1\",\"showlegend\":true,\"subplot\":\"mapbox\",\"type\":\"scattermapbox\"}],\"name\":\"19700.0\"},{\"data\":[{\"hovertemplate\":\"<b>%{hovertext}</b><br><br>type=path1<br>timestep=19800.0<br>size=%{marker.size}<br>lat=%{lat}<br>lon=%{lon}<extra></extra>\",\"hovertext\":[\"path1\"],\"lat\":[-43.5],\"legendgroup\":\"path1\",\"lon\":[26.0],\"marker\":{\"color\":\"#EF553B\",\"size\":[5],\"sizemode\":\"area\",\"sizeref\":0.0125},\"mode\":\"markers\",\"name\":\"path1\",\"showlegend\":true,\"subplot\":\"mapbox\",\"type\":\"scattermapbox\"}],\"name\":\"19800.0\"}]);\n",
       "                        }).then(function(){\n",
       "                            \n",
       "var gd = document.getElementById('bf9466d8-4eed-40c9-ad20-17cb5ed2f4d6');\n",
       "var x = new MutationObserver(function (mutations, observer) {{\n",
       "        var display = window.getComputedStyle(gd).display;\n",
       "        if (!display || display === 'none') {{\n",
       "            console.log([gd, 'removed!']);\n",
       "            Plotly.purge(gd);\n",
       "            observer.disconnect();\n",
       "        }}\n",
       "}});\n",
       "\n",
       "// Listen for the removal of the full notebook cells\n",
       "var notebookContainer = gd.closest('#notebook-container');\n",
       "if (notebookContainer) {{\n",
       "    x.observe(notebookContainer, {childList: true});\n",
       "}}\n",
       "\n",
       "// Listen for the clearing of the current output cell\n",
       "var outputEl = gd.closest('.output');\n",
       "if (outputEl) {{\n",
       "    x.observe(outputEl, {childList: true});\n",
       "}}\n",
       "\n",
       "                        })                };                });            </script>        </div>"
      ]
     },
     "metadata": {},
     "output_type": "display_data"
    }
   ],
   "source": [
    "\n",
    "def animate_map(time_col):\n",
    "    fig = px.scatter_mapbox(df,\n",
    "              lat=\"lat\" ,\n",
    "              lon=\"lon\",\n",
    "              hover_name='type',\n",
    "              color='type',\n",
    "              size = 'size',                            \n",
    "              animation_frame=time_col,\n",
    "              mapbox_style=\"basic\",\n",
    "              category_orders={\n",
    "              time_col:list(np.sort(df[time_col].unique()))\n",
    "              },                  \n",
    "              zoom=1)\n",
    "    fig.show();\n",
    "animate_map(time_col='timestep')"
   ]
  },
  {
   "cell_type": "code",
   "execution_count": null,
   "id": "139cab78",
   "metadata": {},
   "outputs": [],
   "source": []
  }
 ],
 "metadata": {
  "kernelspec": {
   "display_name": "Python 3 (ipykernel)",
   "language": "python",
   "name": "python3"
  },
  "language_info": {
   "codemirror_mode": {
    "name": "ipython",
    "version": 3
   },
   "file_extension": ".py",
   "mimetype": "text/x-python",
   "name": "python",
   "nbconvert_exporter": "python",
   "pygments_lexer": "ipython3",
   "version": "3.9.10"
  }
 },
 "nbformat": 4,
 "nbformat_minor": 5
}
