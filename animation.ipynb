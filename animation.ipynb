{
 "cells": [
  {
   "cell_type": "code",
   "execution_count": 1,
   "id": "95db4a88",
   "metadata": {},
   "outputs": [],
   "source": [
    "# import required packages\n",
    "import pandas as pd\n",
    "import plotly.express as px\n",
    "import matplotlib.pyplot as plt\n",
    "import numpy as np\n",
    "import seaborn as sns; sns.set(style=\"ticks\", color_codes=True)\n",
    "import geopandas as gpd\n",
    "from geopandas import GeoDataFrame\n",
    "import json"
   ]
  },
  {
   "cell_type": "code",
   "execution_count": 12,
   "id": "038ccc99",
   "metadata": {},
   "outputs": [
    {
     "data": {
      "text/html": [
       "<div>\n",
       "<style scoped>\n",
       "    .dataframe tbody tr th:only-of-type {\n",
       "        vertical-align: middle;\n",
       "    }\n",
       "\n",
       "    .dataframe tbody tr th {\n",
       "        vertical-align: top;\n",
       "    }\n",
       "\n",
       "    .dataframe thead th {\n",
       "        text-align: right;\n",
       "    }\n",
       "</style>\n",
       "<table border=\"1\" class=\"dataframe\">\n",
       "  <thead>\n",
       "    <tr style=\"text-align: right;\">\n",
       "      <th></th>\n",
       "      <th>Unnamed: 0</th>\n",
       "      <th>timestep</th>\n",
       "      <th>lon</th>\n",
       "      <th>lat</th>\n",
       "      <th>timestep.1</th>\n",
       "      <th>type</th>\n",
       "      <th>size</th>\n",
       "    </tr>\n",
       "  </thead>\n",
       "  <tbody>\n",
       "    <tr>\n",
       "      <th>0</th>\n",
       "      <td>0</td>\n",
       "      <td>0.0</td>\n",
       "      <td>-174.000000</td>\n",
       "      <td>38.5</td>\n",
       "      <td>0.0</td>\n",
       "      <td>path_no_obstacle</td>\n",
       "      <td>5</td>\n",
       "    </tr>\n",
       "    <tr>\n",
       "      <th>1</th>\n",
       "      <td>2</td>\n",
       "      <td>200.0</td>\n",
       "      <td>-176.298851</td>\n",
       "      <td>38.5</td>\n",
       "      <td>200.0</td>\n",
       "      <td>path_no_obstacle</td>\n",
       "      <td>5</td>\n",
       "    </tr>\n",
       "    <tr>\n",
       "      <th>2</th>\n",
       "      <td>4</td>\n",
       "      <td>400.0</td>\n",
       "      <td>-178.597701</td>\n",
       "      <td>38.5</td>\n",
       "      <td>400.0</td>\n",
       "      <td>path_no_obstacle</td>\n",
       "      <td>5</td>\n",
       "    </tr>\n",
       "    <tr>\n",
       "      <th>3</th>\n",
       "      <td>6</td>\n",
       "      <td>600.0</td>\n",
       "      <td>179.103448</td>\n",
       "      <td>38.5</td>\n",
       "      <td>600.0</td>\n",
       "      <td>path_no_obstacle</td>\n",
       "      <td>5</td>\n",
       "    </tr>\n",
       "    <tr>\n",
       "      <th>4</th>\n",
       "      <td>8</td>\n",
       "      <td>800.0</td>\n",
       "      <td>176.804598</td>\n",
       "      <td>38.5</td>\n",
       "      <td>800.0</td>\n",
       "      <td>path_no_obstacle</td>\n",
       "      <td>5</td>\n",
       "    </tr>\n",
       "  </tbody>\n",
       "</table>\n",
       "</div>"
      ],
      "text/plain": [
       "   Unnamed: 0  timestep         lon   lat  timestep.1              type  size\n",
       "0           0       0.0 -174.000000  38.5         0.0  path_no_obstacle     5\n",
       "1           2     200.0 -176.298851  38.5       200.0  path_no_obstacle     5\n",
       "2           4     400.0 -178.597701  38.5       400.0  path_no_obstacle     5\n",
       "3           6     600.0  179.103448  38.5       600.0  path_no_obstacle     5\n",
       "4           8     800.0  176.804598  38.5       800.0  path_no_obstacle     5"
      ]
     },
     "execution_count": 12,
     "metadata": {},
     "output_type": "execute_result"
    }
   ],
   "source": [
    "px.set_mapbox_access_token(\"pk.eyJ1IjoieWVtaS0yMyIsImEiOiJjbDEzZzl6MWswZWg5M2lzNmx4dGoza2U5In0.meLrG_2lR0ob4ZqA_ZGiPw\")\n",
    "df = pd.read_csv('comparison.csv')\n",
    "df.head()"
   ]
  },
  {
   "cell_type": "code",
   "execution_count": 13,
   "id": "81bedd3f",
   "metadata": {},
   "outputs": [
    {
     "data": {
      "application/vnd.plotly.v1+json": {
       "config": {
        "plotlyServerURL": "https://plot.ly"
       },
       "data": [
        {
         "hovertemplate": "<b>%{hovertext}</b><br><br>type=path_no_obstacle<br>timestep=0.0<br>size=%{marker.size}<br>lat=%{lat}<br>lon=%{lon}<extra></extra>",
         "hovertext": [
          "path_no_obstacle"
         ],
         "lat": [
          38.5
         ],
         "legendgroup": "path_no_obstacle",
         "lon": [
          -174
         ],
         "marker": {
          "color": "#636efa",
          "size": [
           5
          ],
          "sizemode": "area",
          "sizeref": 0.025
         },
         "mode": "markers",
         "name": "path_no_obstacle",
         "showlegend": true,
         "subplot": "mapbox",
         "type": "scattermapbox"
        },
        {
         "hovertemplate": "<b>%{hovertext}</b><br><br>type=path_with_obstacle<br>timestep=0.0<br>size=%{marker.size}<br>lat=%{lat}<br>lon=%{lon}<extra></extra>",
         "hovertext": [
          "path_with_obstacle"
         ],
         "lat": [
          38.5
         ],
         "legendgroup": "path_with_obstacle",
         "lon": [
          -174
         ],
         "marker": {
          "color": "#EF553B",
          "size": [
           5
          ],
          "sizemode": "area",
          "sizeref": 0.025
         },
         "mode": "markers",
         "name": "path_with_obstacle",
         "showlegend": true,
         "subplot": "mapbox",
         "type": "scattermapbox"
        }
       ],
       "frames": [
        {
         "data": [
          {
           "hovertemplate": "<b>%{hovertext}</b><br><br>type=path_no_obstacle<br>timestep=0.0<br>size=%{marker.size}<br>lat=%{lat}<br>lon=%{lon}<extra></extra>",
           "hovertext": [
            "path_no_obstacle"
           ],
           "lat": [
            38.5
           ],
           "legendgroup": "path_no_obstacle",
           "lon": [
            -174
           ],
           "marker": {
            "color": "#636efa",
            "size": [
             5
            ],
            "sizemode": "area",
            "sizeref": 0.025
           },
           "mode": "markers",
           "name": "path_no_obstacle",
           "showlegend": true,
           "subplot": "mapbox",
           "type": "scattermapbox"
          },
          {
           "hovertemplate": "<b>%{hovertext}</b><br><br>type=path_with_obstacle<br>timestep=0.0<br>size=%{marker.size}<br>lat=%{lat}<br>lon=%{lon}<extra></extra>",
           "hovertext": [
            "path_with_obstacle"
           ],
           "lat": [
            38.5
           ],
           "legendgroup": "path_with_obstacle",
           "lon": [
            -174
           ],
           "marker": {
            "color": "#EF553B",
            "size": [
             5
            ],
            "sizemode": "area",
            "sizeref": 0.025
           },
           "mode": "markers",
           "name": "path_with_obstacle",
           "showlegend": true,
           "subplot": "mapbox",
           "type": "scattermapbox"
          }
         ],
         "name": "0.0"
        },
        {
         "data": [
          {
           "hovertemplate": "<b>%{hovertext}</b><br><br>type=path_no_obstacle<br>timestep=200.0<br>size=%{marker.size}<br>lat=%{lat}<br>lon=%{lon}<extra></extra>",
           "hovertext": [
            "path_no_obstacle"
           ],
           "lat": [
            38.5
           ],
           "legendgroup": "path_no_obstacle",
           "lon": [
            -176.29885057471265
           ],
           "marker": {
            "color": "#636efa",
            "size": [
             5
            ],
            "sizemode": "area",
            "sizeref": 0.025
           },
           "mode": "markers",
           "name": "path_no_obstacle",
           "showlegend": true,
           "subplot": "mapbox",
           "type": "scattermapbox"
          },
          {
           "hovertemplate": "<b>%{hovertext}</b><br><br>type=path_with_obstacle<br>timestep=200.0<br>size=%{marker.size}<br>lat=%{lat}<br>lon=%{lon}<extra></extra>",
           "hovertext": [
            "path_with_obstacle"
           ],
           "lat": [
            38.5
           ],
           "legendgroup": "path_with_obstacle",
           "lon": [
            -176.29885057471265
           ],
           "marker": {
            "color": "#EF553B",
            "size": [
             5
            ],
            "sizemode": "area",
            "sizeref": 0.025
           },
           "mode": "markers",
           "name": "path_with_obstacle",
           "showlegend": true,
           "subplot": "mapbox",
           "type": "scattermapbox"
          }
         ],
         "name": "200.0"
        },
        {
         "data": [
          {
           "hovertemplate": "<b>%{hovertext}</b><br><br>type=path_no_obstacle<br>timestep=400.0<br>size=%{marker.size}<br>lat=%{lat}<br>lon=%{lon}<extra></extra>",
           "hovertext": [
            "path_no_obstacle"
           ],
           "lat": [
            38.5
           ],
           "legendgroup": "path_no_obstacle",
           "lon": [
            -178.5977011494253
           ],
           "marker": {
            "color": "#636efa",
            "size": [
             5
            ],
            "sizemode": "area",
            "sizeref": 0.025
           },
           "mode": "markers",
           "name": "path_no_obstacle",
           "showlegend": true,
           "subplot": "mapbox",
           "type": "scattermapbox"
          },
          {
           "hovertemplate": "<b>%{hovertext}</b><br><br>type=path_with_obstacle<br>timestep=400.0<br>size=%{marker.size}<br>lat=%{lat}<br>lon=%{lon}<extra></extra>",
           "hovertext": [
            "path_with_obstacle"
           ],
           "lat": [
            38.5
           ],
           "legendgroup": "path_with_obstacle",
           "lon": [
            -178.5977011494253
           ],
           "marker": {
            "color": "#EF553B",
            "size": [
             5
            ],
            "sizemode": "area",
            "sizeref": 0.025
           },
           "mode": "markers",
           "name": "path_with_obstacle",
           "showlegend": true,
           "subplot": "mapbox",
           "type": "scattermapbox"
          }
         ],
         "name": "400.0"
        },
        {
         "data": [
          {
           "hovertemplate": "<b>%{hovertext}</b><br><br>type=path_no_obstacle<br>timestep=600.0<br>size=%{marker.size}<br>lat=%{lat}<br>lon=%{lon}<extra></extra>",
           "hovertext": [
            "path_no_obstacle"
           ],
           "lat": [
            38.5
           ],
           "legendgroup": "path_no_obstacle",
           "lon": [
            179.10344827586206
           ],
           "marker": {
            "color": "#636efa",
            "size": [
             5
            ],
            "sizemode": "area",
            "sizeref": 0.025
           },
           "mode": "markers",
           "name": "path_no_obstacle",
           "showlegend": true,
           "subplot": "mapbox",
           "type": "scattermapbox"
          },
          {
           "hovertemplate": "<b>%{hovertext}</b><br><br>type=path_with_obstacle<br>timestep=600.0<br>size=%{marker.size}<br>lat=%{lat}<br>lon=%{lon}<extra></extra>",
           "hovertext": [
            "path_with_obstacle"
           ],
           "lat": [
            38.5
           ],
           "legendgroup": "path_with_obstacle",
           "lon": [
            179.10344827586206
           ],
           "marker": {
            "color": "#EF553B",
            "size": [
             5
            ],
            "sizemode": "area",
            "sizeref": 0.025
           },
           "mode": "markers",
           "name": "path_with_obstacle",
           "showlegend": true,
           "subplot": "mapbox",
           "type": "scattermapbox"
          }
         ],
         "name": "600.0"
        },
        {
         "data": [
          {
           "hovertemplate": "<b>%{hovertext}</b><br><br>type=path_no_obstacle<br>timestep=800.0<br>size=%{marker.size}<br>lat=%{lat}<br>lon=%{lon}<extra></extra>",
           "hovertext": [
            "path_no_obstacle"
           ],
           "lat": [
            38.5
           ],
           "legendgroup": "path_no_obstacle",
           "lon": [
            176.80459770114942
           ],
           "marker": {
            "color": "#636efa",
            "size": [
             5
            ],
            "sizemode": "area",
            "sizeref": 0.025
           },
           "mode": "markers",
           "name": "path_no_obstacle",
           "showlegend": true,
           "subplot": "mapbox",
           "type": "scattermapbox"
          },
          {
           "hovertemplate": "<b>%{hovertext}</b><br><br>type=path_with_obstacle<br>timestep=800.0<br>size=%{marker.size}<br>lat=%{lat}<br>lon=%{lon}<extra></extra>",
           "hovertext": [
            "path_with_obstacle"
           ],
           "lat": [
            38.5
           ],
           "legendgroup": "path_with_obstacle",
           "lon": [
            176.80459770114942
           ],
           "marker": {
            "color": "#EF553B",
            "size": [
             5
            ],
            "sizemode": "area",
            "sizeref": 0.025
           },
           "mode": "markers",
           "name": "path_with_obstacle",
           "showlegend": true,
           "subplot": "mapbox",
           "type": "scattermapbox"
          }
         ],
         "name": "800.0"
        },
        {
         "data": [
          {
           "hovertemplate": "<b>%{hovertext}</b><br><br>type=path_no_obstacle<br>timestep=1000.0<br>size=%{marker.size}<br>lat=%{lat}<br>lon=%{lon}<extra></extra>",
           "hovertext": [
            "path_no_obstacle"
           ],
           "lat": [
            38.5
           ],
           "legendgroup": "path_no_obstacle",
           "lon": [
            174.50574712643677
           ],
           "marker": {
            "color": "#636efa",
            "size": [
             5
            ],
            "sizemode": "area",
            "sizeref": 0.025
           },
           "mode": "markers",
           "name": "path_no_obstacle",
           "showlegend": true,
           "subplot": "mapbox",
           "type": "scattermapbox"
          },
          {
           "hovertemplate": "<b>%{hovertext}</b><br><br>type=path_with_obstacle<br>timestep=1000.0<br>size=%{marker.size}<br>lat=%{lat}<br>lon=%{lon}<extra></extra>",
           "hovertext": [
            "path_with_obstacle"
           ],
           "lat": [
            38.5
           ],
           "legendgroup": "path_with_obstacle",
           "lon": [
            174.50574712643677
           ],
           "marker": {
            "color": "#EF553B",
            "size": [
             5
            ],
            "sizemode": "area",
            "sizeref": 0.025
           },
           "mode": "markers",
           "name": "path_with_obstacle",
           "showlegend": true,
           "subplot": "mapbox",
           "type": "scattermapbox"
          }
         ],
         "name": "1000.0"
        },
        {
         "data": [
          {
           "hovertemplate": "<b>%{hovertext}</b><br><br>type=path_no_obstacle<br>timestep=1200.0<br>size=%{marker.size}<br>lat=%{lat}<br>lon=%{lon}<extra></extra>",
           "hovertext": [
            "path_no_obstacle"
           ],
           "lat": [
            37.397526501766784
           ],
           "legendgroup": "path_no_obstacle",
           "lon": [
            172.89752650176678
           ],
           "marker": {
            "color": "#636efa",
            "size": [
             5
            ],
            "sizemode": "area",
            "sizeref": 0.025
           },
           "mode": "markers",
           "name": "path_no_obstacle",
           "showlegend": true,
           "subplot": "mapbox",
           "type": "scattermapbox"
          },
          {
           "hovertemplate": "<b>%{hovertext}</b><br><br>type=path_with_obstacle<br>timestep=1200.0<br>size=%{marker.size}<br>lat=%{lat}<br>lon=%{lon}<extra></extra>",
           "hovertext": [
            "path_with_obstacle"
           ],
           "lat": [
            38.5
           ],
           "legendgroup": "path_with_obstacle",
           "lon": [
            172.20689655172413
           ],
           "marker": {
            "color": "#EF553B",
            "size": [
             5
            ],
            "sizemode": "area",
            "sizeref": 0.025
           },
           "mode": "markers",
           "name": "path_with_obstacle",
           "showlegend": true,
           "subplot": "mapbox",
           "type": "scattermapbox"
          }
         ],
         "name": "1200.0"
        },
        {
         "data": [
          {
           "hovertemplate": "<b>%{hovertext}</b><br><br>type=path_no_obstacle<br>timestep=1400.0<br>size=%{marker.size}<br>lat=%{lat}<br>lon=%{lon}<extra></extra>",
           "hovertext": [
            "path_no_obstacle"
           ],
           "lat": [
            35.98951048951049
           ],
           "legendgroup": "path_no_obstacle",
           "lon": [
            171.48951048951048
           ],
           "marker": {
            "color": "#636efa",
            "size": [
             5
            ],
            "sizemode": "area",
            "sizeref": 0.025
           },
           "mode": "markers",
           "name": "path_no_obstacle",
           "showlegend": true,
           "subplot": "mapbox",
           "type": "scattermapbox"
          },
          {
           "hovertemplate": "<b>%{hovertext}</b><br><br>type=path_with_obstacle<br>timestep=1400.0<br>size=%{marker.size}<br>lat=%{lat}<br>lon=%{lon}<extra></extra>",
           "hovertext": [
            "path_with_obstacle"
           ],
           "lat": [
            38.5
           ],
           "legendgroup": "path_with_obstacle",
           "lon": [
            169.90804597701148
           ],
           "marker": {
            "color": "#EF553B",
            "size": [
             5
            ],
            "sizemode": "area",
            "sizeref": 0.025
           },
           "mode": "markers",
           "name": "path_with_obstacle",
           "showlegend": true,
           "subplot": "mapbox",
           "type": "scattermapbox"
          }
         ],
         "name": "1400.0"
        },
        {
         "data": [
          {
           "hovertemplate": "<b>%{hovertext}</b><br><br>type=path_no_obstacle<br>timestep=1600.0<br>size=%{marker.size}<br>lat=%{lat}<br>lon=%{lon}<extra></extra>",
           "hovertext": [
            "path_no_obstacle"
           ],
           "lat": [
            34.59090909090909
           ],
           "legendgroup": "path_no_obstacle",
           "lon": [
            170.0909090909091
           ],
           "marker": {
            "color": "#636efa",
            "size": [
             5
            ],
            "sizemode": "area",
            "sizeref": 0.025
           },
           "mode": "markers",
           "name": "path_no_obstacle",
           "showlegend": true,
           "subplot": "mapbox",
           "type": "scattermapbox"
          },
          {
           "hovertemplate": "<b>%{hovertext}</b><br><br>type=path_with_obstacle<br>timestep=1600.0<br>size=%{marker.size}<br>lat=%{lat}<br>lon=%{lon}<extra></extra>",
           "hovertext": [
            "path_with_obstacle"
           ],
           "lat": [
            38.5
           ],
           "legendgroup": "path_with_obstacle",
           "lon": [
            167.60919540229884
           ],
           "marker": {
            "color": "#EF553B",
            "size": [
             5
            ],
            "sizemode": "area",
            "sizeref": 0.025
           },
           "mode": "markers",
           "name": "path_with_obstacle",
           "showlegend": true,
           "subplot": "mapbox",
           "type": "scattermapbox"
          }
         ],
         "name": "1600.0"
        },
        {
         "data": [
          {
           "hovertemplate": "<b>%{hovertext}</b><br><br>type=path_no_obstacle<br>timestep=1800.0<br>size=%{marker.size}<br>lat=%{lat}<br>lon=%{lon}<extra></extra>",
           "hovertext": [
            "path_no_obstacle"
           ],
           "lat": [
            33.205882352941174
           ],
           "legendgroup": "path_no_obstacle",
           "lon": [
            168.7058823529412
           ],
           "marker": {
            "color": "#636efa",
            "size": [
             5
            ],
            "sizemode": "area",
            "sizeref": 0.025
           },
           "mode": "markers",
           "name": "path_no_obstacle",
           "showlegend": true,
           "subplot": "mapbox",
           "type": "scattermapbox"
          },
          {
           "hovertemplate": "<b>%{hovertext}</b><br><br>type=path_with_obstacle<br>timestep=1800.0<br>size=%{marker.size}<br>lat=%{lat}<br>lon=%{lon}<extra></extra>",
           "hovertext": [
            "path_with_obstacle"
           ],
           "lat": [
            38.5
           ],
           "legendgroup": "path_with_obstacle",
           "lon": [
            165.31034482758622
           ],
           "marker": {
            "color": "#EF553B",
            "size": [
             5
            ],
            "sizemode": "area",
            "sizeref": 0.025
           },
           "mode": "markers",
           "name": "path_with_obstacle",
           "showlegend": true,
           "subplot": "mapbox",
           "type": "scattermapbox"
          }
         ],
         "name": "1800.0"
        },
        {
         "data": [
          {
           "hovertemplate": "<b>%{hovertext}</b><br><br>type=path_no_obstacle<br>timestep=2000.0<br>size=%{marker.size}<br>lat=%{lat}<br>lon=%{lon}<extra></extra>",
           "hovertext": [
            "path_no_obstacle"
           ],
           "lat": [
            31.82876712328768
           ],
           "legendgroup": "path_no_obstacle",
           "lon": [
            167.32876712328766
           ],
           "marker": {
            "color": "#636efa",
            "size": [
             5
            ],
            "sizemode": "area",
            "sizeref": 0.025
           },
           "mode": "markers",
           "name": "path_no_obstacle",
           "showlegend": true,
           "subplot": "mapbox",
           "type": "scattermapbox"
          },
          {
           "hovertemplate": "<b>%{hovertext}</b><br><br>type=path_with_obstacle<br>timestep=2000.0<br>size=%{marker.size}<br>lat=%{lat}<br>lon=%{lon}<extra></extra>",
           "hovertext": [
            "path_with_obstacle"
           ],
           "lat": [
            38.5
           ],
           "legendgroup": "path_with_obstacle",
           "lon": [
            163.01149425287358
           ],
           "marker": {
            "color": "#EF553B",
            "size": [
             5
            ],
            "sizemode": "area",
            "sizeref": 0.025
           },
           "mode": "markers",
           "name": "path_with_obstacle",
           "showlegend": true,
           "subplot": "mapbox",
           "type": "scattermapbox"
          }
         ],
         "name": "2000.0"
        },
        {
         "data": [
          {
           "hovertemplate": "<b>%{hovertext}</b><br><br>type=path_no_obstacle<br>timestep=2200.0<br>size=%{marker.size}<br>lat=%{lat}<br>lon=%{lon}<extra></extra>",
           "hovertext": [
            "path_no_obstacle"
           ],
           "lat": [
            30.459183673469383
           ],
           "legendgroup": "path_no_obstacle",
           "lon": [
            165.9591836734694
           ],
           "marker": {
            "color": "#636efa",
            "size": [
             5
            ],
            "sizemode": "area",
            "sizeref": 0.025
           },
           "mode": "markers",
           "name": "path_no_obstacle",
           "showlegend": true,
           "subplot": "mapbox",
           "type": "scattermapbox"
          },
          {
           "hovertemplate": "<b>%{hovertext}</b><br><br>type=path_with_obstacle<br>timestep=2200.0<br>size=%{marker.size}<br>lat=%{lat}<br>lon=%{lon}<extra></extra>",
           "hovertext": [
            "path_with_obstacle"
           ],
           "lat": [
            38.5
           ],
           "legendgroup": "path_with_obstacle",
           "lon": [
            160.71264367816093
           ],
           "marker": {
            "color": "#EF553B",
            "size": [
             5
            ],
            "sizemode": "area",
            "sizeref": 0.025
           },
           "mode": "markers",
           "name": "path_with_obstacle",
           "showlegend": true,
           "subplot": "mapbox",
           "type": "scattermapbox"
          }
         ],
         "name": "2200.0"
        },
        {
         "data": [
          {
           "hovertemplate": "<b>%{hovertext}</b><br><br>type=path_no_obstacle<br>timestep=2400.0<br>size=%{marker.size}<br>lat=%{lat}<br>lon=%{lon}<extra></extra>",
           "hovertext": [
            "path_no_obstacle"
           ],
           "lat": [
            29.098639455782312
           ],
           "legendgroup": "path_no_obstacle",
           "lon": [
            164.59863945578232
           ],
           "marker": {
            "color": "#636efa",
            "size": [
             5
            ],
            "sizemode": "area",
            "sizeref": 0.025
           },
           "mode": "markers",
           "name": "path_no_obstacle",
           "showlegend": true,
           "subplot": "mapbox",
           "type": "scattermapbox"
          },
          {
           "hovertemplate": "<b>%{hovertext}</b><br><br>type=path_with_obstacle<br>timestep=2400.0<br>size=%{marker.size}<br>lat=%{lat}<br>lon=%{lon}<extra></extra>",
           "hovertext": [
            "path_with_obstacle"
           ],
           "lat": [
            38.5
           ],
           "legendgroup": "path_with_obstacle",
           "lon": [
            158.41379310344828
           ],
           "marker": {
            "color": "#EF553B",
            "size": [
             5
            ],
            "sizemode": "area",
            "sizeref": 0.025
           },
           "mode": "markers",
           "name": "path_with_obstacle",
           "showlegend": true,
           "subplot": "mapbox",
           "type": "scattermapbox"
          }
         ],
         "name": "2400.0"
        },
        {
         "data": [
          {
           "hovertemplate": "<b>%{hovertext}</b><br><br>type=path_no_obstacle<br>timestep=2600.0<br>size=%{marker.size}<br>lat=%{lat}<br>lon=%{lon}<extra></extra>",
           "hovertext": [
            "path_no_obstacle"
           ],
           "lat": [
            27.74579124579125
           ],
           "legendgroup": "path_no_obstacle",
           "lon": [
            163.24579124579125
           ],
           "marker": {
            "color": "#636efa",
            "size": [
             5
            ],
            "sizemode": "area",
            "sizeref": 0.025
           },
           "mode": "markers",
           "name": "path_no_obstacle",
           "showlegend": true,
           "subplot": "mapbox",
           "type": "scattermapbox"
          },
          {
           "hovertemplate": "<b>%{hovertext}</b><br><br>type=path_with_obstacle<br>timestep=2600.0<br>size=%{marker.size}<br>lat=%{lat}<br>lon=%{lon}<extra></extra>",
           "hovertext": [
            "path_with_obstacle"
           ],
           "lat": [
            37.340989399293285
           ],
           "legendgroup": "path_with_obstacle",
           "lon": [
            156.84098939929328
           ],
           "marker": {
            "color": "#EF553B",
            "size": [
             5
            ],
            "sizemode": "area",
            "sizeref": 0.025
           },
           "mode": "markers",
           "name": "path_with_obstacle",
           "showlegend": true,
           "subplot": "mapbox",
           "type": "scattermapbox"
          }
         ],
         "name": "2600.0"
        },
        {
         "data": [
          {
           "hovertemplate": "<b>%{hovertext}</b><br><br>type=path_no_obstacle<br>timestep=2800.0<br>size=%{marker.size}<br>lat=%{lat}<br>lon=%{lon}<extra></extra>",
           "hovertext": [
            "path_no_obstacle"
           ],
           "lat": [
            26.399665551839465
           ],
           "legendgroup": "path_no_obstacle",
           "lon": [
            161.89966555183946
           ],
           "marker": {
            "color": "#636efa",
            "size": [
             5
            ],
            "sizemode": "area",
            "sizeref": 0.025
           },
           "mode": "markers",
           "name": "path_no_obstacle",
           "showlegend": true,
           "subplot": "mapbox",
           "type": "scattermapbox"
          },
          {
           "hovertemplate": "<b>%{hovertext}</b><br><br>type=path_with_obstacle<br>timestep=2800.0<br>size=%{marker.size}<br>lat=%{lat}<br>lon=%{lon}<extra></extra>",
           "hovertext": [
            "path_with_obstacle"
           ],
           "lat": [
            35.93356643356643
           ],
           "legendgroup": "path_with_obstacle",
           "lon": [
            155.43356643356643
           ],
           "marker": {
            "color": "#EF553B",
            "size": [
             5
            ],
            "sizemode": "area",
            "sizeref": 0.025
           },
           "mode": "markers",
           "name": "path_with_obstacle",
           "showlegend": true,
           "subplot": "mapbox",
           "type": "scattermapbox"
          },
          {
           "hovertemplate": "<b>%{hovertext}</b><br><br>type=obstacle<br>timestep=2800.0<br>size=%{marker.size}<br>lat=%{lat}<br>lon=%{lon}<extra></extra>",
           "hovertext": [
            "obstacle"
           ],
           "lat": [
            25
           ],
           "legendgroup": "obstacle",
           "lon": [
            160
           ],
           "marker": {
            "color": "#00cc96",
            "size": [
             10
            ],
            "sizemode": "area",
            "sizeref": 0.025
           },
           "mode": "markers",
           "name": "obstacle",
           "showlegend": true,
           "subplot": "mapbox",
           "type": "scattermapbox"
          }
         ],
         "name": "2800.0"
        },
        {
         "data": [
          {
           "hovertemplate": "<b>%{hovertext}</b><br><br>type=path_no_obstacle<br>timestep=3000.0<br>size=%{marker.size}<br>lat=%{lat}<br>lon=%{lon}<extra></extra>",
           "hovertext": [
            "path_no_obstacle"
           ],
           "lat": [
            25.061872909699
           ],
           "legendgroup": "path_no_obstacle",
           "lon": [
            160.561872909699
           ],
           "marker": {
            "color": "#636efa",
            "size": [
             5
            ],
            "sizemode": "area",
            "sizeref": 0.025
           },
           "mode": "markers",
           "name": "path_no_obstacle",
           "showlegend": true,
           "subplot": "mapbox",
           "type": "scattermapbox"
          },
          {
           "hovertemplate": "<b>%{hovertext}</b><br><br>type=path_with_obstacle<br>timestep=3000.0<br>size=%{marker.size}<br>lat=%{lat}<br>lon=%{lon}<extra></extra>",
           "hovertext": [
            "path_with_obstacle"
           ],
           "lat": [
            34.53496503496503
           ],
           "legendgroup": "path_with_obstacle",
           "lon": [
            154.03496503496504
           ],
           "marker": {
            "color": "#EF553B",
            "size": [
             5
            ],
            "sizemode": "area",
            "sizeref": 0.025
           },
           "mode": "markers",
           "name": "path_with_obstacle",
           "showlegend": true,
           "subplot": "mapbox",
           "type": "scattermapbox"
          },
          {
           "hovertemplate": "<b>%{hovertext}</b><br><br>type=obstacle<br>timestep=3000.0<br>size=%{marker.size}<br>lat=%{lat}<br>lon=%{lon}<extra></extra>",
           "hovertext": [
            "obstacle"
           ],
           "lat": [
            24.625
           ],
           "legendgroup": "obstacle",
           "lon": [
            160
           ],
           "marker": {
            "color": "#00cc96",
            "size": [
             10
            ],
            "sizemode": "area",
            "sizeref": 0.025
           },
           "mode": "markers",
           "name": "obstacle",
           "showlegend": true,
           "subplot": "mapbox",
           "type": "scattermapbox"
          }
         ],
         "name": "3000.0"
        },
        {
         "data": [
          {
           "hovertemplate": "<b>%{hovertext}</b><br><br>type=path_no_obstacle<br>timestep=3200.0<br>size=%{marker.size}<br>lat=%{lat}<br>lon=%{lon}<extra></extra>",
           "hovertext": [
            "path_no_obstacle"
           ],
           "lat": [
            23.729235880398672
           ],
           "legendgroup": "path_no_obstacle",
           "lon": [
            159.22923588039868
           ],
           "marker": {
            "color": "#636efa",
            "size": [
             5
            ],
            "sizemode": "area",
            "sizeref": 0.025
           },
           "mode": "markers",
           "name": "path_no_obstacle",
           "showlegend": true,
           "subplot": "mapbox",
           "type": "scattermapbox"
          },
          {
           "hovertemplate": "<b>%{hovertext}</b><br><br>type=path_with_obstacle<br>timestep=3200.0<br>size=%{marker.size}<br>lat=%{lat}<br>lon=%{lon}<extra></extra>",
           "hovertext": [
            "path_with_obstacle"
           ],
           "lat": [
            33.15051903114187
           ],
           "legendgroup": "path_with_obstacle",
           "lon": [
            152.65051903114187
           ],
           "marker": {
            "color": "#EF553B",
            "size": [
             5
            ],
            "sizemode": "area",
            "sizeref": 0.025
           },
           "mode": "markers",
           "name": "path_with_obstacle",
           "showlegend": true,
           "subplot": "mapbox",
           "type": "scattermapbox"
          },
          {
           "hovertemplate": "<b>%{hovertext}</b><br><br>type=obstacle<br>timestep=3200.0<br>size=%{marker.size}<br>lat=%{lat}<br>lon=%{lon}<extra></extra>",
           "hovertext": [
            "obstacle"
           ],
           "lat": [
            24.25
           ],
           "legendgroup": "obstacle",
           "lon": [
            160
           ],
           "marker": {
            "color": "#00cc96",
            "size": [
             10
            ],
            "sizemode": "area",
            "sizeref": 0.025
           },
           "mode": "markers",
           "name": "obstacle",
           "showlegend": true,
           "subplot": "mapbox",
           "type": "scattermapbox"
          }
         ],
         "name": "3200.0"
        },
        {
         "data": [
          {
           "hovertemplate": "<b>%{hovertext}</b><br><br>type=path_no_obstacle<br>timestep=3400.0<br>size=%{marker.size}<br>lat=%{lat}<br>lon=%{lon}<extra></extra>",
           "hovertext": [
            "path_no_obstacle"
           ],
           "lat": [
            22.400990099009903
           ],
           "legendgroup": "path_no_obstacle",
           "lon": [
            157.9009900990099
           ],
           "marker": {
            "color": "#636efa",
            "size": [
             5
            ],
            "sizemode": "area",
            "sizeref": 0.025
           },
           "mode": "markers",
           "name": "path_no_obstacle",
           "showlegend": true,
           "subplot": "mapbox",
           "type": "scattermapbox"
          },
          {
           "hovertemplate": "<b>%{hovertext}</b><br><br>type=path_with_obstacle<br>timestep=3400.0<br>size=%{marker.size}<br>lat=%{lat}<br>lon=%{lon}<extra></extra>",
           "hovertext": [
            "path_with_obstacle"
           ],
           "lat": [
            31.773972602739725
           ],
           "legendgroup": "path_with_obstacle",
           "lon": [
            151.27397260273972
           ],
           "marker": {
            "color": "#EF553B",
            "size": [
             5
            ],
            "sizemode": "area",
            "sizeref": 0.025
           },
           "mode": "markers",
           "name": "path_with_obstacle",
           "showlegend": true,
           "subplot": "mapbox",
           "type": "scattermapbox"
          },
          {
           "hovertemplate": "<b>%{hovertext}</b><br><br>type=obstacle<br>timestep=3400.0<br>size=%{marker.size}<br>lat=%{lat}<br>lon=%{lon}<extra></extra>",
           "hovertext": [
            "obstacle"
           ],
           "lat": [
            23.875
           ],
           "legendgroup": "obstacle",
           "lon": [
            160
           ],
           "marker": {
            "color": "#00cc96",
            "size": [
             10
            ],
            "sizemode": "area",
            "sizeref": 0.025
           },
           "mode": "markers",
           "name": "obstacle",
           "showlegend": true,
           "subplot": "mapbox",
           "type": "scattermapbox"
          }
         ],
         "name": "3400.0"
        },
        {
         "data": [
          {
           "hovertemplate": "<b>%{hovertext}</b><br><br>type=path_no_obstacle<br>timestep=3600.0<br>size=%{marker.size}<br>lat=%{lat}<br>lon=%{lon}<extra></extra>",
           "hovertext": [
            "path_no_obstacle"
           ],
           "lat": [
            21.08085808580858
           ],
           "legendgroup": "path_no_obstacle",
           "lon": [
            156.5808580858086
           ],
           "marker": {
            "color": "#636efa",
            "size": [
             5
            ],
            "sizemode": "area",
            "sizeref": 0.025
           },
           "mode": "markers",
           "name": "path_no_obstacle",
           "showlegend": true,
           "subplot": "mapbox",
           "type": "scattermapbox"
          },
          {
           "hovertemplate": "<b>%{hovertext}</b><br><br>type=path_with_obstacle<br>timestep=3600.0<br>size=%{marker.size}<br>lat=%{lat}<br>lon=%{lon}<extra></extra>",
           "hovertext": [
            "path_with_obstacle"
           ],
           "lat": [
            30.404761904761905
           ],
           "legendgroup": "path_with_obstacle",
           "lon": [
            149.9047619047619
           ],
           "marker": {
            "color": "#EF553B",
            "size": [
             5
            ],
            "sizemode": "area",
            "sizeref": 0.025
           },
           "mode": "markers",
           "name": "path_with_obstacle",
           "showlegend": true,
           "subplot": "mapbox",
           "type": "scattermapbox"
          },
          {
           "hovertemplate": "<b>%{hovertext}</b><br><br>type=obstacle<br>timestep=3600.0<br>size=%{marker.size}<br>lat=%{lat}<br>lon=%{lon}<extra></extra>",
           "hovertext": [
            "obstacle"
           ],
           "lat": [
            23.5
           ],
           "legendgroup": "obstacle",
           "lon": [
            160
           ],
           "marker": {
            "color": "#00cc96",
            "size": [
             10
            ],
            "sizemode": "area",
            "sizeref": 0.025
           },
           "mode": "markers",
           "name": "obstacle",
           "showlegend": true,
           "subplot": "mapbox",
           "type": "scattermapbox"
          }
         ],
         "name": "3600.0"
        },
        {
         "data": [
          {
           "hovertemplate": "<b>%{hovertext}</b><br><br>type=path_no_obstacle<br>timestep=3800.0<br>size=%{marker.size}<br>lat=%{lat}<br>lon=%{lon}<extra></extra>",
           "hovertext": [
            "path_no_obstacle"
           ],
           "lat": [
            19.7655737704918
           ],
           "legendgroup": "path_no_obstacle",
           "lon": [
            155.2655737704918
           ],
           "marker": {
            "color": "#636efa",
            "size": [
             5
            ],
            "sizemode": "area",
            "sizeref": 0.025
           },
           "mode": "markers",
           "name": "path_no_obstacle",
           "showlegend": true,
           "subplot": "mapbox",
           "type": "scattermapbox"
          },
          {
           "hovertemplate": "<b>%{hovertext}</b><br><br>type=path_with_obstacle<br>timestep=3800.0<br>size=%{marker.size}<br>lat=%{lat}<br>lon=%{lon}<extra></extra>",
           "hovertext": [
            "path_with_obstacle"
           ],
           "lat": [
            29.04421768707483
           ],
           "legendgroup": "path_with_obstacle",
           "lon": [
            148.54421768707482
           ],
           "marker": {
            "color": "#EF553B",
            "size": [
             5
            ],
            "sizemode": "area",
            "sizeref": 0.025
           },
           "mode": "markers",
           "name": "path_with_obstacle",
           "showlegend": true,
           "subplot": "mapbox",
           "type": "scattermapbox"
          },
          {
           "hovertemplate": "<b>%{hovertext}</b><br><br>type=obstacle<br>timestep=3800.0<br>size=%{marker.size}<br>lat=%{lat}<br>lon=%{lon}<extra></extra>",
           "hovertext": [
            "obstacle"
           ],
           "lat": [
            23.125
           ],
           "legendgroup": "obstacle",
           "lon": [
            160
           ],
           "marker": {
            "color": "#00cc96",
            "size": [
             10
            ],
            "sizemode": "area",
            "sizeref": 0.025
           },
           "mode": "markers",
           "name": "obstacle",
           "showlegend": true,
           "subplot": "mapbox",
           "type": "scattermapbox"
          }
         ],
         "name": "3800.0"
        },
        {
         "data": [
          {
           "hovertemplate": "<b>%{hovertext}</b><br><br>type=path_no_obstacle<br>timestep=4000.0<br>size=%{marker.size}<br>lat=%{lat}<br>lon=%{lon}<extra></extra>",
           "hovertext": [
            "path_no_obstacle"
           ],
           "lat": [
            18.45439739413681
           ],
           "legendgroup": "path_no_obstacle",
           "lon": [
            153.9543973941368
           ],
           "marker": {
            "color": "#636efa",
            "size": [
             5
            ],
            "sizemode": "area",
            "sizeref": 0.025
           },
           "mode": "markers",
           "name": "path_no_obstacle",
           "showlegend": true,
           "subplot": "mapbox",
           "type": "scattermapbox"
          },
          {
           "hovertemplate": "<b>%{hovertext}</b><br><br>type=path_with_obstacle<br>timestep=4000.0<br>size=%{marker.size}<br>lat=%{lat}<br>lon=%{lon}<extra></extra>",
           "hovertext": [
            "path_with_obstacle"
           ],
           "lat": [
            27.69191919191919
           ],
           "legendgroup": "path_with_obstacle",
           "lon": [
            147.1919191919192
           ],
           "marker": {
            "color": "#EF553B",
            "size": [
             5
            ],
            "sizemode": "area",
            "sizeref": 0.025
           },
           "mode": "markers",
           "name": "path_with_obstacle",
           "showlegend": true,
           "subplot": "mapbox",
           "type": "scattermapbox"
          },
          {
           "hovertemplate": "<b>%{hovertext}</b><br><br>type=obstacle<br>timestep=4000.0<br>size=%{marker.size}<br>lat=%{lat}<br>lon=%{lon}<extra></extra>",
           "hovertext": [
            "obstacle"
           ],
           "lat": [
            22.75
           ],
           "legendgroup": "obstacle",
           "lon": [
            160
           ],
           "marker": {
            "color": "#00cc96",
            "size": [
             10
            ],
            "sizemode": "area",
            "sizeref": 0.025
           },
           "mode": "markers",
           "name": "obstacle",
           "showlegend": true,
           "subplot": "mapbox",
           "type": "scattermapbox"
          }
         ],
         "name": "4000.0"
        },
        {
         "data": [
          {
           "hovertemplate": "<b>%{hovertext}</b><br><br>type=path_no_obstacle<br>timestep=4200.0<br>size=%{marker.size}<br>lat=%{lat}<br>lon=%{lon}<extra></extra>",
           "hovertext": [
            "path_no_obstacle"
           ],
           "lat": [
            17.151465798045603
           ],
           "legendgroup": "path_no_obstacle",
           "lon": [
            152.6514657980456
           ],
           "marker": {
            "color": "#636efa",
            "size": [
             5
            ],
            "sizemode": "area",
            "sizeref": 0.025
           },
           "mode": "markers",
           "name": "path_no_obstacle",
           "showlegend": true,
           "subplot": "mapbox",
           "type": "scattermapbox"
          },
          {
           "hovertemplate": "<b>%{hovertext}</b><br><br>type=path_with_obstacle<br>timestep=4200.0<br>size=%{marker.size}<br>lat=%{lat}<br>lon=%{lon}<extra></extra>",
           "hovertext": [
            "path_with_obstacle"
           ],
           "lat": [
            26.346153846153847
           ],
           "legendgroup": "path_with_obstacle",
           "lon": [
            145.84615384615384
           ],
           "marker": {
            "color": "#EF553B",
            "size": [
             5
            ],
            "sizemode": "area",
            "sizeref": 0.025
           },
           "mode": "markers",
           "name": "path_with_obstacle",
           "showlegend": true,
           "subplot": "mapbox",
           "type": "scattermapbox"
          },
          {
           "hovertemplate": "<b>%{hovertext}</b><br><br>type=obstacle<br>timestep=4200.0<br>size=%{marker.size}<br>lat=%{lat}<br>lon=%{lon}<extra></extra>",
           "hovertext": [
            "obstacle"
           ],
           "lat": [
            22.375
           ],
           "legendgroup": "obstacle",
           "lon": [
            160
           ],
           "marker": {
            "color": "#00cc96",
            "size": [
             10
            ],
            "sizemode": "area",
            "sizeref": 0.025
           },
           "mode": "markers",
           "name": "obstacle",
           "showlegend": true,
           "subplot": "mapbox",
           "type": "scattermapbox"
          }
         ],
         "name": "4200.0"
        },
        {
         "data": [
          {
           "hovertemplate": "<b>%{hovertext}</b><br><br>type=path_no_obstacle<br>timestep=4400.0<br>size=%{marker.size}<br>lat=%{lat}<br>lon=%{lon}<extra></extra>",
           "hovertext": [
            "path_no_obstacle"
           ],
           "lat": [
            15.85064935064935
           ],
           "legendgroup": "path_no_obstacle",
           "lon": [
            151.35064935064935
           ],
           "marker": {
            "color": "#636efa",
            "size": [
             5
            ],
            "sizemode": "area",
            "sizeref": 0.025
           },
           "mode": "markers",
           "name": "path_no_obstacle",
           "showlegend": true,
           "subplot": "mapbox",
           "type": "scattermapbox"
          },
          {
           "hovertemplate": "<b>%{hovertext}</b><br><br>type=path_with_obstacle<br>timestep=4400.0<br>size=%{marker.size}<br>lat=%{lat}<br>lon=%{lon}<extra></extra>",
           "hovertext": [
            "path_with_obstacle"
           ],
           "lat": [
            25.00836120401338
           ],
           "legendgroup": "path_with_obstacle",
           "lon": [
            144.50836120401337
           ],
           "marker": {
            "color": "#EF553B",
            "size": [
             5
            ],
            "sizemode": "area",
            "sizeref": 0.025
           },
           "mode": "markers",
           "name": "path_with_obstacle",
           "showlegend": true,
           "subplot": "mapbox",
           "type": "scattermapbox"
          },
          {
           "hovertemplate": "<b>%{hovertext}</b><br><br>type=obstacle<br>timestep=4400.0<br>size=%{marker.size}<br>lat=%{lat}<br>lon=%{lon}<extra></extra>",
           "hovertext": [
            "obstacle"
           ],
           "lat": [
            22
           ],
           "legendgroup": "obstacle",
           "lon": [
            160
           ],
           "marker": {
            "color": "#00cc96",
            "size": [
             10
            ],
            "sizemode": "area",
            "sizeref": 0.025
           },
           "mode": "markers",
           "name": "obstacle",
           "showlegend": true,
           "subplot": "mapbox",
           "type": "scattermapbox"
          }
         ],
         "name": "4400.0"
        },
        {
         "data": [
          {
           "hovertemplate": "<b>%{hovertext}</b><br><br>type=path_no_obstacle<br>timestep=4600.0<br>size=%{marker.size}<br>lat=%{lat}<br>lon=%{lon}<extra></extra>",
           "hovertext": [
            "path_no_obstacle"
           ],
           "lat": [
            14.551948051948052
           ],
           "legendgroup": "path_no_obstacle",
           "lon": [
            150.05194805194805
           ],
           "marker": {
            "color": "#636efa",
            "size": [
             5
            ],
            "sizemode": "area",
            "sizeref": 0.025
           },
           "mode": "markers",
           "name": "path_no_obstacle",
           "showlegend": true,
           "subplot": "mapbox",
           "type": "scattermapbox"
          },
          {
           "hovertemplate": "<b>%{hovertext}</b><br><br>type=path_with_obstacle<br>timestep=4600.0<br>size=%{marker.size}<br>lat=%{lat}<br>lon=%{lon}<extra></extra>",
           "hovertext": [
            "path_with_obstacle"
           ],
           "lat": [
            23.676079734219268
           ],
           "legendgroup": "path_with_obstacle",
           "lon": [
            143.17607973421926
           ],
           "marker": {
            "color": "#EF553B",
            "size": [
             5
            ],
            "sizemode": "area",
            "sizeref": 0.025
           },
           "mode": "markers",
           "name": "path_with_obstacle",
           "showlegend": true,
           "subplot": "mapbox",
           "type": "scattermapbox"
          }
         ],
         "name": "4600.0"
        },
        {
         "data": [
          {
           "hovertemplate": "<b>%{hovertext}</b><br><br>type=path_no_obstacle<br>timestep=4800.0<br>size=%{marker.size}<br>lat=%{lat}<br>lon=%{lon}<extra></extra>",
           "hovertext": [
            "path_no_obstacle"
           ],
           "lat": [
            13.261290322580646
           ],
           "legendgroup": "path_no_obstacle",
           "lon": [
            148.76129032258063
           ],
           "marker": {
            "color": "#636efa",
            "size": [
             5
            ],
            "sizemode": "area",
            "sizeref": 0.025
           },
           "mode": "markers",
           "name": "path_no_obstacle",
           "showlegend": true,
           "subplot": "mapbox",
           "type": "scattermapbox"
          },
          {
           "hovertemplate": "<b>%{hovertext}</b><br><br>type=path_with_obstacle<br>timestep=4800.0<br>size=%{marker.size}<br>lat=%{lat}<br>lon=%{lon}<extra></extra>",
           "hovertext": [
            "path_with_obstacle"
           ],
           "lat": [
            22.348184818481847
           ],
           "legendgroup": "path_with_obstacle",
           "lon": [
            141.84818481848183
           ],
           "marker": {
            "color": "#EF553B",
            "size": [
             5
            ],
            "sizemode": "area",
            "sizeref": 0.025
           },
           "mode": "markers",
           "name": "path_with_obstacle",
           "showlegend": true,
           "subplot": "mapbox",
           "type": "scattermapbox"
          }
         ],
         "name": "4800.0"
        },
        {
         "data": [
          {
           "hovertemplate": "<b>%{hovertext}</b><br><br>type=path_no_obstacle<br>timestep=5000.0<br>size=%{marker.size}<br>lat=%{lat}<br>lon=%{lon}<extra></extra>",
           "hovertext": [
            "path_no_obstacle"
           ],
           "lat": [
            11.97266881028939
           ],
           "legendgroup": "path_no_obstacle",
           "lon": [
            147.47266881028938
           ],
           "marker": {
            "color": "#636efa",
            "size": [
             5
            ],
            "sizemode": "area",
            "sizeref": 0.025
           },
           "mode": "markers",
           "name": "path_no_obstacle",
           "showlegend": true,
           "subplot": "mapbox",
           "type": "scattermapbox"
          },
          {
           "hovertemplate": "<b>%{hovertext}</b><br><br>type=path_with_obstacle<br>timestep=5000.0<br>size=%{marker.size}<br>lat=%{lat}<br>lon=%{lon}<extra></extra>",
           "hovertext": [
            "path_with_obstacle"
           ],
           "lat": [
            21.028052805280527
           ],
           "legendgroup": "path_with_obstacle",
           "lon": [
            140.52805280528054
           ],
           "marker": {
            "color": "#EF553B",
            "size": [
             5
            ],
            "sizemode": "area",
            "sizeref": 0.025
           },
           "mode": "markers",
           "name": "path_with_obstacle",
           "showlegend": true,
           "subplot": "mapbox",
           "type": "scattermapbox"
          }
         ],
         "name": "5000.0"
        },
        {
         "data": [
          {
           "hovertemplate": "<b>%{hovertext}</b><br><br>type=path_no_obstacle<br>timestep=5200.0<br>size=%{marker.size}<br>lat=%{lat}<br>lon=%{lon}<extra></extra>",
           "hovertext": [
            "path_no_obstacle"
           ],
           "lat": [
            10.686495176848874
           ],
           "legendgroup": "path_no_obstacle",
           "lon": [
            146.1864951768489
           ],
           "marker": {
            "color": "#636efa",
            "size": [
             5
            ],
            "sizemode": "area",
            "sizeref": 0.025
           },
           "mode": "markers",
           "name": "path_no_obstacle",
           "showlegend": true,
           "subplot": "mapbox",
           "type": "scattermapbox"
          },
          {
           "hovertemplate": "<b>%{hovertext}</b><br><br>type=path_with_obstacle<br>timestep=5200.0<br>size=%{marker.size}<br>lat=%{lat}<br>lon=%{lon}<extra></extra>",
           "hovertext": [
            "path_with_obstacle"
           ],
           "lat": [
            19.71311475409836
           ],
           "legendgroup": "path_with_obstacle",
           "lon": [
            139.21311475409837
           ],
           "marker": {
            "color": "#EF553B",
            "size": [
             5
            ],
            "sizemode": "area",
            "sizeref": 0.025
           },
           "mode": "markers",
           "name": "path_with_obstacle",
           "showlegend": true,
           "subplot": "mapbox",
           "type": "scattermapbox"
          }
         ],
         "name": "5200.0"
        },
        {
         "data": [
          {
           "hovertemplate": "<b>%{hovertext}</b><br><br>type=path_no_obstacle<br>timestep=5400.0<br>size=%{marker.size}<br>lat=%{lat}<br>lon=%{lon}<extra></extra>",
           "hovertext": [
            "path_no_obstacle"
           ],
           "lat": [
            9.403846153846152
           ],
           "legendgroup": "path_no_obstacle",
           "lon": [
            144.90384615384616
           ],
           "marker": {
            "color": "#636efa",
            "size": [
             5
            ],
            "sizemode": "area",
            "sizeref": 0.025
           },
           "mode": "markers",
           "name": "path_no_obstacle",
           "showlegend": true,
           "subplot": "mapbox",
           "type": "scattermapbox"
          },
          {
           "hovertemplate": "<b>%{hovertext}</b><br><br>type=path_with_obstacle<br>timestep=5400.0<br>size=%{marker.size}<br>lat=%{lat}<br>lon=%{lon}<extra></extra>",
           "hovertext": [
            "path_with_obstacle"
           ],
           "lat": [
            18.40228013029316
           ],
           "legendgroup": "path_with_obstacle",
           "lon": [
            137.90228013029315
           ],
           "marker": {
            "color": "#EF553B",
            "size": [
             5
            ],
            "sizemode": "area",
            "sizeref": 0.025
           },
           "mode": "markers",
           "name": "path_with_obstacle",
           "showlegend": true,
           "subplot": "mapbox",
           "type": "scattermapbox"
          }
         ],
         "name": "5400.0"
        },
        {
         "data": [
          {
           "hovertemplate": "<b>%{hovertext}</b><br><br>type=path_no_obstacle<br>timestep=5600.0<br>size=%{marker.size}<br>lat=%{lat}<br>lon=%{lon}<extra></extra>",
           "hovertext": [
            "path_no_obstacle"
           ],
           "lat": [
            8.12300319488818
           ],
           "legendgroup": "path_no_obstacle",
           "lon": [
            143.62300319488818
           ],
           "marker": {
            "color": "#636efa",
            "size": [
             5
            ],
            "sizemode": "area",
            "sizeref": 0.025
           },
           "mode": "markers",
           "name": "path_no_obstacle",
           "showlegend": true,
           "subplot": "mapbox",
           "type": "scattermapbox"
          },
          {
           "hovertemplate": "<b>%{hovertext}</b><br><br>type=path_with_obstacle<br>timestep=5600.0<br>size=%{marker.size}<br>lat=%{lat}<br>lon=%{lon}<extra></extra>",
           "hovertext": [
            "path_with_obstacle"
           ],
           "lat": [
            17.099348534201955
           ],
           "legendgroup": "path_with_obstacle",
           "lon": [
            136.59934853420197
           ],
           "marker": {
            "color": "#EF553B",
            "size": [
             5
            ],
            "sizemode": "area",
            "sizeref": 0.025
           },
           "mode": "markers",
           "name": "path_with_obstacle",
           "showlegend": true,
           "subplot": "mapbox",
           "type": "scattermapbox"
          }
         ],
         "name": "5600.0"
        },
        {
         "data": [
          {
           "hovertemplate": "<b>%{hovertext}</b><br><br>type=path_no_obstacle<br>timestep=5800.0<br>size=%{marker.size}<br>lat=%{lat}<br>lon=%{lon}<extra></extra>",
           "hovertext": [
            "path_no_obstacle"
           ],
           "lat": [
            6.845047923322683
           ],
           "legendgroup": "path_no_obstacle",
           "lon": [
            142.34504792332268
           ],
           "marker": {
            "color": "#636efa",
            "size": [
             5
            ],
            "sizemode": "area",
            "sizeref": 0.025
           },
           "mode": "markers",
           "name": "path_no_obstacle",
           "showlegend": true,
           "subplot": "mapbox",
           "type": "scattermapbox"
          },
          {
           "hovertemplate": "<b>%{hovertext}</b><br><br>type=path_with_obstacle<br>timestep=5800.0<br>size=%{marker.size}<br>lat=%{lat}<br>lon=%{lon}<extra></extra>",
           "hovertext": [
            "path_with_obstacle"
           ],
           "lat": [
            15.7987012987013
           ],
           "legendgroup": "path_with_obstacle",
           "lon": [
            135.2987012987013
           ],
           "marker": {
            "color": "#EF553B",
            "size": [
             5
            ],
            "sizemode": "area",
            "sizeref": 0.025
           },
           "mode": "markers",
           "name": "path_with_obstacle",
           "showlegend": true,
           "subplot": "mapbox",
           "type": "scattermapbox"
          }
         ],
         "name": "5800.0"
        },
        {
         "data": [
          {
           "hovertemplate": "<b>%{hovertext}</b><br><br>type=path_no_obstacle<br>timestep=6000.0<br>size=%{marker.size}<br>lat=%{lat}<br>lon=%{lon}<extra></extra>",
           "hovertext": [
            "path_no_obstacle"
           ],
           "lat": [
            5.567092651757188
           ],
           "legendgroup": "path_no_obstacle",
           "lon": [
            141.06709265175718
           ],
           "marker": {
            "color": "#636efa",
            "size": [
             5
            ],
            "sizemode": "area",
            "sizeref": 0.025
           },
           "mode": "markers",
           "name": "path_no_obstacle",
           "showlegend": true,
           "subplot": "mapbox",
           "type": "scattermapbox"
          },
          {
           "hovertemplate": "<b>%{hovertext}</b><br><br>type=path_with_obstacle<br>timestep=6000.0<br>size=%{marker.size}<br>lat=%{lat}<br>lon=%{lon}<extra></extra>",
           "hovertext": [
            "path_with_obstacle"
           ],
           "lat": [
            14.5
           ],
           "legendgroup": "path_with_obstacle",
           "lon": [
            134
           ],
           "marker": {
            "color": "#EF553B",
            "size": [
             5
            ],
            "sizemode": "area",
            "sizeref": 0.025
           },
           "mode": "markers",
           "name": "path_with_obstacle",
           "showlegend": true,
           "subplot": "mapbox",
           "type": "scattermapbox"
          }
         ],
         "name": "6000.0"
        },
        {
         "data": [
          {
           "hovertemplate": "<b>%{hovertext}</b><br><br>type=path_no_obstacle<br>timestep=6200.0<br>size=%{marker.size}<br>lat=%{lat}<br>lon=%{lon}<extra></extra>",
           "hovertext": [
            "path_no_obstacle"
           ],
           "lat": [
            4.289808917197452
           ],
           "legendgroup": "path_no_obstacle",
           "lon": [
            139.78980891719746
           ],
           "marker": {
            "color": "#636efa",
            "size": [
             5
            ],
            "sizemode": "area",
            "sizeref": 0.025
           },
           "mode": "markers",
           "name": "path_no_obstacle",
           "showlegend": true,
           "subplot": "mapbox",
           "type": "scattermapbox"
          },
          {
           "hovertemplate": "<b>%{hovertext}</b><br><br>type=path_with_obstacle<br>timestep=6200.0<br>size=%{marker.size}<br>lat=%{lat}<br>lon=%{lon}<extra></extra>",
           "hovertext": [
            "path_with_obstacle"
           ],
           "lat": [
            13.209677419354838
           ],
           "legendgroup": "path_with_obstacle",
           "lon": [
            132.70967741935485
           ],
           "marker": {
            "color": "#EF553B",
            "size": [
             5
            ],
            "sizemode": "area",
            "sizeref": 0.025
           },
           "mode": "markers",
           "name": "path_with_obstacle",
           "showlegend": true,
           "subplot": "mapbox",
           "type": "scattermapbox"
          }
         ],
         "name": "6200.0"
        },
        {
         "data": [
          {
           "hovertemplate": "<b>%{hovertext}</b><br><br>type=path_no_obstacle<br>timestep=6400.0<br>size=%{marker.size}<br>lat=%{lat}<br>lon=%{lon}<extra></extra>",
           "hovertext": [
            "path_no_obstacle"
           ],
           "lat": [
            3.015923566878981
           ],
           "legendgroup": "path_no_obstacle",
           "lon": [
            138.51592356687897
           ],
           "marker": {
            "color": "#636efa",
            "size": [
             5
            ],
            "sizemode": "area",
            "sizeref": 0.025
           },
           "mode": "markers",
           "name": "path_no_obstacle",
           "showlegend": true,
           "subplot": "mapbox",
           "type": "scattermapbox"
          },
          {
           "hovertemplate": "<b>%{hovertext}</b><br><br>type=path_with_obstacle<br>timestep=6400.0<br>size=%{marker.size}<br>lat=%{lat}<br>lon=%{lon}<extra></extra>",
           "hovertext": [
            "path_with_obstacle"
           ],
           "lat": [
            11.921221864951768
           ],
           "legendgroup": "path_with_obstacle",
           "lon": [
            131.42122186495178
           ],
           "marker": {
            "color": "#EF553B",
            "size": [
             5
            ],
            "sizemode": "area",
            "sizeref": 0.025
           },
           "mode": "markers",
           "name": "path_with_obstacle",
           "showlegend": true,
           "subplot": "mapbox",
           "type": "scattermapbox"
          }
         ],
         "name": "6400.0"
        },
        {
         "data": [
          {
           "hovertemplate": "<b>%{hovertext}</b><br><br>type=path_no_obstacle<br>timestep=6600.0<br>size=%{marker.size}<br>lat=%{lat}<br>lon=%{lon}<extra></extra>",
           "hovertext": [
            "path_no_obstacle"
           ],
           "lat": [
            1.7420382165605095
           ],
           "legendgroup": "path_no_obstacle",
           "lon": [
            137.2420382165605
           ],
           "marker": {
            "color": "#636efa",
            "size": [
             5
            ],
            "sizemode": "area",
            "sizeref": 0.025
           },
           "mode": "markers",
           "name": "path_no_obstacle",
           "showlegend": true,
           "subplot": "mapbox",
           "type": "scattermapbox"
          },
          {
           "hovertemplate": "<b>%{hovertext}</b><br><br>type=path_with_obstacle<br>timestep=6600.0<br>size=%{marker.size}<br>lat=%{lat}<br>lon=%{lon}<extra></extra>",
           "hovertext": [
            "path_with_obstacle"
           ],
           "lat": [
            10.635048231511254
           ],
           "legendgroup": "path_with_obstacle",
           "lon": [
            130.13504823151126
           ],
           "marker": {
            "color": "#EF553B",
            "size": [
             5
            ],
            "sizemode": "area",
            "sizeref": 0.025
           },
           "mode": "markers",
           "name": "path_with_obstacle",
           "showlegend": true,
           "subplot": "mapbox",
           "type": "scattermapbox"
          }
         ],
         "name": "6600.0"
        },
        {
         "data": [
          {
           "hovertemplate": "<b>%{hovertext}</b><br><br>type=path_no_obstacle<br>timestep=6800.0<br>size=%{marker.size}<br>lat=%{lat}<br>lon=%{lon}<extra></extra>",
           "hovertext": [
            "path_no_obstacle"
           ],
           "lat": [
            0.4681528662420382
           ],
           "legendgroup": "path_no_obstacle",
           "lon": [
            135.96815286624204
           ],
           "marker": {
            "color": "#636efa",
            "size": [
             5
            ],
            "sizemode": "area",
            "sizeref": 0.025
           },
           "mode": "markers",
           "name": "path_no_obstacle",
           "showlegend": true,
           "subplot": "mapbox",
           "type": "scattermapbox"
          },
          {
           "hovertemplate": "<b>%{hovertext}</b><br><br>type=path_with_obstacle<br>timestep=6800.0<br>size=%{marker.size}<br>lat=%{lat}<br>lon=%{lon}<extra></extra>",
           "hovertext": [
            "path_with_obstacle"
           ],
           "lat": [
            9.352564102564102
           ],
           "legendgroup": "path_with_obstacle",
           "lon": [
            128.85256410256412
           ],
           "marker": {
            "color": "#EF553B",
            "size": [
             5
            ],
            "sizemode": "area",
            "sizeref": 0.025
           },
           "mode": "markers",
           "name": "path_with_obstacle",
           "showlegend": true,
           "subplot": "mapbox",
           "type": "scattermapbox"
          }
         ],
         "name": "6800.0"
        },
        {
         "data": [
          {
           "hovertemplate": "<b>%{hovertext}</b><br><br>type=path_no_obstacle<br>timestep=7000.0<br>size=%{marker.size}<br>lat=%{lat}<br>lon=%{lon}<extra></extra>",
           "hovertext": [
            "path_no_obstacle"
           ],
           "lat": [
            -0.8057324840764333
           ],
           "legendgroup": "path_no_obstacle",
           "lon": [
            134.69426751592357
           ],
           "marker": {
            "color": "#636efa",
            "size": [
             5
            ],
            "sizemode": "area",
            "sizeref": 0.025
           },
           "mode": "markers",
           "name": "path_no_obstacle",
           "showlegend": true,
           "subplot": "mapbox",
           "type": "scattermapbox"
          },
          {
           "hovertemplate": "<b>%{hovertext}</b><br><br>type=path_with_obstacle<br>timestep=7000.0<br>size=%{marker.size}<br>lat=%{lat}<br>lon=%{lon}<extra></extra>",
           "hovertext": [
            "path_with_obstacle"
           ],
           "lat": [
            8.071884984025559
           ],
           "legendgroup": "path_with_obstacle",
           "lon": [
            127.57188498402556
           ],
           "marker": {
            "color": "#EF553B",
            "size": [
             5
            ],
            "sizemode": "area",
            "sizeref": 0.025
           },
           "mode": "markers",
           "name": "path_with_obstacle",
           "showlegend": true,
           "subplot": "mapbox",
           "type": "scattermapbox"
          }
         ],
         "name": "7000.0"
        },
        {
         "data": [
          {
           "hovertemplate": "<b>%{hovertext}</b><br><br>type=path_no_obstacle<br>timestep=7200.0<br>size=%{marker.size}<br>lat=%{lat}<br>lon=%{lon}<extra></extra>",
           "hovertext": [
            "path_no_obstacle"
           ],
           "lat": [
            -2.079617834394905
           ],
           "legendgroup": "path_no_obstacle",
           "lon": [
            133.4203821656051
           ],
           "marker": {
            "color": "#636efa",
            "size": [
             5
            ],
            "sizemode": "area",
            "sizeref": 0.025
           },
           "mode": "markers",
           "name": "path_no_obstacle",
           "showlegend": true,
           "subplot": "mapbox",
           "type": "scattermapbox"
          },
          {
           "hovertemplate": "<b>%{hovertext}</b><br><br>type=path_with_obstacle<br>timestep=7200.0<br>size=%{marker.size}<br>lat=%{lat}<br>lon=%{lon}<extra></extra>",
           "hovertext": [
            "path_with_obstacle"
           ],
           "lat": [
            6.793929712460064
           ],
           "legendgroup": "path_with_obstacle",
           "lon": [
            126.29392971246008
           ],
           "marker": {
            "color": "#EF553B",
            "size": [
             5
            ],
            "sizemode": "area",
            "sizeref": 0.025
           },
           "mode": "markers",
           "name": "path_with_obstacle",
           "showlegend": true,
           "subplot": "mapbox",
           "type": "scattermapbox"
          }
         ],
         "name": "7200.0"
        },
        {
         "data": [
          {
           "hovertemplate": "<b>%{hovertext}</b><br><br>type=path_no_obstacle<br>timestep=7400.0<br>size=%{marker.size}<br>lat=%{lat}<br>lon=%{lon}<extra></extra>",
           "hovertext": [
            "path_no_obstacle"
           ],
           "lat": [
            -3.353503184713376
           ],
           "legendgroup": "path_no_obstacle",
           "lon": [
            132.1464968152866
           ],
           "marker": {
            "color": "#636efa",
            "size": [
             5
            ],
            "sizemode": "area",
            "sizeref": 0.025
           },
           "mode": "markers",
           "name": "path_no_obstacle",
           "showlegend": true,
           "subplot": "mapbox",
           "type": "scattermapbox"
          },
          {
           "hovertemplate": "<b>%{hovertext}</b><br><br>type=path_with_obstacle<br>timestep=7400.0<br>size=%{marker.size}<br>lat=%{lat}<br>lon=%{lon}<extra></extra>",
           "hovertext": [
            "path_with_obstacle"
           ],
           "lat": [
            5.515974440894569
           ],
           "legendgroup": "path_with_obstacle",
           "lon": [
            125.01597444089457
           ],
           "marker": {
            "color": "#EF553B",
            "size": [
             5
            ],
            "sizemode": "area",
            "sizeref": 0.025
           },
           "mode": "markers",
           "name": "path_with_obstacle",
           "showlegend": true,
           "subplot": "mapbox",
           "type": "scattermapbox"
          }
         ],
         "name": "7400.0"
        },
        {
         "data": [
          {
           "hovertemplate": "<b>%{hovertext}</b><br><br>type=path_no_obstacle<br>timestep=7600.0<br>size=%{marker.size}<br>lat=%{lat}<br>lon=%{lon}<extra></extra>",
           "hovertext": [
            "path_no_obstacle"
           ],
           "lat": [
            -4.627388535031847
           ],
           "legendgroup": "path_no_obstacle",
           "lon": [
            130.87261146496814
           ],
           "marker": {
            "color": "#636efa",
            "size": [
             5
            ],
            "sizemode": "area",
            "sizeref": 0.025
           },
           "mode": "markers",
           "name": "path_no_obstacle",
           "showlegend": true,
           "subplot": "mapbox",
           "type": "scattermapbox"
          },
          {
           "hovertemplate": "<b>%{hovertext}</b><br><br>type=path_with_obstacle<br>timestep=7600.0<br>size=%{marker.size}<br>lat=%{lat}<br>lon=%{lon}<extra></extra>",
           "hovertext": [
            "path_with_obstacle"
           ],
           "lat": [
            4.238853503184713
           ],
           "legendgroup": "path_with_obstacle",
           "lon": [
            123.73885350318471
           ],
           "marker": {
            "color": "#EF553B",
            "size": [
             5
            ],
            "sizemode": "area",
            "sizeref": 0.025
           },
           "mode": "markers",
           "name": "path_with_obstacle",
           "showlegend": true,
           "subplot": "mapbox",
           "type": "scattermapbox"
          }
         ],
         "name": "7600.0"
        },
        {
         "data": [
          {
           "hovertemplate": "<b>%{hovertext}</b><br><br>type=path_no_obstacle<br>timestep=7800.0<br>size=%{marker.size}<br>lat=%{lat}<br>lon=%{lon}<extra></extra>",
           "hovertext": [
            "path_no_obstacle"
           ],
           "lat": [
            -5.902555910543131
           ],
           "legendgroup": "path_no_obstacle",
           "lon": [
            129.59744408945687
           ],
           "marker": {
            "color": "#636efa",
            "size": [
             5
            ],
            "sizemode": "area",
            "sizeref": 0.025
           },
           "mode": "markers",
           "name": "path_no_obstacle",
           "showlegend": true,
           "subplot": "mapbox",
           "type": "scattermapbox"
          },
          {
           "hovertemplate": "<b>%{hovertext}</b><br><br>type=path_with_obstacle<br>timestep=7800.0<br>size=%{marker.size}<br>lat=%{lat}<br>lon=%{lon}<extra></extra>",
           "hovertext": [
            "path_with_obstacle"
           ],
           "lat": [
            2.964968152866242
           ],
           "legendgroup": "path_with_obstacle",
           "lon": [
            122.46496815286623
           ],
           "marker": {
            "color": "#EF553B",
            "size": [
             5
            ],
            "sizemode": "area",
            "sizeref": 0.025
           },
           "mode": "markers",
           "name": "path_with_obstacle",
           "showlegend": true,
           "subplot": "mapbox",
           "type": "scattermapbox"
          }
         ],
         "name": "7800.0"
        },
        {
         "data": [
          {
           "hovertemplate": "<b>%{hovertext}</b><br><br>type=path_no_obstacle<br>timestep=8000.0<br>size=%{marker.size}<br>lat=%{lat}<br>lon=%{lon}<extra></extra>",
           "hovertext": [
            "path_no_obstacle"
           ],
           "lat": [
            -7.180511182108626
           ],
           "legendgroup": "path_no_obstacle",
           "lon": [
            128.31948881789137
           ],
           "marker": {
            "color": "#636efa",
            "size": [
             5
            ],
            "sizemode": "area",
            "sizeref": 0.025
           },
           "mode": "markers",
           "name": "path_no_obstacle",
           "showlegend": true,
           "subplot": "mapbox",
           "type": "scattermapbox"
          },
          {
           "hovertemplate": "<b>%{hovertext}</b><br><br>type=path_with_obstacle<br>timestep=8000.0<br>size=%{marker.size}<br>lat=%{lat}<br>lon=%{lon}<extra></extra>",
           "hovertext": [
            "path_with_obstacle"
           ],
           "lat": [
            1.6910828025477709
           ],
           "legendgroup": "path_with_obstacle",
           "lon": [
            121.19108280254775
           ],
           "marker": {
            "color": "#EF553B",
            "size": [
             5
            ],
            "sizemode": "area",
            "sizeref": 0.025
           },
           "mode": "markers",
           "name": "path_with_obstacle",
           "showlegend": true,
           "subplot": "mapbox",
           "type": "scattermapbox"
          }
         ],
         "name": "8000.0"
        },
        {
         "data": [
          {
           "hovertemplate": "<b>%{hovertext}</b><br><br>type=path_no_obstacle<br>timestep=8200.0<br>size=%{marker.size}<br>lat=%{lat}<br>lon=%{lon}<extra></extra>",
           "hovertext": [
            "path_no_obstacle"
           ],
           "lat": [
            -8.461538461538462
           ],
           "legendgroup": "path_no_obstacle",
           "lon": [
            127.03846153846152
           ],
           "marker": {
            "color": "#636efa",
            "size": [
             5
            ],
            "sizemode": "area",
            "sizeref": 0.025
           },
           "mode": "markers",
           "name": "path_no_obstacle",
           "showlegend": true,
           "subplot": "mapbox",
           "type": "scattermapbox"
          },
          {
           "hovertemplate": "<b>%{hovertext}</b><br><br>type=path_with_obstacle<br>timestep=8200.0<br>size=%{marker.size}<br>lat=%{lat}<br>lon=%{lon}<extra></extra>",
           "hovertext": [
            "path_with_obstacle"
           ],
           "lat": [
            0.4171974522292994
           ],
           "legendgroup": "path_with_obstacle",
           "lon": [
            119.9171974522293
           ],
           "marker": {
            "color": "#EF553B",
            "size": [
             5
            ],
            "sizemode": "area",
            "sizeref": 0.025
           },
           "mode": "markers",
           "name": "path_with_obstacle",
           "showlegend": true,
           "subplot": "mapbox",
           "type": "scattermapbox"
          }
         ],
         "name": "8200.0"
        },
        {
         "data": [
          {
           "hovertemplate": "<b>%{hovertext}</b><br><br>type=path_no_obstacle<br>timestep=8400.0<br>size=%{marker.size}<br>lat=%{lat}<br>lon=%{lon}<extra></extra>",
           "hovertext": [
            "path_no_obstacle"
           ],
           "lat": [
            -9.744372990353698
           ],
           "legendgroup": "path_no_obstacle",
           "lon": [
            125.7556270096463
           ],
           "marker": {
            "color": "#636efa",
            "size": [
             5
            ],
            "sizemode": "area",
            "sizeref": 0.025
           },
           "mode": "markers",
           "name": "path_no_obstacle",
           "showlegend": true,
           "subplot": "mapbox",
           "type": "scattermapbox"
          },
          {
           "hovertemplate": "<b>%{hovertext}</b><br><br>type=path_with_obstacle<br>timestep=8400.0<br>size=%{marker.size}<br>lat=%{lat}<br>lon=%{lon}<extra></extra>",
           "hovertext": [
            "path_with_obstacle"
           ],
           "lat": [
            -0.8566878980891721
           ],
           "legendgroup": "path_with_obstacle",
           "lon": [
            118.64331210191082
           ],
           "marker": {
            "color": "#EF553B",
            "size": [
             5
            ],
            "sizemode": "area",
            "sizeref": 0.025
           },
           "mode": "markers",
           "name": "path_with_obstacle",
           "showlegend": true,
           "subplot": "mapbox",
           "type": "scattermapbox"
          }
         ],
         "name": "8400.0"
        },
        {
         "data": [
          {
           "hovertemplate": "<b>%{hovertext}</b><br><br>type=path_no_obstacle<br>timestep=8600.0<br>size=%{marker.size}<br>lat=%{lat}<br>lon=%{lon}<extra></extra>",
           "hovertext": [
            "path_no_obstacle"
           ],
           "lat": [
            -11.030546623794212
           ],
           "legendgroup": "path_no_obstacle",
           "lon": [
            124.4694533762058
           ],
           "marker": {
            "color": "#636efa",
            "size": [
             5
            ],
            "sizemode": "area",
            "sizeref": 0.025
           },
           "mode": "markers",
           "name": "path_no_obstacle",
           "showlegend": true,
           "subplot": "mapbox",
           "type": "scattermapbox"
          },
          {
           "hovertemplate": "<b>%{hovertext}</b><br><br>type=path_with_obstacle<br>timestep=8600.0<br>size=%{marker.size}<br>lat=%{lat}<br>lon=%{lon}<extra></extra>",
           "hovertext": [
            "path_with_obstacle"
           ],
           "lat": [
            -2.1305732484076434
           ],
           "legendgroup": "path_with_obstacle",
           "lon": [
            117.36942675159236
           ],
           "marker": {
            "color": "#EF553B",
            "size": [
             5
            ],
            "sizemode": "area",
            "sizeref": 0.025
           },
           "mode": "markers",
           "name": "path_with_obstacle",
           "showlegend": true,
           "subplot": "mapbox",
           "type": "scattermapbox"
          }
         ],
         "name": "8600.0"
        },
        {
         "data": [
          {
           "hovertemplate": "<b>%{hovertext}</b><br><br>type=path_no_obstacle<br>timestep=8800.0<br>size=%{marker.size}<br>lat=%{lat}<br>lon=%{lon}<extra></extra>",
           "hovertext": [
            "path_no_obstacle"
           ],
           "lat": [
            -12.319354838709678
           ],
           "legendgroup": "path_no_obstacle",
           "lon": [
            123.18064516129031
           ],
           "marker": {
            "color": "#636efa",
            "size": [
             5
            ],
            "sizemode": "area",
            "sizeref": 0.025
           },
           "mode": "markers",
           "name": "path_no_obstacle",
           "showlegend": true,
           "subplot": "mapbox",
           "type": "scattermapbox"
          },
          {
           "hovertemplate": "<b>%{hovertext}</b><br><br>type=path_with_obstacle<br>timestep=8800.0<br>size=%{marker.size}<br>lat=%{lat}<br>lon=%{lon}<extra></extra>",
           "hovertext": [
            "path_with_obstacle"
           ],
           "lat": [
            -3.404458598726115
           ],
           "legendgroup": "path_with_obstacle",
           "lon": [
            116.09554140127388
           ],
           "marker": {
            "color": "#EF553B",
            "size": [
             5
            ],
            "sizemode": "area",
            "sizeref": 0.025
           },
           "mode": "markers",
           "name": "path_with_obstacle",
           "showlegend": true,
           "subplot": "mapbox",
           "type": "scattermapbox"
          }
         ],
         "name": "8800.0"
        },
        {
         "data": [
          {
           "hovertemplate": "<b>%{hovertext}</b><br><br>type=path_no_obstacle<br>timestep=9000.0<br>size=%{marker.size}<br>lat=%{lat}<br>lon=%{lon}<extra></extra>",
           "hovertext": [
            "path_no_obstacle"
           ],
           "lat": [
            -13.610032362459547
           ],
           "legendgroup": "path_no_obstacle",
           "lon": [
            121.88996763754044
           ],
           "marker": {
            "color": "#636efa",
            "size": [
             5
            ],
            "sizemode": "area",
            "sizeref": 0.025
           },
           "mode": "markers",
           "name": "path_no_obstacle",
           "showlegend": true,
           "subplot": "mapbox",
           "type": "scattermapbox"
          },
          {
           "hovertemplate": "<b>%{hovertext}</b><br><br>type=path_with_obstacle<br>timestep=9000.0<br>size=%{marker.size}<br>lat=%{lat}<br>lon=%{lon}<extra></extra>",
           "hovertext": [
            "path_with_obstacle"
           ],
           "lat": [
            -4.678343949044586
           ],
           "legendgroup": "path_with_obstacle",
           "lon": [
            114.8216560509554
           ],
           "marker": {
            "color": "#EF553B",
            "size": [
             5
            ],
            "sizemode": "area",
            "sizeref": 0.025
           },
           "mode": "markers",
           "name": "path_with_obstacle",
           "showlegend": true,
           "subplot": "mapbox",
           "type": "scattermapbox"
          }
         ],
         "name": "9000.0"
        },
        {
         "data": [
          {
           "hovertemplate": "<b>%{hovertext}</b><br><br>type=path_no_obstacle<br>timestep=9200.0<br>size=%{marker.size}<br>lat=%{lat}<br>lon=%{lon}<extra></extra>",
           "hovertext": [
            "path_no_obstacle"
           ],
           "lat": [
            -14.904530744336569
           ],
           "legendgroup": "path_no_obstacle",
           "lon": [
            120.59546925566345
           ],
           "marker": {
            "color": "#636efa",
            "size": [
             5
            ],
            "sizemode": "area",
            "sizeref": 0.025
           },
           "mode": "markers",
           "name": "path_no_obstacle",
           "showlegend": true,
           "subplot": "mapbox",
           "type": "scattermapbox"
          },
          {
           "hovertemplate": "<b>%{hovertext}</b><br><br>type=path_with_obstacle<br>timestep=9200.0<br>size=%{marker.size}<br>lat=%{lat}<br>lon=%{lon}<extra></extra>",
           "hovertext": [
            "path_with_obstacle"
           ],
           "lat": [
            -5.953674121405751
           ],
           "legendgroup": "path_with_obstacle",
           "lon": [
            113.54632587859425
           ],
           "marker": {
            "color": "#EF553B",
            "size": [
             5
            ],
            "sizemode": "area",
            "sizeref": 0.025
           },
           "mode": "markers",
           "name": "path_with_obstacle",
           "showlegend": true,
           "subplot": "mapbox",
           "type": "scattermapbox"
          }
         ],
         "name": "9200.0"
        },
        {
         "data": [
          {
           "hovertemplate": "<b>%{hovertext}</b><br><br>type=path_no_obstacle<br>timestep=9400.0<br>size=%{marker.size}<br>lat=%{lat}<br>lon=%{lon}<extra></extra>",
           "hovertext": [
            "path_no_obstacle"
           ],
           "lat": [
            -16.2012987012987
           ],
           "legendgroup": "path_no_obstacle",
           "lon": [
            119.2987012987013
           ],
           "marker": {
            "color": "#636efa",
            "size": [
             5
            ],
            "sizemode": "area",
            "sizeref": 0.025
           },
           "mode": "markers",
           "name": "path_no_obstacle",
           "showlegend": true,
           "subplot": "mapbox",
           "type": "scattermapbox"
          },
          {
           "hovertemplate": "<b>%{hovertext}</b><br><br>type=path_with_obstacle<br>timestep=9400.0<br>size=%{marker.size}<br>lat=%{lat}<br>lon=%{lon}<extra></extra>",
           "hovertext": [
            "path_with_obstacle"
           ],
           "lat": [
            -7.231629392971246
           ],
           "legendgroup": "path_with_obstacle",
           "lon": [
            112.26837060702876
           ],
           "marker": {
            "color": "#EF553B",
            "size": [
             5
            ],
            "sizemode": "area",
            "sizeref": 0.025
           },
           "mode": "markers",
           "name": "path_with_obstacle",
           "showlegend": true,
           "subplot": "mapbox",
           "type": "scattermapbox"
          }
         ],
         "name": "9400.0"
        },
        {
         "data": [
          {
           "hovertemplate": "<b>%{hovertext}</b><br><br>type=path_no_obstacle<br>timestep=9600.0<br>size=%{marker.size}<br>lat=%{lat}<br>lon=%{lon}<extra></extra>",
           "hovertext": [
            "path_no_obstacle"
           ],
           "lat": [
            -17.5
           ],
           "legendgroup": "path_no_obstacle",
           "lon": [
            118
           ],
           "marker": {
            "color": "#636efa",
            "size": [
             5
            ],
            "sizemode": "area",
            "sizeref": 0.025
           },
           "mode": "markers",
           "name": "path_no_obstacle",
           "showlegend": true,
           "subplot": "mapbox",
           "type": "scattermapbox"
          },
          {
           "hovertemplate": "<b>%{hovertext}</b><br><br>type=path_with_obstacle<br>timestep=9600.0<br>size=%{marker.size}<br>lat=%{lat}<br>lon=%{lon}<extra></extra>",
           "hovertext": [
            "path_with_obstacle"
           ],
           "lat": [
            -8.512820512820513
           ],
           "legendgroup": "path_with_obstacle",
           "lon": [
            110.98717948717947
           ],
           "marker": {
            "color": "#EF553B",
            "size": [
             5
            ],
            "sizemode": "area",
            "sizeref": 0.025
           },
           "mode": "markers",
           "name": "path_with_obstacle",
           "showlegend": true,
           "subplot": "mapbox",
           "type": "scattermapbox"
          }
         ],
         "name": "9600.0"
        },
        {
         "data": [
          {
           "hovertemplate": "<b>%{hovertext}</b><br><br>type=path_no_obstacle<br>timestep=9800.0<br>size=%{marker.size}<br>lat=%{lat}<br>lon=%{lon}<extra></extra>",
           "hovertext": [
            "path_no_obstacle"
           ],
           "lat": [
            -18.80718954248366
           ],
           "legendgroup": "path_no_obstacle",
           "lon": [
            116.69281045751634
           ],
           "marker": {
            "color": "#636efa",
            "size": [
             5
            ],
            "sizemode": "area",
            "sizeref": 0.025
           },
           "mode": "markers",
           "name": "path_no_obstacle",
           "showlegend": true,
           "subplot": "mapbox",
           "type": "scattermapbox"
          },
          {
           "hovertemplate": "<b>%{hovertext}</b><br><br>type=path_with_obstacle<br>timestep=9800.0<br>size=%{marker.size}<br>lat=%{lat}<br>lon=%{lon}<extra></extra>",
           "hovertext": [
            "path_with_obstacle"
           ],
           "lat": [
            -9.795819935691318
           ],
           "legendgroup": "path_with_obstacle",
           "lon": [
            109.70418006430867
           ],
           "marker": {
            "color": "#EF553B",
            "size": [
             5
            ],
            "sizemode": "area",
            "sizeref": 0.025
           },
           "mode": "markers",
           "name": "path_with_obstacle",
           "showlegend": true,
           "subplot": "mapbox",
           "type": "scattermapbox"
          }
         ],
         "name": "9800.0"
        },
        {
         "data": [
          {
           "hovertemplate": "<b>%{hovertext}</b><br><br>type=path_no_obstacle<br>timestep=10000.0<br>size=%{marker.size}<br>lat=%{lat}<br>lon=%{lon}<extra></extra>",
           "hovertext": [
            "path_no_obstacle"
           ],
           "lat": [
            -20.11842105263158
           ],
           "legendgroup": "path_no_obstacle",
           "lon": [
            115.38157894736842
           ],
           "marker": {
            "color": "#636efa",
            "size": [
             5
            ],
            "sizemode": "area",
            "sizeref": 0.025
           },
           "mode": "markers",
           "name": "path_no_obstacle",
           "showlegend": true,
           "subplot": "mapbox",
           "type": "scattermapbox"
          },
          {
           "hovertemplate": "<b>%{hovertext}</b><br><br>type=path_with_obstacle<br>timestep=10000.0<br>size=%{marker.size}<br>lat=%{lat}<br>lon=%{lon}<extra></extra>",
           "hovertext": [
            "path_with_obstacle"
           ],
           "lat": [
            -11.081993569131832
           ],
           "legendgroup": "path_with_obstacle",
           "lon": [
            108.41800643086816
           ],
           "marker": {
            "color": "#EF553B",
            "size": [
             5
            ],
            "sizemode": "area",
            "sizeref": 0.025
           },
           "mode": "markers",
           "name": "path_with_obstacle",
           "showlegend": true,
           "subplot": "mapbox",
           "type": "scattermapbox"
          }
         ],
         "name": "10000.0"
        },
        {
         "data": [
          {
           "hovertemplate": "<b>%{hovertext}</b><br><br>type=path_no_obstacle<br>timestep=10200.0<br>size=%{marker.size}<br>lat=%{lat}<br>lon=%{lon}<extra></extra>",
           "hovertext": [
            "path_no_obstacle"
           ],
           "lat": [
            -21.434210526315788
           ],
           "legendgroup": "path_no_obstacle",
           "lon": [
            114.0657894736842
           ],
           "marker": {
            "color": "#636efa",
            "size": [
             5
            ],
            "sizemode": "area",
            "sizeref": 0.025
           },
           "mode": "markers",
           "name": "path_no_obstacle",
           "showlegend": true,
           "subplot": "mapbox",
           "type": "scattermapbox"
          },
          {
           "hovertemplate": "<b>%{hovertext}</b><br><br>type=path_with_obstacle<br>timestep=10200.0<br>size=%{marker.size}<br>lat=%{lat}<br>lon=%{lon}<extra></extra>",
           "hovertext": [
            "path_with_obstacle"
           ],
           "lat": [
            -12.370967741935484
           ],
           "legendgroup": "path_with_obstacle",
           "lon": [
            107.12903225806453
           ],
           "marker": {
            "color": "#EF553B",
            "size": [
             5
            ],
            "sizemode": "area",
            "sizeref": 0.025
           },
           "mode": "markers",
           "name": "path_with_obstacle",
           "showlegend": true,
           "subplot": "mapbox",
           "type": "scattermapbox"
          }
         ],
         "name": "10200.0"
        },
        {
         "data": [
          {
           "hovertemplate": "<b>%{hovertext}</b><br><br>type=path_no_obstacle<br>timestep=10400.0<br>size=%{marker.size}<br>lat=%{lat}<br>lon=%{lon}<extra></extra>",
           "hovertext": [
            "path_no_obstacle"
           ],
           "lat": [
            -22.758278145695364
           ],
           "legendgroup": "path_no_obstacle",
           "lon": [
            112.74172185430464
           ],
           "marker": {
            "color": "#636efa",
            "size": [
             5
            ],
            "sizemode": "area",
            "sizeref": 0.025
           },
           "mode": "markers",
           "name": "path_no_obstacle",
           "showlegend": true,
           "subplot": "mapbox",
           "type": "scattermapbox"
          },
          {
           "hovertemplate": "<b>%{hovertext}</b><br><br>type=path_with_obstacle<br>timestep=10400.0<br>size=%{marker.size}<br>lat=%{lat}<br>lon=%{lon}<extra></extra>",
           "hovertext": [
            "path_with_obstacle"
           ],
           "lat": [
            -13.661812297734627
           ],
           "legendgroup": "path_with_obstacle",
           "lon": [
            105.83818770226536
           ],
           "marker": {
            "color": "#EF553B",
            "size": [
             5
            ],
            "sizemode": "area",
            "sizeref": 0.025
           },
           "mode": "markers",
           "name": "path_with_obstacle",
           "showlegend": true,
           "subplot": "mapbox",
           "type": "scattermapbox"
          }
         ],
         "name": "10400.0"
        },
        {
         "data": [
          {
           "hovertemplate": "<b>%{hovertext}</b><br><br>type=path_no_obstacle<br>timestep=10600.0<br>size=%{marker.size}<br>lat=%{lat}<br>lon=%{lon}<extra></extra>",
           "hovertext": [
            "path_no_obstacle"
           ],
           "lat": [
            -24.086666666666662
           ],
           "legendgroup": "path_no_obstacle",
           "lon": [
            111.41333333333333
           ],
           "marker": {
            "color": "#636efa",
            "size": [
             5
            ],
            "sizemode": "area",
            "sizeref": 0.025
           },
           "mode": "markers",
           "name": "path_no_obstacle",
           "showlegend": true,
           "subplot": "mapbox",
           "type": "scattermapbox"
          },
          {
           "hovertemplate": "<b>%{hovertext}</b><br><br>type=path_with_obstacle<br>timestep=10600.0<br>size=%{marker.size}<br>lat=%{lat}<br>lon=%{lon}<extra></extra>",
           "hovertext": [
            "path_with_obstacle"
           ],
           "lat": [
            -14.95631067961165
           ],
           "legendgroup": "path_with_obstacle",
           "lon": [
            104.54368932038837
           ],
           "marker": {
            "color": "#EF553B",
            "size": [
             5
            ],
            "sizemode": "area",
            "sizeref": 0.025
           },
           "mode": "markers",
           "name": "path_with_obstacle",
           "showlegend": true,
           "subplot": "mapbox",
           "type": "scattermapbox"
          }
         ],
         "name": "10600.0"
        },
        {
         "data": [
          {
           "hovertemplate": "<b>%{hovertext}</b><br><br>type=path_no_obstacle<br>timestep=10800.0<br>size=%{marker.size}<br>lat=%{lat}<br>lon=%{lon}<extra></extra>",
           "hovertext": [
            "path_no_obstacle"
           ],
           "lat": [
            -25.42
           ],
           "legendgroup": "path_no_obstacle",
           "lon": [
            110.08
           ],
           "marker": {
            "color": "#636efa",
            "size": [
             5
            ],
            "sizemode": "area",
            "sizeref": 0.025
           },
           "mode": "markers",
           "name": "path_no_obstacle",
           "showlegend": true,
           "subplot": "mapbox",
           "type": "scattermapbox"
          },
          {
           "hovertemplate": "<b>%{hovertext}</b><br><br>type=path_with_obstacle<br>timestep=10800.0<br>size=%{marker.size}<br>lat=%{lat}<br>lon=%{lon}<extra></extra>",
           "hovertext": [
            "path_with_obstacle"
           ],
           "lat": [
            -16.253246753246753
           ],
           "legendgroup": "path_with_obstacle",
           "lon": [
            103.24675324675324
           ],
           "marker": {
            "color": "#EF553B",
            "size": [
             5
            ],
            "sizemode": "area",
            "sizeref": 0.025
           },
           "mode": "markers",
           "name": "path_with_obstacle",
           "showlegend": true,
           "subplot": "mapbox",
           "type": "scattermapbox"
          }
         ],
         "name": "10800.0"
        },
        {
         "data": [
          {
           "hovertemplate": "<b>%{hovertext}</b><br><br>type=path_no_obstacle<br>timestep=11000.0<br>size=%{marker.size}<br>lat=%{lat}<br>lon=%{lon}<extra></extra>",
           "hovertext": [
            "path_no_obstacle"
           ],
           "lat": [
            -26.761744966442954
           ],
           "legendgroup": "path_no_obstacle",
           "lon": [
            108.73825503355704
           ],
           "marker": {
            "color": "#636efa",
            "size": [
             5
            ],
            "sizemode": "area",
            "sizeref": 0.025
           },
           "mode": "markers",
           "name": "path_no_obstacle",
           "showlegend": true,
           "subplot": "mapbox",
           "type": "scattermapbox"
          },
          {
           "hovertemplate": "<b>%{hovertext}</b><br><br>type=path_with_obstacle<br>timestep=11000.0<br>size=%{marker.size}<br>lat=%{lat}<br>lon=%{lon}<extra></extra>",
           "hovertext": [
            "path_with_obstacle"
           ],
           "lat": [
            -17.552287581699346
           ],
           "legendgroup": "path_with_obstacle",
           "lon": [
            101.94771241830064
           ],
           "marker": {
            "color": "#EF553B",
            "size": [
             5
            ],
            "sizemode": "area",
            "sizeref": 0.025
           },
           "mode": "markers",
           "name": "path_with_obstacle",
           "showlegend": true,
           "subplot": "mapbox",
           "type": "scattermapbox"
          }
         ],
         "name": "11000.0"
        },
        {
         "data": [
          {
           "hovertemplate": "<b>%{hovertext}</b><br><br>type=path_no_obstacle<br>timestep=11200.0<br>size=%{marker.size}<br>lat=%{lat}<br>lon=%{lon}<extra></extra>",
           "hovertext": [
            "path_no_obstacle"
           ],
           "lat": [
            -28.10810810810811
           ],
           "legendgroup": "path_no_obstacle",
           "lon": [
            107.39189189189187
           ],
           "marker": {
            "color": "#636efa",
            "size": [
             5
            ],
            "sizemode": "area",
            "sizeref": 0.025
           },
           "mode": "markers",
           "name": "path_no_obstacle",
           "showlegend": true,
           "subplot": "mapbox",
           "type": "scattermapbox"
          },
          {
           "hovertemplate": "<b>%{hovertext}</b><br><br>type=path_with_obstacle<br>timestep=11200.0<br>size=%{marker.size}<br>lat=%{lat}<br>lon=%{lon}<extra></extra>",
           "hovertext": [
            "path_with_obstacle"
           ],
           "lat": [
            -18.859477124183005
           ],
           "legendgroup": "path_with_obstacle",
           "lon": [
            100.640522875817
           ],
           "marker": {
            "color": "#EF553B",
            "size": [
             5
            ],
            "sizemode": "area",
            "sizeref": 0.025
           },
           "mode": "markers",
           "name": "path_with_obstacle",
           "showlegend": true,
           "subplot": "mapbox",
           "type": "scattermapbox"
          }
         ],
         "name": "11200.0"
        },
        {
         "data": [
          {
           "hovertemplate": "<b>%{hovertext}</b><br><br>type=path_no_obstacle<br>timestep=11400.0<br>size=%{marker.size}<br>lat=%{lat}<br>lon=%{lon}<extra></extra>",
           "hovertext": [
            "path_no_obstacle"
           ],
           "lat": [
            -29.45945945945946
           ],
           "legendgroup": "path_no_obstacle",
           "lon": [
            106.04054054054056
           ],
           "marker": {
            "color": "#636efa",
            "size": [
             5
            ],
            "sizemode": "area",
            "sizeref": 0.025
           },
           "mode": "markers",
           "name": "path_no_obstacle",
           "showlegend": true,
           "subplot": "mapbox",
           "type": "scattermapbox"
          },
          {
           "hovertemplate": "<b>%{hovertext}</b><br><br>type=path_with_obstacle<br>timestep=11400.0<br>size=%{marker.size}<br>lat=%{lat}<br>lon=%{lon}<extra></extra>",
           "hovertext": [
            "path_with_obstacle"
           ],
           "lat": [
            -20.17105263157895
           ],
           "legendgroup": "path_with_obstacle",
           "lon": [
            99.32894736842104
           ],
           "marker": {
            "color": "#EF553B",
            "size": [
             5
            ],
            "sizemode": "area",
            "sizeref": 0.025
           },
           "mode": "markers",
           "name": "path_with_obstacle",
           "showlegend": true,
           "subplot": "mapbox",
           "type": "scattermapbox"
          }
         ],
         "name": "11400.0"
        },
        {
         "data": [
          {
           "hovertemplate": "<b>%{hovertext}</b><br><br>type=path_no_obstacle<br>timestep=11600.0<br>size=%{marker.size}<br>lat=%{lat}<br>lon=%{lon}<extra></extra>",
           "hovertext": [
            "path_no_obstacle"
           ],
           "lat": [
            -30.824232081911266
           ],
           "legendgroup": "path_no_obstacle",
           "lon": [
            104.67576791808874
           ],
           "marker": {
            "color": "#636efa",
            "size": [
             5
            ],
            "sizemode": "area",
            "sizeref": 0.025
           },
           "mode": "markers",
           "name": "path_no_obstacle",
           "showlegend": true,
           "subplot": "mapbox",
           "type": "scattermapbox"
          },
          {
           "hovertemplate": "<b>%{hovertext}</b><br><br>type=path_with_obstacle<br>timestep=11600.0<br>size=%{marker.size}<br>lat=%{lat}<br>lon=%{lon}<extra></extra>",
           "hovertext": [
            "path_with_obstacle"
           ],
           "lat": [
            -21.48684210526316
           ],
           "legendgroup": "path_with_obstacle",
           "lon": [
            98.01315789473684
           ],
           "marker": {
            "color": "#EF553B",
            "size": [
             5
            ],
            "sizemode": "area",
            "sizeref": 0.025
           },
           "mode": "markers",
           "name": "path_with_obstacle",
           "showlegend": true,
           "subplot": "mapbox",
           "type": "scattermapbox"
          }
         ],
         "name": "11600.0"
        },
        {
         "data": [
          {
           "hovertemplate": "<b>%{hovertext}</b><br><br>type=path_no_obstacle<br>timestep=11800.0<br>size=%{marker.size}<br>lat=%{lat}<br>lon=%{lon}<extra></extra>",
           "hovertext": [
            "path_no_obstacle"
           ],
           "lat": [
            -32.19655172413793
           ],
           "legendgroup": "path_no_obstacle",
           "lon": [
            103.30344827586208
           ],
           "marker": {
            "color": "#636efa",
            "size": [
             5
            ],
            "sizemode": "area",
            "sizeref": 0.025
           },
           "mode": "markers",
           "name": "path_no_obstacle",
           "showlegend": true,
           "subplot": "mapbox",
           "type": "scattermapbox"
          },
          {
           "hovertemplate": "<b>%{hovertext}</b><br><br>type=path_with_obstacle<br>timestep=11800.0<br>size=%{marker.size}<br>lat=%{lat}<br>lon=%{lon}<extra></extra>",
           "hovertext": [
            "path_with_obstacle"
           ],
           "lat": [
            -22.811258278145694
           ],
           "legendgroup": "path_with_obstacle",
           "lon": [
            96.6887417218543
           ],
           "marker": {
            "color": "#EF553B",
            "size": [
             5
            ],
            "sizemode": "area",
            "sizeref": 0.025
           },
           "mode": "markers",
           "name": "path_with_obstacle",
           "showlegend": true,
           "subplot": "mapbox",
           "type": "scattermapbox"
          }
         ],
         "name": "11800.0"
        },
        {
         "data": [
          {
           "hovertemplate": "<b>%{hovertext}</b><br><br>type=path_no_obstacle<br>timestep=12000.0<br>size=%{marker.size}<br>lat=%{lat}<br>lon=%{lon}<extra></extra>",
           "hovertext": [
            "path_no_obstacle"
           ],
           "lat": [
            -33.576388888888886
           ],
           "legendgroup": "path_no_obstacle",
           "lon": [
            101.92361111111111
           ],
           "marker": {
            "color": "#636efa",
            "size": [
             5
            ],
            "sizemode": "area",
            "sizeref": 0.025
           },
           "mode": "markers",
           "name": "path_no_obstacle",
           "showlegend": true,
           "subplot": "mapbox",
           "type": "scattermapbox"
          },
          {
           "hovertemplate": "<b>%{hovertext}</b><br><br>type=path_with_obstacle<br>timestep=12000.0<br>size=%{marker.size}<br>lat=%{lat}<br>lon=%{lon}<extra></extra>",
           "hovertext": [
            "path_with_obstacle"
           ],
           "lat": [
            -24.14
           ],
           "legendgroup": "path_with_obstacle",
           "lon": [
            95.36
           ],
           "marker": {
            "color": "#EF553B",
            "size": [
             5
            ],
            "sizemode": "area",
            "sizeref": 0.025
           },
           "mode": "markers",
           "name": "path_with_obstacle",
           "showlegend": true,
           "subplot": "mapbox",
           "type": "scattermapbox"
          }
         ],
         "name": "12000.0"
        },
        {
         "data": [
          {
           "hovertemplate": "<b>%{hovertext}</b><br><br>type=path_no_obstacle<br>timestep=12200.0<br>size=%{marker.size}<br>lat=%{lat}<br>lon=%{lon}<extra></extra>",
           "hovertext": [
            "path_no_obstacle"
           ],
           "lat": [
            -34.96527777777778
           ],
           "legendgroup": "path_no_obstacle",
           "lon": [
            100.53472222222224
           ],
           "marker": {
            "color": "#636efa",
            "size": [
             5
            ],
            "sizemode": "area",
            "sizeref": 0.025
           },
           "mode": "markers",
           "name": "path_no_obstacle",
           "showlegend": true,
           "subplot": "mapbox",
           "type": "scattermapbox"
          },
          {
           "hovertemplate": "<b>%{hovertext}</b><br><br>type=path_with_obstacle<br>timestep=12200.0<br>size=%{marker.size}<br>lat=%{lat}<br>lon=%{lon}<extra></extra>",
           "hovertext": [
            "path_with_obstacle"
           ],
           "lat": [
            -25.473333333333333
           ],
           "legendgroup": "path_with_obstacle",
           "lon": [
            94.02666666666669
           ],
           "marker": {
            "color": "#EF553B",
            "size": [
             5
            ],
            "sizemode": "area",
            "sizeref": 0.025
           },
           "mode": "markers",
           "name": "path_with_obstacle",
           "showlegend": true,
           "subplot": "mapbox",
           "type": "scattermapbox"
          }
         ],
         "name": "12200.0"
        },
        {
         "data": [
          {
           "hovertemplate": "<b>%{hovertext}</b><br><br>type=path_no_obstacle<br>timestep=12400.0<br>size=%{marker.size}<br>lat=%{lat}<br>lon=%{lon}<extra></extra>",
           "hovertext": [
            "path_no_obstacle"
           ],
           "lat": [
            -36.36315789473685
           ],
           "legendgroup": "path_no_obstacle",
           "lon": [
            99.13684210526316
           ],
           "marker": {
            "color": "#636efa",
            "size": [
             5
            ],
            "sizemode": "area",
            "sizeref": 0.025
           },
           "mode": "markers",
           "name": "path_no_obstacle",
           "showlegend": true,
           "subplot": "mapbox",
           "type": "scattermapbox"
          },
          {
           "hovertemplate": "<b>%{hovertext}</b><br><br>type=path_with_obstacle<br>timestep=12400.0<br>size=%{marker.size}<br>lat=%{lat}<br>lon=%{lon}<extra></extra>",
           "hovertext": [
            "path_with_obstacle"
           ],
           "lat": [
            -26.815436241610737
           ],
           "legendgroup": "path_with_obstacle",
           "lon": [
            92.68456375838926
           ],
           "marker": {
            "color": "#EF553B",
            "size": [
             5
            ],
            "sizemode": "area",
            "sizeref": 0.025
           },
           "mode": "markers",
           "name": "path_with_obstacle",
           "showlegend": true,
           "subplot": "mapbox",
           "type": "scattermapbox"
          }
         ],
         "name": "12400.0"
        },
        {
         "data": [
          {
           "hovertemplate": "<b>%{hovertext}</b><br><br>type=path_no_obstacle<br>timestep=12600.0<br>size=%{marker.size}<br>lat=%{lat}<br>lon=%{lon}<extra></extra>",
           "hovertext": [
            "path_no_obstacle"
           ],
           "lat": [
            -37.769503546099294
           ],
           "legendgroup": "path_no_obstacle",
           "lon": [
            97.73049645390071
           ],
           "marker": {
            "color": "#636efa",
            "size": [
             5
            ],
            "sizemode": "area",
            "sizeref": 0.025
           },
           "mode": "markers",
           "name": "path_no_obstacle",
           "showlegend": true,
           "subplot": "mapbox",
           "type": "scattermapbox"
          },
          {
           "hovertemplate": "<b>%{hovertext}</b><br><br>type=path_with_obstacle<br>timestep=12600.0<br>size=%{marker.size}<br>lat=%{lat}<br>lon=%{lon}<extra></extra>",
           "hovertext": [
            "path_with_obstacle"
           ],
           "lat": [
            -28.16216216216216
           ],
           "legendgroup": "path_with_obstacle",
           "lon": [
            91.33783783783784
           ],
           "marker": {
            "color": "#EF553B",
            "size": [
             5
            ],
            "sizemode": "area",
            "sizeref": 0.025
           },
           "mode": "markers",
           "name": "path_with_obstacle",
           "showlegend": true,
           "subplot": "mapbox",
           "type": "scattermapbox"
          }
         ],
         "name": "12600.0"
        },
        {
         "data": [
          {
           "hovertemplate": "<b>%{hovertext}</b><br><br>type=path_no_obstacle<br>timestep=12800.0<br>size=%{marker.size}<br>lat=%{lat}<br>lon=%{lon}<extra></extra>",
           "hovertext": [
            "path_no_obstacle"
           ],
           "lat": [
            -39.18794326241135
           ],
           "legendgroup": "path_no_obstacle",
           "lon": [
            96.31205673758863
           ],
           "marker": {
            "color": "#636efa",
            "size": [
             5
            ],
            "sizemode": "area",
            "sizeref": 0.025
           },
           "mode": "markers",
           "name": "path_no_obstacle",
           "showlegend": true,
           "subplot": "mapbox",
           "type": "scattermapbox"
          },
          {
           "hovertemplate": "<b>%{hovertext}</b><br><br>type=path_with_obstacle<br>timestep=12800.0<br>size=%{marker.size}<br>lat=%{lat}<br>lon=%{lon}<extra></extra>",
           "hovertext": [
            "path_with_obstacle"
           ],
           "lat": [
            -29.513651877133107
           ],
           "legendgroup": "path_with_obstacle",
           "lon": [
            89.9863481228669
           ],
           "marker": {
            "color": "#EF553B",
            "size": [
             5
            ],
            "sizemode": "area",
            "sizeref": 0.025
           },
           "mode": "markers",
           "name": "path_with_obstacle",
           "showlegend": true,
           "subplot": "mapbox",
           "type": "scattermapbox"
          }
         ],
         "name": "12800.0"
        },
        {
         "data": [
          {
           "hovertemplate": "<b>%{hovertext}</b><br><br>type=path_no_obstacle<br>timestep=13000.0<br>size=%{marker.size}<br>lat=%{lat}<br>lon=%{lon}<extra></extra>",
           "hovertext": [
            "path_no_obstacle"
           ],
           "lat": [
            -40.61827956989247
           ],
           "legendgroup": "path_no_obstacle",
           "lon": [
            94.88172043010752
           ],
           "marker": {
            "color": "#636efa",
            "size": [
             5
            ],
            "sizemode": "area",
            "sizeref": 0.025
           },
           "mode": "markers",
           "name": "path_no_obstacle",
           "showlegend": true,
           "subplot": "mapbox",
           "type": "scattermapbox"
          },
          {
           "hovertemplate": "<b>%{hovertext}</b><br><br>type=path_with_obstacle<br>timestep=13000.0<br>size=%{marker.size}<br>lat=%{lat}<br>lon=%{lon}<extra></extra>",
           "hovertext": [
            "path_with_obstacle"
           ],
           "lat": [
            -30.87883959044369
           ],
           "legendgroup": "path_with_obstacle",
           "lon": [
            88.62116040955631
           ],
           "marker": {
            "color": "#EF553B",
            "size": [
             5
            ],
            "sizemode": "area",
            "sizeref": 0.025
           },
           "mode": "markers",
           "name": "path_with_obstacle",
           "showlegend": true,
           "subplot": "mapbox",
           "type": "scattermapbox"
          }
         ],
         "name": "13000.0"
        },
        {
         "data": [
          {
           "hovertemplate": "<b>%{hovertext}</b><br><br>type=path_no_obstacle<br>timestep=13200.0<br>size=%{marker.size}<br>lat=%{lat}<br>lon=%{lon}<extra></extra>",
           "hovertext": [
            "path_no_obstacle"
           ],
           "lat": [
            -42.05797101449275
           ],
           "legendgroup": "path_no_obstacle",
           "lon": [
            93.44202898550724
           ],
           "marker": {
            "color": "#636efa",
            "size": [
             5
            ],
            "sizemode": "area",
            "sizeref": 0.025
           },
           "mode": "markers",
           "name": "path_no_obstacle",
           "showlegend": true,
           "subplot": "mapbox",
           "type": "scattermapbox"
          },
          {
           "hovertemplate": "<b>%{hovertext}</b><br><br>type=path_with_obstacle<br>timestep=13200.0<br>size=%{marker.size}<br>lat=%{lat}<br>lon=%{lon}<extra></extra>",
           "hovertext": [
            "path_with_obstacle"
           ],
           "lat": [
            -32.251724137931035
           ],
           "legendgroup": "path_with_obstacle",
           "lon": [
            87.24827586206897
           ],
           "marker": {
            "color": "#EF553B",
            "size": [
             5
            ],
            "sizemode": "area",
            "sizeref": 0.025
           },
           "mode": "markers",
           "name": "path_with_obstacle",
           "showlegend": true,
           "subplot": "mapbox",
           "type": "scattermapbox"
          }
         ],
         "name": "13200.0"
        },
        {
         "data": [
          {
           "hovertemplate": "<b>%{hovertext}</b><br><br>type=path_no_obstacle<br>timestep=13400.0<br>size=%{marker.size}<br>lat=%{lat}<br>lon=%{lon}<extra></extra>",
           "hovertext": [
            "path_no_obstacle"
           ],
           "lat": [
            -43.5
           ],
           "legendgroup": "path_no_obstacle",
           "lon": [
            91.98757763975156
           ],
           "marker": {
            "color": "#636efa",
            "size": [
             5
            ],
            "sizemode": "area",
            "sizeref": 0.025
           },
           "mode": "markers",
           "name": "path_no_obstacle",
           "showlegend": true,
           "subplot": "mapbox",
           "type": "scattermapbox"
          },
          {
           "hovertemplate": "<b>%{hovertext}</b><br><br>type=path_with_obstacle<br>timestep=13400.0<br>size=%{marker.size}<br>lat=%{lat}<br>lon=%{lon}<extra></extra>",
           "hovertext": [
            "path_with_obstacle"
           ],
           "lat": [
            -33.63194444444444
           ],
           "legendgroup": "path_with_obstacle",
           "lon": [
            85.86805555555556
           ],
           "marker": {
            "color": "#EF553B",
            "size": [
             5
            ],
            "sizemode": "area",
            "sizeref": 0.025
           },
           "mode": "markers",
           "name": "path_with_obstacle",
           "showlegend": true,
           "subplot": "mapbox",
           "type": "scattermapbox"
          }
         ],
         "name": "13400.0"
        },
        {
         "data": [
          {
           "hovertemplate": "<b>%{hovertext}</b><br><br>type=path_no_obstacle<br>timestep=13600.0<br>size=%{marker.size}<br>lat=%{lat}<br>lon=%{lon}<extra></extra>",
           "hovertext": [
            "path_no_obstacle"
           ],
           "lat": [
            -43.5
           ],
           "legendgroup": "path_no_obstacle",
           "lon": [
            89.5031055900621
           ],
           "marker": {
            "color": "#636efa",
            "size": [
             5
            ],
            "sizemode": "area",
            "sizeref": 0.025
           },
           "mode": "markers",
           "name": "path_no_obstacle",
           "showlegend": true,
           "subplot": "mapbox",
           "type": "scattermapbox"
          },
          {
           "hovertemplate": "<b>%{hovertext}</b><br><br>type=path_with_obstacle<br>timestep=13600.0<br>size=%{marker.size}<br>lat=%{lat}<br>lon=%{lon}<extra></extra>",
           "hovertext": [
            "path_with_obstacle"
           ],
           "lat": [
            -35.020833333333336
           ],
           "legendgroup": "path_with_obstacle",
           "lon": [
            84.47916666666667
           ],
           "marker": {
            "color": "#EF553B",
            "size": [
             5
            ],
            "sizemode": "area",
            "sizeref": 0.025
           },
           "mode": "markers",
           "name": "path_with_obstacle",
           "showlegend": true,
           "subplot": "mapbox",
           "type": "scattermapbox"
          }
         ],
         "name": "13600.0"
        },
        {
         "data": [
          {
           "hovertemplate": "<b>%{hovertext}</b><br><br>type=path_no_obstacle<br>timestep=13800.0<br>size=%{marker.size}<br>lat=%{lat}<br>lon=%{lon}<extra></extra>",
           "hovertext": [
            "path_no_obstacle"
           ],
           "lat": [
            -43.5
           ],
           "legendgroup": "path_no_obstacle",
           "lon": [
            87.01863354037268
           ],
           "marker": {
            "color": "#636efa",
            "size": [
             5
            ],
            "sizemode": "area",
            "sizeref": 0.025
           },
           "mode": "markers",
           "name": "path_no_obstacle",
           "showlegend": true,
           "subplot": "mapbox",
           "type": "scattermapbox"
          },
          {
           "hovertemplate": "<b>%{hovertext}</b><br><br>type=path_with_obstacle<br>timestep=13800.0<br>size=%{marker.size}<br>lat=%{lat}<br>lon=%{lon}<extra></extra>",
           "hovertext": [
            "path_with_obstacle"
           ],
           "lat": [
            -36.41929824561404
           ],
           "legendgroup": "path_with_obstacle",
           "lon": [
            83.08070175438597
           ],
           "marker": {
            "color": "#EF553B",
            "size": [
             5
            ],
            "sizemode": "area",
            "sizeref": 0.025
           },
           "mode": "markers",
           "name": "path_with_obstacle",
           "showlegend": true,
           "subplot": "mapbox",
           "type": "scattermapbox"
          }
         ],
         "name": "13800.0"
        },
        {
         "data": [
          {
           "hovertemplate": "<b>%{hovertext}</b><br><br>type=path_no_obstacle<br>timestep=14000.0<br>size=%{marker.size}<br>lat=%{lat}<br>lon=%{lon}<extra></extra>",
           "hovertext": [
            "path_no_obstacle"
           ],
           "lat": [
            -43.5
           ],
           "legendgroup": "path_no_obstacle",
           "lon": [
            84.53416149068323
           ],
           "marker": {
            "color": "#636efa",
            "size": [
             5
            ],
            "sizemode": "area",
            "sizeref": 0.025
           },
           "mode": "markers",
           "name": "path_no_obstacle",
           "showlegend": true,
           "subplot": "mapbox",
           "type": "scattermapbox"
          },
          {
           "hovertemplate": "<b>%{hovertext}</b><br><br>type=path_with_obstacle<br>timestep=14000.0<br>size=%{marker.size}<br>lat=%{lat}<br>lon=%{lon}<extra></extra>",
           "hovertext": [
            "path_with_obstacle"
           ],
           "lat": [
            -37.826241134751776
           ],
           "legendgroup": "path_with_obstacle",
           "lon": [
            81.67375886524823
           ],
           "marker": {
            "color": "#EF553B",
            "size": [
             5
            ],
            "sizemode": "area",
            "sizeref": 0.025
           },
           "mode": "markers",
           "name": "path_with_obstacle",
           "showlegend": true,
           "subplot": "mapbox",
           "type": "scattermapbox"
          }
         ],
         "name": "14000.0"
        },
        {
         "data": [
          {
           "hovertemplate": "<b>%{hovertext}</b><br><br>type=path_no_obstacle<br>timestep=14200.0<br>size=%{marker.size}<br>lat=%{lat}<br>lon=%{lon}<extra></extra>",
           "hovertext": [
            "path_no_obstacle"
           ],
           "lat": [
            -43.5
           ],
           "legendgroup": "path_no_obstacle",
           "lon": [
            82.04968944099379
           ],
           "marker": {
            "color": "#636efa",
            "size": [
             5
            ],
            "sizemode": "area",
            "sizeref": 0.025
           },
           "mode": "markers",
           "name": "path_no_obstacle",
           "showlegend": true,
           "subplot": "mapbox",
           "type": "scattermapbox"
          },
          {
           "hovertemplate": "<b>%{hovertext}</b><br><br>type=path_with_obstacle<br>timestep=14200.0<br>size=%{marker.size}<br>lat=%{lat}<br>lon=%{lon}<extra></extra>",
           "hovertext": [
            "path_with_obstacle"
           ],
           "lat": [
            -39.24468085106383
           ],
           "legendgroup": "path_with_obstacle",
           "lon": [
            80.25531914893617
           ],
           "marker": {
            "color": "#EF553B",
            "size": [
             5
            ],
            "sizemode": "area",
            "sizeref": 0.025
           },
           "mode": "markers",
           "name": "path_with_obstacle",
           "showlegend": true,
           "subplot": "mapbox",
           "type": "scattermapbox"
          }
         ],
         "name": "14200.0"
        },
        {
         "data": [
          {
           "hovertemplate": "<b>%{hovertext}</b><br><br>type=path_no_obstacle<br>timestep=14400.0<br>size=%{marker.size}<br>lat=%{lat}<br>lon=%{lon}<extra></extra>",
           "hovertext": [
            "path_no_obstacle"
           ],
           "lat": [
            -43.5
           ],
           "legendgroup": "path_no_obstacle",
           "lon": [
            79.56521739130434
           ],
           "marker": {
            "color": "#636efa",
            "size": [
             5
            ],
            "sizemode": "area",
            "sizeref": 0.025
           },
           "mode": "markers",
           "name": "path_no_obstacle",
           "showlegend": true,
           "subplot": "mapbox",
           "type": "scattermapbox"
          },
          {
           "hovertemplate": "<b>%{hovertext}</b><br><br>type=path_with_obstacle<br>timestep=14400.0<br>size=%{marker.size}<br>lat=%{lat}<br>lon=%{lon}<extra></extra>",
           "hovertext": [
            "path_with_obstacle"
           ],
           "lat": [
            -40.67562724014337
           ],
           "legendgroup": "path_with_obstacle",
           "lon": [
            78.82437275985663
           ],
           "marker": {
            "color": "#EF553B",
            "size": [
             5
            ],
            "sizemode": "area",
            "sizeref": 0.025
           },
           "mode": "markers",
           "name": "path_with_obstacle",
           "showlegend": true,
           "subplot": "mapbox",
           "type": "scattermapbox"
          }
         ],
         "name": "14400.0"
        },
        {
         "data": [
          {
           "hovertemplate": "<b>%{hovertext}</b><br><br>type=path_no_obstacle<br>timestep=14600.0<br>size=%{marker.size}<br>lat=%{lat}<br>lon=%{lon}<extra></extra>",
           "hovertext": [
            "path_no_obstacle"
           ],
           "lat": [
            -43.5
           ],
           "legendgroup": "path_no_obstacle",
           "lon": [
            77.0807453416149
           ],
           "marker": {
            "color": "#636efa",
            "size": [
             5
            ],
            "sizemode": "area",
            "sizeref": 0.025
           },
           "mode": "markers",
           "name": "path_no_obstacle",
           "showlegend": true,
           "subplot": "mapbox",
           "type": "scattermapbox"
          },
          {
           "hovertemplate": "<b>%{hovertext}</b><br><br>type=path_with_obstacle<br>timestep=14600.0<br>size=%{marker.size}<br>lat=%{lat}<br>lon=%{lon}<extra></extra>",
           "hovertext": [
            "path_with_obstacle"
           ],
           "lat": [
            -42.11594202898551
           ],
           "legendgroup": "path_with_obstacle",
           "lon": [
            77.3840579710145
           ],
           "marker": {
            "color": "#EF553B",
            "size": [
             5
            ],
            "sizemode": "area",
            "sizeref": 0.025
           },
           "mode": "markers",
           "name": "path_with_obstacle",
           "showlegend": true,
           "subplot": "mapbox",
           "type": "scattermapbox"
          }
         ],
         "name": "14600.0"
        },
        {
         "data": [
          {
           "hovertemplate": "<b>%{hovertext}</b><br><br>type=path_no_obstacle<br>timestep=14800.0<br>size=%{marker.size}<br>lat=%{lat}<br>lon=%{lon}<extra></extra>",
           "hovertext": [
            "path_no_obstacle"
           ],
           "lat": [
            -43.5
           ],
           "legendgroup": "path_no_obstacle",
           "lon": [
            74.59627329192547
           ],
           "marker": {
            "color": "#636efa",
            "size": [
             5
            ],
            "sizemode": "area",
            "sizeref": 0.025
           },
           "mode": "markers",
           "name": "path_no_obstacle",
           "showlegend": true,
           "subplot": "mapbox",
           "type": "scattermapbox"
          },
          {
           "hovertemplate": "<b>%{hovertext}</b><br><br>type=path_with_obstacle<br>timestep=14800.0<br>size=%{marker.size}<br>lat=%{lat}<br>lon=%{lon}<extra></extra>",
           "hovertext": [
            "path_with_obstacle"
           ],
           "lat": [
            -43.5
           ],
           "legendgroup": "path_with_obstacle",
           "lon": [
            75.88819875776397
           ],
           "marker": {
            "color": "#EF553B",
            "size": [
             5
            ],
            "sizemode": "area",
            "sizeref": 0.025
           },
           "mode": "markers",
           "name": "path_with_obstacle",
           "showlegend": true,
           "subplot": "mapbox",
           "type": "scattermapbox"
          }
         ],
         "name": "14800.0"
        },
        {
         "data": [
          {
           "hovertemplate": "<b>%{hovertext}</b><br><br>type=path_no_obstacle<br>timestep=15000.0<br>size=%{marker.size}<br>lat=%{lat}<br>lon=%{lon}<extra></extra>",
           "hovertext": [
            "path_no_obstacle"
           ],
           "lat": [
            -43.5
           ],
           "legendgroup": "path_no_obstacle",
           "lon": [
            72.11180124223603
           ],
           "marker": {
            "color": "#636efa",
            "size": [
             5
            ],
            "sizemode": "area",
            "sizeref": 0.025
           },
           "mode": "markers",
           "name": "path_no_obstacle",
           "showlegend": true,
           "subplot": "mapbox",
           "type": "scattermapbox"
          },
          {
           "hovertemplate": "<b>%{hovertext}</b><br><br>type=path_with_obstacle<br>timestep=15000.0<br>size=%{marker.size}<br>lat=%{lat}<br>lon=%{lon}<extra></extra>",
           "hovertext": [
            "path_with_obstacle"
           ],
           "lat": [
            -43.5
           ],
           "legendgroup": "path_with_obstacle",
           "lon": [
            73.40372670807453
           ],
           "marker": {
            "color": "#EF553B",
            "size": [
             5
            ],
            "sizemode": "area",
            "sizeref": 0.025
           },
           "mode": "markers",
           "name": "path_with_obstacle",
           "showlegend": true,
           "subplot": "mapbox",
           "type": "scattermapbox"
          }
         ],
         "name": "15000.0"
        },
        {
         "data": [
          {
           "hovertemplate": "<b>%{hovertext}</b><br><br>type=path_no_obstacle<br>timestep=15200.0<br>size=%{marker.size}<br>lat=%{lat}<br>lon=%{lon}<extra></extra>",
           "hovertext": [
            "path_no_obstacle"
           ],
           "lat": [
            -43.5
           ],
           "legendgroup": "path_no_obstacle",
           "lon": [
            69.62732919254658
           ],
           "marker": {
            "color": "#636efa",
            "size": [
             5
            ],
            "sizemode": "area",
            "sizeref": 0.025
           },
           "mode": "markers",
           "name": "path_no_obstacle",
           "showlegend": true,
           "subplot": "mapbox",
           "type": "scattermapbox"
          },
          {
           "hovertemplate": "<b>%{hovertext}</b><br><br>type=path_with_obstacle<br>timestep=15200.0<br>size=%{marker.size}<br>lat=%{lat}<br>lon=%{lon}<extra></extra>",
           "hovertext": [
            "path_with_obstacle"
           ],
           "lat": [
            -43.5
           ],
           "legendgroup": "path_with_obstacle",
           "lon": [
            70.9192546583851
           ],
           "marker": {
            "color": "#EF553B",
            "size": [
             5
            ],
            "sizemode": "area",
            "sizeref": 0.025
           },
           "mode": "markers",
           "name": "path_with_obstacle",
           "showlegend": true,
           "subplot": "mapbox",
           "type": "scattermapbox"
          }
         ],
         "name": "15200.0"
        },
        {
         "data": [
          {
           "hovertemplate": "<b>%{hovertext}</b><br><br>type=path_no_obstacle<br>timestep=15400.0<br>size=%{marker.size}<br>lat=%{lat}<br>lon=%{lon}<extra></extra>",
           "hovertext": [
            "path_no_obstacle"
           ],
           "lat": [
            -43.5
           ],
           "legendgroup": "path_no_obstacle",
           "lon": [
            67.14285714285714
           ],
           "marker": {
            "color": "#636efa",
            "size": [
             5
            ],
            "sizemode": "area",
            "sizeref": 0.025
           },
           "mode": "markers",
           "name": "path_no_obstacle",
           "showlegend": true,
           "subplot": "mapbox",
           "type": "scattermapbox"
          },
          {
           "hovertemplate": "<b>%{hovertext}</b><br><br>type=path_with_obstacle<br>timestep=15400.0<br>size=%{marker.size}<br>lat=%{lat}<br>lon=%{lon}<extra></extra>",
           "hovertext": [
            "path_with_obstacle"
           ],
           "lat": [
            -43.5
           ],
           "legendgroup": "path_with_obstacle",
           "lon": [
            68.43478260869566
           ],
           "marker": {
            "color": "#EF553B",
            "size": [
             5
            ],
            "sizemode": "area",
            "sizeref": 0.025
           },
           "mode": "markers",
           "name": "path_with_obstacle",
           "showlegend": true,
           "subplot": "mapbox",
           "type": "scattermapbox"
          }
         ],
         "name": "15400.0"
        },
        {
         "data": [
          {
           "hovertemplate": "<b>%{hovertext}</b><br><br>type=path_no_obstacle<br>timestep=15600.0<br>size=%{marker.size}<br>lat=%{lat}<br>lon=%{lon}<extra></extra>",
           "hovertext": [
            "path_no_obstacle"
           ],
           "lat": [
            -43.5
           ],
           "legendgroup": "path_no_obstacle",
           "lon": [
            64.65838509316771
           ],
           "marker": {
            "color": "#636efa",
            "size": [
             5
            ],
            "sizemode": "area",
            "sizeref": 0.025
           },
           "mode": "markers",
           "name": "path_no_obstacle",
           "showlegend": true,
           "subplot": "mapbox",
           "type": "scattermapbox"
          },
          {
           "hovertemplate": "<b>%{hovertext}</b><br><br>type=path_with_obstacle<br>timestep=15600.0<br>size=%{marker.size}<br>lat=%{lat}<br>lon=%{lon}<extra></extra>",
           "hovertext": [
            "path_with_obstacle"
           ],
           "lat": [
            -43.5
           ],
           "legendgroup": "path_with_obstacle",
           "lon": [
            65.95031055900621
           ],
           "marker": {
            "color": "#EF553B",
            "size": [
             5
            ],
            "sizemode": "area",
            "sizeref": 0.025
           },
           "mode": "markers",
           "name": "path_with_obstacle",
           "showlegend": true,
           "subplot": "mapbox",
           "type": "scattermapbox"
          }
         ],
         "name": "15600.0"
        },
        {
         "data": [
          {
           "hovertemplate": "<b>%{hovertext}</b><br><br>type=path_no_obstacle<br>timestep=15800.0<br>size=%{marker.size}<br>lat=%{lat}<br>lon=%{lon}<extra></extra>",
           "hovertext": [
            "path_no_obstacle"
           ],
           "lat": [
            -43.5
           ],
           "legendgroup": "path_no_obstacle",
           "lon": [
            62.17391304347826
           ],
           "marker": {
            "color": "#636efa",
            "size": [
             5
            ],
            "sizemode": "area",
            "sizeref": 0.025
           },
           "mode": "markers",
           "name": "path_no_obstacle",
           "showlegend": true,
           "subplot": "mapbox",
           "type": "scattermapbox"
          },
          {
           "hovertemplate": "<b>%{hovertext}</b><br><br>type=path_with_obstacle<br>timestep=15800.0<br>size=%{marker.size}<br>lat=%{lat}<br>lon=%{lon}<extra></extra>",
           "hovertext": [
            "path_with_obstacle"
           ],
           "lat": [
            -43.5
           ],
           "legendgroup": "path_with_obstacle",
           "lon": [
            63.46583850931677
           ],
           "marker": {
            "color": "#EF553B",
            "size": [
             5
            ],
            "sizemode": "area",
            "sizeref": 0.025
           },
           "mode": "markers",
           "name": "path_with_obstacle",
           "showlegend": true,
           "subplot": "mapbox",
           "type": "scattermapbox"
          }
         ],
         "name": "15800.0"
        },
        {
         "data": [
          {
           "hovertemplate": "<b>%{hovertext}</b><br><br>type=path_no_obstacle<br>timestep=16000.0<br>size=%{marker.size}<br>lat=%{lat}<br>lon=%{lon}<extra></extra>",
           "hovertext": [
            "path_no_obstacle"
           ],
           "lat": [
            -43.5
           ],
           "legendgroup": "path_no_obstacle",
           "lon": [
            59.68944099378882
           ],
           "marker": {
            "color": "#636efa",
            "size": [
             5
            ],
            "sizemode": "area",
            "sizeref": 0.025
           },
           "mode": "markers",
           "name": "path_no_obstacle",
           "showlegend": true,
           "subplot": "mapbox",
           "type": "scattermapbox"
          },
          {
           "hovertemplate": "<b>%{hovertext}</b><br><br>type=path_with_obstacle<br>timestep=16000.0<br>size=%{marker.size}<br>lat=%{lat}<br>lon=%{lon}<extra></extra>",
           "hovertext": [
            "path_with_obstacle"
           ],
           "lat": [
            -43.5
           ],
           "legendgroup": "path_with_obstacle",
           "lon": [
            60.98136645962733
           ],
           "marker": {
            "color": "#EF553B",
            "size": [
             5
            ],
            "sizemode": "area",
            "sizeref": 0.025
           },
           "mode": "markers",
           "name": "path_with_obstacle",
           "showlegend": true,
           "subplot": "mapbox",
           "type": "scattermapbox"
          }
         ],
         "name": "16000.0"
        },
        {
         "data": [
          {
           "hovertemplate": "<b>%{hovertext}</b><br><br>type=path_no_obstacle<br>timestep=16200.0<br>size=%{marker.size}<br>lat=%{lat}<br>lon=%{lon}<extra></extra>",
           "hovertext": [
            "path_no_obstacle"
           ],
           "lat": [
            -43.5
           ],
           "legendgroup": "path_no_obstacle",
           "lon": [
            57.20496894409938
           ],
           "marker": {
            "color": "#636efa",
            "size": [
             5
            ],
            "sizemode": "area",
            "sizeref": 0.025
           },
           "mode": "markers",
           "name": "path_no_obstacle",
           "showlegend": true,
           "subplot": "mapbox",
           "type": "scattermapbox"
          },
          {
           "hovertemplate": "<b>%{hovertext}</b><br><br>type=path_with_obstacle<br>timestep=16200.0<br>size=%{marker.size}<br>lat=%{lat}<br>lon=%{lon}<extra></extra>",
           "hovertext": [
            "path_with_obstacle"
           ],
           "lat": [
            -43.5
           ],
           "legendgroup": "path_with_obstacle",
           "lon": [
            58.49689440993789
           ],
           "marker": {
            "color": "#EF553B",
            "size": [
             5
            ],
            "sizemode": "area",
            "sizeref": 0.025
           },
           "mode": "markers",
           "name": "path_with_obstacle",
           "showlegend": true,
           "subplot": "mapbox",
           "type": "scattermapbox"
          }
         ],
         "name": "16200.0"
        },
        {
         "data": [
          {
           "hovertemplate": "<b>%{hovertext}</b><br><br>type=path_no_obstacle<br>timestep=16400.0<br>size=%{marker.size}<br>lat=%{lat}<br>lon=%{lon}<extra></extra>",
           "hovertext": [
            "path_no_obstacle"
           ],
           "lat": [
            -43.5
           ],
           "legendgroup": "path_no_obstacle",
           "lon": [
            54.72049689440994
           ],
           "marker": {
            "color": "#636efa",
            "size": [
             5
            ],
            "sizemode": "area",
            "sizeref": 0.025
           },
           "mode": "markers",
           "name": "path_no_obstacle",
           "showlegend": true,
           "subplot": "mapbox",
           "type": "scattermapbox"
          },
          {
           "hovertemplate": "<b>%{hovertext}</b><br><br>type=path_with_obstacle<br>timestep=16400.0<br>size=%{marker.size}<br>lat=%{lat}<br>lon=%{lon}<extra></extra>",
           "hovertext": [
            "path_with_obstacle"
           ],
           "lat": [
            -43.5
           ],
           "legendgroup": "path_with_obstacle",
           "lon": [
            56.01242236024845
           ],
           "marker": {
            "color": "#EF553B",
            "size": [
             5
            ],
            "sizemode": "area",
            "sizeref": 0.025
           },
           "mode": "markers",
           "name": "path_with_obstacle",
           "showlegend": true,
           "subplot": "mapbox",
           "type": "scattermapbox"
          }
         ],
         "name": "16400.0"
        },
        {
         "data": [
          {
           "hovertemplate": "<b>%{hovertext}</b><br><br>type=path_no_obstacle<br>timestep=16600.0<br>size=%{marker.size}<br>lat=%{lat}<br>lon=%{lon}<extra></extra>",
           "hovertext": [
            "path_no_obstacle"
           ],
           "lat": [
            -43.5
           ],
           "legendgroup": "path_no_obstacle",
           "lon": [
            52.2360248447205
           ],
           "marker": {
            "color": "#636efa",
            "size": [
             5
            ],
            "sizemode": "area",
            "sizeref": 0.025
           },
           "mode": "markers",
           "name": "path_no_obstacle",
           "showlegend": true,
           "subplot": "mapbox",
           "type": "scattermapbox"
          },
          {
           "hovertemplate": "<b>%{hovertext}</b><br><br>type=path_with_obstacle<br>timestep=16600.0<br>size=%{marker.size}<br>lat=%{lat}<br>lon=%{lon}<extra></extra>",
           "hovertext": [
            "path_with_obstacle"
           ],
           "lat": [
            -43.5
           ],
           "legendgroup": "path_with_obstacle",
           "lon": [
            53.52795031055901
           ],
           "marker": {
            "color": "#EF553B",
            "size": [
             5
            ],
            "sizemode": "area",
            "sizeref": 0.025
           },
           "mode": "markers",
           "name": "path_with_obstacle",
           "showlegend": true,
           "subplot": "mapbox",
           "type": "scattermapbox"
          }
         ],
         "name": "16600.0"
        },
        {
         "data": [
          {
           "hovertemplate": "<b>%{hovertext}</b><br><br>type=path_no_obstacle<br>timestep=16800.0<br>size=%{marker.size}<br>lat=%{lat}<br>lon=%{lon}<extra></extra>",
           "hovertext": [
            "path_no_obstacle"
           ],
           "lat": [
            -43.5
           ],
           "legendgroup": "path_no_obstacle",
           "lon": [
            49.75155279503105
           ],
           "marker": {
            "color": "#636efa",
            "size": [
             5
            ],
            "sizemode": "area",
            "sizeref": 0.025
           },
           "mode": "markers",
           "name": "path_no_obstacle",
           "showlegend": true,
           "subplot": "mapbox",
           "type": "scattermapbox"
          },
          {
           "hovertemplate": "<b>%{hovertext}</b><br><br>type=path_with_obstacle<br>timestep=16800.0<br>size=%{marker.size}<br>lat=%{lat}<br>lon=%{lon}<extra></extra>",
           "hovertext": [
            "path_with_obstacle"
           ],
           "lat": [
            -43.5
           ],
           "legendgroup": "path_with_obstacle",
           "lon": [
            51.04347826086956
           ],
           "marker": {
            "color": "#EF553B",
            "size": [
             5
            ],
            "sizemode": "area",
            "sizeref": 0.025
           },
           "mode": "markers",
           "name": "path_with_obstacle",
           "showlegend": true,
           "subplot": "mapbox",
           "type": "scattermapbox"
          }
         ],
         "name": "16800.0"
        },
        {
         "data": [
          {
           "hovertemplate": "<b>%{hovertext}</b><br><br>type=path_no_obstacle<br>timestep=17000.0<br>size=%{marker.size}<br>lat=%{lat}<br>lon=%{lon}<extra></extra>",
           "hovertext": [
            "path_no_obstacle"
           ],
           "lat": [
            -43.5
           ],
           "legendgroup": "path_no_obstacle",
           "lon": [
            47.267080745341616
           ],
           "marker": {
            "color": "#636efa",
            "size": [
             5
            ],
            "sizemode": "area",
            "sizeref": 0.025
           },
           "mode": "markers",
           "name": "path_no_obstacle",
           "showlegend": true,
           "subplot": "mapbox",
           "type": "scattermapbox"
          },
          {
           "hovertemplate": "<b>%{hovertext}</b><br><br>type=path_with_obstacle<br>timestep=17000.0<br>size=%{marker.size}<br>lat=%{lat}<br>lon=%{lon}<extra></extra>",
           "hovertext": [
            "path_with_obstacle"
           ],
           "lat": [
            -43.5
           ],
           "legendgroup": "path_with_obstacle",
           "lon": [
            48.559006211180126
           ],
           "marker": {
            "color": "#EF553B",
            "size": [
             5
            ],
            "sizemode": "area",
            "sizeref": 0.025
           },
           "mode": "markers",
           "name": "path_with_obstacle",
           "showlegend": true,
           "subplot": "mapbox",
           "type": "scattermapbox"
          }
         ],
         "name": "17000.0"
        },
        {
         "data": [
          {
           "hovertemplate": "<b>%{hovertext}</b><br><br>type=path_no_obstacle<br>timestep=17200.0<br>size=%{marker.size}<br>lat=%{lat}<br>lon=%{lon}<extra></extra>",
           "hovertext": [
            "path_no_obstacle"
           ],
           "lat": [
            -43.5
           ],
           "legendgroup": "path_no_obstacle",
           "lon": [
            44.78260869565217
           ],
           "marker": {
            "color": "#636efa",
            "size": [
             5
            ],
            "sizemode": "area",
            "sizeref": 0.025
           },
           "mode": "markers",
           "name": "path_no_obstacle",
           "showlegend": true,
           "subplot": "mapbox",
           "type": "scattermapbox"
          },
          {
           "hovertemplate": "<b>%{hovertext}</b><br><br>type=path_with_obstacle<br>timestep=17200.0<br>size=%{marker.size}<br>lat=%{lat}<br>lon=%{lon}<extra></extra>",
           "hovertext": [
            "path_with_obstacle"
           ],
           "lat": [
            -43.5
           ],
           "legendgroup": "path_with_obstacle",
           "lon": [
            46.07453416149068
           ],
           "marker": {
            "color": "#EF553B",
            "size": [
             5
            ],
            "sizemode": "area",
            "sizeref": 0.025
           },
           "mode": "markers",
           "name": "path_with_obstacle",
           "showlegend": true,
           "subplot": "mapbox",
           "type": "scattermapbox"
          }
         ],
         "name": "17200.0"
        },
        {
         "data": [
          {
           "hovertemplate": "<b>%{hovertext}</b><br><br>type=path_no_obstacle<br>timestep=17400.0<br>size=%{marker.size}<br>lat=%{lat}<br>lon=%{lon}<extra></extra>",
           "hovertext": [
            "path_no_obstacle"
           ],
           "lat": [
            -43.5
           ],
           "legendgroup": "path_no_obstacle",
           "lon": [
            42.298136645962735
           ],
           "marker": {
            "color": "#636efa",
            "size": [
             5
            ],
            "sizemode": "area",
            "sizeref": 0.025
           },
           "mode": "markers",
           "name": "path_no_obstacle",
           "showlegend": true,
           "subplot": "mapbox",
           "type": "scattermapbox"
          },
          {
           "hovertemplate": "<b>%{hovertext}</b><br><br>type=path_with_obstacle<br>timestep=17400.0<br>size=%{marker.size}<br>lat=%{lat}<br>lon=%{lon}<extra></extra>",
           "hovertext": [
            "path_with_obstacle"
           ],
           "lat": [
            -43.5
           ],
           "legendgroup": "path_with_obstacle",
           "lon": [
            43.590062111801245
           ],
           "marker": {
            "color": "#EF553B",
            "size": [
             5
            ],
            "sizemode": "area",
            "sizeref": 0.025
           },
           "mode": "markers",
           "name": "path_with_obstacle",
           "showlegend": true,
           "subplot": "mapbox",
           "type": "scattermapbox"
          }
         ],
         "name": "17400.0"
        },
        {
         "data": [
          {
           "hovertemplate": "<b>%{hovertext}</b><br><br>type=path_no_obstacle<br>timestep=17600.0<br>size=%{marker.size}<br>lat=%{lat}<br>lon=%{lon}<extra></extra>",
           "hovertext": [
            "path_no_obstacle"
           ],
           "lat": [
            -43.5
           ],
           "legendgroup": "path_no_obstacle",
           "lon": [
            39.81366459627329
           ],
           "marker": {
            "color": "#636efa",
            "size": [
             5
            ],
            "sizemode": "area",
            "sizeref": 0.025
           },
           "mode": "markers",
           "name": "path_no_obstacle",
           "showlegend": true,
           "subplot": "mapbox",
           "type": "scattermapbox"
          },
          {
           "hovertemplate": "<b>%{hovertext}</b><br><br>type=path_with_obstacle<br>timestep=17600.0<br>size=%{marker.size}<br>lat=%{lat}<br>lon=%{lon}<extra></extra>",
           "hovertext": [
            "path_with_obstacle"
           ],
           "lat": [
            -43.5
           ],
           "legendgroup": "path_with_obstacle",
           "lon": [
            41.1055900621118
           ],
           "marker": {
            "color": "#EF553B",
            "size": [
             5
            ],
            "sizemode": "area",
            "sizeref": 0.025
           },
           "mode": "markers",
           "name": "path_with_obstacle",
           "showlegend": true,
           "subplot": "mapbox",
           "type": "scattermapbox"
          }
         ],
         "name": "17600.0"
        },
        {
         "data": [
          {
           "hovertemplate": "<b>%{hovertext}</b><br><br>type=path_no_obstacle<br>timestep=17800.0<br>size=%{marker.size}<br>lat=%{lat}<br>lon=%{lon}<extra></extra>",
           "hovertext": [
            "path_no_obstacle"
           ],
           "lat": [
            -43.5
           ],
           "legendgroup": "path_no_obstacle",
           "lon": [
            37.329192546583855
           ],
           "marker": {
            "color": "#636efa",
            "size": [
             5
            ],
            "sizemode": "area",
            "sizeref": 0.025
           },
           "mode": "markers",
           "name": "path_no_obstacle",
           "showlegend": true,
           "subplot": "mapbox",
           "type": "scattermapbox"
          },
          {
           "hovertemplate": "<b>%{hovertext}</b><br><br>type=path_with_obstacle<br>timestep=17800.0<br>size=%{marker.size}<br>lat=%{lat}<br>lon=%{lon}<extra></extra>",
           "hovertext": [
            "path_with_obstacle"
           ],
           "lat": [
            -43.5
           ],
           "legendgroup": "path_with_obstacle",
           "lon": [
            38.62111801242236
           ],
           "marker": {
            "color": "#EF553B",
            "size": [
             5
            ],
            "sizemode": "area",
            "sizeref": 0.025
           },
           "mode": "markers",
           "name": "path_with_obstacle",
           "showlegend": true,
           "subplot": "mapbox",
           "type": "scattermapbox"
          }
         ],
         "name": "17800.0"
        },
        {
         "data": [
          {
           "hovertemplate": "<b>%{hovertext}</b><br><br>type=path_no_obstacle<br>timestep=18000.0<br>size=%{marker.size}<br>lat=%{lat}<br>lon=%{lon}<extra></extra>",
           "hovertext": [
            "path_no_obstacle"
           ],
           "lat": [
            -43.5
           ],
           "legendgroup": "path_no_obstacle",
           "lon": [
            34.84472049689441
           ],
           "marker": {
            "color": "#636efa",
            "size": [
             5
            ],
            "sizemode": "area",
            "sizeref": 0.025
           },
           "mode": "markers",
           "name": "path_no_obstacle",
           "showlegend": true,
           "subplot": "mapbox",
           "type": "scattermapbox"
          },
          {
           "hovertemplate": "<b>%{hovertext}</b><br><br>type=path_with_obstacle<br>timestep=18000.0<br>size=%{marker.size}<br>lat=%{lat}<br>lon=%{lon}<extra></extra>",
           "hovertext": [
            "path_with_obstacle"
           ],
           "lat": [
            -43.5
           ],
           "legendgroup": "path_with_obstacle",
           "lon": [
            36.13664596273292
           ],
           "marker": {
            "color": "#EF553B",
            "size": [
             5
            ],
            "sizemode": "area",
            "sizeref": 0.025
           },
           "mode": "markers",
           "name": "path_with_obstacle",
           "showlegend": true,
           "subplot": "mapbox",
           "type": "scattermapbox"
          }
         ],
         "name": "18000.0"
        },
        {
         "data": [
          {
           "hovertemplate": "<b>%{hovertext}</b><br><br>type=path_no_obstacle<br>timestep=18200.0<br>size=%{marker.size}<br>lat=%{lat}<br>lon=%{lon}<extra></extra>",
           "hovertext": [
            "path_no_obstacle"
           ],
           "lat": [
            -43.5
           ],
           "legendgroup": "path_no_obstacle",
           "lon": [
            32.36024844720497
           ],
           "marker": {
            "color": "#636efa",
            "size": [
             5
            ],
            "sizemode": "area",
            "sizeref": 0.025
           },
           "mode": "markers",
           "name": "path_no_obstacle",
           "showlegend": true,
           "subplot": "mapbox",
           "type": "scattermapbox"
          },
          {
           "hovertemplate": "<b>%{hovertext}</b><br><br>type=path_with_obstacle<br>timestep=18200.0<br>size=%{marker.size}<br>lat=%{lat}<br>lon=%{lon}<extra></extra>",
           "hovertext": [
            "path_with_obstacle"
           ],
           "lat": [
            -43.5
           ],
           "legendgroup": "path_with_obstacle",
           "lon": [
            33.65217391304348
           ],
           "marker": {
            "color": "#EF553B",
            "size": [
             5
            ],
            "sizemode": "area",
            "sizeref": 0.025
           },
           "mode": "markers",
           "name": "path_with_obstacle",
           "showlegend": true,
           "subplot": "mapbox",
           "type": "scattermapbox"
          }
         ],
         "name": "18200.0"
        },
        {
         "data": [
          {
           "hovertemplate": "<b>%{hovertext}</b><br><br>type=path_no_obstacle<br>timestep=18400.0<br>size=%{marker.size}<br>lat=%{lat}<br>lon=%{lon}<extra></extra>",
           "hovertext": [
            "path_no_obstacle"
           ],
           "lat": [
            -43.5
           ],
           "legendgroup": "path_no_obstacle",
           "lon": [
            29.875776397515526
           ],
           "marker": {
            "color": "#636efa",
            "size": [
             5
            ],
            "sizemode": "area",
            "sizeref": 0.025
           },
           "mode": "markers",
           "name": "path_no_obstacle",
           "showlegend": true,
           "subplot": "mapbox",
           "type": "scattermapbox"
          },
          {
           "hovertemplate": "<b>%{hovertext}</b><br><br>type=path_with_obstacle<br>timestep=18400.0<br>size=%{marker.size}<br>lat=%{lat}<br>lon=%{lon}<extra></extra>",
           "hovertext": [
            "path_with_obstacle"
           ],
           "lat": [
            -43.5
           ],
           "legendgroup": "path_with_obstacle",
           "lon": [
            31.16770186335404
           ],
           "marker": {
            "color": "#EF553B",
            "size": [
             5
            ],
            "sizemode": "area",
            "sizeref": 0.025
           },
           "mode": "markers",
           "name": "path_with_obstacle",
           "showlegend": true,
           "subplot": "mapbox",
           "type": "scattermapbox"
          }
         ],
         "name": "18400.0"
        },
        {
         "data": [
          {
           "hovertemplate": "<b>%{hovertext}</b><br><br>type=path_no_obstacle<br>timestep=18600.0<br>size=%{marker.size}<br>lat=%{lat}<br>lon=%{lon}<extra></extra>",
           "hovertext": [
            "path_no_obstacle"
           ],
           "lat": [
            -43.5
           ],
           "legendgroup": "path_no_obstacle",
           "lon": [
            27.39130434782609
           ],
           "marker": {
            "color": "#636efa",
            "size": [
             5
            ],
            "sizemode": "area",
            "sizeref": 0.025
           },
           "mode": "markers",
           "name": "path_no_obstacle",
           "showlegend": true,
           "subplot": "mapbox",
           "type": "scattermapbox"
          },
          {
           "hovertemplate": "<b>%{hovertext}</b><br><br>type=path_with_obstacle<br>timestep=18600.0<br>size=%{marker.size}<br>lat=%{lat}<br>lon=%{lon}<extra></extra>",
           "hovertext": [
            "path_with_obstacle"
           ],
           "lat": [
            -43.5
           ],
           "legendgroup": "path_with_obstacle",
           "lon": [
            28.6832298136646
           ],
           "marker": {
            "color": "#EF553B",
            "size": [
             5
            ],
            "sizemode": "area",
            "sizeref": 0.025
           },
           "mode": "markers",
           "name": "path_with_obstacle",
           "showlegend": true,
           "subplot": "mapbox",
           "type": "scattermapbox"
          }
         ],
         "name": "18600.0"
        },
        {
         "data": [
          {
           "hovertemplate": "<b>%{hovertext}</b><br><br>type=path_with_obstacle<br>timestep=18800.0<br>size=%{marker.size}<br>lat=%{lat}<br>lon=%{lon}<extra></extra>",
           "hovertext": [
            "path_with_obstacle"
           ],
           "lat": [
            -43.5
           ],
           "legendgroup": "path_with_obstacle",
           "lon": [
            26.19875776397516
           ],
           "marker": {
            "color": "#EF553B",
            "size": [
             5
            ],
            "sizemode": "area",
            "sizeref": 0.025
           },
           "mode": "markers",
           "name": "path_with_obstacle",
           "showlegend": true,
           "subplot": "mapbox",
           "type": "scattermapbox"
          }
         ],
         "name": "18800.0"
        }
       ],
       "layout": {
        "legend": {
         "itemsizing": "constant",
         "title": {
          "text": "type"
         },
         "tracegroupgap": 0
        },
        "mapbox": {
         "accesstoken": "pk.eyJ1IjoieWVtaS0yMyIsImEiOiJjbDEzZzl6MWswZWg5M2lzNmx4dGoza2U5In0.meLrG_2lR0ob4ZqA_ZGiPw",
         "center": {
          "lat": -7.133472289993713,
          "lon": 103.89549158304813
         },
         "domain": {
          "x": [
           0,
           1
          ],
          "y": [
           0,
           1
          ]
         },
         "style": "basic",
         "zoom": 1
        },
        "margin": {
         "t": 60
        },
        "sliders": [
         {
          "active": 0,
          "currentvalue": {
           "prefix": "timestep="
          },
          "len": 0.9,
          "pad": {
           "b": 10,
           "t": 60
          },
          "steps": [
           {
            "args": [
             [
              "0.0"
             ],
             {
              "frame": {
               "duration": 0,
               "redraw": true
              },
              "fromcurrent": true,
              "mode": "immediate",
              "transition": {
               "duration": 0,
               "easing": "linear"
              }
             }
            ],
            "label": "0.0",
            "method": "animate"
           },
           {
            "args": [
             [
              "200.0"
             ],
             {
              "frame": {
               "duration": 0,
               "redraw": true
              },
              "fromcurrent": true,
              "mode": "immediate",
              "transition": {
               "duration": 0,
               "easing": "linear"
              }
             }
            ],
            "label": "200.0",
            "method": "animate"
           },
           {
            "args": [
             [
              "400.0"
             ],
             {
              "frame": {
               "duration": 0,
               "redraw": true
              },
              "fromcurrent": true,
              "mode": "immediate",
              "transition": {
               "duration": 0,
               "easing": "linear"
              }
             }
            ],
            "label": "400.0",
            "method": "animate"
           },
           {
            "args": [
             [
              "600.0"
             ],
             {
              "frame": {
               "duration": 0,
               "redraw": true
              },
              "fromcurrent": true,
              "mode": "immediate",
              "transition": {
               "duration": 0,
               "easing": "linear"
              }
             }
            ],
            "label": "600.0",
            "method": "animate"
           },
           {
            "args": [
             [
              "800.0"
             ],
             {
              "frame": {
               "duration": 0,
               "redraw": true
              },
              "fromcurrent": true,
              "mode": "immediate",
              "transition": {
               "duration": 0,
               "easing": "linear"
              }
             }
            ],
            "label": "800.0",
            "method": "animate"
           },
           {
            "args": [
             [
              "1000.0"
             ],
             {
              "frame": {
               "duration": 0,
               "redraw": true
              },
              "fromcurrent": true,
              "mode": "immediate",
              "transition": {
               "duration": 0,
               "easing": "linear"
              }
             }
            ],
            "label": "1000.0",
            "method": "animate"
           },
           {
            "args": [
             [
              "1200.0"
             ],
             {
              "frame": {
               "duration": 0,
               "redraw": true
              },
              "fromcurrent": true,
              "mode": "immediate",
              "transition": {
               "duration": 0,
               "easing": "linear"
              }
             }
            ],
            "label": "1200.0",
            "method": "animate"
           },
           {
            "args": [
             [
              "1400.0"
             ],
             {
              "frame": {
               "duration": 0,
               "redraw": true
              },
              "fromcurrent": true,
              "mode": "immediate",
              "transition": {
               "duration": 0,
               "easing": "linear"
              }
             }
            ],
            "label": "1400.0",
            "method": "animate"
           },
           {
            "args": [
             [
              "1600.0"
             ],
             {
              "frame": {
               "duration": 0,
               "redraw": true
              },
              "fromcurrent": true,
              "mode": "immediate",
              "transition": {
               "duration": 0,
               "easing": "linear"
              }
             }
            ],
            "label": "1600.0",
            "method": "animate"
           },
           {
            "args": [
             [
              "1800.0"
             ],
             {
              "frame": {
               "duration": 0,
               "redraw": true
              },
              "fromcurrent": true,
              "mode": "immediate",
              "transition": {
               "duration": 0,
               "easing": "linear"
              }
             }
            ],
            "label": "1800.0",
            "method": "animate"
           },
           {
            "args": [
             [
              "2000.0"
             ],
             {
              "frame": {
               "duration": 0,
               "redraw": true
              },
              "fromcurrent": true,
              "mode": "immediate",
              "transition": {
               "duration": 0,
               "easing": "linear"
              }
             }
            ],
            "label": "2000.0",
            "method": "animate"
           },
           {
            "args": [
             [
              "2200.0"
             ],
             {
              "frame": {
               "duration": 0,
               "redraw": true
              },
              "fromcurrent": true,
              "mode": "immediate",
              "transition": {
               "duration": 0,
               "easing": "linear"
              }
             }
            ],
            "label": "2200.0",
            "method": "animate"
           },
           {
            "args": [
             [
              "2400.0"
             ],
             {
              "frame": {
               "duration": 0,
               "redraw": true
              },
              "fromcurrent": true,
              "mode": "immediate",
              "transition": {
               "duration": 0,
               "easing": "linear"
              }
             }
            ],
            "label": "2400.0",
            "method": "animate"
           },
           {
            "args": [
             [
              "2600.0"
             ],
             {
              "frame": {
               "duration": 0,
               "redraw": true
              },
              "fromcurrent": true,
              "mode": "immediate",
              "transition": {
               "duration": 0,
               "easing": "linear"
              }
             }
            ],
            "label": "2600.0",
            "method": "animate"
           },
           {
            "args": [
             [
              "2800.0"
             ],
             {
              "frame": {
               "duration": 0,
               "redraw": true
              },
              "fromcurrent": true,
              "mode": "immediate",
              "transition": {
               "duration": 0,
               "easing": "linear"
              }
             }
            ],
            "label": "2800.0",
            "method": "animate"
           },
           {
            "args": [
             [
              "3000.0"
             ],
             {
              "frame": {
               "duration": 0,
               "redraw": true
              },
              "fromcurrent": true,
              "mode": "immediate",
              "transition": {
               "duration": 0,
               "easing": "linear"
              }
             }
            ],
            "label": "3000.0",
            "method": "animate"
           },
           {
            "args": [
             [
              "3200.0"
             ],
             {
              "frame": {
               "duration": 0,
               "redraw": true
              },
              "fromcurrent": true,
              "mode": "immediate",
              "transition": {
               "duration": 0,
               "easing": "linear"
              }
             }
            ],
            "label": "3200.0",
            "method": "animate"
           },
           {
            "args": [
             [
              "3400.0"
             ],
             {
              "frame": {
               "duration": 0,
               "redraw": true
              },
              "fromcurrent": true,
              "mode": "immediate",
              "transition": {
               "duration": 0,
               "easing": "linear"
              }
             }
            ],
            "label": "3400.0",
            "method": "animate"
           },
           {
            "args": [
             [
              "3600.0"
             ],
             {
              "frame": {
               "duration": 0,
               "redraw": true
              },
              "fromcurrent": true,
              "mode": "immediate",
              "transition": {
               "duration": 0,
               "easing": "linear"
              }
             }
            ],
            "label": "3600.0",
            "method": "animate"
           },
           {
            "args": [
             [
              "3800.0"
             ],
             {
              "frame": {
               "duration": 0,
               "redraw": true
              },
              "fromcurrent": true,
              "mode": "immediate",
              "transition": {
               "duration": 0,
               "easing": "linear"
              }
             }
            ],
            "label": "3800.0",
            "method": "animate"
           },
           {
            "args": [
             [
              "4000.0"
             ],
             {
              "frame": {
               "duration": 0,
               "redraw": true
              },
              "fromcurrent": true,
              "mode": "immediate",
              "transition": {
               "duration": 0,
               "easing": "linear"
              }
             }
            ],
            "label": "4000.0",
            "method": "animate"
           },
           {
            "args": [
             [
              "4200.0"
             ],
             {
              "frame": {
               "duration": 0,
               "redraw": true
              },
              "fromcurrent": true,
              "mode": "immediate",
              "transition": {
               "duration": 0,
               "easing": "linear"
              }
             }
            ],
            "label": "4200.0",
            "method": "animate"
           },
           {
            "args": [
             [
              "4400.0"
             ],
             {
              "frame": {
               "duration": 0,
               "redraw": true
              },
              "fromcurrent": true,
              "mode": "immediate",
              "transition": {
               "duration": 0,
               "easing": "linear"
              }
             }
            ],
            "label": "4400.0",
            "method": "animate"
           },
           {
            "args": [
             [
              "4600.0"
             ],
             {
              "frame": {
               "duration": 0,
               "redraw": true
              },
              "fromcurrent": true,
              "mode": "immediate",
              "transition": {
               "duration": 0,
               "easing": "linear"
              }
             }
            ],
            "label": "4600.0",
            "method": "animate"
           },
           {
            "args": [
             [
              "4800.0"
             ],
             {
              "frame": {
               "duration": 0,
               "redraw": true
              },
              "fromcurrent": true,
              "mode": "immediate",
              "transition": {
               "duration": 0,
               "easing": "linear"
              }
             }
            ],
            "label": "4800.0",
            "method": "animate"
           },
           {
            "args": [
             [
              "5000.0"
             ],
             {
              "frame": {
               "duration": 0,
               "redraw": true
              },
              "fromcurrent": true,
              "mode": "immediate",
              "transition": {
               "duration": 0,
               "easing": "linear"
              }
             }
            ],
            "label": "5000.0",
            "method": "animate"
           },
           {
            "args": [
             [
              "5200.0"
             ],
             {
              "frame": {
               "duration": 0,
               "redraw": true
              },
              "fromcurrent": true,
              "mode": "immediate",
              "transition": {
               "duration": 0,
               "easing": "linear"
              }
             }
            ],
            "label": "5200.0",
            "method": "animate"
           },
           {
            "args": [
             [
              "5400.0"
             ],
             {
              "frame": {
               "duration": 0,
               "redraw": true
              },
              "fromcurrent": true,
              "mode": "immediate",
              "transition": {
               "duration": 0,
               "easing": "linear"
              }
             }
            ],
            "label": "5400.0",
            "method": "animate"
           },
           {
            "args": [
             [
              "5600.0"
             ],
             {
              "frame": {
               "duration": 0,
               "redraw": true
              },
              "fromcurrent": true,
              "mode": "immediate",
              "transition": {
               "duration": 0,
               "easing": "linear"
              }
             }
            ],
            "label": "5600.0",
            "method": "animate"
           },
           {
            "args": [
             [
              "5800.0"
             ],
             {
              "frame": {
               "duration": 0,
               "redraw": true
              },
              "fromcurrent": true,
              "mode": "immediate",
              "transition": {
               "duration": 0,
               "easing": "linear"
              }
             }
            ],
            "label": "5800.0",
            "method": "animate"
           },
           {
            "args": [
             [
              "6000.0"
             ],
             {
              "frame": {
               "duration": 0,
               "redraw": true
              },
              "fromcurrent": true,
              "mode": "immediate",
              "transition": {
               "duration": 0,
               "easing": "linear"
              }
             }
            ],
            "label": "6000.0",
            "method": "animate"
           },
           {
            "args": [
             [
              "6200.0"
             ],
             {
              "frame": {
               "duration": 0,
               "redraw": true
              },
              "fromcurrent": true,
              "mode": "immediate",
              "transition": {
               "duration": 0,
               "easing": "linear"
              }
             }
            ],
            "label": "6200.0",
            "method": "animate"
           },
           {
            "args": [
             [
              "6400.0"
             ],
             {
              "frame": {
               "duration": 0,
               "redraw": true
              },
              "fromcurrent": true,
              "mode": "immediate",
              "transition": {
               "duration": 0,
               "easing": "linear"
              }
             }
            ],
            "label": "6400.0",
            "method": "animate"
           },
           {
            "args": [
             [
              "6600.0"
             ],
             {
              "frame": {
               "duration": 0,
               "redraw": true
              },
              "fromcurrent": true,
              "mode": "immediate",
              "transition": {
               "duration": 0,
               "easing": "linear"
              }
             }
            ],
            "label": "6600.0",
            "method": "animate"
           },
           {
            "args": [
             [
              "6800.0"
             ],
             {
              "frame": {
               "duration": 0,
               "redraw": true
              },
              "fromcurrent": true,
              "mode": "immediate",
              "transition": {
               "duration": 0,
               "easing": "linear"
              }
             }
            ],
            "label": "6800.0",
            "method": "animate"
           },
           {
            "args": [
             [
              "7000.0"
             ],
             {
              "frame": {
               "duration": 0,
               "redraw": true
              },
              "fromcurrent": true,
              "mode": "immediate",
              "transition": {
               "duration": 0,
               "easing": "linear"
              }
             }
            ],
            "label": "7000.0",
            "method": "animate"
           },
           {
            "args": [
             [
              "7200.0"
             ],
             {
              "frame": {
               "duration": 0,
               "redraw": true
              },
              "fromcurrent": true,
              "mode": "immediate",
              "transition": {
               "duration": 0,
               "easing": "linear"
              }
             }
            ],
            "label": "7200.0",
            "method": "animate"
           },
           {
            "args": [
             [
              "7400.0"
             ],
             {
              "frame": {
               "duration": 0,
               "redraw": true
              },
              "fromcurrent": true,
              "mode": "immediate",
              "transition": {
               "duration": 0,
               "easing": "linear"
              }
             }
            ],
            "label": "7400.0",
            "method": "animate"
           },
           {
            "args": [
             [
              "7600.0"
             ],
             {
              "frame": {
               "duration": 0,
               "redraw": true
              },
              "fromcurrent": true,
              "mode": "immediate",
              "transition": {
               "duration": 0,
               "easing": "linear"
              }
             }
            ],
            "label": "7600.0",
            "method": "animate"
           },
           {
            "args": [
             [
              "7800.0"
             ],
             {
              "frame": {
               "duration": 0,
               "redraw": true
              },
              "fromcurrent": true,
              "mode": "immediate",
              "transition": {
               "duration": 0,
               "easing": "linear"
              }
             }
            ],
            "label": "7800.0",
            "method": "animate"
           },
           {
            "args": [
             [
              "8000.0"
             ],
             {
              "frame": {
               "duration": 0,
               "redraw": true
              },
              "fromcurrent": true,
              "mode": "immediate",
              "transition": {
               "duration": 0,
               "easing": "linear"
              }
             }
            ],
            "label": "8000.0",
            "method": "animate"
           },
           {
            "args": [
             [
              "8200.0"
             ],
             {
              "frame": {
               "duration": 0,
               "redraw": true
              },
              "fromcurrent": true,
              "mode": "immediate",
              "transition": {
               "duration": 0,
               "easing": "linear"
              }
             }
            ],
            "label": "8200.0",
            "method": "animate"
           },
           {
            "args": [
             [
              "8400.0"
             ],
             {
              "frame": {
               "duration": 0,
               "redraw": true
              },
              "fromcurrent": true,
              "mode": "immediate",
              "transition": {
               "duration": 0,
               "easing": "linear"
              }
             }
            ],
            "label": "8400.0",
            "method": "animate"
           },
           {
            "args": [
             [
              "8600.0"
             ],
             {
              "frame": {
               "duration": 0,
               "redraw": true
              },
              "fromcurrent": true,
              "mode": "immediate",
              "transition": {
               "duration": 0,
               "easing": "linear"
              }
             }
            ],
            "label": "8600.0",
            "method": "animate"
           },
           {
            "args": [
             [
              "8800.0"
             ],
             {
              "frame": {
               "duration": 0,
               "redraw": true
              },
              "fromcurrent": true,
              "mode": "immediate",
              "transition": {
               "duration": 0,
               "easing": "linear"
              }
             }
            ],
            "label": "8800.0",
            "method": "animate"
           },
           {
            "args": [
             [
              "9000.0"
             ],
             {
              "frame": {
               "duration": 0,
               "redraw": true
              },
              "fromcurrent": true,
              "mode": "immediate",
              "transition": {
               "duration": 0,
               "easing": "linear"
              }
             }
            ],
            "label": "9000.0",
            "method": "animate"
           },
           {
            "args": [
             [
              "9200.0"
             ],
             {
              "frame": {
               "duration": 0,
               "redraw": true
              },
              "fromcurrent": true,
              "mode": "immediate",
              "transition": {
               "duration": 0,
               "easing": "linear"
              }
             }
            ],
            "label": "9200.0",
            "method": "animate"
           },
           {
            "args": [
             [
              "9400.0"
             ],
             {
              "frame": {
               "duration": 0,
               "redraw": true
              },
              "fromcurrent": true,
              "mode": "immediate",
              "transition": {
               "duration": 0,
               "easing": "linear"
              }
             }
            ],
            "label": "9400.0",
            "method": "animate"
           },
           {
            "args": [
             [
              "9600.0"
             ],
             {
              "frame": {
               "duration": 0,
               "redraw": true
              },
              "fromcurrent": true,
              "mode": "immediate",
              "transition": {
               "duration": 0,
               "easing": "linear"
              }
             }
            ],
            "label": "9600.0",
            "method": "animate"
           },
           {
            "args": [
             [
              "9800.0"
             ],
             {
              "frame": {
               "duration": 0,
               "redraw": true
              },
              "fromcurrent": true,
              "mode": "immediate",
              "transition": {
               "duration": 0,
               "easing": "linear"
              }
             }
            ],
            "label": "9800.0",
            "method": "animate"
           },
           {
            "args": [
             [
              "10000.0"
             ],
             {
              "frame": {
               "duration": 0,
               "redraw": true
              },
              "fromcurrent": true,
              "mode": "immediate",
              "transition": {
               "duration": 0,
               "easing": "linear"
              }
             }
            ],
            "label": "10000.0",
            "method": "animate"
           },
           {
            "args": [
             [
              "10200.0"
             ],
             {
              "frame": {
               "duration": 0,
               "redraw": true
              },
              "fromcurrent": true,
              "mode": "immediate",
              "transition": {
               "duration": 0,
               "easing": "linear"
              }
             }
            ],
            "label": "10200.0",
            "method": "animate"
           },
           {
            "args": [
             [
              "10400.0"
             ],
             {
              "frame": {
               "duration": 0,
               "redraw": true
              },
              "fromcurrent": true,
              "mode": "immediate",
              "transition": {
               "duration": 0,
               "easing": "linear"
              }
             }
            ],
            "label": "10400.0",
            "method": "animate"
           },
           {
            "args": [
             [
              "10600.0"
             ],
             {
              "frame": {
               "duration": 0,
               "redraw": true
              },
              "fromcurrent": true,
              "mode": "immediate",
              "transition": {
               "duration": 0,
               "easing": "linear"
              }
             }
            ],
            "label": "10600.0",
            "method": "animate"
           },
           {
            "args": [
             [
              "10800.0"
             ],
             {
              "frame": {
               "duration": 0,
               "redraw": true
              },
              "fromcurrent": true,
              "mode": "immediate",
              "transition": {
               "duration": 0,
               "easing": "linear"
              }
             }
            ],
            "label": "10800.0",
            "method": "animate"
           },
           {
            "args": [
             [
              "11000.0"
             ],
             {
              "frame": {
               "duration": 0,
               "redraw": true
              },
              "fromcurrent": true,
              "mode": "immediate",
              "transition": {
               "duration": 0,
               "easing": "linear"
              }
             }
            ],
            "label": "11000.0",
            "method": "animate"
           },
           {
            "args": [
             [
              "11200.0"
             ],
             {
              "frame": {
               "duration": 0,
               "redraw": true
              },
              "fromcurrent": true,
              "mode": "immediate",
              "transition": {
               "duration": 0,
               "easing": "linear"
              }
             }
            ],
            "label": "11200.0",
            "method": "animate"
           },
           {
            "args": [
             [
              "11400.0"
             ],
             {
              "frame": {
               "duration": 0,
               "redraw": true
              },
              "fromcurrent": true,
              "mode": "immediate",
              "transition": {
               "duration": 0,
               "easing": "linear"
              }
             }
            ],
            "label": "11400.0",
            "method": "animate"
           },
           {
            "args": [
             [
              "11600.0"
             ],
             {
              "frame": {
               "duration": 0,
               "redraw": true
              },
              "fromcurrent": true,
              "mode": "immediate",
              "transition": {
               "duration": 0,
               "easing": "linear"
              }
             }
            ],
            "label": "11600.0",
            "method": "animate"
           },
           {
            "args": [
             [
              "11800.0"
             ],
             {
              "frame": {
               "duration": 0,
               "redraw": true
              },
              "fromcurrent": true,
              "mode": "immediate",
              "transition": {
               "duration": 0,
               "easing": "linear"
              }
             }
            ],
            "label": "11800.0",
            "method": "animate"
           },
           {
            "args": [
             [
              "12000.0"
             ],
             {
              "frame": {
               "duration": 0,
               "redraw": true
              },
              "fromcurrent": true,
              "mode": "immediate",
              "transition": {
               "duration": 0,
               "easing": "linear"
              }
             }
            ],
            "label": "12000.0",
            "method": "animate"
           },
           {
            "args": [
             [
              "12200.0"
             ],
             {
              "frame": {
               "duration": 0,
               "redraw": true
              },
              "fromcurrent": true,
              "mode": "immediate",
              "transition": {
               "duration": 0,
               "easing": "linear"
              }
             }
            ],
            "label": "12200.0",
            "method": "animate"
           },
           {
            "args": [
             [
              "12400.0"
             ],
             {
              "frame": {
               "duration": 0,
               "redraw": true
              },
              "fromcurrent": true,
              "mode": "immediate",
              "transition": {
               "duration": 0,
               "easing": "linear"
              }
             }
            ],
            "label": "12400.0",
            "method": "animate"
           },
           {
            "args": [
             [
              "12600.0"
             ],
             {
              "frame": {
               "duration": 0,
               "redraw": true
              },
              "fromcurrent": true,
              "mode": "immediate",
              "transition": {
               "duration": 0,
               "easing": "linear"
              }
             }
            ],
            "label": "12600.0",
            "method": "animate"
           },
           {
            "args": [
             [
              "12800.0"
             ],
             {
              "frame": {
               "duration": 0,
               "redraw": true
              },
              "fromcurrent": true,
              "mode": "immediate",
              "transition": {
               "duration": 0,
               "easing": "linear"
              }
             }
            ],
            "label": "12800.0",
            "method": "animate"
           },
           {
            "args": [
             [
              "13000.0"
             ],
             {
              "frame": {
               "duration": 0,
               "redraw": true
              },
              "fromcurrent": true,
              "mode": "immediate",
              "transition": {
               "duration": 0,
               "easing": "linear"
              }
             }
            ],
            "label": "13000.0",
            "method": "animate"
           },
           {
            "args": [
             [
              "13200.0"
             ],
             {
              "frame": {
               "duration": 0,
               "redraw": true
              },
              "fromcurrent": true,
              "mode": "immediate",
              "transition": {
               "duration": 0,
               "easing": "linear"
              }
             }
            ],
            "label": "13200.0",
            "method": "animate"
           },
           {
            "args": [
             [
              "13400.0"
             ],
             {
              "frame": {
               "duration": 0,
               "redraw": true
              },
              "fromcurrent": true,
              "mode": "immediate",
              "transition": {
               "duration": 0,
               "easing": "linear"
              }
             }
            ],
            "label": "13400.0",
            "method": "animate"
           },
           {
            "args": [
             [
              "13600.0"
             ],
             {
              "frame": {
               "duration": 0,
               "redraw": true
              },
              "fromcurrent": true,
              "mode": "immediate",
              "transition": {
               "duration": 0,
               "easing": "linear"
              }
             }
            ],
            "label": "13600.0",
            "method": "animate"
           },
           {
            "args": [
             [
              "13800.0"
             ],
             {
              "frame": {
               "duration": 0,
               "redraw": true
              },
              "fromcurrent": true,
              "mode": "immediate",
              "transition": {
               "duration": 0,
               "easing": "linear"
              }
             }
            ],
            "label": "13800.0",
            "method": "animate"
           },
           {
            "args": [
             [
              "14000.0"
             ],
             {
              "frame": {
               "duration": 0,
               "redraw": true
              },
              "fromcurrent": true,
              "mode": "immediate",
              "transition": {
               "duration": 0,
               "easing": "linear"
              }
             }
            ],
            "label": "14000.0",
            "method": "animate"
           },
           {
            "args": [
             [
              "14200.0"
             ],
             {
              "frame": {
               "duration": 0,
               "redraw": true
              },
              "fromcurrent": true,
              "mode": "immediate",
              "transition": {
               "duration": 0,
               "easing": "linear"
              }
             }
            ],
            "label": "14200.0",
            "method": "animate"
           },
           {
            "args": [
             [
              "14400.0"
             ],
             {
              "frame": {
               "duration": 0,
               "redraw": true
              },
              "fromcurrent": true,
              "mode": "immediate",
              "transition": {
               "duration": 0,
               "easing": "linear"
              }
             }
            ],
            "label": "14400.0",
            "method": "animate"
           },
           {
            "args": [
             [
              "14600.0"
             ],
             {
              "frame": {
               "duration": 0,
               "redraw": true
              },
              "fromcurrent": true,
              "mode": "immediate",
              "transition": {
               "duration": 0,
               "easing": "linear"
              }
             }
            ],
            "label": "14600.0",
            "method": "animate"
           },
           {
            "args": [
             [
              "14800.0"
             ],
             {
              "frame": {
               "duration": 0,
               "redraw": true
              },
              "fromcurrent": true,
              "mode": "immediate",
              "transition": {
               "duration": 0,
               "easing": "linear"
              }
             }
            ],
            "label": "14800.0",
            "method": "animate"
           },
           {
            "args": [
             [
              "15000.0"
             ],
             {
              "frame": {
               "duration": 0,
               "redraw": true
              },
              "fromcurrent": true,
              "mode": "immediate",
              "transition": {
               "duration": 0,
               "easing": "linear"
              }
             }
            ],
            "label": "15000.0",
            "method": "animate"
           },
           {
            "args": [
             [
              "15200.0"
             ],
             {
              "frame": {
               "duration": 0,
               "redraw": true
              },
              "fromcurrent": true,
              "mode": "immediate",
              "transition": {
               "duration": 0,
               "easing": "linear"
              }
             }
            ],
            "label": "15200.0",
            "method": "animate"
           },
           {
            "args": [
             [
              "15400.0"
             ],
             {
              "frame": {
               "duration": 0,
               "redraw": true
              },
              "fromcurrent": true,
              "mode": "immediate",
              "transition": {
               "duration": 0,
               "easing": "linear"
              }
             }
            ],
            "label": "15400.0",
            "method": "animate"
           },
           {
            "args": [
             [
              "15600.0"
             ],
             {
              "frame": {
               "duration": 0,
               "redraw": true
              },
              "fromcurrent": true,
              "mode": "immediate",
              "transition": {
               "duration": 0,
               "easing": "linear"
              }
             }
            ],
            "label": "15600.0",
            "method": "animate"
           },
           {
            "args": [
             [
              "15800.0"
             ],
             {
              "frame": {
               "duration": 0,
               "redraw": true
              },
              "fromcurrent": true,
              "mode": "immediate",
              "transition": {
               "duration": 0,
               "easing": "linear"
              }
             }
            ],
            "label": "15800.0",
            "method": "animate"
           },
           {
            "args": [
             [
              "16000.0"
             ],
             {
              "frame": {
               "duration": 0,
               "redraw": true
              },
              "fromcurrent": true,
              "mode": "immediate",
              "transition": {
               "duration": 0,
               "easing": "linear"
              }
             }
            ],
            "label": "16000.0",
            "method": "animate"
           },
           {
            "args": [
             [
              "16200.0"
             ],
             {
              "frame": {
               "duration": 0,
               "redraw": true
              },
              "fromcurrent": true,
              "mode": "immediate",
              "transition": {
               "duration": 0,
               "easing": "linear"
              }
             }
            ],
            "label": "16200.0",
            "method": "animate"
           },
           {
            "args": [
             [
              "16400.0"
             ],
             {
              "frame": {
               "duration": 0,
               "redraw": true
              },
              "fromcurrent": true,
              "mode": "immediate",
              "transition": {
               "duration": 0,
               "easing": "linear"
              }
             }
            ],
            "label": "16400.0",
            "method": "animate"
           },
           {
            "args": [
             [
              "16600.0"
             ],
             {
              "frame": {
               "duration": 0,
               "redraw": true
              },
              "fromcurrent": true,
              "mode": "immediate",
              "transition": {
               "duration": 0,
               "easing": "linear"
              }
             }
            ],
            "label": "16600.0",
            "method": "animate"
           },
           {
            "args": [
             [
              "16800.0"
             ],
             {
              "frame": {
               "duration": 0,
               "redraw": true
              },
              "fromcurrent": true,
              "mode": "immediate",
              "transition": {
               "duration": 0,
               "easing": "linear"
              }
             }
            ],
            "label": "16800.0",
            "method": "animate"
           },
           {
            "args": [
             [
              "17000.0"
             ],
             {
              "frame": {
               "duration": 0,
               "redraw": true
              },
              "fromcurrent": true,
              "mode": "immediate",
              "transition": {
               "duration": 0,
               "easing": "linear"
              }
             }
            ],
            "label": "17000.0",
            "method": "animate"
           },
           {
            "args": [
             [
              "17200.0"
             ],
             {
              "frame": {
               "duration": 0,
               "redraw": true
              },
              "fromcurrent": true,
              "mode": "immediate",
              "transition": {
               "duration": 0,
               "easing": "linear"
              }
             }
            ],
            "label": "17200.0",
            "method": "animate"
           },
           {
            "args": [
             [
              "17400.0"
             ],
             {
              "frame": {
               "duration": 0,
               "redraw": true
              },
              "fromcurrent": true,
              "mode": "immediate",
              "transition": {
               "duration": 0,
               "easing": "linear"
              }
             }
            ],
            "label": "17400.0",
            "method": "animate"
           },
           {
            "args": [
             [
              "17600.0"
             ],
             {
              "frame": {
               "duration": 0,
               "redraw": true
              },
              "fromcurrent": true,
              "mode": "immediate",
              "transition": {
               "duration": 0,
               "easing": "linear"
              }
             }
            ],
            "label": "17600.0",
            "method": "animate"
           },
           {
            "args": [
             [
              "17800.0"
             ],
             {
              "frame": {
               "duration": 0,
               "redraw": true
              },
              "fromcurrent": true,
              "mode": "immediate",
              "transition": {
               "duration": 0,
               "easing": "linear"
              }
             }
            ],
            "label": "17800.0",
            "method": "animate"
           },
           {
            "args": [
             [
              "18000.0"
             ],
             {
              "frame": {
               "duration": 0,
               "redraw": true
              },
              "fromcurrent": true,
              "mode": "immediate",
              "transition": {
               "duration": 0,
               "easing": "linear"
              }
             }
            ],
            "label": "18000.0",
            "method": "animate"
           },
           {
            "args": [
             [
              "18200.0"
             ],
             {
              "frame": {
               "duration": 0,
               "redraw": true
              },
              "fromcurrent": true,
              "mode": "immediate",
              "transition": {
               "duration": 0,
               "easing": "linear"
              }
             }
            ],
            "label": "18200.0",
            "method": "animate"
           },
           {
            "args": [
             [
              "18400.0"
             ],
             {
              "frame": {
               "duration": 0,
               "redraw": true
              },
              "fromcurrent": true,
              "mode": "immediate",
              "transition": {
               "duration": 0,
               "easing": "linear"
              }
             }
            ],
            "label": "18400.0",
            "method": "animate"
           },
           {
            "args": [
             [
              "18600.0"
             ],
             {
              "frame": {
               "duration": 0,
               "redraw": true
              },
              "fromcurrent": true,
              "mode": "immediate",
              "transition": {
               "duration": 0,
               "easing": "linear"
              }
             }
            ],
            "label": "18600.0",
            "method": "animate"
           },
           {
            "args": [
             [
              "18800.0"
             ],
             {
              "frame": {
               "duration": 0,
               "redraw": true
              },
              "fromcurrent": true,
              "mode": "immediate",
              "transition": {
               "duration": 0,
               "easing": "linear"
              }
             }
            ],
            "label": "18800.0",
            "method": "animate"
           }
          ],
          "x": 0.1,
          "xanchor": "left",
          "y": 0,
          "yanchor": "top"
         }
        ],
        "template": {
         "data": {
          "bar": [
           {
            "error_x": {
             "color": "#2a3f5f"
            },
            "error_y": {
             "color": "#2a3f5f"
            },
            "marker": {
             "line": {
              "color": "#E5ECF6",
              "width": 0.5
             },
             "pattern": {
              "fillmode": "overlay",
              "size": 10,
              "solidity": 0.2
             }
            },
            "type": "bar"
           }
          ],
          "barpolar": [
           {
            "marker": {
             "line": {
              "color": "#E5ECF6",
              "width": 0.5
             },
             "pattern": {
              "fillmode": "overlay",
              "size": 10,
              "solidity": 0.2
             }
            },
            "type": "barpolar"
           }
          ],
          "carpet": [
           {
            "aaxis": {
             "endlinecolor": "#2a3f5f",
             "gridcolor": "white",
             "linecolor": "white",
             "minorgridcolor": "white",
             "startlinecolor": "#2a3f5f"
            },
            "baxis": {
             "endlinecolor": "#2a3f5f",
             "gridcolor": "white",
             "linecolor": "white",
             "minorgridcolor": "white",
             "startlinecolor": "#2a3f5f"
            },
            "type": "carpet"
           }
          ],
          "choropleth": [
           {
            "colorbar": {
             "outlinewidth": 0,
             "ticks": ""
            },
            "type": "choropleth"
           }
          ],
          "contour": [
           {
            "colorbar": {
             "outlinewidth": 0,
             "ticks": ""
            },
            "colorscale": [
             [
              0,
              "#0d0887"
             ],
             [
              0.1111111111111111,
              "#46039f"
             ],
             [
              0.2222222222222222,
              "#7201a8"
             ],
             [
              0.3333333333333333,
              "#9c179e"
             ],
             [
              0.4444444444444444,
              "#bd3786"
             ],
             [
              0.5555555555555556,
              "#d8576b"
             ],
             [
              0.6666666666666666,
              "#ed7953"
             ],
             [
              0.7777777777777778,
              "#fb9f3a"
             ],
             [
              0.8888888888888888,
              "#fdca26"
             ],
             [
              1,
              "#f0f921"
             ]
            ],
            "type": "contour"
           }
          ],
          "contourcarpet": [
           {
            "colorbar": {
             "outlinewidth": 0,
             "ticks": ""
            },
            "type": "contourcarpet"
           }
          ],
          "heatmap": [
           {
            "colorbar": {
             "outlinewidth": 0,
             "ticks": ""
            },
            "colorscale": [
             [
              0,
              "#0d0887"
             ],
             [
              0.1111111111111111,
              "#46039f"
             ],
             [
              0.2222222222222222,
              "#7201a8"
             ],
             [
              0.3333333333333333,
              "#9c179e"
             ],
             [
              0.4444444444444444,
              "#bd3786"
             ],
             [
              0.5555555555555556,
              "#d8576b"
             ],
             [
              0.6666666666666666,
              "#ed7953"
             ],
             [
              0.7777777777777778,
              "#fb9f3a"
             ],
             [
              0.8888888888888888,
              "#fdca26"
             ],
             [
              1,
              "#f0f921"
             ]
            ],
            "type": "heatmap"
           }
          ],
          "heatmapgl": [
           {
            "colorbar": {
             "outlinewidth": 0,
             "ticks": ""
            },
            "colorscale": [
             [
              0,
              "#0d0887"
             ],
             [
              0.1111111111111111,
              "#46039f"
             ],
             [
              0.2222222222222222,
              "#7201a8"
             ],
             [
              0.3333333333333333,
              "#9c179e"
             ],
             [
              0.4444444444444444,
              "#bd3786"
             ],
             [
              0.5555555555555556,
              "#d8576b"
             ],
             [
              0.6666666666666666,
              "#ed7953"
             ],
             [
              0.7777777777777778,
              "#fb9f3a"
             ],
             [
              0.8888888888888888,
              "#fdca26"
             ],
             [
              1,
              "#f0f921"
             ]
            ],
            "type": "heatmapgl"
           }
          ],
          "histogram": [
           {
            "marker": {
             "pattern": {
              "fillmode": "overlay",
              "size": 10,
              "solidity": 0.2
             }
            },
            "type": "histogram"
           }
          ],
          "histogram2d": [
           {
            "colorbar": {
             "outlinewidth": 0,
             "ticks": ""
            },
            "colorscale": [
             [
              0,
              "#0d0887"
             ],
             [
              0.1111111111111111,
              "#46039f"
             ],
             [
              0.2222222222222222,
              "#7201a8"
             ],
             [
              0.3333333333333333,
              "#9c179e"
             ],
             [
              0.4444444444444444,
              "#bd3786"
             ],
             [
              0.5555555555555556,
              "#d8576b"
             ],
             [
              0.6666666666666666,
              "#ed7953"
             ],
             [
              0.7777777777777778,
              "#fb9f3a"
             ],
             [
              0.8888888888888888,
              "#fdca26"
             ],
             [
              1,
              "#f0f921"
             ]
            ],
            "type": "histogram2d"
           }
          ],
          "histogram2dcontour": [
           {
            "colorbar": {
             "outlinewidth": 0,
             "ticks": ""
            },
            "colorscale": [
             [
              0,
              "#0d0887"
             ],
             [
              0.1111111111111111,
              "#46039f"
             ],
             [
              0.2222222222222222,
              "#7201a8"
             ],
             [
              0.3333333333333333,
              "#9c179e"
             ],
             [
              0.4444444444444444,
              "#bd3786"
             ],
             [
              0.5555555555555556,
              "#d8576b"
             ],
             [
              0.6666666666666666,
              "#ed7953"
             ],
             [
              0.7777777777777778,
              "#fb9f3a"
             ],
             [
              0.8888888888888888,
              "#fdca26"
             ],
             [
              1,
              "#f0f921"
             ]
            ],
            "type": "histogram2dcontour"
           }
          ],
          "mesh3d": [
           {
            "colorbar": {
             "outlinewidth": 0,
             "ticks": ""
            },
            "type": "mesh3d"
           }
          ],
          "parcoords": [
           {
            "line": {
             "colorbar": {
              "outlinewidth": 0,
              "ticks": ""
             }
            },
            "type": "parcoords"
           }
          ],
          "pie": [
           {
            "automargin": true,
            "type": "pie"
           }
          ],
          "scatter": [
           {
            "marker": {
             "colorbar": {
              "outlinewidth": 0,
              "ticks": ""
             }
            },
            "type": "scatter"
           }
          ],
          "scatter3d": [
           {
            "line": {
             "colorbar": {
              "outlinewidth": 0,
              "ticks": ""
             }
            },
            "marker": {
             "colorbar": {
              "outlinewidth": 0,
              "ticks": ""
             }
            },
            "type": "scatter3d"
           }
          ],
          "scattercarpet": [
           {
            "marker": {
             "colorbar": {
              "outlinewidth": 0,
              "ticks": ""
             }
            },
            "type": "scattercarpet"
           }
          ],
          "scattergeo": [
           {
            "marker": {
             "colorbar": {
              "outlinewidth": 0,
              "ticks": ""
             }
            },
            "type": "scattergeo"
           }
          ],
          "scattergl": [
           {
            "marker": {
             "colorbar": {
              "outlinewidth": 0,
              "ticks": ""
             }
            },
            "type": "scattergl"
           }
          ],
          "scattermapbox": [
           {
            "marker": {
             "colorbar": {
              "outlinewidth": 0,
              "ticks": ""
             }
            },
            "type": "scattermapbox"
           }
          ],
          "scatterpolar": [
           {
            "marker": {
             "colorbar": {
              "outlinewidth": 0,
              "ticks": ""
             }
            },
            "type": "scatterpolar"
           }
          ],
          "scatterpolargl": [
           {
            "marker": {
             "colorbar": {
              "outlinewidth": 0,
              "ticks": ""
             }
            },
            "type": "scatterpolargl"
           }
          ],
          "scatterternary": [
           {
            "marker": {
             "colorbar": {
              "outlinewidth": 0,
              "ticks": ""
             }
            },
            "type": "scatterternary"
           }
          ],
          "surface": [
           {
            "colorbar": {
             "outlinewidth": 0,
             "ticks": ""
            },
            "colorscale": [
             [
              0,
              "#0d0887"
             ],
             [
              0.1111111111111111,
              "#46039f"
             ],
             [
              0.2222222222222222,
              "#7201a8"
             ],
             [
              0.3333333333333333,
              "#9c179e"
             ],
             [
              0.4444444444444444,
              "#bd3786"
             ],
             [
              0.5555555555555556,
              "#d8576b"
             ],
             [
              0.6666666666666666,
              "#ed7953"
             ],
             [
              0.7777777777777778,
              "#fb9f3a"
             ],
             [
              0.8888888888888888,
              "#fdca26"
             ],
             [
              1,
              "#f0f921"
             ]
            ],
            "type": "surface"
           }
          ],
          "table": [
           {
            "cells": {
             "fill": {
              "color": "#EBF0F8"
             },
             "line": {
              "color": "white"
             }
            },
            "header": {
             "fill": {
              "color": "#C8D4E3"
             },
             "line": {
              "color": "white"
             }
            },
            "type": "table"
           }
          ]
         },
         "layout": {
          "annotationdefaults": {
           "arrowcolor": "#2a3f5f",
           "arrowhead": 0,
           "arrowwidth": 1
          },
          "autotypenumbers": "strict",
          "coloraxis": {
           "colorbar": {
            "outlinewidth": 0,
            "ticks": ""
           }
          },
          "colorscale": {
           "diverging": [
            [
             0,
             "#8e0152"
            ],
            [
             0.1,
             "#c51b7d"
            ],
            [
             0.2,
             "#de77ae"
            ],
            [
             0.3,
             "#f1b6da"
            ],
            [
             0.4,
             "#fde0ef"
            ],
            [
             0.5,
             "#f7f7f7"
            ],
            [
             0.6,
             "#e6f5d0"
            ],
            [
             0.7,
             "#b8e186"
            ],
            [
             0.8,
             "#7fbc41"
            ],
            [
             0.9,
             "#4d9221"
            ],
            [
             1,
             "#276419"
            ]
           ],
           "sequential": [
            [
             0,
             "#0d0887"
            ],
            [
             0.1111111111111111,
             "#46039f"
            ],
            [
             0.2222222222222222,
             "#7201a8"
            ],
            [
             0.3333333333333333,
             "#9c179e"
            ],
            [
             0.4444444444444444,
             "#bd3786"
            ],
            [
             0.5555555555555556,
             "#d8576b"
            ],
            [
             0.6666666666666666,
             "#ed7953"
            ],
            [
             0.7777777777777778,
             "#fb9f3a"
            ],
            [
             0.8888888888888888,
             "#fdca26"
            ],
            [
             1,
             "#f0f921"
            ]
           ],
           "sequentialminus": [
            [
             0,
             "#0d0887"
            ],
            [
             0.1111111111111111,
             "#46039f"
            ],
            [
             0.2222222222222222,
             "#7201a8"
            ],
            [
             0.3333333333333333,
             "#9c179e"
            ],
            [
             0.4444444444444444,
             "#bd3786"
            ],
            [
             0.5555555555555556,
             "#d8576b"
            ],
            [
             0.6666666666666666,
             "#ed7953"
            ],
            [
             0.7777777777777778,
             "#fb9f3a"
            ],
            [
             0.8888888888888888,
             "#fdca26"
            ],
            [
             1,
             "#f0f921"
            ]
           ]
          },
          "colorway": [
           "#636efa",
           "#EF553B",
           "#00cc96",
           "#ab63fa",
           "#FFA15A",
           "#19d3f3",
           "#FF6692",
           "#B6E880",
           "#FF97FF",
           "#FECB52"
          ],
          "font": {
           "color": "#2a3f5f"
          },
          "geo": {
           "bgcolor": "white",
           "lakecolor": "white",
           "landcolor": "#E5ECF6",
           "showlakes": true,
           "showland": true,
           "subunitcolor": "white"
          },
          "hoverlabel": {
           "align": "left"
          },
          "hovermode": "closest",
          "mapbox": {
           "style": "light"
          },
          "paper_bgcolor": "white",
          "plot_bgcolor": "#E5ECF6",
          "polar": {
           "angularaxis": {
            "gridcolor": "white",
            "linecolor": "white",
            "ticks": ""
           },
           "bgcolor": "#E5ECF6",
           "radialaxis": {
            "gridcolor": "white",
            "linecolor": "white",
            "ticks": ""
           }
          },
          "scene": {
           "xaxis": {
            "backgroundcolor": "#E5ECF6",
            "gridcolor": "white",
            "gridwidth": 2,
            "linecolor": "white",
            "showbackground": true,
            "ticks": "",
            "zerolinecolor": "white"
           },
           "yaxis": {
            "backgroundcolor": "#E5ECF6",
            "gridcolor": "white",
            "gridwidth": 2,
            "linecolor": "white",
            "showbackground": true,
            "ticks": "",
            "zerolinecolor": "white"
           },
           "zaxis": {
            "backgroundcolor": "#E5ECF6",
            "gridcolor": "white",
            "gridwidth": 2,
            "linecolor": "white",
            "showbackground": true,
            "ticks": "",
            "zerolinecolor": "white"
           }
          },
          "shapedefaults": {
           "line": {
            "color": "#2a3f5f"
           }
          },
          "ternary": {
           "aaxis": {
            "gridcolor": "white",
            "linecolor": "white",
            "ticks": ""
           },
           "baxis": {
            "gridcolor": "white",
            "linecolor": "white",
            "ticks": ""
           },
           "bgcolor": "#E5ECF6",
           "caxis": {
            "gridcolor": "white",
            "linecolor": "white",
            "ticks": ""
           }
          },
          "title": {
           "x": 0.05
          },
          "xaxis": {
           "automargin": true,
           "gridcolor": "white",
           "linecolor": "white",
           "ticks": "",
           "title": {
            "standoff": 15
           },
           "zerolinecolor": "white",
           "zerolinewidth": 2
          },
          "yaxis": {
           "automargin": true,
           "gridcolor": "white",
           "linecolor": "white",
           "ticks": "",
           "title": {
            "standoff": 15
           },
           "zerolinecolor": "white",
           "zerolinewidth": 2
          }
         }
        },
        "updatemenus": [
         {
          "buttons": [
           {
            "args": [
             null,
             {
              "frame": {
               "duration": 500,
               "redraw": true
              },
              "fromcurrent": true,
              "mode": "immediate",
              "transition": {
               "duration": 500,
               "easing": "linear"
              }
             }
            ],
            "label": "&#9654;",
            "method": "animate"
           },
           {
            "args": [
             [
              null
             ],
             {
              "frame": {
               "duration": 0,
               "redraw": true
              },
              "fromcurrent": true,
              "mode": "immediate",
              "transition": {
               "duration": 0,
               "easing": "linear"
              }
             }
            ],
            "label": "&#9724;",
            "method": "animate"
           }
          ],
          "direction": "left",
          "pad": {
           "r": 10,
           "t": 70
          },
          "showactive": false,
          "type": "buttons",
          "x": 0.1,
          "xanchor": "right",
          "y": 0,
          "yanchor": "top"
         }
        ]
       }
      },
      "text/html": [
       "<div>                            <div id=\"5e51767e-ea11-43b0-a120-4a463ec6c78e\" class=\"plotly-graph-div\" style=\"height:525px; width:100%;\"></div>            <script type=\"text/javascript\">                require([\"plotly\"], function(Plotly) {                    window.PLOTLYENV=window.PLOTLYENV || {};                                    if (document.getElementById(\"5e51767e-ea11-43b0-a120-4a463ec6c78e\")) {                    Plotly.newPlot(                        \"5e51767e-ea11-43b0-a120-4a463ec6c78e\",                        [{\"hovertemplate\":\"<b>%{hovertext}</b><br><br>type=path_no_obstacle<br>timestep=0.0<br>size=%{marker.size}<br>lat=%{lat}<br>lon=%{lon}<extra></extra>\",\"hovertext\":[\"path_no_obstacle\"],\"lat\":[38.5],\"legendgroup\":\"path_no_obstacle\",\"lon\":[-174.0],\"marker\":{\"color\":\"#636efa\",\"size\":[5],\"sizemode\":\"area\",\"sizeref\":0.025},\"mode\":\"markers\",\"name\":\"path_no_obstacle\",\"showlegend\":true,\"subplot\":\"mapbox\",\"type\":\"scattermapbox\"},{\"hovertemplate\":\"<b>%{hovertext}</b><br><br>type=path_with_obstacle<br>timestep=0.0<br>size=%{marker.size}<br>lat=%{lat}<br>lon=%{lon}<extra></extra>\",\"hovertext\":[\"path_with_obstacle\"],\"lat\":[38.5],\"legendgroup\":\"path_with_obstacle\",\"lon\":[-174.0],\"marker\":{\"color\":\"#EF553B\",\"size\":[5],\"sizemode\":\"area\",\"sizeref\":0.025},\"mode\":\"markers\",\"name\":\"path_with_obstacle\",\"showlegend\":true,\"subplot\":\"mapbox\",\"type\":\"scattermapbox\"}],                        {\"template\":{\"data\":{\"bar\":[{\"error_x\":{\"color\":\"#2a3f5f\"},\"error_y\":{\"color\":\"#2a3f5f\"},\"marker\":{\"line\":{\"color\":\"#E5ECF6\",\"width\":0.5},\"pattern\":{\"fillmode\":\"overlay\",\"size\":10,\"solidity\":0.2}},\"type\":\"bar\"}],\"barpolar\":[{\"marker\":{\"line\":{\"color\":\"#E5ECF6\",\"width\":0.5},\"pattern\":{\"fillmode\":\"overlay\",\"size\":10,\"solidity\":0.2}},\"type\":\"barpolar\"}],\"carpet\":[{\"aaxis\":{\"endlinecolor\":\"#2a3f5f\",\"gridcolor\":\"white\",\"linecolor\":\"white\",\"minorgridcolor\":\"white\",\"startlinecolor\":\"#2a3f5f\"},\"baxis\":{\"endlinecolor\":\"#2a3f5f\",\"gridcolor\":\"white\",\"linecolor\":\"white\",\"minorgridcolor\":\"white\",\"startlinecolor\":\"#2a3f5f\"},\"type\":\"carpet\"}],\"choropleth\":[{\"colorbar\":{\"outlinewidth\":0,\"ticks\":\"\"},\"type\":\"choropleth\"}],\"contour\":[{\"colorbar\":{\"outlinewidth\":0,\"ticks\":\"\"},\"colorscale\":[[0.0,\"#0d0887\"],[0.1111111111111111,\"#46039f\"],[0.2222222222222222,\"#7201a8\"],[0.3333333333333333,\"#9c179e\"],[0.4444444444444444,\"#bd3786\"],[0.5555555555555556,\"#d8576b\"],[0.6666666666666666,\"#ed7953\"],[0.7777777777777778,\"#fb9f3a\"],[0.8888888888888888,\"#fdca26\"],[1.0,\"#f0f921\"]],\"type\":\"contour\"}],\"contourcarpet\":[{\"colorbar\":{\"outlinewidth\":0,\"ticks\":\"\"},\"type\":\"contourcarpet\"}],\"heatmap\":[{\"colorbar\":{\"outlinewidth\":0,\"ticks\":\"\"},\"colorscale\":[[0.0,\"#0d0887\"],[0.1111111111111111,\"#46039f\"],[0.2222222222222222,\"#7201a8\"],[0.3333333333333333,\"#9c179e\"],[0.4444444444444444,\"#bd3786\"],[0.5555555555555556,\"#d8576b\"],[0.6666666666666666,\"#ed7953\"],[0.7777777777777778,\"#fb9f3a\"],[0.8888888888888888,\"#fdca26\"],[1.0,\"#f0f921\"]],\"type\":\"heatmap\"}],\"heatmapgl\":[{\"colorbar\":{\"outlinewidth\":0,\"ticks\":\"\"},\"colorscale\":[[0.0,\"#0d0887\"],[0.1111111111111111,\"#46039f\"],[0.2222222222222222,\"#7201a8\"],[0.3333333333333333,\"#9c179e\"],[0.4444444444444444,\"#bd3786\"],[0.5555555555555556,\"#d8576b\"],[0.6666666666666666,\"#ed7953\"],[0.7777777777777778,\"#fb9f3a\"],[0.8888888888888888,\"#fdca26\"],[1.0,\"#f0f921\"]],\"type\":\"heatmapgl\"}],\"histogram\":[{\"marker\":{\"pattern\":{\"fillmode\":\"overlay\",\"size\":10,\"solidity\":0.2}},\"type\":\"histogram\"}],\"histogram2d\":[{\"colorbar\":{\"outlinewidth\":0,\"ticks\":\"\"},\"colorscale\":[[0.0,\"#0d0887\"],[0.1111111111111111,\"#46039f\"],[0.2222222222222222,\"#7201a8\"],[0.3333333333333333,\"#9c179e\"],[0.4444444444444444,\"#bd3786\"],[0.5555555555555556,\"#d8576b\"],[0.6666666666666666,\"#ed7953\"],[0.7777777777777778,\"#fb9f3a\"],[0.8888888888888888,\"#fdca26\"],[1.0,\"#f0f921\"]],\"type\":\"histogram2d\"}],\"histogram2dcontour\":[{\"colorbar\":{\"outlinewidth\":0,\"ticks\":\"\"},\"colorscale\":[[0.0,\"#0d0887\"],[0.1111111111111111,\"#46039f\"],[0.2222222222222222,\"#7201a8\"],[0.3333333333333333,\"#9c179e\"],[0.4444444444444444,\"#bd3786\"],[0.5555555555555556,\"#d8576b\"],[0.6666666666666666,\"#ed7953\"],[0.7777777777777778,\"#fb9f3a\"],[0.8888888888888888,\"#fdca26\"],[1.0,\"#f0f921\"]],\"type\":\"histogram2dcontour\"}],\"mesh3d\":[{\"colorbar\":{\"outlinewidth\":0,\"ticks\":\"\"},\"type\":\"mesh3d\"}],\"parcoords\":[{\"line\":{\"colorbar\":{\"outlinewidth\":0,\"ticks\":\"\"}},\"type\":\"parcoords\"}],\"pie\":[{\"automargin\":true,\"type\":\"pie\"}],\"scatter\":[{\"marker\":{\"colorbar\":{\"outlinewidth\":0,\"ticks\":\"\"}},\"type\":\"scatter\"}],\"scatter3d\":[{\"line\":{\"colorbar\":{\"outlinewidth\":0,\"ticks\":\"\"}},\"marker\":{\"colorbar\":{\"outlinewidth\":0,\"ticks\":\"\"}},\"type\":\"scatter3d\"}],\"scattercarpet\":[{\"marker\":{\"colorbar\":{\"outlinewidth\":0,\"ticks\":\"\"}},\"type\":\"scattercarpet\"}],\"scattergeo\":[{\"marker\":{\"colorbar\":{\"outlinewidth\":0,\"ticks\":\"\"}},\"type\":\"scattergeo\"}],\"scattergl\":[{\"marker\":{\"colorbar\":{\"outlinewidth\":0,\"ticks\":\"\"}},\"type\":\"scattergl\"}],\"scattermapbox\":[{\"marker\":{\"colorbar\":{\"outlinewidth\":0,\"ticks\":\"\"}},\"type\":\"scattermapbox\"}],\"scatterpolar\":[{\"marker\":{\"colorbar\":{\"outlinewidth\":0,\"ticks\":\"\"}},\"type\":\"scatterpolar\"}],\"scatterpolargl\":[{\"marker\":{\"colorbar\":{\"outlinewidth\":0,\"ticks\":\"\"}},\"type\":\"scatterpolargl\"}],\"scatterternary\":[{\"marker\":{\"colorbar\":{\"outlinewidth\":0,\"ticks\":\"\"}},\"type\":\"scatterternary\"}],\"surface\":[{\"colorbar\":{\"outlinewidth\":0,\"ticks\":\"\"},\"colorscale\":[[0.0,\"#0d0887\"],[0.1111111111111111,\"#46039f\"],[0.2222222222222222,\"#7201a8\"],[0.3333333333333333,\"#9c179e\"],[0.4444444444444444,\"#bd3786\"],[0.5555555555555556,\"#d8576b\"],[0.6666666666666666,\"#ed7953\"],[0.7777777777777778,\"#fb9f3a\"],[0.8888888888888888,\"#fdca26\"],[1.0,\"#f0f921\"]],\"type\":\"surface\"}],\"table\":[{\"cells\":{\"fill\":{\"color\":\"#EBF0F8\"},\"line\":{\"color\":\"white\"}},\"header\":{\"fill\":{\"color\":\"#C8D4E3\"},\"line\":{\"color\":\"white\"}},\"type\":\"table\"}]},\"layout\":{\"annotationdefaults\":{\"arrowcolor\":\"#2a3f5f\",\"arrowhead\":0,\"arrowwidth\":1},\"autotypenumbers\":\"strict\",\"coloraxis\":{\"colorbar\":{\"outlinewidth\":0,\"ticks\":\"\"}},\"colorscale\":{\"diverging\":[[0,\"#8e0152\"],[0.1,\"#c51b7d\"],[0.2,\"#de77ae\"],[0.3,\"#f1b6da\"],[0.4,\"#fde0ef\"],[0.5,\"#f7f7f7\"],[0.6,\"#e6f5d0\"],[0.7,\"#b8e186\"],[0.8,\"#7fbc41\"],[0.9,\"#4d9221\"],[1,\"#276419\"]],\"sequential\":[[0.0,\"#0d0887\"],[0.1111111111111111,\"#46039f\"],[0.2222222222222222,\"#7201a8\"],[0.3333333333333333,\"#9c179e\"],[0.4444444444444444,\"#bd3786\"],[0.5555555555555556,\"#d8576b\"],[0.6666666666666666,\"#ed7953\"],[0.7777777777777778,\"#fb9f3a\"],[0.8888888888888888,\"#fdca26\"],[1.0,\"#f0f921\"]],\"sequentialminus\":[[0.0,\"#0d0887\"],[0.1111111111111111,\"#46039f\"],[0.2222222222222222,\"#7201a8\"],[0.3333333333333333,\"#9c179e\"],[0.4444444444444444,\"#bd3786\"],[0.5555555555555556,\"#d8576b\"],[0.6666666666666666,\"#ed7953\"],[0.7777777777777778,\"#fb9f3a\"],[0.8888888888888888,\"#fdca26\"],[1.0,\"#f0f921\"]]},\"colorway\":[\"#636efa\",\"#EF553B\",\"#00cc96\",\"#ab63fa\",\"#FFA15A\",\"#19d3f3\",\"#FF6692\",\"#B6E880\",\"#FF97FF\",\"#FECB52\"],\"font\":{\"color\":\"#2a3f5f\"},\"geo\":{\"bgcolor\":\"white\",\"lakecolor\":\"white\",\"landcolor\":\"#E5ECF6\",\"showlakes\":true,\"showland\":true,\"subunitcolor\":\"white\"},\"hoverlabel\":{\"align\":\"left\"},\"hovermode\":\"closest\",\"mapbox\":{\"style\":\"light\"},\"paper_bgcolor\":\"white\",\"plot_bgcolor\":\"#E5ECF6\",\"polar\":{\"angularaxis\":{\"gridcolor\":\"white\",\"linecolor\":\"white\",\"ticks\":\"\"},\"bgcolor\":\"#E5ECF6\",\"radialaxis\":{\"gridcolor\":\"white\",\"linecolor\":\"white\",\"ticks\":\"\"}},\"scene\":{\"xaxis\":{\"backgroundcolor\":\"#E5ECF6\",\"gridcolor\":\"white\",\"gridwidth\":2,\"linecolor\":\"white\",\"showbackground\":true,\"ticks\":\"\",\"zerolinecolor\":\"white\"},\"yaxis\":{\"backgroundcolor\":\"#E5ECF6\",\"gridcolor\":\"white\",\"gridwidth\":2,\"linecolor\":\"white\",\"showbackground\":true,\"ticks\":\"\",\"zerolinecolor\":\"white\"},\"zaxis\":{\"backgroundcolor\":\"#E5ECF6\",\"gridcolor\":\"white\",\"gridwidth\":2,\"linecolor\":\"white\",\"showbackground\":true,\"ticks\":\"\",\"zerolinecolor\":\"white\"}},\"shapedefaults\":{\"line\":{\"color\":\"#2a3f5f\"}},\"ternary\":{\"aaxis\":{\"gridcolor\":\"white\",\"linecolor\":\"white\",\"ticks\":\"\"},\"baxis\":{\"gridcolor\":\"white\",\"linecolor\":\"white\",\"ticks\":\"\"},\"bgcolor\":\"#E5ECF6\",\"caxis\":{\"gridcolor\":\"white\",\"linecolor\":\"white\",\"ticks\":\"\"}},\"title\":{\"x\":0.05},\"xaxis\":{\"automargin\":true,\"gridcolor\":\"white\",\"linecolor\":\"white\",\"ticks\":\"\",\"title\":{\"standoff\":15},\"zerolinecolor\":\"white\",\"zerolinewidth\":2},\"yaxis\":{\"automargin\":true,\"gridcolor\":\"white\",\"linecolor\":\"white\",\"ticks\":\"\",\"title\":{\"standoff\":15},\"zerolinecolor\":\"white\",\"zerolinewidth\":2}}},\"mapbox\":{\"domain\":{\"x\":[0.0,1.0],\"y\":[0.0,1.0]},\"center\":{\"lat\":-7.133472289993713,\"lon\":103.89549158304813},\"accesstoken\":\"pk.eyJ1IjoieWVtaS0yMyIsImEiOiJjbDEzZzl6MWswZWg5M2lzNmx4dGoza2U5In0.meLrG_2lR0ob4ZqA_ZGiPw\",\"zoom\":1,\"style\":\"basic\"},\"legend\":{\"title\":{\"text\":\"type\"},\"tracegroupgap\":0,\"itemsizing\":\"constant\"},\"margin\":{\"t\":60},\"updatemenus\":[{\"buttons\":[{\"args\":[null,{\"frame\":{\"duration\":500,\"redraw\":true},\"mode\":\"immediate\",\"fromcurrent\":true,\"transition\":{\"duration\":500,\"easing\":\"linear\"}}],\"label\":\"&#9654;\",\"method\":\"animate\"},{\"args\":[[null],{\"frame\":{\"duration\":0,\"redraw\":true},\"mode\":\"immediate\",\"fromcurrent\":true,\"transition\":{\"duration\":0,\"easing\":\"linear\"}}],\"label\":\"&#9724;\",\"method\":\"animate\"}],\"direction\":\"left\",\"pad\":{\"r\":10,\"t\":70},\"showactive\":false,\"type\":\"buttons\",\"x\":0.1,\"xanchor\":\"right\",\"y\":0,\"yanchor\":\"top\"}],\"sliders\":[{\"active\":0,\"currentvalue\":{\"prefix\":\"timestep=\"},\"len\":0.9,\"pad\":{\"b\":10,\"t\":60},\"steps\":[{\"args\":[[\"0.0\"],{\"frame\":{\"duration\":0,\"redraw\":true},\"mode\":\"immediate\",\"fromcurrent\":true,\"transition\":{\"duration\":0,\"easing\":\"linear\"}}],\"label\":\"0.0\",\"method\":\"animate\"},{\"args\":[[\"200.0\"],{\"frame\":{\"duration\":0,\"redraw\":true},\"mode\":\"immediate\",\"fromcurrent\":true,\"transition\":{\"duration\":0,\"easing\":\"linear\"}}],\"label\":\"200.0\",\"method\":\"animate\"},{\"args\":[[\"400.0\"],{\"frame\":{\"duration\":0,\"redraw\":true},\"mode\":\"immediate\",\"fromcurrent\":true,\"transition\":{\"duration\":0,\"easing\":\"linear\"}}],\"label\":\"400.0\",\"method\":\"animate\"},{\"args\":[[\"600.0\"],{\"frame\":{\"duration\":0,\"redraw\":true},\"mode\":\"immediate\",\"fromcurrent\":true,\"transition\":{\"duration\":0,\"easing\":\"linear\"}}],\"label\":\"600.0\",\"method\":\"animate\"},{\"args\":[[\"800.0\"],{\"frame\":{\"duration\":0,\"redraw\":true},\"mode\":\"immediate\",\"fromcurrent\":true,\"transition\":{\"duration\":0,\"easing\":\"linear\"}}],\"label\":\"800.0\",\"method\":\"animate\"},{\"args\":[[\"1000.0\"],{\"frame\":{\"duration\":0,\"redraw\":true},\"mode\":\"immediate\",\"fromcurrent\":true,\"transition\":{\"duration\":0,\"easing\":\"linear\"}}],\"label\":\"1000.0\",\"method\":\"animate\"},{\"args\":[[\"1200.0\"],{\"frame\":{\"duration\":0,\"redraw\":true},\"mode\":\"immediate\",\"fromcurrent\":true,\"transition\":{\"duration\":0,\"easing\":\"linear\"}}],\"label\":\"1200.0\",\"method\":\"animate\"},{\"args\":[[\"1400.0\"],{\"frame\":{\"duration\":0,\"redraw\":true},\"mode\":\"immediate\",\"fromcurrent\":true,\"transition\":{\"duration\":0,\"easing\":\"linear\"}}],\"label\":\"1400.0\",\"method\":\"animate\"},{\"args\":[[\"1600.0\"],{\"frame\":{\"duration\":0,\"redraw\":true},\"mode\":\"immediate\",\"fromcurrent\":true,\"transition\":{\"duration\":0,\"easing\":\"linear\"}}],\"label\":\"1600.0\",\"method\":\"animate\"},{\"args\":[[\"1800.0\"],{\"frame\":{\"duration\":0,\"redraw\":true},\"mode\":\"immediate\",\"fromcurrent\":true,\"transition\":{\"duration\":0,\"easing\":\"linear\"}}],\"label\":\"1800.0\",\"method\":\"animate\"},{\"args\":[[\"2000.0\"],{\"frame\":{\"duration\":0,\"redraw\":true},\"mode\":\"immediate\",\"fromcurrent\":true,\"transition\":{\"duration\":0,\"easing\":\"linear\"}}],\"label\":\"2000.0\",\"method\":\"animate\"},{\"args\":[[\"2200.0\"],{\"frame\":{\"duration\":0,\"redraw\":true},\"mode\":\"immediate\",\"fromcurrent\":true,\"transition\":{\"duration\":0,\"easing\":\"linear\"}}],\"label\":\"2200.0\",\"method\":\"animate\"},{\"args\":[[\"2400.0\"],{\"frame\":{\"duration\":0,\"redraw\":true},\"mode\":\"immediate\",\"fromcurrent\":true,\"transition\":{\"duration\":0,\"easing\":\"linear\"}}],\"label\":\"2400.0\",\"method\":\"animate\"},{\"args\":[[\"2600.0\"],{\"frame\":{\"duration\":0,\"redraw\":true},\"mode\":\"immediate\",\"fromcurrent\":true,\"transition\":{\"duration\":0,\"easing\":\"linear\"}}],\"label\":\"2600.0\",\"method\":\"animate\"},{\"args\":[[\"2800.0\"],{\"frame\":{\"duration\":0,\"redraw\":true},\"mode\":\"immediate\",\"fromcurrent\":true,\"transition\":{\"duration\":0,\"easing\":\"linear\"}}],\"label\":\"2800.0\",\"method\":\"animate\"},{\"args\":[[\"3000.0\"],{\"frame\":{\"duration\":0,\"redraw\":true},\"mode\":\"immediate\",\"fromcurrent\":true,\"transition\":{\"duration\":0,\"easing\":\"linear\"}}],\"label\":\"3000.0\",\"method\":\"animate\"},{\"args\":[[\"3200.0\"],{\"frame\":{\"duration\":0,\"redraw\":true},\"mode\":\"immediate\",\"fromcurrent\":true,\"transition\":{\"duration\":0,\"easing\":\"linear\"}}],\"label\":\"3200.0\",\"method\":\"animate\"},{\"args\":[[\"3400.0\"],{\"frame\":{\"duration\":0,\"redraw\":true},\"mode\":\"immediate\",\"fromcurrent\":true,\"transition\":{\"duration\":0,\"easing\":\"linear\"}}],\"label\":\"3400.0\",\"method\":\"animate\"},{\"args\":[[\"3600.0\"],{\"frame\":{\"duration\":0,\"redraw\":true},\"mode\":\"immediate\",\"fromcurrent\":true,\"transition\":{\"duration\":0,\"easing\":\"linear\"}}],\"label\":\"3600.0\",\"method\":\"animate\"},{\"args\":[[\"3800.0\"],{\"frame\":{\"duration\":0,\"redraw\":true},\"mode\":\"immediate\",\"fromcurrent\":true,\"transition\":{\"duration\":0,\"easing\":\"linear\"}}],\"label\":\"3800.0\",\"method\":\"animate\"},{\"args\":[[\"4000.0\"],{\"frame\":{\"duration\":0,\"redraw\":true},\"mode\":\"immediate\",\"fromcurrent\":true,\"transition\":{\"duration\":0,\"easing\":\"linear\"}}],\"label\":\"4000.0\",\"method\":\"animate\"},{\"args\":[[\"4200.0\"],{\"frame\":{\"duration\":0,\"redraw\":true},\"mode\":\"immediate\",\"fromcurrent\":true,\"transition\":{\"duration\":0,\"easing\":\"linear\"}}],\"label\":\"4200.0\",\"method\":\"animate\"},{\"args\":[[\"4400.0\"],{\"frame\":{\"duration\":0,\"redraw\":true},\"mode\":\"immediate\",\"fromcurrent\":true,\"transition\":{\"duration\":0,\"easing\":\"linear\"}}],\"label\":\"4400.0\",\"method\":\"animate\"},{\"args\":[[\"4600.0\"],{\"frame\":{\"duration\":0,\"redraw\":true},\"mode\":\"immediate\",\"fromcurrent\":true,\"transition\":{\"duration\":0,\"easing\":\"linear\"}}],\"label\":\"4600.0\",\"method\":\"animate\"},{\"args\":[[\"4800.0\"],{\"frame\":{\"duration\":0,\"redraw\":true},\"mode\":\"immediate\",\"fromcurrent\":true,\"transition\":{\"duration\":0,\"easing\":\"linear\"}}],\"label\":\"4800.0\",\"method\":\"animate\"},{\"args\":[[\"5000.0\"],{\"frame\":{\"duration\":0,\"redraw\":true},\"mode\":\"immediate\",\"fromcurrent\":true,\"transition\":{\"duration\":0,\"easing\":\"linear\"}}],\"label\":\"5000.0\",\"method\":\"animate\"},{\"args\":[[\"5200.0\"],{\"frame\":{\"duration\":0,\"redraw\":true},\"mode\":\"immediate\",\"fromcurrent\":true,\"transition\":{\"duration\":0,\"easing\":\"linear\"}}],\"label\":\"5200.0\",\"method\":\"animate\"},{\"args\":[[\"5400.0\"],{\"frame\":{\"duration\":0,\"redraw\":true},\"mode\":\"immediate\",\"fromcurrent\":true,\"transition\":{\"duration\":0,\"easing\":\"linear\"}}],\"label\":\"5400.0\",\"method\":\"animate\"},{\"args\":[[\"5600.0\"],{\"frame\":{\"duration\":0,\"redraw\":true},\"mode\":\"immediate\",\"fromcurrent\":true,\"transition\":{\"duration\":0,\"easing\":\"linear\"}}],\"label\":\"5600.0\",\"method\":\"animate\"},{\"args\":[[\"5800.0\"],{\"frame\":{\"duration\":0,\"redraw\":true},\"mode\":\"immediate\",\"fromcurrent\":true,\"transition\":{\"duration\":0,\"easing\":\"linear\"}}],\"label\":\"5800.0\",\"method\":\"animate\"},{\"args\":[[\"6000.0\"],{\"frame\":{\"duration\":0,\"redraw\":true},\"mode\":\"immediate\",\"fromcurrent\":true,\"transition\":{\"duration\":0,\"easing\":\"linear\"}}],\"label\":\"6000.0\",\"method\":\"animate\"},{\"args\":[[\"6200.0\"],{\"frame\":{\"duration\":0,\"redraw\":true},\"mode\":\"immediate\",\"fromcurrent\":true,\"transition\":{\"duration\":0,\"easing\":\"linear\"}}],\"label\":\"6200.0\",\"method\":\"animate\"},{\"args\":[[\"6400.0\"],{\"frame\":{\"duration\":0,\"redraw\":true},\"mode\":\"immediate\",\"fromcurrent\":true,\"transition\":{\"duration\":0,\"easing\":\"linear\"}}],\"label\":\"6400.0\",\"method\":\"animate\"},{\"args\":[[\"6600.0\"],{\"frame\":{\"duration\":0,\"redraw\":true},\"mode\":\"immediate\",\"fromcurrent\":true,\"transition\":{\"duration\":0,\"easing\":\"linear\"}}],\"label\":\"6600.0\",\"method\":\"animate\"},{\"args\":[[\"6800.0\"],{\"frame\":{\"duration\":0,\"redraw\":true},\"mode\":\"immediate\",\"fromcurrent\":true,\"transition\":{\"duration\":0,\"easing\":\"linear\"}}],\"label\":\"6800.0\",\"method\":\"animate\"},{\"args\":[[\"7000.0\"],{\"frame\":{\"duration\":0,\"redraw\":true},\"mode\":\"immediate\",\"fromcurrent\":true,\"transition\":{\"duration\":0,\"easing\":\"linear\"}}],\"label\":\"7000.0\",\"method\":\"animate\"},{\"args\":[[\"7200.0\"],{\"frame\":{\"duration\":0,\"redraw\":true},\"mode\":\"immediate\",\"fromcurrent\":true,\"transition\":{\"duration\":0,\"easing\":\"linear\"}}],\"label\":\"7200.0\",\"method\":\"animate\"},{\"args\":[[\"7400.0\"],{\"frame\":{\"duration\":0,\"redraw\":true},\"mode\":\"immediate\",\"fromcurrent\":true,\"transition\":{\"duration\":0,\"easing\":\"linear\"}}],\"label\":\"7400.0\",\"method\":\"animate\"},{\"args\":[[\"7600.0\"],{\"frame\":{\"duration\":0,\"redraw\":true},\"mode\":\"immediate\",\"fromcurrent\":true,\"transition\":{\"duration\":0,\"easing\":\"linear\"}}],\"label\":\"7600.0\",\"method\":\"animate\"},{\"args\":[[\"7800.0\"],{\"frame\":{\"duration\":0,\"redraw\":true},\"mode\":\"immediate\",\"fromcurrent\":true,\"transition\":{\"duration\":0,\"easing\":\"linear\"}}],\"label\":\"7800.0\",\"method\":\"animate\"},{\"args\":[[\"8000.0\"],{\"frame\":{\"duration\":0,\"redraw\":true},\"mode\":\"immediate\",\"fromcurrent\":true,\"transition\":{\"duration\":0,\"easing\":\"linear\"}}],\"label\":\"8000.0\",\"method\":\"animate\"},{\"args\":[[\"8200.0\"],{\"frame\":{\"duration\":0,\"redraw\":true},\"mode\":\"immediate\",\"fromcurrent\":true,\"transition\":{\"duration\":0,\"easing\":\"linear\"}}],\"label\":\"8200.0\",\"method\":\"animate\"},{\"args\":[[\"8400.0\"],{\"frame\":{\"duration\":0,\"redraw\":true},\"mode\":\"immediate\",\"fromcurrent\":true,\"transition\":{\"duration\":0,\"easing\":\"linear\"}}],\"label\":\"8400.0\",\"method\":\"animate\"},{\"args\":[[\"8600.0\"],{\"frame\":{\"duration\":0,\"redraw\":true},\"mode\":\"immediate\",\"fromcurrent\":true,\"transition\":{\"duration\":0,\"easing\":\"linear\"}}],\"label\":\"8600.0\",\"method\":\"animate\"},{\"args\":[[\"8800.0\"],{\"frame\":{\"duration\":0,\"redraw\":true},\"mode\":\"immediate\",\"fromcurrent\":true,\"transition\":{\"duration\":0,\"easing\":\"linear\"}}],\"label\":\"8800.0\",\"method\":\"animate\"},{\"args\":[[\"9000.0\"],{\"frame\":{\"duration\":0,\"redraw\":true},\"mode\":\"immediate\",\"fromcurrent\":true,\"transition\":{\"duration\":0,\"easing\":\"linear\"}}],\"label\":\"9000.0\",\"method\":\"animate\"},{\"args\":[[\"9200.0\"],{\"frame\":{\"duration\":0,\"redraw\":true},\"mode\":\"immediate\",\"fromcurrent\":true,\"transition\":{\"duration\":0,\"easing\":\"linear\"}}],\"label\":\"9200.0\",\"method\":\"animate\"},{\"args\":[[\"9400.0\"],{\"frame\":{\"duration\":0,\"redraw\":true},\"mode\":\"immediate\",\"fromcurrent\":true,\"transition\":{\"duration\":0,\"easing\":\"linear\"}}],\"label\":\"9400.0\",\"method\":\"animate\"},{\"args\":[[\"9600.0\"],{\"frame\":{\"duration\":0,\"redraw\":true},\"mode\":\"immediate\",\"fromcurrent\":true,\"transition\":{\"duration\":0,\"easing\":\"linear\"}}],\"label\":\"9600.0\",\"method\":\"animate\"},{\"args\":[[\"9800.0\"],{\"frame\":{\"duration\":0,\"redraw\":true},\"mode\":\"immediate\",\"fromcurrent\":true,\"transition\":{\"duration\":0,\"easing\":\"linear\"}}],\"label\":\"9800.0\",\"method\":\"animate\"},{\"args\":[[\"10000.0\"],{\"frame\":{\"duration\":0,\"redraw\":true},\"mode\":\"immediate\",\"fromcurrent\":true,\"transition\":{\"duration\":0,\"easing\":\"linear\"}}],\"label\":\"10000.0\",\"method\":\"animate\"},{\"args\":[[\"10200.0\"],{\"frame\":{\"duration\":0,\"redraw\":true},\"mode\":\"immediate\",\"fromcurrent\":true,\"transition\":{\"duration\":0,\"easing\":\"linear\"}}],\"label\":\"10200.0\",\"method\":\"animate\"},{\"args\":[[\"10400.0\"],{\"frame\":{\"duration\":0,\"redraw\":true},\"mode\":\"immediate\",\"fromcurrent\":true,\"transition\":{\"duration\":0,\"easing\":\"linear\"}}],\"label\":\"10400.0\",\"method\":\"animate\"},{\"args\":[[\"10600.0\"],{\"frame\":{\"duration\":0,\"redraw\":true},\"mode\":\"immediate\",\"fromcurrent\":true,\"transition\":{\"duration\":0,\"easing\":\"linear\"}}],\"label\":\"10600.0\",\"method\":\"animate\"},{\"args\":[[\"10800.0\"],{\"frame\":{\"duration\":0,\"redraw\":true},\"mode\":\"immediate\",\"fromcurrent\":true,\"transition\":{\"duration\":0,\"easing\":\"linear\"}}],\"label\":\"10800.0\",\"method\":\"animate\"},{\"args\":[[\"11000.0\"],{\"frame\":{\"duration\":0,\"redraw\":true},\"mode\":\"immediate\",\"fromcurrent\":true,\"transition\":{\"duration\":0,\"easing\":\"linear\"}}],\"label\":\"11000.0\",\"method\":\"animate\"},{\"args\":[[\"11200.0\"],{\"frame\":{\"duration\":0,\"redraw\":true},\"mode\":\"immediate\",\"fromcurrent\":true,\"transition\":{\"duration\":0,\"easing\":\"linear\"}}],\"label\":\"11200.0\",\"method\":\"animate\"},{\"args\":[[\"11400.0\"],{\"frame\":{\"duration\":0,\"redraw\":true},\"mode\":\"immediate\",\"fromcurrent\":true,\"transition\":{\"duration\":0,\"easing\":\"linear\"}}],\"label\":\"11400.0\",\"method\":\"animate\"},{\"args\":[[\"11600.0\"],{\"frame\":{\"duration\":0,\"redraw\":true},\"mode\":\"immediate\",\"fromcurrent\":true,\"transition\":{\"duration\":0,\"easing\":\"linear\"}}],\"label\":\"11600.0\",\"method\":\"animate\"},{\"args\":[[\"11800.0\"],{\"frame\":{\"duration\":0,\"redraw\":true},\"mode\":\"immediate\",\"fromcurrent\":true,\"transition\":{\"duration\":0,\"easing\":\"linear\"}}],\"label\":\"11800.0\",\"method\":\"animate\"},{\"args\":[[\"12000.0\"],{\"frame\":{\"duration\":0,\"redraw\":true},\"mode\":\"immediate\",\"fromcurrent\":true,\"transition\":{\"duration\":0,\"easing\":\"linear\"}}],\"label\":\"12000.0\",\"method\":\"animate\"},{\"args\":[[\"12200.0\"],{\"frame\":{\"duration\":0,\"redraw\":true},\"mode\":\"immediate\",\"fromcurrent\":true,\"transition\":{\"duration\":0,\"easing\":\"linear\"}}],\"label\":\"12200.0\",\"method\":\"animate\"},{\"args\":[[\"12400.0\"],{\"frame\":{\"duration\":0,\"redraw\":true},\"mode\":\"immediate\",\"fromcurrent\":true,\"transition\":{\"duration\":0,\"easing\":\"linear\"}}],\"label\":\"12400.0\",\"method\":\"animate\"},{\"args\":[[\"12600.0\"],{\"frame\":{\"duration\":0,\"redraw\":true},\"mode\":\"immediate\",\"fromcurrent\":true,\"transition\":{\"duration\":0,\"easing\":\"linear\"}}],\"label\":\"12600.0\",\"method\":\"animate\"},{\"args\":[[\"12800.0\"],{\"frame\":{\"duration\":0,\"redraw\":true},\"mode\":\"immediate\",\"fromcurrent\":true,\"transition\":{\"duration\":0,\"easing\":\"linear\"}}],\"label\":\"12800.0\",\"method\":\"animate\"},{\"args\":[[\"13000.0\"],{\"frame\":{\"duration\":0,\"redraw\":true},\"mode\":\"immediate\",\"fromcurrent\":true,\"transition\":{\"duration\":0,\"easing\":\"linear\"}}],\"label\":\"13000.0\",\"method\":\"animate\"},{\"args\":[[\"13200.0\"],{\"frame\":{\"duration\":0,\"redraw\":true},\"mode\":\"immediate\",\"fromcurrent\":true,\"transition\":{\"duration\":0,\"easing\":\"linear\"}}],\"label\":\"13200.0\",\"method\":\"animate\"},{\"args\":[[\"13400.0\"],{\"frame\":{\"duration\":0,\"redraw\":true},\"mode\":\"immediate\",\"fromcurrent\":true,\"transition\":{\"duration\":0,\"easing\":\"linear\"}}],\"label\":\"13400.0\",\"method\":\"animate\"},{\"args\":[[\"13600.0\"],{\"frame\":{\"duration\":0,\"redraw\":true},\"mode\":\"immediate\",\"fromcurrent\":true,\"transition\":{\"duration\":0,\"easing\":\"linear\"}}],\"label\":\"13600.0\",\"method\":\"animate\"},{\"args\":[[\"13800.0\"],{\"frame\":{\"duration\":0,\"redraw\":true},\"mode\":\"immediate\",\"fromcurrent\":true,\"transition\":{\"duration\":0,\"easing\":\"linear\"}}],\"label\":\"13800.0\",\"method\":\"animate\"},{\"args\":[[\"14000.0\"],{\"frame\":{\"duration\":0,\"redraw\":true},\"mode\":\"immediate\",\"fromcurrent\":true,\"transition\":{\"duration\":0,\"easing\":\"linear\"}}],\"label\":\"14000.0\",\"method\":\"animate\"},{\"args\":[[\"14200.0\"],{\"frame\":{\"duration\":0,\"redraw\":true},\"mode\":\"immediate\",\"fromcurrent\":true,\"transition\":{\"duration\":0,\"easing\":\"linear\"}}],\"label\":\"14200.0\",\"method\":\"animate\"},{\"args\":[[\"14400.0\"],{\"frame\":{\"duration\":0,\"redraw\":true},\"mode\":\"immediate\",\"fromcurrent\":true,\"transition\":{\"duration\":0,\"easing\":\"linear\"}}],\"label\":\"14400.0\",\"method\":\"animate\"},{\"args\":[[\"14600.0\"],{\"frame\":{\"duration\":0,\"redraw\":true},\"mode\":\"immediate\",\"fromcurrent\":true,\"transition\":{\"duration\":0,\"easing\":\"linear\"}}],\"label\":\"14600.0\",\"method\":\"animate\"},{\"args\":[[\"14800.0\"],{\"frame\":{\"duration\":0,\"redraw\":true},\"mode\":\"immediate\",\"fromcurrent\":true,\"transition\":{\"duration\":0,\"easing\":\"linear\"}}],\"label\":\"14800.0\",\"method\":\"animate\"},{\"args\":[[\"15000.0\"],{\"frame\":{\"duration\":0,\"redraw\":true},\"mode\":\"immediate\",\"fromcurrent\":true,\"transition\":{\"duration\":0,\"easing\":\"linear\"}}],\"label\":\"15000.0\",\"method\":\"animate\"},{\"args\":[[\"15200.0\"],{\"frame\":{\"duration\":0,\"redraw\":true},\"mode\":\"immediate\",\"fromcurrent\":true,\"transition\":{\"duration\":0,\"easing\":\"linear\"}}],\"label\":\"15200.0\",\"method\":\"animate\"},{\"args\":[[\"15400.0\"],{\"frame\":{\"duration\":0,\"redraw\":true},\"mode\":\"immediate\",\"fromcurrent\":true,\"transition\":{\"duration\":0,\"easing\":\"linear\"}}],\"label\":\"15400.0\",\"method\":\"animate\"},{\"args\":[[\"15600.0\"],{\"frame\":{\"duration\":0,\"redraw\":true},\"mode\":\"immediate\",\"fromcurrent\":true,\"transition\":{\"duration\":0,\"easing\":\"linear\"}}],\"label\":\"15600.0\",\"method\":\"animate\"},{\"args\":[[\"15800.0\"],{\"frame\":{\"duration\":0,\"redraw\":true},\"mode\":\"immediate\",\"fromcurrent\":true,\"transition\":{\"duration\":0,\"easing\":\"linear\"}}],\"label\":\"15800.0\",\"method\":\"animate\"},{\"args\":[[\"16000.0\"],{\"frame\":{\"duration\":0,\"redraw\":true},\"mode\":\"immediate\",\"fromcurrent\":true,\"transition\":{\"duration\":0,\"easing\":\"linear\"}}],\"label\":\"16000.0\",\"method\":\"animate\"},{\"args\":[[\"16200.0\"],{\"frame\":{\"duration\":0,\"redraw\":true},\"mode\":\"immediate\",\"fromcurrent\":true,\"transition\":{\"duration\":0,\"easing\":\"linear\"}}],\"label\":\"16200.0\",\"method\":\"animate\"},{\"args\":[[\"16400.0\"],{\"frame\":{\"duration\":0,\"redraw\":true},\"mode\":\"immediate\",\"fromcurrent\":true,\"transition\":{\"duration\":0,\"easing\":\"linear\"}}],\"label\":\"16400.0\",\"method\":\"animate\"},{\"args\":[[\"16600.0\"],{\"frame\":{\"duration\":0,\"redraw\":true},\"mode\":\"immediate\",\"fromcurrent\":true,\"transition\":{\"duration\":0,\"easing\":\"linear\"}}],\"label\":\"16600.0\",\"method\":\"animate\"},{\"args\":[[\"16800.0\"],{\"frame\":{\"duration\":0,\"redraw\":true},\"mode\":\"immediate\",\"fromcurrent\":true,\"transition\":{\"duration\":0,\"easing\":\"linear\"}}],\"label\":\"16800.0\",\"method\":\"animate\"},{\"args\":[[\"17000.0\"],{\"frame\":{\"duration\":0,\"redraw\":true},\"mode\":\"immediate\",\"fromcurrent\":true,\"transition\":{\"duration\":0,\"easing\":\"linear\"}}],\"label\":\"17000.0\",\"method\":\"animate\"},{\"args\":[[\"17200.0\"],{\"frame\":{\"duration\":0,\"redraw\":true},\"mode\":\"immediate\",\"fromcurrent\":true,\"transition\":{\"duration\":0,\"easing\":\"linear\"}}],\"label\":\"17200.0\",\"method\":\"animate\"},{\"args\":[[\"17400.0\"],{\"frame\":{\"duration\":0,\"redraw\":true},\"mode\":\"immediate\",\"fromcurrent\":true,\"transition\":{\"duration\":0,\"easing\":\"linear\"}}],\"label\":\"17400.0\",\"method\":\"animate\"},{\"args\":[[\"17600.0\"],{\"frame\":{\"duration\":0,\"redraw\":true},\"mode\":\"immediate\",\"fromcurrent\":true,\"transition\":{\"duration\":0,\"easing\":\"linear\"}}],\"label\":\"17600.0\",\"method\":\"animate\"},{\"args\":[[\"17800.0\"],{\"frame\":{\"duration\":0,\"redraw\":true},\"mode\":\"immediate\",\"fromcurrent\":true,\"transition\":{\"duration\":0,\"easing\":\"linear\"}}],\"label\":\"17800.0\",\"method\":\"animate\"},{\"args\":[[\"18000.0\"],{\"frame\":{\"duration\":0,\"redraw\":true},\"mode\":\"immediate\",\"fromcurrent\":true,\"transition\":{\"duration\":0,\"easing\":\"linear\"}}],\"label\":\"18000.0\",\"method\":\"animate\"},{\"args\":[[\"18200.0\"],{\"frame\":{\"duration\":0,\"redraw\":true},\"mode\":\"immediate\",\"fromcurrent\":true,\"transition\":{\"duration\":0,\"easing\":\"linear\"}}],\"label\":\"18200.0\",\"method\":\"animate\"},{\"args\":[[\"18400.0\"],{\"frame\":{\"duration\":0,\"redraw\":true},\"mode\":\"immediate\",\"fromcurrent\":true,\"transition\":{\"duration\":0,\"easing\":\"linear\"}}],\"label\":\"18400.0\",\"method\":\"animate\"},{\"args\":[[\"18600.0\"],{\"frame\":{\"duration\":0,\"redraw\":true},\"mode\":\"immediate\",\"fromcurrent\":true,\"transition\":{\"duration\":0,\"easing\":\"linear\"}}],\"label\":\"18600.0\",\"method\":\"animate\"},{\"args\":[[\"18800.0\"],{\"frame\":{\"duration\":0,\"redraw\":true},\"mode\":\"immediate\",\"fromcurrent\":true,\"transition\":{\"duration\":0,\"easing\":\"linear\"}}],\"label\":\"18800.0\",\"method\":\"animate\"}],\"x\":0.1,\"xanchor\":\"left\",\"y\":0,\"yanchor\":\"top\"}]},                        {\"responsive\": true}                    ).then(function(){\n",
       "                            Plotly.addFrames('5e51767e-ea11-43b0-a120-4a463ec6c78e', [{\"data\":[{\"hovertemplate\":\"<b>%{hovertext}</b><br><br>type=path_no_obstacle<br>timestep=0.0<br>size=%{marker.size}<br>lat=%{lat}<br>lon=%{lon}<extra></extra>\",\"hovertext\":[\"path_no_obstacle\"],\"lat\":[38.5],\"legendgroup\":\"path_no_obstacle\",\"lon\":[-174.0],\"marker\":{\"color\":\"#636efa\",\"size\":[5],\"sizemode\":\"area\",\"sizeref\":0.025},\"mode\":\"markers\",\"name\":\"path_no_obstacle\",\"showlegend\":true,\"subplot\":\"mapbox\",\"type\":\"scattermapbox\"},{\"hovertemplate\":\"<b>%{hovertext}</b><br><br>type=path_with_obstacle<br>timestep=0.0<br>size=%{marker.size}<br>lat=%{lat}<br>lon=%{lon}<extra></extra>\",\"hovertext\":[\"path_with_obstacle\"],\"lat\":[38.5],\"legendgroup\":\"path_with_obstacle\",\"lon\":[-174.0],\"marker\":{\"color\":\"#EF553B\",\"size\":[5],\"sizemode\":\"area\",\"sizeref\":0.025},\"mode\":\"markers\",\"name\":\"path_with_obstacle\",\"showlegend\":true,\"subplot\":\"mapbox\",\"type\":\"scattermapbox\"}],\"name\":\"0.0\"},{\"data\":[{\"hovertemplate\":\"<b>%{hovertext}</b><br><br>type=path_no_obstacle<br>timestep=200.0<br>size=%{marker.size}<br>lat=%{lat}<br>lon=%{lon}<extra></extra>\",\"hovertext\":[\"path_no_obstacle\"],\"lat\":[38.5],\"legendgroup\":\"path_no_obstacle\",\"lon\":[-176.29885057471265],\"marker\":{\"color\":\"#636efa\",\"size\":[5],\"sizemode\":\"area\",\"sizeref\":0.025},\"mode\":\"markers\",\"name\":\"path_no_obstacle\",\"showlegend\":true,\"subplot\":\"mapbox\",\"type\":\"scattermapbox\"},{\"hovertemplate\":\"<b>%{hovertext}</b><br><br>type=path_with_obstacle<br>timestep=200.0<br>size=%{marker.size}<br>lat=%{lat}<br>lon=%{lon}<extra></extra>\",\"hovertext\":[\"path_with_obstacle\"],\"lat\":[38.5],\"legendgroup\":\"path_with_obstacle\",\"lon\":[-176.29885057471265],\"marker\":{\"color\":\"#EF553B\",\"size\":[5],\"sizemode\":\"area\",\"sizeref\":0.025},\"mode\":\"markers\",\"name\":\"path_with_obstacle\",\"showlegend\":true,\"subplot\":\"mapbox\",\"type\":\"scattermapbox\"}],\"name\":\"200.0\"},{\"data\":[{\"hovertemplate\":\"<b>%{hovertext}</b><br><br>type=path_no_obstacle<br>timestep=400.0<br>size=%{marker.size}<br>lat=%{lat}<br>lon=%{lon}<extra></extra>\",\"hovertext\":[\"path_no_obstacle\"],\"lat\":[38.5],\"legendgroup\":\"path_no_obstacle\",\"lon\":[-178.5977011494253],\"marker\":{\"color\":\"#636efa\",\"size\":[5],\"sizemode\":\"area\",\"sizeref\":0.025},\"mode\":\"markers\",\"name\":\"path_no_obstacle\",\"showlegend\":true,\"subplot\":\"mapbox\",\"type\":\"scattermapbox\"},{\"hovertemplate\":\"<b>%{hovertext}</b><br><br>type=path_with_obstacle<br>timestep=400.0<br>size=%{marker.size}<br>lat=%{lat}<br>lon=%{lon}<extra></extra>\",\"hovertext\":[\"path_with_obstacle\"],\"lat\":[38.5],\"legendgroup\":\"path_with_obstacle\",\"lon\":[-178.5977011494253],\"marker\":{\"color\":\"#EF553B\",\"size\":[5],\"sizemode\":\"area\",\"sizeref\":0.025},\"mode\":\"markers\",\"name\":\"path_with_obstacle\",\"showlegend\":true,\"subplot\":\"mapbox\",\"type\":\"scattermapbox\"}],\"name\":\"400.0\"},{\"data\":[{\"hovertemplate\":\"<b>%{hovertext}</b><br><br>type=path_no_obstacle<br>timestep=600.0<br>size=%{marker.size}<br>lat=%{lat}<br>lon=%{lon}<extra></extra>\",\"hovertext\":[\"path_no_obstacle\"],\"lat\":[38.5],\"legendgroup\":\"path_no_obstacle\",\"lon\":[179.10344827586206],\"marker\":{\"color\":\"#636efa\",\"size\":[5],\"sizemode\":\"area\",\"sizeref\":0.025},\"mode\":\"markers\",\"name\":\"path_no_obstacle\",\"showlegend\":true,\"subplot\":\"mapbox\",\"type\":\"scattermapbox\"},{\"hovertemplate\":\"<b>%{hovertext}</b><br><br>type=path_with_obstacle<br>timestep=600.0<br>size=%{marker.size}<br>lat=%{lat}<br>lon=%{lon}<extra></extra>\",\"hovertext\":[\"path_with_obstacle\"],\"lat\":[38.5],\"legendgroup\":\"path_with_obstacle\",\"lon\":[179.10344827586206],\"marker\":{\"color\":\"#EF553B\",\"size\":[5],\"sizemode\":\"area\",\"sizeref\":0.025},\"mode\":\"markers\",\"name\":\"path_with_obstacle\",\"showlegend\":true,\"subplot\":\"mapbox\",\"type\":\"scattermapbox\"}],\"name\":\"600.0\"},{\"data\":[{\"hovertemplate\":\"<b>%{hovertext}</b><br><br>type=path_no_obstacle<br>timestep=800.0<br>size=%{marker.size}<br>lat=%{lat}<br>lon=%{lon}<extra></extra>\",\"hovertext\":[\"path_no_obstacle\"],\"lat\":[38.5],\"legendgroup\":\"path_no_obstacle\",\"lon\":[176.80459770114942],\"marker\":{\"color\":\"#636efa\",\"size\":[5],\"sizemode\":\"area\",\"sizeref\":0.025},\"mode\":\"markers\",\"name\":\"path_no_obstacle\",\"showlegend\":true,\"subplot\":\"mapbox\",\"type\":\"scattermapbox\"},{\"hovertemplate\":\"<b>%{hovertext}</b><br><br>type=path_with_obstacle<br>timestep=800.0<br>size=%{marker.size}<br>lat=%{lat}<br>lon=%{lon}<extra></extra>\",\"hovertext\":[\"path_with_obstacle\"],\"lat\":[38.5],\"legendgroup\":\"path_with_obstacle\",\"lon\":[176.80459770114942],\"marker\":{\"color\":\"#EF553B\",\"size\":[5],\"sizemode\":\"area\",\"sizeref\":0.025},\"mode\":\"markers\",\"name\":\"path_with_obstacle\",\"showlegend\":true,\"subplot\":\"mapbox\",\"type\":\"scattermapbox\"}],\"name\":\"800.0\"},{\"data\":[{\"hovertemplate\":\"<b>%{hovertext}</b><br><br>type=path_no_obstacle<br>timestep=1000.0<br>size=%{marker.size}<br>lat=%{lat}<br>lon=%{lon}<extra></extra>\",\"hovertext\":[\"path_no_obstacle\"],\"lat\":[38.5],\"legendgroup\":\"path_no_obstacle\",\"lon\":[174.50574712643677],\"marker\":{\"color\":\"#636efa\",\"size\":[5],\"sizemode\":\"area\",\"sizeref\":0.025},\"mode\":\"markers\",\"name\":\"path_no_obstacle\",\"showlegend\":true,\"subplot\":\"mapbox\",\"type\":\"scattermapbox\"},{\"hovertemplate\":\"<b>%{hovertext}</b><br><br>type=path_with_obstacle<br>timestep=1000.0<br>size=%{marker.size}<br>lat=%{lat}<br>lon=%{lon}<extra></extra>\",\"hovertext\":[\"path_with_obstacle\"],\"lat\":[38.5],\"legendgroup\":\"path_with_obstacle\",\"lon\":[174.50574712643677],\"marker\":{\"color\":\"#EF553B\",\"size\":[5],\"sizemode\":\"area\",\"sizeref\":0.025},\"mode\":\"markers\",\"name\":\"path_with_obstacle\",\"showlegend\":true,\"subplot\":\"mapbox\",\"type\":\"scattermapbox\"}],\"name\":\"1000.0\"},{\"data\":[{\"hovertemplate\":\"<b>%{hovertext}</b><br><br>type=path_no_obstacle<br>timestep=1200.0<br>size=%{marker.size}<br>lat=%{lat}<br>lon=%{lon}<extra></extra>\",\"hovertext\":[\"path_no_obstacle\"],\"lat\":[37.397526501766784],\"legendgroup\":\"path_no_obstacle\",\"lon\":[172.89752650176678],\"marker\":{\"color\":\"#636efa\",\"size\":[5],\"sizemode\":\"area\",\"sizeref\":0.025},\"mode\":\"markers\",\"name\":\"path_no_obstacle\",\"showlegend\":true,\"subplot\":\"mapbox\",\"type\":\"scattermapbox\"},{\"hovertemplate\":\"<b>%{hovertext}</b><br><br>type=path_with_obstacle<br>timestep=1200.0<br>size=%{marker.size}<br>lat=%{lat}<br>lon=%{lon}<extra></extra>\",\"hovertext\":[\"path_with_obstacle\"],\"lat\":[38.5],\"legendgroup\":\"path_with_obstacle\",\"lon\":[172.20689655172413],\"marker\":{\"color\":\"#EF553B\",\"size\":[5],\"sizemode\":\"area\",\"sizeref\":0.025},\"mode\":\"markers\",\"name\":\"path_with_obstacle\",\"showlegend\":true,\"subplot\":\"mapbox\",\"type\":\"scattermapbox\"}],\"name\":\"1200.0\"},{\"data\":[{\"hovertemplate\":\"<b>%{hovertext}</b><br><br>type=path_no_obstacle<br>timestep=1400.0<br>size=%{marker.size}<br>lat=%{lat}<br>lon=%{lon}<extra></extra>\",\"hovertext\":[\"path_no_obstacle\"],\"lat\":[35.98951048951049],\"legendgroup\":\"path_no_obstacle\",\"lon\":[171.48951048951048],\"marker\":{\"color\":\"#636efa\",\"size\":[5],\"sizemode\":\"area\",\"sizeref\":0.025},\"mode\":\"markers\",\"name\":\"path_no_obstacle\",\"showlegend\":true,\"subplot\":\"mapbox\",\"type\":\"scattermapbox\"},{\"hovertemplate\":\"<b>%{hovertext}</b><br><br>type=path_with_obstacle<br>timestep=1400.0<br>size=%{marker.size}<br>lat=%{lat}<br>lon=%{lon}<extra></extra>\",\"hovertext\":[\"path_with_obstacle\"],\"lat\":[38.5],\"legendgroup\":\"path_with_obstacle\",\"lon\":[169.90804597701148],\"marker\":{\"color\":\"#EF553B\",\"size\":[5],\"sizemode\":\"area\",\"sizeref\":0.025},\"mode\":\"markers\",\"name\":\"path_with_obstacle\",\"showlegend\":true,\"subplot\":\"mapbox\",\"type\":\"scattermapbox\"}],\"name\":\"1400.0\"},{\"data\":[{\"hovertemplate\":\"<b>%{hovertext}</b><br><br>type=path_no_obstacle<br>timestep=1600.0<br>size=%{marker.size}<br>lat=%{lat}<br>lon=%{lon}<extra></extra>\",\"hovertext\":[\"path_no_obstacle\"],\"lat\":[34.59090909090909],\"legendgroup\":\"path_no_obstacle\",\"lon\":[170.0909090909091],\"marker\":{\"color\":\"#636efa\",\"size\":[5],\"sizemode\":\"area\",\"sizeref\":0.025},\"mode\":\"markers\",\"name\":\"path_no_obstacle\",\"showlegend\":true,\"subplot\":\"mapbox\",\"type\":\"scattermapbox\"},{\"hovertemplate\":\"<b>%{hovertext}</b><br><br>type=path_with_obstacle<br>timestep=1600.0<br>size=%{marker.size}<br>lat=%{lat}<br>lon=%{lon}<extra></extra>\",\"hovertext\":[\"path_with_obstacle\"],\"lat\":[38.5],\"legendgroup\":\"path_with_obstacle\",\"lon\":[167.60919540229884],\"marker\":{\"color\":\"#EF553B\",\"size\":[5],\"sizemode\":\"area\",\"sizeref\":0.025},\"mode\":\"markers\",\"name\":\"path_with_obstacle\",\"showlegend\":true,\"subplot\":\"mapbox\",\"type\":\"scattermapbox\"}],\"name\":\"1600.0\"},{\"data\":[{\"hovertemplate\":\"<b>%{hovertext}</b><br><br>type=path_no_obstacle<br>timestep=1800.0<br>size=%{marker.size}<br>lat=%{lat}<br>lon=%{lon}<extra></extra>\",\"hovertext\":[\"path_no_obstacle\"],\"lat\":[33.205882352941174],\"legendgroup\":\"path_no_obstacle\",\"lon\":[168.7058823529412],\"marker\":{\"color\":\"#636efa\",\"size\":[5],\"sizemode\":\"area\",\"sizeref\":0.025},\"mode\":\"markers\",\"name\":\"path_no_obstacle\",\"showlegend\":true,\"subplot\":\"mapbox\",\"type\":\"scattermapbox\"},{\"hovertemplate\":\"<b>%{hovertext}</b><br><br>type=path_with_obstacle<br>timestep=1800.0<br>size=%{marker.size}<br>lat=%{lat}<br>lon=%{lon}<extra></extra>\",\"hovertext\":[\"path_with_obstacle\"],\"lat\":[38.5],\"legendgroup\":\"path_with_obstacle\",\"lon\":[165.31034482758622],\"marker\":{\"color\":\"#EF553B\",\"size\":[5],\"sizemode\":\"area\",\"sizeref\":0.025},\"mode\":\"markers\",\"name\":\"path_with_obstacle\",\"showlegend\":true,\"subplot\":\"mapbox\",\"type\":\"scattermapbox\"}],\"name\":\"1800.0\"},{\"data\":[{\"hovertemplate\":\"<b>%{hovertext}</b><br><br>type=path_no_obstacle<br>timestep=2000.0<br>size=%{marker.size}<br>lat=%{lat}<br>lon=%{lon}<extra></extra>\",\"hovertext\":[\"path_no_obstacle\"],\"lat\":[31.82876712328768],\"legendgroup\":\"path_no_obstacle\",\"lon\":[167.32876712328766],\"marker\":{\"color\":\"#636efa\",\"size\":[5],\"sizemode\":\"area\",\"sizeref\":0.025},\"mode\":\"markers\",\"name\":\"path_no_obstacle\",\"showlegend\":true,\"subplot\":\"mapbox\",\"type\":\"scattermapbox\"},{\"hovertemplate\":\"<b>%{hovertext}</b><br><br>type=path_with_obstacle<br>timestep=2000.0<br>size=%{marker.size}<br>lat=%{lat}<br>lon=%{lon}<extra></extra>\",\"hovertext\":[\"path_with_obstacle\"],\"lat\":[38.5],\"legendgroup\":\"path_with_obstacle\",\"lon\":[163.01149425287358],\"marker\":{\"color\":\"#EF553B\",\"size\":[5],\"sizemode\":\"area\",\"sizeref\":0.025},\"mode\":\"markers\",\"name\":\"path_with_obstacle\",\"showlegend\":true,\"subplot\":\"mapbox\",\"type\":\"scattermapbox\"}],\"name\":\"2000.0\"},{\"data\":[{\"hovertemplate\":\"<b>%{hovertext}</b><br><br>type=path_no_obstacle<br>timestep=2200.0<br>size=%{marker.size}<br>lat=%{lat}<br>lon=%{lon}<extra></extra>\",\"hovertext\":[\"path_no_obstacle\"],\"lat\":[30.459183673469383],\"legendgroup\":\"path_no_obstacle\",\"lon\":[165.9591836734694],\"marker\":{\"color\":\"#636efa\",\"size\":[5],\"sizemode\":\"area\",\"sizeref\":0.025},\"mode\":\"markers\",\"name\":\"path_no_obstacle\",\"showlegend\":true,\"subplot\":\"mapbox\",\"type\":\"scattermapbox\"},{\"hovertemplate\":\"<b>%{hovertext}</b><br><br>type=path_with_obstacle<br>timestep=2200.0<br>size=%{marker.size}<br>lat=%{lat}<br>lon=%{lon}<extra></extra>\",\"hovertext\":[\"path_with_obstacle\"],\"lat\":[38.5],\"legendgroup\":\"path_with_obstacle\",\"lon\":[160.71264367816093],\"marker\":{\"color\":\"#EF553B\",\"size\":[5],\"sizemode\":\"area\",\"sizeref\":0.025},\"mode\":\"markers\",\"name\":\"path_with_obstacle\",\"showlegend\":true,\"subplot\":\"mapbox\",\"type\":\"scattermapbox\"}],\"name\":\"2200.0\"},{\"data\":[{\"hovertemplate\":\"<b>%{hovertext}</b><br><br>type=path_no_obstacle<br>timestep=2400.0<br>size=%{marker.size}<br>lat=%{lat}<br>lon=%{lon}<extra></extra>\",\"hovertext\":[\"path_no_obstacle\"],\"lat\":[29.098639455782312],\"legendgroup\":\"path_no_obstacle\",\"lon\":[164.59863945578232],\"marker\":{\"color\":\"#636efa\",\"size\":[5],\"sizemode\":\"area\",\"sizeref\":0.025},\"mode\":\"markers\",\"name\":\"path_no_obstacle\",\"showlegend\":true,\"subplot\":\"mapbox\",\"type\":\"scattermapbox\"},{\"hovertemplate\":\"<b>%{hovertext}</b><br><br>type=path_with_obstacle<br>timestep=2400.0<br>size=%{marker.size}<br>lat=%{lat}<br>lon=%{lon}<extra></extra>\",\"hovertext\":[\"path_with_obstacle\"],\"lat\":[38.5],\"legendgroup\":\"path_with_obstacle\",\"lon\":[158.41379310344828],\"marker\":{\"color\":\"#EF553B\",\"size\":[5],\"sizemode\":\"area\",\"sizeref\":0.025},\"mode\":\"markers\",\"name\":\"path_with_obstacle\",\"showlegend\":true,\"subplot\":\"mapbox\",\"type\":\"scattermapbox\"}],\"name\":\"2400.0\"},{\"data\":[{\"hovertemplate\":\"<b>%{hovertext}</b><br><br>type=path_no_obstacle<br>timestep=2600.0<br>size=%{marker.size}<br>lat=%{lat}<br>lon=%{lon}<extra></extra>\",\"hovertext\":[\"path_no_obstacle\"],\"lat\":[27.74579124579125],\"legendgroup\":\"path_no_obstacle\",\"lon\":[163.24579124579125],\"marker\":{\"color\":\"#636efa\",\"size\":[5],\"sizemode\":\"area\",\"sizeref\":0.025},\"mode\":\"markers\",\"name\":\"path_no_obstacle\",\"showlegend\":true,\"subplot\":\"mapbox\",\"type\":\"scattermapbox\"},{\"hovertemplate\":\"<b>%{hovertext}</b><br><br>type=path_with_obstacle<br>timestep=2600.0<br>size=%{marker.size}<br>lat=%{lat}<br>lon=%{lon}<extra></extra>\",\"hovertext\":[\"path_with_obstacle\"],\"lat\":[37.340989399293285],\"legendgroup\":\"path_with_obstacle\",\"lon\":[156.84098939929328],\"marker\":{\"color\":\"#EF553B\",\"size\":[5],\"sizemode\":\"area\",\"sizeref\":0.025},\"mode\":\"markers\",\"name\":\"path_with_obstacle\",\"showlegend\":true,\"subplot\":\"mapbox\",\"type\":\"scattermapbox\"}],\"name\":\"2600.0\"},{\"data\":[{\"hovertemplate\":\"<b>%{hovertext}</b><br><br>type=path_no_obstacle<br>timestep=2800.0<br>size=%{marker.size}<br>lat=%{lat}<br>lon=%{lon}<extra></extra>\",\"hovertext\":[\"path_no_obstacle\"],\"lat\":[26.399665551839465],\"legendgroup\":\"path_no_obstacle\",\"lon\":[161.89966555183946],\"marker\":{\"color\":\"#636efa\",\"size\":[5],\"sizemode\":\"area\",\"sizeref\":0.025},\"mode\":\"markers\",\"name\":\"path_no_obstacle\",\"showlegend\":true,\"subplot\":\"mapbox\",\"type\":\"scattermapbox\"},{\"hovertemplate\":\"<b>%{hovertext}</b><br><br>type=path_with_obstacle<br>timestep=2800.0<br>size=%{marker.size}<br>lat=%{lat}<br>lon=%{lon}<extra></extra>\",\"hovertext\":[\"path_with_obstacle\"],\"lat\":[35.93356643356643],\"legendgroup\":\"path_with_obstacle\",\"lon\":[155.43356643356643],\"marker\":{\"color\":\"#EF553B\",\"size\":[5],\"sizemode\":\"area\",\"sizeref\":0.025},\"mode\":\"markers\",\"name\":\"path_with_obstacle\",\"showlegend\":true,\"subplot\":\"mapbox\",\"type\":\"scattermapbox\"},{\"hovertemplate\":\"<b>%{hovertext}</b><br><br>type=obstacle<br>timestep=2800.0<br>size=%{marker.size}<br>lat=%{lat}<br>lon=%{lon}<extra></extra>\",\"hovertext\":[\"obstacle\"],\"lat\":[25.0],\"legendgroup\":\"obstacle\",\"lon\":[160.0],\"marker\":{\"color\":\"#00cc96\",\"size\":[10],\"sizemode\":\"area\",\"sizeref\":0.025},\"mode\":\"markers\",\"name\":\"obstacle\",\"showlegend\":true,\"subplot\":\"mapbox\",\"type\":\"scattermapbox\"}],\"name\":\"2800.0\"},{\"data\":[{\"hovertemplate\":\"<b>%{hovertext}</b><br><br>type=path_no_obstacle<br>timestep=3000.0<br>size=%{marker.size}<br>lat=%{lat}<br>lon=%{lon}<extra></extra>\",\"hovertext\":[\"path_no_obstacle\"],\"lat\":[25.061872909699],\"legendgroup\":\"path_no_obstacle\",\"lon\":[160.561872909699],\"marker\":{\"color\":\"#636efa\",\"size\":[5],\"sizemode\":\"area\",\"sizeref\":0.025},\"mode\":\"markers\",\"name\":\"path_no_obstacle\",\"showlegend\":true,\"subplot\":\"mapbox\",\"type\":\"scattermapbox\"},{\"hovertemplate\":\"<b>%{hovertext}</b><br><br>type=path_with_obstacle<br>timestep=3000.0<br>size=%{marker.size}<br>lat=%{lat}<br>lon=%{lon}<extra></extra>\",\"hovertext\":[\"path_with_obstacle\"],\"lat\":[34.53496503496503],\"legendgroup\":\"path_with_obstacle\",\"lon\":[154.03496503496504],\"marker\":{\"color\":\"#EF553B\",\"size\":[5],\"sizemode\":\"area\",\"sizeref\":0.025},\"mode\":\"markers\",\"name\":\"path_with_obstacle\",\"showlegend\":true,\"subplot\":\"mapbox\",\"type\":\"scattermapbox\"},{\"hovertemplate\":\"<b>%{hovertext}</b><br><br>type=obstacle<br>timestep=3000.0<br>size=%{marker.size}<br>lat=%{lat}<br>lon=%{lon}<extra></extra>\",\"hovertext\":[\"obstacle\"],\"lat\":[24.625],\"legendgroup\":\"obstacle\",\"lon\":[160.0],\"marker\":{\"color\":\"#00cc96\",\"size\":[10],\"sizemode\":\"area\",\"sizeref\":0.025},\"mode\":\"markers\",\"name\":\"obstacle\",\"showlegend\":true,\"subplot\":\"mapbox\",\"type\":\"scattermapbox\"}],\"name\":\"3000.0\"},{\"data\":[{\"hovertemplate\":\"<b>%{hovertext}</b><br><br>type=path_no_obstacle<br>timestep=3200.0<br>size=%{marker.size}<br>lat=%{lat}<br>lon=%{lon}<extra></extra>\",\"hovertext\":[\"path_no_obstacle\"],\"lat\":[23.729235880398672],\"legendgroup\":\"path_no_obstacle\",\"lon\":[159.22923588039868],\"marker\":{\"color\":\"#636efa\",\"size\":[5],\"sizemode\":\"area\",\"sizeref\":0.025},\"mode\":\"markers\",\"name\":\"path_no_obstacle\",\"showlegend\":true,\"subplot\":\"mapbox\",\"type\":\"scattermapbox\"},{\"hovertemplate\":\"<b>%{hovertext}</b><br><br>type=path_with_obstacle<br>timestep=3200.0<br>size=%{marker.size}<br>lat=%{lat}<br>lon=%{lon}<extra></extra>\",\"hovertext\":[\"path_with_obstacle\"],\"lat\":[33.15051903114187],\"legendgroup\":\"path_with_obstacle\",\"lon\":[152.65051903114187],\"marker\":{\"color\":\"#EF553B\",\"size\":[5],\"sizemode\":\"area\",\"sizeref\":0.025},\"mode\":\"markers\",\"name\":\"path_with_obstacle\",\"showlegend\":true,\"subplot\":\"mapbox\",\"type\":\"scattermapbox\"},{\"hovertemplate\":\"<b>%{hovertext}</b><br><br>type=obstacle<br>timestep=3200.0<br>size=%{marker.size}<br>lat=%{lat}<br>lon=%{lon}<extra></extra>\",\"hovertext\":[\"obstacle\"],\"lat\":[24.25],\"legendgroup\":\"obstacle\",\"lon\":[160.0],\"marker\":{\"color\":\"#00cc96\",\"size\":[10],\"sizemode\":\"area\",\"sizeref\":0.025},\"mode\":\"markers\",\"name\":\"obstacle\",\"showlegend\":true,\"subplot\":\"mapbox\",\"type\":\"scattermapbox\"}],\"name\":\"3200.0\"},{\"data\":[{\"hovertemplate\":\"<b>%{hovertext}</b><br><br>type=path_no_obstacle<br>timestep=3400.0<br>size=%{marker.size}<br>lat=%{lat}<br>lon=%{lon}<extra></extra>\",\"hovertext\":[\"path_no_obstacle\"],\"lat\":[22.400990099009903],\"legendgroup\":\"path_no_obstacle\",\"lon\":[157.9009900990099],\"marker\":{\"color\":\"#636efa\",\"size\":[5],\"sizemode\":\"area\",\"sizeref\":0.025},\"mode\":\"markers\",\"name\":\"path_no_obstacle\",\"showlegend\":true,\"subplot\":\"mapbox\",\"type\":\"scattermapbox\"},{\"hovertemplate\":\"<b>%{hovertext}</b><br><br>type=path_with_obstacle<br>timestep=3400.0<br>size=%{marker.size}<br>lat=%{lat}<br>lon=%{lon}<extra></extra>\",\"hovertext\":[\"path_with_obstacle\"],\"lat\":[31.773972602739725],\"legendgroup\":\"path_with_obstacle\",\"lon\":[151.27397260273972],\"marker\":{\"color\":\"#EF553B\",\"size\":[5],\"sizemode\":\"area\",\"sizeref\":0.025},\"mode\":\"markers\",\"name\":\"path_with_obstacle\",\"showlegend\":true,\"subplot\":\"mapbox\",\"type\":\"scattermapbox\"},{\"hovertemplate\":\"<b>%{hovertext}</b><br><br>type=obstacle<br>timestep=3400.0<br>size=%{marker.size}<br>lat=%{lat}<br>lon=%{lon}<extra></extra>\",\"hovertext\":[\"obstacle\"],\"lat\":[23.875],\"legendgroup\":\"obstacle\",\"lon\":[160.0],\"marker\":{\"color\":\"#00cc96\",\"size\":[10],\"sizemode\":\"area\",\"sizeref\":0.025},\"mode\":\"markers\",\"name\":\"obstacle\",\"showlegend\":true,\"subplot\":\"mapbox\",\"type\":\"scattermapbox\"}],\"name\":\"3400.0\"},{\"data\":[{\"hovertemplate\":\"<b>%{hovertext}</b><br><br>type=path_no_obstacle<br>timestep=3600.0<br>size=%{marker.size}<br>lat=%{lat}<br>lon=%{lon}<extra></extra>\",\"hovertext\":[\"path_no_obstacle\"],\"lat\":[21.08085808580858],\"legendgroup\":\"path_no_obstacle\",\"lon\":[156.5808580858086],\"marker\":{\"color\":\"#636efa\",\"size\":[5],\"sizemode\":\"area\",\"sizeref\":0.025},\"mode\":\"markers\",\"name\":\"path_no_obstacle\",\"showlegend\":true,\"subplot\":\"mapbox\",\"type\":\"scattermapbox\"},{\"hovertemplate\":\"<b>%{hovertext}</b><br><br>type=path_with_obstacle<br>timestep=3600.0<br>size=%{marker.size}<br>lat=%{lat}<br>lon=%{lon}<extra></extra>\",\"hovertext\":[\"path_with_obstacle\"],\"lat\":[30.404761904761905],\"legendgroup\":\"path_with_obstacle\",\"lon\":[149.9047619047619],\"marker\":{\"color\":\"#EF553B\",\"size\":[5],\"sizemode\":\"area\",\"sizeref\":0.025},\"mode\":\"markers\",\"name\":\"path_with_obstacle\",\"showlegend\":true,\"subplot\":\"mapbox\",\"type\":\"scattermapbox\"},{\"hovertemplate\":\"<b>%{hovertext}</b><br><br>type=obstacle<br>timestep=3600.0<br>size=%{marker.size}<br>lat=%{lat}<br>lon=%{lon}<extra></extra>\",\"hovertext\":[\"obstacle\"],\"lat\":[23.5],\"legendgroup\":\"obstacle\",\"lon\":[160.0],\"marker\":{\"color\":\"#00cc96\",\"size\":[10],\"sizemode\":\"area\",\"sizeref\":0.025},\"mode\":\"markers\",\"name\":\"obstacle\",\"showlegend\":true,\"subplot\":\"mapbox\",\"type\":\"scattermapbox\"}],\"name\":\"3600.0\"},{\"data\":[{\"hovertemplate\":\"<b>%{hovertext}</b><br><br>type=path_no_obstacle<br>timestep=3800.0<br>size=%{marker.size}<br>lat=%{lat}<br>lon=%{lon}<extra></extra>\",\"hovertext\":[\"path_no_obstacle\"],\"lat\":[19.7655737704918],\"legendgroup\":\"path_no_obstacle\",\"lon\":[155.2655737704918],\"marker\":{\"color\":\"#636efa\",\"size\":[5],\"sizemode\":\"area\",\"sizeref\":0.025},\"mode\":\"markers\",\"name\":\"path_no_obstacle\",\"showlegend\":true,\"subplot\":\"mapbox\",\"type\":\"scattermapbox\"},{\"hovertemplate\":\"<b>%{hovertext}</b><br><br>type=path_with_obstacle<br>timestep=3800.0<br>size=%{marker.size}<br>lat=%{lat}<br>lon=%{lon}<extra></extra>\",\"hovertext\":[\"path_with_obstacle\"],\"lat\":[29.04421768707483],\"legendgroup\":\"path_with_obstacle\",\"lon\":[148.54421768707482],\"marker\":{\"color\":\"#EF553B\",\"size\":[5],\"sizemode\":\"area\",\"sizeref\":0.025},\"mode\":\"markers\",\"name\":\"path_with_obstacle\",\"showlegend\":true,\"subplot\":\"mapbox\",\"type\":\"scattermapbox\"},{\"hovertemplate\":\"<b>%{hovertext}</b><br><br>type=obstacle<br>timestep=3800.0<br>size=%{marker.size}<br>lat=%{lat}<br>lon=%{lon}<extra></extra>\",\"hovertext\":[\"obstacle\"],\"lat\":[23.125],\"legendgroup\":\"obstacle\",\"lon\":[160.0],\"marker\":{\"color\":\"#00cc96\",\"size\":[10],\"sizemode\":\"area\",\"sizeref\":0.025},\"mode\":\"markers\",\"name\":\"obstacle\",\"showlegend\":true,\"subplot\":\"mapbox\",\"type\":\"scattermapbox\"}],\"name\":\"3800.0\"},{\"data\":[{\"hovertemplate\":\"<b>%{hovertext}</b><br><br>type=path_no_obstacle<br>timestep=4000.0<br>size=%{marker.size}<br>lat=%{lat}<br>lon=%{lon}<extra></extra>\",\"hovertext\":[\"path_no_obstacle\"],\"lat\":[18.45439739413681],\"legendgroup\":\"path_no_obstacle\",\"lon\":[153.9543973941368],\"marker\":{\"color\":\"#636efa\",\"size\":[5],\"sizemode\":\"area\",\"sizeref\":0.025},\"mode\":\"markers\",\"name\":\"path_no_obstacle\",\"showlegend\":true,\"subplot\":\"mapbox\",\"type\":\"scattermapbox\"},{\"hovertemplate\":\"<b>%{hovertext}</b><br><br>type=path_with_obstacle<br>timestep=4000.0<br>size=%{marker.size}<br>lat=%{lat}<br>lon=%{lon}<extra></extra>\",\"hovertext\":[\"path_with_obstacle\"],\"lat\":[27.69191919191919],\"legendgroup\":\"path_with_obstacle\",\"lon\":[147.1919191919192],\"marker\":{\"color\":\"#EF553B\",\"size\":[5],\"sizemode\":\"area\",\"sizeref\":0.025},\"mode\":\"markers\",\"name\":\"path_with_obstacle\",\"showlegend\":true,\"subplot\":\"mapbox\",\"type\":\"scattermapbox\"},{\"hovertemplate\":\"<b>%{hovertext}</b><br><br>type=obstacle<br>timestep=4000.0<br>size=%{marker.size}<br>lat=%{lat}<br>lon=%{lon}<extra></extra>\",\"hovertext\":[\"obstacle\"],\"lat\":[22.75],\"legendgroup\":\"obstacle\",\"lon\":[160.0],\"marker\":{\"color\":\"#00cc96\",\"size\":[10],\"sizemode\":\"area\",\"sizeref\":0.025},\"mode\":\"markers\",\"name\":\"obstacle\",\"showlegend\":true,\"subplot\":\"mapbox\",\"type\":\"scattermapbox\"}],\"name\":\"4000.0\"},{\"data\":[{\"hovertemplate\":\"<b>%{hovertext}</b><br><br>type=path_no_obstacle<br>timestep=4200.0<br>size=%{marker.size}<br>lat=%{lat}<br>lon=%{lon}<extra></extra>\",\"hovertext\":[\"path_no_obstacle\"],\"lat\":[17.151465798045603],\"legendgroup\":\"path_no_obstacle\",\"lon\":[152.6514657980456],\"marker\":{\"color\":\"#636efa\",\"size\":[5],\"sizemode\":\"area\",\"sizeref\":0.025},\"mode\":\"markers\",\"name\":\"path_no_obstacle\",\"showlegend\":true,\"subplot\":\"mapbox\",\"type\":\"scattermapbox\"},{\"hovertemplate\":\"<b>%{hovertext}</b><br><br>type=path_with_obstacle<br>timestep=4200.0<br>size=%{marker.size}<br>lat=%{lat}<br>lon=%{lon}<extra></extra>\",\"hovertext\":[\"path_with_obstacle\"],\"lat\":[26.346153846153847],\"legendgroup\":\"path_with_obstacle\",\"lon\":[145.84615384615384],\"marker\":{\"color\":\"#EF553B\",\"size\":[5],\"sizemode\":\"area\",\"sizeref\":0.025},\"mode\":\"markers\",\"name\":\"path_with_obstacle\",\"showlegend\":true,\"subplot\":\"mapbox\",\"type\":\"scattermapbox\"},{\"hovertemplate\":\"<b>%{hovertext}</b><br><br>type=obstacle<br>timestep=4200.0<br>size=%{marker.size}<br>lat=%{lat}<br>lon=%{lon}<extra></extra>\",\"hovertext\":[\"obstacle\"],\"lat\":[22.375],\"legendgroup\":\"obstacle\",\"lon\":[160.0],\"marker\":{\"color\":\"#00cc96\",\"size\":[10],\"sizemode\":\"area\",\"sizeref\":0.025},\"mode\":\"markers\",\"name\":\"obstacle\",\"showlegend\":true,\"subplot\":\"mapbox\",\"type\":\"scattermapbox\"}],\"name\":\"4200.0\"},{\"data\":[{\"hovertemplate\":\"<b>%{hovertext}</b><br><br>type=path_no_obstacle<br>timestep=4400.0<br>size=%{marker.size}<br>lat=%{lat}<br>lon=%{lon}<extra></extra>\",\"hovertext\":[\"path_no_obstacle\"],\"lat\":[15.85064935064935],\"legendgroup\":\"path_no_obstacle\",\"lon\":[151.35064935064935],\"marker\":{\"color\":\"#636efa\",\"size\":[5],\"sizemode\":\"area\",\"sizeref\":0.025},\"mode\":\"markers\",\"name\":\"path_no_obstacle\",\"showlegend\":true,\"subplot\":\"mapbox\",\"type\":\"scattermapbox\"},{\"hovertemplate\":\"<b>%{hovertext}</b><br><br>type=path_with_obstacle<br>timestep=4400.0<br>size=%{marker.size}<br>lat=%{lat}<br>lon=%{lon}<extra></extra>\",\"hovertext\":[\"path_with_obstacle\"],\"lat\":[25.00836120401338],\"legendgroup\":\"path_with_obstacle\",\"lon\":[144.50836120401337],\"marker\":{\"color\":\"#EF553B\",\"size\":[5],\"sizemode\":\"area\",\"sizeref\":0.025},\"mode\":\"markers\",\"name\":\"path_with_obstacle\",\"showlegend\":true,\"subplot\":\"mapbox\",\"type\":\"scattermapbox\"},{\"hovertemplate\":\"<b>%{hovertext}</b><br><br>type=obstacle<br>timestep=4400.0<br>size=%{marker.size}<br>lat=%{lat}<br>lon=%{lon}<extra></extra>\",\"hovertext\":[\"obstacle\"],\"lat\":[22.0],\"legendgroup\":\"obstacle\",\"lon\":[160.0],\"marker\":{\"color\":\"#00cc96\",\"size\":[10],\"sizemode\":\"area\",\"sizeref\":0.025},\"mode\":\"markers\",\"name\":\"obstacle\",\"showlegend\":true,\"subplot\":\"mapbox\",\"type\":\"scattermapbox\"}],\"name\":\"4400.0\"},{\"data\":[{\"hovertemplate\":\"<b>%{hovertext}</b><br><br>type=path_no_obstacle<br>timestep=4600.0<br>size=%{marker.size}<br>lat=%{lat}<br>lon=%{lon}<extra></extra>\",\"hovertext\":[\"path_no_obstacle\"],\"lat\":[14.551948051948052],\"legendgroup\":\"path_no_obstacle\",\"lon\":[150.05194805194805],\"marker\":{\"color\":\"#636efa\",\"size\":[5],\"sizemode\":\"area\",\"sizeref\":0.025},\"mode\":\"markers\",\"name\":\"path_no_obstacle\",\"showlegend\":true,\"subplot\":\"mapbox\",\"type\":\"scattermapbox\"},{\"hovertemplate\":\"<b>%{hovertext}</b><br><br>type=path_with_obstacle<br>timestep=4600.0<br>size=%{marker.size}<br>lat=%{lat}<br>lon=%{lon}<extra></extra>\",\"hovertext\":[\"path_with_obstacle\"],\"lat\":[23.676079734219268],\"legendgroup\":\"path_with_obstacle\",\"lon\":[143.17607973421926],\"marker\":{\"color\":\"#EF553B\",\"size\":[5],\"sizemode\":\"area\",\"sizeref\":0.025},\"mode\":\"markers\",\"name\":\"path_with_obstacle\",\"showlegend\":true,\"subplot\":\"mapbox\",\"type\":\"scattermapbox\"}],\"name\":\"4600.0\"},{\"data\":[{\"hovertemplate\":\"<b>%{hovertext}</b><br><br>type=path_no_obstacle<br>timestep=4800.0<br>size=%{marker.size}<br>lat=%{lat}<br>lon=%{lon}<extra></extra>\",\"hovertext\":[\"path_no_obstacle\"],\"lat\":[13.261290322580646],\"legendgroup\":\"path_no_obstacle\",\"lon\":[148.76129032258063],\"marker\":{\"color\":\"#636efa\",\"size\":[5],\"sizemode\":\"area\",\"sizeref\":0.025},\"mode\":\"markers\",\"name\":\"path_no_obstacle\",\"showlegend\":true,\"subplot\":\"mapbox\",\"type\":\"scattermapbox\"},{\"hovertemplate\":\"<b>%{hovertext}</b><br><br>type=path_with_obstacle<br>timestep=4800.0<br>size=%{marker.size}<br>lat=%{lat}<br>lon=%{lon}<extra></extra>\",\"hovertext\":[\"path_with_obstacle\"],\"lat\":[22.348184818481847],\"legendgroup\":\"path_with_obstacle\",\"lon\":[141.84818481848183],\"marker\":{\"color\":\"#EF553B\",\"size\":[5],\"sizemode\":\"area\",\"sizeref\":0.025},\"mode\":\"markers\",\"name\":\"path_with_obstacle\",\"showlegend\":true,\"subplot\":\"mapbox\",\"type\":\"scattermapbox\"}],\"name\":\"4800.0\"},{\"data\":[{\"hovertemplate\":\"<b>%{hovertext}</b><br><br>type=path_no_obstacle<br>timestep=5000.0<br>size=%{marker.size}<br>lat=%{lat}<br>lon=%{lon}<extra></extra>\",\"hovertext\":[\"path_no_obstacle\"],\"lat\":[11.97266881028939],\"legendgroup\":\"path_no_obstacle\",\"lon\":[147.47266881028938],\"marker\":{\"color\":\"#636efa\",\"size\":[5],\"sizemode\":\"area\",\"sizeref\":0.025},\"mode\":\"markers\",\"name\":\"path_no_obstacle\",\"showlegend\":true,\"subplot\":\"mapbox\",\"type\":\"scattermapbox\"},{\"hovertemplate\":\"<b>%{hovertext}</b><br><br>type=path_with_obstacle<br>timestep=5000.0<br>size=%{marker.size}<br>lat=%{lat}<br>lon=%{lon}<extra></extra>\",\"hovertext\":[\"path_with_obstacle\"],\"lat\":[21.028052805280527],\"legendgroup\":\"path_with_obstacle\",\"lon\":[140.52805280528054],\"marker\":{\"color\":\"#EF553B\",\"size\":[5],\"sizemode\":\"area\",\"sizeref\":0.025},\"mode\":\"markers\",\"name\":\"path_with_obstacle\",\"showlegend\":true,\"subplot\":\"mapbox\",\"type\":\"scattermapbox\"}],\"name\":\"5000.0\"},{\"data\":[{\"hovertemplate\":\"<b>%{hovertext}</b><br><br>type=path_no_obstacle<br>timestep=5200.0<br>size=%{marker.size}<br>lat=%{lat}<br>lon=%{lon}<extra></extra>\",\"hovertext\":[\"path_no_obstacle\"],\"lat\":[10.686495176848874],\"legendgroup\":\"path_no_obstacle\",\"lon\":[146.1864951768489],\"marker\":{\"color\":\"#636efa\",\"size\":[5],\"sizemode\":\"area\",\"sizeref\":0.025},\"mode\":\"markers\",\"name\":\"path_no_obstacle\",\"showlegend\":true,\"subplot\":\"mapbox\",\"type\":\"scattermapbox\"},{\"hovertemplate\":\"<b>%{hovertext}</b><br><br>type=path_with_obstacle<br>timestep=5200.0<br>size=%{marker.size}<br>lat=%{lat}<br>lon=%{lon}<extra></extra>\",\"hovertext\":[\"path_with_obstacle\"],\"lat\":[19.71311475409836],\"legendgroup\":\"path_with_obstacle\",\"lon\":[139.21311475409837],\"marker\":{\"color\":\"#EF553B\",\"size\":[5],\"sizemode\":\"area\",\"sizeref\":0.025},\"mode\":\"markers\",\"name\":\"path_with_obstacle\",\"showlegend\":true,\"subplot\":\"mapbox\",\"type\":\"scattermapbox\"}],\"name\":\"5200.0\"},{\"data\":[{\"hovertemplate\":\"<b>%{hovertext}</b><br><br>type=path_no_obstacle<br>timestep=5400.0<br>size=%{marker.size}<br>lat=%{lat}<br>lon=%{lon}<extra></extra>\",\"hovertext\":[\"path_no_obstacle\"],\"lat\":[9.403846153846152],\"legendgroup\":\"path_no_obstacle\",\"lon\":[144.90384615384616],\"marker\":{\"color\":\"#636efa\",\"size\":[5],\"sizemode\":\"area\",\"sizeref\":0.025},\"mode\":\"markers\",\"name\":\"path_no_obstacle\",\"showlegend\":true,\"subplot\":\"mapbox\",\"type\":\"scattermapbox\"},{\"hovertemplate\":\"<b>%{hovertext}</b><br><br>type=path_with_obstacle<br>timestep=5400.0<br>size=%{marker.size}<br>lat=%{lat}<br>lon=%{lon}<extra></extra>\",\"hovertext\":[\"path_with_obstacle\"],\"lat\":[18.40228013029316],\"legendgroup\":\"path_with_obstacle\",\"lon\":[137.90228013029315],\"marker\":{\"color\":\"#EF553B\",\"size\":[5],\"sizemode\":\"area\",\"sizeref\":0.025},\"mode\":\"markers\",\"name\":\"path_with_obstacle\",\"showlegend\":true,\"subplot\":\"mapbox\",\"type\":\"scattermapbox\"}],\"name\":\"5400.0\"},{\"data\":[{\"hovertemplate\":\"<b>%{hovertext}</b><br><br>type=path_no_obstacle<br>timestep=5600.0<br>size=%{marker.size}<br>lat=%{lat}<br>lon=%{lon}<extra></extra>\",\"hovertext\":[\"path_no_obstacle\"],\"lat\":[8.12300319488818],\"legendgroup\":\"path_no_obstacle\",\"lon\":[143.62300319488818],\"marker\":{\"color\":\"#636efa\",\"size\":[5],\"sizemode\":\"area\",\"sizeref\":0.025},\"mode\":\"markers\",\"name\":\"path_no_obstacle\",\"showlegend\":true,\"subplot\":\"mapbox\",\"type\":\"scattermapbox\"},{\"hovertemplate\":\"<b>%{hovertext}</b><br><br>type=path_with_obstacle<br>timestep=5600.0<br>size=%{marker.size}<br>lat=%{lat}<br>lon=%{lon}<extra></extra>\",\"hovertext\":[\"path_with_obstacle\"],\"lat\":[17.099348534201955],\"legendgroup\":\"path_with_obstacle\",\"lon\":[136.59934853420197],\"marker\":{\"color\":\"#EF553B\",\"size\":[5],\"sizemode\":\"area\",\"sizeref\":0.025},\"mode\":\"markers\",\"name\":\"path_with_obstacle\",\"showlegend\":true,\"subplot\":\"mapbox\",\"type\":\"scattermapbox\"}],\"name\":\"5600.0\"},{\"data\":[{\"hovertemplate\":\"<b>%{hovertext}</b><br><br>type=path_no_obstacle<br>timestep=5800.0<br>size=%{marker.size}<br>lat=%{lat}<br>lon=%{lon}<extra></extra>\",\"hovertext\":[\"path_no_obstacle\"],\"lat\":[6.845047923322683],\"legendgroup\":\"path_no_obstacle\",\"lon\":[142.34504792332268],\"marker\":{\"color\":\"#636efa\",\"size\":[5],\"sizemode\":\"area\",\"sizeref\":0.025},\"mode\":\"markers\",\"name\":\"path_no_obstacle\",\"showlegend\":true,\"subplot\":\"mapbox\",\"type\":\"scattermapbox\"},{\"hovertemplate\":\"<b>%{hovertext}</b><br><br>type=path_with_obstacle<br>timestep=5800.0<br>size=%{marker.size}<br>lat=%{lat}<br>lon=%{lon}<extra></extra>\",\"hovertext\":[\"path_with_obstacle\"],\"lat\":[15.7987012987013],\"legendgroup\":\"path_with_obstacle\",\"lon\":[135.2987012987013],\"marker\":{\"color\":\"#EF553B\",\"size\":[5],\"sizemode\":\"area\",\"sizeref\":0.025},\"mode\":\"markers\",\"name\":\"path_with_obstacle\",\"showlegend\":true,\"subplot\":\"mapbox\",\"type\":\"scattermapbox\"}],\"name\":\"5800.0\"},{\"data\":[{\"hovertemplate\":\"<b>%{hovertext}</b><br><br>type=path_no_obstacle<br>timestep=6000.0<br>size=%{marker.size}<br>lat=%{lat}<br>lon=%{lon}<extra></extra>\",\"hovertext\":[\"path_no_obstacle\"],\"lat\":[5.567092651757188],\"legendgroup\":\"path_no_obstacle\",\"lon\":[141.06709265175718],\"marker\":{\"color\":\"#636efa\",\"size\":[5],\"sizemode\":\"area\",\"sizeref\":0.025},\"mode\":\"markers\",\"name\":\"path_no_obstacle\",\"showlegend\":true,\"subplot\":\"mapbox\",\"type\":\"scattermapbox\"},{\"hovertemplate\":\"<b>%{hovertext}</b><br><br>type=path_with_obstacle<br>timestep=6000.0<br>size=%{marker.size}<br>lat=%{lat}<br>lon=%{lon}<extra></extra>\",\"hovertext\":[\"path_with_obstacle\"],\"lat\":[14.5],\"legendgroup\":\"path_with_obstacle\",\"lon\":[134.0],\"marker\":{\"color\":\"#EF553B\",\"size\":[5],\"sizemode\":\"area\",\"sizeref\":0.025},\"mode\":\"markers\",\"name\":\"path_with_obstacle\",\"showlegend\":true,\"subplot\":\"mapbox\",\"type\":\"scattermapbox\"}],\"name\":\"6000.0\"},{\"data\":[{\"hovertemplate\":\"<b>%{hovertext}</b><br><br>type=path_no_obstacle<br>timestep=6200.0<br>size=%{marker.size}<br>lat=%{lat}<br>lon=%{lon}<extra></extra>\",\"hovertext\":[\"path_no_obstacle\"],\"lat\":[4.289808917197452],\"legendgroup\":\"path_no_obstacle\",\"lon\":[139.78980891719746],\"marker\":{\"color\":\"#636efa\",\"size\":[5],\"sizemode\":\"area\",\"sizeref\":0.025},\"mode\":\"markers\",\"name\":\"path_no_obstacle\",\"showlegend\":true,\"subplot\":\"mapbox\",\"type\":\"scattermapbox\"},{\"hovertemplate\":\"<b>%{hovertext}</b><br><br>type=path_with_obstacle<br>timestep=6200.0<br>size=%{marker.size}<br>lat=%{lat}<br>lon=%{lon}<extra></extra>\",\"hovertext\":[\"path_with_obstacle\"],\"lat\":[13.209677419354838],\"legendgroup\":\"path_with_obstacle\",\"lon\":[132.70967741935485],\"marker\":{\"color\":\"#EF553B\",\"size\":[5],\"sizemode\":\"area\",\"sizeref\":0.025},\"mode\":\"markers\",\"name\":\"path_with_obstacle\",\"showlegend\":true,\"subplot\":\"mapbox\",\"type\":\"scattermapbox\"}],\"name\":\"6200.0\"},{\"data\":[{\"hovertemplate\":\"<b>%{hovertext}</b><br><br>type=path_no_obstacle<br>timestep=6400.0<br>size=%{marker.size}<br>lat=%{lat}<br>lon=%{lon}<extra></extra>\",\"hovertext\":[\"path_no_obstacle\"],\"lat\":[3.015923566878981],\"legendgroup\":\"path_no_obstacle\",\"lon\":[138.51592356687897],\"marker\":{\"color\":\"#636efa\",\"size\":[5],\"sizemode\":\"area\",\"sizeref\":0.025},\"mode\":\"markers\",\"name\":\"path_no_obstacle\",\"showlegend\":true,\"subplot\":\"mapbox\",\"type\":\"scattermapbox\"},{\"hovertemplate\":\"<b>%{hovertext}</b><br><br>type=path_with_obstacle<br>timestep=6400.0<br>size=%{marker.size}<br>lat=%{lat}<br>lon=%{lon}<extra></extra>\",\"hovertext\":[\"path_with_obstacle\"],\"lat\":[11.921221864951768],\"legendgroup\":\"path_with_obstacle\",\"lon\":[131.42122186495178],\"marker\":{\"color\":\"#EF553B\",\"size\":[5],\"sizemode\":\"area\",\"sizeref\":0.025},\"mode\":\"markers\",\"name\":\"path_with_obstacle\",\"showlegend\":true,\"subplot\":\"mapbox\",\"type\":\"scattermapbox\"}],\"name\":\"6400.0\"},{\"data\":[{\"hovertemplate\":\"<b>%{hovertext}</b><br><br>type=path_no_obstacle<br>timestep=6600.0<br>size=%{marker.size}<br>lat=%{lat}<br>lon=%{lon}<extra></extra>\",\"hovertext\":[\"path_no_obstacle\"],\"lat\":[1.7420382165605095],\"legendgroup\":\"path_no_obstacle\",\"lon\":[137.2420382165605],\"marker\":{\"color\":\"#636efa\",\"size\":[5],\"sizemode\":\"area\",\"sizeref\":0.025},\"mode\":\"markers\",\"name\":\"path_no_obstacle\",\"showlegend\":true,\"subplot\":\"mapbox\",\"type\":\"scattermapbox\"},{\"hovertemplate\":\"<b>%{hovertext}</b><br><br>type=path_with_obstacle<br>timestep=6600.0<br>size=%{marker.size}<br>lat=%{lat}<br>lon=%{lon}<extra></extra>\",\"hovertext\":[\"path_with_obstacle\"],\"lat\":[10.635048231511254],\"legendgroup\":\"path_with_obstacle\",\"lon\":[130.13504823151126],\"marker\":{\"color\":\"#EF553B\",\"size\":[5],\"sizemode\":\"area\",\"sizeref\":0.025},\"mode\":\"markers\",\"name\":\"path_with_obstacle\",\"showlegend\":true,\"subplot\":\"mapbox\",\"type\":\"scattermapbox\"}],\"name\":\"6600.0\"},{\"data\":[{\"hovertemplate\":\"<b>%{hovertext}</b><br><br>type=path_no_obstacle<br>timestep=6800.0<br>size=%{marker.size}<br>lat=%{lat}<br>lon=%{lon}<extra></extra>\",\"hovertext\":[\"path_no_obstacle\"],\"lat\":[0.4681528662420382],\"legendgroup\":\"path_no_obstacle\",\"lon\":[135.96815286624204],\"marker\":{\"color\":\"#636efa\",\"size\":[5],\"sizemode\":\"area\",\"sizeref\":0.025},\"mode\":\"markers\",\"name\":\"path_no_obstacle\",\"showlegend\":true,\"subplot\":\"mapbox\",\"type\":\"scattermapbox\"},{\"hovertemplate\":\"<b>%{hovertext}</b><br><br>type=path_with_obstacle<br>timestep=6800.0<br>size=%{marker.size}<br>lat=%{lat}<br>lon=%{lon}<extra></extra>\",\"hovertext\":[\"path_with_obstacle\"],\"lat\":[9.352564102564102],\"legendgroup\":\"path_with_obstacle\",\"lon\":[128.85256410256412],\"marker\":{\"color\":\"#EF553B\",\"size\":[5],\"sizemode\":\"area\",\"sizeref\":0.025},\"mode\":\"markers\",\"name\":\"path_with_obstacle\",\"showlegend\":true,\"subplot\":\"mapbox\",\"type\":\"scattermapbox\"}],\"name\":\"6800.0\"},{\"data\":[{\"hovertemplate\":\"<b>%{hovertext}</b><br><br>type=path_no_obstacle<br>timestep=7000.0<br>size=%{marker.size}<br>lat=%{lat}<br>lon=%{lon}<extra></extra>\",\"hovertext\":[\"path_no_obstacle\"],\"lat\":[-0.8057324840764333],\"legendgroup\":\"path_no_obstacle\",\"lon\":[134.69426751592357],\"marker\":{\"color\":\"#636efa\",\"size\":[5],\"sizemode\":\"area\",\"sizeref\":0.025},\"mode\":\"markers\",\"name\":\"path_no_obstacle\",\"showlegend\":true,\"subplot\":\"mapbox\",\"type\":\"scattermapbox\"},{\"hovertemplate\":\"<b>%{hovertext}</b><br><br>type=path_with_obstacle<br>timestep=7000.0<br>size=%{marker.size}<br>lat=%{lat}<br>lon=%{lon}<extra></extra>\",\"hovertext\":[\"path_with_obstacle\"],\"lat\":[8.071884984025559],\"legendgroup\":\"path_with_obstacle\",\"lon\":[127.57188498402556],\"marker\":{\"color\":\"#EF553B\",\"size\":[5],\"sizemode\":\"area\",\"sizeref\":0.025},\"mode\":\"markers\",\"name\":\"path_with_obstacle\",\"showlegend\":true,\"subplot\":\"mapbox\",\"type\":\"scattermapbox\"}],\"name\":\"7000.0\"},{\"data\":[{\"hovertemplate\":\"<b>%{hovertext}</b><br><br>type=path_no_obstacle<br>timestep=7200.0<br>size=%{marker.size}<br>lat=%{lat}<br>lon=%{lon}<extra></extra>\",\"hovertext\":[\"path_no_obstacle\"],\"lat\":[-2.079617834394905],\"legendgroup\":\"path_no_obstacle\",\"lon\":[133.4203821656051],\"marker\":{\"color\":\"#636efa\",\"size\":[5],\"sizemode\":\"area\",\"sizeref\":0.025},\"mode\":\"markers\",\"name\":\"path_no_obstacle\",\"showlegend\":true,\"subplot\":\"mapbox\",\"type\":\"scattermapbox\"},{\"hovertemplate\":\"<b>%{hovertext}</b><br><br>type=path_with_obstacle<br>timestep=7200.0<br>size=%{marker.size}<br>lat=%{lat}<br>lon=%{lon}<extra></extra>\",\"hovertext\":[\"path_with_obstacle\"],\"lat\":[6.793929712460064],\"legendgroup\":\"path_with_obstacle\",\"lon\":[126.29392971246008],\"marker\":{\"color\":\"#EF553B\",\"size\":[5],\"sizemode\":\"area\",\"sizeref\":0.025},\"mode\":\"markers\",\"name\":\"path_with_obstacle\",\"showlegend\":true,\"subplot\":\"mapbox\",\"type\":\"scattermapbox\"}],\"name\":\"7200.0\"},{\"data\":[{\"hovertemplate\":\"<b>%{hovertext}</b><br><br>type=path_no_obstacle<br>timestep=7400.0<br>size=%{marker.size}<br>lat=%{lat}<br>lon=%{lon}<extra></extra>\",\"hovertext\":[\"path_no_obstacle\"],\"lat\":[-3.353503184713376],\"legendgroup\":\"path_no_obstacle\",\"lon\":[132.1464968152866],\"marker\":{\"color\":\"#636efa\",\"size\":[5],\"sizemode\":\"area\",\"sizeref\":0.025},\"mode\":\"markers\",\"name\":\"path_no_obstacle\",\"showlegend\":true,\"subplot\":\"mapbox\",\"type\":\"scattermapbox\"},{\"hovertemplate\":\"<b>%{hovertext}</b><br><br>type=path_with_obstacle<br>timestep=7400.0<br>size=%{marker.size}<br>lat=%{lat}<br>lon=%{lon}<extra></extra>\",\"hovertext\":[\"path_with_obstacle\"],\"lat\":[5.515974440894569],\"legendgroup\":\"path_with_obstacle\",\"lon\":[125.01597444089457],\"marker\":{\"color\":\"#EF553B\",\"size\":[5],\"sizemode\":\"area\",\"sizeref\":0.025},\"mode\":\"markers\",\"name\":\"path_with_obstacle\",\"showlegend\":true,\"subplot\":\"mapbox\",\"type\":\"scattermapbox\"}],\"name\":\"7400.0\"},{\"data\":[{\"hovertemplate\":\"<b>%{hovertext}</b><br><br>type=path_no_obstacle<br>timestep=7600.0<br>size=%{marker.size}<br>lat=%{lat}<br>lon=%{lon}<extra></extra>\",\"hovertext\":[\"path_no_obstacle\"],\"lat\":[-4.627388535031847],\"legendgroup\":\"path_no_obstacle\",\"lon\":[130.87261146496814],\"marker\":{\"color\":\"#636efa\",\"size\":[5],\"sizemode\":\"area\",\"sizeref\":0.025},\"mode\":\"markers\",\"name\":\"path_no_obstacle\",\"showlegend\":true,\"subplot\":\"mapbox\",\"type\":\"scattermapbox\"},{\"hovertemplate\":\"<b>%{hovertext}</b><br><br>type=path_with_obstacle<br>timestep=7600.0<br>size=%{marker.size}<br>lat=%{lat}<br>lon=%{lon}<extra></extra>\",\"hovertext\":[\"path_with_obstacle\"],\"lat\":[4.238853503184713],\"legendgroup\":\"path_with_obstacle\",\"lon\":[123.73885350318471],\"marker\":{\"color\":\"#EF553B\",\"size\":[5],\"sizemode\":\"area\",\"sizeref\":0.025},\"mode\":\"markers\",\"name\":\"path_with_obstacle\",\"showlegend\":true,\"subplot\":\"mapbox\",\"type\":\"scattermapbox\"}],\"name\":\"7600.0\"},{\"data\":[{\"hovertemplate\":\"<b>%{hovertext}</b><br><br>type=path_no_obstacle<br>timestep=7800.0<br>size=%{marker.size}<br>lat=%{lat}<br>lon=%{lon}<extra></extra>\",\"hovertext\":[\"path_no_obstacle\"],\"lat\":[-5.902555910543131],\"legendgroup\":\"path_no_obstacle\",\"lon\":[129.59744408945687],\"marker\":{\"color\":\"#636efa\",\"size\":[5],\"sizemode\":\"area\",\"sizeref\":0.025},\"mode\":\"markers\",\"name\":\"path_no_obstacle\",\"showlegend\":true,\"subplot\":\"mapbox\",\"type\":\"scattermapbox\"},{\"hovertemplate\":\"<b>%{hovertext}</b><br><br>type=path_with_obstacle<br>timestep=7800.0<br>size=%{marker.size}<br>lat=%{lat}<br>lon=%{lon}<extra></extra>\",\"hovertext\":[\"path_with_obstacle\"],\"lat\":[2.964968152866242],\"legendgroup\":\"path_with_obstacle\",\"lon\":[122.46496815286623],\"marker\":{\"color\":\"#EF553B\",\"size\":[5],\"sizemode\":\"area\",\"sizeref\":0.025},\"mode\":\"markers\",\"name\":\"path_with_obstacle\",\"showlegend\":true,\"subplot\":\"mapbox\",\"type\":\"scattermapbox\"}],\"name\":\"7800.0\"},{\"data\":[{\"hovertemplate\":\"<b>%{hovertext}</b><br><br>type=path_no_obstacle<br>timestep=8000.0<br>size=%{marker.size}<br>lat=%{lat}<br>lon=%{lon}<extra></extra>\",\"hovertext\":[\"path_no_obstacle\"],\"lat\":[-7.180511182108626],\"legendgroup\":\"path_no_obstacle\",\"lon\":[128.31948881789137],\"marker\":{\"color\":\"#636efa\",\"size\":[5],\"sizemode\":\"area\",\"sizeref\":0.025},\"mode\":\"markers\",\"name\":\"path_no_obstacle\",\"showlegend\":true,\"subplot\":\"mapbox\",\"type\":\"scattermapbox\"},{\"hovertemplate\":\"<b>%{hovertext}</b><br><br>type=path_with_obstacle<br>timestep=8000.0<br>size=%{marker.size}<br>lat=%{lat}<br>lon=%{lon}<extra></extra>\",\"hovertext\":[\"path_with_obstacle\"],\"lat\":[1.6910828025477709],\"legendgroup\":\"path_with_obstacle\",\"lon\":[121.19108280254775],\"marker\":{\"color\":\"#EF553B\",\"size\":[5],\"sizemode\":\"area\",\"sizeref\":0.025},\"mode\":\"markers\",\"name\":\"path_with_obstacle\",\"showlegend\":true,\"subplot\":\"mapbox\",\"type\":\"scattermapbox\"}],\"name\":\"8000.0\"},{\"data\":[{\"hovertemplate\":\"<b>%{hovertext}</b><br><br>type=path_no_obstacle<br>timestep=8200.0<br>size=%{marker.size}<br>lat=%{lat}<br>lon=%{lon}<extra></extra>\",\"hovertext\":[\"path_no_obstacle\"],\"lat\":[-8.461538461538462],\"legendgroup\":\"path_no_obstacle\",\"lon\":[127.03846153846152],\"marker\":{\"color\":\"#636efa\",\"size\":[5],\"sizemode\":\"area\",\"sizeref\":0.025},\"mode\":\"markers\",\"name\":\"path_no_obstacle\",\"showlegend\":true,\"subplot\":\"mapbox\",\"type\":\"scattermapbox\"},{\"hovertemplate\":\"<b>%{hovertext}</b><br><br>type=path_with_obstacle<br>timestep=8200.0<br>size=%{marker.size}<br>lat=%{lat}<br>lon=%{lon}<extra></extra>\",\"hovertext\":[\"path_with_obstacle\"],\"lat\":[0.4171974522292994],\"legendgroup\":\"path_with_obstacle\",\"lon\":[119.9171974522293],\"marker\":{\"color\":\"#EF553B\",\"size\":[5],\"sizemode\":\"area\",\"sizeref\":0.025},\"mode\":\"markers\",\"name\":\"path_with_obstacle\",\"showlegend\":true,\"subplot\":\"mapbox\",\"type\":\"scattermapbox\"}],\"name\":\"8200.0\"},{\"data\":[{\"hovertemplate\":\"<b>%{hovertext}</b><br><br>type=path_no_obstacle<br>timestep=8400.0<br>size=%{marker.size}<br>lat=%{lat}<br>lon=%{lon}<extra></extra>\",\"hovertext\":[\"path_no_obstacle\"],\"lat\":[-9.744372990353698],\"legendgroup\":\"path_no_obstacle\",\"lon\":[125.7556270096463],\"marker\":{\"color\":\"#636efa\",\"size\":[5],\"sizemode\":\"area\",\"sizeref\":0.025},\"mode\":\"markers\",\"name\":\"path_no_obstacle\",\"showlegend\":true,\"subplot\":\"mapbox\",\"type\":\"scattermapbox\"},{\"hovertemplate\":\"<b>%{hovertext}</b><br><br>type=path_with_obstacle<br>timestep=8400.0<br>size=%{marker.size}<br>lat=%{lat}<br>lon=%{lon}<extra></extra>\",\"hovertext\":[\"path_with_obstacle\"],\"lat\":[-0.8566878980891721],\"legendgroup\":\"path_with_obstacle\",\"lon\":[118.64331210191082],\"marker\":{\"color\":\"#EF553B\",\"size\":[5],\"sizemode\":\"area\",\"sizeref\":0.025},\"mode\":\"markers\",\"name\":\"path_with_obstacle\",\"showlegend\":true,\"subplot\":\"mapbox\",\"type\":\"scattermapbox\"}],\"name\":\"8400.0\"},{\"data\":[{\"hovertemplate\":\"<b>%{hovertext}</b><br><br>type=path_no_obstacle<br>timestep=8600.0<br>size=%{marker.size}<br>lat=%{lat}<br>lon=%{lon}<extra></extra>\",\"hovertext\":[\"path_no_obstacle\"],\"lat\":[-11.030546623794212],\"legendgroup\":\"path_no_obstacle\",\"lon\":[124.4694533762058],\"marker\":{\"color\":\"#636efa\",\"size\":[5],\"sizemode\":\"area\",\"sizeref\":0.025},\"mode\":\"markers\",\"name\":\"path_no_obstacle\",\"showlegend\":true,\"subplot\":\"mapbox\",\"type\":\"scattermapbox\"},{\"hovertemplate\":\"<b>%{hovertext}</b><br><br>type=path_with_obstacle<br>timestep=8600.0<br>size=%{marker.size}<br>lat=%{lat}<br>lon=%{lon}<extra></extra>\",\"hovertext\":[\"path_with_obstacle\"],\"lat\":[-2.1305732484076434],\"legendgroup\":\"path_with_obstacle\",\"lon\":[117.36942675159236],\"marker\":{\"color\":\"#EF553B\",\"size\":[5],\"sizemode\":\"area\",\"sizeref\":0.025},\"mode\":\"markers\",\"name\":\"path_with_obstacle\",\"showlegend\":true,\"subplot\":\"mapbox\",\"type\":\"scattermapbox\"}],\"name\":\"8600.0\"},{\"data\":[{\"hovertemplate\":\"<b>%{hovertext}</b><br><br>type=path_no_obstacle<br>timestep=8800.0<br>size=%{marker.size}<br>lat=%{lat}<br>lon=%{lon}<extra></extra>\",\"hovertext\":[\"path_no_obstacle\"],\"lat\":[-12.319354838709678],\"legendgroup\":\"path_no_obstacle\",\"lon\":[123.18064516129031],\"marker\":{\"color\":\"#636efa\",\"size\":[5],\"sizemode\":\"area\",\"sizeref\":0.025},\"mode\":\"markers\",\"name\":\"path_no_obstacle\",\"showlegend\":true,\"subplot\":\"mapbox\",\"type\":\"scattermapbox\"},{\"hovertemplate\":\"<b>%{hovertext}</b><br><br>type=path_with_obstacle<br>timestep=8800.0<br>size=%{marker.size}<br>lat=%{lat}<br>lon=%{lon}<extra></extra>\",\"hovertext\":[\"path_with_obstacle\"],\"lat\":[-3.404458598726115],\"legendgroup\":\"path_with_obstacle\",\"lon\":[116.09554140127388],\"marker\":{\"color\":\"#EF553B\",\"size\":[5],\"sizemode\":\"area\",\"sizeref\":0.025},\"mode\":\"markers\",\"name\":\"path_with_obstacle\",\"showlegend\":true,\"subplot\":\"mapbox\",\"type\":\"scattermapbox\"}],\"name\":\"8800.0\"},{\"data\":[{\"hovertemplate\":\"<b>%{hovertext}</b><br><br>type=path_no_obstacle<br>timestep=9000.0<br>size=%{marker.size}<br>lat=%{lat}<br>lon=%{lon}<extra></extra>\",\"hovertext\":[\"path_no_obstacle\"],\"lat\":[-13.610032362459547],\"legendgroup\":\"path_no_obstacle\",\"lon\":[121.88996763754044],\"marker\":{\"color\":\"#636efa\",\"size\":[5],\"sizemode\":\"area\",\"sizeref\":0.025},\"mode\":\"markers\",\"name\":\"path_no_obstacle\",\"showlegend\":true,\"subplot\":\"mapbox\",\"type\":\"scattermapbox\"},{\"hovertemplate\":\"<b>%{hovertext}</b><br><br>type=path_with_obstacle<br>timestep=9000.0<br>size=%{marker.size}<br>lat=%{lat}<br>lon=%{lon}<extra></extra>\",\"hovertext\":[\"path_with_obstacle\"],\"lat\":[-4.678343949044586],\"legendgroup\":\"path_with_obstacle\",\"lon\":[114.8216560509554],\"marker\":{\"color\":\"#EF553B\",\"size\":[5],\"sizemode\":\"area\",\"sizeref\":0.025},\"mode\":\"markers\",\"name\":\"path_with_obstacle\",\"showlegend\":true,\"subplot\":\"mapbox\",\"type\":\"scattermapbox\"}],\"name\":\"9000.0\"},{\"data\":[{\"hovertemplate\":\"<b>%{hovertext}</b><br><br>type=path_no_obstacle<br>timestep=9200.0<br>size=%{marker.size}<br>lat=%{lat}<br>lon=%{lon}<extra></extra>\",\"hovertext\":[\"path_no_obstacle\"],\"lat\":[-14.904530744336569],\"legendgroup\":\"path_no_obstacle\",\"lon\":[120.59546925566345],\"marker\":{\"color\":\"#636efa\",\"size\":[5],\"sizemode\":\"area\",\"sizeref\":0.025},\"mode\":\"markers\",\"name\":\"path_no_obstacle\",\"showlegend\":true,\"subplot\":\"mapbox\",\"type\":\"scattermapbox\"},{\"hovertemplate\":\"<b>%{hovertext}</b><br><br>type=path_with_obstacle<br>timestep=9200.0<br>size=%{marker.size}<br>lat=%{lat}<br>lon=%{lon}<extra></extra>\",\"hovertext\":[\"path_with_obstacle\"],\"lat\":[-5.953674121405751],\"legendgroup\":\"path_with_obstacle\",\"lon\":[113.54632587859425],\"marker\":{\"color\":\"#EF553B\",\"size\":[5],\"sizemode\":\"area\",\"sizeref\":0.025},\"mode\":\"markers\",\"name\":\"path_with_obstacle\",\"showlegend\":true,\"subplot\":\"mapbox\",\"type\":\"scattermapbox\"}],\"name\":\"9200.0\"},{\"data\":[{\"hovertemplate\":\"<b>%{hovertext}</b><br><br>type=path_no_obstacle<br>timestep=9400.0<br>size=%{marker.size}<br>lat=%{lat}<br>lon=%{lon}<extra></extra>\",\"hovertext\":[\"path_no_obstacle\"],\"lat\":[-16.2012987012987],\"legendgroup\":\"path_no_obstacle\",\"lon\":[119.2987012987013],\"marker\":{\"color\":\"#636efa\",\"size\":[5],\"sizemode\":\"area\",\"sizeref\":0.025},\"mode\":\"markers\",\"name\":\"path_no_obstacle\",\"showlegend\":true,\"subplot\":\"mapbox\",\"type\":\"scattermapbox\"},{\"hovertemplate\":\"<b>%{hovertext}</b><br><br>type=path_with_obstacle<br>timestep=9400.0<br>size=%{marker.size}<br>lat=%{lat}<br>lon=%{lon}<extra></extra>\",\"hovertext\":[\"path_with_obstacle\"],\"lat\":[-7.231629392971246],\"legendgroup\":\"path_with_obstacle\",\"lon\":[112.26837060702876],\"marker\":{\"color\":\"#EF553B\",\"size\":[5],\"sizemode\":\"area\",\"sizeref\":0.025},\"mode\":\"markers\",\"name\":\"path_with_obstacle\",\"showlegend\":true,\"subplot\":\"mapbox\",\"type\":\"scattermapbox\"}],\"name\":\"9400.0\"},{\"data\":[{\"hovertemplate\":\"<b>%{hovertext}</b><br><br>type=path_no_obstacle<br>timestep=9600.0<br>size=%{marker.size}<br>lat=%{lat}<br>lon=%{lon}<extra></extra>\",\"hovertext\":[\"path_no_obstacle\"],\"lat\":[-17.5],\"legendgroup\":\"path_no_obstacle\",\"lon\":[118.0],\"marker\":{\"color\":\"#636efa\",\"size\":[5],\"sizemode\":\"area\",\"sizeref\":0.025},\"mode\":\"markers\",\"name\":\"path_no_obstacle\",\"showlegend\":true,\"subplot\":\"mapbox\",\"type\":\"scattermapbox\"},{\"hovertemplate\":\"<b>%{hovertext}</b><br><br>type=path_with_obstacle<br>timestep=9600.0<br>size=%{marker.size}<br>lat=%{lat}<br>lon=%{lon}<extra></extra>\",\"hovertext\":[\"path_with_obstacle\"],\"lat\":[-8.512820512820513],\"legendgroup\":\"path_with_obstacle\",\"lon\":[110.98717948717947],\"marker\":{\"color\":\"#EF553B\",\"size\":[5],\"sizemode\":\"area\",\"sizeref\":0.025},\"mode\":\"markers\",\"name\":\"path_with_obstacle\",\"showlegend\":true,\"subplot\":\"mapbox\",\"type\":\"scattermapbox\"}],\"name\":\"9600.0\"},{\"data\":[{\"hovertemplate\":\"<b>%{hovertext}</b><br><br>type=path_no_obstacle<br>timestep=9800.0<br>size=%{marker.size}<br>lat=%{lat}<br>lon=%{lon}<extra></extra>\",\"hovertext\":[\"path_no_obstacle\"],\"lat\":[-18.80718954248366],\"legendgroup\":\"path_no_obstacle\",\"lon\":[116.69281045751634],\"marker\":{\"color\":\"#636efa\",\"size\":[5],\"sizemode\":\"area\",\"sizeref\":0.025},\"mode\":\"markers\",\"name\":\"path_no_obstacle\",\"showlegend\":true,\"subplot\":\"mapbox\",\"type\":\"scattermapbox\"},{\"hovertemplate\":\"<b>%{hovertext}</b><br><br>type=path_with_obstacle<br>timestep=9800.0<br>size=%{marker.size}<br>lat=%{lat}<br>lon=%{lon}<extra></extra>\",\"hovertext\":[\"path_with_obstacle\"],\"lat\":[-9.795819935691318],\"legendgroup\":\"path_with_obstacle\",\"lon\":[109.70418006430867],\"marker\":{\"color\":\"#EF553B\",\"size\":[5],\"sizemode\":\"area\",\"sizeref\":0.025},\"mode\":\"markers\",\"name\":\"path_with_obstacle\",\"showlegend\":true,\"subplot\":\"mapbox\",\"type\":\"scattermapbox\"}],\"name\":\"9800.0\"},{\"data\":[{\"hovertemplate\":\"<b>%{hovertext}</b><br><br>type=path_no_obstacle<br>timestep=10000.0<br>size=%{marker.size}<br>lat=%{lat}<br>lon=%{lon}<extra></extra>\",\"hovertext\":[\"path_no_obstacle\"],\"lat\":[-20.11842105263158],\"legendgroup\":\"path_no_obstacle\",\"lon\":[115.38157894736842],\"marker\":{\"color\":\"#636efa\",\"size\":[5],\"sizemode\":\"area\",\"sizeref\":0.025},\"mode\":\"markers\",\"name\":\"path_no_obstacle\",\"showlegend\":true,\"subplot\":\"mapbox\",\"type\":\"scattermapbox\"},{\"hovertemplate\":\"<b>%{hovertext}</b><br><br>type=path_with_obstacle<br>timestep=10000.0<br>size=%{marker.size}<br>lat=%{lat}<br>lon=%{lon}<extra></extra>\",\"hovertext\":[\"path_with_obstacle\"],\"lat\":[-11.081993569131832],\"legendgroup\":\"path_with_obstacle\",\"lon\":[108.41800643086816],\"marker\":{\"color\":\"#EF553B\",\"size\":[5],\"sizemode\":\"area\",\"sizeref\":0.025},\"mode\":\"markers\",\"name\":\"path_with_obstacle\",\"showlegend\":true,\"subplot\":\"mapbox\",\"type\":\"scattermapbox\"}],\"name\":\"10000.0\"},{\"data\":[{\"hovertemplate\":\"<b>%{hovertext}</b><br><br>type=path_no_obstacle<br>timestep=10200.0<br>size=%{marker.size}<br>lat=%{lat}<br>lon=%{lon}<extra></extra>\",\"hovertext\":[\"path_no_obstacle\"],\"lat\":[-21.434210526315788],\"legendgroup\":\"path_no_obstacle\",\"lon\":[114.0657894736842],\"marker\":{\"color\":\"#636efa\",\"size\":[5],\"sizemode\":\"area\",\"sizeref\":0.025},\"mode\":\"markers\",\"name\":\"path_no_obstacle\",\"showlegend\":true,\"subplot\":\"mapbox\",\"type\":\"scattermapbox\"},{\"hovertemplate\":\"<b>%{hovertext}</b><br><br>type=path_with_obstacle<br>timestep=10200.0<br>size=%{marker.size}<br>lat=%{lat}<br>lon=%{lon}<extra></extra>\",\"hovertext\":[\"path_with_obstacle\"],\"lat\":[-12.370967741935484],\"legendgroup\":\"path_with_obstacle\",\"lon\":[107.12903225806453],\"marker\":{\"color\":\"#EF553B\",\"size\":[5],\"sizemode\":\"area\",\"sizeref\":0.025},\"mode\":\"markers\",\"name\":\"path_with_obstacle\",\"showlegend\":true,\"subplot\":\"mapbox\",\"type\":\"scattermapbox\"}],\"name\":\"10200.0\"},{\"data\":[{\"hovertemplate\":\"<b>%{hovertext}</b><br><br>type=path_no_obstacle<br>timestep=10400.0<br>size=%{marker.size}<br>lat=%{lat}<br>lon=%{lon}<extra></extra>\",\"hovertext\":[\"path_no_obstacle\"],\"lat\":[-22.758278145695364],\"legendgroup\":\"path_no_obstacle\",\"lon\":[112.74172185430464],\"marker\":{\"color\":\"#636efa\",\"size\":[5],\"sizemode\":\"area\",\"sizeref\":0.025},\"mode\":\"markers\",\"name\":\"path_no_obstacle\",\"showlegend\":true,\"subplot\":\"mapbox\",\"type\":\"scattermapbox\"},{\"hovertemplate\":\"<b>%{hovertext}</b><br><br>type=path_with_obstacle<br>timestep=10400.0<br>size=%{marker.size}<br>lat=%{lat}<br>lon=%{lon}<extra></extra>\",\"hovertext\":[\"path_with_obstacle\"],\"lat\":[-13.661812297734627],\"legendgroup\":\"path_with_obstacle\",\"lon\":[105.83818770226536],\"marker\":{\"color\":\"#EF553B\",\"size\":[5],\"sizemode\":\"area\",\"sizeref\":0.025},\"mode\":\"markers\",\"name\":\"path_with_obstacle\",\"showlegend\":true,\"subplot\":\"mapbox\",\"type\":\"scattermapbox\"}],\"name\":\"10400.0\"},{\"data\":[{\"hovertemplate\":\"<b>%{hovertext}</b><br><br>type=path_no_obstacle<br>timestep=10600.0<br>size=%{marker.size}<br>lat=%{lat}<br>lon=%{lon}<extra></extra>\",\"hovertext\":[\"path_no_obstacle\"],\"lat\":[-24.086666666666662],\"legendgroup\":\"path_no_obstacle\",\"lon\":[111.41333333333333],\"marker\":{\"color\":\"#636efa\",\"size\":[5],\"sizemode\":\"area\",\"sizeref\":0.025},\"mode\":\"markers\",\"name\":\"path_no_obstacle\",\"showlegend\":true,\"subplot\":\"mapbox\",\"type\":\"scattermapbox\"},{\"hovertemplate\":\"<b>%{hovertext}</b><br><br>type=path_with_obstacle<br>timestep=10600.0<br>size=%{marker.size}<br>lat=%{lat}<br>lon=%{lon}<extra></extra>\",\"hovertext\":[\"path_with_obstacle\"],\"lat\":[-14.95631067961165],\"legendgroup\":\"path_with_obstacle\",\"lon\":[104.54368932038837],\"marker\":{\"color\":\"#EF553B\",\"size\":[5],\"sizemode\":\"area\",\"sizeref\":0.025},\"mode\":\"markers\",\"name\":\"path_with_obstacle\",\"showlegend\":true,\"subplot\":\"mapbox\",\"type\":\"scattermapbox\"}],\"name\":\"10600.0\"},{\"data\":[{\"hovertemplate\":\"<b>%{hovertext}</b><br><br>type=path_no_obstacle<br>timestep=10800.0<br>size=%{marker.size}<br>lat=%{lat}<br>lon=%{lon}<extra></extra>\",\"hovertext\":[\"path_no_obstacle\"],\"lat\":[-25.42],\"legendgroup\":\"path_no_obstacle\",\"lon\":[110.08],\"marker\":{\"color\":\"#636efa\",\"size\":[5],\"sizemode\":\"area\",\"sizeref\":0.025},\"mode\":\"markers\",\"name\":\"path_no_obstacle\",\"showlegend\":true,\"subplot\":\"mapbox\",\"type\":\"scattermapbox\"},{\"hovertemplate\":\"<b>%{hovertext}</b><br><br>type=path_with_obstacle<br>timestep=10800.0<br>size=%{marker.size}<br>lat=%{lat}<br>lon=%{lon}<extra></extra>\",\"hovertext\":[\"path_with_obstacle\"],\"lat\":[-16.253246753246753],\"legendgroup\":\"path_with_obstacle\",\"lon\":[103.24675324675324],\"marker\":{\"color\":\"#EF553B\",\"size\":[5],\"sizemode\":\"area\",\"sizeref\":0.025},\"mode\":\"markers\",\"name\":\"path_with_obstacle\",\"showlegend\":true,\"subplot\":\"mapbox\",\"type\":\"scattermapbox\"}],\"name\":\"10800.0\"},{\"data\":[{\"hovertemplate\":\"<b>%{hovertext}</b><br><br>type=path_no_obstacle<br>timestep=11000.0<br>size=%{marker.size}<br>lat=%{lat}<br>lon=%{lon}<extra></extra>\",\"hovertext\":[\"path_no_obstacle\"],\"lat\":[-26.761744966442954],\"legendgroup\":\"path_no_obstacle\",\"lon\":[108.73825503355704],\"marker\":{\"color\":\"#636efa\",\"size\":[5],\"sizemode\":\"area\",\"sizeref\":0.025},\"mode\":\"markers\",\"name\":\"path_no_obstacle\",\"showlegend\":true,\"subplot\":\"mapbox\",\"type\":\"scattermapbox\"},{\"hovertemplate\":\"<b>%{hovertext}</b><br><br>type=path_with_obstacle<br>timestep=11000.0<br>size=%{marker.size}<br>lat=%{lat}<br>lon=%{lon}<extra></extra>\",\"hovertext\":[\"path_with_obstacle\"],\"lat\":[-17.552287581699346],\"legendgroup\":\"path_with_obstacle\",\"lon\":[101.94771241830064],\"marker\":{\"color\":\"#EF553B\",\"size\":[5],\"sizemode\":\"area\",\"sizeref\":0.025},\"mode\":\"markers\",\"name\":\"path_with_obstacle\",\"showlegend\":true,\"subplot\":\"mapbox\",\"type\":\"scattermapbox\"}],\"name\":\"11000.0\"},{\"data\":[{\"hovertemplate\":\"<b>%{hovertext}</b><br><br>type=path_no_obstacle<br>timestep=11200.0<br>size=%{marker.size}<br>lat=%{lat}<br>lon=%{lon}<extra></extra>\",\"hovertext\":[\"path_no_obstacle\"],\"lat\":[-28.10810810810811],\"legendgroup\":\"path_no_obstacle\",\"lon\":[107.39189189189187],\"marker\":{\"color\":\"#636efa\",\"size\":[5],\"sizemode\":\"area\",\"sizeref\":0.025},\"mode\":\"markers\",\"name\":\"path_no_obstacle\",\"showlegend\":true,\"subplot\":\"mapbox\",\"type\":\"scattermapbox\"},{\"hovertemplate\":\"<b>%{hovertext}</b><br><br>type=path_with_obstacle<br>timestep=11200.0<br>size=%{marker.size}<br>lat=%{lat}<br>lon=%{lon}<extra></extra>\",\"hovertext\":[\"path_with_obstacle\"],\"lat\":[-18.859477124183005],\"legendgroup\":\"path_with_obstacle\",\"lon\":[100.640522875817],\"marker\":{\"color\":\"#EF553B\",\"size\":[5],\"sizemode\":\"area\",\"sizeref\":0.025},\"mode\":\"markers\",\"name\":\"path_with_obstacle\",\"showlegend\":true,\"subplot\":\"mapbox\",\"type\":\"scattermapbox\"}],\"name\":\"11200.0\"},{\"data\":[{\"hovertemplate\":\"<b>%{hovertext}</b><br><br>type=path_no_obstacle<br>timestep=11400.0<br>size=%{marker.size}<br>lat=%{lat}<br>lon=%{lon}<extra></extra>\",\"hovertext\":[\"path_no_obstacle\"],\"lat\":[-29.45945945945946],\"legendgroup\":\"path_no_obstacle\",\"lon\":[106.04054054054056],\"marker\":{\"color\":\"#636efa\",\"size\":[5],\"sizemode\":\"area\",\"sizeref\":0.025},\"mode\":\"markers\",\"name\":\"path_no_obstacle\",\"showlegend\":true,\"subplot\":\"mapbox\",\"type\":\"scattermapbox\"},{\"hovertemplate\":\"<b>%{hovertext}</b><br><br>type=path_with_obstacle<br>timestep=11400.0<br>size=%{marker.size}<br>lat=%{lat}<br>lon=%{lon}<extra></extra>\",\"hovertext\":[\"path_with_obstacle\"],\"lat\":[-20.17105263157895],\"legendgroup\":\"path_with_obstacle\",\"lon\":[99.32894736842104],\"marker\":{\"color\":\"#EF553B\",\"size\":[5],\"sizemode\":\"area\",\"sizeref\":0.025},\"mode\":\"markers\",\"name\":\"path_with_obstacle\",\"showlegend\":true,\"subplot\":\"mapbox\",\"type\":\"scattermapbox\"}],\"name\":\"11400.0\"},{\"data\":[{\"hovertemplate\":\"<b>%{hovertext}</b><br><br>type=path_no_obstacle<br>timestep=11600.0<br>size=%{marker.size}<br>lat=%{lat}<br>lon=%{lon}<extra></extra>\",\"hovertext\":[\"path_no_obstacle\"],\"lat\":[-30.824232081911266],\"legendgroup\":\"path_no_obstacle\",\"lon\":[104.67576791808874],\"marker\":{\"color\":\"#636efa\",\"size\":[5],\"sizemode\":\"area\",\"sizeref\":0.025},\"mode\":\"markers\",\"name\":\"path_no_obstacle\",\"showlegend\":true,\"subplot\":\"mapbox\",\"type\":\"scattermapbox\"},{\"hovertemplate\":\"<b>%{hovertext}</b><br><br>type=path_with_obstacle<br>timestep=11600.0<br>size=%{marker.size}<br>lat=%{lat}<br>lon=%{lon}<extra></extra>\",\"hovertext\":[\"path_with_obstacle\"],\"lat\":[-21.48684210526316],\"legendgroup\":\"path_with_obstacle\",\"lon\":[98.01315789473684],\"marker\":{\"color\":\"#EF553B\",\"size\":[5],\"sizemode\":\"area\",\"sizeref\":0.025},\"mode\":\"markers\",\"name\":\"path_with_obstacle\",\"showlegend\":true,\"subplot\":\"mapbox\",\"type\":\"scattermapbox\"}],\"name\":\"11600.0\"},{\"data\":[{\"hovertemplate\":\"<b>%{hovertext}</b><br><br>type=path_no_obstacle<br>timestep=11800.0<br>size=%{marker.size}<br>lat=%{lat}<br>lon=%{lon}<extra></extra>\",\"hovertext\":[\"path_no_obstacle\"],\"lat\":[-32.19655172413793],\"legendgroup\":\"path_no_obstacle\",\"lon\":[103.30344827586208],\"marker\":{\"color\":\"#636efa\",\"size\":[5],\"sizemode\":\"area\",\"sizeref\":0.025},\"mode\":\"markers\",\"name\":\"path_no_obstacle\",\"showlegend\":true,\"subplot\":\"mapbox\",\"type\":\"scattermapbox\"},{\"hovertemplate\":\"<b>%{hovertext}</b><br><br>type=path_with_obstacle<br>timestep=11800.0<br>size=%{marker.size}<br>lat=%{lat}<br>lon=%{lon}<extra></extra>\",\"hovertext\":[\"path_with_obstacle\"],\"lat\":[-22.811258278145694],\"legendgroup\":\"path_with_obstacle\",\"lon\":[96.6887417218543],\"marker\":{\"color\":\"#EF553B\",\"size\":[5],\"sizemode\":\"area\",\"sizeref\":0.025},\"mode\":\"markers\",\"name\":\"path_with_obstacle\",\"showlegend\":true,\"subplot\":\"mapbox\",\"type\":\"scattermapbox\"}],\"name\":\"11800.0\"},{\"data\":[{\"hovertemplate\":\"<b>%{hovertext}</b><br><br>type=path_no_obstacle<br>timestep=12000.0<br>size=%{marker.size}<br>lat=%{lat}<br>lon=%{lon}<extra></extra>\",\"hovertext\":[\"path_no_obstacle\"],\"lat\":[-33.576388888888886],\"legendgroup\":\"path_no_obstacle\",\"lon\":[101.92361111111111],\"marker\":{\"color\":\"#636efa\",\"size\":[5],\"sizemode\":\"area\",\"sizeref\":0.025},\"mode\":\"markers\",\"name\":\"path_no_obstacle\",\"showlegend\":true,\"subplot\":\"mapbox\",\"type\":\"scattermapbox\"},{\"hovertemplate\":\"<b>%{hovertext}</b><br><br>type=path_with_obstacle<br>timestep=12000.0<br>size=%{marker.size}<br>lat=%{lat}<br>lon=%{lon}<extra></extra>\",\"hovertext\":[\"path_with_obstacle\"],\"lat\":[-24.14],\"legendgroup\":\"path_with_obstacle\",\"lon\":[95.36],\"marker\":{\"color\":\"#EF553B\",\"size\":[5],\"sizemode\":\"area\",\"sizeref\":0.025},\"mode\":\"markers\",\"name\":\"path_with_obstacle\",\"showlegend\":true,\"subplot\":\"mapbox\",\"type\":\"scattermapbox\"}],\"name\":\"12000.0\"},{\"data\":[{\"hovertemplate\":\"<b>%{hovertext}</b><br><br>type=path_no_obstacle<br>timestep=12200.0<br>size=%{marker.size}<br>lat=%{lat}<br>lon=%{lon}<extra></extra>\",\"hovertext\":[\"path_no_obstacle\"],\"lat\":[-34.96527777777778],\"legendgroup\":\"path_no_obstacle\",\"lon\":[100.53472222222224],\"marker\":{\"color\":\"#636efa\",\"size\":[5],\"sizemode\":\"area\",\"sizeref\":0.025},\"mode\":\"markers\",\"name\":\"path_no_obstacle\",\"showlegend\":true,\"subplot\":\"mapbox\",\"type\":\"scattermapbox\"},{\"hovertemplate\":\"<b>%{hovertext}</b><br><br>type=path_with_obstacle<br>timestep=12200.0<br>size=%{marker.size}<br>lat=%{lat}<br>lon=%{lon}<extra></extra>\",\"hovertext\":[\"path_with_obstacle\"],\"lat\":[-25.473333333333333],\"legendgroup\":\"path_with_obstacle\",\"lon\":[94.02666666666669],\"marker\":{\"color\":\"#EF553B\",\"size\":[5],\"sizemode\":\"area\",\"sizeref\":0.025},\"mode\":\"markers\",\"name\":\"path_with_obstacle\",\"showlegend\":true,\"subplot\":\"mapbox\",\"type\":\"scattermapbox\"}],\"name\":\"12200.0\"},{\"data\":[{\"hovertemplate\":\"<b>%{hovertext}</b><br><br>type=path_no_obstacle<br>timestep=12400.0<br>size=%{marker.size}<br>lat=%{lat}<br>lon=%{lon}<extra></extra>\",\"hovertext\":[\"path_no_obstacle\"],\"lat\":[-36.36315789473685],\"legendgroup\":\"path_no_obstacle\",\"lon\":[99.13684210526316],\"marker\":{\"color\":\"#636efa\",\"size\":[5],\"sizemode\":\"area\",\"sizeref\":0.025},\"mode\":\"markers\",\"name\":\"path_no_obstacle\",\"showlegend\":true,\"subplot\":\"mapbox\",\"type\":\"scattermapbox\"},{\"hovertemplate\":\"<b>%{hovertext}</b><br><br>type=path_with_obstacle<br>timestep=12400.0<br>size=%{marker.size}<br>lat=%{lat}<br>lon=%{lon}<extra></extra>\",\"hovertext\":[\"path_with_obstacle\"],\"lat\":[-26.815436241610737],\"legendgroup\":\"path_with_obstacle\",\"lon\":[92.68456375838926],\"marker\":{\"color\":\"#EF553B\",\"size\":[5],\"sizemode\":\"area\",\"sizeref\":0.025},\"mode\":\"markers\",\"name\":\"path_with_obstacle\",\"showlegend\":true,\"subplot\":\"mapbox\",\"type\":\"scattermapbox\"}],\"name\":\"12400.0\"},{\"data\":[{\"hovertemplate\":\"<b>%{hovertext}</b><br><br>type=path_no_obstacle<br>timestep=12600.0<br>size=%{marker.size}<br>lat=%{lat}<br>lon=%{lon}<extra></extra>\",\"hovertext\":[\"path_no_obstacle\"],\"lat\":[-37.769503546099294],\"legendgroup\":\"path_no_obstacle\",\"lon\":[97.73049645390071],\"marker\":{\"color\":\"#636efa\",\"size\":[5],\"sizemode\":\"area\",\"sizeref\":0.025},\"mode\":\"markers\",\"name\":\"path_no_obstacle\",\"showlegend\":true,\"subplot\":\"mapbox\",\"type\":\"scattermapbox\"},{\"hovertemplate\":\"<b>%{hovertext}</b><br><br>type=path_with_obstacle<br>timestep=12600.0<br>size=%{marker.size}<br>lat=%{lat}<br>lon=%{lon}<extra></extra>\",\"hovertext\":[\"path_with_obstacle\"],\"lat\":[-28.16216216216216],\"legendgroup\":\"path_with_obstacle\",\"lon\":[91.33783783783784],\"marker\":{\"color\":\"#EF553B\",\"size\":[5],\"sizemode\":\"area\",\"sizeref\":0.025},\"mode\":\"markers\",\"name\":\"path_with_obstacle\",\"showlegend\":true,\"subplot\":\"mapbox\",\"type\":\"scattermapbox\"}],\"name\":\"12600.0\"},{\"data\":[{\"hovertemplate\":\"<b>%{hovertext}</b><br><br>type=path_no_obstacle<br>timestep=12800.0<br>size=%{marker.size}<br>lat=%{lat}<br>lon=%{lon}<extra></extra>\",\"hovertext\":[\"path_no_obstacle\"],\"lat\":[-39.18794326241135],\"legendgroup\":\"path_no_obstacle\",\"lon\":[96.31205673758863],\"marker\":{\"color\":\"#636efa\",\"size\":[5],\"sizemode\":\"area\",\"sizeref\":0.025},\"mode\":\"markers\",\"name\":\"path_no_obstacle\",\"showlegend\":true,\"subplot\":\"mapbox\",\"type\":\"scattermapbox\"},{\"hovertemplate\":\"<b>%{hovertext}</b><br><br>type=path_with_obstacle<br>timestep=12800.0<br>size=%{marker.size}<br>lat=%{lat}<br>lon=%{lon}<extra></extra>\",\"hovertext\":[\"path_with_obstacle\"],\"lat\":[-29.513651877133107],\"legendgroup\":\"path_with_obstacle\",\"lon\":[89.9863481228669],\"marker\":{\"color\":\"#EF553B\",\"size\":[5],\"sizemode\":\"area\",\"sizeref\":0.025},\"mode\":\"markers\",\"name\":\"path_with_obstacle\",\"showlegend\":true,\"subplot\":\"mapbox\",\"type\":\"scattermapbox\"}],\"name\":\"12800.0\"},{\"data\":[{\"hovertemplate\":\"<b>%{hovertext}</b><br><br>type=path_no_obstacle<br>timestep=13000.0<br>size=%{marker.size}<br>lat=%{lat}<br>lon=%{lon}<extra></extra>\",\"hovertext\":[\"path_no_obstacle\"],\"lat\":[-40.61827956989247],\"legendgroup\":\"path_no_obstacle\",\"lon\":[94.88172043010752],\"marker\":{\"color\":\"#636efa\",\"size\":[5],\"sizemode\":\"area\",\"sizeref\":0.025},\"mode\":\"markers\",\"name\":\"path_no_obstacle\",\"showlegend\":true,\"subplot\":\"mapbox\",\"type\":\"scattermapbox\"},{\"hovertemplate\":\"<b>%{hovertext}</b><br><br>type=path_with_obstacle<br>timestep=13000.0<br>size=%{marker.size}<br>lat=%{lat}<br>lon=%{lon}<extra></extra>\",\"hovertext\":[\"path_with_obstacle\"],\"lat\":[-30.87883959044369],\"legendgroup\":\"path_with_obstacle\",\"lon\":[88.62116040955631],\"marker\":{\"color\":\"#EF553B\",\"size\":[5],\"sizemode\":\"area\",\"sizeref\":0.025},\"mode\":\"markers\",\"name\":\"path_with_obstacle\",\"showlegend\":true,\"subplot\":\"mapbox\",\"type\":\"scattermapbox\"}],\"name\":\"13000.0\"},{\"data\":[{\"hovertemplate\":\"<b>%{hovertext}</b><br><br>type=path_no_obstacle<br>timestep=13200.0<br>size=%{marker.size}<br>lat=%{lat}<br>lon=%{lon}<extra></extra>\",\"hovertext\":[\"path_no_obstacle\"],\"lat\":[-42.05797101449275],\"legendgroup\":\"path_no_obstacle\",\"lon\":[93.44202898550724],\"marker\":{\"color\":\"#636efa\",\"size\":[5],\"sizemode\":\"area\",\"sizeref\":0.025},\"mode\":\"markers\",\"name\":\"path_no_obstacle\",\"showlegend\":true,\"subplot\":\"mapbox\",\"type\":\"scattermapbox\"},{\"hovertemplate\":\"<b>%{hovertext}</b><br><br>type=path_with_obstacle<br>timestep=13200.0<br>size=%{marker.size}<br>lat=%{lat}<br>lon=%{lon}<extra></extra>\",\"hovertext\":[\"path_with_obstacle\"],\"lat\":[-32.251724137931035],\"legendgroup\":\"path_with_obstacle\",\"lon\":[87.24827586206897],\"marker\":{\"color\":\"#EF553B\",\"size\":[5],\"sizemode\":\"area\",\"sizeref\":0.025},\"mode\":\"markers\",\"name\":\"path_with_obstacle\",\"showlegend\":true,\"subplot\":\"mapbox\",\"type\":\"scattermapbox\"}],\"name\":\"13200.0\"},{\"data\":[{\"hovertemplate\":\"<b>%{hovertext}</b><br><br>type=path_no_obstacle<br>timestep=13400.0<br>size=%{marker.size}<br>lat=%{lat}<br>lon=%{lon}<extra></extra>\",\"hovertext\":[\"path_no_obstacle\"],\"lat\":[-43.5],\"legendgroup\":\"path_no_obstacle\",\"lon\":[91.98757763975156],\"marker\":{\"color\":\"#636efa\",\"size\":[5],\"sizemode\":\"area\",\"sizeref\":0.025},\"mode\":\"markers\",\"name\":\"path_no_obstacle\",\"showlegend\":true,\"subplot\":\"mapbox\",\"type\":\"scattermapbox\"},{\"hovertemplate\":\"<b>%{hovertext}</b><br><br>type=path_with_obstacle<br>timestep=13400.0<br>size=%{marker.size}<br>lat=%{lat}<br>lon=%{lon}<extra></extra>\",\"hovertext\":[\"path_with_obstacle\"],\"lat\":[-33.63194444444444],\"legendgroup\":\"path_with_obstacle\",\"lon\":[85.86805555555556],\"marker\":{\"color\":\"#EF553B\",\"size\":[5],\"sizemode\":\"area\",\"sizeref\":0.025},\"mode\":\"markers\",\"name\":\"path_with_obstacle\",\"showlegend\":true,\"subplot\":\"mapbox\",\"type\":\"scattermapbox\"}],\"name\":\"13400.0\"},{\"data\":[{\"hovertemplate\":\"<b>%{hovertext}</b><br><br>type=path_no_obstacle<br>timestep=13600.0<br>size=%{marker.size}<br>lat=%{lat}<br>lon=%{lon}<extra></extra>\",\"hovertext\":[\"path_no_obstacle\"],\"lat\":[-43.5],\"legendgroup\":\"path_no_obstacle\",\"lon\":[89.5031055900621],\"marker\":{\"color\":\"#636efa\",\"size\":[5],\"sizemode\":\"area\",\"sizeref\":0.025},\"mode\":\"markers\",\"name\":\"path_no_obstacle\",\"showlegend\":true,\"subplot\":\"mapbox\",\"type\":\"scattermapbox\"},{\"hovertemplate\":\"<b>%{hovertext}</b><br><br>type=path_with_obstacle<br>timestep=13600.0<br>size=%{marker.size}<br>lat=%{lat}<br>lon=%{lon}<extra></extra>\",\"hovertext\":[\"path_with_obstacle\"],\"lat\":[-35.020833333333336],\"legendgroup\":\"path_with_obstacle\",\"lon\":[84.47916666666667],\"marker\":{\"color\":\"#EF553B\",\"size\":[5],\"sizemode\":\"area\",\"sizeref\":0.025},\"mode\":\"markers\",\"name\":\"path_with_obstacle\",\"showlegend\":true,\"subplot\":\"mapbox\",\"type\":\"scattermapbox\"}],\"name\":\"13600.0\"},{\"data\":[{\"hovertemplate\":\"<b>%{hovertext}</b><br><br>type=path_no_obstacle<br>timestep=13800.0<br>size=%{marker.size}<br>lat=%{lat}<br>lon=%{lon}<extra></extra>\",\"hovertext\":[\"path_no_obstacle\"],\"lat\":[-43.5],\"legendgroup\":\"path_no_obstacle\",\"lon\":[87.01863354037268],\"marker\":{\"color\":\"#636efa\",\"size\":[5],\"sizemode\":\"area\",\"sizeref\":0.025},\"mode\":\"markers\",\"name\":\"path_no_obstacle\",\"showlegend\":true,\"subplot\":\"mapbox\",\"type\":\"scattermapbox\"},{\"hovertemplate\":\"<b>%{hovertext}</b><br><br>type=path_with_obstacle<br>timestep=13800.0<br>size=%{marker.size}<br>lat=%{lat}<br>lon=%{lon}<extra></extra>\",\"hovertext\":[\"path_with_obstacle\"],\"lat\":[-36.41929824561404],\"legendgroup\":\"path_with_obstacle\",\"lon\":[83.08070175438597],\"marker\":{\"color\":\"#EF553B\",\"size\":[5],\"sizemode\":\"area\",\"sizeref\":0.025},\"mode\":\"markers\",\"name\":\"path_with_obstacle\",\"showlegend\":true,\"subplot\":\"mapbox\",\"type\":\"scattermapbox\"}],\"name\":\"13800.0\"},{\"data\":[{\"hovertemplate\":\"<b>%{hovertext}</b><br><br>type=path_no_obstacle<br>timestep=14000.0<br>size=%{marker.size}<br>lat=%{lat}<br>lon=%{lon}<extra></extra>\",\"hovertext\":[\"path_no_obstacle\"],\"lat\":[-43.5],\"legendgroup\":\"path_no_obstacle\",\"lon\":[84.53416149068323],\"marker\":{\"color\":\"#636efa\",\"size\":[5],\"sizemode\":\"area\",\"sizeref\":0.025},\"mode\":\"markers\",\"name\":\"path_no_obstacle\",\"showlegend\":true,\"subplot\":\"mapbox\",\"type\":\"scattermapbox\"},{\"hovertemplate\":\"<b>%{hovertext}</b><br><br>type=path_with_obstacle<br>timestep=14000.0<br>size=%{marker.size}<br>lat=%{lat}<br>lon=%{lon}<extra></extra>\",\"hovertext\":[\"path_with_obstacle\"],\"lat\":[-37.826241134751776],\"legendgroup\":\"path_with_obstacle\",\"lon\":[81.67375886524823],\"marker\":{\"color\":\"#EF553B\",\"size\":[5],\"sizemode\":\"area\",\"sizeref\":0.025},\"mode\":\"markers\",\"name\":\"path_with_obstacle\",\"showlegend\":true,\"subplot\":\"mapbox\",\"type\":\"scattermapbox\"}],\"name\":\"14000.0\"},{\"data\":[{\"hovertemplate\":\"<b>%{hovertext}</b><br><br>type=path_no_obstacle<br>timestep=14200.0<br>size=%{marker.size}<br>lat=%{lat}<br>lon=%{lon}<extra></extra>\",\"hovertext\":[\"path_no_obstacle\"],\"lat\":[-43.5],\"legendgroup\":\"path_no_obstacle\",\"lon\":[82.04968944099379],\"marker\":{\"color\":\"#636efa\",\"size\":[5],\"sizemode\":\"area\",\"sizeref\":0.025},\"mode\":\"markers\",\"name\":\"path_no_obstacle\",\"showlegend\":true,\"subplot\":\"mapbox\",\"type\":\"scattermapbox\"},{\"hovertemplate\":\"<b>%{hovertext}</b><br><br>type=path_with_obstacle<br>timestep=14200.0<br>size=%{marker.size}<br>lat=%{lat}<br>lon=%{lon}<extra></extra>\",\"hovertext\":[\"path_with_obstacle\"],\"lat\":[-39.24468085106383],\"legendgroup\":\"path_with_obstacle\",\"lon\":[80.25531914893617],\"marker\":{\"color\":\"#EF553B\",\"size\":[5],\"sizemode\":\"area\",\"sizeref\":0.025},\"mode\":\"markers\",\"name\":\"path_with_obstacle\",\"showlegend\":true,\"subplot\":\"mapbox\",\"type\":\"scattermapbox\"}],\"name\":\"14200.0\"},{\"data\":[{\"hovertemplate\":\"<b>%{hovertext}</b><br><br>type=path_no_obstacle<br>timestep=14400.0<br>size=%{marker.size}<br>lat=%{lat}<br>lon=%{lon}<extra></extra>\",\"hovertext\":[\"path_no_obstacle\"],\"lat\":[-43.5],\"legendgroup\":\"path_no_obstacle\",\"lon\":[79.56521739130434],\"marker\":{\"color\":\"#636efa\",\"size\":[5],\"sizemode\":\"area\",\"sizeref\":0.025},\"mode\":\"markers\",\"name\":\"path_no_obstacle\",\"showlegend\":true,\"subplot\":\"mapbox\",\"type\":\"scattermapbox\"},{\"hovertemplate\":\"<b>%{hovertext}</b><br><br>type=path_with_obstacle<br>timestep=14400.0<br>size=%{marker.size}<br>lat=%{lat}<br>lon=%{lon}<extra></extra>\",\"hovertext\":[\"path_with_obstacle\"],\"lat\":[-40.67562724014337],\"legendgroup\":\"path_with_obstacle\",\"lon\":[78.82437275985663],\"marker\":{\"color\":\"#EF553B\",\"size\":[5],\"sizemode\":\"area\",\"sizeref\":0.025},\"mode\":\"markers\",\"name\":\"path_with_obstacle\",\"showlegend\":true,\"subplot\":\"mapbox\",\"type\":\"scattermapbox\"}],\"name\":\"14400.0\"},{\"data\":[{\"hovertemplate\":\"<b>%{hovertext}</b><br><br>type=path_no_obstacle<br>timestep=14600.0<br>size=%{marker.size}<br>lat=%{lat}<br>lon=%{lon}<extra></extra>\",\"hovertext\":[\"path_no_obstacle\"],\"lat\":[-43.5],\"legendgroup\":\"path_no_obstacle\",\"lon\":[77.0807453416149],\"marker\":{\"color\":\"#636efa\",\"size\":[5],\"sizemode\":\"area\",\"sizeref\":0.025},\"mode\":\"markers\",\"name\":\"path_no_obstacle\",\"showlegend\":true,\"subplot\":\"mapbox\",\"type\":\"scattermapbox\"},{\"hovertemplate\":\"<b>%{hovertext}</b><br><br>type=path_with_obstacle<br>timestep=14600.0<br>size=%{marker.size}<br>lat=%{lat}<br>lon=%{lon}<extra></extra>\",\"hovertext\":[\"path_with_obstacle\"],\"lat\":[-42.11594202898551],\"legendgroup\":\"path_with_obstacle\",\"lon\":[77.3840579710145],\"marker\":{\"color\":\"#EF553B\",\"size\":[5],\"sizemode\":\"area\",\"sizeref\":0.025},\"mode\":\"markers\",\"name\":\"path_with_obstacle\",\"showlegend\":true,\"subplot\":\"mapbox\",\"type\":\"scattermapbox\"}],\"name\":\"14600.0\"},{\"data\":[{\"hovertemplate\":\"<b>%{hovertext}</b><br><br>type=path_no_obstacle<br>timestep=14800.0<br>size=%{marker.size}<br>lat=%{lat}<br>lon=%{lon}<extra></extra>\",\"hovertext\":[\"path_no_obstacle\"],\"lat\":[-43.5],\"legendgroup\":\"path_no_obstacle\",\"lon\":[74.59627329192547],\"marker\":{\"color\":\"#636efa\",\"size\":[5],\"sizemode\":\"area\",\"sizeref\":0.025},\"mode\":\"markers\",\"name\":\"path_no_obstacle\",\"showlegend\":true,\"subplot\":\"mapbox\",\"type\":\"scattermapbox\"},{\"hovertemplate\":\"<b>%{hovertext}</b><br><br>type=path_with_obstacle<br>timestep=14800.0<br>size=%{marker.size}<br>lat=%{lat}<br>lon=%{lon}<extra></extra>\",\"hovertext\":[\"path_with_obstacle\"],\"lat\":[-43.5],\"legendgroup\":\"path_with_obstacle\",\"lon\":[75.88819875776397],\"marker\":{\"color\":\"#EF553B\",\"size\":[5],\"sizemode\":\"area\",\"sizeref\":0.025},\"mode\":\"markers\",\"name\":\"path_with_obstacle\",\"showlegend\":true,\"subplot\":\"mapbox\",\"type\":\"scattermapbox\"}],\"name\":\"14800.0\"},{\"data\":[{\"hovertemplate\":\"<b>%{hovertext}</b><br><br>type=path_no_obstacle<br>timestep=15000.0<br>size=%{marker.size}<br>lat=%{lat}<br>lon=%{lon}<extra></extra>\",\"hovertext\":[\"path_no_obstacle\"],\"lat\":[-43.5],\"legendgroup\":\"path_no_obstacle\",\"lon\":[72.11180124223603],\"marker\":{\"color\":\"#636efa\",\"size\":[5],\"sizemode\":\"area\",\"sizeref\":0.025},\"mode\":\"markers\",\"name\":\"path_no_obstacle\",\"showlegend\":true,\"subplot\":\"mapbox\",\"type\":\"scattermapbox\"},{\"hovertemplate\":\"<b>%{hovertext}</b><br><br>type=path_with_obstacle<br>timestep=15000.0<br>size=%{marker.size}<br>lat=%{lat}<br>lon=%{lon}<extra></extra>\",\"hovertext\":[\"path_with_obstacle\"],\"lat\":[-43.5],\"legendgroup\":\"path_with_obstacle\",\"lon\":[73.40372670807453],\"marker\":{\"color\":\"#EF553B\",\"size\":[5],\"sizemode\":\"area\",\"sizeref\":0.025},\"mode\":\"markers\",\"name\":\"path_with_obstacle\",\"showlegend\":true,\"subplot\":\"mapbox\",\"type\":\"scattermapbox\"}],\"name\":\"15000.0\"},{\"data\":[{\"hovertemplate\":\"<b>%{hovertext}</b><br><br>type=path_no_obstacle<br>timestep=15200.0<br>size=%{marker.size}<br>lat=%{lat}<br>lon=%{lon}<extra></extra>\",\"hovertext\":[\"path_no_obstacle\"],\"lat\":[-43.5],\"legendgroup\":\"path_no_obstacle\",\"lon\":[69.62732919254658],\"marker\":{\"color\":\"#636efa\",\"size\":[5],\"sizemode\":\"area\",\"sizeref\":0.025},\"mode\":\"markers\",\"name\":\"path_no_obstacle\",\"showlegend\":true,\"subplot\":\"mapbox\",\"type\":\"scattermapbox\"},{\"hovertemplate\":\"<b>%{hovertext}</b><br><br>type=path_with_obstacle<br>timestep=15200.0<br>size=%{marker.size}<br>lat=%{lat}<br>lon=%{lon}<extra></extra>\",\"hovertext\":[\"path_with_obstacle\"],\"lat\":[-43.5],\"legendgroup\":\"path_with_obstacle\",\"lon\":[70.9192546583851],\"marker\":{\"color\":\"#EF553B\",\"size\":[5],\"sizemode\":\"area\",\"sizeref\":0.025},\"mode\":\"markers\",\"name\":\"path_with_obstacle\",\"showlegend\":true,\"subplot\":\"mapbox\",\"type\":\"scattermapbox\"}],\"name\":\"15200.0\"},{\"data\":[{\"hovertemplate\":\"<b>%{hovertext}</b><br><br>type=path_no_obstacle<br>timestep=15400.0<br>size=%{marker.size}<br>lat=%{lat}<br>lon=%{lon}<extra></extra>\",\"hovertext\":[\"path_no_obstacle\"],\"lat\":[-43.5],\"legendgroup\":\"path_no_obstacle\",\"lon\":[67.14285714285714],\"marker\":{\"color\":\"#636efa\",\"size\":[5],\"sizemode\":\"area\",\"sizeref\":0.025},\"mode\":\"markers\",\"name\":\"path_no_obstacle\",\"showlegend\":true,\"subplot\":\"mapbox\",\"type\":\"scattermapbox\"},{\"hovertemplate\":\"<b>%{hovertext}</b><br><br>type=path_with_obstacle<br>timestep=15400.0<br>size=%{marker.size}<br>lat=%{lat}<br>lon=%{lon}<extra></extra>\",\"hovertext\":[\"path_with_obstacle\"],\"lat\":[-43.5],\"legendgroup\":\"path_with_obstacle\",\"lon\":[68.43478260869566],\"marker\":{\"color\":\"#EF553B\",\"size\":[5],\"sizemode\":\"area\",\"sizeref\":0.025},\"mode\":\"markers\",\"name\":\"path_with_obstacle\",\"showlegend\":true,\"subplot\":\"mapbox\",\"type\":\"scattermapbox\"}],\"name\":\"15400.0\"},{\"data\":[{\"hovertemplate\":\"<b>%{hovertext}</b><br><br>type=path_no_obstacle<br>timestep=15600.0<br>size=%{marker.size}<br>lat=%{lat}<br>lon=%{lon}<extra></extra>\",\"hovertext\":[\"path_no_obstacle\"],\"lat\":[-43.5],\"legendgroup\":\"path_no_obstacle\",\"lon\":[64.65838509316771],\"marker\":{\"color\":\"#636efa\",\"size\":[5],\"sizemode\":\"area\",\"sizeref\":0.025},\"mode\":\"markers\",\"name\":\"path_no_obstacle\",\"showlegend\":true,\"subplot\":\"mapbox\",\"type\":\"scattermapbox\"},{\"hovertemplate\":\"<b>%{hovertext}</b><br><br>type=path_with_obstacle<br>timestep=15600.0<br>size=%{marker.size}<br>lat=%{lat}<br>lon=%{lon}<extra></extra>\",\"hovertext\":[\"path_with_obstacle\"],\"lat\":[-43.5],\"legendgroup\":\"path_with_obstacle\",\"lon\":[65.95031055900621],\"marker\":{\"color\":\"#EF553B\",\"size\":[5],\"sizemode\":\"area\",\"sizeref\":0.025},\"mode\":\"markers\",\"name\":\"path_with_obstacle\",\"showlegend\":true,\"subplot\":\"mapbox\",\"type\":\"scattermapbox\"}],\"name\":\"15600.0\"},{\"data\":[{\"hovertemplate\":\"<b>%{hovertext}</b><br><br>type=path_no_obstacle<br>timestep=15800.0<br>size=%{marker.size}<br>lat=%{lat}<br>lon=%{lon}<extra></extra>\",\"hovertext\":[\"path_no_obstacle\"],\"lat\":[-43.5],\"legendgroup\":\"path_no_obstacle\",\"lon\":[62.17391304347826],\"marker\":{\"color\":\"#636efa\",\"size\":[5],\"sizemode\":\"area\",\"sizeref\":0.025},\"mode\":\"markers\",\"name\":\"path_no_obstacle\",\"showlegend\":true,\"subplot\":\"mapbox\",\"type\":\"scattermapbox\"},{\"hovertemplate\":\"<b>%{hovertext}</b><br><br>type=path_with_obstacle<br>timestep=15800.0<br>size=%{marker.size}<br>lat=%{lat}<br>lon=%{lon}<extra></extra>\",\"hovertext\":[\"path_with_obstacle\"],\"lat\":[-43.5],\"legendgroup\":\"path_with_obstacle\",\"lon\":[63.46583850931677],\"marker\":{\"color\":\"#EF553B\",\"size\":[5],\"sizemode\":\"area\",\"sizeref\":0.025},\"mode\":\"markers\",\"name\":\"path_with_obstacle\",\"showlegend\":true,\"subplot\":\"mapbox\",\"type\":\"scattermapbox\"}],\"name\":\"15800.0\"},{\"data\":[{\"hovertemplate\":\"<b>%{hovertext}</b><br><br>type=path_no_obstacle<br>timestep=16000.0<br>size=%{marker.size}<br>lat=%{lat}<br>lon=%{lon}<extra></extra>\",\"hovertext\":[\"path_no_obstacle\"],\"lat\":[-43.5],\"legendgroup\":\"path_no_obstacle\",\"lon\":[59.68944099378882],\"marker\":{\"color\":\"#636efa\",\"size\":[5],\"sizemode\":\"area\",\"sizeref\":0.025},\"mode\":\"markers\",\"name\":\"path_no_obstacle\",\"showlegend\":true,\"subplot\":\"mapbox\",\"type\":\"scattermapbox\"},{\"hovertemplate\":\"<b>%{hovertext}</b><br><br>type=path_with_obstacle<br>timestep=16000.0<br>size=%{marker.size}<br>lat=%{lat}<br>lon=%{lon}<extra></extra>\",\"hovertext\":[\"path_with_obstacle\"],\"lat\":[-43.5],\"legendgroup\":\"path_with_obstacle\",\"lon\":[60.98136645962733],\"marker\":{\"color\":\"#EF553B\",\"size\":[5],\"sizemode\":\"area\",\"sizeref\":0.025},\"mode\":\"markers\",\"name\":\"path_with_obstacle\",\"showlegend\":true,\"subplot\":\"mapbox\",\"type\":\"scattermapbox\"}],\"name\":\"16000.0\"},{\"data\":[{\"hovertemplate\":\"<b>%{hovertext}</b><br><br>type=path_no_obstacle<br>timestep=16200.0<br>size=%{marker.size}<br>lat=%{lat}<br>lon=%{lon}<extra></extra>\",\"hovertext\":[\"path_no_obstacle\"],\"lat\":[-43.5],\"legendgroup\":\"path_no_obstacle\",\"lon\":[57.20496894409938],\"marker\":{\"color\":\"#636efa\",\"size\":[5],\"sizemode\":\"area\",\"sizeref\":0.025},\"mode\":\"markers\",\"name\":\"path_no_obstacle\",\"showlegend\":true,\"subplot\":\"mapbox\",\"type\":\"scattermapbox\"},{\"hovertemplate\":\"<b>%{hovertext}</b><br><br>type=path_with_obstacle<br>timestep=16200.0<br>size=%{marker.size}<br>lat=%{lat}<br>lon=%{lon}<extra></extra>\",\"hovertext\":[\"path_with_obstacle\"],\"lat\":[-43.5],\"legendgroup\":\"path_with_obstacle\",\"lon\":[58.49689440993789],\"marker\":{\"color\":\"#EF553B\",\"size\":[5],\"sizemode\":\"area\",\"sizeref\":0.025},\"mode\":\"markers\",\"name\":\"path_with_obstacle\",\"showlegend\":true,\"subplot\":\"mapbox\",\"type\":\"scattermapbox\"}],\"name\":\"16200.0\"},{\"data\":[{\"hovertemplate\":\"<b>%{hovertext}</b><br><br>type=path_no_obstacle<br>timestep=16400.0<br>size=%{marker.size}<br>lat=%{lat}<br>lon=%{lon}<extra></extra>\",\"hovertext\":[\"path_no_obstacle\"],\"lat\":[-43.5],\"legendgroup\":\"path_no_obstacle\",\"lon\":[54.72049689440994],\"marker\":{\"color\":\"#636efa\",\"size\":[5],\"sizemode\":\"area\",\"sizeref\":0.025},\"mode\":\"markers\",\"name\":\"path_no_obstacle\",\"showlegend\":true,\"subplot\":\"mapbox\",\"type\":\"scattermapbox\"},{\"hovertemplate\":\"<b>%{hovertext}</b><br><br>type=path_with_obstacle<br>timestep=16400.0<br>size=%{marker.size}<br>lat=%{lat}<br>lon=%{lon}<extra></extra>\",\"hovertext\":[\"path_with_obstacle\"],\"lat\":[-43.5],\"legendgroup\":\"path_with_obstacle\",\"lon\":[56.01242236024845],\"marker\":{\"color\":\"#EF553B\",\"size\":[5],\"sizemode\":\"area\",\"sizeref\":0.025},\"mode\":\"markers\",\"name\":\"path_with_obstacle\",\"showlegend\":true,\"subplot\":\"mapbox\",\"type\":\"scattermapbox\"}],\"name\":\"16400.0\"},{\"data\":[{\"hovertemplate\":\"<b>%{hovertext}</b><br><br>type=path_no_obstacle<br>timestep=16600.0<br>size=%{marker.size}<br>lat=%{lat}<br>lon=%{lon}<extra></extra>\",\"hovertext\":[\"path_no_obstacle\"],\"lat\":[-43.5],\"legendgroup\":\"path_no_obstacle\",\"lon\":[52.2360248447205],\"marker\":{\"color\":\"#636efa\",\"size\":[5],\"sizemode\":\"area\",\"sizeref\":0.025},\"mode\":\"markers\",\"name\":\"path_no_obstacle\",\"showlegend\":true,\"subplot\":\"mapbox\",\"type\":\"scattermapbox\"},{\"hovertemplate\":\"<b>%{hovertext}</b><br><br>type=path_with_obstacle<br>timestep=16600.0<br>size=%{marker.size}<br>lat=%{lat}<br>lon=%{lon}<extra></extra>\",\"hovertext\":[\"path_with_obstacle\"],\"lat\":[-43.5],\"legendgroup\":\"path_with_obstacle\",\"lon\":[53.52795031055901],\"marker\":{\"color\":\"#EF553B\",\"size\":[5],\"sizemode\":\"area\",\"sizeref\":0.025},\"mode\":\"markers\",\"name\":\"path_with_obstacle\",\"showlegend\":true,\"subplot\":\"mapbox\",\"type\":\"scattermapbox\"}],\"name\":\"16600.0\"},{\"data\":[{\"hovertemplate\":\"<b>%{hovertext}</b><br><br>type=path_no_obstacle<br>timestep=16800.0<br>size=%{marker.size}<br>lat=%{lat}<br>lon=%{lon}<extra></extra>\",\"hovertext\":[\"path_no_obstacle\"],\"lat\":[-43.5],\"legendgroup\":\"path_no_obstacle\",\"lon\":[49.75155279503105],\"marker\":{\"color\":\"#636efa\",\"size\":[5],\"sizemode\":\"area\",\"sizeref\":0.025},\"mode\":\"markers\",\"name\":\"path_no_obstacle\",\"showlegend\":true,\"subplot\":\"mapbox\",\"type\":\"scattermapbox\"},{\"hovertemplate\":\"<b>%{hovertext}</b><br><br>type=path_with_obstacle<br>timestep=16800.0<br>size=%{marker.size}<br>lat=%{lat}<br>lon=%{lon}<extra></extra>\",\"hovertext\":[\"path_with_obstacle\"],\"lat\":[-43.5],\"legendgroup\":\"path_with_obstacle\",\"lon\":[51.04347826086956],\"marker\":{\"color\":\"#EF553B\",\"size\":[5],\"sizemode\":\"area\",\"sizeref\":0.025},\"mode\":\"markers\",\"name\":\"path_with_obstacle\",\"showlegend\":true,\"subplot\":\"mapbox\",\"type\":\"scattermapbox\"}],\"name\":\"16800.0\"},{\"data\":[{\"hovertemplate\":\"<b>%{hovertext}</b><br><br>type=path_no_obstacle<br>timestep=17000.0<br>size=%{marker.size}<br>lat=%{lat}<br>lon=%{lon}<extra></extra>\",\"hovertext\":[\"path_no_obstacle\"],\"lat\":[-43.5],\"legendgroup\":\"path_no_obstacle\",\"lon\":[47.267080745341616],\"marker\":{\"color\":\"#636efa\",\"size\":[5],\"sizemode\":\"area\",\"sizeref\":0.025},\"mode\":\"markers\",\"name\":\"path_no_obstacle\",\"showlegend\":true,\"subplot\":\"mapbox\",\"type\":\"scattermapbox\"},{\"hovertemplate\":\"<b>%{hovertext}</b><br><br>type=path_with_obstacle<br>timestep=17000.0<br>size=%{marker.size}<br>lat=%{lat}<br>lon=%{lon}<extra></extra>\",\"hovertext\":[\"path_with_obstacle\"],\"lat\":[-43.5],\"legendgroup\":\"path_with_obstacle\",\"lon\":[48.559006211180126],\"marker\":{\"color\":\"#EF553B\",\"size\":[5],\"sizemode\":\"area\",\"sizeref\":0.025},\"mode\":\"markers\",\"name\":\"path_with_obstacle\",\"showlegend\":true,\"subplot\":\"mapbox\",\"type\":\"scattermapbox\"}],\"name\":\"17000.0\"},{\"data\":[{\"hovertemplate\":\"<b>%{hovertext}</b><br><br>type=path_no_obstacle<br>timestep=17200.0<br>size=%{marker.size}<br>lat=%{lat}<br>lon=%{lon}<extra></extra>\",\"hovertext\":[\"path_no_obstacle\"],\"lat\":[-43.5],\"legendgroup\":\"path_no_obstacle\",\"lon\":[44.78260869565217],\"marker\":{\"color\":\"#636efa\",\"size\":[5],\"sizemode\":\"area\",\"sizeref\":0.025},\"mode\":\"markers\",\"name\":\"path_no_obstacle\",\"showlegend\":true,\"subplot\":\"mapbox\",\"type\":\"scattermapbox\"},{\"hovertemplate\":\"<b>%{hovertext}</b><br><br>type=path_with_obstacle<br>timestep=17200.0<br>size=%{marker.size}<br>lat=%{lat}<br>lon=%{lon}<extra></extra>\",\"hovertext\":[\"path_with_obstacle\"],\"lat\":[-43.5],\"legendgroup\":\"path_with_obstacle\",\"lon\":[46.07453416149068],\"marker\":{\"color\":\"#EF553B\",\"size\":[5],\"sizemode\":\"area\",\"sizeref\":0.025},\"mode\":\"markers\",\"name\":\"path_with_obstacle\",\"showlegend\":true,\"subplot\":\"mapbox\",\"type\":\"scattermapbox\"}],\"name\":\"17200.0\"},{\"data\":[{\"hovertemplate\":\"<b>%{hovertext}</b><br><br>type=path_no_obstacle<br>timestep=17400.0<br>size=%{marker.size}<br>lat=%{lat}<br>lon=%{lon}<extra></extra>\",\"hovertext\":[\"path_no_obstacle\"],\"lat\":[-43.5],\"legendgroup\":\"path_no_obstacle\",\"lon\":[42.298136645962735],\"marker\":{\"color\":\"#636efa\",\"size\":[5],\"sizemode\":\"area\",\"sizeref\":0.025},\"mode\":\"markers\",\"name\":\"path_no_obstacle\",\"showlegend\":true,\"subplot\":\"mapbox\",\"type\":\"scattermapbox\"},{\"hovertemplate\":\"<b>%{hovertext}</b><br><br>type=path_with_obstacle<br>timestep=17400.0<br>size=%{marker.size}<br>lat=%{lat}<br>lon=%{lon}<extra></extra>\",\"hovertext\":[\"path_with_obstacle\"],\"lat\":[-43.5],\"legendgroup\":\"path_with_obstacle\",\"lon\":[43.590062111801245],\"marker\":{\"color\":\"#EF553B\",\"size\":[5],\"sizemode\":\"area\",\"sizeref\":0.025},\"mode\":\"markers\",\"name\":\"path_with_obstacle\",\"showlegend\":true,\"subplot\":\"mapbox\",\"type\":\"scattermapbox\"}],\"name\":\"17400.0\"},{\"data\":[{\"hovertemplate\":\"<b>%{hovertext}</b><br><br>type=path_no_obstacle<br>timestep=17600.0<br>size=%{marker.size}<br>lat=%{lat}<br>lon=%{lon}<extra></extra>\",\"hovertext\":[\"path_no_obstacle\"],\"lat\":[-43.5],\"legendgroup\":\"path_no_obstacle\",\"lon\":[39.81366459627329],\"marker\":{\"color\":\"#636efa\",\"size\":[5],\"sizemode\":\"area\",\"sizeref\":0.025},\"mode\":\"markers\",\"name\":\"path_no_obstacle\",\"showlegend\":true,\"subplot\":\"mapbox\",\"type\":\"scattermapbox\"},{\"hovertemplate\":\"<b>%{hovertext}</b><br><br>type=path_with_obstacle<br>timestep=17600.0<br>size=%{marker.size}<br>lat=%{lat}<br>lon=%{lon}<extra></extra>\",\"hovertext\":[\"path_with_obstacle\"],\"lat\":[-43.5],\"legendgroup\":\"path_with_obstacle\",\"lon\":[41.1055900621118],\"marker\":{\"color\":\"#EF553B\",\"size\":[5],\"sizemode\":\"area\",\"sizeref\":0.025},\"mode\":\"markers\",\"name\":\"path_with_obstacle\",\"showlegend\":true,\"subplot\":\"mapbox\",\"type\":\"scattermapbox\"}],\"name\":\"17600.0\"},{\"data\":[{\"hovertemplate\":\"<b>%{hovertext}</b><br><br>type=path_no_obstacle<br>timestep=17800.0<br>size=%{marker.size}<br>lat=%{lat}<br>lon=%{lon}<extra></extra>\",\"hovertext\":[\"path_no_obstacle\"],\"lat\":[-43.5],\"legendgroup\":\"path_no_obstacle\",\"lon\":[37.329192546583855],\"marker\":{\"color\":\"#636efa\",\"size\":[5],\"sizemode\":\"area\",\"sizeref\":0.025},\"mode\":\"markers\",\"name\":\"path_no_obstacle\",\"showlegend\":true,\"subplot\":\"mapbox\",\"type\":\"scattermapbox\"},{\"hovertemplate\":\"<b>%{hovertext}</b><br><br>type=path_with_obstacle<br>timestep=17800.0<br>size=%{marker.size}<br>lat=%{lat}<br>lon=%{lon}<extra></extra>\",\"hovertext\":[\"path_with_obstacle\"],\"lat\":[-43.5],\"legendgroup\":\"path_with_obstacle\",\"lon\":[38.62111801242236],\"marker\":{\"color\":\"#EF553B\",\"size\":[5],\"sizemode\":\"area\",\"sizeref\":0.025},\"mode\":\"markers\",\"name\":\"path_with_obstacle\",\"showlegend\":true,\"subplot\":\"mapbox\",\"type\":\"scattermapbox\"}],\"name\":\"17800.0\"},{\"data\":[{\"hovertemplate\":\"<b>%{hovertext}</b><br><br>type=path_no_obstacle<br>timestep=18000.0<br>size=%{marker.size}<br>lat=%{lat}<br>lon=%{lon}<extra></extra>\",\"hovertext\":[\"path_no_obstacle\"],\"lat\":[-43.5],\"legendgroup\":\"path_no_obstacle\",\"lon\":[34.84472049689441],\"marker\":{\"color\":\"#636efa\",\"size\":[5],\"sizemode\":\"area\",\"sizeref\":0.025},\"mode\":\"markers\",\"name\":\"path_no_obstacle\",\"showlegend\":true,\"subplot\":\"mapbox\",\"type\":\"scattermapbox\"},{\"hovertemplate\":\"<b>%{hovertext}</b><br><br>type=path_with_obstacle<br>timestep=18000.0<br>size=%{marker.size}<br>lat=%{lat}<br>lon=%{lon}<extra></extra>\",\"hovertext\":[\"path_with_obstacle\"],\"lat\":[-43.5],\"legendgroup\":\"path_with_obstacle\",\"lon\":[36.13664596273292],\"marker\":{\"color\":\"#EF553B\",\"size\":[5],\"sizemode\":\"area\",\"sizeref\":0.025},\"mode\":\"markers\",\"name\":\"path_with_obstacle\",\"showlegend\":true,\"subplot\":\"mapbox\",\"type\":\"scattermapbox\"}],\"name\":\"18000.0\"},{\"data\":[{\"hovertemplate\":\"<b>%{hovertext}</b><br><br>type=path_no_obstacle<br>timestep=18200.0<br>size=%{marker.size}<br>lat=%{lat}<br>lon=%{lon}<extra></extra>\",\"hovertext\":[\"path_no_obstacle\"],\"lat\":[-43.5],\"legendgroup\":\"path_no_obstacle\",\"lon\":[32.36024844720497],\"marker\":{\"color\":\"#636efa\",\"size\":[5],\"sizemode\":\"area\",\"sizeref\":0.025},\"mode\":\"markers\",\"name\":\"path_no_obstacle\",\"showlegend\":true,\"subplot\":\"mapbox\",\"type\":\"scattermapbox\"},{\"hovertemplate\":\"<b>%{hovertext}</b><br><br>type=path_with_obstacle<br>timestep=18200.0<br>size=%{marker.size}<br>lat=%{lat}<br>lon=%{lon}<extra></extra>\",\"hovertext\":[\"path_with_obstacle\"],\"lat\":[-43.5],\"legendgroup\":\"path_with_obstacle\",\"lon\":[33.65217391304348],\"marker\":{\"color\":\"#EF553B\",\"size\":[5],\"sizemode\":\"area\",\"sizeref\":0.025},\"mode\":\"markers\",\"name\":\"path_with_obstacle\",\"showlegend\":true,\"subplot\":\"mapbox\",\"type\":\"scattermapbox\"}],\"name\":\"18200.0\"},{\"data\":[{\"hovertemplate\":\"<b>%{hovertext}</b><br><br>type=path_no_obstacle<br>timestep=18400.0<br>size=%{marker.size}<br>lat=%{lat}<br>lon=%{lon}<extra></extra>\",\"hovertext\":[\"path_no_obstacle\"],\"lat\":[-43.5],\"legendgroup\":\"path_no_obstacle\",\"lon\":[29.875776397515526],\"marker\":{\"color\":\"#636efa\",\"size\":[5],\"sizemode\":\"area\",\"sizeref\":0.025},\"mode\":\"markers\",\"name\":\"path_no_obstacle\",\"showlegend\":true,\"subplot\":\"mapbox\",\"type\":\"scattermapbox\"},{\"hovertemplate\":\"<b>%{hovertext}</b><br><br>type=path_with_obstacle<br>timestep=18400.0<br>size=%{marker.size}<br>lat=%{lat}<br>lon=%{lon}<extra></extra>\",\"hovertext\":[\"path_with_obstacle\"],\"lat\":[-43.5],\"legendgroup\":\"path_with_obstacle\",\"lon\":[31.16770186335404],\"marker\":{\"color\":\"#EF553B\",\"size\":[5],\"sizemode\":\"area\",\"sizeref\":0.025},\"mode\":\"markers\",\"name\":\"path_with_obstacle\",\"showlegend\":true,\"subplot\":\"mapbox\",\"type\":\"scattermapbox\"}],\"name\":\"18400.0\"},{\"data\":[{\"hovertemplate\":\"<b>%{hovertext}</b><br><br>type=path_no_obstacle<br>timestep=18600.0<br>size=%{marker.size}<br>lat=%{lat}<br>lon=%{lon}<extra></extra>\",\"hovertext\":[\"path_no_obstacle\"],\"lat\":[-43.5],\"legendgroup\":\"path_no_obstacle\",\"lon\":[27.39130434782609],\"marker\":{\"color\":\"#636efa\",\"size\":[5],\"sizemode\":\"area\",\"sizeref\":0.025},\"mode\":\"markers\",\"name\":\"path_no_obstacle\",\"showlegend\":true,\"subplot\":\"mapbox\",\"type\":\"scattermapbox\"},{\"hovertemplate\":\"<b>%{hovertext}</b><br><br>type=path_with_obstacle<br>timestep=18600.0<br>size=%{marker.size}<br>lat=%{lat}<br>lon=%{lon}<extra></extra>\",\"hovertext\":[\"path_with_obstacle\"],\"lat\":[-43.5],\"legendgroup\":\"path_with_obstacle\",\"lon\":[28.6832298136646],\"marker\":{\"color\":\"#EF553B\",\"size\":[5],\"sizemode\":\"area\",\"sizeref\":0.025},\"mode\":\"markers\",\"name\":\"path_with_obstacle\",\"showlegend\":true,\"subplot\":\"mapbox\",\"type\":\"scattermapbox\"}],\"name\":\"18600.0\"},{\"data\":[{\"hovertemplate\":\"<b>%{hovertext}</b><br><br>type=path_with_obstacle<br>timestep=18800.0<br>size=%{marker.size}<br>lat=%{lat}<br>lon=%{lon}<extra></extra>\",\"hovertext\":[\"path_with_obstacle\"],\"lat\":[-43.5],\"legendgroup\":\"path_with_obstacle\",\"lon\":[26.19875776397516],\"marker\":{\"color\":\"#EF553B\",\"size\":[5],\"sizemode\":\"area\",\"sizeref\":0.025},\"mode\":\"markers\",\"name\":\"path_with_obstacle\",\"showlegend\":true,\"subplot\":\"mapbox\",\"type\":\"scattermapbox\"}],\"name\":\"18800.0\"}]);\n",
       "                        }).then(function(){\n",
       "                            \n",
       "var gd = document.getElementById('5e51767e-ea11-43b0-a120-4a463ec6c78e');\n",
       "var x = new MutationObserver(function (mutations, observer) {{\n",
       "        var display = window.getComputedStyle(gd).display;\n",
       "        if (!display || display === 'none') {{\n",
       "            console.log([gd, 'removed!']);\n",
       "            Plotly.purge(gd);\n",
       "            observer.disconnect();\n",
       "        }}\n",
       "}});\n",
       "\n",
       "// Listen for the removal of the full notebook cells\n",
       "var notebookContainer = gd.closest('#notebook-container');\n",
       "if (notebookContainer) {{\n",
       "    x.observe(notebookContainer, {childList: true});\n",
       "}}\n",
       "\n",
       "// Listen for the clearing of the current output cell\n",
       "var outputEl = gd.closest('.output');\n",
       "if (outputEl) {{\n",
       "    x.observe(outputEl, {childList: true});\n",
       "}}\n",
       "\n",
       "                        })                };                });            </script>        </div>"
      ]
     },
     "metadata": {},
     "output_type": "display_data"
    }
   ],
   "source": [
    "\n",
    "def animate_map(time_col):\n",
    "    fig = px.scatter_mapbox(df,\n",
    "              lat=\"lat\" ,\n",
    "              lon=\"lon\",\n",
    "              hover_name='type',\n",
    "              color='type',\n",
    "              size = 'size',                            \n",
    "              animation_frame=time_col,\n",
    "              mapbox_style=\"basic\",\n",
    "              category_orders={\n",
    "              time_col:list(np.sort(df[time_col].unique()))\n",
    "              },                  \n",
    "              zoom=1)\n",
    "    fig.show();\n",
    "animate_map(time_col='timestep')"
   ]
  },
  {
   "cell_type": "code",
   "execution_count": null,
   "id": "139cab78",
   "metadata": {},
   "outputs": [],
   "source": []
  }
 ],
 "metadata": {
  "kernelspec": {
   "display_name": "Python 3 (ipykernel)",
   "language": "python",
   "name": "python3"
  },
  "language_info": {
   "codemirror_mode": {
    "name": "ipython",
    "version": 3
   },
   "file_extension": ".py",
   "mimetype": "text/x-python",
   "name": "python",
   "nbconvert_exporter": "python",
   "pygments_lexer": "ipython3",
   "version": "3.9.10"
  }
 },
 "nbformat": 4,
 "nbformat_minor": 5
}
